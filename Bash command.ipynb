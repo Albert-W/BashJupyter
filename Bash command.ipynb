{
 "cells": [
  {
   "cell_type": "code",
   "execution_count": 1,
   "id": "covered-ballot",
   "metadata": {},
   "outputs": [
    {
     "name": "stdout",
     "output_type": "stream",
     "text": [
      "/c/Users/eyicwux/Documents/github/BashJupyter\n"
     ]
    }
   ],
   "source": [
    "pwd"
   ]
  },
  {
   "cell_type": "code",
   "execution_count": 2,
   "id": "spread-switzerland",
   "metadata": {},
   "outputs": [
    {
     "name": "stdout",
     "output_type": "stream",
     "text": [
      "total 44\n",
      "drwxrwxrwx 1 ubuntu ubuntu  4096 Mar 27 10:36  \u001b[0m\u001b[34;42m.\u001b[0m/\n",
      "drwxrwxrwx 1 ubuntu ubuntu  4096 Mar 26 13:22  \u001b[34;42m..\u001b[0m/\n",
      "drwxrwxrwx 1 ubuntu ubuntu  4096 Mar 26 13:26  \u001b[34;42m.git\u001b[0m/\n",
      "drwxrwxrwx 1 ubuntu ubuntu  4096 Mar 27 10:36  \u001b[34;42m.ipynb_checkpoints\u001b[0m/\n",
      "-rwxrwxrwx 1 ubuntu ubuntu 33252 Mar 24 18:51 \u001b[01;32m'BRO Test.ipynb'\u001b[0m*\n",
      "-rwxrwxrwx 1 ubuntu ubuntu    72 Mar 27 10:36 \u001b[01;32m'Bash command.ipynb'\u001b[0m*\n",
      "-rwxrwxrwx 1 ubuntu ubuntu  6119 Mar 24 16:04 \u001b[01;32m'Path (java).ipynb'\u001b[0m*\n",
      "-rwxrwxrwx 1 ubuntu ubuntu    14 Mar 26 13:25  \u001b[01;32mREADME.md\u001b[0m*\n"
     ]
    }
   ],
   "source": [
    "ll"
   ]
  },
  {
   "cell_type": "code",
   "execution_count": 7,
   "id": "verbal-shift",
   "metadata": {},
   "outputs": [
    {
     "name": "stdout",
     "output_type": "stream",
     "text": [
      "Client Version: version.Info{Major:\"1\", Minor:\"20\", GitVersion:\"v1.20.2\", GitCommit:\"faecb196815e248d3ecfb03c680a4507229c2a56\", GitTreeState:\"clean\", BuildDate:\"2021-01-13T13:28:09Z\", GoVersion:\"go1.15.5\", Compiler:\"gc\", Platform:\"linux/amd64\"}\n",
      "Server Version: version.Info{Major:\"1\", Minor:\"19\", GitVersion:\"v1.19.3\", GitCommit:\"91fb1371fc570cfd3b3052012ce68fdd78b41c07\", GitTreeState:\"clean\", BuildDate:\"2020-10-28T08:47:48Z\", GoVersion:\"go1.15.2\", Compiler:\"gc\", Platform:\"linux/amd64\"}\n"
     ]
    }
   ],
   "source": [
    "kubectl version"
   ]
  },
  {
   "cell_type": "code",
   "execution_count": null,
   "id": "expanded-discipline",
   "metadata": {},
   "outputs": [],
   "source": []
  }
 ],
 "metadata": {
  "kernelspec": {
   "display_name": "Bash",
   "language": "bash",
   "name": "bash"
  },
  "language_info": {
   "codemirror_mode": "shell",
   "file_extension": ".sh",
   "mimetype": "text/x-sh",
   "name": "bash"
  }
 },
 "nbformat": 4,
 "nbformat_minor": 5
}
