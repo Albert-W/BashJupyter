{
 "cells": [
  {
   "cell_type": "code",
   "execution_count": 10,
   "id": "intense-climate",
   "metadata": {},
   "outputs": [],
   "source": [
    "import requests\n",
    "baseurl = 'http://localhost:7001'"
   ]
  },
  {
   "cell_type": "code",
   "execution_count": 11,
   "id": "aging-letters",
   "metadata": {},
   "outputs": [
    {
     "data": {
      "text/plain": [
       "'{\"availability\":\"Available\",\"ongoingAction\":{},\"registeredAgents\":[],\"status\":\"Healthy\"}'"
      ]
     },
     "execution_count": 11,
     "metadata": {},
     "output_type": "execute_result"
    }
   ],
   "source": [
    "result = requests.get(baseurl+'/v1/health')\n",
    "result.text"
   ]
  },
  {
   "cell_type": "code",
   "execution_count": 12,
   "id": "modular-acoustic",
   "metadata": {},
   "outputs": [
    {
     "data": {
      "text/plain": [
       "{'_links': {'self': {'href': 'http://localhost:7001/actuator',\n",
       "   'templated': False},\n",
       "  'beans': {'href': 'http://localhost:7001/actuator/beans',\n",
       "   'templated': False},\n",
       "  'caches-cache': {'href': 'http://localhost:7001/actuator/caches/{cache}',\n",
       "   'templated': True},\n",
       "  'caches': {'href': 'http://localhost:7001/actuator/caches',\n",
       "   'templated': False},\n",
       "  'health': {'href': 'http://localhost:7001/actuator/health',\n",
       "   'templated': False},\n",
       "  'health-path': {'href': 'http://localhost:7001/actuator/health/{*path}',\n",
       "   'templated': True},\n",
       "  'info': {'href': 'http://localhost:7001/actuator/info', 'templated': False},\n",
       "  'conditions': {'href': 'http://localhost:7001/actuator/conditions',\n",
       "   'templated': False},\n",
       "  'configprops': {'href': 'http://localhost:7001/actuator/configprops',\n",
       "   'templated': False},\n",
       "  'env': {'href': 'http://localhost:7001/actuator/env', 'templated': False},\n",
       "  'env-toMatch': {'href': 'http://localhost:7001/actuator/env/{toMatch}',\n",
       "   'templated': True},\n",
       "  'loggers': {'href': 'http://localhost:7001/actuator/loggers',\n",
       "   'templated': False},\n",
       "  'loggers-name': {'href': 'http://localhost:7001/actuator/loggers/{name}',\n",
       "   'templated': True},\n",
       "  'heapdump': {'href': 'http://localhost:7001/actuator/heapdump',\n",
       "   'templated': False},\n",
       "  'threaddump': {'href': 'http://localhost:7001/actuator/threaddump',\n",
       "   'templated': False},\n",
       "  'prometheus': {'href': 'http://localhost:7001/actuator/prometheus',\n",
       "   'templated': False},\n",
       "  'metrics-requiredMetricName': {'href': 'http://localhost:7001/actuator/metrics/{requiredMetricName}',\n",
       "   'templated': True},\n",
       "  'metrics': {'href': 'http://localhost:7001/actuator/metrics',\n",
       "   'templated': False},\n",
       "  'scheduledtasks': {'href': 'http://localhost:7001/actuator/scheduledtasks',\n",
       "   'templated': False},\n",
       "  'mappings': {'href': 'http://localhost:7001/actuator/mappings',\n",
       "   'templated': False}}}"
      ]
     },
     "execution_count": 12,
     "metadata": {},
     "output_type": "execute_result"
    }
   ],
   "source": [
    "result = requests.get(baseurl+'/actuator')\n",
    "result.json()"
   ]
  },
  {
   "cell_type": "code",
   "execution_count": 13,
   "id": "negative-walter",
   "metadata": {},
   "outputs": [
    {
     "data": {
      "text/plain": [
       "{'status': 'UP'}"
      ]
     },
     "execution_count": 13,
     "metadata": {},
     "output_type": "execute_result"
    }
   ],
   "source": [
    "result = requests.get(baseurl+'/actuator/health')\n",
    "result.json()"
   ]
  },
  {
   "cell_type": "code",
   "execution_count": 14,
   "id": "afraid-boxing",
   "metadata": {},
   "outputs": [
    {
     "data": {
      "text/plain": [
       "{}"
      ]
     },
     "execution_count": 14,
     "metadata": {},
     "output_type": "execute_result"
    }
   ],
   "source": [
    "result = requests.get(baseurl+'/actuator/info')\n",
    "result.json()"
   ]
  },
  {
   "cell_type": "code",
   "execution_count": 16,
   "id": "secure-latino",
   "metadata": {},
   "outputs": [
    {
     "data": {
      "text/plain": [
       "{'names': ['bro.disk.usage.bytes',\n",
       "  'bro.operations.total',\n",
       "  'bro.stored.backups',\n",
       "  'http.server.requests',\n",
       "  'jvm.buffer.count',\n",
       "  'jvm.buffer.memory.used',\n",
       "  'jvm.buffer.total.capacity',\n",
       "  'jvm.classes.loaded',\n",
       "  'jvm.classes.unloaded',\n",
       "  'jvm.gc.live.data.size',\n",
       "  'jvm.gc.max.data.size',\n",
       "  'jvm.gc.memory.allocated',\n",
       "  'jvm.gc.memory.promoted',\n",
       "  'jvm.gc.pause',\n",
       "  'jvm.memory.committed',\n",
       "  'jvm.memory.max',\n",
       "  'jvm.memory.used',\n",
       "  'jvm.threads.daemon',\n",
       "  'jvm.threads.live',\n",
       "  'jvm.threads.peak',\n",
       "  'jvm.threads.states',\n",
       "  'log4j2.events',\n",
       "  'process.cpu.usage',\n",
       "  'process.start.time',\n",
       "  'process.uptime',\n",
       "  'system.cpu.count',\n",
       "  'system.cpu.usage',\n",
       "  'tomcat.sessions.active.current',\n",
       "  'tomcat.sessions.active.max',\n",
       "  'tomcat.sessions.alive.max',\n",
       "  'tomcat.sessions.created',\n",
       "  'tomcat.sessions.expired',\n",
       "  'tomcat.sessions.rejected']}"
      ]
     },
     "execution_count": 16,
     "metadata": {},
     "output_type": "execute_result"
    }
   ],
   "source": [
    "result = requests.get(baseurl+'/actuator/metrics')\n",
    "result.json()"
   ]
  },
  {
   "cell_type": "code",
   "execution_count": 19,
   "id": "governing-pickup",
   "metadata": {},
   "outputs": [
    {
     "data": {
      "text/plain": [
       "'# HELP system_cpu_count The number of processors available to the Java virtual machine\\n# TYPE system_cpu_count gauge\\nsystem_cpu_count 8.0\\n# HELP bro_disk_usage_bytes Total size of the backup files on disk\\n# TYPE bro_disk_usage_bytes gauge\\nbro_disk_usage_bytes{backup_type=\"DEFAULT\",} 0.0\\n# HELP jvm_gc_max_data_size_bytes Max size of long-lived heap memory pool\\n# TYPE jvm_gc_max_data_size_bytes gauge\\njvm_gc_max_data_size_bytes 8.550088704E9\\n# HELP tomcat_sessions_created_sessions_total  \\n# TYPE tomcat_sessions_created_sessions_total counter\\ntomcat_sessions_created_sessions_total 0.0\\n# HELP jvm_memory_committed_bytes The amount of memory in bytes that is committed for the Java virtual machine to use\\n# TYPE jvm_memory_committed_bytes gauge\\njvm_memory_committed_bytes{area=\"nonheap\",id=\"CodeHeap \\'profiled nmethods\\'\",} 1.4614528E7\\njvm_memory_committed_bytes{area=\"heap\",id=\"G1 Survivor Space\",} 4194304.0\\njvm_memory_committed_bytes{area=\"heap\",id=\"G1 Old Gen\",} 5.6623104E7\\njvm_memory_committed_bytes{area=\"nonheap\",id=\"Metaspace\",} 5.8146816E7\\njvm_memory_committed_bytes{area=\"nonheap\",id=\"CodeHeap \\'non-nmethods\\'\",} 2555904.0\\njvm_memory_committed_bytes{area=\"heap\",id=\"G1 Eden Space\",} 5.24288E7\\njvm_memory_committed_bytes{area=\"nonheap\",id=\"Compressed Class Space\",} 7651328.0\\njvm_memory_committed_bytes{area=\"nonheap\",id=\"CodeHeap \\'non-profiled nmethods\\'\",} 5111808.0\\n# HELP jvm_threads_live_threads The current number of live threads including both daemon and non-daemon threads\\n# TYPE jvm_threads_live_threads gauge\\njvm_threads_live_threads 27.0\\n# HELP process_start_time_seconds Start time of the process since unix epoch.\\n# TYPE process_start_time_seconds gauge\\nprocess_start_time_seconds 1.622124168992E9\\n# HELP http_server_requests_seconds  \\n# TYPE http_server_requests_seconds summary\\nhttp_server_requests_seconds_count{exception=\"None\",method=\"GET\",outcome=\"SUCCESS\",status=\"200\",uri=\"/actuator/scheduledtasks\",} 1.0\\nhttp_server_requests_seconds_sum{exception=\"None\",method=\"GET\",outcome=\"SUCCESS\",status=\"200\",uri=\"/actuator/scheduledtasks\",} 0.040687101\\nhttp_server_requests_seconds_count{exception=\"None\",method=\"GET\",outcome=\"SUCCESS\",status=\"200\",uri=\"/v1/health\",} 1.0\\nhttp_server_requests_seconds_sum{exception=\"None\",method=\"GET\",outcome=\"SUCCESS\",status=\"200\",uri=\"/v1/health\",} 0.0623965\\nhttp_server_requests_seconds_count{exception=\"None\",method=\"GET\",outcome=\"SUCCESS\",status=\"200\",uri=\"/actuator/info\",} 1.0\\nhttp_server_requests_seconds_sum{exception=\"None\",method=\"GET\",outcome=\"SUCCESS\",status=\"200\",uri=\"/actuator/info\",} 0.020884\\nhttp_server_requests_seconds_count{exception=\"None\",method=\"GET\",outcome=\"SUCCESS\",status=\"200\",uri=\"/actuator/metrics\",} 2.0\\nhttp_server_requests_seconds_sum{exception=\"None\",method=\"GET\",outcome=\"SUCCESS\",status=\"200\",uri=\"/actuator/metrics\",} 0.0375774\\nhttp_server_requests_seconds_count{exception=\"None\",method=\"GET\",outcome=\"SUCCESS\",status=\"200\",uri=\"/actuator/prometheus\",} 3.0\\nhttp_server_requests_seconds_sum{exception=\"None\",method=\"GET\",outcome=\"SUCCESS\",status=\"200\",uri=\"/actuator/prometheus\",} 1.8696627\\nhttp_server_requests_seconds_count{exception=\"None\",method=\"GET\",outcome=\"SUCCESS\",status=\"200\",uri=\"/actuator/health\",} 1.0\\nhttp_server_requests_seconds_sum{exception=\"None\",method=\"GET\",outcome=\"SUCCESS\",status=\"200\",uri=\"/actuator/health\",} 0.040015699\\nhttp_server_requests_seconds_count{exception=\"None\",method=\"GET\",outcome=\"SUCCESS\",status=\"200\",uri=\"/actuator/mappings\",} 1.0\\nhttp_server_requests_seconds_sum{exception=\"None\",method=\"GET\",outcome=\"SUCCESS\",status=\"200\",uri=\"/actuator/mappings\",} 0.1292499\\nhttp_server_requests_seconds_count{exception=\"None\",method=\"GET\",outcome=\"CLIENT_ERROR\",status=\"404\",uri=\"/actuator/health/**\",} 1.0\\nhttp_server_requests_seconds_sum{exception=\"None\",method=\"GET\",outcome=\"CLIENT_ERROR\",status=\"404\",uri=\"/actuator/health/**\",} 0.0245616\\nhttp_server_requests_seconds_count{exception=\"None\",method=\"GET\",outcome=\"SUCCESS\",status=\"200\",uri=\"/actuator\",} 2.0\\nhttp_server_requests_seconds_sum{exception=\"None\",method=\"GET\",outcome=\"SUCCESS\",status=\"200\",uri=\"/actuator\",} 0.0415373\\nhttp_server_requests_seconds_count{exception=\"None\",method=\"GET\",outcome=\"CLIENT_ERROR\",status=\"404\",uri=\"/**\",} 1.0\\nhttp_server_requests_seconds_sum{exception=\"None\",method=\"GET\",outcome=\"CLIENT_ERROR\",status=\"404\",uri=\"/**\",} 0.0290047\\n# HELP http_server_requests_seconds_max  \\n# TYPE http_server_requests_seconds_max gauge\\nhttp_server_requests_seconds_max{exception=\"None\",method=\"GET\",outcome=\"SUCCESS\",status=\"200\",uri=\"/actuator/scheduledtasks\",} 0.040687101\\nhttp_server_requests_seconds_max{exception=\"None\",method=\"GET\",outcome=\"SUCCESS\",status=\"200\",uri=\"/v1/health\",} 0.0\\nhttp_server_requests_seconds_max{exception=\"None\",method=\"GET\",outcome=\"SUCCESS\",status=\"200\",uri=\"/actuator/info\",} 0.0\\nhttp_server_requests_seconds_max{exception=\"None\",method=\"GET\",outcome=\"SUCCESS\",status=\"200\",uri=\"/actuator/metrics\",} 0.020126999\\nhttp_server_requests_seconds_max{exception=\"None\",method=\"GET\",outcome=\"SUCCESS\",status=\"200\",uri=\"/actuator/prometheus\",} 1.6323938\\nhttp_server_requests_seconds_max{exception=\"None\",method=\"GET\",outcome=\"SUCCESS\",status=\"200\",uri=\"/actuator/health\",} 0.0\\nhttp_server_requests_seconds_max{exception=\"None\",method=\"GET\",outcome=\"SUCCESS\",status=\"200\",uri=\"/actuator/mappings\",} 0.1292499\\nhttp_server_requests_seconds_max{exception=\"None\",method=\"GET\",outcome=\"CLIENT_ERROR\",status=\"404\",uri=\"/actuator/health/**\",} 0.0\\nhttp_server_requests_seconds_max{exception=\"None\",method=\"GET\",outcome=\"SUCCESS\",status=\"200\",uri=\"/actuator\",} 0.0168752\\nhttp_server_requests_seconds_max{exception=\"None\",method=\"GET\",outcome=\"CLIENT_ERROR\",status=\"404\",uri=\"/**\",} 0.0290047\\n# HELP jvm_classes_loaded_classes The number of classes that are currently loaded in the Java virtual machine\\n# TYPE jvm_classes_loaded_classes gauge\\njvm_classes_loaded_classes 11004.0\\n# HELP jvm_gc_pause_seconds Time spent in GC pause\\n# TYPE jvm_gc_pause_seconds summary\\njvm_gc_pause_seconds_count{action=\"end of minor GC\",cause=\"Metadata GC Threshold\",} 1.0\\njvm_gc_pause_seconds_sum{action=\"end of minor GC\",cause=\"Metadata GC Threshold\",} 0.008\\njvm_gc_pause_seconds_count{action=\"end of minor GC\",cause=\"G1 Evacuation Pause\",} 3.0\\njvm_gc_pause_seconds_sum{action=\"end of minor GC\",cause=\"G1 Evacuation Pause\",} 0.032\\n# HELP jvm_gc_pause_seconds_max Time spent in GC pause\\n# TYPE jvm_gc_pause_seconds_max gauge\\njvm_gc_pause_seconds_max{action=\"end of minor GC\",cause=\"Metadata GC Threshold\",} 0.0\\njvm_gc_pause_seconds_max{action=\"end of minor GC\",cause=\"G1 Evacuation Pause\",} 0.0\\n# HELP jvm_threads_states_threads The current number of threads having NEW state\\n# TYPE jvm_threads_states_threads gauge\\njvm_threads_states_threads{state=\"runnable\",} 11.0\\njvm_threads_states_threads{state=\"blocked\",} 0.0\\njvm_threads_states_threads{state=\"waiting\",} 11.0\\njvm_threads_states_threads{state=\"timed-waiting\",} 5.0\\njvm_threads_states_threads{state=\"new\",} 0.0\\njvm_threads_states_threads{state=\"terminated\",} 0.0\\n# HELP jvm_buffer_memory_used_bytes An estimate of the memory that the Java virtual machine is using for this buffer pool\\n# TYPE jvm_buffer_memory_used_bytes gauge\\njvm_buffer_memory_used_bytes{id=\"mapped - \\'non-volatile memory\\'\",} 0.0\\njvm_buffer_memory_used_bytes{id=\"mapped\",} 0.0\\njvm_buffer_memory_used_bytes{id=\"direct\",} 90113.0\\n# HELP process_cpu_usage The \"recent cpu usage\" for the Java Virtual Machine process\\n# TYPE process_cpu_usage gauge\\nprocess_cpu_usage 0.009837913192760306\\n# HELP tomcat_sessions_rejected_sessions_total  \\n# TYPE tomcat_sessions_rejected_sessions_total counter\\ntomcat_sessions_rejected_sessions_total 0.0\\n# HELP bro_stored_backups Number of backups stored in BRO\\n# TYPE bro_stored_backups gauge\\nbro_stored_backups{backup_type=\"DEFAULT\",} 0.0\\n# HELP bro_operations_total Counter for number of executed operations\\n# TYPE bro_operations_total counter\\nbro_operations_total{action=\"\",backup_type=\"\",status=\"\",} 0.0\\n# HELP system_cpu_usage The \"recent cpu usage\" for the whole system\\n# TYPE system_cpu_usage gauge\\nsystem_cpu_usage 0.39341978534511945\\n# HELP process_uptime_seconds The uptime of the Java virtual machine\\n# TYPE process_uptime_seconds gauge\\nprocess_uptime_seconds 237.669\\n# HELP tomcat_sessions_expired_sessions_total  \\n# TYPE tomcat_sessions_expired_sessions_total counter\\ntomcat_sessions_expired_sessions_total 0.0\\n# HELP jvm_threads_daemon_threads The current number of live daemon threads\\n# TYPE jvm_threads_daemon_threads gauge\\njvm_threads_daemon_threads 21.0\\n# HELP jvm_classes_unloaded_classes_total The total number of classes unloaded since the Java virtual machine has started execution\\n# TYPE jvm_classes_unloaded_classes_total counter\\njvm_classes_unloaded_classes_total 0.0\\n# HELP tomcat_sessions_active_current_sessions  \\n# TYPE tomcat_sessions_active_current_sessions gauge\\ntomcat_sessions_active_current_sessions 0.0\\n# HELP jvm_gc_memory_allocated_bytes_total Incremented for an increase in the size of the (young) heap memory pool after one GC to before the next\\n# TYPE jvm_gc_memory_allocated_bytes_total counter\\njvm_gc_memory_allocated_bytes_total 2.11812352E8\\n# HELP jvm_gc_memory_promoted_bytes_total Count of positive increases in the size of the old generation memory pool before GC to after GC\\n# TYPE jvm_gc_memory_promoted_bytes_total counter\\njvm_gc_memory_promoted_bytes_total 1.1227136E7\\n# HELP log4j2_events_total Number of fatal level log events\\n# TYPE log4j2_events_total counter\\nlog4j2_events_total{level=\"warn\",} 0.0\\nlog4j2_events_total{level=\"debug\",} 684.0\\nlog4j2_events_total{level=\"error\",} 0.0\\nlog4j2_events_total{level=\"trace\",} 0.0\\nlog4j2_events_total{level=\"fatal\",} 0.0\\nlog4j2_events_total{level=\"info\",} 22.0\\n# HELP tomcat_sessions_active_max_sessions  \\n# TYPE tomcat_sessions_active_max_sessions gauge\\ntomcat_sessions_active_max_sessions 0.0\\n# HELP jvm_gc_live_data_size_bytes Size of long-lived heap memory pool after reclamation\\n# TYPE jvm_gc_live_data_size_bytes gauge\\njvm_gc_live_data_size_bytes 2.4145408E7\\n# HELP jvm_buffer_count_buffers An estimate of the number of buffers in the pool\\n# TYPE jvm_buffer_count_buffers gauge\\njvm_buffer_count_buffers{id=\"mapped - \\'non-volatile memory\\'\",} 0.0\\njvm_buffer_count_buffers{id=\"mapped\",} 0.0\\njvm_buffer_count_buffers{id=\"direct\",} 12.0\\n# HELP jvm_buffer_total_capacity_bytes An estimate of the total capacity of the buffers in this pool\\n# TYPE jvm_buffer_total_capacity_bytes gauge\\njvm_buffer_total_capacity_bytes{id=\"mapped - \\'non-volatile memory\\'\",} 0.0\\njvm_buffer_total_capacity_bytes{id=\"mapped\",} 0.0\\njvm_buffer_total_capacity_bytes{id=\"direct\",} 90112.0\\n# HELP jvm_memory_used_bytes The amount of used memory\\n# TYPE jvm_memory_used_bytes gauge\\njvm_memory_used_bytes{area=\"nonheap\",id=\"CodeHeap \\'profiled nmethods\\'\",} 1.2965376E7\\njvm_memory_used_bytes{area=\"heap\",id=\"G1 Survivor Space\",} 3742912.0\\njvm_memory_used_bytes{area=\"heap\",id=\"G1 Old Gen\",} 3.5372544E7\\njvm_memory_used_bytes{area=\"nonheap\",id=\"Metaspace\",} 5.6086168E7\\njvm_memory_used_bytes{area=\"nonheap\",id=\"CodeHeap \\'non-nmethods\\'\",} 1353216.0\\njvm_memory_used_bytes{area=\"heap\",id=\"G1 Eden Space\",} 3.7748736E7\\njvm_memory_used_bytes{area=\"nonheap\",id=\"Compressed Class Space\",} 6877560.0\\njvm_memory_used_bytes{area=\"nonheap\",id=\"CodeHeap \\'non-profiled nmethods\\'\",} 4105984.0\\n# HELP jvm_threads_peak_threads The peak live thread count since the Java virtual machine started or peak was reset\\n# TYPE jvm_threads_peak_threads gauge\\njvm_threads_peak_threads 27.0\\n# HELP jvm_memory_max_bytes The maximum amount of memory in bytes that can be used for memory management\\n# TYPE jvm_memory_max_bytes gauge\\njvm_memory_max_bytes{area=\"nonheap\",id=\"CodeHeap \\'profiled nmethods\\'\",} 1.2288E8\\njvm_memory_max_bytes{area=\"heap\",id=\"G1 Survivor Space\",} -1.0\\njvm_memory_max_bytes{area=\"heap\",id=\"G1 Old Gen\",} 8.550088704E9\\njvm_memory_max_bytes{area=\"nonheap\",id=\"Metaspace\",} -1.0\\njvm_memory_max_bytes{area=\"nonheap\",id=\"CodeHeap \\'non-nmethods\\'\",} 5898240.0\\njvm_memory_max_bytes{area=\"heap\",id=\"G1 Eden Space\",} -1.0\\njvm_memory_max_bytes{area=\"nonheap\",id=\"Compressed Class Space\",} 1.073741824E9\\njvm_memory_max_bytes{area=\"nonheap\",id=\"CodeHeap \\'non-profiled nmethods\\'\",} 1.2288E8\\n# HELP tomcat_sessions_alive_max_seconds  \\n# TYPE tomcat_sessions_alive_max_seconds gauge\\ntomcat_sessions_alive_max_seconds 0.0\\n'"
      ]
     },
     "execution_count": 19,
     "metadata": {},
     "output_type": "execute_result"
    }
   ],
   "source": [
    "result = requests.get(baseurl+'/actuator/prometheus')\n",
    "result.text"
   ]
  },
  {
   "cell_type": "code",
   "execution_count": null,
   "id": "african-pierce",
   "metadata": {},
   "outputs": [],
   "source": []
  }
 ],
 "metadata": {
  "kernelspec": {
   "display_name": "Python 3",
   "language": "python",
   "name": "python3"
  },
  "language_info": {
   "codemirror_mode": {
    "name": "ipython",
    "version": 3
   },
   "file_extension": ".py",
   "mimetype": "text/x-python",
   "name": "python",
   "nbconvert_exporter": "python",
   "pygments_lexer": "ipython3",
   "version": "3.8.5"
  }
 },
 "nbformat": 4,
 "nbformat_minor": 5
}
