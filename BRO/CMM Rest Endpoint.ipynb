{
 "cells": [
  {
   "cell_type": "markdown",
   "id": "backed-mandate",
   "metadata": {},
   "source": [
    "# CMM Rest Endpoint\n",
    "\n",
    "demo: http://10.120.217.249:5003/cm/api/v1/configurations/ericsson-brm?jsonpointer=/ericsson-brm:brm/"
   ]
  },
  {
   "cell_type": "code",
   "execution_count": 30,
   "id": "looking-bishop",
   "metadata": {},
   "outputs": [],
   "source": [
    "import requests\n",
    "baseurl = 'http://10.120.217.249:5003'"
   ]
  },
  {
   "cell_type": "code",
   "execution_count": 31,
   "id": "musical-weekend",
   "metadata": {},
   "outputs": [
    {
     "ename": "ConnectionError",
     "evalue": "HTTPConnectionPool(host='10.120.217.249', port=5003): Max retries exceeded with url: /cm/health (Caused by NewConnectionError('<urllib3.connection.HTTPConnection object at 0x7f6bf3eab700>: Failed to establish a new connection: [Errno 111] Connection refused'))",
     "output_type": "error",
     "traceback": [
      "\u001b[0;31m---------------------------------------------------------------------------\u001b[0m",
      "\u001b[0;31mConnectionRefusedError\u001b[0m                    Traceback (most recent call last)",
      "\u001b[0;32m~/.local/lib/python3.8/site-packages/urllib3/connection.py\u001b[0m in \u001b[0;36m_new_conn\u001b[0;34m(self)\u001b[0m\n\u001b[1;32m    157\u001b[0m         \u001b[0;32mtry\u001b[0m\u001b[0;34m:\u001b[0m\u001b[0;34m\u001b[0m\u001b[0;34m\u001b[0m\u001b[0m\n\u001b[0;32m--> 158\u001b[0;31m             conn = connection.create_connection(\n\u001b[0m\u001b[1;32m    159\u001b[0m                 (self._dns_host, self.port), self.timeout, **extra_kw)\n",
      "\u001b[0;32m~/.local/lib/python3.8/site-packages/urllib3/util/connection.py\u001b[0m in \u001b[0;36mcreate_connection\u001b[0;34m(address, timeout, source_address, socket_options)\u001b[0m\n\u001b[1;32m     79\u001b[0m     \u001b[0;32mif\u001b[0m \u001b[0merr\u001b[0m \u001b[0;32mis\u001b[0m \u001b[0;32mnot\u001b[0m \u001b[0;32mNone\u001b[0m\u001b[0;34m:\u001b[0m\u001b[0;34m\u001b[0m\u001b[0;34m\u001b[0m\u001b[0m\n\u001b[0;32m---> 80\u001b[0;31m         \u001b[0;32mraise\u001b[0m \u001b[0merr\u001b[0m\u001b[0;34m\u001b[0m\u001b[0;34m\u001b[0m\u001b[0m\n\u001b[0m\u001b[1;32m     81\u001b[0m \u001b[0;34m\u001b[0m\u001b[0m\n",
      "\u001b[0;32m~/.local/lib/python3.8/site-packages/urllib3/util/connection.py\u001b[0m in \u001b[0;36mcreate_connection\u001b[0;34m(address, timeout, source_address, socket_options)\u001b[0m\n\u001b[1;32m     69\u001b[0m                 \u001b[0msock\u001b[0m\u001b[0;34m.\u001b[0m\u001b[0mbind\u001b[0m\u001b[0;34m(\u001b[0m\u001b[0msource_address\u001b[0m\u001b[0;34m)\u001b[0m\u001b[0;34m\u001b[0m\u001b[0;34m\u001b[0m\u001b[0m\n\u001b[0;32m---> 70\u001b[0;31m             \u001b[0msock\u001b[0m\u001b[0;34m.\u001b[0m\u001b[0mconnect\u001b[0m\u001b[0;34m(\u001b[0m\u001b[0msa\u001b[0m\u001b[0;34m)\u001b[0m\u001b[0;34m\u001b[0m\u001b[0;34m\u001b[0m\u001b[0m\n\u001b[0m\u001b[1;32m     71\u001b[0m             \u001b[0;32mreturn\u001b[0m \u001b[0msock\u001b[0m\u001b[0;34m\u001b[0m\u001b[0;34m\u001b[0m\u001b[0m\n",
      "\u001b[0;31mConnectionRefusedError\u001b[0m: [Errno 111] Connection refused",
      "\nDuring handling of the above exception, another exception occurred:\n",
      "\u001b[0;31mNewConnectionError\u001b[0m                        Traceback (most recent call last)",
      "\u001b[0;32m~/.local/lib/python3.8/site-packages/urllib3/connectionpool.py\u001b[0m in \u001b[0;36murlopen\u001b[0;34m(self, method, url, body, headers, retries, redirect, assert_same_host, timeout, pool_timeout, release_conn, chunked, body_pos, **response_kw)\u001b[0m\n\u001b[1;32m    596\u001b[0m             \u001b[0;31m# Make the request on the httplib connection object.\u001b[0m\u001b[0;34m\u001b[0m\u001b[0;34m\u001b[0m\u001b[0;34m\u001b[0m\u001b[0m\n\u001b[0;32m--> 597\u001b[0;31m             httplib_response = self._make_request(conn, method, url,\n\u001b[0m\u001b[1;32m    598\u001b[0m                                                   \u001b[0mtimeout\u001b[0m\u001b[0;34m=\u001b[0m\u001b[0mtimeout_obj\u001b[0m\u001b[0;34m,\u001b[0m\u001b[0;34m\u001b[0m\u001b[0;34m\u001b[0m\u001b[0m\n",
      "\u001b[0;32m~/.local/lib/python3.8/site-packages/urllib3/connectionpool.py\u001b[0m in \u001b[0;36m_make_request\u001b[0;34m(self, conn, method, url, timeout, chunked, **httplib_request_kw)\u001b[0m\n\u001b[1;32m    353\u001b[0m         \u001b[0;32melse\u001b[0m\u001b[0;34m:\u001b[0m\u001b[0;34m\u001b[0m\u001b[0;34m\u001b[0m\u001b[0m\n\u001b[0;32m--> 354\u001b[0;31m             \u001b[0mconn\u001b[0m\u001b[0;34m.\u001b[0m\u001b[0mrequest\u001b[0m\u001b[0;34m(\u001b[0m\u001b[0mmethod\u001b[0m\u001b[0;34m,\u001b[0m \u001b[0murl\u001b[0m\u001b[0;34m,\u001b[0m \u001b[0;34m**\u001b[0m\u001b[0mhttplib_request_kw\u001b[0m\u001b[0;34m)\u001b[0m\u001b[0;34m\u001b[0m\u001b[0;34m\u001b[0m\u001b[0m\n\u001b[0m\u001b[1;32m    355\u001b[0m \u001b[0;34m\u001b[0m\u001b[0m\n",
      "\u001b[0;32m/usr/lib/python3.8/http/client.py\u001b[0m in \u001b[0;36mrequest\u001b[0;34m(self, method, url, body, headers, encode_chunked)\u001b[0m\n\u001b[1;32m   1255\u001b[0m         \u001b[0;34m\"\"\"Send a complete request to the server.\"\"\"\u001b[0m\u001b[0;34m\u001b[0m\u001b[0;34m\u001b[0m\u001b[0m\n\u001b[0;32m-> 1256\u001b[0;31m         \u001b[0mself\u001b[0m\u001b[0;34m.\u001b[0m\u001b[0m_send_request\u001b[0m\u001b[0;34m(\u001b[0m\u001b[0mmethod\u001b[0m\u001b[0;34m,\u001b[0m \u001b[0murl\u001b[0m\u001b[0;34m,\u001b[0m \u001b[0mbody\u001b[0m\u001b[0;34m,\u001b[0m \u001b[0mheaders\u001b[0m\u001b[0;34m,\u001b[0m \u001b[0mencode_chunked\u001b[0m\u001b[0;34m)\u001b[0m\u001b[0;34m\u001b[0m\u001b[0;34m\u001b[0m\u001b[0m\n\u001b[0m\u001b[1;32m   1257\u001b[0m \u001b[0;34m\u001b[0m\u001b[0m\n",
      "\u001b[0;32m/usr/lib/python3.8/http/client.py\u001b[0m in \u001b[0;36m_send_request\u001b[0;34m(self, method, url, body, headers, encode_chunked)\u001b[0m\n\u001b[1;32m   1301\u001b[0m             \u001b[0mbody\u001b[0m \u001b[0;34m=\u001b[0m \u001b[0m_encode\u001b[0m\u001b[0;34m(\u001b[0m\u001b[0mbody\u001b[0m\u001b[0;34m,\u001b[0m \u001b[0;34m'body'\u001b[0m\u001b[0;34m)\u001b[0m\u001b[0;34m\u001b[0m\u001b[0;34m\u001b[0m\u001b[0m\n\u001b[0;32m-> 1302\u001b[0;31m         \u001b[0mself\u001b[0m\u001b[0;34m.\u001b[0m\u001b[0mendheaders\u001b[0m\u001b[0;34m(\u001b[0m\u001b[0mbody\u001b[0m\u001b[0;34m,\u001b[0m \u001b[0mencode_chunked\u001b[0m\u001b[0;34m=\u001b[0m\u001b[0mencode_chunked\u001b[0m\u001b[0;34m)\u001b[0m\u001b[0;34m\u001b[0m\u001b[0;34m\u001b[0m\u001b[0m\n\u001b[0m\u001b[1;32m   1303\u001b[0m \u001b[0;34m\u001b[0m\u001b[0m\n",
      "\u001b[0;32m/usr/lib/python3.8/http/client.py\u001b[0m in \u001b[0;36mendheaders\u001b[0;34m(self, message_body, encode_chunked)\u001b[0m\n\u001b[1;32m   1250\u001b[0m             \u001b[0;32mraise\u001b[0m \u001b[0mCannotSendHeader\u001b[0m\u001b[0;34m(\u001b[0m\u001b[0;34m)\u001b[0m\u001b[0;34m\u001b[0m\u001b[0;34m\u001b[0m\u001b[0m\n\u001b[0;32m-> 1251\u001b[0;31m         \u001b[0mself\u001b[0m\u001b[0;34m.\u001b[0m\u001b[0m_send_output\u001b[0m\u001b[0;34m(\u001b[0m\u001b[0mmessage_body\u001b[0m\u001b[0;34m,\u001b[0m \u001b[0mencode_chunked\u001b[0m\u001b[0;34m=\u001b[0m\u001b[0mencode_chunked\u001b[0m\u001b[0;34m)\u001b[0m\u001b[0;34m\u001b[0m\u001b[0;34m\u001b[0m\u001b[0m\n\u001b[0m\u001b[1;32m   1252\u001b[0m \u001b[0;34m\u001b[0m\u001b[0m\n",
      "\u001b[0;32m/usr/lib/python3.8/http/client.py\u001b[0m in \u001b[0;36m_send_output\u001b[0;34m(self, message_body, encode_chunked)\u001b[0m\n\u001b[1;32m   1010\u001b[0m         \u001b[0;32mdel\u001b[0m \u001b[0mself\u001b[0m\u001b[0;34m.\u001b[0m\u001b[0m_buffer\u001b[0m\u001b[0;34m[\u001b[0m\u001b[0;34m:\u001b[0m\u001b[0;34m]\u001b[0m\u001b[0;34m\u001b[0m\u001b[0;34m\u001b[0m\u001b[0m\n\u001b[0;32m-> 1011\u001b[0;31m         \u001b[0mself\u001b[0m\u001b[0;34m.\u001b[0m\u001b[0msend\u001b[0m\u001b[0;34m(\u001b[0m\u001b[0mmsg\u001b[0m\u001b[0;34m)\u001b[0m\u001b[0;34m\u001b[0m\u001b[0;34m\u001b[0m\u001b[0m\n\u001b[0m\u001b[1;32m   1012\u001b[0m \u001b[0;34m\u001b[0m\u001b[0m\n",
      "\u001b[0;32m/usr/lib/python3.8/http/client.py\u001b[0m in \u001b[0;36msend\u001b[0;34m(self, data)\u001b[0m\n\u001b[1;32m    950\u001b[0m             \u001b[0;32mif\u001b[0m \u001b[0mself\u001b[0m\u001b[0;34m.\u001b[0m\u001b[0mauto_open\u001b[0m\u001b[0;34m:\u001b[0m\u001b[0;34m\u001b[0m\u001b[0;34m\u001b[0m\u001b[0m\n\u001b[0;32m--> 951\u001b[0;31m                 \u001b[0mself\u001b[0m\u001b[0;34m.\u001b[0m\u001b[0mconnect\u001b[0m\u001b[0;34m(\u001b[0m\u001b[0;34m)\u001b[0m\u001b[0;34m\u001b[0m\u001b[0;34m\u001b[0m\u001b[0m\n\u001b[0m\u001b[1;32m    952\u001b[0m             \u001b[0;32melse\u001b[0m\u001b[0;34m:\u001b[0m\u001b[0;34m\u001b[0m\u001b[0;34m\u001b[0m\u001b[0m\n",
      "\u001b[0;32m~/.local/lib/python3.8/site-packages/urllib3/connection.py\u001b[0m in \u001b[0;36mconnect\u001b[0;34m(self)\u001b[0m\n\u001b[1;32m    180\u001b[0m     \u001b[0;32mdef\u001b[0m \u001b[0mconnect\u001b[0m\u001b[0;34m(\u001b[0m\u001b[0mself\u001b[0m\u001b[0;34m)\u001b[0m\u001b[0;34m:\u001b[0m\u001b[0;34m\u001b[0m\u001b[0;34m\u001b[0m\u001b[0m\n\u001b[0;32m--> 181\u001b[0;31m         \u001b[0mconn\u001b[0m \u001b[0;34m=\u001b[0m \u001b[0mself\u001b[0m\u001b[0;34m.\u001b[0m\u001b[0m_new_conn\u001b[0m\u001b[0;34m(\u001b[0m\u001b[0;34m)\u001b[0m\u001b[0;34m\u001b[0m\u001b[0;34m\u001b[0m\u001b[0m\n\u001b[0m\u001b[1;32m    182\u001b[0m         \u001b[0mself\u001b[0m\u001b[0;34m.\u001b[0m\u001b[0m_prepare_conn\u001b[0m\u001b[0;34m(\u001b[0m\u001b[0mconn\u001b[0m\u001b[0;34m)\u001b[0m\u001b[0;34m\u001b[0m\u001b[0;34m\u001b[0m\u001b[0m\n",
      "\u001b[0;32m~/.local/lib/python3.8/site-packages/urllib3/connection.py\u001b[0m in \u001b[0;36m_new_conn\u001b[0;34m(self)\u001b[0m\n\u001b[1;32m    166\u001b[0m         \u001b[0;32mexcept\u001b[0m \u001b[0mSocketError\u001b[0m \u001b[0;32mas\u001b[0m \u001b[0me\u001b[0m\u001b[0;34m:\u001b[0m\u001b[0;34m\u001b[0m\u001b[0;34m\u001b[0m\u001b[0m\n\u001b[0;32m--> 167\u001b[0;31m             raise NewConnectionError(\n\u001b[0m\u001b[1;32m    168\u001b[0m                 self, \"Failed to establish a new connection: %s\" % e)\n",
      "\u001b[0;31mNewConnectionError\u001b[0m: <urllib3.connection.HTTPConnection object at 0x7f6bf3eab700>: Failed to establish a new connection: [Errno 111] Connection refused",
      "\nDuring handling of the above exception, another exception occurred:\n",
      "\u001b[0;31mMaxRetryError\u001b[0m                             Traceback (most recent call last)",
      "\u001b[0;32m~/.local/lib/python3.8/site-packages/requests/adapters.py\u001b[0m in \u001b[0;36msend\u001b[0;34m(self, request, stream, timeout, verify, cert, proxies)\u001b[0m\n\u001b[1;32m    438\u001b[0m             \u001b[0;32mif\u001b[0m \u001b[0;32mnot\u001b[0m \u001b[0mchunked\u001b[0m\u001b[0;34m:\u001b[0m\u001b[0;34m\u001b[0m\u001b[0;34m\u001b[0m\u001b[0m\n\u001b[0;32m--> 439\u001b[0;31m                 resp = conn.urlopen(\n\u001b[0m\u001b[1;32m    440\u001b[0m                     \u001b[0mmethod\u001b[0m\u001b[0;34m=\u001b[0m\u001b[0mrequest\u001b[0m\u001b[0;34m.\u001b[0m\u001b[0mmethod\u001b[0m\u001b[0;34m,\u001b[0m\u001b[0;34m\u001b[0m\u001b[0;34m\u001b[0m\u001b[0m\n",
      "\u001b[0;32m~/.local/lib/python3.8/site-packages/urllib3/connectionpool.py\u001b[0m in \u001b[0;36murlopen\u001b[0;34m(self, method, url, body, headers, retries, redirect, assert_same_host, timeout, pool_timeout, release_conn, chunked, body_pos, **response_kw)\u001b[0m\n\u001b[1;32m    636\u001b[0m \u001b[0;34m\u001b[0m\u001b[0m\n\u001b[0;32m--> 637\u001b[0;31m             retries = retries.increment(method, url, error=e, _pool=self,\n\u001b[0m\u001b[1;32m    638\u001b[0m                                         _stacktrace=sys.exc_info()[2])\n",
      "\u001b[0;32m~/.local/lib/python3.8/site-packages/urllib3/util/retry.py\u001b[0m in \u001b[0;36mincrement\u001b[0;34m(self, method, url, response, error, _pool, _stacktrace)\u001b[0m\n\u001b[1;32m    398\u001b[0m         \u001b[0;32mif\u001b[0m \u001b[0mnew_retry\u001b[0m\u001b[0;34m.\u001b[0m\u001b[0mis_exhausted\u001b[0m\u001b[0;34m(\u001b[0m\u001b[0;34m)\u001b[0m\u001b[0;34m:\u001b[0m\u001b[0;34m\u001b[0m\u001b[0;34m\u001b[0m\u001b[0m\n\u001b[0;32m--> 399\u001b[0;31m             \u001b[0;32mraise\u001b[0m \u001b[0mMaxRetryError\u001b[0m\u001b[0;34m(\u001b[0m\u001b[0m_pool\u001b[0m\u001b[0;34m,\u001b[0m \u001b[0murl\u001b[0m\u001b[0;34m,\u001b[0m \u001b[0merror\u001b[0m \u001b[0;32mor\u001b[0m \u001b[0mResponseError\u001b[0m\u001b[0;34m(\u001b[0m\u001b[0mcause\u001b[0m\u001b[0;34m)\u001b[0m\u001b[0;34m)\u001b[0m\u001b[0;34m\u001b[0m\u001b[0;34m\u001b[0m\u001b[0m\n\u001b[0m\u001b[1;32m    400\u001b[0m \u001b[0;34m\u001b[0m\u001b[0m\n",
      "\u001b[0;31mMaxRetryError\u001b[0m: HTTPConnectionPool(host='10.120.217.249', port=5003): Max retries exceeded with url: /cm/health (Caused by NewConnectionError('<urllib3.connection.HTTPConnection object at 0x7f6bf3eab700>: Failed to establish a new connection: [Errno 111] Connection refused'))",
      "\nDuring handling of the above exception, another exception occurred:\n",
      "\u001b[0;31mConnectionError\u001b[0m                           Traceback (most recent call last)",
      "\u001b[0;32m<ipython-input-31-f9da4c5c3efc>\u001b[0m in \u001b[0;36m<module>\u001b[0;34m\u001b[0m\n\u001b[1;32m      1\u001b[0m \u001b[0murl\u001b[0m \u001b[0;34m=\u001b[0m \u001b[0;34mf'{baseurl}/cm/health'\u001b[0m\u001b[0;34m\u001b[0m\u001b[0;34m\u001b[0m\u001b[0m\n\u001b[0;32m----> 2\u001b[0;31m \u001b[0mresult\u001b[0m \u001b[0;34m=\u001b[0m \u001b[0mrequests\u001b[0m\u001b[0;34m.\u001b[0m\u001b[0mget\u001b[0m\u001b[0;34m(\u001b[0m\u001b[0murl\u001b[0m\u001b[0;34m)\u001b[0m\u001b[0;34m\u001b[0m\u001b[0;34m\u001b[0m\u001b[0m\n\u001b[0m\u001b[1;32m      3\u001b[0m \u001b[0mresult\u001b[0m\u001b[0;34m.\u001b[0m\u001b[0mjson\u001b[0m\u001b[0;34m(\u001b[0m\u001b[0;34m)\u001b[0m\u001b[0;34m\u001b[0m\u001b[0;34m\u001b[0m\u001b[0m\n",
      "\u001b[0;32m~/.local/lib/python3.8/site-packages/requests/api.py\u001b[0m in \u001b[0;36mget\u001b[0;34m(url, params, **kwargs)\u001b[0m\n\u001b[1;32m     74\u001b[0m \u001b[0;34m\u001b[0m\u001b[0m\n\u001b[1;32m     75\u001b[0m     \u001b[0mkwargs\u001b[0m\u001b[0;34m.\u001b[0m\u001b[0msetdefault\u001b[0m\u001b[0;34m(\u001b[0m\u001b[0;34m'allow_redirects'\u001b[0m\u001b[0;34m,\u001b[0m \u001b[0;32mTrue\u001b[0m\u001b[0;34m)\u001b[0m\u001b[0;34m\u001b[0m\u001b[0;34m\u001b[0m\u001b[0m\n\u001b[0;32m---> 76\u001b[0;31m     \u001b[0;32mreturn\u001b[0m \u001b[0mrequest\u001b[0m\u001b[0;34m(\u001b[0m\u001b[0;34m'get'\u001b[0m\u001b[0;34m,\u001b[0m \u001b[0murl\u001b[0m\u001b[0;34m,\u001b[0m \u001b[0mparams\u001b[0m\u001b[0;34m=\u001b[0m\u001b[0mparams\u001b[0m\u001b[0;34m,\u001b[0m \u001b[0;34m**\u001b[0m\u001b[0mkwargs\u001b[0m\u001b[0;34m)\u001b[0m\u001b[0;34m\u001b[0m\u001b[0;34m\u001b[0m\u001b[0m\n\u001b[0m\u001b[1;32m     77\u001b[0m \u001b[0;34m\u001b[0m\u001b[0m\n\u001b[1;32m     78\u001b[0m \u001b[0;34m\u001b[0m\u001b[0m\n",
      "\u001b[0;32m~/.local/lib/python3.8/site-packages/requests/api.py\u001b[0m in \u001b[0;36mrequest\u001b[0;34m(method, url, **kwargs)\u001b[0m\n\u001b[1;32m     59\u001b[0m     \u001b[0;31m# cases, and look like a memory leak in others.\u001b[0m\u001b[0;34m\u001b[0m\u001b[0;34m\u001b[0m\u001b[0;34m\u001b[0m\u001b[0m\n\u001b[1;32m     60\u001b[0m     \u001b[0;32mwith\u001b[0m \u001b[0msessions\u001b[0m\u001b[0;34m.\u001b[0m\u001b[0mSession\u001b[0m\u001b[0;34m(\u001b[0m\u001b[0;34m)\u001b[0m \u001b[0;32mas\u001b[0m \u001b[0msession\u001b[0m\u001b[0;34m:\u001b[0m\u001b[0;34m\u001b[0m\u001b[0;34m\u001b[0m\u001b[0m\n\u001b[0;32m---> 61\u001b[0;31m         \u001b[0;32mreturn\u001b[0m \u001b[0msession\u001b[0m\u001b[0;34m.\u001b[0m\u001b[0mrequest\u001b[0m\u001b[0;34m(\u001b[0m\u001b[0mmethod\u001b[0m\u001b[0;34m=\u001b[0m\u001b[0mmethod\u001b[0m\u001b[0;34m,\u001b[0m \u001b[0murl\u001b[0m\u001b[0;34m=\u001b[0m\u001b[0murl\u001b[0m\u001b[0;34m,\u001b[0m \u001b[0;34m**\u001b[0m\u001b[0mkwargs\u001b[0m\u001b[0;34m)\u001b[0m\u001b[0;34m\u001b[0m\u001b[0;34m\u001b[0m\u001b[0m\n\u001b[0m\u001b[1;32m     62\u001b[0m \u001b[0;34m\u001b[0m\u001b[0m\n\u001b[1;32m     63\u001b[0m \u001b[0;34m\u001b[0m\u001b[0m\n",
      "\u001b[0;32m~/.local/lib/python3.8/site-packages/requests/sessions.py\u001b[0m in \u001b[0;36mrequest\u001b[0;34m(self, method, url, params, data, headers, cookies, files, auth, timeout, allow_redirects, proxies, hooks, stream, verify, cert, json)\u001b[0m\n\u001b[1;32m    540\u001b[0m         }\n\u001b[1;32m    541\u001b[0m         \u001b[0msend_kwargs\u001b[0m\u001b[0;34m.\u001b[0m\u001b[0mupdate\u001b[0m\u001b[0;34m(\u001b[0m\u001b[0msettings\u001b[0m\u001b[0;34m)\u001b[0m\u001b[0;34m\u001b[0m\u001b[0;34m\u001b[0m\u001b[0m\n\u001b[0;32m--> 542\u001b[0;31m         \u001b[0mresp\u001b[0m \u001b[0;34m=\u001b[0m \u001b[0mself\u001b[0m\u001b[0;34m.\u001b[0m\u001b[0msend\u001b[0m\u001b[0;34m(\u001b[0m\u001b[0mprep\u001b[0m\u001b[0;34m,\u001b[0m \u001b[0;34m**\u001b[0m\u001b[0msend_kwargs\u001b[0m\u001b[0;34m)\u001b[0m\u001b[0;34m\u001b[0m\u001b[0;34m\u001b[0m\u001b[0m\n\u001b[0m\u001b[1;32m    543\u001b[0m \u001b[0;34m\u001b[0m\u001b[0m\n\u001b[1;32m    544\u001b[0m         \u001b[0;32mreturn\u001b[0m \u001b[0mresp\u001b[0m\u001b[0;34m\u001b[0m\u001b[0;34m\u001b[0m\u001b[0m\n",
      "\u001b[0;32m~/.local/lib/python3.8/site-packages/requests/sessions.py\u001b[0m in \u001b[0;36msend\u001b[0;34m(self, request, **kwargs)\u001b[0m\n\u001b[1;32m    653\u001b[0m \u001b[0;34m\u001b[0m\u001b[0m\n\u001b[1;32m    654\u001b[0m         \u001b[0;31m# Send the request\u001b[0m\u001b[0;34m\u001b[0m\u001b[0;34m\u001b[0m\u001b[0;34m\u001b[0m\u001b[0m\n\u001b[0;32m--> 655\u001b[0;31m         \u001b[0mr\u001b[0m \u001b[0;34m=\u001b[0m \u001b[0madapter\u001b[0m\u001b[0;34m.\u001b[0m\u001b[0msend\u001b[0m\u001b[0;34m(\u001b[0m\u001b[0mrequest\u001b[0m\u001b[0;34m,\u001b[0m \u001b[0;34m**\u001b[0m\u001b[0mkwargs\u001b[0m\u001b[0;34m)\u001b[0m\u001b[0;34m\u001b[0m\u001b[0;34m\u001b[0m\u001b[0m\n\u001b[0m\u001b[1;32m    656\u001b[0m \u001b[0;34m\u001b[0m\u001b[0m\n\u001b[1;32m    657\u001b[0m         \u001b[0;31m# Total elapsed time of the request (approximately)\u001b[0m\u001b[0;34m\u001b[0m\u001b[0;34m\u001b[0m\u001b[0;34m\u001b[0m\u001b[0m\n",
      "\u001b[0;32m~/.local/lib/python3.8/site-packages/requests/adapters.py\u001b[0m in \u001b[0;36msend\u001b[0;34m(self, request, stream, timeout, verify, cert, proxies)\u001b[0m\n\u001b[1;32m    514\u001b[0m                 \u001b[0;32mraise\u001b[0m \u001b[0mSSLError\u001b[0m\u001b[0;34m(\u001b[0m\u001b[0me\u001b[0m\u001b[0;34m,\u001b[0m \u001b[0mrequest\u001b[0m\u001b[0;34m=\u001b[0m\u001b[0mrequest\u001b[0m\u001b[0;34m)\u001b[0m\u001b[0;34m\u001b[0m\u001b[0;34m\u001b[0m\u001b[0m\n\u001b[1;32m    515\u001b[0m \u001b[0;34m\u001b[0m\u001b[0m\n\u001b[0;32m--> 516\u001b[0;31m             \u001b[0;32mraise\u001b[0m \u001b[0mConnectionError\u001b[0m\u001b[0;34m(\u001b[0m\u001b[0me\u001b[0m\u001b[0;34m,\u001b[0m \u001b[0mrequest\u001b[0m\u001b[0;34m=\u001b[0m\u001b[0mrequest\u001b[0m\u001b[0;34m)\u001b[0m\u001b[0;34m\u001b[0m\u001b[0;34m\u001b[0m\u001b[0m\n\u001b[0m\u001b[1;32m    517\u001b[0m \u001b[0;34m\u001b[0m\u001b[0m\n\u001b[1;32m    518\u001b[0m         \u001b[0;32mexcept\u001b[0m \u001b[0mClosedPoolError\u001b[0m \u001b[0;32mas\u001b[0m \u001b[0me\u001b[0m\u001b[0;34m:\u001b[0m\u001b[0;34m\u001b[0m\u001b[0;34m\u001b[0m\u001b[0m\n",
      "\u001b[0;31mConnectionError\u001b[0m: HTTPConnectionPool(host='10.120.217.249', port=5003): Max retries exceeded with url: /cm/health (Caused by NewConnectionError('<urllib3.connection.HTTPConnection object at 0x7f6bf3eab700>: Failed to establish a new connection: [Errno 111] Connection refused'))"
     ]
    }
   ],
   "source": [
    "url = f'{baseurl}/cm/health'\n",
    "result = requests.get(url)\n",
    "result.json()"
   ]
  },
  {
   "cell_type": "markdown",
   "id": "dirty-rebecca",
   "metadata": {},
   "source": [
    "## Configuration"
   ]
  },
  {
   "cell_type": "markdown",
   "id": "driven-strap",
   "metadata": {},
   "source": [
    "### list configuration\n",
    "\n",
    "create a backup: doesn't need ietf-netconf-acm in place\n",
    "restore a backup: need ietf-netconf-acm in place"
   ]
  },
  {
   "cell_type": "code",
   "execution_count": 5,
   "id": "mature-partition",
   "metadata": {},
   "outputs": [
    {
     "data": {
      "text/plain": [
       "[{'name': 'ericsson-brm', 'title': 'ericsson-brm'}]"
      ]
     },
     "execution_count": 5,
     "metadata": {},
     "output_type": "execute_result"
    }
   ],
   "source": [
    "url = f'{baseurl}/cm/api/v1/configurations'\n",
    "result = requests.get(url)\n",
    "result.json()"
   ]
  },
  {
   "cell_type": "markdown",
   "id": "similar-sapphire",
   "metadata": {},
   "source": [
    "### delete configuration"
   ]
  },
  {
   "cell_type": "code",
   "execution_count": 4,
   "id": "tracked-bosnia",
   "metadata": {},
   "outputs": [
    {
     "data": {
      "text/plain": [
       "{'message': \"Deleted configuration 'ietf-netconf-acm'\"}"
      ]
     },
     "execution_count": 4,
     "metadata": {},
     "output_type": "execute_result"
    }
   ],
   "source": [
    "url = f'{baseurl}/cm/api/v1/configurations/ietf-netconf-acm'\n",
    "result = requests.delete(url)\n",
    "result.json()"
   ]
  },
  {
   "cell_type": "markdown",
   "id": "circular-contribution",
   "metadata": {},
   "source": [
    "### Detail a configuration"
   ]
  },
  {
   "cell_type": "code",
   "execution_count": 3,
   "id": "motivated-destiny",
   "metadata": {
    "scrolled": true
   },
   "outputs": [
    {
     "data": {
      "text/plain": [
       "{'name': 'ericsson-brm',\n",
       " 'title': 'ericsson-brm',\n",
       " 'data': {'ericsson-brm:brm': {'backup-manager': [{'id': 'DEFAULT-eric-data-document-database-pg',\n",
       "     'backup': [],\n",
       "     'scheduler': {'admin-state': 'unlocked',\n",
       "      'auto-export': 'disabled',\n",
       "      'periodic-event': [],\n",
       "      'progress-report': [],\n",
       "      'scheduled-backup-name': 'SCHEDULED_BACKUP'},\n",
       "     'backup-type': '',\n",
       "     'housekeeping': {'auto-delete': 'enabled',\n",
       "      'max-stored-manual-backups': 1},\n",
       "     'backup-domain': '',\n",
       "     'progress-report': []},\n",
       "    {'id': 'DEFAULT',\n",
       "     'backup': [],\n",
       "     'scheduler': {'admin-state': 'unlocked',\n",
       "      'auto-export': 'disabled',\n",
       "      'periodic-event': [],\n",
       "      'progress-report': [],\n",
       "      'scheduled-backup-name': 'SCHEDULED_BACKUP'},\n",
       "     'backup-type': '',\n",
       "     'housekeeping': {'auto-delete': 'enabled',\n",
       "      'max-stored-manual-backups': 3},\n",
       "     'backup-domain': '',\n",
       "     'progress-report': []},\n",
       "    {'id': 'DEFAULT-tls',\n",
       "     'backup': [],\n",
       "     'scheduler': {'admin-state': 'unlocked',\n",
       "      'auto-export': 'disabled',\n",
       "      'periodic-event': [],\n",
       "      'progress-report': [],\n",
       "      'scheduled-backup-name': 'SCHEDULED_BACKUP'},\n",
       "     'backup-type': '',\n",
       "     'housekeeping': {'auto-delete': 'enabled',\n",
       "      'max-stored-manual-backups': 1},\n",
       "     'backup-domain': '',\n",
       "     'progress-report': []},\n",
       "    {'id': 'configuration-data',\n",
       "     'backup': [{'id': 'backup_2',\n",
       "       'status': 'backup-complete',\n",
       "       'sw-version': [{'type': 'Database',\n",
       "         'description': 'eric-data-document-database-pg Agent for backup and restore.',\n",
       "         'product-name': 'Document Database PG',\n",
       "         'product-number': 'APR 201 34',\n",
       "         'production-date': '2022-03-23T12:10:35.811092Z',\n",
       "         'product-revision': '7.3.0-26'},\n",
       "        {'type': 'Legend',\n",
       "         'description': 'agent tls',\n",
       "         'product-name': 'Tiger',\n",
       "         'product-number': 'CXC 888 88/8',\n",
       "         'production-date': '2022-03-23T12:10:35.811154Z',\n",
       "         'product-revision': 'R15'},\n",
       "        {'type': 'data',\n",
       "         'description': 'test agent bravo',\n",
       "         'product-name': 'bravo',\n",
       "         'product-number': 'CXC 222 22/2',\n",
       "         'production-date': '2022-03-23T12:10:35.811221Z',\n",
       "         'product-revision': 'R2'},\n",
       "        {'type': 'Predelivery',\n",
       "         'description': 'Test Application Drop 15',\n",
       "         'product-name': 'Test Application',\n",
       "         'product-number': 'APR XXX XX/X',\n",
       "         'production-date': '2019-05-17T14:12:44+00:00',\n",
       "         'product-revision': 'R1A'}],\n",
       "       'backup-name': 'backup_2',\n",
       "       'creation-time': '2022-03-23T12:10:35.795867Z',\n",
       "       'creation-type': 'manual',\n",
       "       'progress-report': []}],\n",
       "     'scheduler': {'admin-state': 'unlocked',\n",
       "      'auto-export': 'disabled',\n",
       "      'periodic-event': [],\n",
       "      'progress-report': [],\n",
       "      'scheduled-backup-name': 'SCHEDULED_BACKUP'},\n",
       "     'backup-type': '',\n",
       "     'housekeeping': {'auto-delete': 'disabled',\n",
       "      'max-stored-manual-backups': 1},\n",
       "     'backup-domain': '',\n",
       "     'progress-report': [{'state': 'finished',\n",
       "       'result': 'failure',\n",
       "       'action-id': 53798,\n",
       "       'action-name': 'IMPORT',\n",
       "       'additional-info': ['Failed to create/import backup as maximum limit of <1> already exceeded'],\n",
       "       'progress-percentage': 0,\n",
       "       'time-action-started': '2022-03-23T12:10:52.28532Z',\n",
       "       'time-action-completed': '2022-03-23T12:10:52.508912Z',\n",
       "       'time-of-last-status-update': '2022-03-23T12:10:52.508912Z'}]},\n",
       "    {'id': 'DEFAULT-bravo',\n",
       "     'backup': [],\n",
       "     'scheduler': {'admin-state': 'unlocked',\n",
       "      'auto-export': 'disabled',\n",
       "      'periodic-event': [],\n",
       "      'progress-report': [],\n",
       "      'scheduled-backup-name': 'SCHEDULED_BACKUP'},\n",
       "     'backup-type': '',\n",
       "     'housekeeping': {'auto-delete': 'enabled',\n",
       "      'max-stored-manual-backups': 1},\n",
       "     'backup-domain': '',\n",
       "     'progress-report': []}]}}}"
      ]
     },
     "execution_count": 3,
     "metadata": {},
     "output_type": "execute_result"
    }
   ],
   "source": [
    "url = f'{baseurl}/cm/api/v1/configurations/ericsson-brm'\n",
    "result = requests.get(url)\n",
    "result.json()"
   ]
  },
  {
   "cell_type": "code",
   "execution_count": 5,
   "id": "adult-adams",
   "metadata": {},
   "outputs": [
    {
     "data": {
      "text/plain": [
       "<Response [200]>"
      ]
     },
     "execution_count": 5,
     "metadata": {},
     "output_type": "execute_result"
    }
   ],
   "source": [
    "result"
   ]
  },
  {
   "cell_type": "code",
   "execution_count": 7,
   "id": "fewer-cradle",
   "metadata": {},
   "outputs": [],
   "source": [
    "import json"
   ]
  },
  {
   "cell_type": "code",
   "execution_count": 19,
   "id": "horizontal-denmark",
   "metadata": {},
   "outputs": [],
   "source": [
    "ericsson_brm = json.loads(result.text)"
   ]
  },
  {
   "cell_type": "code",
   "execution_count": 27,
   "id": "north-singles",
   "metadata": {},
   "outputs": [],
   "source": [
    "ericsson_brm = result.json()"
   ]
  },
  {
   "cell_type": "code",
   "execution_count": 28,
   "id": "modular-fitness",
   "metadata": {},
   "outputs": [],
   "source": [
    "brms = ericsson_brm['data']['ericsson-brm:brm']['backup-manager']"
   ]
  },
  {
   "cell_type": "code",
   "execution_count": 29,
   "id": "strategic-education",
   "metadata": {},
   "outputs": [
    {
     "name": "stdout",
     "output_type": "stream",
     "text": [
      "{'id': 'DEFAULT-bravo', 'backup': [], 'scheduler': {'admin-state': 'unlocked', 'auto-export': 'disabled', 'periodic-event': [], 'progress-report': [], 'scheduled-backup-name': 'SCHEDULED_BACKUP'}, 'backup-type': '', 'housekeeping': {'auto-delete': 'enabled', 'max-stored-manual-backups': 1}, 'backup-domain': '', 'progress-report': []}\n"
     ]
    }
   ],
   "source": [
    "for brm in brms:\n",
    "    if brm['id'] == \"DEFAULT-bravo\":\n",
    "        print(brm)\n",
    "        break"
   ]
  },
  {
   "cell_type": "code",
   "execution_count": 14,
   "id": "congressional-tactics",
   "metadata": {},
   "outputs": [
    {
     "data": {
      "text/plain": [
       "[{'id': 'DEFAULT-eric-data-document-database-pg',\n",
       "  'backup': [],\n",
       "  'scheduler': {'admin-state': 'unlocked',\n",
       "   'auto-export': 'disabled',\n",
       "   'periodic-event': [],\n",
       "   'progress-report': [],\n",
       "   'scheduled-backup-name': 'SCHEDULED_BACKUP'},\n",
       "  'backup-type': '',\n",
       "  'housekeeping': {'auto-delete': 'enabled', 'max-stored-manual-backups': 1},\n",
       "  'backup-domain': '',\n",
       "  'progress-report': []},\n",
       " {'id': 'DEFAULT',\n",
       "  'backup': [],\n",
       "  'scheduler': {'admin-state': 'unlocked',\n",
       "   'auto-export': 'disabled',\n",
       "   'periodic-event': [],\n",
       "   'progress-report': [],\n",
       "   'scheduled-backup-name': 'SCHEDULED_BACKUP'},\n",
       "  'backup-type': '',\n",
       "  'housekeeping': {'auto-delete': 'enabled', 'max-stored-manual-backups': 3},\n",
       "  'backup-domain': '',\n",
       "  'progress-report': []},\n",
       " {'id': 'DEFAULT-tls',\n",
       "  'backup': [],\n",
       "  'scheduler': {'admin-state': 'unlocked',\n",
       "   'auto-export': 'disabled',\n",
       "   'periodic-event': [],\n",
       "   'progress-report': [],\n",
       "   'scheduled-backup-name': 'SCHEDULED_BACKUP'},\n",
       "  'backup-type': '',\n",
       "  'housekeeping': {'auto-delete': 'enabled', 'max-stored-manual-backups': 1},\n",
       "  'backup-domain': '',\n",
       "  'progress-report': []},\n",
       " {'id': 'configuration-data',\n",
       "  'backup': [{'id': 'backup_2',\n",
       "    'status': 'backup-complete',\n",
       "    'sw-version': [{'type': 'Database',\n",
       "      'description': 'eric-data-document-database-pg Agent for backup and restore.',\n",
       "      'product-name': 'Document Database PG',\n",
       "      'product-number': 'APR 201 34',\n",
       "      'production-date': '2022-03-23T12:10:35.811092Z',\n",
       "      'product-revision': '7.3.0-26'},\n",
       "     {'type': 'Legend',\n",
       "      'description': 'agent tls',\n",
       "      'product-name': 'Tiger',\n",
       "      'product-number': 'CXC 888 88/8',\n",
       "      'production-date': '2022-03-23T12:10:35.811154Z',\n",
       "      'product-revision': 'R15'},\n",
       "     {'type': 'data',\n",
       "      'description': 'test agent bravo',\n",
       "      'product-name': 'bravo',\n",
       "      'product-number': 'CXC 222 22/2',\n",
       "      'production-date': '2022-03-23T12:10:35.811221Z',\n",
       "      'product-revision': 'R2'},\n",
       "     {'type': 'Predelivery',\n",
       "      'description': 'Test Application Drop 15',\n",
       "      'product-name': 'Test Application',\n",
       "      'product-number': 'APR XXX XX/X',\n",
       "      'production-date': '2019-05-17T14:12:44+00:00',\n",
       "      'product-revision': 'R1A'}],\n",
       "    'backup-name': 'backup_2',\n",
       "    'creation-time': '2022-03-23T12:10:35.795867Z',\n",
       "    'creation-type': 'manual',\n",
       "    'progress-report': []}],\n",
       "  'scheduler': {'admin-state': 'unlocked',\n",
       "   'auto-export': 'disabled',\n",
       "   'periodic-event': [],\n",
       "   'progress-report': [],\n",
       "   'scheduled-backup-name': 'SCHEDULED_BACKUP'},\n",
       "  'backup-type': '',\n",
       "  'housekeeping': {'auto-delete': 'disabled', 'max-stored-manual-backups': 1},\n",
       "  'backup-domain': '',\n",
       "  'progress-report': [{'state': 'finished',\n",
       "    'result': 'failure',\n",
       "    'action-id': 53798,\n",
       "    'action-name': 'IMPORT',\n",
       "    'additional-info': ['Failed to create/import backup as maximum limit of <1> already exceeded'],\n",
       "    'progress-percentage': 0,\n",
       "    'time-action-started': '2022-03-23T12:10:52.28532Z',\n",
       "    'time-action-completed': '2022-03-23T12:10:52.508912Z',\n",
       "    'time-of-last-status-update': '2022-03-23T12:10:52.508912Z'}]},\n",
       " {'id': 'DEFAULT-bravo',\n",
       "  'backup': [],\n",
       "  'scheduler': {'admin-state': 'unlocked',\n",
       "   'auto-export': 'disabled',\n",
       "   'periodic-event': [],\n",
       "   'progress-report': [],\n",
       "   'scheduled-backup-name': 'SCHEDULED_BACKUP'},\n",
       "  'backup-type': '',\n",
       "  'housekeeping': {'auto-delete': 'enabled', 'max-stored-manual-backups': 1},\n",
       "  'backup-domain': '',\n",
       "  'progress-report': []}]"
      ]
     },
     "execution_count": 14,
     "metadata": {},
     "output_type": "execute_result"
    }
   ],
   "source": [
    "object['data']['ericsson-brm:brm']['backup-manager']"
   ]
  },
  {
   "cell_type": "code",
   "execution_count": 15,
   "id": "atomic-grain",
   "metadata": {},
   "outputs": [
    {
     "data": {
      "text/plain": [
       "{'id': 'DEFAULT-eric-data-document-database-pg',\n",
       " 'backup': [],\n",
       " 'scheduler': {'admin-state': 'unlocked',\n",
       "  'auto-export': 'disabled',\n",
       "  'periodic-event': [],\n",
       "  'progress-report': [],\n",
       "  'scheduled-backup-name': 'SCHEDULED_BACKUP'},\n",
       " 'backup-type': '',\n",
       " 'housekeeping': {'auto-delete': 'enabled', 'max-stored-manual-backups': 1},\n",
       " 'backup-domain': '',\n",
       " 'progress-report': []}"
      ]
     },
     "execution_count": 15,
     "metadata": {},
     "output_type": "execute_result"
    }
   ],
   "source": [
    "object['data']['ericsson-brm:brm']['backup-manager'][0]"
   ]
  },
  {
   "cell_type": "code",
   "execution_count": 17,
   "id": "historical-saying",
   "metadata": {},
   "outputs": [
    {
     "data": {
      "text/plain": [
       "'DEFAULT-eric-data-document-database-pg'"
      ]
     },
     "execution_count": 17,
     "metadata": {},
     "output_type": "execute_result"
    }
   ],
   "source": [
    "object['data']['ericsson-brm:brm']['backup-manager'][0]['id']"
   ]
  },
  {
   "cell_type": "markdown",
   "id": "infectious-leather",
   "metadata": {},
   "source": [
    "### Using jsonpointer"
   ]
  },
  {
   "cell_type": "markdown",
   "id": "potential-brooks",
   "metadata": {},
   "source": [
    "#### Get brms"
   ]
  },
  {
   "cell_type": "code",
   "execution_count": 28,
   "id": "demanding-voice",
   "metadata": {},
   "outputs": [
    {
     "data": {
      "text/plain": [
       "{'name': 'ericsson-brm',\n",
       " 'title': 'ericsson-brm',\n",
       " 'data': {'backup-manager': [{'id': 'DEFAULT-eric-data-document-database-pg',\n",
       "    'backup': [{'id': 'DemoBackup21',\n",
       "      'status': 'backup-complete',\n",
       "      'sw-version': [{'type': 'Database',\n",
       "        'description': 'eric-data-document-database-pg Agent for backup and restore.',\n",
       "        'product-name': 'Document Database PG',\n",
       "        'product-number': 'APR 201 34',\n",
       "        'production-date': '2022-02-17T14:44:03.782183Z',\n",
       "        'product-revision': '7.1.0-19'},\n",
       "       {'type': 'Predelivery',\n",
       "        'description': 'Test Application Drop 15',\n",
       "        'product-name': 'Test Application',\n",
       "        'product-number': 'APR XXX XX/X',\n",
       "        'production-date': '2019-05-17T14:12:44+00:00',\n",
       "        'product-revision': 'R1A'}],\n",
       "      'backup-name': 'DemoBackup21',\n",
       "      'creation-time': '2022-02-17T14:44:03.703133Z',\n",
       "      'creation-type': 'manual',\n",
       "      'progress-report': []}],\n",
       "    'scheduler': {'admin-state': 'unlocked',\n",
       "     'auto-export': 'disabled',\n",
       "     'periodic-event': [],\n",
       "     'progress-report': [],\n",
       "     'scheduled-backup-name': 'SCHEDULED_BACKUP'},\n",
       "    'backup-type': '',\n",
       "    'housekeeping': {'auto-delete': 'enabled', 'max-stored-manual-backups': 1},\n",
       "    'backup-domain': '',\n",
       "    'progress-report': [{'state': 'finished',\n",
       "      'result': 'success',\n",
       "      'action-id': 31697,\n",
       "      'action-name': 'CREATE_BACKUP',\n",
       "      'result-info': '{Agent: eric-data-document-database-pg, Stage: EXECUTION, success: true, message: Preparation for backup is successful}, {Agent: eric-data-document-database-pg, Stage: POST_ACTIONS, success: true, message: The PG B&R Agent has completed a backup for DemoBackup21}, {Agent: eric-data-document-database-pg, Stage: COMPLETE, success: true, message: Post backup actions completed}',\n",
       "      'additional-info': [],\n",
       "      'progress-percentage': 100,\n",
       "      'time-action-started': '2022-02-17T14:44:01.986743Z',\n",
       "      'time-action-completed': '2022-02-17T14:44:17.263406Z',\n",
       "      'time-of-last-status-update': '2022-02-17T14:44:17.263406Z'}]},\n",
       "   {'id': 'DEFAULT',\n",
       "    'backup': [],\n",
       "    'scheduler': {'admin-state': 'unlocked',\n",
       "     'auto-export': 'disabled',\n",
       "     'periodic-event': [],\n",
       "     'progress-report': [],\n",
       "     'scheduled-backup-name': 'SCHEDULED_BACKUP'},\n",
       "    'backup-type': '',\n",
       "    'housekeeping': {'auto-delete': 'enabled', 'max-stored-manual-backups': 1},\n",
       "    'backup-domain': '',\n",
       "    'progress-report': []},\n",
       "   {'id': 'DEFAULT-agent-one',\n",
       "    'backup': [],\n",
       "    'scheduler': {'admin-state': 'unlocked',\n",
       "     'auto-export': 'disabled',\n",
       "     'periodic-event': [],\n",
       "     'progress-report': [],\n",
       "     'scheduled-backup-name': 'SCHEDULED_BACKUP'},\n",
       "    'backup-type': '',\n",
       "    'housekeeping': {'auto-delete': 'enabled', 'max-stored-manual-backups': 1},\n",
       "    'backup-domain': '',\n",
       "    'progress-report': []},\n",
       "   {'id': 'configuration-data',\n",
       "    'backup': [],\n",
       "    'scheduler': {'admin-state': 'unlocked',\n",
       "     'auto-export': 'disabled',\n",
       "     'periodic-event': [],\n",
       "     'progress-report': [],\n",
       "     'scheduled-backup-name': 'SCHEDULED_BACKUP'},\n",
       "    'backup-type': '',\n",
       "    'housekeeping': {'auto-delete': 'enabled', 'max-stored-manual-backups': 1},\n",
       "    'backup-domain': '',\n",
       "    'progress-report': []},\n",
       "   {'id': 'DEFAULT-agent-two',\n",
       "    'backup': [],\n",
       "    'scheduler': {'admin-state': 'unlocked',\n",
       "     'auto-export': 'disabled',\n",
       "     'periodic-event': [],\n",
       "     'progress-report': [],\n",
       "     'scheduled-backup-name': 'SCHEDULED_BACKUP'},\n",
       "    'backup-type': '',\n",
       "    'housekeeping': {'auto-delete': 'enabled', 'max-stored-manual-backups': 1},\n",
       "    'backup-domain': '',\n",
       "    'progress-report': []}]}}"
      ]
     },
     "execution_count": 28,
     "metadata": {},
     "output_type": "execute_result"
    }
   ],
   "source": [
    "url = f'{baseurl}/cm/api/v1/configurations/ericsson-brm?jsonpointer=/ericsson-brm:brm'\n",
    "result = requests.get(url)\n",
    "result.json()"
   ]
  },
  {
   "cell_type": "markdown",
   "id": "packed-grammar",
   "metadata": {},
   "source": [
    "#### Get backups of the first brm"
   ]
  },
  {
   "cell_type": "code",
   "execution_count": 32,
   "id": "artistic-shower",
   "metadata": {
    "scrolled": true
   },
   "outputs": [
    {
     "data": {
      "text/plain": [
       "{'name': 'ericsson-brm',\n",
       " 'title': 'ericsson-brm',\n",
       " 'data': {'id': 'DEFAULT-eric-data-document-database-pg',\n",
       "  'backup': [{'id': 'DemoBackup21',\n",
       "    'status': 'backup-complete',\n",
       "    'sw-version': [{'type': 'Database',\n",
       "      'description': 'eric-data-document-database-pg Agent for backup and restore.',\n",
       "      'product-name': 'Document Database PG',\n",
       "      'product-number': 'APR 201 34',\n",
       "      'production-date': '2022-02-17T14:44:03.782183Z',\n",
       "      'product-revision': '7.1.0-19'},\n",
       "     {'type': 'Predelivery',\n",
       "      'description': 'Test Application Drop 15',\n",
       "      'product-name': 'Test Application',\n",
       "      'product-number': 'APR XXX XX/X',\n",
       "      'production-date': '2019-05-17T14:12:44+00:00',\n",
       "      'product-revision': 'R1A'}],\n",
       "    'backup-name': 'DemoBackup21',\n",
       "    'creation-time': '2022-02-17T14:44:03.703133Z',\n",
       "    'creation-type': 'manual',\n",
       "    'progress-report': []}],\n",
       "  'scheduler': {'admin-state': 'unlocked',\n",
       "   'auto-export': 'disabled',\n",
       "   'periodic-event': [],\n",
       "   'progress-report': [],\n",
       "   'scheduled-backup-name': 'SCHEDULED_BACKUP'},\n",
       "  'backup-type': '',\n",
       "  'housekeeping': {'auto-delete': 'enabled', 'max-stored-manual-backups': 1},\n",
       "  'backup-domain': '',\n",
       "  'progress-report': [{'state': 'finished',\n",
       "    'result': 'success',\n",
       "    'action-id': 31697,\n",
       "    'action-name': 'CREATE_BACKUP',\n",
       "    'result-info': '{Agent: eric-data-document-database-pg, Stage: EXECUTION, success: true, message: Preparation for backup is successful}, {Agent: eric-data-document-database-pg, Stage: POST_ACTIONS, success: true, message: The PG B&R Agent has completed a backup for DemoBackup21}, {Agent: eric-data-document-database-pg, Stage: COMPLETE, success: true, message: Post backup actions completed}',\n",
       "    'additional-info': [],\n",
       "    'progress-percentage': 100,\n",
       "    'time-action-started': '2022-02-17T14:44:01.986743Z',\n",
       "    'time-action-completed': '2022-02-17T14:44:17.263406Z',\n",
       "    'time-of-last-status-update': '2022-02-17T14:44:17.263406Z'}]}}"
      ]
     },
     "execution_count": 32,
     "metadata": {},
     "output_type": "execute_result"
    }
   ],
   "source": [
    "url = f'{baseurl}/cm/api/v1/configurations/ericsson-brm?jsonpointer=/ericsson-brm:brm/backup-manager/0'\n",
    "result = requests.get(url)\n",
    "result.json()"
   ]
  },
  {
   "cell_type": "markdown",
   "id": "hazardous-helena",
   "metadata": {},
   "source": [
    "#### Get 1st backup of the 1st brm"
   ]
  },
  {
   "cell_type": "code",
   "execution_count": 31,
   "id": "integrated-offense",
   "metadata": {
    "scrolled": true
   },
   "outputs": [
    {
     "data": {
      "text/plain": [
       "{'name': 'ericsson-brm',\n",
       " 'title': 'ericsson-brm',\n",
       " 'data': {'id': 'DemoBackup21',\n",
       "  'status': 'backup-complete',\n",
       "  'sw-version': [{'type': 'Database',\n",
       "    'description': 'eric-data-document-database-pg Agent for backup and restore.',\n",
       "    'product-name': 'Document Database PG',\n",
       "    'product-number': 'APR 201 34',\n",
       "    'production-date': '2022-02-17T14:44:03.782183Z',\n",
       "    'product-revision': '7.1.0-19'},\n",
       "   {'type': 'Predelivery',\n",
       "    'description': 'Test Application Drop 15',\n",
       "    'product-name': 'Test Application',\n",
       "    'product-number': 'APR XXX XX/X',\n",
       "    'production-date': '2019-05-17T14:12:44+00:00',\n",
       "    'product-revision': 'R1A'}],\n",
       "  'backup-name': 'DemoBackup21',\n",
       "  'creation-time': '2022-02-17T14:44:03.703133Z',\n",
       "  'creation-type': 'manual',\n",
       "  'progress-report': []}}"
      ]
     },
     "execution_count": 31,
     "metadata": {},
     "output_type": "execute_result"
    }
   ],
   "source": [
    "url = f'{baseurl}/cm/api/v1/configurations/ericsson-brm?jsonpointer=/ericsson-brm:brm/backup-manager/0/backup/0'\n",
    "result = requests.get(url)\n",
    "result.json()"
   ]
  },
  {
   "cell_type": "markdown",
   "id": "worse-nashville",
   "metadata": {},
   "source": [
    "### Using jsonpath query"
   ]
  },
  {
   "cell_type": "code",
   "execution_count": 39,
   "id": "utility-preview",
   "metadata": {},
   "outputs": [
    {
     "data": {
      "text/plain": [
       "{'name': 'ericsson-brm', 'title': 'ericsson-brm', 'data': []}"
      ]
     },
     "execution_count": 39,
     "metadata": {},
     "output_type": "execute_result"
    }
   ],
   "source": [
    "url = f\"{baseurl}/cm/api/v1/configurations/ericsson-brm?jsonpath='$..brm'\"\n",
    "result = requests.get(url)\n",
    "result.json()"
   ]
  },
  {
   "cell_type": "markdown",
   "id": "vulnerable-uncle",
   "metadata": {},
   "source": [
    "## Schema"
   ]
  },
  {
   "cell_type": "markdown",
   "id": "metallic-receipt",
   "metadata": {},
   "source": [
    "### List schemas"
   ]
  },
  {
   "cell_type": "code",
   "execution_count": 9,
   "id": "hired-morrison",
   "metadata": {},
   "outputs": [
    {
     "data": {
      "text/plain": [
       "[{'name': 'ietf-netconf-acm',\n",
       "  'title': 'CMYP Network Configuration Access Control Model'},\n",
       " {'name': 'ericsson-brm', 'title': 'ericsson-brm'}]"
      ]
     },
     "execution_count": 9,
     "metadata": {},
     "output_type": "execute_result"
    }
   ],
   "source": [
    "url = f'{baseurl}/cm/api/v1/schemas'\n",
    "result = requests.get(url)\n",
    "result.json()"
   ]
  },
  {
   "cell_type": "markdown",
   "id": "deadly-spell",
   "metadata": {},
   "source": [
    "### Detail a schema"
   ]
  },
  {
   "cell_type": "code",
   "execution_count": 11,
   "id": "adopted-lyric",
   "metadata": {},
   "outputs": [
    {
     "data": {
      "text/plain": [
       "{'name': 'ericsson-brm',\n",
       " 'title': 'ericsson-brm',\n",
       " 'jsonSchema': {'type': 'object',\n",
       "  'title': 'ericsson-brm',\n",
       "  '$schema': 'http://json-schema.org/draft-07/schema#',\n",
       "  'properties': {'ericsson-brm:brm': {'type': 'object',\n",
       "    'properties': {'backup-manager': {'type': 'array',\n",
       "      'items': {'type': 'object',\n",
       "       'required': ['backup-domain', 'backup-type', 'id'],\n",
       "       'properties': {'id': {'type': 'string',\n",
       "         'description': 'Identity of the backup-manager.'},\n",
       "        'backup': {'type': 'array',\n",
       "         'items': {'type': 'object',\n",
       "          'required': ['backup-name',\n",
       "           'creation-time',\n",
       "           'creation-type',\n",
       "           'id',\n",
       "           'status'],\n",
       "          'properties': {'id': {'type': 'string',\n",
       "            'description': 'Identity of the backup.'},\n",
       "           'status': {'enum': ['backup-complete',\n",
       "             'backup-incomplete',\n",
       "             'backup-corrupted'],\n",
       "            'description': 'Status of the backup.'},\n",
       "           'sw-version': {'type': 'array',\n",
       "            'items': {'type': 'object',\n",
       "             'required': ['description',\n",
       "              'product-name',\n",
       "              'product-number',\n",
       "              'product-revision',\n",
       "              'production-date',\n",
       "              'type'],\n",
       "             'properties': {'type': {'type': 'string',\n",
       "               'description': 'Free text description of the product type.'},\n",
       "              'description': {'type': 'string',\n",
       "               'description': 'Free text description of the product.'},\n",
       "              'product-name': {'type': 'string',\n",
       "               'description': 'Name of the product.'},\n",
       "              'product-number': {'type': 'string',\n",
       "               'description': 'Product number of the product.'},\n",
       "              'production-date': {'type': 'string',\n",
       "               'format': 'date-time',\n",
       "               'description': 'Production date of the product.'},\n",
       "              'product-revision': {'type': 'string',\n",
       "               'description': 'Revision state of the product.'},\n",
       "              'semantic-version': {'type': 'string',\n",
       "               'pattern': '^\\\\d+[.]\\\\d+[.]\\\\d+(-[\\\\w\\\\d.]+)?([+][\\\\w\\\\d\\\\.]+)?$',\n",
       "               'description': 'Semantic version of the product. semantic-version will change to a new value whenever product-revision changes. A specific product-version will always be acompanied by the same semantic-version.'},\n",
       "              'commercial-version': {'type': 'string',\n",
       "               'description': 'Commercial version of the product. commercial-version will change to a new value whenever product-revision changes. A specific product-version will always be acompanied by the same commercial-version.'}},\n",
       "             'additionalProperties': False},\n",
       "            'description': 'The administrative data portion of active software versions as specified in the software inventory management, when the backup is created.',\n",
       "            'uniqueItems': True},\n",
       "           'backup-name': {'type': 'string',\n",
       "            'description': 'Backup name, provided by the operator.'},\n",
       "           'creation-time': {'type': 'string',\n",
       "            'format': 'date-time',\n",
       "            'description': 'Date and time when the backup was created, i.e., start time of backup procedure.'},\n",
       "           'creation-type': {'enum': ['manual', 'scheduled', 'system-created'],\n",
       "            'description': 'Creation type; whether manually created or automatically via scheduler.'},\n",
       "           'progress-report': {'type': 'array',\n",
       "            'items': {'type': 'object',\n",
       "             'required': ['time-action-started', 'time-of-last-status-update'],\n",
       "             'properties': {'state': {'enum': ['cancelling',\n",
       "                'running',\n",
       "                'finished',\n",
       "                'cancelled'],\n",
       "               'description': 'Current state of the action.'},\n",
       "              'result': {'enum': ['success', 'failure', 'not-available'],\n",
       "               'description': 'Result state of a completed action. This field has value not-available if the action is not finished.'},\n",
       "              'action-id': {'type': 'integer',\n",
       "               'format': 'uint16',\n",
       "               'maximum': 65535,\n",
       "               'minimum': 0,\n",
       "               'description': 'Uniquely identifies the invocation of an action. Identifies the invocation of an action when the managed object allows invocation of more than one action at a time.'},\n",
       "              'action-name': {'type': 'string',\n",
       "               'description': 'Name of the invoked asynchronous action.'},\n",
       "              'result-info': {'type': 'string',\n",
       "               'description': 'Textual description of the outcome/result of the action containing useful information for the NMS. If the action failed, it can contain an error message.'},\n",
       "              'progress-info': {'type': 'string',\n",
       "               'description': 'Textual information that describes the actual state of the action execution.'},\n",
       "              'additional-info': {'type': 'array',\n",
       "               'items': {'type': 'string'},\n",
       "               'description': 'Used for logging significant messages during execution of an action.'},\n",
       "              'progress-percentage': {'type': 'integer',\n",
       "               'format': 'uint8',\n",
       "               'maximum': 100,\n",
       "               'minimum': 0,\n",
       "               'description': 'Progress of the action.'},\n",
       "              'time-action-started': {'type': 'string',\n",
       "               'format': 'date-time',\n",
       "               'description': 'Date and time when the current action was started.'},\n",
       "              'time-action-completed': {'type': 'string',\n",
       "               'format': 'date-time',\n",
       "               'description': 'Date and time when the action was completed (successfully or unsuccessfully).'},\n",
       "              'time-of-last-status-update': {'type': 'string',\n",
       "               'format': 'date-time',\n",
       "               'description': 'Date and time when the struct member state was last updated.'}},\n",
       "             'additionalProperties': False},\n",
       "            'maxItems': 1,\n",
       "            'description': 'Represents the progress report and final result of the ongoing (asynchronous) action in this backup, for example restore. Backup supports only one action to be executed at a time.',\n",
       "            'uniqueItems': True}},\n",
       "          'additionalProperties': False},\n",
       "         'description': 'Represents one backup of the type and domain specified by the backup-manager in which it is contained.',\n",
       "         'uniqueItems': True,\n",
       "         'eric-adp-actions': ['ericsson-brm:brm::backup-manager::backup::restore',\n",
       "          'ericsson-brm:brm::backup-manager::backup::export']},\n",
       "        'scheduler': {'type': 'object',\n",
       "         'properties': {'admin-state': {'enum': ['locked', 'unlocked'],\n",
       "           'default': 'unlocked',\n",
       "           'description': 'Administrative state of the scheduler.'},\n",
       "          'auto-export': {'enum': ['enabled', 'disabled'],\n",
       "           'default': 'disabled',\n",
       "           'description': 'Determines whether a scheduled backup is to be automatically exported at successful creation. If set to ENABLED, the scheduled backup specified by the leaf most-recently-created-auto-backup is exported to the location specified by leaf auto-export-uri after it is successfully created. Note that the automatic export is only triggered if creation of the scheduled backup was successful. Otherwise, no export operation is triggered, even if this leaf is set to ENABLED. Also, note that setting this leaf to ENABLED has no impact on the scheduled backups that were already created and stored prior to the new configuration.'},\n",
       "          'periodic-event': {'type': 'array',\n",
       "           'items': {'type': 'object',\n",
       "            'required': ['hours', 'id'],\n",
       "            'properties': {'id': {'type': 'string',\n",
       "              'description': 'Identity of the periodic-event.'},\n",
       "             'days': {'type': 'integer',\n",
       "              'format': 'uint16',\n",
       "              'default': '0',\n",
       "              'maximum': 65535,\n",
       "              'minimum': 0,\n",
       "              'description': 'The number of days.'},\n",
       "             'hours': {'type': 'integer',\n",
       "              'format': 'uint16',\n",
       "              'maximum': 65535,\n",
       "              'minimum': 0,\n",
       "              'description': 'The number of hours.'},\n",
       "             'weeks': {'type': 'integer',\n",
       "              'format': 'uint16',\n",
       "              'default': '0',\n",
       "              'maximum': 65535,\n",
       "              'minimum': 0,\n",
       "              'description': 'The number of weeks.'},\n",
       "             'minutes': {'type': 'integer',\n",
       "              'format': 'uint16',\n",
       "              'default': '0',\n",
       "              'maximum': 65535,\n",
       "              'minimum': 0,\n",
       "              'description': 'The number of minutes.'},\n",
       "             'stop-time': {'type': 'string',\n",
       "              'format': 'date-time',\n",
       "              'description': 'Stop time. If no stop-time present the event continues indefinitely.'},\n",
       "             'start-time': {'type': 'string',\n",
       "              'format': 'date-time',\n",
       "              'description': 'Start time. If not specified, the implementation uses the current system time as the default value.'}},\n",
       "            'additionalProperties': False},\n",
       "           'description': 'Periodic backup event. This construct can be used to configure a periodic scheduled backup event by specifying the number of months, weeks, days, hours, or minutes. For instance, in order to configure a scheduled backup event to occur every 12 hours, the following setup must be done: hours = 12. If more than one leaf is set, the values are added when calculating the next scheduled event. For example, if hours = 6 and minutes = 30, the scheduled backup event occurs every 6 hour and 30 minutes. The start time for calculating scheduled events is assumed to be the current system time by default, unless explicitly set using the start-time leaf. Furthermore, if the configured event is to stop at a specific date, leaf stop-time must be set accordingly. Daylight saving adjustments in Spring and Fall are addressed in such a way that the affected scheduled backup events are triggered exactly once only',\n",
       "           'uniqueItems': True},\n",
       "          'auto-export-uri': {'type': 'string',\n",
       "           'format': 'uri',\n",
       "           'description': 'Uri used by the backup scheduler when automatically exporting a scheduled backup. If leaf auto-export is set to ENABLED, this uri specifies the location to which the scheduled backup is automatically exported.'},\n",
       "          'progress-report': {'type': 'array',\n",
       "           'items': {'type': 'object',\n",
       "            'required': ['time-action-started', 'time-of-last-status-update'],\n",
       "            'properties': {'state': {'enum': ['cancelling',\n",
       "               'running',\n",
       "               'finished',\n",
       "               'cancelled'],\n",
       "              'description': 'Current state of the action.'},\n",
       "             'result': {'enum': ['success', 'failure', 'not-available'],\n",
       "              'description': 'Result state of a completed action. This field has value not-available if the action is not finished.'},\n",
       "             'action-id': {'type': 'integer',\n",
       "              'format': 'uint16',\n",
       "              'maximum': 65535,\n",
       "              'minimum': 0,\n",
       "              'description': 'Uniquely identifies the invocation of an action. Identifies the invocation of an action when the managed object allows invocation of more than one action at a time.'},\n",
       "             'action-name': {'type': 'string',\n",
       "              'description': 'Name of the invoked asynchronous action.'},\n",
       "             'result-info': {'type': 'string',\n",
       "              'description': 'Textual description of the outcome/result of the action containing useful information for the NMS. If the action failed, it can contain an error message.'},\n",
       "             'progress-info': {'type': 'string',\n",
       "              'description': 'Textual information that describes the actual state of the action execution.'},\n",
       "             'additional-info': {'type': 'array',\n",
       "              'items': {'type': 'string'},\n",
       "              'description': 'Used for logging significant messages during execution of an action.'},\n",
       "             'progress-percentage': {'type': 'integer',\n",
       "              'format': 'uint8',\n",
       "              'maximum': 100,\n",
       "              'minimum': 0,\n",
       "              'description': 'Progress of the action.'},\n",
       "             'time-action-started': {'type': 'string',\n",
       "              'format': 'date-time',\n",
       "              'description': 'Date and time when the current action was started.'},\n",
       "             'time-action-completed': {'type': 'string',\n",
       "              'format': 'date-time',\n",
       "              'description': 'Date and time when the action was completed (successfully or unsuccessfully).'},\n",
       "             'time-of-last-status-update': {'type': 'string',\n",
       "              'format': 'date-time',\n",
       "              'description': 'Date and time when the struct member state was last updated.'}},\n",
       "            'additionalProperties': False},\n",
       "           'maxItems': 1,\n",
       "           'description': 'Reports the progress and final result of the ongoing (asynchronous) scheduled backup operation.',\n",
       "           'uniqueItems': True},\n",
       "          'next-scheduled-time': {'type': 'string',\n",
       "           'format': 'date-time',\n",
       "           'description': 'The date and time when the next scheduled event is triggered. This is the earliest scheduled event from the set of configured events, i.e. single, periodic, and calendar-based periodic events.'},\n",
       "          'auto-export-password': {'type': 'string',\n",
       "           'format': 'eric-adp-cm-secret',\n",
       "           'description': 'Password used by the backup scheduler when automatically exporting a scheduled backup. If leaf auto-export is set to ENABLED, this password is used for authentication when automatically exporting the scheduled backup. No need to specify this leaf if no password is required for accessing auto-export-uri.',\n",
       "           'eric-adp-is-passphrase': 'true'},\n",
       "          'scheduled-backup-name': {'type': 'string',\n",
       "           'default': 'SCHEDULED_BACKUP',\n",
       "           'description': 'The configurable portion of the scheduled backup name. The scheduled backups are named <scheduled-backup-name>-<creation date and time>, where creation date and time is of type yang:date-and-time.'},\n",
       "          'most-recently-created-auto-backup': {'type': 'string',\n",
       "           'description': 'The name of the scheduled backup created most recently by the backup scheduler.'}},\n",
       "         'description': 'Provides optional support for scheduling backup creation for the parent backup-manager. The scheduled backup events can be Single Events, Calendar Based Periodic Events, or Periodic Events as defined by the child lists.',\n",
       "         'additionalProperties': False},\n",
       "        'backup-type': {'type': 'string',\n",
       "         'description': 'Type of backup, for example System Data or User Data.'},\n",
       "        'housekeeping': {'type': 'object',\n",
       "         'properties': {'auto-delete': {'enum': ['enabled', 'disabled'],\n",
       "           'default': 'enabled',\n",
       "           'description': 'Determines whether automated housekeeping of manual backups is enabled. If ENABLED and the number of backups already stored on the ME is equal to the value of max-stored-manual-backups, the oldest backup is removed before creating a new one. If set to DISABLED, no backup is removed. Instead, when action create-backup() is invoked, it returns a failure parameter.'},\n",
       "          'max-stored-manual-backups': {'type': 'integer',\n",
       "           'format': 'uint16',\n",
       "           'default': '1',\n",
       "           'maximum': 65535,\n",
       "           'minimum': 0,\n",
       "           'description': 'Maximum number of manual backups, per backup type, to store in the ME. When this limit is reached, if auto-delete=ENABLED, BRM removes the oldest manual backup before creating a new one. Otherwise an error is returned when create-backup() is invoked and the NMS must perform the required housekeeping activity before attempting to create a new backup.'}},\n",
       "         'description': 'Provides optional support for automated housekeeping of manually created backups. If auto-delete is set to ENABLED before creating a new manual backup, BRM first checks the number of manual backups, and if the limit specified by the value of max-stored-manual-backups is reached, BRM removes the oldest manual backup before creating a new one.',\n",
       "         'additionalProperties': False},\n",
       "        'backup-domain': {'type': 'string',\n",
       "         'description': 'Backup domain, for example System.'},\n",
       "        'progress-report': {'type': 'array',\n",
       "         'items': {'type': 'object',\n",
       "          'required': ['time-action-started', 'time-of-last-status-update'],\n",
       "          'properties': {'state': {'enum': ['cancelling',\n",
       "             'running',\n",
       "             'finished',\n",
       "             'cancelled'],\n",
       "            'description': 'Current state of the action.'},\n",
       "           'result': {'enum': ['success', 'failure', 'not-available'],\n",
       "            'description': 'Result state of a completed action. This field has value not-available if the action is not finished.'},\n",
       "           'action-id': {'type': 'integer',\n",
       "            'format': 'uint16',\n",
       "            'maximum': 65535,\n",
       "            'minimum': 0,\n",
       "            'description': 'Uniquely identifies the invocation of an action. Identifies the invocation of an action when the managed object allows invocation of more than one action at a time.'},\n",
       "           'action-name': {'type': 'string',\n",
       "            'description': 'Name of the invoked asynchronous action.'},\n",
       "           'result-info': {'type': 'string',\n",
       "            'description': 'Textual description of the outcome/result of the action containing useful information for the NMS. If the action failed, it can contain an error message.'},\n",
       "           'progress-info': {'type': 'string',\n",
       "            'description': 'Textual information that describes the actual state of the action execution.'},\n",
       "           'additional-info': {'type': 'array',\n",
       "            'items': {'type': 'string'},\n",
       "            'description': 'Used for logging significant messages during execution of an action.'},\n",
       "           'progress-percentage': {'type': 'integer',\n",
       "            'format': 'uint8',\n",
       "            'maximum': 100,\n",
       "            'minimum': 0,\n",
       "            'description': 'Progress of the action.'},\n",
       "           'time-action-started': {'type': 'string',\n",
       "            'format': 'date-time',\n",
       "            'description': 'Date and time when the current action was started.'},\n",
       "           'time-action-completed': {'type': 'string',\n",
       "            'format': 'date-time',\n",
       "            'description': 'Date and time when the action was completed (successfully or unsuccessfully).'},\n",
       "           'time-of-last-status-update': {'type': 'string',\n",
       "            'format': 'date-time',\n",
       "            'description': 'Date and time when the struct member state was last updated.'}},\n",
       "          'additionalProperties': False},\n",
       "         'maxItems': 1,\n",
       "         'description': 'Represents the progress report and final result of the ongoing (asynchronous) action, for example create-backup. Supports only one action to be executed at a time.',\n",
       "         'uniqueItems': True}},\n",
       "       'additionalProperties': False},\n",
       "      'description': 'Top node for a backup-domain/type.',\n",
       "      'uniqueItems': True,\n",
       "      'eric-adp-actions': ['ericsson-brm:brm::backup-manager::create-backup',\n",
       "       'ericsson-brm:brm::backup-manager::delete-backup',\n",
       "       'ericsson-brm:brm::backup-manager::import-backup']}},\n",
       "    'description': 'Backup and Restore Management.',\n",
       "    'additionalProperties': False}},\n",
       "  'description': 'Generated by jsonschema-generator (1.20.0-811 2021-08-25 12:00:09 CEST) from Yang module ericsson-brm (4.1.0) on Sep 6, 2021 2:44:21 PM. Features: [ericsson-brm:housekeeping, ericsson-brm:scheduler]. Deviations/extensions: [ericsson-brm-ext-adp]',\n",
       "  'eric-adp-name': 'eric-ctrl-bro',\n",
       "  'eric-adp-version': '1.3.0',\n",
       "  'eric-adp-genoptions': [{'eric-adp-actions': True},\n",
       "   {'encoding-format': 'eric-rfc7951-json'}],\n",
       "  'additionalProperties': False,\n",
       "  'eric-adp-yang-module': 'ericsson-brm',\n",
       "  'eric-adp-encoding-format': 'eric-rfc7951-json'},\n",
       " 'createTime': '2022-02-17T14:44:02.182292Z',\n",
       " 'modifiedTime': '2022-02-17T14:44:02.182292Z',\n",
       " 'actions': {'implementerUri': 'https://eric-ctrl-bro:7002/v2'},\n",
       " 'yangArchiveMd5': '2c26f3e3f671c99bd7295f6f0bd90bfa'}"
      ]
     },
     "execution_count": 11,
     "metadata": {},
     "output_type": "execute_result"
    }
   ],
   "source": [
    "url = f'{baseurl}/cm/api/v1/schemas/ericsson-brm'\n",
    "result = requests.get(url)\n",
    "result.json()"
   ]
  },
  {
   "cell_type": "markdown",
   "id": "governmental-mediterranean",
   "metadata": {},
   "source": [
    "### List action implementers"
   ]
  },
  {
   "cell_type": "code",
   "execution_count": 21,
   "id": "straight-development",
   "metadata": {},
   "outputs": [
    {
     "data": {
      "text/plain": [
       "{'implementerUri': 'https://eric-ctrl-bro:7002/v2'}"
      ]
     },
     "execution_count": 21,
     "metadata": {},
     "output_type": "execute_result"
    }
   ],
   "source": [
    "url = f'{baseurl}/cm/api/v1/schemas/ericsson-brm/actions'\n",
    "result = requests.get(url)\n",
    "result.json()"
   ]
  },
  {
   "cell_type": "markdown",
   "id": "underlying-sender",
   "metadata": {},
   "source": [
    "### List validators"
   ]
  },
  {
   "cell_type": "code",
   "execution_count": 22,
   "id": "twenty-teens",
   "metadata": {},
   "outputs": [
    {
     "data": {
      "text/plain": [
       "[]"
      ]
     },
     "execution_count": 22,
     "metadata": {},
     "output_type": "execute_result"
    }
   ],
   "source": [
    "url = f'{baseurl}/cm/api/v1/schemas/ericsson-brm/validators'\n",
    "result = requests.get(url)\n",
    "result.json()"
   ]
  },
  {
   "cell_type": "markdown",
   "id": "alone-straight",
   "metadata": {},
   "source": [
    "### List Data Source"
   ]
  },
  {
   "cell_type": "code",
   "execution_count": 24,
   "id": "available-project",
   "metadata": {},
   "outputs": [
    {
     "data": {
      "text/plain": [
       "[]"
      ]
     },
     "execution_count": 24,
     "metadata": {},
     "output_type": "execute_result"
    }
   ],
   "source": [
    "url = f'{baseurl}/cm/api/v1/schemas/ericsson-brm/data-sources'\n",
    "result = requests.get(url)\n",
    "result.json()"
   ]
  },
  {
   "cell_type": "markdown",
   "id": "impossible-printing",
   "metadata": {},
   "source": [
    "## Subscriptions"
   ]
  },
  {
   "cell_type": "markdown",
   "id": "auburn-speaker",
   "metadata": {},
   "source": [
    "### List Subscriptions"
   ]
  },
  {
   "cell_type": "code",
   "execution_count": 15,
   "id": "wooden-eligibility",
   "metadata": {},
   "outputs": [
    {
     "data": {
      "text/plain": [
       "[{'id': 'ericsson-brm', 'leaseSeconds': 157679369}]"
      ]
     },
     "execution_count": 15,
     "metadata": {},
     "output_type": "execute_result"
    }
   ],
   "source": [
    "url = f'{baseurl}/cm/api/v1/subscriptions'\n",
    "result = requests.get(url)\n",
    "result.json()"
   ]
  },
  {
   "cell_type": "markdown",
   "id": "informal-gibraltar",
   "metadata": {},
   "source": [
    "### Detail a subscription"
   ]
  },
  {
   "cell_type": "code",
   "execution_count": 16,
   "id": "understood-saver",
   "metadata": {
    "scrolled": true
   },
   "outputs": [
    {
     "data": {
      "text/plain": [
       "{'id': 'ericsson-brm',\n",
       " 'configName': 'ericsson-brm',\n",
       " 'event': ['configUpdated'],\n",
       " 'updateNotificationFormat': 'patch',\n",
       " 'callback': 'https://eric-ctrl-bro:7004/v3/confighandler',\n",
       " 'leaseSeconds': 157679326}"
      ]
     },
     "execution_count": 16,
     "metadata": {},
     "output_type": "execute_result"
    }
   ],
   "source": [
    "url = f'{baseurl}/cm/api/v1/subscriptions/ericsson-brm'\n",
    "result = requests.get(url)\n",
    "result.json()"
   ]
  }
 ],
 "metadata": {
  "kernelspec": {
   "display_name": "Python 3",
   "language": "python",
   "name": "python3"
  },
  "language_info": {
   "codemirror_mode": {
    "name": "ipython",
    "version": 3
   },
   "file_extension": ".py",
   "mimetype": "text/x-python",
   "name": "python",
   "nbconvert_exporter": "python",
   "pygments_lexer": "ipython3",
   "version": "3.8.10"
  }
 },
 "nbformat": 4,
 "nbformat_minor": 5
}
