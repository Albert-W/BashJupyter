{
 "cells": [
  {
   "cell_type": "markdown",
   "id": "acquired-revelation",
   "metadata": {},
   "source": [
    "# BRO Demo Progress Info"
   ]
  },
  {
   "cell_type": "code",
   "execution_count": 33,
   "id": "integrated-navigator",
   "metadata": {},
   "outputs": [],
   "source": [
    "import requests\n",
    "baseurl = 'http://10.120.217.249:7001'"
   ]
  },
  {
   "cell_type": "code",
   "execution_count": 34,
   "id": "traditional-trader",
   "metadata": {},
   "outputs": [
    {
     "data": {
      "text/plain": [
       "{'availability': 'Available',\n",
       " 'ongoingAction': {},\n",
       " 'registeredAgents': ['eric-data-document-database-pg',\n",
       "  'agent-one',\n",
       "  'agent-two'],\n",
       " 'status': 'Healthy'}"
      ]
     },
     "execution_count": 34,
     "metadata": {},
     "output_type": "execute_result"
    }
   ],
   "source": [
    "result = requests.get(baseurl+'/v1/health')\n",
    "result.json()"
   ]
  },
  {
   "cell_type": "code",
   "execution_count": 24,
   "id": "pregnant-middle",
   "metadata": {},
   "outputs": [],
   "source": [
    "BRM = 'DEFAULT'"
   ]
  },
  {
   "cell_type": "code",
   "execution_count": 25,
   "id": "completed-investigator",
   "metadata": {},
   "outputs": [],
   "source": [
    "VBRM= 'DEFAULT-eric-data-document-database-pg'"
   ]
  },
  {
   "cell_type": "markdown",
   "id": "stable-eight",
   "metadata": {},
   "source": [
    "## Action"
   ]
  },
  {
   "cell_type": "markdown",
   "id": "recovered-marine",
   "metadata": {},
   "source": [
    "### List Actions"
   ]
  },
  {
   "cell_type": "code",
   "execution_count": 7,
   "id": "strong-million",
   "metadata": {
    "scrolled": true
   },
   "outputs": [
    {
     "data": {
      "text/plain": [
       "{'actions': [{'name': 'CREATE_BACKUP',\n",
       "   'result': 'SUCCESS',\n",
       "   'startTime': '2022-02-16T13:46:29.4434Z',\n",
       "   'id': '17862'},\n",
       "  {'name': 'HOUSEKEEPING',\n",
       "   'result': 'SUCCESS',\n",
       "   'startTime': '2022-02-16T13:46:29.565475Z',\n",
       "   'id': '20146'}]}"
      ]
     },
     "execution_count": 7,
     "metadata": {},
     "output_type": "execute_result"
    }
   ],
   "source": [
    "BRM = 'configuration-data'\n",
    "url = baseurl + f'/v1/backup-manager/{VBRM}/action/'\n",
    "result = requests.get(url)\n",
    "result.json()"
   ]
  },
  {
   "cell_type": "code",
   "execution_count": null,
   "id": "functional-precipitation",
   "metadata": {},
   "outputs": [],
   "source": [
    "actionid = '13788'"
   ]
  },
  {
   "cell_type": "markdown",
   "id": "plain-findings",
   "metadata": {},
   "source": [
    "### Detail an action"
   ]
  },
  {
   "cell_type": "code",
   "execution_count": 39,
   "id": "satisfied-delight",
   "metadata": {},
   "outputs": [
    {
     "data": {
      "text/plain": [
       "{'name': 'CREATE_BACKUP',\n",
       " 'result': 'SUCCESS',\n",
       " 'payload': {'backupName': 'DemoBackup21'},\n",
       " 'resultInfo': '{Agent: eric-data-document-database-pg, Stage: EXECUTION, success: true, message: Preparation for backup is successful}, {Agent: eric-data-document-database-pg, Stage: POST_ACTIONS, success: true, message: The PG B&R Agent has completed a backup for DemoBackup21}, {Agent: eric-data-document-database-pg, Stage: COMPLETE, success: true, message: Post backup actions completed}',\n",
       " 'state': 'FINISHED',\n",
       " 'progressPercentage': 1.0,\n",
       " 'startTime': '2022-02-17T14:44:01.986743Z',\n",
       " 'completionTime': '2022-02-17T14:44:17.263406Z',\n",
       " 'lastUpdateTime': '2022-02-17T14:44:17.263406Z',\n",
       " 'id': '31697'}"
      ]
     },
     "execution_count": 39,
     "metadata": {},
     "output_type": "execute_result"
    }
   ],
   "source": [
    "url = baseurl + f'/v1/backup-manager/{VBRM}/action/{actionid}'\n",
    "result = requests.get(url)\n",
    "result.json()"
   ]
  },
  {
   "cell_type": "markdown",
   "id": "afraid-lounge",
   "metadata": {},
   "source": [
    "### Create a backup"
   ]
  },
  {
   "cell_type": "code",
   "execution_count": 36,
   "id": "enabling-professional",
   "metadata": {},
   "outputs": [],
   "source": [
    "backupName = 'DemoBackup21'"
   ]
  },
  {
   "cell_type": "code",
   "execution_count": 37,
   "id": "photographic-development",
   "metadata": {
    "scrolled": true
   },
   "outputs": [
    {
     "data": {
      "text/plain": [
       "'31697'"
      ]
     },
     "execution_count": 37,
     "metadata": {},
     "output_type": "execute_result"
    }
   ],
   "source": [
    "url = baseurl + f'/v1/backup-manager/{VBRM}/action'\n",
    "body = {\n",
    "      \"action\": \"CREATE_BACKUP\",\n",
    "      \"payload\": {\n",
    "        \"backupName\": backupName\n",
    "      }\n",
    "    }\n",
    "result = requests.post(url, json = body)\n",
    "actionid = result.json().get('id')\n",
    "actionid"
   ]
  },
  {
   "cell_type": "markdown",
   "id": "secret-suggestion",
   "metadata": {},
   "source": [
    "### Delete a backup"
   ]
  },
  {
   "cell_type": "code",
   "execution_count": 10,
   "id": "adequate-session",
   "metadata": {
    "scrolled": true
   },
   "outputs": [
    {
     "data": {
      "text/plain": [
       "'44802'"
      ]
     },
     "execution_count": 10,
     "metadata": {},
     "output_type": "execute_result"
    }
   ],
   "source": [
    "url = baseurl + f'/v1/backup-manager/{VBRM}/action'\n",
    "body = {\n",
    "      \"action\": \"DELETE_BACKUP\",\n",
    "      \"payload\": {\n",
    "        \"backupName\": backupName\n",
    "      }\n",
    "    }\n",
    "result = requests.post(url, json = body)\n",
    "actionid = result.json().get('id')\n",
    "actionid"
   ]
  },
  {
   "cell_type": "markdown",
   "id": "inner-receipt",
   "metadata": {},
   "source": [
    "### Restore a backup"
   ]
  },
  {
   "cell_type": "code",
   "execution_count": 14,
   "id": "agreed-retrieval",
   "metadata": {},
   "outputs": [],
   "source": [
    "backupName = 'DemoBackup02'"
   ]
  },
  {
   "cell_type": "code",
   "execution_count": 18,
   "id": "welsh-appointment",
   "metadata": {},
   "outputs": [
    {
     "data": {
      "text/plain": [
       "'52087'"
      ]
     },
     "execution_count": 18,
     "metadata": {},
     "output_type": "execute_result"
    }
   ],
   "source": [
    "url = baseurl + f'/v1/backup-manager/{VBRM}/action'\n",
    "body = {\n",
    "      \"action\": \"RESTORE\",\n",
    "      \"payload\": {\n",
    "        \"backupName\": backupName\n",
    "      }\n",
    "    }\n",
    "result = requests.post(url, json = body)\n",
    "actionid = result.json().get('id')\n",
    "actionid"
   ]
  },
  {
   "cell_type": "markdown",
   "id": "intense-salad",
   "metadata": {},
   "source": [
    "### Export a backup"
   ]
  },
  {
   "cell_type": "code",
   "execution_count": 139,
   "id": "alert-yemen",
   "metadata": {},
   "outputs": [],
   "source": [
    "backupName = 'cmyp-backup05'"
   ]
  },
  {
   "cell_type": "code",
   "execution_count": 20,
   "id": "lyric-charger",
   "metadata": {},
   "outputs": [],
   "source": [
    "# pod ip\n",
    "sftpHost = 'bro-test-sftp'"
   ]
  },
  {
   "cell_type": "code",
   "execution_count": 21,
   "id": "backed-stockholm",
   "metadata": {},
   "outputs": [],
   "source": [
    "url = baseurl + f'/v1/backup-manager/{BRM}/action'\n",
    "body = {\n",
    "      \"action\": \"EXPORT\",\n",
    "      \"payload\": {\n",
    "        \"backupName\": backupName,\n",
    "        \"uri\": f\"sftp://brsftp@{sftpHost}:9022/bro_test\",\n",
    "        \"password\": \"planbsftp\"  \n",
    "      }\n",
    "    }\n",
    "result = requests.post(url, json = body)\n",
    "actionid = result.json().get('id')\n",
    "actionid"
   ]
  },
  {
   "cell_type": "markdown",
   "id": "prospective-structure",
   "metadata": {},
   "source": [
    "### Import a backup"
   ]
  },
  {
   "cell_type": "code",
   "execution_count": 33,
   "id": "imported-account",
   "metadata": {},
   "outputs": [
    {
     "data": {
      "text/plain": [
       "'35296'"
      ]
     },
     "execution_count": 33,
     "metadata": {},
     "output_type": "execute_result"
    }
   ],
   "source": [
    "url = baseurl + f'/v1/backup-manager/{BRM}/action'\n",
    "body = {\n",
    "      \"action\": \"IMPORT\",\n",
    "      \"payload\": {\n",
    "        \"uri\": f\"sftp://brsftp@{sftpHost}:22/bro_test/{BRM}/{backupName}\",\n",
    "        \"password\": \"planbsftp\"  \n",
    "      }\n",
    "    }\n",
    "result = requests.post(url, json = body)\n",
    "actionid = result.json().get('id')\n",
    "actionid"
   ]
  },
  {
   "cell_type": "markdown",
   "id": "altered-sheet",
   "metadata": {},
   "source": [
    "## Backup"
   ]
  },
  {
   "cell_type": "markdown",
   "id": "gothic-attendance",
   "metadata": {},
   "source": [
    "### List backups"
   ]
  },
  {
   "cell_type": "code",
   "execution_count": 40,
   "id": "biological-joining",
   "metadata": {},
   "outputs": [
    {
     "data": {
      "text/plain": [
       "{'backups': [{'name': 'DemoBackup21',\n",
       "   'status': 'COMPLETE',\n",
       "   'creationTime': '2022-02-17T14:44:03.703133Z',\n",
       "   'id': 'DemoBackup21'}]}"
      ]
     },
     "execution_count": 40,
     "metadata": {},
     "output_type": "execute_result"
    }
   ],
   "source": [
    "url = baseurl + f'/v1/backup-manager/{VBRM}/backup'\n",
    "result = requests.get(url)\n",
    "result.json()"
   ]
  },
  {
   "cell_type": "markdown",
   "id": "honey-argument",
   "metadata": {},
   "source": [
    "### Detail a backup"
   ]
  },
  {
   "cell_type": "code",
   "execution_count": 24,
   "id": "constant-negative",
   "metadata": {},
   "outputs": [],
   "source": [
    "backupName = 'DemoBackup01'"
   ]
  },
  {
   "cell_type": "code",
   "execution_count": 39,
   "id": "independent-technology",
   "metadata": {},
   "outputs": [
    {
     "data": {
      "text/plain": [
       "{'name': 'DemoBackup05',\n",
       " 'creationType': 'MANUAL',\n",
       " 'status': 'COMPLETE',\n",
       " 'softwareVersions': [{'productName': 'bravo',\n",
       "   'productNumber': 'CXC 222 22/2',\n",
       "   'productRevision': 'R2',\n",
       "   'date': '2019-02-02',\n",
       "   'description': 'test agent bravo',\n",
       "   'type': 'data',\n",
       "   'agentId': 'bravo'},\n",
       "  {'productName': 'Tiger',\n",
       "   'productNumber': 'CXC 888 88/8',\n",
       "   'productRevision': 'R15',\n",
       "   'date': '2019-08-08',\n",
       "   'description': 'agent tls',\n",
       "   'type': 'Legend',\n",
       "   'agentId': 'tls'},\n",
       "  {'productName': 'Document Database PG',\n",
       "   'productNumber': 'APR 201 34',\n",
       "   'productRevision': '7.0.0-47',\n",
       "   'date': '2022-01-20',\n",
       "   'description': 'eric-data-document-database-pg Agent for backup and restore.',\n",
       "   'type': 'Database',\n",
       "   'agentId': 'eric-data-document-database-pg'},\n",
       "  {'productName': 'Test Application',\n",
       "   'productNumber': 'APR XXX XX/X',\n",
       "   'productRevision': 'R1A',\n",
       "   'date': '2019-05-17T14:12:44+00:00',\n",
       "   'description': 'Test Application Drop 15',\n",
       "   'type': 'Predelivery',\n",
       "   'agentId': 'APPLICATION_INFO'}],\n",
       " 'creationTime': '2022-02-02T14:17:54.796281Z',\n",
       " 'id': 'DemoBackup05'}"
      ]
     },
     "execution_count": 39,
     "metadata": {},
     "output_type": "execute_result"
    }
   ],
   "source": [
    "url = baseurl + f'/v1/backup-manager/{BRM}/backup/{backupName}'\n",
    "result = requests.get(url)\n",
    "result.json()"
   ]
  },
  {
   "cell_type": "markdown",
   "id": "olive-vanilla",
   "metadata": {},
   "source": [
    "## Housekeeping"
   ]
  },
  {
   "cell_type": "markdown",
   "id": "accessory-festival",
   "metadata": {},
   "source": [
    "### Show the housekeeping"
   ]
  },
  {
   "cell_type": "code",
   "execution_count": 50,
   "id": "tested-botswana",
   "metadata": {},
   "outputs": [
    {
     "data": {
      "text/plain": [
       "{'max-stored-manual-backups': 100, 'auto-delete': 'enabled'}"
      ]
     },
     "execution_count": 50,
     "metadata": {},
     "output_type": "execute_result"
    }
   ],
   "source": [
    "url = baseurl + f'/v3/backup-managers/{BRM}/housekeeping'\n",
    "result = requests.get(url)\n",
    "result.json()"
   ]
  },
  {
   "cell_type": "markdown",
   "id": "honey-peripheral",
   "metadata": {},
   "source": [
    "### Update housekeeping config"
   ]
  },
  {
   "cell_type": "code",
   "execution_count": 49,
   "id": "minus-barbados",
   "metadata": {},
   "outputs": [
    {
     "data": {
      "text/plain": [
       "'34724'"
      ]
     },
     "execution_count": 49,
     "metadata": {},
     "output_type": "execute_result"
    }
   ],
   "source": [
    "url = baseurl + f'/v3/backup-managers/{BRM}/housekeeping'\n",
    "body = {\n",
    "      \"auto-delete\": \"enabled\",\n",
    "      \"max-stored-manual-backups\": 100\n",
    "    }\n",
    "result = requests.post(url, json = body)\n",
    "actionid = result.json().get('id')\n",
    "actionid"
   ]
  },
  {
   "cell_type": "markdown",
   "id": "forward-japan",
   "metadata": {},
   "source": [
    "## BRM"
   ]
  },
  {
   "cell_type": "markdown",
   "id": "violent-underground",
   "metadata": {},
   "source": [
    "### List BRM"
   ]
  },
  {
   "cell_type": "code",
   "execution_count": 35,
   "id": "dried-momentum",
   "metadata": {},
   "outputs": [
    {
     "data": {
      "text/plain": [
       "{'backupManagers': [{'id': 'DEFAULT-eric-data-document-database-pg'},\n",
       "  {'id': 'DEFAULT'},\n",
       "  {'id': 'DEFAULT-agent-one'},\n",
       "  {'id': 'configuration-data'},\n",
       "  {'id': 'DEFAULT-agent-two'}]}"
      ]
     },
     "execution_count": 35,
     "metadata": {},
     "output_type": "execute_result"
    }
   ],
   "source": [
    "url = baseurl + '/v1/backup-manager'\n",
    "result = requests.get(url)\n",
    "result.json()"
   ]
  },
  {
   "cell_type": "code",
   "execution_count": 4,
   "id": "vertical-marsh",
   "metadata": {},
   "outputs": [
    {
     "ename": "NameError",
     "evalue": "name 'BRM' is not defined",
     "output_type": "error",
     "traceback": [
      "\u001b[0;31m---------------------------------------------------------------------------\u001b[0m",
      "\u001b[0;31mNameError\u001b[0m                                 Traceback (most recent call last)",
      "\u001b[0;32m<ipython-input-4-61a70a51eaf8>\u001b[0m in \u001b[0;36m<module>\u001b[0;34m\u001b[0m\n\u001b[0;32m----> 1\u001b[0;31m \u001b[0murl\u001b[0m \u001b[0;34m=\u001b[0m \u001b[0mbaseurl\u001b[0m \u001b[0;34m+\u001b[0m \u001b[0;34mf'/v1/backup-manager/{BRM}'\u001b[0m\u001b[0;34m\u001b[0m\u001b[0;34m\u001b[0m\u001b[0m\n\u001b[0m\u001b[1;32m      2\u001b[0m \u001b[0mresult\u001b[0m \u001b[0;34m=\u001b[0m \u001b[0mrequests\u001b[0m\u001b[0;34m.\u001b[0m\u001b[0mget\u001b[0m\u001b[0;34m(\u001b[0m\u001b[0murl\u001b[0m\u001b[0;34m)\u001b[0m\u001b[0;34m\u001b[0m\u001b[0;34m\u001b[0m\u001b[0m\n\u001b[1;32m      3\u001b[0m \u001b[0mresult\u001b[0m\u001b[0;34m.\u001b[0m\u001b[0mjson\u001b[0m\u001b[0;34m(\u001b[0m\u001b[0;34m)\u001b[0m\u001b[0;34m\u001b[0m\u001b[0;34m\u001b[0m\u001b[0m\n",
      "\u001b[0;31mNameError\u001b[0m: name 'BRM' is not defined"
     ]
    }
   ],
   "source": [
    "url = baseurl + f'/v1/backup-manager/{BRM}'\n",
    "result = requests.get(url)\n",
    "result.json()"
   ]
  },
  {
   "cell_type": "markdown",
   "id": "boolean-agency",
   "metadata": {},
   "source": [
    "## Scheduling"
   ]
  },
  {
   "cell_type": "markdown",
   "id": "harmful-covering",
   "metadata": {},
   "source": [
    "### View a BRM's Scheduler"
   ]
  },
  {
   "cell_type": "code",
   "execution_count": 143,
   "id": "unlike-nursery",
   "metadata": {},
   "outputs": [
    {
     "data": {
      "text/plain": [
       "{'adminState': 'UNLOCKED',\n",
       " 'mostRecentlyCreatedAutoBackup': None,\n",
       " 'nextScheduledTime': None,\n",
       " 'scheduledBackupName': 'SCHEDULED_BACKUP',\n",
       " 'autoExport': 'DISABLED',\n",
       " 'autoExportPassword': '',\n",
       " 'autoExportUri': None}"
      ]
     },
     "execution_count": 143,
     "metadata": {},
     "output_type": "execute_result"
    }
   ],
   "source": [
    "url = baseurl + f'/v3/backup-managers/{BRM}/scheduler'\n",
    "result = requests.get(url)\n",
    "result.json()"
   ]
  },
  {
   "cell_type": "markdown",
   "id": "handled-bridge",
   "metadata": {},
   "source": [
    "### update the scheduler"
   ]
  },
  {
   "cell_type": "markdown",
   "id": "coupled-strengthening",
   "metadata": {},
   "source": [
    "Don't execute it when CMYP is enabled. BRO will fail and can't come back."
   ]
  },
  {
   "cell_type": "code",
   "execution_count": 26,
   "id": "juvenile-setup",
   "metadata": {},
   "outputs": [
    {
     "data": {
      "text/plain": [
       "{'adminState': 'UNLOCKED',\n",
       " 'mostRecentlyCreatedAutoBackup': None,\n",
       " 'nextScheduledTime': None,\n",
       " 'scheduledBackupName': 'MY_SCHEDULED',\n",
       " 'autoExport': 'ENABLED',\n",
       " 'autoExportPassword': '*****',\n",
       " 'autoExportUri': 'sftp://brsftp@bro-test-sftp:9022/bro_test'}"
      ]
     },
     "execution_count": 26,
     "metadata": {},
     "output_type": "execute_result"
    }
   ],
   "source": [
    "url = baseurl + f'/v3/backup-managers/{BRM}/scheduler/configuration'\n",
    "body = {\n",
    "      'adminState': 'UNLOCKED',\n",
    "     'scheduledBackupName': 'MY_SCHEDULED',\n",
    "     'autoExport': 'ENABLED',\n",
    "     'autoExportPassword': 'planbsftp',\n",
    "     'autoExportUri': f\"sftp://brsftp@{sftpHost}:9022/bro_test\"\n",
    "    }\n",
    "result = requests.put(url, json = body)\n",
    "result.json()"
   ]
  },
  {
   "cell_type": "markdown",
   "id": "straight-trout",
   "metadata": {},
   "source": [
    "### create a Periodic Scheduling"
   ]
  },
  {
   "cell_type": "code",
   "execution_count": 23,
   "id": "collect-rwanda",
   "metadata": {},
   "outputs": [
    {
     "data": {
      "text/plain": [
       "{'id': '36814'}"
      ]
     },
     "execution_count": 23,
     "metadata": {},
     "output_type": "execute_result"
    }
   ],
   "source": [
    "url = baseurl + f'/v3/backup-managers/{BRM}/scheduler/periodic-events'\n",
    "body = {\n",
    "      'hours': 2,\n",
    "        'minutes': 31,\n",
    "    'startTime':'2022-02-02T17:15:00',\n",
    "    'stopTime':'2022-02-02T18:15:00'\n",
    "    }\n",
    "result = requests.post(url, json = body)\n",
    "result.json()"
   ]
  },
  {
   "cell_type": "code",
   "execution_count": 26,
   "id": "israeli-event",
   "metadata": {},
   "outputs": [
    {
     "data": {
      "text/plain": [
       "'52738'"
      ]
     },
     "execution_count": 26,
     "metadata": {},
     "output_type": "execute_result"
    }
   ],
   "source": [
    "url = baseurl + f'/v3/backup-managers/{BRM}/scheduler/periodic-events'\n",
    "body = {\n",
    "      'hours': 2,\n",
    "        'minutes': 34,\n",
    "    'startTime':'2022-02-02T17:15:00',\n",
    "    'stopTime':'2022-02-02T18:15:00'\n",
    "    }\n",
    "result = requests.post(url, json = body)\n",
    "eventid = result.json().get('id')\n",
    "eventid"
   ]
  },
  {
   "cell_type": "markdown",
   "id": "alone-traveler",
   "metadata": {},
   "source": [
    "### list all periodic-events"
   ]
  },
  {
   "cell_type": "code",
   "execution_count": 16,
   "id": "controlling-moment",
   "metadata": {
    "scrolled": true
   },
   "outputs": [
    {
     "data": {
      "text/plain": [
       "{'events': [{'startTime': '2022-02-02T15:15:00Z',\n",
       "   'stopTime': '2022-02-02T17:15:00Z',\n",
       "   'minutes': 30,\n",
       "   'hours': 0,\n",
       "   'days': 0,\n",
       "   'weeks': 0,\n",
       "   'id': '54103'},\n",
       "  {'startTime': '2022-02-02T17:15:00Z',\n",
       "   'stopTime': '2022-02-02T18:15:00Z',\n",
       "   'minutes': 30,\n",
       "   'hours': 1,\n",
       "   'days': 0,\n",
       "   'weeks': 0,\n",
       "   'id': '15487'}]}"
      ]
     },
     "execution_count": 16,
     "metadata": {},
     "output_type": "execute_result"
    }
   ],
   "source": [
    "url = baseurl + f'/v3/backup-managers/{BRM}/scheduler/periodic-events'\n",
    "result = requests.get(url)\n",
    "result.json()"
   ]
  },
  {
   "cell_type": "markdown",
   "id": "mathematical-athletics",
   "metadata": {},
   "source": [
    "### detail a periodic-event"
   ]
  },
  {
   "cell_type": "code",
   "execution_count": 20,
   "id": "given-colon",
   "metadata": {},
   "outputs": [
    {
     "data": {
      "text/plain": [
       "{'startTime': '2022-02-02T17:15:00Z',\n",
       " 'stopTime': '2022-02-02T18:15:00Z',\n",
       " 'minutes': 30,\n",
       " 'hours': 2,\n",
       " 'days': 0,\n",
       " 'weeks': 0,\n",
       " 'id': '43276'}"
      ]
     },
     "execution_count": 20,
     "metadata": {},
     "output_type": "execute_result"
    }
   ],
   "source": [
    "url = baseurl + f'/v3/backup-managers/{BRM}/scheduler/periodic-events/{eventid}'\n",
    "result = requests.get(url)\n",
    "result.json()"
   ]
  },
  {
   "cell_type": "markdown",
   "id": "compatible-greenhouse",
   "metadata": {},
   "source": [
    "### update a periodic-event"
   ]
  },
  {
   "cell_type": "code",
   "execution_count": 22,
   "id": "black-complexity",
   "metadata": {},
   "outputs": [
    {
     "data": {
      "text/plain": [
       "{'startTime': '2022-02-02T17:15:00Z',\n",
       " 'stopTime': '2022-02-02T18:15:00Z',\n",
       " 'minutes': 33,\n",
       " 'hours': 2,\n",
       " 'days': 0,\n",
       " 'weeks': 0,\n",
       " 'id': '43276'}"
      ]
     },
     "execution_count": 22,
     "metadata": {},
     "output_type": "execute_result"
    }
   ],
   "source": [
    "url = baseurl + f'/v3/backup-managers/{BRM}/scheduler/periodic-events/{eventid}'\n",
    "body = {\n",
    "      'hours': 2,\n",
    "        'minutes': 33,\n",
    "    'startTime':'2022-02-02T17:15:00',\n",
    "    'stopTime':'2022-02-02T18:15:00'\n",
    "    }\n",
    "result = requests.put(url, json = body)\n",
    "result.json()"
   ]
  },
  {
   "cell_type": "markdown",
   "id": "minimal-pharmacy",
   "metadata": {},
   "source": [
    "### delete a periodic event"
   ]
  },
  {
   "cell_type": "code",
   "execution_count": 27,
   "id": "acute-border",
   "metadata": {},
   "outputs": [
    {
     "data": {
      "text/plain": [
       "<Response [204]>"
      ]
     },
     "execution_count": 27,
     "metadata": {},
     "output_type": "execute_result"
    }
   ],
   "source": [
    "url = baseurl + f'/v3/backup-managers/{BRM}/scheduler/periodic-events/{eventid}'\n",
    "result = requests.delete(url)\n",
    "result"
   ]
  },
  {
   "cell_type": "code",
   "execution_count": 31,
   "id": "stretch-poverty",
   "metadata": {},
   "outputs": [
    {
     "data": {
      "text/plain": [
       "''"
      ]
     },
     "execution_count": 31,
     "metadata": {},
     "output_type": "execute_result"
    }
   ],
   "source": [
    "result.text"
   ]
  }
 ],
 "metadata": {
  "kernelspec": {
   "display_name": "Python 3",
   "language": "python",
   "name": "python3"
  },
  "language_info": {
   "codemirror_mode": {
    "name": "ipython",
    "version": 3
   },
   "file_extension": ".py",
   "mimetype": "text/x-python",
   "name": "python",
   "nbconvert_exporter": "python",
   "pygments_lexer": "ipython3",
   "version": "3.8.10"
  }
 },
 "nbformat": 4,
 "nbformat_minor": 5
}
