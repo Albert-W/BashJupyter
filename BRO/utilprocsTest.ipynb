{
 "cells": [
  {
   "cell_type": "code",
   "execution_count": 64,
   "id": "copyrighted-tackle",
   "metadata": {},
   "outputs": [],
   "source": [
    "import utilprocs"
   ]
  },
  {
   "cell_type": "code",
   "execution_count": 65,
   "id": "lonely-canadian",
   "metadata": {},
   "outputs": [
    {
     "name": "stdout",
     "output_type": "stream",
     "text": [
      "NAME\tNAMESPACE\tREVISION\tUPDATED                              \tSTATUS  \tCHART                                \tAPP VERSION\n",
      "osmn\teyicwux  \t1       \t2021-02-17 14:42:22.0950166 +0000 UTC\tdeployed\teric-data-object-storage-mn-1.11.0+19\t1.11.0-19  \n",
      "\n"
     ]
    },
    {
     "data": {
      "text/plain": [
       "'NAME\\tNAMESPACE\\tREVISION\\tUPDATED                              \\tSTATUS  \\tCHART                                \\tAPP VERSION\\nosmn\\teyicwux  \\t1       \\t2021-02-17 14:42:22.0950166 +0000 UTC\\tdeployed\\teric-data-object-storage-mn-1.11.0+19\\t1.11.0-19  \\n'"
      ]
     },
     "execution_count": 65,
     "metadata": {},
     "output_type": "execute_result"
    }
   ],
   "source": [
    "utilprocs.execute_command(\"helm ls\", log_command=False)"
   ]
  },
  {
   "cell_type": "code",
   "execution_count": 13,
   "id": "strange-things",
   "metadata": {},
   "outputs": [
    {
     "name": "stdout",
     "output_type": "stream",
     "text": [
      "error: unable to match a printer suitable for the output format \"IP\", allowed formats are: custom-columns,custom-columns-file,go-template,go-template-file,json,jsonpath,jsonpath-as-json,jsonpath-file,name,template,templatefile,wide,yaml\n",
      "\n"
     ]
    },
    {
     "ename": "ValueError",
     "evalue": "There was an error while trying to execute the command \"\"",
     "output_type": "error",
     "traceback": [
      "\u001b[0;31m---------------------------------------------------------------------------\u001b[0m",
      "\u001b[0;31mCalledProcessError\u001b[0m                        Traceback (most recent call last)",
      "\u001b[0;32m/c/Users/eyicwux/Documents/github/BashJupyter/utilprocs.py\u001b[0m in \u001b[0;36mexecute_command\u001b[0;34m(command, log_command)\u001b[0m\n\u001b[1;32m     69\u001b[0m     \u001b[0;32mtry\u001b[0m\u001b[0;34m:\u001b[0m\u001b[0;34m\u001b[0m\u001b[0;34m\u001b[0m\u001b[0m\n\u001b[0;32m---> 70\u001b[0;31m         output = subprocess.check_output(\n\u001b[0m\u001b[1;32m     71\u001b[0m             \u001b[0mcommand\u001b[0m\u001b[0;34m.\u001b[0m\u001b[0msplit\u001b[0m\u001b[0;34m(\u001b[0m\u001b[0;34m' '\u001b[0m\u001b[0;34m)\u001b[0m\u001b[0;34m,\u001b[0m\u001b[0;34m\u001b[0m\u001b[0;34m\u001b[0m\u001b[0m\n",
      "\u001b[0;32m/usr/lib/python3.8/subprocess.py\u001b[0m in \u001b[0;36mcheck_output\u001b[0;34m(timeout, *popenargs, **kwargs)\u001b[0m\n\u001b[1;32m    414\u001b[0m \u001b[0;34m\u001b[0m\u001b[0m\n\u001b[0;32m--> 415\u001b[0;31m     return run(*popenargs, stdout=PIPE, timeout=timeout, check=True,\n\u001b[0m\u001b[1;32m    416\u001b[0m                **kwargs).stdout\n",
      "\u001b[0;32m/usr/lib/python3.8/subprocess.py\u001b[0m in \u001b[0;36mrun\u001b[0;34m(input, capture_output, timeout, check, *popenargs, **kwargs)\u001b[0m\n\u001b[1;32m    515\u001b[0m         \u001b[0;32mif\u001b[0m \u001b[0mcheck\u001b[0m \u001b[0;32mand\u001b[0m \u001b[0mretcode\u001b[0m\u001b[0;34m:\u001b[0m\u001b[0;34m\u001b[0m\u001b[0;34m\u001b[0m\u001b[0m\n\u001b[0;32m--> 516\u001b[0;31m             raise CalledProcessError(retcode, process.args,\n\u001b[0m\u001b[1;32m    517\u001b[0m                                      output=stdout, stderr=stderr)\n",
      "\u001b[0;31mCalledProcessError\u001b[0m: Command '['kubectl', 'get', 'pods', '-o=IP']' returned non-zero exit status 1.",
      "\nThe above exception was the direct cause of the following exception:\n",
      "\u001b[0;31mValueError\u001b[0m                                Traceback (most recent call last)",
      "\u001b[0;32m<ipython-input-13-d23c8edaaf48>\u001b[0m in \u001b[0;36m<module>\u001b[0;34m\u001b[0m\n\u001b[0;32m----> 1\u001b[0;31m \u001b[0mutilprocs\u001b[0m\u001b[0;34m.\u001b[0m\u001b[0mexecute_command\u001b[0m\u001b[0;34m(\u001b[0m\u001b[0;34m'kubectl get pods -o=IP'\u001b[0m \u001b[0;34m,\u001b[0m \u001b[0mlog_command\u001b[0m\u001b[0;34m=\u001b[0m\u001b[0;32mFalse\u001b[0m\u001b[0;34m)\u001b[0m\u001b[0;34m\u001b[0m\u001b[0;34m\u001b[0m\u001b[0m\n\u001b[0m",
      "\u001b[0;32m/c/Users/eyicwux/Documents/github/BashJupyter/utilprocs.py\u001b[0m in \u001b[0;36mexecute_command\u001b[0;34m(command, log_command)\u001b[0m\n\u001b[1;32m     77\u001b[0m         \u001b[0;32mif\u001b[0m \u001b[0mlog_command\u001b[0m \u001b[0;32mis\u001b[0m \u001b[0;32mFalse\u001b[0m\u001b[0;34m:\u001b[0m\u001b[0;34m\u001b[0m\u001b[0;34m\u001b[0m\u001b[0m\n\u001b[1;32m     78\u001b[0m             \u001b[0mcommand\u001b[0m \u001b[0;34m=\u001b[0m \u001b[0;34m\"\"\u001b[0m\u001b[0;34m\u001b[0m\u001b[0;34m\u001b[0m\u001b[0m\n\u001b[0;32m---> 79\u001b[0;31m         raise ValueError('There was an error while trying to execute the '\n\u001b[0m\u001b[1;32m     80\u001b[0m                          'command \"{}\"'.format(command)) from error\n\u001b[1;32m     81\u001b[0m \u001b[0;34m\u001b[0m\u001b[0m\n",
      "\u001b[0;31mValueError\u001b[0m: There was an error while trying to execute the command \"\""
     ]
    }
   ],
   "source": [
    "utilprocs.execute_command('kubectl get pods -o=IP' , log_command=False)"
   ]
  },
  {
   "cell_type": "code",
   "execution_count": 14,
   "id": "confirmed-banana",
   "metadata": {},
   "outputs": [
    {
     "name": "stdout",
     "output_type": "stream",
     "text": [
      "bro-test-sftp-0 eric-data-object-storage-mn-0 eric-data-object-storage-mn-mgt-58bb5bbbb7-67k68 jupyer-86ccdd8c9-n5kdp postgresql-57cc5cf5c7-s79s6 sonar-69995c7fd7-tlz7j\n"
     ]
    },
    {
     "data": {
      "text/plain": [
       "'bro-test-sftp-0 eric-data-object-storage-mn-0 eric-data-object-storage-mn-mgt-58bb5bbbb7-67k68 jupyer-86ccdd8c9-n5kdp postgresql-57cc5cf5c7-s79s6 sonar-69995c7fd7-tlz7j'"
      ]
     },
     "execution_count": 14,
     "metadata": {},
     "output_type": "execute_result"
    }
   ],
   "source": [
    "utilprocs.execute_command('kubectl get pods -o jsonpath={..metadata.name}' , log_command=False)"
   ]
  },
  {
   "cell_type": "code",
   "execution_count": 20,
   "id": "growing-diary",
   "metadata": {},
   "outputs": [
    {
     "name": "stdout",
     "output_type": "stream",
     "text": [
      "NAME                                               READY   STATUS    RESTARTS   AGE   IP                NODE                 NOMINATED NODE   READINESS GATES\n",
      "bro-test-sftp-0                                    1/1     Running   0          38d   192.168.153.66    node-10-120-217-60   <none>           <none>\n",
      "eric-data-object-storage-mn-0                      1/1     Running   0          38d   192.168.140.23    node-10-120-217-54   <none>           <none>\n",
      "eric-data-object-storage-mn-mgt-58bb5bbbb7-67k68   1/1     Running   0          38d   192.168.140.2     node-10-120-217-54   <none>           <none>\n",
      "jupyer-86ccdd8c9-n5kdp                             1/1     Running   0          35d   192.168.5.137     node-10-120-217-67   <none>           <none>\n",
      "postgresql-57cc5cf5c7-s79s6                        1/1     Running   0          38d   192.168.140.22    node-10-120-217-54   <none>           <none>\n",
      "sonar-69995c7fd7-tlz7j                             1/1     Running   0          10d   192.168.108.255   node-10-120-217-56   <none>           <none>\n",
      "\n"
     ]
    },
    {
     "data": {
      "text/plain": [
       "'NAME                                               READY   STATUS    RESTARTS   AGE   IP                NODE                 NOMINATED NODE   READINESS GATES\\nbro-test-sftp-0                                    1/1     Running   0          38d   192.168.153.66    node-10-120-217-60   <none>           <none>\\neric-data-object-storage-mn-0                      1/1     Running   0          38d   192.168.140.23    node-10-120-217-54   <none>           <none>\\neric-data-object-storage-mn-mgt-58bb5bbbb7-67k68   1/1     Running   0          38d   192.168.140.2     node-10-120-217-54   <none>           <none>\\njupyer-86ccdd8c9-n5kdp                             1/1     Running   0          35d   192.168.5.137     node-10-120-217-67   <none>           <none>\\npostgresql-57cc5cf5c7-s79s6                        1/1     Running   0          38d   192.168.140.22    node-10-120-217-54   <none>           <none>\\nsonar-69995c7fd7-tlz7j                             1/1     Running   0          10d   192.168.108.255   node-10-120-217-56   <none>           <none>\\n'"
      ]
     },
     "execution_count": 20,
     "metadata": {},
     "output_type": "execute_result"
    }
   ],
   "source": [
    "utilprocs.execute_command('kubectl get pods -o wide' , log_command=False)"
   ]
  },
  {
   "cell_type": "code",
   "execution_count": 48,
   "id": "vital-diamond",
   "metadata": {},
   "outputs": [
    {
     "name": "stdout",
     "output_type": "stream",
     "text": [
      "Error from server (NotFound): pods \"'eric-data-key-value-database-rd-operand-9rbvd'\" not found\n",
      "\n"
     ]
    },
    {
     "ename": "ValueError",
     "evalue": "There was an error while trying to execute the command \"\"",
     "output_type": "error",
     "traceback": [
      "\u001b[0;31m---------------------------------------------------------------------------\u001b[0m",
      "\u001b[0;31mCalledProcessError\u001b[0m                        Traceback (most recent call last)",
      "\u001b[0;32m/c/Users/eyicwux/Documents/github/BashJupyter/utilprocs.py\u001b[0m in \u001b[0;36mexecute_command\u001b[0;34m(command, log_command)\u001b[0m\n\u001b[1;32m     69\u001b[0m     \u001b[0;32mtry\u001b[0m\u001b[0;34m:\u001b[0m\u001b[0;34m\u001b[0m\u001b[0;34m\u001b[0m\u001b[0m\n\u001b[0;32m---> 70\u001b[0;31m         output = subprocess.check_output(\n\u001b[0m\u001b[1;32m     71\u001b[0m             \u001b[0mcommand\u001b[0m\u001b[0;34m.\u001b[0m\u001b[0msplit\u001b[0m\u001b[0;34m(\u001b[0m\u001b[0;34m' '\u001b[0m\u001b[0;34m)\u001b[0m\u001b[0;34m,\u001b[0m\u001b[0;34m\u001b[0m\u001b[0;34m\u001b[0m\u001b[0m\n",
      "\u001b[0;32m/usr/lib/python3.8/subprocess.py\u001b[0m in \u001b[0;36mcheck_output\u001b[0;34m(timeout, *popenargs, **kwargs)\u001b[0m\n\u001b[1;32m    414\u001b[0m \u001b[0;34m\u001b[0m\u001b[0m\n\u001b[0;32m--> 415\u001b[0;31m     return run(*popenargs, stdout=PIPE, timeout=timeout, check=True,\n\u001b[0m\u001b[1;32m    416\u001b[0m                **kwargs).stdout\n",
      "\u001b[0;32m/usr/lib/python3.8/subprocess.py\u001b[0m in \u001b[0;36mrun\u001b[0;34m(input, capture_output, timeout, check, *popenargs, **kwargs)\u001b[0m\n\u001b[1;32m    515\u001b[0m         \u001b[0;32mif\u001b[0m \u001b[0mcheck\u001b[0m \u001b[0;32mand\u001b[0m \u001b[0mretcode\u001b[0m\u001b[0;34m:\u001b[0m\u001b[0;34m\u001b[0m\u001b[0;34m\u001b[0m\u001b[0m\n\u001b[0;32m--> 516\u001b[0;31m             raise CalledProcessError(retcode, process.args,\n\u001b[0m\u001b[1;32m    517\u001b[0m                                      output=stdout, stderr=stderr)\n",
      "\u001b[0;31mCalledProcessError\u001b[0m: Command '['kubectl', '-n', 'eyicwux-test1', 'get', 'pods', \"'eric-data-key-value-database-rd-operand-9rbvd'\", '--template={{.status.podIP}}']' returned non-zero exit status 1.",
      "\nThe above exception was the direct cause of the following exception:\n",
      "\u001b[0;31mValueError\u001b[0m                                Traceback (most recent call last)",
      "\u001b[0;32m<ipython-input-48-4e8c402338f7>\u001b[0m in \u001b[0;36m<module>\u001b[0;34m\u001b[0m\n\u001b[0;32m----> 1\u001b[0;31m \u001b[0mutilprocs\u001b[0m\u001b[0;34m.\u001b[0m\u001b[0mexecute_command\u001b[0m\u001b[0;34m(\u001b[0m\u001b[0;34m\"kubectl -n eyicwux-test1 get pods 'eric-data-key-value-database-rd-operand-9rbvd' --template={{.status.podIP}}\"\u001b[0m \u001b[0;34m,\u001b[0m \u001b[0mlog_command\u001b[0m\u001b[0;34m=\u001b[0m\u001b[0;32mFalse\u001b[0m\u001b[0;34m)\u001b[0m\u001b[0;34m\u001b[0m\u001b[0;34m\u001b[0m\u001b[0m\n\u001b[0m",
      "\u001b[0;32m/c/Users/eyicwux/Documents/github/BashJupyter/utilprocs.py\u001b[0m in \u001b[0;36mexecute_command\u001b[0;34m(command, log_command)\u001b[0m\n\u001b[1;32m     77\u001b[0m         \u001b[0;32mif\u001b[0m \u001b[0mlog_command\u001b[0m \u001b[0;32mis\u001b[0m \u001b[0;32mFalse\u001b[0m\u001b[0;34m:\u001b[0m\u001b[0;34m\u001b[0m\u001b[0;34m\u001b[0m\u001b[0m\n\u001b[1;32m     78\u001b[0m             \u001b[0mcommand\u001b[0m \u001b[0;34m=\u001b[0m \u001b[0;34m\"\"\u001b[0m\u001b[0;34m\u001b[0m\u001b[0;34m\u001b[0m\u001b[0m\n\u001b[0;32m---> 79\u001b[0;31m         raise ValueError('There was an error while trying to execute the '\n\u001b[0m\u001b[1;32m     80\u001b[0m                          'command \"{}\"'.format(command)) from error\n\u001b[1;32m     81\u001b[0m \u001b[0;34m\u001b[0m\u001b[0m\n",
      "\u001b[0;31mValueError\u001b[0m: There was an error while trying to execute the command \"\""
     ]
    }
   ],
   "source": [
    "utilprocs.execute_command(\"kubectl -n eyicwux-test1 get pods 'eric-data-key-value-database-rd-operand-9rbvd' --template={{.status.podIP}}\" , log_command=False)"
   ]
  },
  {
   "cell_type": "code",
   "execution_count": 23,
   "id": "ambient-prediction",
   "metadata": {},
   "outputs": [
    {
     "name": "stdout",
     "output_type": "stream",
     "text": [
      "<no value>\n"
     ]
    },
    {
     "data": {
      "text/plain": [
       "'<no value>'"
      ]
     },
     "execution_count": 23,
     "metadata": {},
     "output_type": "execute_result"
    }
   ],
   "source": [
    "utilprocs.execute_command(\"kubectl -n eyicwux-test1 get pods -l app.kubernetes.io/name=eric-data-key-value-database-rd-operand --template={{.status.podIP}}\" , log_command=False)"
   ]
  },
  {
   "cell_type": "code",
   "execution_count": 25,
   "id": "exotic-titanium",
   "metadata": {},
   "outputs": [
    {
     "name": "stdout",
     "output_type": "stream",
     "text": [
      "eric-data-key-value-database-rd-operand-9rbvd eric-data-key-value-database-rd-operand-whvx4\n"
     ]
    }
   ],
   "source": [
    "response = utilprocs.execute_command(\"kubectl -n eyicwux-test1 get po -l app.kubernetes.io/name=eric-data-key-value-database-rd-operand -o jsonpath={..metadata.name}\" , log_command=False)"
   ]
  },
  {
   "cell_type": "code",
   "execution_count": 26,
   "id": "listed-wilson",
   "metadata": {},
   "outputs": [
    {
     "data": {
      "text/plain": [
       "['eric-data-key-value-database-rd-operand-9rbvd',\n",
       " 'eric-data-key-value-database-rd-operand-whvx4']"
      ]
     },
     "execution_count": 26,
     "metadata": {},
     "output_type": "execute_result"
    }
   ],
   "source": [
    "response.split()"
   ]
  },
  {
   "cell_type": "code",
   "execution_count": 62,
   "id": "combined-property",
   "metadata": {},
   "outputs": [],
   "source": [
    "def get_ip_by_pod_name(pods):\n",
    "    ips = []\n",
    "    for pod in pods:\n",
    "        print(pod)\n",
    "        print(\"kubectl -n eyicwux-test1 get pods {} -o=jsonpath={{.status.podIP}}\".format(pod))\n",
    "        res = utilprocs.execute_command(\"kubectl -n eyicwux-test1 get pods {} -o=jsonpath={{.status.podIP}}\".format(pod) ,\n",
    "                                          log_command=False)\n",
    "        print(res)\n",
    "        ips.append(res)\n",
    "    return ips"
   ]
  },
  {
   "cell_type": "code",
   "execution_count": 63,
   "id": "innovative-spine",
   "metadata": {},
   "outputs": [
    {
     "name": "stdout",
     "output_type": "stream",
     "text": [
      "eric-data-key-value-database-rd-operand-9rbvd\n",
      "kubectl -n eyicwux-test1 get pods eric-data-key-value-database-rd-operand-9rbvd -o=jsonpath={.status.podIP}\n",
      "192.168.37.234\n",
      "192.168.37.234\n",
      "eric-data-key-value-database-rd-operand-whvx4\n",
      "kubectl -n eyicwux-test1 get pods eric-data-key-value-database-rd-operand-whvx4 -o=jsonpath={.status.podIP}\n",
      "192.168.129.201\n",
      "192.168.129.201\n"
     ]
    }
   ],
   "source": [
    "ips = get_ip_by_pod_name(response.split())"
   ]
  },
  {
   "cell_type": "code",
   "execution_count": 56,
   "id": "coordinated-conditions",
   "metadata": {},
   "outputs": [
    {
     "data": {
      "text/plain": [
       "['{.status.podIP}', '{.status.podIP}']"
      ]
     },
     "execution_count": 56,
     "metadata": {},
     "output_type": "execute_result"
    }
   ],
   "source": [
    "ips"
   ]
  },
  {
   "cell_type": "code",
   "execution_count": 35,
   "id": "reflected-lodging",
   "metadata": {},
   "outputs": [
    {
     "ename": "SyntaxError",
     "evalue": "invalid syntax (<ipython-input-35-4b8907fc9550>, line 1)",
     "output_type": "error",
     "traceback": [
      "\u001b[0;36m  File \u001b[0;32m\"<ipython-input-35-4b8907fc9550>\"\u001b[0;36m, line \u001b[0;32m1\u001b[0m\n\u001b[0;31m    kubectl -n eyicwux-test1 get pods eric-data-key-value-database-rd-operand-9rbvd --template={{.status.podIP}}\u001b[0m\n\u001b[0m               ^\u001b[0m\n\u001b[0;31mSyntaxError\u001b[0m\u001b[0;31m:\u001b[0m invalid syntax\n"
     ]
    }
   ],
   "source": [
    "kubectl -n eyicwux-test1 get pods eric-data-key-value-database-rd-operand-9rbvd --template={{.status.podIP}}"
   ]
  },
  {
   "cell_type": "code",
   "execution_count": null,
   "id": "patent-pitch",
   "metadata": {},
   "outputs": [],
   "source": []
  }
 ],
 "metadata": {
  "kernelspec": {
   "display_name": "Python 3",
   "language": "python",
   "name": "python3"
  },
  "language_info": {
   "codemirror_mode": {
    "name": "ipython",
    "version": 3
   },
   "file_extension": ".py",
   "mimetype": "text/x-python",
   "name": "python",
   "nbconvert_exporter": "python",
   "pygments_lexer": "ipython3",
   "version": "3.8.10"
  }
 },
 "nbformat": 4,
 "nbformat_minor": 5
}
