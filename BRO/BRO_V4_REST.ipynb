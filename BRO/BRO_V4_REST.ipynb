{
 "cells": [
  {
   "cell_type": "markdown",
   "id": "acquired-revelation",
   "metadata": {},
   "source": [
    "# BRO V4 Rest"
   ]
  },
  {
   "cell_type": "code",
   "execution_count": 1,
   "id": "integrated-navigator",
   "metadata": {},
   "outputs": [],
   "source": [
    "import requests\n",
    "baseurl = 'http://10.120.217.249:7001'"
   ]
  },
  {
   "cell_type": "code",
   "execution_count": 2,
   "id": "presidential-satisfaction",
   "metadata": {},
   "outputs": [],
   "source": [
    "baseurl = 'http://localhost:7001'"
   ]
  },
  {
   "cell_type": "code",
   "execution_count": 3,
   "id": "traditional-trader",
   "metadata": {},
   "outputs": [
    {
     "data": {
      "text/plain": [
       "{'availability': 'Available',\n",
       " 'ongoingAction': {},\n",
       " 'registeredAgents': [],\n",
       " 'status': 'Healthy'}"
      ]
     },
     "execution_count": 3,
     "metadata": {},
     "output_type": "execute_result"
    }
   ],
   "source": [
    "result = requests.get(baseurl+'/v1/health')\n",
    "result.json()"
   ]
  },
  {
   "cell_type": "code",
   "execution_count": 4,
   "id": "pregnant-middle",
   "metadata": {},
   "outputs": [],
   "source": [
    "BRM = 'DEFAULT'"
   ]
  },
  {
   "cell_type": "markdown",
   "id": "stable-eight",
   "metadata": {},
   "source": [
    "## Action"
   ]
  },
  {
   "cell_type": "markdown",
   "id": "recovered-marine",
   "metadata": {},
   "source": [
    "### List Actions"
   ]
  },
  {
   "cell_type": "code",
   "execution_count": 46,
   "id": "strong-million",
   "metadata": {
    "scrolled": true
   },
   "outputs": [
    {
     "data": {
      "text/plain": [
       "{'actions': [{'name': 'HOUSEKEEPING',\n",
       "   'result': 'SUCCESS',\n",
       "   'startTime': '2022-02-01T21:38:53.757805Z',\n",
       "   'id': '5727'},\n",
       "  {'name': 'CREATE_BACKUP',\n",
       "   'result': 'SUCCESS',\n",
       "   'startTime': '2022-02-01T21:38:55.167182Z',\n",
       "   'id': '17901'},\n",
       "  {'name': 'HOUSEKEEPING',\n",
       "   'result': 'SUCCESS',\n",
       "   'startTime': '2022-02-01T21:38:55.299027Z',\n",
       "   'id': '13736'},\n",
       "  {'name': 'EXPORT',\n",
       "   'result': 'SUCCESS',\n",
       "   'startTime': '2022-02-01T21:39:20.936194Z',\n",
       "   'id': '55475'},\n",
       "  {'name': 'CREATE_BACKUP',\n",
       "   'result': 'SUCCESS',\n",
       "   'startTime': '2022-02-01T21:39:24.089567Z',\n",
       "   'id': '64241'},\n",
       "  {'name': 'HOUSEKEEPING',\n",
       "   'result': 'SUCCESS',\n",
       "   'startTime': '2022-02-01T21:39:24.134587Z',\n",
       "   'id': '41065'},\n",
       "  {'name': 'HOUSEKEEPING',\n",
       "   'result': 'SUCCESS',\n",
       "   'startTime': '2022-02-01T21:39:37.639889Z',\n",
       "   'id': '36552'},\n",
       "  {'name': 'HOUSEKEEPING_DELETE_BACKUP',\n",
       "   'result': 'SUCCESS',\n",
       "   'startTime': '2022-02-01T21:39:37.663417Z',\n",
       "   'id': '53200'},\n",
       "  {'name': 'IMPORT',\n",
       "   'result': 'FAILURE',\n",
       "   'startTime': '2022-02-01T21:39:40.918221Z',\n",
       "   'id': '17214'},\n",
       "  {'name': 'HOUSEKEEPING',\n",
       "   'result': 'SUCCESS',\n",
       "   'startTime': '2022-02-01T21:39:43.868593Z',\n",
       "   'id': '18064'},\n",
       "  {'name': 'CREATE_BACKUP',\n",
       "   'result': 'SUCCESS',\n",
       "   'startTime': '2022-02-01T21:40:46.575466Z',\n",
       "   'id': '61589'},\n",
       "  {'name': 'HOUSEKEEPING',\n",
       "   'result': 'SUCCESS',\n",
       "   'startTime': '2022-02-01T21:40:47.121773Z',\n",
       "   'id': '6285'},\n",
       "  {'name': 'HOUSEKEEPING_DELETE_BACKUP',\n",
       "   'result': 'SUCCESS',\n",
       "   'startTime': '2022-02-01T21:40:47.138982Z',\n",
       "   'id': '54695'},\n",
       "  {'name': 'EXPORT',\n",
       "   'result': 'FAILURE',\n",
       "   'startTime': '2022-02-01T21:41:01.392336Z',\n",
       "   'id': '12699'},\n",
       "  {'name': 'CREATE_BACKUP',\n",
       "   'result': 'SUCCESS',\n",
       "   'startTime': '2022-02-01T21:41:46.574811Z',\n",
       "   'id': '12097'},\n",
       "  {'name': 'HOUSEKEEPING',\n",
       "   'result': 'SUCCESS',\n",
       "   'startTime': '2022-02-01T21:41:46.692393Z',\n",
       "   'id': '49074'},\n",
       "  {'name': 'HOUSEKEEPING_DELETE_BACKUP',\n",
       "   'result': 'SUCCESS',\n",
       "   'startTime': '2022-02-01T21:41:46.700785Z',\n",
       "   'id': '44576'},\n",
       "  {'name': 'EXPORT',\n",
       "   'result': 'SUCCESS',\n",
       "   'startTime': '2022-02-01T21:41:59.988853Z',\n",
       "   'id': '11072'},\n",
       "  {'name': 'IMPORT',\n",
       "   'result': 'SUCCESS',\n",
       "   'startTime': '2022-02-01T21:43:57.715199Z',\n",
       "   'id': '64565'},\n",
       "  {'name': 'HOUSEKEEPING',\n",
       "   'result': 'SUCCESS',\n",
       "   'startTime': '2022-02-01T21:43:57.789972Z',\n",
       "   'id': '38936'},\n",
       "  {'name': 'HOUSEKEEPING_DELETE_BACKUP',\n",
       "   'result': 'SUCCESS',\n",
       "   'startTime': '2022-02-01T21:43:57.802954Z',\n",
       "   'id': '25488'},\n",
       "  {'name': 'HOUSEKEEPING',\n",
       "   'result': 'SUCCESS',\n",
       "   'startTime': '2022-02-01T21:44:02.282814Z',\n",
       "   'id': '22264'},\n",
       "  {'name': 'RESTORE',\n",
       "   'result': 'SUCCESS',\n",
       "   'startTime': '2022-02-01T21:44:04.479376Z',\n",
       "   'id': '20268'},\n",
       "  {'name': 'RESTORE',\n",
       "   'result': 'SUCCESS',\n",
       "   'startTime': '2022-02-01T21:45:28.462359Z',\n",
       "   'id': '42508'},\n",
       "  {'name': 'RESTORE',\n",
       "   'result': 'SUCCESS',\n",
       "   'startTime': '2022-02-01T21:46:52.427932Z',\n",
       "   'id': '39687'},\n",
       "  {'name': 'RESTORE',\n",
       "   'result': 'SUCCESS',\n",
       "   'startTime': '2022-02-01T21:49:29.935196Z',\n",
       "   'id': '21412'},\n",
       "  {'name': 'DELETE_BACKUP',\n",
       "   'result': 'SUCCESS',\n",
       "   'startTime': '2022-02-01T21:50:52.91056Z',\n",
       "   'id': '51041'},\n",
       "  {'name': 'CREATE_BACKUP',\n",
       "   'result': 'SUCCESS',\n",
       "   'startTime': '2022-02-02T14:17:54.635079Z',\n",
       "   'id': '51128'},\n",
       "  {'name': 'EXPORT',\n",
       "   'result': 'FAILURE',\n",
       "   'startTime': '2022-02-02T14:22:53.700742Z',\n",
       "   'id': '19905'},\n",
       "  {'name': 'EXPORT',\n",
       "   'result': 'FAILURE',\n",
       "   'startTime': '2022-02-02T14:28:23.643314Z',\n",
       "   'id': '18705'},\n",
       "  {'name': 'EXPORT',\n",
       "   'result': 'SUCCESS',\n",
       "   'startTime': '2022-02-02T14:30:12.231331Z',\n",
       "   'id': '59863'},\n",
       "  {'name': 'EXPORT',\n",
       "   'result': 'FAILURE',\n",
       "   'startTime': '2022-02-02T14:31:12.764394Z',\n",
       "   'id': '36537'},\n",
       "  {'name': 'IMPORT',\n",
       "   'result': 'FAILURE',\n",
       "   'startTime': '2022-02-02T14:34:07.519168Z',\n",
       "   'id': '33927'},\n",
       "  {'name': 'DELETE_BACKUP',\n",
       "   'result': 'SUCCESS',\n",
       "   'startTime': '2022-02-02T14:34:26.512567Z',\n",
       "   'id': '34245'},\n",
       "  {'name': 'IMPORT',\n",
       "   'result': 'SUCCESS',\n",
       "   'startTime': '2022-02-02T14:34:44.949109Z',\n",
       "   'id': '35296'}]}"
      ]
     },
     "execution_count": 46,
     "metadata": {},
     "output_type": "execute_result"
    }
   ],
   "source": [
    "BRM = 'configuration-data'\n",
    "url = baseurl + f'/v1/backup-manager/{BRM}/action/'\n",
    "result = requests.get(url)\n",
    "result.json()"
   ]
  },
  {
   "cell_type": "code",
   "execution_count": null,
   "id": "functional-precipitation",
   "metadata": {},
   "outputs": [],
   "source": [
    "actionid = '13788'"
   ]
  },
  {
   "cell_type": "markdown",
   "id": "plain-findings",
   "metadata": {},
   "source": [
    "### Detail an action"
   ]
  },
  {
   "cell_type": "code",
   "execution_count": 61,
   "id": "satisfied-delight",
   "metadata": {},
   "outputs": [
    {
     "data": {
      "text/plain": [
       "{'name': 'RESTORE',\n",
       " 'result': 'FAILURE',\n",
       " 'payload': {'backupName': 'DemoBackup18'},\n",
       " 'additionalInfo': 'Failed to prepare CM for Orchestrator usage.',\n",
       " 'resultInfo': '{Agent: bravo, Stage: PREPARATION, success: true, message: Preparation for restore is successful}, {Agent: tls, Stage: PREPARATION, success: true, message: Preparation for restore is successful}, {Agent: eric-data-document-database-pg, Stage: PREPARATION, success: true, message: Preparation for restore is successful}, {Agent: tls, Stage: EXECUTION, success: true, message: The test service has completed restore of backup: DemoBackup18}, {Agent: bravo, Stage: EXECUTION, success: true, message: The test service has completed restore of backup: DemoBackup18}, {Agent: eric-data-document-database-pg, Stage: EXECUTION, success: true, message: DemoBackup18 restore complete.}, {Agent: bravo, Stage: POST_ACTIONS, success: true, message: Post restore actions completed}, {Agent: eric-data-document-database-pg, Stage: POST_ACTIONS, success: true, message: Post restore actions completed}, {Agent: tls, Stage: POST_ACTIONS, success: true, message: Post restore actions completed}',\n",
       " 'state': 'FINISHED',\n",
       " 'progressPercentage': 1.0,\n",
       " 'startTime': '2022-02-10T09:53:31.066473Z',\n",
       " 'completionTime': '2022-02-10T10:05:28.148121Z',\n",
       " 'lastUpdateTime': '2022-02-10T10:05:28.148121Z',\n",
       " 'id': '5761'}"
      ]
     },
     "execution_count": 61,
     "metadata": {},
     "output_type": "execute_result"
    }
   ],
   "source": [
    "url = baseurl + f'/v1/backup-manager/{BRM}/action/{actionid}'\n",
    "result = requests.get(url)\n",
    "result.json()"
   ]
  },
  {
   "cell_type": "markdown",
   "id": "afraid-lounge",
   "metadata": {},
   "source": [
    "### Create a backup"
   ]
  },
  {
   "cell_type": "code",
   "execution_count": 8,
   "id": "enabling-professional",
   "metadata": {},
   "outputs": [],
   "source": [
    "backupName = 'DemoBackup21'"
   ]
  },
  {
   "cell_type": "code",
   "execution_count": 9,
   "id": "photographic-development",
   "metadata": {
    "scrolled": true
   },
   "outputs": [
    {
     "data": {
      "text/plain": [
       "'33219'"
      ]
     },
     "execution_count": 9,
     "metadata": {},
     "output_type": "execute_result"
    }
   ],
   "source": [
    "url = baseurl + f'/v1/backup-manager/{BRM}/action'\n",
    "body = {\n",
    "      \"action\": \"CREATE_BACKUP\",\n",
    "      \"payload\": {\n",
    "        \"backupName\": backupName\n",
    "      }\n",
    "    }\n",
    "result = requests.post(url, json = body)\n",
    "actionid = result.json().get('id')\n",
    "actionid"
   ]
  },
  {
   "cell_type": "code",
   "execution_count": 24,
   "id": "enormous-exception",
   "metadata": {},
   "outputs": [
    {
     "data": {
      "text/plain": [
       "{'id': '37344'}"
      ]
     },
     "execution_count": 24,
     "metadata": {},
     "output_type": "execute_result"
    }
   ],
   "source": [
    "url = baseurl + f'/backup-restore/v4alpha1/backup-managers/{BRM}/backups/'\n",
    "body = {\n",
    "    \"name\": backupName\n",
    "    }\n",
    "result = requests.post(url, json = body)\n",
    "result.json()"
   ]
  },
  {
   "cell_type": "markdown",
   "id": "secret-suggestion",
   "metadata": {},
   "source": [
    "### Delete a backup"
   ]
  },
  {
   "cell_type": "code",
   "execution_count": 31,
   "id": "adequate-session",
   "metadata": {
    "scrolled": true
   },
   "outputs": [
    {
     "data": {
      "text/plain": [
       "'34245'"
      ]
     },
     "execution_count": 31,
     "metadata": {},
     "output_type": "execute_result"
    }
   ],
   "source": [
    "url = baseurl + f'/v1/backup-manager/{BRM}/action'\n",
    "body = {\n",
    "      \"action\": \"DELETE_BACKUP\",\n",
    "      \"payload\": {\n",
    "        \"backupName\": backupName\n",
    "      }\n",
    "    }\n",
    "result = requests.post(url, json = body)\n",
    "actionid = result.json().get('id')\n",
    "actionid"
   ]
  },
  {
   "cell_type": "markdown",
   "id": "inner-receipt",
   "metadata": {},
   "source": [
    "### Restore a backup"
   ]
  },
  {
   "cell_type": "code",
   "execution_count": 15,
   "id": "agreed-retrieval",
   "metadata": {},
   "outputs": [],
   "source": [
    "backupName = 'DemoBackup20'"
   ]
  },
  {
   "cell_type": "code",
   "execution_count": 25,
   "id": "welsh-appointment",
   "metadata": {},
   "outputs": [
    {
     "data": {
      "text/plain": [
       "{'id': '33835'}"
      ]
     },
     "execution_count": 25,
     "metadata": {},
     "output_type": "execute_result"
    }
   ],
   "source": [
    "url = baseurl + f'/backup-restore/v4alpha1/backup-managers/{BRM}/backups/{backupName}/restores'\n",
    "result = requests.post(url)\n",
    "result.json()"
   ]
  },
  {
   "cell_type": "code",
   "execution_count": 17,
   "id": "excellent-roller",
   "metadata": {},
   "outputs": [
    {
     "data": {
      "text/plain": [
       "'38117'"
      ]
     },
     "execution_count": 17,
     "metadata": {},
     "output_type": "execute_result"
    }
   ],
   "source": [
    "url = baseurl + f'/v1/backup-manager/{BRM}/action'\n",
    "body = {\n",
    "      \"action\": \"RESTORE\",\n",
    "      \"payload\": {\n",
    "        \"backupName\": backupName\n",
    "      }\n",
    "    }\n",
    "result = requests.post(url, json = body)\n",
    "actionid = result.json().get('id')\n",
    "actionid"
   ]
  },
  {
   "cell_type": "markdown",
   "id": "intense-salad",
   "metadata": {},
   "source": [
    "### Export a backup"
   ]
  },
  {
   "cell_type": "code",
   "execution_count": 139,
   "id": "alert-yemen",
   "metadata": {},
   "outputs": [],
   "source": [
    "backupName = 'cmyp-backup05'"
   ]
  },
  {
   "cell_type": "code",
   "execution_count": 24,
   "id": "lyric-charger",
   "metadata": {},
   "outputs": [],
   "source": [
    "# pod ip\n",
    "sftpHost = 'bro-test-sftp'"
   ]
  },
  {
   "cell_type": "code",
   "execution_count": 25,
   "id": "backed-stockholm",
   "metadata": {},
   "outputs": [
    {
     "data": {
      "text/plain": [
       "'12475'"
      ]
     },
     "execution_count": 25,
     "metadata": {},
     "output_type": "execute_result"
    }
   ],
   "source": [
    "url = baseurl + f'/v1/backup-manager/{BRM}/action'\n",
    "body = {\n",
    "      \"action\": \"EXPORT\",\n",
    "      \"payload\": {\n",
    "        \"backupName\": backupName,\n",
    "        \"uri\": f\"sftp://brsftp@{sftpHost}:9022/bro_test\",\n",
    "        \"password\": \"planbsftp\"  \n",
    "      }\n",
    "    }\n",
    "result = requests.post(url, json = body)\n",
    "actionid = result.json().get('id')\n",
    "actionid"
   ]
  },
  {
   "cell_type": "markdown",
   "id": "prospective-structure",
   "metadata": {},
   "source": [
    "### Import a backup"
   ]
  },
  {
   "cell_type": "code",
   "execution_count": 33,
   "id": "imported-account",
   "metadata": {},
   "outputs": [
    {
     "data": {
      "text/plain": [
       "'35296'"
      ]
     },
     "execution_count": 33,
     "metadata": {},
     "output_type": "execute_result"
    }
   ],
   "source": [
    "url = baseurl + f'/v1/backup-manager/{BRM}/action'\n",
    "body = {\n",
    "      \"action\": \"IMPORT\",\n",
    "      \"payload\": {\n",
    "        \"uri\": f\"sftp://brsftp@{sftpHost}:22/bro_test/{BRM}/{backupName}\",\n",
    "        \"password\": \"planbsftp\"  \n",
    "      }\n",
    "    }\n",
    "result = requests.post(url, json = body)\n",
    "actionid = result.json().get('id')\n",
    "actionid"
   ]
  },
  {
   "cell_type": "markdown",
   "id": "altered-sheet",
   "metadata": {},
   "source": [
    "## Backup"
   ]
  },
  {
   "cell_type": "markdown",
   "id": "gothic-attendance",
   "metadata": {},
   "source": [
    "### List backups"
   ]
  },
  {
   "cell_type": "code",
   "execution_count": 11,
   "id": "biological-joining",
   "metadata": {},
   "outputs": [
    {
     "data": {
      "text/plain": [
       "{'backups': [{'name': 'DemoBackup20',\n",
       "   'status': 'COMPLETE',\n",
       "   'creationTime': '2022-02-10T12:07:53.927014Z',\n",
       "   'id': 'DemoBackup20'}]}"
      ]
     },
     "execution_count": 11,
     "metadata": {},
     "output_type": "execute_result"
    }
   ],
   "source": [
    "url = baseurl + f'/v1/backup-manager/{BRM}/backup'\n",
    "result = requests.get(url)\n",
    "result.json()"
   ]
  },
  {
   "cell_type": "markdown",
   "id": "honey-argument",
   "metadata": {},
   "source": [
    "### Detail a backup"
   ]
  },
  {
   "cell_type": "code",
   "execution_count": 24,
   "id": "constant-negative",
   "metadata": {},
   "outputs": [],
   "source": [
    "backupName = 'DemoBackup01'"
   ]
  },
  {
   "cell_type": "code",
   "execution_count": 39,
   "id": "independent-technology",
   "metadata": {},
   "outputs": [
    {
     "data": {
      "text/plain": [
       "{'name': 'DemoBackup05',\n",
       " 'creationType': 'MANUAL',\n",
       " 'status': 'COMPLETE',\n",
       " 'softwareVersions': [{'productName': 'bravo',\n",
       "   'productNumber': 'CXC 222 22/2',\n",
       "   'productRevision': 'R2',\n",
       "   'date': '2019-02-02',\n",
       "   'description': 'test agent bravo',\n",
       "   'type': 'data',\n",
       "   'agentId': 'bravo'},\n",
       "  {'productName': 'Tiger',\n",
       "   'productNumber': 'CXC 888 88/8',\n",
       "   'productRevision': 'R15',\n",
       "   'date': '2019-08-08',\n",
       "   'description': 'agent tls',\n",
       "   'type': 'Legend',\n",
       "   'agentId': 'tls'},\n",
       "  {'productName': 'Document Database PG',\n",
       "   'productNumber': 'APR 201 34',\n",
       "   'productRevision': '7.0.0-47',\n",
       "   'date': '2022-01-20',\n",
       "   'description': 'eric-data-document-database-pg Agent for backup and restore.',\n",
       "   'type': 'Database',\n",
       "   'agentId': 'eric-data-document-database-pg'},\n",
       "  {'productName': 'Test Application',\n",
       "   'productNumber': 'APR XXX XX/X',\n",
       "   'productRevision': 'R1A',\n",
       "   'date': '2019-05-17T14:12:44+00:00',\n",
       "   'description': 'Test Application Drop 15',\n",
       "   'type': 'Predelivery',\n",
       "   'agentId': 'APPLICATION_INFO'}],\n",
       " 'creationTime': '2022-02-02T14:17:54.796281Z',\n",
       " 'id': 'DemoBackup05'}"
      ]
     },
     "execution_count": 39,
     "metadata": {},
     "output_type": "execute_result"
    }
   ],
   "source": [
    "url = baseurl + f'/v1/backup-manager/{BRM}/backup/{backupName}'\n",
    "result = requests.get(url)\n",
    "result.json()"
   ]
  },
  {
   "cell_type": "markdown",
   "id": "olive-vanilla",
   "metadata": {},
   "source": [
    "## Housekeeping"
   ]
  },
  {
   "cell_type": "markdown",
   "id": "accessory-festival",
   "metadata": {},
   "source": [
    "### Show the housekeeping"
   ]
  },
  {
   "cell_type": "code",
   "execution_count": 30,
   "id": "tested-botswana",
   "metadata": {},
   "outputs": [
    {
     "data": {
      "text/plain": [
       "{'maxStoredBackups': 1, 'autoDelete': 'enabled'}"
      ]
     },
     "execution_count": 30,
     "metadata": {},
     "output_type": "execute_result"
    }
   ],
   "source": [
    "url = baseurl + f'/backup-restore/v4alpha1/backup-managers/{BRM}/configuration/housekeeping'\n",
    "result = requests.get(url)\n",
    "result.json()"
   ]
  },
  {
   "cell_type": "markdown",
   "id": "honey-peripheral",
   "metadata": {},
   "source": [
    "### Put housekeeping config"
   ]
  },
  {
   "cell_type": "code",
   "execution_count": 42,
   "id": "minus-barbados",
   "metadata": {},
   "outputs": [],
   "source": [
    "url = baseurl + f'/backup-restore/v4alpha1/backup-managers/{BRM}/configuration/housekeeping'\n",
    "body = {\n",
    "'autoDelete': 'enabled', 'maxStoredBackups': 1\n",
    "    }\n",
    "result = requests.put(url, json = body)"
   ]
  },
  {
   "cell_type": "markdown",
   "id": "inappropriate-baltimore",
   "metadata": {},
   "source": [
    "### patch housekeeping config"
   ]
  },
  {
   "cell_type": "code",
   "execution_count": 22,
   "id": "international-victory",
   "metadata": {},
   "outputs": [],
   "source": [
    "url = baseurl + f'/backup-restore/v4alpha1/backup-managers/{BRM}/configuration/housekeeping'\n",
    "body = {\n",
    "      'maxStoredBackups': 12\n",
    "    }\n",
    "result = requests.patch(url, json = body)"
   ]
  },
  {
   "cell_type": "code",
   "execution_count": 43,
   "id": "direct-guyana",
   "metadata": {},
   "outputs": [
    {
     "data": {
      "text/plain": [
       "<Response [204]>"
      ]
     },
     "execution_count": 43,
     "metadata": {},
     "output_type": "execute_result"
    }
   ],
   "source": [
    "result"
   ]
  },
  {
   "cell_type": "code",
   "execution_count": 44,
   "id": "comparable-template",
   "metadata": {},
   "outputs": [
    {
     "ename": "JSONDecodeError",
     "evalue": "Expecting value: line 1 column 1 (char 0)",
     "output_type": "error",
     "traceback": [
      "\u001b[0;31m---------------------------------------------------------------------------\u001b[0m",
      "\u001b[0;31mJSONDecodeError\u001b[0m                           Traceback (most recent call last)",
      "\u001b[0;32m<ipython-input-44-a56753af43a4>\u001b[0m in \u001b[0;36m<module>\u001b[0;34m\u001b[0m\n\u001b[0;32m----> 1\u001b[0;31m \u001b[0mresult\u001b[0m\u001b[0;34m.\u001b[0m\u001b[0mjson\u001b[0m\u001b[0;34m(\u001b[0m\u001b[0;34m)\u001b[0m\u001b[0;34m\u001b[0m\u001b[0;34m\u001b[0m\u001b[0m\n\u001b[0m",
      "\u001b[0;32m~/.local/lib/python3.8/site-packages/requests/models.py\u001b[0m in \u001b[0;36mjson\u001b[0;34m(self, **kwargs)\u001b[0m\n\u001b[1;32m    898\u001b[0m                     \u001b[0;31m# used.\u001b[0m\u001b[0;34m\u001b[0m\u001b[0;34m\u001b[0m\u001b[0;34m\u001b[0m\u001b[0m\n\u001b[1;32m    899\u001b[0m                     \u001b[0;32mpass\u001b[0m\u001b[0;34m\u001b[0m\u001b[0;34m\u001b[0m\u001b[0m\n\u001b[0;32m--> 900\u001b[0;31m         \u001b[0;32mreturn\u001b[0m \u001b[0mcomplexjson\u001b[0m\u001b[0;34m.\u001b[0m\u001b[0mloads\u001b[0m\u001b[0;34m(\u001b[0m\u001b[0mself\u001b[0m\u001b[0;34m.\u001b[0m\u001b[0mtext\u001b[0m\u001b[0;34m,\u001b[0m \u001b[0;34m**\u001b[0m\u001b[0mkwargs\u001b[0m\u001b[0;34m)\u001b[0m\u001b[0;34m\u001b[0m\u001b[0;34m\u001b[0m\u001b[0m\n\u001b[0m\u001b[1;32m    901\u001b[0m \u001b[0;34m\u001b[0m\u001b[0m\n\u001b[1;32m    902\u001b[0m     \u001b[0;34m@\u001b[0m\u001b[0mproperty\u001b[0m\u001b[0;34m\u001b[0m\u001b[0;34m\u001b[0m\u001b[0m\n",
      "\u001b[0;32m/usr/lib/python3/dist-packages/simplejson/__init__.py\u001b[0m in \u001b[0;36mloads\u001b[0;34m(s, encoding, cls, object_hook, parse_float, parse_int, parse_constant, object_pairs_hook, use_decimal, **kw)\u001b[0m\n\u001b[1;32m    516\u001b[0m             \u001b[0mparse_constant\u001b[0m \u001b[0;32mis\u001b[0m \u001b[0;32mNone\u001b[0m \u001b[0;32mand\u001b[0m \u001b[0mobject_pairs_hook\u001b[0m \u001b[0;32mis\u001b[0m \u001b[0;32mNone\u001b[0m\u001b[0;34m\u001b[0m\u001b[0;34m\u001b[0m\u001b[0m\n\u001b[1;32m    517\u001b[0m             and not use_decimal and not kw):\n\u001b[0;32m--> 518\u001b[0;31m         \u001b[0;32mreturn\u001b[0m \u001b[0m_default_decoder\u001b[0m\u001b[0;34m.\u001b[0m\u001b[0mdecode\u001b[0m\u001b[0;34m(\u001b[0m\u001b[0ms\u001b[0m\u001b[0;34m)\u001b[0m\u001b[0;34m\u001b[0m\u001b[0;34m\u001b[0m\u001b[0m\n\u001b[0m\u001b[1;32m    519\u001b[0m     \u001b[0;32mif\u001b[0m \u001b[0mcls\u001b[0m \u001b[0;32mis\u001b[0m \u001b[0;32mNone\u001b[0m\u001b[0;34m:\u001b[0m\u001b[0;34m\u001b[0m\u001b[0;34m\u001b[0m\u001b[0m\n\u001b[1;32m    520\u001b[0m         \u001b[0mcls\u001b[0m \u001b[0;34m=\u001b[0m \u001b[0mJSONDecoder\u001b[0m\u001b[0;34m\u001b[0m\u001b[0;34m\u001b[0m\u001b[0m\n",
      "\u001b[0;32m/usr/lib/python3/dist-packages/simplejson/decoder.py\u001b[0m in \u001b[0;36mdecode\u001b[0;34m(self, s, _w, _PY3)\u001b[0m\n\u001b[1;32m    368\u001b[0m         \u001b[0;32mif\u001b[0m \u001b[0m_PY3\u001b[0m \u001b[0;32mand\u001b[0m \u001b[0misinstance\u001b[0m\u001b[0;34m(\u001b[0m\u001b[0ms\u001b[0m\u001b[0;34m,\u001b[0m \u001b[0mbytes\u001b[0m\u001b[0;34m)\u001b[0m\u001b[0;34m:\u001b[0m\u001b[0;34m\u001b[0m\u001b[0;34m\u001b[0m\u001b[0m\n\u001b[1;32m    369\u001b[0m             \u001b[0ms\u001b[0m \u001b[0;34m=\u001b[0m \u001b[0mstr\u001b[0m\u001b[0;34m(\u001b[0m\u001b[0ms\u001b[0m\u001b[0;34m,\u001b[0m \u001b[0mself\u001b[0m\u001b[0;34m.\u001b[0m\u001b[0mencoding\u001b[0m\u001b[0;34m)\u001b[0m\u001b[0;34m\u001b[0m\u001b[0;34m\u001b[0m\u001b[0m\n\u001b[0;32m--> 370\u001b[0;31m         \u001b[0mobj\u001b[0m\u001b[0;34m,\u001b[0m \u001b[0mend\u001b[0m \u001b[0;34m=\u001b[0m \u001b[0mself\u001b[0m\u001b[0;34m.\u001b[0m\u001b[0mraw_decode\u001b[0m\u001b[0;34m(\u001b[0m\u001b[0ms\u001b[0m\u001b[0;34m)\u001b[0m\u001b[0;34m\u001b[0m\u001b[0;34m\u001b[0m\u001b[0m\n\u001b[0m\u001b[1;32m    371\u001b[0m         \u001b[0mend\u001b[0m \u001b[0;34m=\u001b[0m \u001b[0m_w\u001b[0m\u001b[0;34m(\u001b[0m\u001b[0ms\u001b[0m\u001b[0;34m,\u001b[0m \u001b[0mend\u001b[0m\u001b[0;34m)\u001b[0m\u001b[0;34m.\u001b[0m\u001b[0mend\u001b[0m\u001b[0;34m(\u001b[0m\u001b[0;34m)\u001b[0m\u001b[0;34m\u001b[0m\u001b[0;34m\u001b[0m\u001b[0m\n\u001b[1;32m    372\u001b[0m         \u001b[0;32mif\u001b[0m \u001b[0mend\u001b[0m \u001b[0;34m!=\u001b[0m \u001b[0mlen\u001b[0m\u001b[0;34m(\u001b[0m\u001b[0ms\u001b[0m\u001b[0;34m)\u001b[0m\u001b[0;34m:\u001b[0m\u001b[0;34m\u001b[0m\u001b[0;34m\u001b[0m\u001b[0m\n",
      "\u001b[0;32m/usr/lib/python3/dist-packages/simplejson/decoder.py\u001b[0m in \u001b[0;36mraw_decode\u001b[0;34m(self, s, idx, _w, _PY3)\u001b[0m\n\u001b[1;32m    398\u001b[0m             \u001b[0;32melif\u001b[0m \u001b[0mord0\u001b[0m \u001b[0;34m==\u001b[0m \u001b[0;36m0xef\u001b[0m \u001b[0;32mand\u001b[0m \u001b[0ms\u001b[0m\u001b[0;34m[\u001b[0m\u001b[0midx\u001b[0m\u001b[0;34m:\u001b[0m\u001b[0midx\u001b[0m \u001b[0;34m+\u001b[0m \u001b[0;36m3\u001b[0m\u001b[0;34m]\u001b[0m \u001b[0;34m==\u001b[0m \u001b[0;34m'\\xef\\xbb\\xbf'\u001b[0m\u001b[0;34m:\u001b[0m\u001b[0;34m\u001b[0m\u001b[0;34m\u001b[0m\u001b[0m\n\u001b[1;32m    399\u001b[0m                 \u001b[0midx\u001b[0m \u001b[0;34m+=\u001b[0m \u001b[0;36m3\u001b[0m\u001b[0;34m\u001b[0m\u001b[0;34m\u001b[0m\u001b[0m\n\u001b[0;32m--> 400\u001b[0;31m         \u001b[0;32mreturn\u001b[0m \u001b[0mself\u001b[0m\u001b[0;34m.\u001b[0m\u001b[0mscan_once\u001b[0m\u001b[0;34m(\u001b[0m\u001b[0ms\u001b[0m\u001b[0;34m,\u001b[0m \u001b[0midx\u001b[0m\u001b[0;34m=\u001b[0m\u001b[0m_w\u001b[0m\u001b[0;34m(\u001b[0m\u001b[0ms\u001b[0m\u001b[0;34m,\u001b[0m \u001b[0midx\u001b[0m\u001b[0;34m)\u001b[0m\u001b[0;34m.\u001b[0m\u001b[0mend\u001b[0m\u001b[0;34m(\u001b[0m\u001b[0;34m)\u001b[0m\u001b[0;34m)\u001b[0m\u001b[0;34m\u001b[0m\u001b[0;34m\u001b[0m\u001b[0m\n\u001b[0m",
      "\u001b[0;31mJSONDecodeError\u001b[0m: Expecting value: line 1 column 1 (char 0)"
     ]
    }
   ],
   "source": [
    "result.json()"
   ]
  },
  {
   "cell_type": "markdown",
   "id": "forward-japan",
   "metadata": {},
   "source": [
    "## BRM"
   ]
  },
  {
   "cell_type": "markdown",
   "id": "violent-underground",
   "metadata": {},
   "source": [
    "### List BRM"
   ]
  },
  {
   "cell_type": "code",
   "execution_count": 37,
   "id": "dried-momentum",
   "metadata": {},
   "outputs": [
    {
     "data": {
      "text/plain": [
       "{'backupManagers': [{'backupType': None,\n",
       "   'backupDomain': None,\n",
       "   'id': 'configuration-data'},\n",
       "  {'backupType': None, 'backupDomain': None, 'id': 'DEFAULT'}]}"
      ]
     },
     "execution_count": 37,
     "metadata": {},
     "output_type": "execute_result"
    }
   ],
   "source": [
    "url = baseurl + '/v1/backup-manager'\n",
    "result = requests.get(url)\n",
    "result.json()"
   ]
  },
  {
   "cell_type": "code",
   "execution_count": 14,
   "id": "vertical-marsh",
   "metadata": {},
   "outputs": [
    {
     "data": {
      "text/plain": [
       "{'backupType': None, 'backupDomain': None, 'id': 'configuration-data'}"
      ]
     },
     "execution_count": 14,
     "metadata": {},
     "output_type": "execute_result"
    }
   ],
   "source": [
    "url = baseurl + f'/v1/backup-manager/{BRM}'\n",
    "result = requests.get(url)\n",
    "result.json()"
   ]
  },
  {
   "cell_type": "markdown",
   "id": "boolean-agency",
   "metadata": {},
   "source": [
    "## Scheduling"
   ]
  },
  {
   "cell_type": "markdown",
   "id": "harmful-covering",
   "metadata": {},
   "source": [
    "### View a BRM's Scheduler"
   ]
  },
  {
   "cell_type": "code",
   "execution_count": 6,
   "id": "unlike-nursery",
   "metadata": {},
   "outputs": [
    {
     "data": {
      "text/plain": [
       "{'adminState': 'UNLOCKED',\n",
       " 'mostRecentlyCreatedAutoBackup': None,\n",
       " 'nextScheduledTime': None,\n",
       " 'scheduledBackupName': 'SCHEDULED_BACKUP',\n",
       " 'autoExport': 'DISABLED',\n",
       " 'autoExportPassword': '',\n",
       " 'autoExportUri': None,\n",
       " 'scheduledBackupNamePrefix': 'SCHEDULED_BACKUP'}"
      ]
     },
     "execution_count": 6,
     "metadata": {},
     "output_type": "execute_result"
    }
   ],
   "source": [
    "url = baseurl+f'/backup-restore/v4alpha1/backup-managers/{BRM}/configuration/scheduling'\n",
    "result = requests.get(url)\n",
    "result.json()"
   ]
  },
  {
   "cell_type": "markdown",
   "id": "handled-bridge",
   "metadata": {},
   "source": [
    "### update the scheduler"
   ]
  },
  {
   "cell_type": "markdown",
   "id": "coupled-strengthening",
   "metadata": {},
   "source": [
    "Don't execute it when CMYP is enabled. BRO will fail and can't come back."
   ]
  },
  {
   "cell_type": "code",
   "execution_count": 26,
   "id": "juvenile-setup",
   "metadata": {},
   "outputs": [
    {
     "data": {
      "text/plain": [
       "{'adminState': 'UNLOCKED',\n",
       " 'mostRecentlyCreatedAutoBackup': None,\n",
       " 'nextScheduledTime': None,\n",
       " 'scheduledBackupName': 'MY_SCHEDULED',\n",
       " 'autoExport': 'ENABLED',\n",
       " 'autoExportPassword': '*****',\n",
       " 'autoExportUri': 'sftp://brsftp@bro-test-sftp:9022/bro_test'}"
      ]
     },
     "execution_count": 26,
     "metadata": {},
     "output_type": "execute_result"
    }
   ],
   "source": [
    "url = baseurl + f'/v3/backup-managers/{BRM}/scheduler/configuration'\n",
    "body = {\n",
    "      'adminState': 'UNLOCKED',\n",
    "     'scheduledBackupName': 'MY_SCHEDULED',\n",
    "     'autoExport': 'ENABLED',\n",
    "     'autoExportPassword': 'planbsftp',\n",
    "     'autoExportUri': f\"sftp://brsftp@{sftpHost}:9022/bro_test\"\n",
    "    }\n",
    "result = requests.put(url, json = body)\n",
    "result.json()"
   ]
  },
  {
   "cell_type": "markdown",
   "id": "straight-trout",
   "metadata": {},
   "source": [
    "### create a Periodic Scheduling"
   ]
  },
  {
   "cell_type": "code",
   "execution_count": 29,
   "id": "collect-rwanda",
   "metadata": {},
   "outputs": [
    {
     "data": {
      "text/plain": [
       "{'id': '21311'}"
      ]
     },
     "execution_count": 29,
     "metadata": {},
     "output_type": "execute_result"
    }
   ],
   "source": [
    "url = baseurl + f'/v3/backup-managers/{BRM}/scheduler/periodic-events'\n",
    "body = {\n",
    "      'hours': 2,\n",
    "        'minutes': 31,\n",
    "    'startTime':'2022-02-02T17:15:00',\n",
    "    'stopTime':'2022-02-02T18:15:00'\n",
    "    }\n",
    "result = requests.post(url, json = body)\n",
    "result.json()"
   ]
  },
  {
   "cell_type": "code",
   "execution_count": 26,
   "id": "israeli-event",
   "metadata": {},
   "outputs": [
    {
     "data": {
      "text/plain": [
       "'52738'"
      ]
     },
     "execution_count": 26,
     "metadata": {},
     "output_type": "execute_result"
    }
   ],
   "source": [
    "url = baseurl + f'/v3/backup-managers/{BRM}/scheduler/periodic-events'\n",
    "body = {\n",
    "      'hours': 2,\n",
    "        'minutes': 34,\n",
    "    'startTime':'2022-02-02T17:15:00',\n",
    "    'stopTime':'2022-02-02T18:15:00'\n",
    "    }\n",
    "result = requests.post(url, json = body)\n",
    "eventid = result.json().get('id')\n",
    "eventid"
   ]
  },
  {
   "cell_type": "markdown",
   "id": "alone-traveler",
   "metadata": {},
   "source": [
    "### list all periodic-events"
   ]
  },
  {
   "cell_type": "code",
   "execution_count": 16,
   "id": "controlling-moment",
   "metadata": {
    "scrolled": true
   },
   "outputs": [
    {
     "data": {
      "text/plain": [
       "{'events': [{'startTime': '2022-02-02T15:15:00Z',\n",
       "   'stopTime': '2022-02-02T17:15:00Z',\n",
       "   'minutes': 30,\n",
       "   'hours': 0,\n",
       "   'days': 0,\n",
       "   'weeks': 0,\n",
       "   'id': '54103'},\n",
       "  {'startTime': '2022-02-02T17:15:00Z',\n",
       "   'stopTime': '2022-02-02T18:15:00Z',\n",
       "   'minutes': 30,\n",
       "   'hours': 1,\n",
       "   'days': 0,\n",
       "   'weeks': 0,\n",
       "   'id': '15487'}]}"
      ]
     },
     "execution_count": 16,
     "metadata": {},
     "output_type": "execute_result"
    }
   ],
   "source": [
    "url = baseurl + f'/v3/backup-managers/{BRM}/scheduler/periodic-events'\n",
    "result = requests.get(url)\n",
    "result.json()"
   ]
  },
  {
   "cell_type": "markdown",
   "id": "mathematical-athletics",
   "metadata": {},
   "source": [
    "### detail a periodic-event"
   ]
  },
  {
   "cell_type": "code",
   "execution_count": 20,
   "id": "given-colon",
   "metadata": {},
   "outputs": [
    {
     "data": {
      "text/plain": [
       "{'startTime': '2022-02-02T17:15:00Z',\n",
       " 'stopTime': '2022-02-02T18:15:00Z',\n",
       " 'minutes': 30,\n",
       " 'hours': 2,\n",
       " 'days': 0,\n",
       " 'weeks': 0,\n",
       " 'id': '43276'}"
      ]
     },
     "execution_count": 20,
     "metadata": {},
     "output_type": "execute_result"
    }
   ],
   "source": [
    "url = baseurl + f'/v3/backup-managers/{BRM}/scheduler/periodic-events/{eventid}'\n",
    "result = requests.get(url)\n",
    "result.json()"
   ]
  },
  {
   "cell_type": "markdown",
   "id": "compatible-greenhouse",
   "metadata": {},
   "source": [
    "### update a periodic-event"
   ]
  },
  {
   "cell_type": "code",
   "execution_count": 22,
   "id": "black-complexity",
   "metadata": {},
   "outputs": [
    {
     "data": {
      "text/plain": [
       "{'startTime': '2022-02-02T17:15:00Z',\n",
       " 'stopTime': '2022-02-02T18:15:00Z',\n",
       " 'minutes': 33,\n",
       " 'hours': 2,\n",
       " 'days': 0,\n",
       " 'weeks': 0,\n",
       " 'id': '43276'}"
      ]
     },
     "execution_count": 22,
     "metadata": {},
     "output_type": "execute_result"
    }
   ],
   "source": [
    "url = baseurl + f'/v3/backup-managers/{BRM}/scheduler/periodic-events/{eventid}'\n",
    "body = {\n",
    "      'hours': 2,\n",
    "        'minutes': 33,\n",
    "    'startTime':'2022-02-02T17:15:00',\n",
    "    'stopTime':'2022-02-02T18:15:00'\n",
    "    }\n",
    "result = requests.put(url, json = body)\n",
    "result.json()"
   ]
  },
  {
   "cell_type": "markdown",
   "id": "minimal-pharmacy",
   "metadata": {},
   "source": [
    "### delete a periodic event"
   ]
  },
  {
   "cell_type": "code",
   "execution_count": 27,
   "id": "acute-border",
   "metadata": {},
   "outputs": [
    {
     "data": {
      "text/plain": [
       "<Response [204]>"
      ]
     },
     "execution_count": 27,
     "metadata": {},
     "output_type": "execute_result"
    }
   ],
   "source": [
    "url = baseurl + f'/v3/backup-managers/{BRM}/scheduler/periodic-events/{eventid}'\n",
    "result = requests.delete(url)\n",
    "result"
   ]
  },
  {
   "cell_type": "code",
   "execution_count": 31,
   "id": "stretch-poverty",
   "metadata": {},
   "outputs": [
    {
     "data": {
      "text/plain": [
       "''"
      ]
     },
     "execution_count": 31,
     "metadata": {},
     "output_type": "execute_result"
    }
   ],
   "source": [
    "result.text"
   ]
  },
  {
   "cell_type": "markdown",
   "id": "coated-calgary",
   "metadata": {},
   "source": [
    "### calender-schedules"
   ]
  },
  {
   "cell_type": "code",
   "execution_count": 21,
   "id": "injured-liquid",
   "metadata": {},
   "outputs": [
    {
     "data": {
      "text/plain": [
       "<Response [501]>"
      ]
     },
     "execution_count": 21,
     "metadata": {},
     "output_type": "execute_result"
    }
   ],
   "source": [
    "url = baseurl + f'/backup-restore/v4alpha1/backup-managers/{BRM}/calendar-schedules'\n",
    "result = requests.get(url)\n",
    "result"
   ]
  },
  {
   "cell_type": "code",
   "execution_count": 22,
   "id": "applicable-frederick",
   "metadata": {},
   "outputs": [
    {
     "data": {
      "text/plain": [
       "{'statusCode': 501, 'message': 'Not yet implemented'}"
      ]
     },
     "execution_count": 22,
     "metadata": {},
     "output_type": "execute_result"
    }
   ],
   "source": [
    "result.json()"
   ]
  },
  {
   "cell_type": "code",
   "execution_count": 36,
   "id": "external-girlfriend",
   "metadata": {},
   "outputs": [
    {
     "data": {
      "text/plain": [
       "{'id': '24025'}"
      ]
     },
     "execution_count": 36,
     "metadata": {},
     "output_type": "execute_result"
    }
   ],
   "source": [
    "url = baseurl + f'/backup-restore/v4alpha1/backup-managers/{BRM}/calendar-schedules'\n",
    "body = {\n",
    "\n",
    "\"startTime\": \"2022-02-02T17:15:00Z\",\n",
    "\n",
    "\"stopTime\": \"2023-02-02T17:15:00Z\",\n",
    "\n",
    "\"month\": \"0\",\n",
    "\n",
    "\"dayOfWeek\": \"SUNDAY\",\n",
    "\n",
    "\"dayOfMonth\": \"31\",\n",
    "\n",
    "\"time\": \"08:20:00\",\n",
    "\n",
    "\"dayOfWeekOccurrence\": \"FIRST\",\n",
    "\n",
    "}\n",
    "result = requests.post(url, json=body)\n",
    "result.json()"
   ]
  },
  {
   "cell_type": "code",
   "execution_count": null,
   "id": "cleared-destination",
   "metadata": {},
   "outputs": [],
   "source": []
  },
  {
   "cell_type": "code",
   "execution_count": 8,
   "id": "unusual-republican",
   "metadata": {},
   "outputs": [
    {
     "data": {
      "text/plain": [
       "{'statusCode': 501, 'message': 'Not yet implemented'}"
      ]
     },
     "execution_count": 8,
     "metadata": {},
     "output_type": "execute_result"
    }
   ],
   "source": [
    "url = baseurl + f'/backup-restore/v4alpha1/backup-managers/{BRM}/calendar-schedules/0'\n",
    "result = requests.get(url)\n",
    "result.json()"
   ]
  },
  {
   "cell_type": "code",
   "execution_count": 9,
   "id": "twenty-mercury",
   "metadata": {},
   "outputs": [
    {
     "data": {
      "text/plain": [
       "{'statusCode': 501, 'message': 'Not yet implemented'}"
      ]
     },
     "execution_count": 9,
     "metadata": {},
     "output_type": "execute_result"
    }
   ],
   "source": [
    "url = baseurl + f'/backup-restore/v4alpha1/backup-managers/{BRM}/calendar-schedules/0'\n",
    "result = requests.patch(url)\n",
    "result.json()"
   ]
  },
  {
   "cell_type": "code",
   "execution_count": 10,
   "id": "talented-mouth",
   "metadata": {},
   "outputs": [
    {
     "data": {
      "text/plain": [
       "{'statusCode': 501, 'message': 'Not yet implemented'}"
      ]
     },
     "execution_count": 10,
     "metadata": {},
     "output_type": "execute_result"
    }
   ],
   "source": [
    "url = baseurl + f'/backup-restore/v4alpha1/backup-managers/{BRM}/calendar-schedules/0'\n",
    "result = requests.put(url)\n",
    "result.json()"
   ]
  },
  {
   "cell_type": "code",
   "execution_count": 11,
   "id": "forbidden-marble",
   "metadata": {},
   "outputs": [
    {
     "data": {
      "text/plain": [
       "{'statusCode': 501, 'message': 'Not yet implemented'}"
      ]
     },
     "execution_count": 11,
     "metadata": {},
     "output_type": "execute_result"
    }
   ],
   "source": [
    "url = baseurl + f'/backup-restore/v4alpha1/backup-managers/{BRM}/calendar-schedules/0'\n",
    "result = requests.delete(url)\n",
    "result.json()"
   ]
  },
  {
   "cell_type": "code",
   "execution_count": 14,
   "id": "colored-congress",
   "metadata": {},
   "outputs": [
    {
     "ename": "JSONDecodeError",
     "evalue": "Expecting value: line 1 column 1 (char 0)",
     "output_type": "error",
     "traceback": [
      "\u001b[0;31m---------------------------------------------------------------------------\u001b[0m",
      "\u001b[0;31mJSONDecodeError\u001b[0m                           Traceback (most recent call last)",
      "\u001b[0;32m<ipython-input-14-e6f783fe04d6>\u001b[0m in \u001b[0;36m<module>\u001b[0;34m\u001b[0m\n\u001b[1;32m      1\u001b[0m \u001b[0murl\u001b[0m \u001b[0;34m=\u001b[0m \u001b[0mbaseurl\u001b[0m \u001b[0;34m+\u001b[0m \u001b[0;34mf'/backup-restore/v4alpha1/backup-managers/{BRM}/calender-schedules/0'\u001b[0m\u001b[0;34m\u001b[0m\u001b[0;34m\u001b[0m\u001b[0m\n\u001b[1;32m      2\u001b[0m \u001b[0mresult\u001b[0m \u001b[0;34m=\u001b[0m \u001b[0mrequests\u001b[0m\u001b[0;34m.\u001b[0m\u001b[0mhead\u001b[0m\u001b[0;34m(\u001b[0m\u001b[0murl\u001b[0m\u001b[0;34m)\u001b[0m\u001b[0;34m\u001b[0m\u001b[0;34m\u001b[0m\u001b[0m\n\u001b[0;32m----> 3\u001b[0;31m \u001b[0mresult\u001b[0m\u001b[0;34m.\u001b[0m\u001b[0mjson\u001b[0m\u001b[0;34m(\u001b[0m\u001b[0;34m)\u001b[0m\u001b[0;34m\u001b[0m\u001b[0;34m\u001b[0m\u001b[0m\n\u001b[0m",
      "\u001b[0;32m~/.local/lib/python3.8/site-packages/requests/models.py\u001b[0m in \u001b[0;36mjson\u001b[0;34m(self, **kwargs)\u001b[0m\n\u001b[1;32m    898\u001b[0m                     \u001b[0;31m# used.\u001b[0m\u001b[0;34m\u001b[0m\u001b[0;34m\u001b[0m\u001b[0;34m\u001b[0m\u001b[0m\n\u001b[1;32m    899\u001b[0m                     \u001b[0;32mpass\u001b[0m\u001b[0;34m\u001b[0m\u001b[0;34m\u001b[0m\u001b[0m\n\u001b[0;32m--> 900\u001b[0;31m         \u001b[0;32mreturn\u001b[0m \u001b[0mcomplexjson\u001b[0m\u001b[0;34m.\u001b[0m\u001b[0mloads\u001b[0m\u001b[0;34m(\u001b[0m\u001b[0mself\u001b[0m\u001b[0;34m.\u001b[0m\u001b[0mtext\u001b[0m\u001b[0;34m,\u001b[0m \u001b[0;34m**\u001b[0m\u001b[0mkwargs\u001b[0m\u001b[0;34m)\u001b[0m\u001b[0;34m\u001b[0m\u001b[0;34m\u001b[0m\u001b[0m\n\u001b[0m\u001b[1;32m    901\u001b[0m \u001b[0;34m\u001b[0m\u001b[0m\n\u001b[1;32m    902\u001b[0m     \u001b[0;34m@\u001b[0m\u001b[0mproperty\u001b[0m\u001b[0;34m\u001b[0m\u001b[0;34m\u001b[0m\u001b[0m\n",
      "\u001b[0;32m/usr/lib/python3/dist-packages/simplejson/__init__.py\u001b[0m in \u001b[0;36mloads\u001b[0;34m(s, encoding, cls, object_hook, parse_float, parse_int, parse_constant, object_pairs_hook, use_decimal, **kw)\u001b[0m\n\u001b[1;32m    516\u001b[0m             \u001b[0mparse_constant\u001b[0m \u001b[0;32mis\u001b[0m \u001b[0;32mNone\u001b[0m \u001b[0;32mand\u001b[0m \u001b[0mobject_pairs_hook\u001b[0m \u001b[0;32mis\u001b[0m \u001b[0;32mNone\u001b[0m\u001b[0;34m\u001b[0m\u001b[0;34m\u001b[0m\u001b[0m\n\u001b[1;32m    517\u001b[0m             and not use_decimal and not kw):\n\u001b[0;32m--> 518\u001b[0;31m         \u001b[0;32mreturn\u001b[0m \u001b[0m_default_decoder\u001b[0m\u001b[0;34m.\u001b[0m\u001b[0mdecode\u001b[0m\u001b[0;34m(\u001b[0m\u001b[0ms\u001b[0m\u001b[0;34m)\u001b[0m\u001b[0;34m\u001b[0m\u001b[0;34m\u001b[0m\u001b[0m\n\u001b[0m\u001b[1;32m    519\u001b[0m     \u001b[0;32mif\u001b[0m \u001b[0mcls\u001b[0m \u001b[0;32mis\u001b[0m \u001b[0;32mNone\u001b[0m\u001b[0;34m:\u001b[0m\u001b[0;34m\u001b[0m\u001b[0;34m\u001b[0m\u001b[0m\n\u001b[1;32m    520\u001b[0m         \u001b[0mcls\u001b[0m \u001b[0;34m=\u001b[0m \u001b[0mJSONDecoder\u001b[0m\u001b[0;34m\u001b[0m\u001b[0;34m\u001b[0m\u001b[0m\n",
      "\u001b[0;32m/usr/lib/python3/dist-packages/simplejson/decoder.py\u001b[0m in \u001b[0;36mdecode\u001b[0;34m(self, s, _w, _PY3)\u001b[0m\n\u001b[1;32m    368\u001b[0m         \u001b[0;32mif\u001b[0m \u001b[0m_PY3\u001b[0m \u001b[0;32mand\u001b[0m \u001b[0misinstance\u001b[0m\u001b[0;34m(\u001b[0m\u001b[0ms\u001b[0m\u001b[0;34m,\u001b[0m \u001b[0mbytes\u001b[0m\u001b[0;34m)\u001b[0m\u001b[0;34m:\u001b[0m\u001b[0;34m\u001b[0m\u001b[0;34m\u001b[0m\u001b[0m\n\u001b[1;32m    369\u001b[0m             \u001b[0ms\u001b[0m \u001b[0;34m=\u001b[0m \u001b[0mstr\u001b[0m\u001b[0;34m(\u001b[0m\u001b[0ms\u001b[0m\u001b[0;34m,\u001b[0m \u001b[0mself\u001b[0m\u001b[0;34m.\u001b[0m\u001b[0mencoding\u001b[0m\u001b[0;34m)\u001b[0m\u001b[0;34m\u001b[0m\u001b[0;34m\u001b[0m\u001b[0m\n\u001b[0;32m--> 370\u001b[0;31m         \u001b[0mobj\u001b[0m\u001b[0;34m,\u001b[0m \u001b[0mend\u001b[0m \u001b[0;34m=\u001b[0m \u001b[0mself\u001b[0m\u001b[0;34m.\u001b[0m\u001b[0mraw_decode\u001b[0m\u001b[0;34m(\u001b[0m\u001b[0ms\u001b[0m\u001b[0;34m)\u001b[0m\u001b[0;34m\u001b[0m\u001b[0;34m\u001b[0m\u001b[0m\n\u001b[0m\u001b[1;32m    371\u001b[0m         \u001b[0mend\u001b[0m \u001b[0;34m=\u001b[0m \u001b[0m_w\u001b[0m\u001b[0;34m(\u001b[0m\u001b[0ms\u001b[0m\u001b[0;34m,\u001b[0m \u001b[0mend\u001b[0m\u001b[0;34m)\u001b[0m\u001b[0;34m.\u001b[0m\u001b[0mend\u001b[0m\u001b[0;34m(\u001b[0m\u001b[0;34m)\u001b[0m\u001b[0;34m\u001b[0m\u001b[0;34m\u001b[0m\u001b[0m\n\u001b[1;32m    372\u001b[0m         \u001b[0;32mif\u001b[0m \u001b[0mend\u001b[0m \u001b[0;34m!=\u001b[0m \u001b[0mlen\u001b[0m\u001b[0;34m(\u001b[0m\u001b[0ms\u001b[0m\u001b[0;34m)\u001b[0m\u001b[0;34m:\u001b[0m\u001b[0;34m\u001b[0m\u001b[0;34m\u001b[0m\u001b[0m\n",
      "\u001b[0;32m/usr/lib/python3/dist-packages/simplejson/decoder.py\u001b[0m in \u001b[0;36mraw_decode\u001b[0;34m(self, s, idx, _w, _PY3)\u001b[0m\n\u001b[1;32m    398\u001b[0m             \u001b[0;32melif\u001b[0m \u001b[0mord0\u001b[0m \u001b[0;34m==\u001b[0m \u001b[0;36m0xef\u001b[0m \u001b[0;32mand\u001b[0m \u001b[0ms\u001b[0m\u001b[0;34m[\u001b[0m\u001b[0midx\u001b[0m\u001b[0;34m:\u001b[0m\u001b[0midx\u001b[0m \u001b[0;34m+\u001b[0m \u001b[0;36m3\u001b[0m\u001b[0;34m]\u001b[0m \u001b[0;34m==\u001b[0m \u001b[0;34m'\\xef\\xbb\\xbf'\u001b[0m\u001b[0;34m:\u001b[0m\u001b[0;34m\u001b[0m\u001b[0;34m\u001b[0m\u001b[0m\n\u001b[1;32m    399\u001b[0m                 \u001b[0midx\u001b[0m \u001b[0;34m+=\u001b[0m \u001b[0;36m3\u001b[0m\u001b[0;34m\u001b[0m\u001b[0;34m\u001b[0m\u001b[0m\n\u001b[0;32m--> 400\u001b[0;31m         \u001b[0;32mreturn\u001b[0m \u001b[0mself\u001b[0m\u001b[0;34m.\u001b[0m\u001b[0mscan_once\u001b[0m\u001b[0;34m(\u001b[0m\u001b[0ms\u001b[0m\u001b[0;34m,\u001b[0m \u001b[0midx\u001b[0m\u001b[0;34m=\u001b[0m\u001b[0m_w\u001b[0m\u001b[0;34m(\u001b[0m\u001b[0ms\u001b[0m\u001b[0;34m,\u001b[0m \u001b[0midx\u001b[0m\u001b[0;34m)\u001b[0m\u001b[0;34m.\u001b[0m\u001b[0mend\u001b[0m\u001b[0;34m(\u001b[0m\u001b[0;34m)\u001b[0m\u001b[0;34m)\u001b[0m\u001b[0;34m\u001b[0m\u001b[0;34m\u001b[0m\u001b[0m\n\u001b[0m",
      "\u001b[0;31mJSONDecodeError\u001b[0m: Expecting value: line 1 column 1 (char 0)"
     ]
    }
   ],
   "source": [
    "url = baseurl + f'/backup-restore/v4alpha1/backup-managers/{BRM}/calendar-schedules/0'\n",
    "result = requests.head(url)\n",
    "result.json()"
   ]
  },
  {
   "cell_type": "code",
   "execution_count": null,
   "id": "republican-alexandria",
   "metadata": {},
   "outputs": [],
   "source": []
  }
 ],
 "metadata": {
  "kernelspec": {
   "display_name": "Python 3",
   "language": "python",
   "name": "python3"
  },
  "language_info": {
   "codemirror_mode": {
    "name": "ipython",
    "version": 3
   },
   "file_extension": ".py",
   "mimetype": "text/x-python",
   "name": "python",
   "nbconvert_exporter": "python",
   "pygments_lexer": "ipython3",
   "version": "3.8.10"
  }
 },
 "nbformat": 4,
 "nbformat_minor": 5
}
