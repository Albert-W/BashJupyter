{
 "cells": [
  {
   "cell_type": "markdown",
   "id": "armed-characterization",
   "metadata": {},
   "source": [
    "# Set up the connection"
   ]
  },
  {
   "cell_type": "code",
   "execution_count": 28,
   "id": "adjacent-function",
   "metadata": {},
   "outputs": [],
   "source": [
    "import paramiko\n",
    "import os\n",
    "import sys\n",
    "import select\n",
    "import time "
   ]
  },
  {
   "cell_type": "code",
   "execution_count": 29,
   "id": "explicit-firewall",
   "metadata": {},
   "outputs": [],
   "source": [
    "class SSHShell:\n",
    "    def __init__(self, host, user, psw, port):\n",
    "        self.ssh = paramiko.SSHClient()\n",
    "        self.ssh.set_missing_host_key_policy(paramiko.AutoAddPolicy())\n",
    "        self.ssh.connect(host, username=user, password=psw, port=port, timeout=2)\n",
    "        self.refresh()\n",
    "\n",
    "    def __del__(self):\n",
    "        self.ssh.close()\n",
    "    \n",
    "    def refresh(self):\n",
    "        self.channel = self.ssh.invoke_shell()\n",
    "        self.stdin = self.channel.makefile('wb')\n",
    "        self.stdout = self.channel.makefile('r')    \n",
    "\n",
    "    def execute(self, cmd):\n",
    "        cmd = cmd.strip('\\n')\n",
    "        self.stdin.write(cmd + '\\n')\n",
    "        self.stdin.flush()\n",
    "        time.sleep(0.5)\n",
    "        while self.stdout.channel.recv_ready():\n",
    "            rl, wl, xl = select.select([ self.stdout.channel ], [ ], [ ])\n",
    "            if len(rl) > 0:\n",
    "                tmp = self.stdout.channel.recv(1024)\n",
    "                output = tmp.decode()\n",
    "                print(output)"
   ]
  },
  {
   "cell_type": "code",
   "execution_count": 30,
   "id": "interstate-exception",
   "metadata": {},
   "outputs": [],
   "source": [
    "CLI = SSHShell(\"10.120.217.249\", \"brocmyp\", \"TeamPlanBYang$1\", 2222)"
   ]
  },
  {
   "cell_type": "code",
   "execution_count": 31,
   "id": "completed-produce",
   "metadata": {
    "scrolled": true
   },
   "outputs": [
    {
     "name": "stdout",
     "output_type": "stream",
     "text": [
      "Welcome\r\n",
      "Last login time: Wed Jun  1 20:24:06 2022\r\n",
      "brocmyp connected from 10.120.217.52 using ssh on eric-cm-yang-provider-75dc4846c-pgz6q\r\n",
      "\u001b[?7hbrocmyp@eric-cm-yang-provider-75dc4846c-pgz6q#screen-length 100\r\n",
      "brocmyp@eric-cm-yang-provider-75dc4846c-pgz6q#\n"
     ]
    }
   ],
   "source": [
    "CLI.execute('screen-length 100')"
   ]
  },
  {
   "cell_type": "markdown",
   "id": "human-karma",
   "metadata": {},
   "source": [
    "## BRM"
   ]
  },
  {
   "cell_type": "code",
   "execution_count": 32,
   "id": "appointed-worse",
   "metadata": {
    "scrolled": true
   },
   "outputs": [
    {
     "name": "stdout",
     "output_type": "stream",
     "text": [
      "show running-config brm\r\n",
      "brm backup-manager DEFAULT\r\n",
      " housekeeping max-stored-manual-backups 3\r\n",
      " housekeeping auto-delete  enabled\r\n",
      " scheduler scheduled-backup-name SCHEDULED_BACKUP\r\n",
      " scheduler auto-export disabled\r\n",
      " scheduler admin-state unlocked\r\n",
      "!\r\n",
      "brm backup-manager DEFAULT-bro\r\n",
      " housekeeping max-stored-manual-backups 1\r\n",
      " housekeeping auto-delete  enabled\r\n",
      " scheduler scheduled-backup-name SCHEDULED_BACKUP\r\n",
      " scheduler auto-export disabled\r\n",
      " scheduler admin-state unlocked\r\n",
      "!\r\n",
      "brm backup-manager configuration-data\r\n",
      " housekeeping max-stored-manual-backups 2\r\n",
      " housekeeping auto-delete  enabled\r\n",
      " scheduler scheduled-backup-name SCHEDULED_BACKUP\r\n",
      " scheduler auto-export disabled\r\n",
      " scheduler admin-state unlocked\r\n",
      "!\r\n",
      "brm backup-manager configuration-data-bro\r\n",
      " housekeeping max-stored-manual-backups 1\r\n",
      " housekeeping auto-delete  enabled\r\n",
      " scheduler scheduled-backup-name SCHEDULED_BACKUP\r\n",
      " scheduler auto-export disabled\r\n",
      " scheduler admin-state unlocked\r\n",
      "!\r\n",
      "brocmyp@eric-cm-yang-provider-75dc4846c-pgz6q#\n"
     ]
    }
   ],
   "source": [
    "CLI.execute('show running-config brm')"
   ]
  },
  {
   "cell_type": "code",
   "execution_count": 33,
   "id": "absolute-knitting",
   "metadata": {},
   "outputs": [],
   "source": [
    "BRM = 'configuration-data'"
   ]
  },
  {
   "cell_type": "code",
   "execution_count": 8,
   "id": "right-poland",
   "metadata": {},
   "outputs": [],
   "source": [
    "VBRM = \"DEFAULT-eric-data-document-database-pg\""
   ]
  },
  {
   "cell_type": "markdown",
   "id": "communist-austin",
   "metadata": {},
   "source": [
    "## Backup"
   ]
  },
  {
   "cell_type": "markdown",
   "id": "dramatic-sodium",
   "metadata": {},
   "source": [
    "### List backups"
   ]
  },
  {
   "cell_type": "code",
   "execution_count": 12,
   "id": "demographic-catering",
   "metadata": {},
   "outputs": [
    {
     "name": "stdout",
     "output_type": "stream",
     "text": [
      "return-value 39402\r\n",
      "brocmyp@eric-cm-yang-provider-59df9f448d-gtthw#show brm backup-manager DEFAULT backup\r\n",
      "backup cmypBackup01\r\n",
      " backup-name   cmypBackup01\r\n",
      " creation-time 2022-02-23T11:23:19.866118+00:00\r\n",
      " status        backup-complete\r\n",
      " creation-type manual\r\n",
      " sw-version \"APR 201 34\" 7.1.0-43\r\n",
      "  product-name    \"Document Database PG\"\r\n",
      "  production-date 2022-02-23T11:23:19.938858+00:00\r\n",
      "  description     \"eric-data-document-database-pg Agent for backup and restore.\"\r\n",
      "  type            Database\r\n",
      " sw-version \"APR XXX XX/X\" R1A\r\n",
      "  product-name    \"Test Application\"\r\n",
      "  production-date 2019-05-17T14:12:44+00:00\r\n",
      "  description     \"Test Application Drop 15\"\r\n",
      "  type            Predelivery\r\n",
      "brocmyp@eric-cm-yang-provider-59df9f448d-gtthw#\n"
     ]
    }
   ],
   "source": [
    "CLI.execute(f'show brm backup-manager {BRM} backup')"
   ]
  },
  {
   "cell_type": "markdown",
   "id": "latin-nightlife",
   "metadata": {},
   "source": [
    "### Detail a backup"
   ]
  },
  {
   "cell_type": "code",
   "execution_count": 266,
   "id": "focused-ethiopia",
   "metadata": {},
   "outputs": [
    {
     "name": "stdout",
     "output_type": "stream",
     "text": [
      "show brm backup-manager DEFAULT backup cmypBackup01\r\n",
      "backup cmypBackup01\r\n",
      " backup-name   cmypBackup01\r\n",
      " creation-time 2022-02-18T16:18:39.459365+00:00\r\n",
      " status        backup-complete\r\n",
      " creation-type manual\r\n",
      " progress-report 13398\r\n",
      "  action-name                EXPORT\r\n",
      "  additional-info            [ \"Exported Backup: cmypBackup01-2022-02-18T16:18:39.459365Z.tar.gz\" ]\r\n",
      "  progress-percentage        100\r\n",
      "  result                     success\r\n",
      "  state                      finished\r\n",
      "  time-action-started        2022-02-18T16:33:57.2157+00:00\r\n",
      "  time-action-completed      2022-02-18T16:33:58.835425+00:00\r\n",
      "  time-of-last-status-update 2022-02-18T16:33:58.835425+00:00\r\n",
      " sw-version \"APR 201 34\" 7.1.0-19\r\n",
      "  product-name    \"Document Database PG\"\r\n",
      "  production-date 2022-02-18T16:31:18.122509+00:00\r\n",
      "  description     \"eric-data-document-database-pg Agent for backup and restore.\"\r\n",
      "  type            Database\r\n",
      " sw-version \"APR XXX XX/X\" R1A\r\n",
      "  product-name    \"Test Application\"\r\n",
      "  production-date 2019-05-17T14:12:44+00:00\r\n",
      "  d\n",
      "escription     \"Test Application Drop 15\"\r\n",
      "  type            Predelivery\r\n",
      "brocmyp@eric-cm-yang-provider-5bbb75c878-629tm#\n"
     ]
    }
   ],
   "source": [
    "CLI.execute(f'show brm backup-manager {BRM} backup {backupName1}')"
   ]
  },
  {
   "cell_type": "markdown",
   "id": "mineral-gauge",
   "metadata": {},
   "source": [
    "### Get an attribute from a Backup"
   ]
  },
  {
   "cell_type": "code",
   "execution_count": 212,
   "id": "reasonable-lightning",
   "metadata": {},
   "outputs": [
    {
     "name": "stdout",
     "output_type": "stream",
     "text": [
      "show brm backup-manager DEFAULT backup cmypBackup01 sw-version\r\n",
      "\n",
      "sw-version \"APR 201 34\" 7.1.0-19\r\n",
      " product-name    \"Document Database PG\"\r\n",
      " production-date 2022-02-18T16:18:39.579782+00:00\r\n",
      " description     \"eric-data-document-database-pg Agent for backup and restore.\"\r\n",
      " type            Database\r\n",
      "sw-version \"APR XXX XX/X\" R1A\r\n",
      " product-name    \"Test Application\"\r\n",
      " production-date 2019-05-17T14:12:44+00:00\r\n",
      " description     \"Test Application Drop 15\"\r\n",
      " type            Predelivery\r\n",
      "brocmyp@eric-cm-yang-provider-5bbb75c878-629tm#\n"
     ]
    }
   ],
   "source": [
    "CLI.execute(f'show brm backup-manager {BRM} backup {backupName1} sw-version')"
   ]
  },
  {
   "cell_type": "markdown",
   "id": "progressive-supply",
   "metadata": {},
   "source": [
    "### create a backup"
   ]
  },
  {
   "cell_type": "code",
   "execution_count": 9,
   "id": "according-oakland",
   "metadata": {},
   "outputs": [],
   "source": [
    "backupName1 = 'cmypBackup01'"
   ]
  },
  {
   "cell_type": "code",
   "execution_count": 10,
   "id": "affiliated-fisher",
   "metadata": {},
   "outputs": [],
   "source": [
    "backupName2 = 'cmypBackup02'"
   ]
  },
  {
   "cell_type": "code",
   "execution_count": 11,
   "id": "automatic-threat",
   "metadata": {},
   "outputs": [
    {
     "name": "stdout",
     "output_type": "stream",
     "text": [
      "brm backup-manager DEFAULT create-backup name cmypBackup01\r\n",
      "\n"
     ]
    }
   ],
   "source": [
    "CLI.execute(f'brm backup-manager {BRM} create-backup name {backupName1}')"
   ]
  },
  {
   "cell_type": "markdown",
   "id": "czech-decade",
   "metadata": {},
   "source": [
    "### Restore a backup"
   ]
  },
  {
   "cell_type": "code",
   "execution_count": 215,
   "id": "hispanic-circulation",
   "metadata": {},
   "outputs": [
    {
     "name": "stdout",
     "output_type": "stream",
     "text": [
      "brm backup-manager DEFAULT backup cmypBackup01 restore\n",
      "\n",
      "\n",
      "return-value 10326\n",
      "brocmyp@eric-cm-yang-provider-5bbb75c878-629tm#\n",
      "Restore is about to start, sessions may be terminated soon!\n",
      "\n"
     ]
    }
   ],
   "source": [
    "CLI.execute(f'brm backup-manager {BRM} backup {backupName1} restore')"
   ]
  },
  {
   "cell_type": "code",
   "execution_count": 18,
   "id": "worldwide-spell",
   "metadata": {},
   "outputs": [
    {
     "name": "stdout",
     "output_type": "stream",
     "text": [
      "brm backup-manager DEFAULT-agent-three backup cmypBackup01 restore\r\n",
      "return-value 45387\r\n",
      "brocmyp@eric-cm-yang-provider-59df9f448d-gtthw#\n"
     ]
    }
   ],
   "source": [
    "CLI.execute(f'brm backup-manager DEFAULT-agent-three backup {backupName1} restore')"
   ]
  },
  {
   "cell_type": "code",
   "execution_count": 156,
   "id": "tested-bruce",
   "metadata": {},
   "outputs": [
    {
     "name": "stdout",
     "output_type": "stream",
     "text": [
      "Welcome\n",
      "Last login time: First Login\n",
      "\n",
      "brocmyp connected from 10.120.217.52 using ssh on eric-cm-yang-provider-5bbb75c878-jwdth\n",
      "\u001b[?7hbrocmyp@eric-cm-yang-provider-5bbb75c878-jwdth#\n",
      "brm backup-manager DEFAULT-eric-data-document-database-pg backup cmypBackup01 restore\n",
      "\n",
      "\n",
      "return-value 14172\n",
      "brocmyp@eric-cm-yang-provider-5bbb75c878-jwdth#\n",
      "Restore is about to start, sessions may be terminated soon!\n",
      "\n"
     ]
    }
   ],
   "source": [
    "CLI.execute(f'brm backup-manager {VBRM} backup {backupName1} restore')"
   ]
  },
  {
   "cell_type": "markdown",
   "id": "communist-armstrong",
   "metadata": {},
   "source": [
    "### Export a backup"
   ]
  },
  {
   "cell_type": "code",
   "execution_count": 249,
   "id": "minor-creator",
   "metadata": {},
   "outputs": [],
   "source": [
    "CLI.refresh()"
   ]
  },
  {
   "cell_type": "code",
   "execution_count": 218,
   "id": "composed-onion",
   "metadata": {},
   "outputs": [],
   "source": [
    "uri = 'sftp://brsftp@bro-test-sftp:9022/bro_test'\n",
    "pwd = \"planbsftp\""
   ]
  },
  {
   "cell_type": "code",
   "execution_count": 220,
   "id": "angry-baptist",
   "metadata": {},
   "outputs": [
    {
     "name": "stdout",
     "output_type": "stream",
     "text": [
      "brm backup-manager DEFAULT backup cmypBackup01 export uri sftp://brsftp@bro-test-sftp:9022/bro_test password planbsftp\n",
      "\n",
      "return-value 13398\n",
      "brocmyp@eric-cm-yang-provider-5bbb75c878-629tm#\n"
     ]
    }
   ],
   "source": [
    "CLI.execute(f'brm backup-manager {BRM} backup {backupName1} export uri {uri} password {pwd}')"
   ]
  },
  {
   "cell_type": "markdown",
   "id": "handmade-supervision",
   "metadata": {},
   "source": [
    "### Delete a backup"
   ]
  },
  {
   "cell_type": "code",
   "execution_count": 144,
   "id": "monetary-suite",
   "metadata": {},
   "outputs": [
    {
     "name": "stdout",
     "output_type": "stream",
     "text": [
      "brm backup-manager DEFAULT-eric-data-document-database-pg delete-backup name cmypBackup02\r\n",
      "\n",
      "return-value 3819\r\n",
      "brocmyp@eric-cm-yang-provider-5bbb75c878-jwdth#\n"
     ]
    }
   ],
   "source": [
    "CLI.execute(f'brm backup-manager {VBRM} delete-backup name {backupName2}')"
   ]
  },
  {
   "cell_type": "markdown",
   "id": "interior-auditor",
   "metadata": {},
   "source": [
    "### Import a backup"
   ]
  },
  {
   "cell_type": "code",
   "execution_count": 150,
   "id": "painful-output",
   "metadata": {},
   "outputs": [
    {
     "name": "stdout",
     "output_type": "stream",
     "text": [
      "brm backup-manager DEFAULT import-backup uri sftp://brsftp@bro-test-sftp:9022/bro_test/DEFAULT/cmypBackup01 password planbsftp\n",
      "\r\n",
      "\n",
      "return-value 40760\r\n",
      "brocmyp@eric-cm-yang-provider-5bbb75c878-jwdth#\n"
     ]
    }
   ],
   "source": [
    "CLI.execute(f\"brm backup-manager {BRM} import-backup uri {uri}/{BRM}/{backupName1} password {pwd}\")"
   ]
  },
  {
   "cell_type": "markdown",
   "id": "metallic-document",
   "metadata": {},
   "source": [
    "## Housekeeping"
   ]
  },
  {
   "cell_type": "markdown",
   "id": "removable-currency",
   "metadata": {},
   "source": [
    "### Get BRM's housekeeping"
   ]
  },
  {
   "cell_type": "code",
   "execution_count": 39,
   "id": "subsequent-tenant",
   "metadata": {},
   "outputs": [
    {
     "name": "stdout",
     "output_type": "stream",
     "text": [
      "show running-config brm backup-manager configuration-data housekeeping\r\n",
      "brm backup-manager configuration-data\r\n",
      " housekeeping max-stored-manual-backups 33\r\n",
      " housekeeping auto-delete  enabled\r\n",
      "!\r\n",
      "brocmyp@eric-cm-yang-provider-75dc4846c-pgz6q#\n"
     ]
    }
   ],
   "source": [
    "CLI.execute(f'show running-config brm backup-manager {BRM} housekeeping')"
   ]
  },
  {
   "cell_type": "markdown",
   "id": "colonial-buffalo",
   "metadata": {},
   "source": [
    "### Update housekeeping"
   ]
  },
  {
   "cell_type": "code",
   "execution_count": 35,
   "id": "academic-gazette",
   "metadata": {},
   "outputs": [
    {
     "name": "stdout",
     "output_type": "stream",
     "text": [
      "config\r\n",
      "Entering configuration mode private\r\n",
      "brocmyp@eric-cm-yang-provider-75dc4846c-pgz6q(config)#\n"
     ]
    }
   ],
   "source": [
    "CLI.execute(f'config')"
   ]
  },
  {
   "cell_type": "code",
   "execution_count": 36,
   "id": "listed-projector",
   "metadata": {},
   "outputs": [
    {
     "name": "stdout",
     "output_type": "stream",
     "text": [
      "brm backup-manager configuration-data housekeeping max-stored-manual-backups 33\r\n",
      "brocmyp@eric-cm-yang-provider-75dc4846c-pgz6q(config)#\n"
     ]
    }
   ],
   "source": [
    "CLI.execute(f'brm backup-manager {BRM} housekeeping max-stored-manual-backups 33')"
   ]
  },
  {
   "cell_type": "code",
   "execution_count": 162,
   "id": "spectacular-lawrence",
   "metadata": {},
   "outputs": [
    {
     "name": "stdout",
     "output_type": "stream",
     "text": [
      "brm backup-manager DEFAULT housekeeping auto-delete disabled\r\n",
      "\n",
      "brocmyp@eric-cm-yang-provider-5bbb75c878-jwdth(config)#\n"
     ]
    }
   ],
   "source": [
    "CLI.execute(f'brm backup-manager {BRM} housekeeping auto-delete disabled')"
   ]
  },
  {
   "cell_type": "code",
   "execution_count": 37,
   "id": "caroline-frequency",
   "metadata": {},
   "outputs": [
    {
     "name": "stdout",
     "output_type": "stream",
     "text": [
      "commit\r\n",
      "Commit complete.\r\n",
      "brocmyp@eric-cm-yang-provider-75dc4846c-pgz6q(config)#\n"
     ]
    }
   ],
   "source": [
    "CLI.execute(f'commit')"
   ]
  },
  {
   "cell_type": "code",
   "execution_count": 38,
   "id": "studied-genesis",
   "metadata": {},
   "outputs": [
    {
     "name": "stdout",
     "output_type": "stream",
     "text": [
      "exit\r\n",
      "brocmyp@eric-cm-yang-provider-75dc4846c-pgz6q#\n"
     ]
    }
   ],
   "source": [
    "CLI.execute(f'exit')"
   ]
  },
  {
   "cell_type": "code",
   "execution_count": 178,
   "id": "comparable-turkey",
   "metadata": {},
   "outputs": [
    {
     "name": "stdout",
     "output_type": "stream",
     "text": [
      "no\r\n",
      "\n",
      "brocmyp@eric-cm-yang-provider-5bbb75c878-jwdth#\n"
     ]
    }
   ],
   "source": [
    "CLI.execute('no')"
   ]
  },
  {
   "cell_type": "markdown",
   "id": "emotional-recorder",
   "metadata": {},
   "source": [
    "## Scheduler"
   ]
  },
  {
   "cell_type": "markdown",
   "id": "theoretical-robertson",
   "metadata": {},
   "source": [
    "### show runing config"
   ]
  },
  {
   "cell_type": "code",
   "execution_count": 243,
   "id": "lasting-emphasis",
   "metadata": {},
   "outputs": [
    {
     "name": "stdout",
     "output_type": "stream",
     "text": [
      "show running-config brm backup-manager DEFAULT scheduler\r\n",
      "brm backup-manager DEFAULT\r\n",
      " scheduler scheduled-backup-name BACKUP\r\n",
      " scheduler auto-export enabled\r\n",
      " scheduler auto-export-uri sftp://brsftp@bro-test-sftp:9022/bro_test\r\n",
      " scheduler auto-export-password ********\r\n",
      " scheduler admin-state locked\r\n",
      "!\r\n",
      "brocmyp@eric-cm-yang-provider-5bbb75c878-629tm#\n"
     ]
    }
   ],
   "source": [
    "CLI.execute(f'show running-config brm backup-manager {BRM} scheduler')"
   ]
  },
  {
   "cell_type": "markdown",
   "id": "impressive-record",
   "metadata": {},
   "source": [
    "### Update runing config"
   ]
  },
  {
   "cell_type": "code",
   "execution_count": 246,
   "id": "measured-quick",
   "metadata": {},
   "outputs": [
    {
     "name": "stdout",
     "output_type": "stream",
     "text": [
      "config \r\n",
      "-------------------------------------------------------^\r\n",
      "syntax error: unknown command\r\n",
      "brocmyp@eric-cm-yang-provider-5bbb75c878-629tm(config)#            brm backup-manager DEFAULT scheduler admin-state locked\r\n",
      "\n"
     ]
    }
   ],
   "source": [
    "CLI.execute(f\"\"\"config \n",
    "            brm backup-manager DEFAULT scheduler admin-state locked\n",
    "    brm backup-manager DEFAULT scheduler scheduled-backup-name BACKUP\n",
    "    brm backup-manager DEFAULT scheduler auto-export enabled\n",
    "    brm backup-manager DEFAULT scheduler auto-export-uri {uri}\n",
    "    brm backup-manager DEFAULT scheduler auto-export-password {pwd}\n",
    "    commit\n",
    "    exit\n",
    "    \"\"\")"
   ]
  },
  {
   "cell_type": "code",
   "execution_count": 193,
   "id": "authentic-pioneer",
   "metadata": {},
   "outputs": [
    {
     "name": "stdout",
     "output_type": "stream",
     "text": [
      "config\n",
      "\r\n",
      "Entering configuration mode private\r\n",
      "brocmyp@eric-cm-yang-provider-5bbb75c878-629tm(config)#\n"
     ]
    }
   ],
   "source": [
    "CLI.execute(f\"config\") "
   ]
  },
  {
   "cell_type": "code",
   "execution_count": 194,
   "id": "blessed-lesson",
   "metadata": {},
   "outputs": [
    {
     "name": "stdout",
     "output_type": "stream",
     "text": [
      "brm backup-manager DEFAULT scheduler auto-export-uri sftp://brsftp@bro-test-sftp:9022/bro_test\r\n",
      "\n",
      "brocmyp@eric-cm-yang-provider-5bbb75c878-629tm(config)#\n"
     ]
    }
   ],
   "source": [
    "CLI.execute(f\"brm backup-manager DEFAULT scheduler auto-export-uri {uri}\") "
   ]
  },
  {
   "cell_type": "code",
   "execution_count": 195,
   "id": "controlled-nickel",
   "metadata": {
    "scrolled": true
   },
   "outputs": [
    {
     "name": "stdout",
     "output_type": "stream",
     "text": [
      "brm backup-manager DEFAULT scheduler auto-export-password planbsftp\r\n",
      "\n",
      "brocmyp@eric-cm-yang-provider-5bbb75c878-629tm(config)#\n"
     ]
    }
   ],
   "source": [
    "CLI.execute(f\"brm backup-manager DEFAULT scheduler auto-export-password {pwd}\") "
   ]
  },
  {
   "cell_type": "code",
   "execution_count": 196,
   "id": "senior-essay",
   "metadata": {},
   "outputs": [
    {
     "name": "stdout",
     "output_type": "stream",
     "text": [
      "commit\n",
      "\r\n",
      "\n",
      "Commit complete.\r\n",
      "brocmyp@eric-cm-yang-provider-5bbb75c878-629tm(config)#\n"
     ]
    }
   ],
   "source": [
    "CLI.execute(f'commit')"
   ]
  },
  {
   "cell_type": "markdown",
   "id": "commercial-coral",
   "metadata": {},
   "source": [
    "### show BRM's scheduler"
   ]
  },
  {
   "cell_type": "code",
   "execution_count": 200,
   "id": "exterior-mother",
   "metadata": {},
   "outputs": [
    {
     "name": "stdout",
     "output_type": "stream",
     "text": [
      "show brm backup-manager DEFAULT scheduler\r\n",
      "\n",
      "% No entries found.\r\n",
      "brocmyp@eric-cm-yang-provider-5bbb75c878-629tm#\n"
     ]
    }
   ],
   "source": [
    "CLI.execute(f'show brm backup-manager {BRM} scheduler')"
   ]
  },
  {
   "cell_type": "markdown",
   "id": "educational-worry",
   "metadata": {},
   "source": [
    "### show scheduler progress-report"
   ]
  },
  {
   "cell_type": "code",
   "execution_count": 214,
   "id": "statistical-rider",
   "metadata": {},
   "outputs": [
    {
     "name": "stdout",
     "output_type": "stream",
     "text": [
      "show brm backup-manager DEFAULT scheduler progress-report 123\r\n",
      "\n",
      "---------------------------------------------------------------------------------------------------------^\r\n",
      "syntax error: unknown argument\r\n",
      "brocmyp@eric-cm-yang-provider-5bbb75c878-629tm#\n"
     ]
    }
   ],
   "source": [
    "CLI.execute(f'show brm backup-manager {BRM} scheduler progress-report 123')"
   ]
  },
  {
   "cell_type": "markdown",
   "id": "maritime-prescription",
   "metadata": {},
   "source": [
    "## Action"
   ]
  },
  {
   "cell_type": "markdown",
   "id": "athletic-cooler",
   "metadata": {},
   "source": [
    "### List Actions"
   ]
  },
  {
   "cell_type": "code",
   "execution_count": 213,
   "id": "united-suggestion",
   "metadata": {},
   "outputs": [
    {
     "name": "stdout",
     "output_type": "stream",
     "text": [
      "show brm backup-manager DEFAULT action\n",
      "\r\n",
      "\n",
      "-------------------------------------------------------------------------------^\r\n",
      "syntax error: unknown argument\r\n",
      "brocmyp@eric-cm-yang-provider-5bbb75c878-629tm#\n"
     ]
    }
   ],
   "source": [
    "CLI.execute(f'show brm backup-manager {BRM} action')"
   ]
  },
  {
   "cell_type": "markdown",
   "id": "endangered-exception",
   "metadata": {},
   "source": [
    "### Progress report"
   ]
  },
  {
   "cell_type": "markdown",
   "id": "ideal-rendering",
   "metadata": {},
   "source": [
    "### show restore/export progress-report"
   ]
  },
  {
   "cell_type": "code",
   "execution_count": 221,
   "id": "secondary-contrary",
   "metadata": {},
   "outputs": [
    {
     "name": "stdout",
     "output_type": "stream",
     "text": [
      "show brm backup-manager DEFAULT backup cmypBackup01 progress-report 13398\n",
      "\r\n",
      "\n",
      "progress-report 13398\r\n",
      " action-name                EXPORT\r\n",
      " additional-info            [ \"Exported Backup: cmypBackup01-2022-02-18T16:18:39.459365Z.tar.gz\" ]\r\n",
      " progress-percentage        100\r\n",
      " result                     success\r\n",
      " state                      finished\r\n",
      " time-action-started        2022-02-18T16:33:57.2157+00:00\r\n",
      " time-action-completed      2022-02-18T16:33:58.835425+00:00\r\n",
      " time-of-last-status-update 2022-02-18T16:33:58.835425+00:00\r\n",
      "brocmyp@eric-cm-yang-provider-5bbb75c878-629tm#\n"
     ]
    }
   ],
   "source": [
    "CLI.execute(f'show brm backup-manager {BRM} backup {backupName1} progress-report 13398')"
   ]
  },
  {
   "cell_type": "markdown",
   "id": "nonprofit-blood",
   "metadata": {},
   "source": [
    "### show create import delete progress report"
   ]
  },
  {
   "cell_type": "code",
   "execution_count": 245,
   "id": "another-coach",
   "metadata": {},
   "outputs": [
    {
     "name": "stdout",
     "output_type": "stream",
     "text": [
      "Commit complete.\r\n",
      "brocmyp@eric-cm-yang-provider-5bbb75c878-629tm(config)#    \r\n",
      "brocmyp@eric-cm-yang-provider-5bbb75c878-629tm(config)#show brm backup-manager DEFAULT progress-report 63598\r\n",
      "------------------------------------------------------------^\r\n",
      "syntax error: expecting \r\n",
      "  configuration      - Show a parameter\r\n",
      "  full-configuration - Show a parameter\r\n",
      "  history            - Display CLI command history\r\n",
      "  parser             - Display parser information\r\n",
      "brocmyp@eric-cm-yang-provider-5bbb75c878-629tm(config)#\n"
     ]
    }
   ],
   "source": [
    "CLI.execute(f'show brm backup-manager {BRM} progress-report 63598')"
   ]
  },
  {
   "cell_type": "markdown",
   "id": "independent-plant",
   "metadata": {},
   "source": [
    "# other command"
   ]
  },
  {
   "cell_type": "code",
   "execution_count": 216,
   "id": "outdoor-recommendation",
   "metadata": {},
   "outputs": [],
   "source": [
    "CLI.refresh()"
   ]
  },
  {
   "cell_type": "code",
   "execution_count": 199,
   "id": "accurate-administrator",
   "metadata": {},
   "outputs": [
    {
     "name": "stdout",
     "output_type": "stream",
     "text": [
      "Welcome\r\n",
      "Last login time: First Login\r\n",
      "\r\n",
      "brocmyp connected from 10.120.217.52 using ssh on eric-cm-yang-provider-5bbb75c878-629tm\r\n",
      "\u001b[?7hbrocmyp@eric-cm-yang-provider-5bbb75c878-629tm#\n",
      "commit\r\n",
      "\n",
      "-----------------------------------------------^\r\n",
      "syntax error: expecting \r\n",
      "  autowizard           - Automatically query for mandatory elements\r\n",
      "  change-password      - Change the password of current user\r\n",
      "  clear                - Clear parameter\r\n",
      "  complete-on-space    - Enable/disable completion on space\r\n",
      "  config               - Manipulate software configuration information\r\n",
      "  describe             - Display transparent command  information\r\n",
      "  display-level        - Configure show command display level\r\n",
      "  exit                 - Exit the management session\r\n",
      "  help                 - Provide help information\r\n",
      "  history              - Configure history size\r\n",
      "  idle-timeout         - Configure idle timeout\r\n",
      "  ignore-leading-space - Ignore leading whitespace (true/false)\r\n",
      "  leaf-prompting       - Automatically query for leaf values\r\n",
      "  metrics-query        - Execute a PM query to retrieve metrics and time series\r\n",
      "  no                   - Negate a command or set its defaults\r\n",
      "  paginate             - Paginate outp\n",
      "ut from CLI commands\r\n",
      "  pwd                  - Display current mode path\r\n",
      "  quit                 - Exit the management session\r\n",
      "  screen-length        - Configure screen length\r\n",
      "  screen-width         - Configure screen width\r\n",
      "  show                 - Show information about the system\r\n",
      "  show-defaults        - Show default values when showing the configuration\r\n",
      "  timestamp            - Enable/disable the display of timestamp\r\n",
      "brocmyp@eric-cm-yang-provider-5bbb75c878-629tm#\n"
     ]
    }
   ],
   "source": [
    "CLI.execute(f'commit')"
   ]
  },
  {
   "cell_type": "code",
   "execution_count": 247,
   "id": "imperial-stuart",
   "metadata": {},
   "outputs": [
    {
     "name": "stdout",
     "output_type": "stream",
     "text": [
      "brocmyp@eric-cm-yang-provider-5bbb75c878-629tm(config)#    brm backup-manager DEFAULT scheduler scheduled-backup-name BACKUP\r\n",
      "brocmyp@eric-cm-yang-provider-5bbb75c878-629tm(config)#    brm backup-manager DEFAULT scheduler auto-export enabled\r\n",
      "brocmyp@eric-cm-yang-provider-5bbb75c878-629tm(config)#    brm backup-manager DEFAULT scheduler auto-export-uri sftp://brsftp@bro-test-sftp:9022/bro_test\r\n",
      "brocmyp@eric-cm-yang-provider-5bbb75c878-629tm(config)#    brm backup-manager DEFAULT scheduler auto-export-password planbsftp\r\n",
      "brocmyp@eric-cm-yang-provider-5bbb75c878-629tm(config)#    commit\r\n",
      "Commit complete.\r\n",
      "brocmyp@eric-cm-yang-provider-5bbb75c878-629tm(config)#    exit\r\n",
      "brocmyp@eric-cm-yang-provider-5bbb75c878-629tm#    \r\n",
      "brocmyp@eric-cm-yang-provider-5bbb75c878-629tm#exit\r\n",
      "\n"
     ]
    }
   ],
   "source": [
    "CLI.execute(f'exit')"
   ]
  },
  {
   "cell_type": "code",
   "execution_count": null,
   "id": "anonymous-accident",
   "metadata": {},
   "outputs": [],
   "source": []
  }
 ],
 "metadata": {
  "kernelspec": {
   "display_name": "Python 3",
   "language": "python",
   "name": "python3"
  },
  "language_info": {
   "codemirror_mode": {
    "name": "ipython",
    "version": 3
   },
   "file_extension": ".py",
   "mimetype": "text/x-python",
   "name": "python",
   "nbconvert_exporter": "python",
   "pygments_lexer": "ipython3",
   "version": "3.8.10"
  }
 },
 "nbformat": 4,
 "nbformat_minor": 5
}
