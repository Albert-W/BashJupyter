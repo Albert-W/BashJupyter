{
 "cells": [
  {
   "cell_type": "markdown",
   "id": "acquired-revelation",
   "metadata": {},
   "source": [
    "# BRO V4 Rest"
   ]
  },
  {
   "cell_type": "code",
   "execution_count": 1,
   "id": "integrated-navigator",
   "metadata": {},
   "outputs": [],
   "source": [
    "import requests\n",
    "baseurl = 'http://10.120.217.249:7001'"
   ]
  },
  {
   "cell_type": "code",
   "execution_count": 2,
   "id": "presidential-satisfaction",
   "metadata": {},
   "outputs": [],
   "source": [
    "baseurl = 'http://localhost:7001'"
   ]
  },
  {
   "cell_type": "code",
   "execution_count": 21,
   "id": "liquid-length",
   "metadata": {},
   "outputs": [],
   "source": [
    "baseurl = 'http://10.63.140.28:7001'"
   ]
  },
  {
   "cell_type": "code",
   "execution_count": 3,
   "id": "traditional-trader",
   "metadata": {},
   "outputs": [
    {
     "data": {
      "text/plain": [
       "{'availability': 'Available',\n",
       " 'ongoingAction': {},\n",
       " 'registeredAgents': [],\n",
       " 'status': 'Healthy'}"
      ]
     },
     "execution_count": 3,
     "metadata": {},
     "output_type": "execute_result"
    }
   ],
   "source": [
    "result = requests.get(baseurl+'/v1/health')\n",
    "result.json()"
   ]
  },
  {
   "cell_type": "code",
   "execution_count": 22,
   "id": "civil-swedish",
   "metadata": {},
   "outputs": [],
   "source": [
    "BRM = 'DEFAULT' "
   ]
  },
  {
   "cell_type": "code",
   "execution_count": 3,
   "id": "pregnant-middle",
   "metadata": {},
   "outputs": [],
   "source": [
    "BRM = 'configuration-data'  #configuration-data, DEFAULT"
   ]
  },
  {
   "cell_type": "markdown",
   "id": "stable-eight",
   "metadata": {},
   "source": [
    "## Action"
   ]
  },
  {
   "cell_type": "markdown",
   "id": "recovered-marine",
   "metadata": {},
   "source": [
    "### List Actions"
   ]
  },
  {
   "cell_type": "code",
   "execution_count": 8,
   "id": "strong-million",
   "metadata": {
    "scrolled": true
   },
   "outputs": [
    {
     "data": {
      "text/plain": [
       "{'actions': []}"
      ]
     },
     "execution_count": 8,
     "metadata": {},
     "output_type": "execute_result"
    }
   ],
   "source": [
    "url = baseurl + f'/v1/backup-manager/{BRM}/action/'\n",
    "result = requests.get(url)\n",
    "result.json()"
   ]
  },
  {
   "cell_type": "code",
   "execution_count": 97,
   "id": "functional-precipitation",
   "metadata": {},
   "outputs": [],
   "source": [
    "actionid = '12827'"
   ]
  },
  {
   "cell_type": "markdown",
   "id": "plain-findings",
   "metadata": {},
   "source": [
    "### Detail an action"
   ]
  },
  {
   "cell_type": "code",
   "execution_count": 98,
   "id": "satisfied-delight",
   "metadata": {},
   "outputs": [
    {
     "data": {
      "text/plain": [
       "{'name': 'DELETE_BACKUP',\n",
       " 'result': 'SUCCESS',\n",
       " 'payload': {'backupName': 'bu2'},\n",
       " 'state': 'FINISHED',\n",
       " 'progressPercentage': 1.0,\n",
       " 'startTime': '2022-06-15T15:37:56.473325+01:00',\n",
       " 'completionTime': '2022-06-15T15:37:57.794421+01:00',\n",
       " 'lastUpdateTime': '2022-06-15T15:37:57.794421+01:00',\n",
       " 'id': '12827'}"
      ]
     },
     "execution_count": 98,
     "metadata": {},
     "output_type": "execute_result"
    }
   ],
   "source": [
    "url = baseurl + f'/v1/backup-manager/{BRM}/action/{actionid}'\n",
    "result = requests.get(url)\n",
    "result.json()"
   ]
  },
  {
   "cell_type": "markdown",
   "id": "afraid-lounge",
   "metadata": {},
   "source": [
    "### Create a backup"
   ]
  },
  {
   "cell_type": "code",
   "execution_count": 56,
   "id": "passing-crowd",
   "metadata": {},
   "outputs": [],
   "source": [
    "BRM = \"DEFAULT\""
   ]
  },
  {
   "cell_type": "code",
   "execution_count": 73,
   "id": "enabling-professional",
   "metadata": {},
   "outputs": [],
   "source": [
    "backupName = 'bu40'"
   ]
  },
  {
   "cell_type": "code",
   "execution_count": 74,
   "id": "photographic-development",
   "metadata": {
    "scrolled": true
   },
   "outputs": [
    {
     "name": "stdout",
     "output_type": "stream",
     "text": [
      "http://localhost:7001/v1/backup-manager/DEFAULT/action\n"
     ]
    },
    {
     "data": {
      "text/plain": [
       "'48995'"
      ]
     },
     "execution_count": 74,
     "metadata": {},
     "output_type": "execute_result"
    }
   ],
   "source": [
    "url = baseurl + f'/v1/backup-manager/{BRM}/action'\n",
    "print(url)\n",
    "body = {\n",
    "      \"action\": \"CREATE_BACKUP\",\n",
    "      \"payload\": {\n",
    "        \"backupName\": backupName\n",
    "      }\n",
    "    }\n",
    "result = requests.post(url, json = body)\n",
    "actionid = result.json().get('id')\n",
    "actionid"
   ]
  },
  {
   "cell_type": "code",
   "execution_count": 24,
   "id": "enormous-exception",
   "metadata": {},
   "outputs": [
    {
     "data": {
      "text/plain": [
       "{'id': '37344'}"
      ]
     },
     "execution_count": 24,
     "metadata": {},
     "output_type": "execute_result"
    }
   ],
   "source": [
    "url = baseurl + f'/backup-restore/v4alpha1/backup-managers/{BRM}/backups/'\n",
    "body = {\n",
    "    \"name\": backupName\n",
    "    }\n",
    "result = requests.post(url, json = body)\n",
    "result.json()"
   ]
  },
  {
   "cell_type": "markdown",
   "id": "secret-suggestion",
   "metadata": {},
   "source": [
    "### Delete a backup"
   ]
  },
  {
   "cell_type": "code",
   "execution_count": 111,
   "id": "adequate-session",
   "metadata": {
    "scrolled": true
   },
   "outputs": [
    {
     "data": {
      "text/plain": [
       "'57872'"
      ]
     },
     "execution_count": 111,
     "metadata": {},
     "output_type": "execute_result"
    }
   ],
   "source": [
    "url = baseurl + f'/v1/backup-manager/{BRM}/action'\n",
    "body = {\n",
    "      \"action\": \"DELETE_BACKUP\",\n",
    "      \"payload\": {\n",
    "        \"backupName\": backupName\n",
    "      }\n",
    "    }\n",
    "result = requests.post(url, json = body)\n",
    "actionid = result.json().get('id')\n",
    "actionid"
   ]
  },
  {
   "cell_type": "markdown",
   "id": "inner-receipt",
   "metadata": {},
   "source": [
    "### Restore a backup"
   ]
  },
  {
   "cell_type": "code",
   "execution_count": 77,
   "id": "related-louisville",
   "metadata": {},
   "outputs": [],
   "source": [
    "BRM = 'DEFAULT-bro'"
   ]
  },
  {
   "cell_type": "code",
   "execution_count": 109,
   "id": "nutritional-raise",
   "metadata": {},
   "outputs": [],
   "source": [
    "BRM = 'DefaultAgentScope-bro'"
   ]
  },
  {
   "cell_type": "code",
   "execution_count": 15,
   "id": "agreed-retrieval",
   "metadata": {},
   "outputs": [],
   "source": [
    "backupName = 'DemoBackup20'"
   ]
  },
  {
   "cell_type": "code",
   "execution_count": 78,
   "id": "welsh-appointment",
   "metadata": {},
   "outputs": [
    {
     "name": "stdout",
     "output_type": "stream",
     "text": [
      "http://localhost:7001/backup-restore/v4alpha1/backup-managers/DEFAULT-bro/backups/bu40/restores\n"
     ]
    },
    {
     "data": {
      "text/plain": [
       "{'id': '59901'}"
      ]
     },
     "execution_count": 78,
     "metadata": {},
     "output_type": "execute_result"
    }
   ],
   "source": [
    "url = baseurl + f'/backup-restore/v4alpha1/backup-managers/{BRM}/backups/{backupName}/restores'\n",
    "print(url)\n",
    "result = requests.post(url)\n",
    "result.json()"
   ]
  },
  {
   "cell_type": "code",
   "execution_count": 79,
   "id": "short-advocate",
   "metadata": {},
   "outputs": [],
   "source": [
    "BRM = 'DEFAULT'"
   ]
  },
  {
   "cell_type": "markdown",
   "id": "intense-salad",
   "metadata": {},
   "source": [
    "### Export a backup"
   ]
  },
  {
   "cell_type": "code",
   "execution_count": 139,
   "id": "alert-yemen",
   "metadata": {},
   "outputs": [],
   "source": [
    "backupName = 'cmyp-backup05'"
   ]
  },
  {
   "cell_type": "code",
   "execution_count": 60,
   "id": "lyric-charger",
   "metadata": {},
   "outputs": [],
   "source": [
    "# pod ip\n",
    "#sftpHost = 'bro-test-sftp'\n",
    "#sftpHost = 'bro-test-sftp-0'\n",
    "sftpHost = '10.120.217.249'"
   ]
  },
  {
   "cell_type": "code",
   "execution_count": 64,
   "id": "backed-stockholm",
   "metadata": {},
   "outputs": [
    {
     "data": {
      "text/plain": [
       "'15241'"
      ]
     },
     "execution_count": 64,
     "metadata": {},
     "output_type": "execute_result"
    }
   ],
   "source": [
    "url = baseurl + f'/v1/backup-manager/{BRM}/action'\n",
    "body = {\n",
    "      \"action\": \"EXPORT\",\n",
    "      \"payload\": {\n",
    "        \"backupName\": backupName,\n",
    "        \"uri\": f\"sftp://brsftp@{sftpHost}:9022/bro_test\",\n",
    "        \"password\": \"planbsftp\"  \n",
    "      }\n",
    "    }\n",
    "result = requests.post(url, json = body)\n",
    "actionid = result.json().get('id')\n",
    "actionid"
   ]
  },
  {
   "cell_type": "markdown",
   "id": "prospective-structure",
   "metadata": {},
   "source": [
    "### Import a backup"
   ]
  },
  {
   "cell_type": "code",
   "execution_count": 33,
   "id": "imported-account",
   "metadata": {},
   "outputs": [
    {
     "data": {
      "text/plain": [
       "'35296'"
      ]
     },
     "execution_count": 33,
     "metadata": {},
     "output_type": "execute_result"
    }
   ],
   "source": [
    "url = baseurl + f'/v1/backup-manager/{BRM}/action'\n",
    "body = {\n",
    "      \"action\": \"IMPORT\",\n",
    "      \"payload\": {\n",
    "        \"uri\": f\"sftp://brsftp@{sftpHost}:22/bro_test/{BRM}/{backupName}\",\n",
    "        \"password\": \"planbsftp\"  \n",
    "      }\n",
    "    }\n",
    "result = requests.post(url, json = body)\n",
    "actionid = result.json().get('id')\n",
    "actionid"
   ]
  },
  {
   "cell_type": "markdown",
   "id": "altered-sheet",
   "metadata": {},
   "source": [
    "## Backup"
   ]
  },
  {
   "cell_type": "markdown",
   "id": "gothic-attendance",
   "metadata": {},
   "source": [
    "### List backups"
   ]
  },
  {
   "cell_type": "code",
   "execution_count": 41,
   "id": "biological-joining",
   "metadata": {},
   "outputs": [
    {
     "data": {
      "text/plain": [
       "[]"
      ]
     },
     "execution_count": 41,
     "metadata": {},
     "output_type": "execute_result"
    }
   ],
   "source": [
    "url = baseurl + f'/backup-restore/v4alpha1/backup-managers/{BRM}/backups'\n",
    "result = requests.get(url)\n",
    "result.json()"
   ]
  },
  {
   "cell_type": "code",
   "execution_count": 50,
   "id": "figured-round",
   "metadata": {},
   "outputs": [
    {
     "data": {
      "text/plain": [
       "{'backups': []}"
      ]
     },
     "execution_count": 50,
     "metadata": {},
     "output_type": "execute_result"
    }
   ],
   "source": [
    "url = baseurl + f'/v1/backup-manager/{BRM}/backup'\n",
    "result = requests.get(url)\n",
    "result.json()"
   ]
  },
  {
   "cell_type": "code",
   "execution_count": 54,
   "id": "refined-elimination",
   "metadata": {},
   "outputs": [
    {
     "data": {
      "text/plain": [
       "{'backups': []}"
      ]
     },
     "execution_count": 54,
     "metadata": {},
     "output_type": "execute_result"
    }
   ],
   "source": [
    "url = baseurl + f'/v1/backup-manager/DEFAULT-golf/backup'\n",
    "result = requests.get(url)\n",
    "result.json()"
   ]
  },
  {
   "cell_type": "markdown",
   "id": "honey-argument",
   "metadata": {},
   "source": [
    "### Detail a backup"
   ]
  },
  {
   "cell_type": "code",
   "execution_count": 7,
   "id": "constant-negative",
   "metadata": {},
   "outputs": [],
   "source": [
    "backupName = 'bu1'"
   ]
  },
  {
   "cell_type": "code",
   "execution_count": 8,
   "id": "independent-technology",
   "metadata": {},
   "outputs": [
    {
     "data": {
      "text/plain": [
       "{'statusCode': 404, 'message': 'Backup <bu1> not found'}"
      ]
     },
     "execution_count": 8,
     "metadata": {},
     "output_type": "execute_result"
    }
   ],
   "source": [
    "url = baseurl + f'/v1/backup-manager/{BRM}/backup/{backupName}'\n",
    "result = requests.get(url)\n",
    "result.json()"
   ]
  },
  {
   "cell_type": "code",
   "execution_count": null,
   "id": "rubber-thesaurus",
   "metadata": {},
   "outputs": [],
   "source": [
    "url = baseurl + f'/v1/backup-manager/{BRM}/backup/{backupName}'\n",
    "result = requests.get(url)\n",
    "result.json()"
   ]
  },
  {
   "cell_type": "markdown",
   "id": "olive-vanilla",
   "metadata": {},
   "source": [
    "## Housekeeping"
   ]
  },
  {
   "cell_type": "markdown",
   "id": "accessory-festival",
   "metadata": {},
   "source": [
    "### Show the housekeeping"
   ]
  },
  {
   "cell_type": "code",
   "execution_count": 22,
   "id": "tested-botswana",
   "metadata": {},
   "outputs": [
    {
     "data": {
      "text/plain": [
       "{'maxStoredBackups': 100, 'autoDelete': 'enabled'}"
      ]
     },
     "execution_count": 22,
     "metadata": {},
     "output_type": "execute_result"
    }
   ],
   "source": [
    "url = baseurl + f'/backup-restore/v4alpha1/backup-managers/{BRM}/configuration/housekeeping'\n",
    "result = requests.get(url)\n",
    "result.json()"
   ]
  },
  {
   "cell_type": "markdown",
   "id": "honey-peripheral",
   "metadata": {},
   "source": [
    "### Put housekeeping config"
   ]
  },
  {
   "cell_type": "code",
   "execution_count": 21,
   "id": "minus-barbados",
   "metadata": {},
   "outputs": [],
   "source": [
    "url = baseurl + f'/backup-restore/v4alpha1/backup-managers/{BRM}/configuration/housekeeping'\n",
    "body = {\n",
    "'autoDelete': 'enabled', 'maxStoredBackups': 100\n",
    "    }\n",
    "result = requests.put(url, json = body)"
   ]
  },
  {
   "cell_type": "markdown",
   "id": "inappropriate-baltimore",
   "metadata": {},
   "source": [
    "### patch housekeeping config"
   ]
  },
  {
   "cell_type": "code",
   "execution_count": 22,
   "id": "international-victory",
   "metadata": {},
   "outputs": [],
   "source": [
    "url = baseurl + f'/backup-restore/v4alpha1/backup-managers/{BRM}/configuration/housekeeping'\n",
    "body = {\n",
    "      'maxStoredBackups': 12\n",
    "    }\n",
    "result = requests.patch(url, json = body)"
   ]
  },
  {
   "cell_type": "code",
   "execution_count": 43,
   "id": "direct-guyana",
   "metadata": {},
   "outputs": [
    {
     "data": {
      "text/plain": [
       "<Response [204]>"
      ]
     },
     "execution_count": 43,
     "metadata": {},
     "output_type": "execute_result"
    }
   ],
   "source": [
    "result"
   ]
  },
  {
   "cell_type": "code",
   "execution_count": 44,
   "id": "comparable-template",
   "metadata": {},
   "outputs": [
    {
     "ename": "JSONDecodeError",
     "evalue": "Expecting value: line 1 column 1 (char 0)",
     "output_type": "error",
     "traceback": [
      "\u001b[0;31m---------------------------------------------------------------------------\u001b[0m",
      "\u001b[0;31mJSONDecodeError\u001b[0m                           Traceback (most recent call last)",
      "\u001b[0;32m<ipython-input-44-a56753af43a4>\u001b[0m in \u001b[0;36m<module>\u001b[0;34m\u001b[0m\n\u001b[0;32m----> 1\u001b[0;31m \u001b[0mresult\u001b[0m\u001b[0;34m.\u001b[0m\u001b[0mjson\u001b[0m\u001b[0;34m(\u001b[0m\u001b[0;34m)\u001b[0m\u001b[0;34m\u001b[0m\u001b[0;34m\u001b[0m\u001b[0m\n\u001b[0m",
      "\u001b[0;32m~/.local/lib/python3.8/site-packages/requests/models.py\u001b[0m in \u001b[0;36mjson\u001b[0;34m(self, **kwargs)\u001b[0m\n\u001b[1;32m    898\u001b[0m                     \u001b[0;31m# used.\u001b[0m\u001b[0;34m\u001b[0m\u001b[0;34m\u001b[0m\u001b[0;34m\u001b[0m\u001b[0m\n\u001b[1;32m    899\u001b[0m                     \u001b[0;32mpass\u001b[0m\u001b[0;34m\u001b[0m\u001b[0;34m\u001b[0m\u001b[0m\n\u001b[0;32m--> 900\u001b[0;31m         \u001b[0;32mreturn\u001b[0m \u001b[0mcomplexjson\u001b[0m\u001b[0;34m.\u001b[0m\u001b[0mloads\u001b[0m\u001b[0;34m(\u001b[0m\u001b[0mself\u001b[0m\u001b[0;34m.\u001b[0m\u001b[0mtext\u001b[0m\u001b[0;34m,\u001b[0m \u001b[0;34m**\u001b[0m\u001b[0mkwargs\u001b[0m\u001b[0;34m)\u001b[0m\u001b[0;34m\u001b[0m\u001b[0;34m\u001b[0m\u001b[0m\n\u001b[0m\u001b[1;32m    901\u001b[0m \u001b[0;34m\u001b[0m\u001b[0m\n\u001b[1;32m    902\u001b[0m     \u001b[0;34m@\u001b[0m\u001b[0mproperty\u001b[0m\u001b[0;34m\u001b[0m\u001b[0;34m\u001b[0m\u001b[0m\n",
      "\u001b[0;32m/usr/lib/python3/dist-packages/simplejson/__init__.py\u001b[0m in \u001b[0;36mloads\u001b[0;34m(s, encoding, cls, object_hook, parse_float, parse_int, parse_constant, object_pairs_hook, use_decimal, **kw)\u001b[0m\n\u001b[1;32m    516\u001b[0m             \u001b[0mparse_constant\u001b[0m \u001b[0;32mis\u001b[0m \u001b[0;32mNone\u001b[0m \u001b[0;32mand\u001b[0m \u001b[0mobject_pairs_hook\u001b[0m \u001b[0;32mis\u001b[0m \u001b[0;32mNone\u001b[0m\u001b[0;34m\u001b[0m\u001b[0;34m\u001b[0m\u001b[0m\n\u001b[1;32m    517\u001b[0m             and not use_decimal and not kw):\n\u001b[0;32m--> 518\u001b[0;31m         \u001b[0;32mreturn\u001b[0m \u001b[0m_default_decoder\u001b[0m\u001b[0;34m.\u001b[0m\u001b[0mdecode\u001b[0m\u001b[0;34m(\u001b[0m\u001b[0ms\u001b[0m\u001b[0;34m)\u001b[0m\u001b[0;34m\u001b[0m\u001b[0;34m\u001b[0m\u001b[0m\n\u001b[0m\u001b[1;32m    519\u001b[0m     \u001b[0;32mif\u001b[0m \u001b[0mcls\u001b[0m \u001b[0;32mis\u001b[0m \u001b[0;32mNone\u001b[0m\u001b[0;34m:\u001b[0m\u001b[0;34m\u001b[0m\u001b[0;34m\u001b[0m\u001b[0m\n\u001b[1;32m    520\u001b[0m         \u001b[0mcls\u001b[0m \u001b[0;34m=\u001b[0m \u001b[0mJSONDecoder\u001b[0m\u001b[0;34m\u001b[0m\u001b[0;34m\u001b[0m\u001b[0m\n",
      "\u001b[0;32m/usr/lib/python3/dist-packages/simplejson/decoder.py\u001b[0m in \u001b[0;36mdecode\u001b[0;34m(self, s, _w, _PY3)\u001b[0m\n\u001b[1;32m    368\u001b[0m         \u001b[0;32mif\u001b[0m \u001b[0m_PY3\u001b[0m \u001b[0;32mand\u001b[0m \u001b[0misinstance\u001b[0m\u001b[0;34m(\u001b[0m\u001b[0ms\u001b[0m\u001b[0;34m,\u001b[0m \u001b[0mbytes\u001b[0m\u001b[0;34m)\u001b[0m\u001b[0;34m:\u001b[0m\u001b[0;34m\u001b[0m\u001b[0;34m\u001b[0m\u001b[0m\n\u001b[1;32m    369\u001b[0m             \u001b[0ms\u001b[0m \u001b[0;34m=\u001b[0m \u001b[0mstr\u001b[0m\u001b[0;34m(\u001b[0m\u001b[0ms\u001b[0m\u001b[0;34m,\u001b[0m \u001b[0mself\u001b[0m\u001b[0;34m.\u001b[0m\u001b[0mencoding\u001b[0m\u001b[0;34m)\u001b[0m\u001b[0;34m\u001b[0m\u001b[0;34m\u001b[0m\u001b[0m\n\u001b[0;32m--> 370\u001b[0;31m         \u001b[0mobj\u001b[0m\u001b[0;34m,\u001b[0m \u001b[0mend\u001b[0m \u001b[0;34m=\u001b[0m \u001b[0mself\u001b[0m\u001b[0;34m.\u001b[0m\u001b[0mraw_decode\u001b[0m\u001b[0;34m(\u001b[0m\u001b[0ms\u001b[0m\u001b[0;34m)\u001b[0m\u001b[0;34m\u001b[0m\u001b[0;34m\u001b[0m\u001b[0m\n\u001b[0m\u001b[1;32m    371\u001b[0m         \u001b[0mend\u001b[0m \u001b[0;34m=\u001b[0m \u001b[0m_w\u001b[0m\u001b[0;34m(\u001b[0m\u001b[0ms\u001b[0m\u001b[0;34m,\u001b[0m \u001b[0mend\u001b[0m\u001b[0;34m)\u001b[0m\u001b[0;34m.\u001b[0m\u001b[0mend\u001b[0m\u001b[0;34m(\u001b[0m\u001b[0;34m)\u001b[0m\u001b[0;34m\u001b[0m\u001b[0;34m\u001b[0m\u001b[0m\n\u001b[1;32m    372\u001b[0m         \u001b[0;32mif\u001b[0m \u001b[0mend\u001b[0m \u001b[0;34m!=\u001b[0m \u001b[0mlen\u001b[0m\u001b[0;34m(\u001b[0m\u001b[0ms\u001b[0m\u001b[0;34m)\u001b[0m\u001b[0;34m:\u001b[0m\u001b[0;34m\u001b[0m\u001b[0;34m\u001b[0m\u001b[0m\n",
      "\u001b[0;32m/usr/lib/python3/dist-packages/simplejson/decoder.py\u001b[0m in \u001b[0;36mraw_decode\u001b[0;34m(self, s, idx, _w, _PY3)\u001b[0m\n\u001b[1;32m    398\u001b[0m             \u001b[0;32melif\u001b[0m \u001b[0mord0\u001b[0m \u001b[0;34m==\u001b[0m \u001b[0;36m0xef\u001b[0m \u001b[0;32mand\u001b[0m \u001b[0ms\u001b[0m\u001b[0;34m[\u001b[0m\u001b[0midx\u001b[0m\u001b[0;34m:\u001b[0m\u001b[0midx\u001b[0m \u001b[0;34m+\u001b[0m \u001b[0;36m3\u001b[0m\u001b[0;34m]\u001b[0m \u001b[0;34m==\u001b[0m \u001b[0;34m'\\xef\\xbb\\xbf'\u001b[0m\u001b[0;34m:\u001b[0m\u001b[0;34m\u001b[0m\u001b[0;34m\u001b[0m\u001b[0m\n\u001b[1;32m    399\u001b[0m                 \u001b[0midx\u001b[0m \u001b[0;34m+=\u001b[0m \u001b[0;36m3\u001b[0m\u001b[0;34m\u001b[0m\u001b[0;34m\u001b[0m\u001b[0m\n\u001b[0;32m--> 400\u001b[0;31m         \u001b[0;32mreturn\u001b[0m \u001b[0mself\u001b[0m\u001b[0;34m.\u001b[0m\u001b[0mscan_once\u001b[0m\u001b[0;34m(\u001b[0m\u001b[0ms\u001b[0m\u001b[0;34m,\u001b[0m \u001b[0midx\u001b[0m\u001b[0;34m=\u001b[0m\u001b[0m_w\u001b[0m\u001b[0;34m(\u001b[0m\u001b[0ms\u001b[0m\u001b[0;34m,\u001b[0m \u001b[0midx\u001b[0m\u001b[0;34m)\u001b[0m\u001b[0;34m.\u001b[0m\u001b[0mend\u001b[0m\u001b[0;34m(\u001b[0m\u001b[0;34m)\u001b[0m\u001b[0;34m)\u001b[0m\u001b[0;34m\u001b[0m\u001b[0;34m\u001b[0m\u001b[0m\n\u001b[0m",
      "\u001b[0;31mJSONDecodeError\u001b[0m: Expecting value: line 1 column 1 (char 0)"
     ]
    }
   ],
   "source": [
    "result.json()"
   ]
  },
  {
   "cell_type": "markdown",
   "id": "forward-japan",
   "metadata": {},
   "source": [
    "## BRM"
   ]
  },
  {
   "cell_type": "markdown",
   "id": "violent-underground",
   "metadata": {},
   "source": [
    "### List BRM"
   ]
  },
  {
   "cell_type": "code",
   "execution_count": 116,
   "id": "dried-momentum",
   "metadata": {},
   "outputs": [
    {
     "data": {
      "text/plain": [
       "{'backupManagers': [{'id': 'DEFAULT'},\n",
       "  {'id': 'DEFAULT-bro'},\n",
       "  {'id': 'DEFAULT-DefaultAgentID'},\n",
       "  {'id': 'DefaultAgentScope'},\n",
       "  {'id': 'DefaultAgentScope-bro'}]}"
      ]
     },
     "execution_count": 116,
     "metadata": {},
     "output_type": "execute_result"
    }
   ],
   "source": [
    "url = baseurl + '/v1/backup-manager'\n",
    "result = requests.get(url)\n",
    "result.json()"
   ]
  },
  {
   "cell_type": "code",
   "execution_count": 82,
   "id": "vertical-marsh",
   "metadata": {},
   "outputs": [
    {
     "data": {
      "text/plain": [
       "{'id': 'DEFAULT'}"
      ]
     },
     "execution_count": 82,
     "metadata": {},
     "output_type": "execute_result"
    }
   ],
   "source": [
    "url = baseurl + f'/v1/backup-manager/{BRM}'\n",
    "result = requests.get(url)\n",
    "result.json()"
   ]
  },
  {
   "cell_type": "markdown",
   "id": "boolean-agency",
   "metadata": {},
   "source": [
    "## Scheduling"
   ]
  },
  {
   "cell_type": "code",
   "execution_count": 84,
   "id": "unlike-nursery",
   "metadata": {},
   "outputs": [
    {
     "data": {
      "text/plain": [
       "{'mostRecentlyCreatedAutoBackup': None,\n",
       " 'nextScheduledTime': '2022-08-05T12:05:00+01:00',\n",
       " 'adminState': 'UNLOCKED',\n",
       " 'scheduledBackupName': 'SCHEDULED_BACKUP',\n",
       " 'autoExport': 'DISABLED',\n",
       " 'autoExportPassword': '',\n",
       " 'autoExportUri': None,\n",
       " 'scheduledBackupNamePrefix': 'SCHEDULED_BACKUP'}"
      ]
     },
     "execution_count": 84,
     "metadata": {},
     "output_type": "execute_result"
    }
   ],
   "source": [
    "url = baseurl+f'/backup-restore/v4alpha1/backup-managers/{BRM}/configuration/scheduling'\n",
    "result = requests.get(url)\n",
    "result.json()"
   ]
  },
  {
   "cell_type": "markdown",
   "id": "handled-bridge",
   "metadata": {},
   "source": [
    "### update the scheduler"
   ]
  },
  {
   "cell_type": "markdown",
   "id": "coupled-strengthening",
   "metadata": {},
   "source": [
    "Don't execute it when CMYP is enabled. BRO will fail and can't come back."
   ]
  },
  {
   "cell_type": "code",
   "execution_count": 78,
   "id": "cutting-least",
   "metadata": {},
   "outputs": [],
   "source": [
    "sftpHost = 'bro-test-sftp'"
   ]
  },
  {
   "cell_type": "code",
   "execution_count": 79,
   "id": "juvenile-setup",
   "metadata": {},
   "outputs": [
    {
     "data": {
      "text/plain": [
       "<Response [204]>"
      ]
     },
     "execution_count": 79,
     "metadata": {},
     "output_type": "execute_result"
    }
   ],
   "source": [
    "url = baseurl + f'/backup-restore/v4alpha1/backup-managers/{BRM}/configuration/scheduling'\n",
    "body = {\n",
    "      'adminState': 'UNLOCKED',\n",
    "     'scheduledBackupName': 'MY_SCHEDULED',\n",
    "     'autoExport': 'ENABLED',\n",
    "     'autoExportPassword': 'planbsftp',\n",
    "     'autoExportUri': f\"sftp://brsftp@{sftpHost}:9022/bro_test\"\n",
    "    }\n",
    "result = requests.put(url, json = body)\n",
    "result"
   ]
  },
  {
   "cell_type": "markdown",
   "id": "demonstrated-bloom",
   "metadata": {},
   "source": [
    "#### Post P"
   ]
  },
  {
   "cell_type": "code",
   "execution_count": 53,
   "id": "collect-rwanda",
   "metadata": {},
   "outputs": [
    {
     "data": {
      "text/plain": [
       "{'statusCode': 400,\n",
       " 'message': 'Specifying a schedule with a period of 0 is not a valid request'}"
      ]
     },
     "execution_count": 53,
     "metadata": {},
     "output_type": "execute_result"
    }
   ],
   "source": [
    "url = baseurl + f'/backup-restore/v4alpha1/backup-managers/{BRM}/periodic-schedules'\n",
    "body = {\n",
    "    'startTime':'2022-02-02T17:15:00'\n",
    "    }\n",
    "result = requests.post(url, json = body)\n",
    "result.json()"
   ]
  },
  {
   "cell_type": "code",
   "execution_count": 81,
   "id": "necessary-reducing",
   "metadata": {},
   "outputs": [
    {
     "data": {
      "text/plain": [
       "{'id': '24632'}"
      ]
     },
     "execution_count": 81,
     "metadata": {},
     "output_type": "execute_result"
    }
   ],
   "source": [
    "url = baseurl + f'/backup-restore/v4alpha1/backup-managers/{BRM}/periodic-schedules'\n",
    "body = {\n",
    "      'hours': 0,\n",
    "        'minutes': 10,\n",
    "    'stopTime':'2023-06-20T14:29:00'\n",
    "    }\n",
    "result = requests.post(url, json = body)\n",
    "result.json()"
   ]
  },
  {
   "cell_type": "code",
   "execution_count": 44,
   "id": "grave-nowhere",
   "metadata": {},
   "outputs": [
    {
     "data": {
      "text/plain": [
       "'5294'"
      ]
     },
     "execution_count": 44,
     "metadata": {},
     "output_type": "execute_result"
    }
   ],
   "source": [
    "eventid = result.json().get('id')\n",
    "eventid"
   ]
  },
  {
   "cell_type": "code",
   "execution_count": 155,
   "id": "israeli-event",
   "metadata": {},
   "outputs": [
    {
     "data": {
      "text/plain": [
       "'4507'"
      ]
     },
     "execution_count": 155,
     "metadata": {},
     "output_type": "execute_result"
    }
   ],
   "source": [
    "url = baseurl + f'/v3/backup-managers/{BRM}/scheduler/periodic-events'\n",
    "body = {\n",
    "      'hours': 2,\n",
    "        'minutes': 34,\n",
    "    'startTime':'2022-02-02T17:15:00',\n",
    "    'stopTime':'2022-02-02T18:15:00'\n",
    "    }\n",
    "result = requests.post(url, json = body)\n",
    "eventid = result.json().get('id')\n",
    "eventid"
   ]
  },
  {
   "cell_type": "code",
   "execution_count": 64,
   "id": "dutch-junction",
   "metadata": {},
   "outputs": [
    {
     "data": {
      "text/plain": [
       "{'startTime': '2022-02-02T17:15:00Z',\n",
       " 'stopTime': '2022-02-02T18:15:00Z',\n",
       " 'minutes': 31,\n",
       " 'hours': 2,\n",
       " 'days': 0,\n",
       " 'weeks': 0,\n",
       " 'id': '36991'}"
      ]
     },
     "execution_count": 64,
     "metadata": {},
     "output_type": "execute_result"
    }
   ],
   "source": [
    "result.json()"
   ]
  },
  {
   "cell_type": "markdown",
   "id": "alone-traveler",
   "metadata": {},
   "source": [
    "### list all periodic-events"
   ]
  },
  {
   "cell_type": "code",
   "execution_count": 51,
   "id": "controlling-moment",
   "metadata": {
    "scrolled": true
   },
   "outputs": [
    {
     "name": "stdout",
     "output_type": "stream",
     "text": [
      "http://localhost:7001/backup-restore/v4alpha1/backup-managers/DEFAULT/periodic-schedules\n"
     ]
    },
    {
     "data": {
      "text/plain": [
       "{'schedules': [{'startTime': '2022-08-02T12:06:22.064804+01:00',\n",
       "   'stopTime': '2023-06-20T14:29+01:00',\n",
       "   'minutes': 1,\n",
       "   'hours': 10,\n",
       "   'days': 0,\n",
       "   'weeks': 0,\n",
       "   'id': '26939'}]}"
      ]
     },
     "execution_count": 51,
     "metadata": {},
     "output_type": "execute_result"
    }
   ],
   "source": [
    "url = baseurl + f'/backup-restore/v4alpha1/backup-managers/{BRM}/periodic-schedules'\n",
    "print(url)\n",
    "result = requests.get(url)\n",
    "result.json()"
   ]
  },
  {
   "cell_type": "markdown",
   "id": "mathematical-athletics",
   "metadata": {},
   "source": [
    "### detail a periodic-event"
   ]
  },
  {
   "cell_type": "code",
   "execution_count": 39,
   "id": "given-colon",
   "metadata": {},
   "outputs": [
    {
     "data": {
      "text/plain": [
       "{'statusCode': 404, 'message': 'Scheduled event <58557> not found'}"
      ]
     },
     "execution_count": 39,
     "metadata": {},
     "output_type": "execute_result"
    }
   ],
   "source": [
    "url = baseurl + f'/backup-restore/v4alpha1/backup-managers/{BRM}/periodic-schedules/{eventid}'\n",
    "result = requests.get(url)\n",
    "result.json()"
   ]
  },
  {
   "cell_type": "markdown",
   "id": "minimal-pharmacy",
   "metadata": {},
   "source": [
    "### delete a periodic event"
   ]
  },
  {
   "cell_type": "code",
   "execution_count": 44,
   "id": "becoming-specialist",
   "metadata": {},
   "outputs": [],
   "source": [
    "eventid = \"26939\""
   ]
  },
  {
   "cell_type": "code",
   "execution_count": 45,
   "id": "acute-border",
   "metadata": {},
   "outputs": [
    {
     "data": {
      "text/plain": [
       "<Response [204]>"
      ]
     },
     "execution_count": 45,
     "metadata": {},
     "output_type": "execute_result"
    }
   ],
   "source": [
    "url = baseurl + f'/v3/backup-managers/{BRM}/scheduler/periodic-events/{eventid}'\n",
    "result = requests.delete(url)\n",
    "result"
   ]
  },
  {
   "cell_type": "code",
   "execution_count": 12,
   "id": "stretch-poverty",
   "metadata": {},
   "outputs": [
    {
     "data": {
      "text/plain": [
       "''"
      ]
     },
     "execution_count": 12,
     "metadata": {},
     "output_type": "execute_result"
    }
   ],
   "source": [
    "result.text"
   ]
  },
  {
   "cell_type": "markdown",
   "id": "coated-calgary",
   "metadata": {},
   "source": [
    "## calender-schedules"
   ]
  },
  {
   "cell_type": "markdown",
   "id": "blocked-superintendent",
   "metadata": {},
   "source": [
    "#### list all C"
   ]
  },
  {
   "cell_type": "code",
   "execution_count": 4,
   "id": "hindu-ozone",
   "metadata": {},
   "outputs": [],
   "source": [
    "BRM = 'DEFAULT'"
   ]
  },
  {
   "cell_type": "code",
   "execution_count": 21,
   "id": "injured-liquid",
   "metadata": {
    "scrolled": false
   },
   "outputs": [
    {
     "name": "stdout",
     "output_type": "stream",
     "text": [
      "http://localhost:7001/backup-restore/v4alpha1/backup-managers/DEFAULT/calendar-schedules\n"
     ]
    },
    {
     "data": {
      "text/plain": [
       "{'schedules': [{'startTime': '2022-08-22T17:11:54.057392+01:00',\n",
       "   'time': '08:20:00',\n",
       "   'month': 2,\n",
       "   'dayOfMonth': 15,\n",
       "   'dayOfWeek': 'ALL',\n",
       "   'dayOfWeekOccurrence': 'ALL',\n",
       "   'id': '44913'},\n",
       "  {'startTime': '2022-08-22T17:12:12.412864+01:00',\n",
       "   'time': '08:20:00',\n",
       "   'month': 3,\n",
       "   'dayOfMonth': 15,\n",
       "   'dayOfWeek': 'ALL',\n",
       "   'dayOfWeekOccurrence': 'ALL',\n",
       "   'id': '45753'}]}"
      ]
     },
     "execution_count": 21,
     "metadata": {},
     "output_type": "execute_result"
    }
   ],
   "source": [
    "url = baseurl + f'/backup-restore/v4alpha1/backup-managers/{BRM}/calendar-schedules'\n",
    "print(url)\n",
    "result = requests.get(url)\n",
    "result.json()"
   ]
  },
  {
   "cell_type": "markdown",
   "id": "funny-marine",
   "metadata": {},
   "source": [
    "#### detail a event"
   ]
  },
  {
   "cell_type": "code",
   "execution_count": 165,
   "id": "victorian-flavor",
   "metadata": {},
   "outputs": [],
   "source": [
    "eventid = '14297'"
   ]
  },
  {
   "cell_type": "code",
   "execution_count": 22,
   "id": "southern-parallel",
   "metadata": {},
   "outputs": [
    {
     "data": {
      "text/plain": [
       "{'startTime': '2022-08-22T17:12:12.412864+01:00',\n",
       " 'time': '08:20:00',\n",
       " 'month': 3,\n",
       " 'dayOfMonth': 15,\n",
       " 'dayOfWeek': 'ALL',\n",
       " 'dayOfWeekOccurrence': 'ALL',\n",
       " 'id': '45753'}"
      ]
     },
     "execution_count": 22,
     "metadata": {},
     "output_type": "execute_result"
    }
   ],
   "source": [
    "url = baseurl + f'/backup-restore/v4alpha1/backup-managers/{BRM}/calendar-schedules/{eventid}'\n",
    "result = requests.get(url)\n",
    "result.json()"
   ]
  },
  {
   "cell_type": "markdown",
   "id": "retired-nightlife",
   "metadata": {},
   "source": [
    "#### Post C"
   ]
  },
  {
   "cell_type": "markdown",
   "id": "mysterious-coaching",
   "metadata": {},
   "source": [
    "#### everyday"
   ]
  },
  {
   "cell_type": "code",
   "execution_count": 8,
   "id": "national-detector",
   "metadata": {},
   "outputs": [
    {
     "name": "stdout",
     "output_type": "stream",
     "text": [
      "http://localhost:7001/backup-restore/v4alpha1/backup-managers/DEFAULT/calendar-schedules\n"
     ]
    },
    {
     "data": {
      "text/plain": [
       "'48471'"
      ]
     },
     "execution_count": 8,
     "metadata": {},
     "output_type": "execute_result"
    }
   ],
   "source": [
    "url = baseurl + f'/backup-restore/v4alpha1/backup-managers/{BRM}/calendar-schedules'\n",
    "print(url)\n",
    "body = {\n",
    "\"time\": \"13:05:00\",\n",
    "\"stopTime\": \"2023-07-27T23:49:00\"\n",
    "}\n",
    "result = requests.post(url, json=body)\n",
    "eventid = result.json()['id']\n",
    "eventid"
   ]
  },
  {
   "cell_type": "code",
   "execution_count": 154,
   "id": "ecological-hudson",
   "metadata": {},
   "outputs": [
    {
     "data": {
      "text/plain": [
       "<Response [201]>"
      ]
     },
     "execution_count": 154,
     "metadata": {},
     "output_type": "execute_result"
    }
   ],
   "source": [
    "result"
   ]
  },
  {
   "cell_type": "code",
   "execution_count": 20,
   "id": "descending-perspective",
   "metadata": {},
   "outputs": [
    {
     "name": "stdout",
     "output_type": "stream",
     "text": [
      "http://localhost:7001/backup-restore/v4alpha1/backup-managers/DEFAULT/calendar-schedules\n"
     ]
    },
    {
     "data": {
      "text/plain": [
       "'45753'"
      ]
     },
     "execution_count": 20,
     "metadata": {},
     "output_type": "execute_result"
    }
   ],
   "source": [
    "url = baseurl + f'/backup-restore/v4alpha1/backup-managers/{BRM}/calendar-schedules'\n",
    "print(url)\n",
    "body = {\n",
    "    \"month\": \"3\",\n",
    "    \"dayOfMonth\": \"15\",\n",
    "    \"time\": \"08:20:00\"\n",
    "}\n",
    "result = requests.post(url, json=body)\n",
    "eventid = result.json()['id']\n",
    "eventid"
   ]
  },
  {
   "cell_type": "code",
   "execution_count": 69,
   "id": "external-girlfriend",
   "metadata": {},
   "outputs": [
    {
     "data": {
      "text/plain": [
       "'36895'"
      ]
     },
     "execution_count": 69,
     "metadata": {},
     "output_type": "execute_result"
    }
   ],
   "source": [
    "url = baseurl + f'/backup-restore/v4alpha1/backup-managers/{BRM}/calendar-schedules'\n",
    "body = {\n",
    "\"stopTime\": \"2023-02-02T17:15:00+02:00\",\n",
    "\"startTime\": \"2022-07-26T22:49:00+02:00\",\n",
    "\"month\": \"0\",\n",
    "\"dayOfMonth\": \"31\",\n",
    "\"time\": \"09:20:00\",\n",
    "}\n",
    "result = requests.post(url, json=body)\n",
    "eventid = result.json().get('id')\n",
    "eventid"
   ]
  },
  {
   "cell_type": "code",
   "execution_count": 75,
   "id": "cleared-destination",
   "metadata": {},
   "outputs": [
    {
     "data": {
      "text/plain": [
       "'60241'"
      ]
     },
     "execution_count": 75,
     "metadata": {},
     "output_type": "execute_result"
    }
   ],
   "source": [
    "url = baseurl + f'/backup-restore/v4alpha1/backup-managers/{BRM}/calendar-schedules'\n",
    "body = {\n",
    "\"stopTime\": \"2023-02-02T17:15:00\",\n",
    "\"startTime\": \"2022-07-26T22:49:00\",\n",
    "\"month\": \"0\",\n",
    "\"dayOfMonth\": \"31\",\n",
    "\"time\": \"09:20:00\",\n",
    "}\n",
    "result = requests.post(url, json=body)\n",
    "eventid = result.json().get('id')\n",
    "eventid"
   ]
  },
  {
   "cell_type": "code",
   "execution_count": 8,
   "id": "unusual-republican",
   "metadata": {},
   "outputs": [
    {
     "data": {
      "text/plain": [
       "{'statusCode': 501, 'message': 'Not yet implemented'}"
      ]
     },
     "execution_count": 8,
     "metadata": {},
     "output_type": "execute_result"
    }
   ],
   "source": [
    "url = baseurl + f'/backup-restore/v4alpha1/backup-managers/{BRM}/calendar-schedules/0'\n",
    "result = requests.get(url)\n",
    "result.json()"
   ]
  },
  {
   "cell_type": "code",
   "execution_count": 9,
   "id": "twenty-mercury",
   "metadata": {},
   "outputs": [
    {
     "data": {
      "text/plain": [
       "{'statusCode': 501, 'message': 'Not yet implemented'}"
      ]
     },
     "execution_count": 9,
     "metadata": {},
     "output_type": "execute_result"
    }
   ],
   "source": [
    "url = baseurl + f'/backup-restore/v4alpha1/backup-managers/{BRM}/calendar-schedules/0'\n",
    "result = requests.patch(url)\n",
    "result.json()"
   ]
  },
  {
   "cell_type": "code",
   "execution_count": 10,
   "id": "talented-mouth",
   "metadata": {},
   "outputs": [
    {
     "data": {
      "text/plain": [
       "{'statusCode': 501, 'message': 'Not yet implemented'}"
      ]
     },
     "execution_count": 10,
     "metadata": {},
     "output_type": "execute_result"
    }
   ],
   "source": [
    "url = baseurl + f'/backup-restore/v4alpha1/backup-managers/{BRM}/calendar-schedules/0'\n",
    "result = requests.put(url)\n",
    "result.json()"
   ]
  },
  {
   "cell_type": "markdown",
   "id": "caring-withdrawal",
   "metadata": {},
   "source": [
    "#### delete an event"
   ]
  },
  {
   "cell_type": "code",
   "execution_count": 41,
   "id": "usual-disability",
   "metadata": {},
   "outputs": [],
   "source": [
    "eventid = '19709'"
   ]
  },
  {
   "cell_type": "code",
   "execution_count": 71,
   "id": "forbidden-marble",
   "metadata": {},
   "outputs": [
    {
     "data": {
      "text/plain": [
       "<Response [204]>"
      ]
     },
     "execution_count": 71,
     "metadata": {},
     "output_type": "execute_result"
    }
   ],
   "source": [
    "url = baseurl + f'/backup-restore/v4alpha1/backup-managers/{BRM}/calendar-schedules/{eventid}'\n",
    "result = requests.delete(url)\n",
    "result"
   ]
  },
  {
   "cell_type": "markdown",
   "id": "daily-brunswick",
   "metadata": {},
   "source": [
    "#### Put a calendar scheduler (Replace)"
   ]
  },
  {
   "cell_type": "code",
   "execution_count": 12,
   "id": "varied-nancy",
   "metadata": {},
   "outputs": [],
   "source": [
    "eventid = \"no\""
   ]
  },
  {
   "cell_type": "code",
   "execution_count": 16,
   "id": "comparable-cruise",
   "metadata": {},
   "outputs": [
    {
     "name": "stdout",
     "output_type": "stream",
     "text": [
      "http://localhost:7001/backup-restore/v4alpha1/backup-managers/DEFAULT/calendar-schedules/49184\n"
     ]
    },
    {
     "data": {
      "text/plain": [
       "{'startTime': '2022-08-22T17:04:42.497725+01:00',\n",
       " 'stopTime': '2024-07-27T23:49+01:00',\n",
       " 'time': '12:05:00',\n",
       " 'month': 0,\n",
       " 'dayOfMonth': 0,\n",
       " 'dayOfWeek': 'ALL',\n",
       " 'dayOfWeekOccurrence': 'ALL',\n",
       " 'id': '49184'}"
      ]
     },
     "execution_count": 16,
     "metadata": {},
     "output_type": "execute_result"
    }
   ],
   "source": [
    "url = baseurl + f'/backup-restore/v4alpha1/backup-managers/{BRM}/calendar-schedules/{eventid}'\n",
    "print(url)\n",
    "body = {\n",
    "\"time\": \"12:05:00\",\n",
    "\"stopTime\": \"2024-07-27T23:49:00\"\n",
    "}\n",
    "result = requests.put(url, json=body)\n",
    "result.json()"
   ]
  },
  {
   "cell_type": "code",
   "execution_count": null,
   "id": "incident-leone",
   "metadata": {},
   "outputs": [],
   "source": []
  }
 ],
 "metadata": {
  "kernelspec": {
   "display_name": "Python 3",
   "language": "python",
   "name": "python3"
  },
  "language_info": {
   "codemirror_mode": {
    "name": "ipython",
    "version": 3
   },
   "file_extension": ".py",
   "mimetype": "text/x-python",
   "name": "python",
   "nbconvert_exporter": "python",
   "pygments_lexer": "ipython3",
   "version": "3.8.10"
  }
 },
 "nbformat": 4,
 "nbformat_minor": 5
}
