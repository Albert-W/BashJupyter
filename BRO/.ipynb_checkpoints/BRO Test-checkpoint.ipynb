{
 "cells": [
  {
   "cell_type": "code",
   "execution_count": 1,
   "metadata": {},
   "outputs": [],
   "source": [
    "import requests\n",
    "baseurl = 'http://localhost:7001'"
   ]
  },
  {
   "cell_type": "code",
   "execution_count": 10,
   "metadata": {},
   "outputs": [
    {
     "data": {
      "text/plain": [
       "'{\"availability\":\"Available\",\"ongoingAction\":{},\"registeredAgents\":[\"LargeBackupFileAgent\",\"DefaultAgent\",\"LargeBackupFileAgent2\"],\"status\":\"Healthy\"}'"
      ]
     },
     "execution_count": 10,
     "metadata": {},
     "output_type": "execute_result"
    }
   ],
   "source": [
    "result = requests.get(baseurl+'/v1/health')\n",
    "result.text"
   ]
  },
  {
   "cell_type": "markdown",
   "metadata": {},
   "source": [
    "### Creating the Backup"
   ]
  },
  {
   "cell_type": "code",
   "execution_count": 11,
   "metadata": {},
   "outputs": [
    {
     "data": {
      "text/plain": [
       "'{\"id\":\"28036\"}'"
      ]
     },
     "execution_count": 11,
     "metadata": {},
     "output_type": "execute_result"
    }
   ],
   "source": [
    "url = baseurl + '/v1/backup-manager/DEFAULT/action'\n",
    "body = {\n",
    "      \"action\": \"CREATE_BACKUP\",\n",
    "      \"payload\": {\n",
    "        \"backupName\": \"myBackup109\"\n",
    "      }\n",
    "    }\n",
    "result = requests.post(url, json = body)\n",
    "result.text"
   ]
  },
  {
   "cell_type": "markdown",
   "metadata": {},
   "source": [
    "### Check backup by name"
   ]
  },
  {
   "cell_type": "code",
   "execution_count": 5,
   "metadata": {},
   "outputs": [],
   "source": [
    "url = baseurl + '/v1/backup-manager/DEFAULT/backup/' + 'myBackup'"
   ]
  },
  {
   "cell_type": "code",
   "execution_count": 6,
   "metadata": {},
   "outputs": [
    {
     "data": {
      "text/plain": [
       "'{\"name\":\"myBackup\",\"creationType\":\"MANUAL\",\"status\":\"CORRUPTED\",\"softwareVersions\":[{\"productName\":\"Name\",\"productNumber\":\"Number\",\"productRevision\":\"Revision\",\"date\":\"2019-09-13\",\"description\":\"Description\",\"type\":\"Type\",\"agentId\":\"bravo\"},{\"productName\":\"eric-ctrl-bro\",\"productNumber\":\"APR 201 40/3\",\"productRevision\":\"R3A\",\"date\":\"\",\"description\":\"\",\"type\":\"\",\"agentId\":\"APPLICATION_INFO\"}],\"creationTime\":\"2021-02-26T16:00:59.178172Z\",\"id\":\"myBackup\"}'"
      ]
     },
     "execution_count": 6,
     "metadata": {},
     "output_type": "execute_result"
    }
   ],
   "source": [
    "result = requests.get(url)\n",
    "result.text"
   ]
  },
  {
   "cell_type": "markdown",
   "metadata": {},
   "source": [
    "### Restore a backup"
   ]
  },
  {
   "cell_type": "code",
   "execution_count": 80,
   "metadata": {},
   "outputs": [
    {
     "data": {
      "text/plain": [
       "'{\"id\":\"26722\"}'"
      ]
     },
     "execution_count": 80,
     "metadata": {},
     "output_type": "execute_result"
    }
   ],
   "source": [
    "url = baseurl + '/v1/backup-manager/DEFAULT/action'\n",
    "body = {\n",
    "      \"action\": \"RESTORE\",\n",
    "      \"payload\": {\n",
    "        \"backupName\": \"myBackup103\"\n",
    "      }\n",
    "    }\n",
    "result = requests.post(url, json = body)\n",
    "result.text"
   ]
  },
  {
   "cell_type": "markdown",
   "metadata": {},
   "source": [
    "### Delete a backup"
   ]
  },
  {
   "cell_type": "code",
   "execution_count": 17,
   "metadata": {},
   "outputs": [
    {
     "data": {
      "text/plain": [
       "'{\"id\":\"43159\"}'"
      ]
     },
     "execution_count": 17,
     "metadata": {},
     "output_type": "execute_result"
    }
   ],
   "source": [
    "url = baseurl + '/v1/backup-manager/DEFAULT/action'\n",
    "body = {\n",
    "      \"action\": \"DELETE_BACKUP\",\n",
    "      \"payload\": {\n",
    "        \"backupName\": \"myBackup\"\n",
    "      }\n",
    "    }\n",
    "result = requests.post(url, json = body)\n",
    "result.text"
   ]
  },
  {
   "cell_type": "markdown",
   "metadata": {},
   "source": [
    "### Export a backup"
   ]
  },
  {
   "cell_type": "code",
   "execution_count": 22,
   "metadata": {},
   "outputs": [
    {
     "data": {
      "text/plain": [
       "'{\"id\":\"28916\"}'"
      ]
     },
     "execution_count": 22,
     "metadata": {},
     "output_type": "execute_result"
    }
   ],
   "source": [
    "# first create a backup \n",
    "url = baseurl + '/v1/backup-manager/DEFAULT/action'\n",
    "body = {\n",
    "      \"action\": \"CREATE_BACKUP\",\n",
    "      \"payload\": {\n",
    "        \"backupName\": \"myBackup11\"\n",
    "      }\n",
    "    }\n",
    "result = requests.post(url, json = body)\n",
    "result.text"
   ]
  },
  {
   "cell_type": "code",
   "execution_count": 87,
   "metadata": {},
   "outputs": [
    {
     "data": {
      "text/plain": [
       "'{\"id\":\"25648\"}'"
      ]
     },
     "execution_count": 87,
     "metadata": {},
     "output_type": "execute_result"
    }
   ],
   "source": [
    "url = baseurl + '/v1/backup-manager/DEFAULT/action'\n",
    "body = {\n",
    "      \"action\": \"EXPORT\",\n",
    "      \"payload\": {\n",
    "        \"backupName\": \"myBackup57\",\n",
    "        \"uri\": \"sftp://brsftp@10.120.217.249:22/bro_test\",\n",
    "        \"password\": \"planbsftp\"\n",
    "      }\n",
    "    }\n",
    "result = requests.post(url, json = body)\n",
    "result.text"
   ]
  },
  {
   "cell_type": "markdown",
   "metadata": {},
   "source": [
    "###  Import a backup"
   ]
  },
  {
   "cell_type": "code",
   "execution_count": 92,
   "metadata": {},
   "outputs": [
    {
     "data": {
      "text/plain": [
       "'{\"id\":\"23147\"}'"
      ]
     },
     "execution_count": 92,
     "metadata": {},
     "output_type": "execute_result"
    }
   ],
   "source": [
    "# first delete the backup \n",
    "url = baseurl + '/v1/backup-manager/DEFAULT/action'\n",
    "body = {\n",
    "      \"action\": \"DELETE_BACKUP\",\n",
    "      \"payload\": {\n",
    "        \"backupName\": \"myBackup57\"\n",
    "      }\n",
    "    }\n",
    "result = requests.post(url, json = body)\n",
    "result.text"
   ]
  },
  {
   "cell_type": "code",
   "execution_count": 93,
   "metadata": {},
   "outputs": [
    {
     "data": {
      "text/plain": [
       "'{\"id\":\"1587\"}'"
      ]
     },
     "execution_count": 93,
     "metadata": {},
     "output_type": "execute_result"
    }
   ],
   "source": [
    "url = baseurl + '/v1/backup-manager/DEFAULT/action'\n",
    "body = {\n",
    "      \"action\": \"IMPORT\",\n",
    "      \"payload\": {\n",
    "        \"uri\": \"sftp://brsftp@10.120.217.249:22/bro_test/DEFAULT/myBackup57\",\n",
    "        \"password\": \"planbsftp\"\n",
    "      }\n",
    "    }\n",
    "result = requests.post(url, json = body)\n",
    "result.text"
   ]
  },
  {
   "cell_type": "code",
   "execution_count": 74,
   "metadata": {},
   "outputs": [
    {
     "data": {
      "text/plain": [
       "'{\"id\":\"37431\"}'"
      ]
     },
     "execution_count": 74,
     "metadata": {},
     "output_type": "execute_result"
    }
   ],
   "source": [
    "body = {\n",
    "      \"action\": \"IMPORT\",\n",
    "      \"payload\": {\n",
    "        \"uri\": \"sftp://brsftp@10.120.217.249:22/bro_test/DEFAULT/myBackup11-2021-03-19T19:03:50.660412Z.tar.gz\",\n",
    "        \"password\": \"planbsftp\"\n",
    "      }\n",
    "    }\n",
    "result = requests.post(url, json = body)\n",
    "result.text"
   ]
  },
  {
   "cell_type": "markdown",
   "metadata": {},
   "source": [
    "### Housekeeping"
   ]
  },
  {
   "cell_type": "code",
   "execution_count": 6,
   "metadata": {},
   "outputs": [
    {
     "data": {
      "text/plain": [
       "'{\"id\":\"30041\"}'"
      ]
     },
     "execution_count": 6,
     "metadata": {},
     "output_type": "execute_result"
    }
   ],
   "source": [
    "url = baseurl + '/v3/backup-managers/DEFAULT/housekeeping'\n",
    "body = {\n",
    "      \"auto-delete\": \"enabled\",\n",
    "      \"max-stored-manual-backups\": 10\n",
    "    }\n",
    "result = requests.post(url, json = body)\n",
    "result.text"
   ]
  },
  {
   "cell_type": "markdown",
   "metadata": {},
   "source": [
    "### Get housekeeping Configuration"
   ]
  },
  {
   "cell_type": "code",
   "execution_count": 15,
   "metadata": {},
   "outputs": [
    {
     "data": {
      "text/plain": [
       "'{\"max-stored-manual-backups\":10,\"auto-delete\":\"enabled\"}'"
      ]
     },
     "execution_count": 15,
     "metadata": {},
     "output_type": "execute_result"
    }
   ],
   "source": [
    "url = baseurl + '/v3/backup-managers/DEFAULT/housekeeping'\n",
    "result = requests.get(url)\n",
    "result.text"
   ]
  },
  {
   "cell_type": "markdown",
   "metadata": {},
   "source": [
    "### Get scheduler configuration"
   ]
  },
  {
   "cell_type": "code",
   "execution_count": 16,
   "metadata": {},
   "outputs": [
    {
     "data": {
      "text/plain": [
       "'{\"adminState\":\"UNLOCKED\",\"mostRecentlyCreatedAutoBackup\":null,\"nextScheduledTime\":null,\"scheduledBackupName\":\"SCHEDULED_BACKUP\",\"autoExport\":\"DISABLED\",\"autoExportPassword\":\"\",\"autoExportUri\":null}'"
      ]
     },
     "execution_count": 16,
     "metadata": {},
     "output_type": "execute_result"
    }
   ],
   "source": [
    "url = baseurl + '/v3/backup-managers/DEFAULT/scheduler'\n",
    "result = requests.get(url)\n",
    "result.text"
   ]
  },
  {
   "cell_type": "markdown",
   "metadata": {},
   "source": [
    "### config scheduler"
   ]
  },
  {
   "cell_type": "code",
   "execution_count": 17,
   "metadata": {},
   "outputs": [
    {
     "data": {
      "text/plain": [
       "'{\"timestamp\":\"2021-02-26T16:07:01.163+00:00\",\"status\":405,\"error\":\"Method Not Allowed\",\"message\":\"\",\"path\":\"/v3/backup-managers/DEFAULT/scheduler/configuration\"}'"
      ]
     },
     "execution_count": 17,
     "metadata": {},
     "output_type": "execute_result"
    }
   ],
   "source": [
    "url = baseurl + '/v3/backup-managers/DEFAULT/scheduler/configuration'\n",
    "body = {\n",
    "          \"scheduledBackupName\":\"MY_SCHED_BACKUP\",\n",
    "          \"autoExport\":\"ENABLED\",\n",
    "          \"autoExportUri\":\"sftp://username@192.168.32.9/path/to/export/location\",\n",
    "          \"autoExportPassword\":\"somePassword\"\n",
    "        }\n",
    "result = requests.post(url, json = body)\n",
    "result.text"
   ]
  },
  {
   "cell_type": "markdown",
   "metadata": {},
   "source": [
    "### create periodic scheduling events"
   ]
  },
  {
   "cell_type": "code",
   "execution_count": 18,
   "metadata": {},
   "outputs": [
    {
     "data": {
      "text/plain": [
       "'{\"id\":\"41403\"}'"
      ]
     },
     "execution_count": 18,
     "metadata": {},
     "output_type": "execute_result"
    }
   ],
   "source": [
    "url = baseurl + '/v3/backup-managers/DEFAULT/scheduler/periodic-events'\n",
    "body = {\n",
    "          \"hours\": 6,\n",
    "          \"minutes\": 30,\n",
    "          \"startTime\": \"2020-10-22T19:45:41\",\n",
    "          \"stopTime\": \"2020-11-21T19:45:41\"\n",
    "        }\n",
    "result = requests.post(url, json = body)\n",
    "result.text"
   ]
  },
  {
   "cell_type": "markdown",
   "metadata": {},
   "source": [
    "### get the sheduling events"
   ]
  },
  {
   "cell_type": "code",
   "execution_count": 19,
   "metadata": {},
   "outputs": [
    {
     "data": {
      "text/plain": [
       "'{\"events\":[{\"startTime\":\"2020-10-22T19:45:41+01:00\",\"minutes\":30,\"hours\":6,\"days\":0,\"weeks\":0,\"stopTime\":\"2020-11-21T19:45:41Z\",\"id\":\"41403\"}]}'"
      ]
     },
     "execution_count": 19,
     "metadata": {},
     "output_type": "execute_result"
    }
   ],
   "source": [
    "url = baseurl + '/v3/backup-managers/DEFAULT/scheduler/periodic-events'\n",
    "result = requests.get(url)\n",
    "result.text"
   ]
  },
  {
   "cell_type": "markdown",
   "metadata": {},
   "source": [
    "### get a periodic event by id"
   ]
  },
  {
   "cell_type": "code",
   "execution_count": 20,
   "metadata": {},
   "outputs": [
    {
     "data": {
      "text/plain": [
       "'{\"startTime\":\"2020-10-22T19:45:41+01:00\",\"minutes\":30,\"hours\":6,\"days\":0,\"weeks\":0,\"stopTime\":\"2020-11-21T19:45:41Z\",\"id\":\"41403\"}'"
      ]
     },
     "execution_count": 20,
     "metadata": {},
     "output_type": "execute_result"
    }
   ],
   "source": [
    "import json\n",
    "eventId = json.loads(result.text)['events'][0]['id']\n",
    "eventId\n",
    "url = baseurl + '/v3/backup-managers/DEFAULT/scheduler/periodic-events/' + eventId\n",
    "result = requests.get(url)\n",
    "result.text"
   ]
  },
  {
   "cell_type": "markdown",
   "metadata": {},
   "source": [
    "### update a periodic scheduling event"
   ]
  },
  {
   "cell_type": "code",
   "execution_count": 21,
   "metadata": {},
   "outputs": [
    {
     "data": {
      "text/plain": [
       "'{\"startTime\":\"2020-10-22T19:45:41+01:00\",\"minutes\":30,\"hours\":1,\"days\":0,\"weeks\":0,\"stopTime\":\"2020-11-21T19:45:41Z\",\"id\":\"41403\"}'"
      ]
     },
     "execution_count": 21,
     "metadata": {},
     "output_type": "execute_result"
    }
   ],
   "source": [
    "url = baseurl + '/v3/backup-managers/DEFAULT/scheduler/periodic-events/' + eventId\n",
    "body = {\n",
    "          \"hours\": 1\n",
    "        }\n",
    "result = requests.put(url, json = body)\n",
    "result.text"
   ]
  },
  {
   "cell_type": "markdown",
   "metadata": {},
   "source": [
    "### Delete a periodic scheduling event"
   ]
  },
  {
   "cell_type": "code",
   "execution_count": 22,
   "metadata": {},
   "outputs": [
    {
     "data": {
      "text/plain": [
       "''"
      ]
     },
     "execution_count": 22,
     "metadata": {},
     "output_type": "execute_result"
    }
   ],
   "source": [
    "url = baseurl + '/v3/backup-managers/DEFAULT/scheduler/periodic-events/' + eventId\n",
    "result = requests.delete(url)\n",
    "result.text"
   ]
  },
  {
   "cell_type": "markdown",
   "metadata": {},
   "source": [
    "### Get all actions"
   ]
  },
  {
   "cell_type": "code",
   "execution_count": 8,
   "metadata": {},
   "outputs": [
    {
     "data": {
      "text/plain": [
       "{'actions': [{'name': 'CREATE_BACKUP',\n",
       "   'result': 'SUCCESS',\n",
       "   'startTime': '2022-01-21T15:50:25.061217Z',\n",
       "   'id': '5186'},\n",
       "  {'name': 'HOUSEKEEPING',\n",
       "   'result': 'SUCCESS',\n",
       "   'startTime': '2022-01-21T15:50:25.079652Z',\n",
       "   'id': '28126'}]}"
      ]
     },
     "execution_count": 8,
     "metadata": {},
     "output_type": "execute_result"
    }
   ],
   "source": [
    "url = baseurl + '/v1/backup-manager/DEFAULT/action/'\n",
    "result = requests.get(url)\n",
    "result.json()"
   ]
  },
  {
   "cell_type": "markdown",
   "metadata": {},
   "source": [
    "### Get an Action"
   ]
  },
  {
   "cell_type": "code",
   "execution_count": 12,
   "metadata": {},
   "outputs": [
    {
     "data": {
      "text/plain": [
       "{'name': 'CREATE_BACKUP',\n",
       " 'result': 'NOT_AVAILABLE',\n",
       " 'payload': {'backupName': 'myBackup109'},\n",
       " 'progressInfo': 'Agent: DefaultAgent failed at Stage: EXECUTION, message: \"The test service failed to complete a backup myBackup109, Cause: The file that was created for the backup has encountered a problem: /cd/Users/eyicwux/Documents/Ericsson/PlanB/k8s/agent/randomfile/12B.txt The test service will not retry to send the backup\"\\n',\n",
       " 'resultInfo': '{Agent: DefaultAgent, Stage: PREPARATION, success: true, message: Preparation for backup is successful}, {Agent: LargeBackupFileAgent, Stage: PREPARATION, success: true, message: Preparation for backup is successful}, {Agent: LargeBackupFileAgent2, Stage: PREPARATION, success: true, message: Preparation for backup is successful}, {Agent: DefaultAgent, Stage: EXECUTION, message: The test service failed to complete a backup myBackup109, Cause: The file that was created for the backup has encountered a problem: /cd/Users/eyicwux/Documents/Ericsson/PlanB/k8s/agent/randomfile/12B.txt The test service will not retry to send the backup}',\n",
       " 'state': 'RUNNING',\n",
       " 'progressPercentage': 0.33,\n",
       " 'startTime': '2022-01-27T15:02:07.444292Z',\n",
       " 'lastUpdateTime': '2022-01-27T15:02:07.444292Z',\n",
       " 'id': '28036'}"
      ]
     },
     "execution_count": 12,
     "metadata": {},
     "output_type": "execute_result"
    }
   ],
   "source": [
    "url = baseurl + '/v1/backup-manager/DEFAULT/action/28036'\n",
    "result = requests.get(url)\n",
    "result.json()"
   ]
  },
  {
   "cell_type": "code",
   "execution_count": 30,
   "metadata": {},
   "outputs": [
    {
     "data": {
      "text/plain": [
       "{'name': 'CREATE_BACKUP',\n",
       " 'result': 'SUCCESS',\n",
       " 'payload': {'backupName': 'myBackup107'},\n",
       " 'resultInfo': '{Agent: LargeBackupFileAgent, Stage: PREPARATION, success: true, message: Preparation for backup is successful}, {Agent: DefaultAgent, Stage: PREPARATION, success: true, message: Preparation for backup is successful}, {Agent: DefaultAgent, Stage: EXECUTION, success: true, message: The test service has completed a backup for myBackup107 and the data has been sent to the orchestrator}, {Agent: LargeBackupFileAgent, Stage: EXECUTION, success: true, message: The test service has completed a backup for myBackup107 and the data has been sent to the orchestrator}, {Agent: DefaultAgent, Stage: POST_ACTIONS, success: true, message: Post backup actions completed}, {Agent: LargeBackupFileAgent, Stage: POST_ACTIONS, success: true, message: Post backup actions completed}',\n",
       " 'state': 'FINISHED',\n",
       " 'progressPercentage': 1.0,\n",
       " 'startTime': '2022-01-26T11:07:55.076104Z',\n",
       " 'completionTime': '2022-01-26T11:08:12.322038Z',\n",
       " 'lastUpdateTime': '2022-01-26T11:08:12.322038Z',\n",
       " 'id': '47196'}"
      ]
     },
     "execution_count": 30,
     "metadata": {},
     "output_type": "execute_result"
    }
   ],
   "source": [
    "result.json()"
   ]
  },
  {
   "cell_type": "code",
   "execution_count": null,
   "metadata": {},
   "outputs": [],
   "source": []
  }
 ],
 "metadata": {
  "kernelspec": {
   "display_name": "Python 3",
   "language": "python",
   "name": "python3"
  },
  "language_info": {
   "codemirror_mode": {
    "name": "ipython",
    "version": 3
   },
   "file_extension": ".py",
   "mimetype": "text/x-python",
   "name": "python",
   "nbconvert_exporter": "python",
   "pygments_lexer": "ipython3",
   "version": "3.8.10"
  }
 },
 "nbformat": 4,
 "nbformat_minor": 4
}
