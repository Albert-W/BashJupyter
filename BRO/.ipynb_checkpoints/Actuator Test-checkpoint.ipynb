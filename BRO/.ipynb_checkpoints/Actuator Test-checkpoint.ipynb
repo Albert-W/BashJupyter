{
 "cells": [
  {
   "cell_type": "code",
   "execution_count": 1,
   "id": "intense-climate",
   "metadata": {},
   "outputs": [],
   "source": [
    "import requests\n",
    "baseurl = 'http://localhost:7001'"
   ]
  },
  {
   "cell_type": "code",
   "execution_count": 2,
   "id": "aging-letters",
   "metadata": {},
   "outputs": [
    {
     "data": {
      "text/plain": [
       "'{\"availability\":\"Available\",\"ongoingAction\":{},\"registeredAgents\":[],\"status\":\"Healthy\"}'"
      ]
     },
     "execution_count": 2,
     "metadata": {},
     "output_type": "execute_result"
    }
   ],
   "source": [
    "result = requests.get(baseurl+'/v1/health')\n",
    "result.text"
   ]
  },
  {
   "cell_type": "code",
   "execution_count": 3,
   "id": "modular-acoustic",
   "metadata": {},
   "outputs": [
    {
     "data": {
      "text/plain": [
       "{'_links': {'self': {'href': 'http://localhost:7001/actuator',\n",
       "   'templated': False},\n",
       "  'health': {'href': 'http://localhost:7001/actuator/health',\n",
       "   'templated': False},\n",
       "  'health-path': {'href': 'http://localhost:7001/actuator/health/{*path}',\n",
       "   'templated': True}}}"
      ]
     },
     "execution_count": 3,
     "metadata": {},
     "output_type": "execute_result"
    }
   ],
   "source": [
    "result = requests.get(baseurl+'/actuator')\n",
    "result.json()"
   ]
  },
  {
   "cell_type": "code",
   "execution_count": 4,
   "id": "negative-walter",
   "metadata": {},
   "outputs": [
    {
     "data": {
      "text/plain": [
       "{'status': 'UP'}"
      ]
     },
     "execution_count": 4,
     "metadata": {},
     "output_type": "execute_result"
    }
   ],
   "source": [
    "result = requests.get(baseurl+'/actuator/health')\n",
    "result.json()"
   ]
  },
  {
   "cell_type": "code",
   "execution_count": 14,
   "id": "afraid-boxing",
   "metadata": {},
   "outputs": [
    {
     "data": {
      "text/plain": [
       "{}"
      ]
     },
     "execution_count": 14,
     "metadata": {},
     "output_type": "execute_result"
    }
   ],
   "source": [
    "result = requests.get(baseurl+'/actuator/info')\n",
    "result.json()"
   ]
  },
  {
   "cell_type": "code",
   "execution_count": 6,
   "id": "secure-latino",
   "metadata": {},
   "outputs": [
    {
     "data": {
      "text/plain": [
       "{'names': ['application.ready.time',\n",
       "  'application.started.time',\n",
       "  'bro.disk.usage.bytes',\n",
       "  'bro.granular.operations.total',\n",
       "  'bro.operation.end.time',\n",
       "  'bro.operation.info',\n",
       "  'bro.operations.total',\n",
       "  'bro.stored.backups',\n",
       "  'bro.volume.stats.available.bytes',\n",
       "  'bro.volume.stats.capacity.bytes',\n",
       "  'bro.volume.stats.used.bytes',\n",
       "  'disk.free',\n",
       "  'disk.total',\n",
       "  'executor.active',\n",
       "  'executor.completed',\n",
       "  'executor.pool.core',\n",
       "  'executor.pool.max',\n",
       "  'executor.pool.size',\n",
       "  'executor.queue.remaining',\n",
       "  'executor.queued',\n",
       "  'jvm.buffer.count',\n",
       "  'jvm.buffer.memory.used',\n",
       "  'jvm.buffer.total.capacity',\n",
       "  'jvm.classes.loaded',\n",
       "  'jvm.classes.unloaded',\n",
       "  'jvm.gc.live.data.size',\n",
       "  'jvm.gc.max.data.size',\n",
       "  'jvm.gc.memory.allocated',\n",
       "  'jvm.gc.memory.promoted',\n",
       "  'jvm.gc.overhead',\n",
       "  'jvm.gc.pause',\n",
       "  'jvm.memory.committed',\n",
       "  'jvm.memory.max',\n",
       "  'jvm.memory.usage.after.gc',\n",
       "  'jvm.memory.used',\n",
       "  'jvm.threads.daemon',\n",
       "  'jvm.threads.live',\n",
       "  'jvm.threads.peak',\n",
       "  'jvm.threads.states',\n",
       "  'log4j2.events',\n",
       "  'process.cpu.usage',\n",
       "  'process.start.time',\n",
       "  'process.uptime',\n",
       "  'system.cpu.count',\n",
       "  'system.cpu.usage',\n",
       "  'tomcat.sessions.active.current',\n",
       "  'tomcat.sessions.active.max',\n",
       "  'tomcat.sessions.alive.max',\n",
       "  'tomcat.sessions.created',\n",
       "  'tomcat.sessions.expired',\n",
       "  'tomcat.sessions.rejected']}"
      ]
     },
     "execution_count": 6,
     "metadata": {},
     "output_type": "execute_result"
    }
   ],
   "source": [
    "result = requests.get(baseurl+'/actuator/metrics')\n",
    "result.json()"
   ]
  },
  {
   "cell_type": "code",
   "execution_count": 20,
   "id": "dutch-guide",
   "metadata": {},
   "outputs": [
    {
     "data": {
      "text/plain": [
       "{'name': 'bro.volume.stats.available.bytes',\n",
       " 'description': 'The amount of free space in PVC',\n",
       " 'baseUnit': 'bytes',\n",
       " 'measurements': [{'statistic': 'VALUE', 'value': 16106120383.0}],\n",
       " 'availableTags': [{'tag': 'persistentvolumeclaim',\n",
       "   'values': ['backup-data-IE-00002941']},\n",
       "  {'tag': 'applicationName', 'values': ['bro']}]}"
      ]
     },
     "execution_count": 20,
     "metadata": {},
     "output_type": "execute_result"
    }
   ],
   "source": [
    "result = requests.get(baseurl+'/actuator/metrics/bro.volume.stats.available.bytes')\n",
    "result.json()"
   ]
  },
  {
   "cell_type": "code",
   "execution_count": 22,
   "id": "devoted-intake",
   "metadata": {},
   "outputs": [
    {
     "data": {
      "text/plain": [
       "{'name': 'bro.stored.backups',\n",
       " 'description': 'Number of backups stored in BRO',\n",
       " 'baseUnit': 'backups',\n",
       " 'measurements': [{'statistic': 'VALUE', 'value': 7.0}],\n",
       " 'availableTags': [{'tag': 'backup_type',\n",
       "   'values': ['backupManagerWithoutHousekeepingInfo-bro',\n",
       "    'backupManagerWithBackupToDelete-bro',\n",
       "    'DEFAULT-bro',\n",
       "    'backupManagerWithSchedulerInfo-bro',\n",
       "    'backupManagerWithoutHousekeepingInfo',\n",
       "    'backupManagerWithSchedulerInfo',\n",
       "    'DEFAULT',\n",
       "    'backupManagerWithBackupToDelete']},\n",
       "  {'tag': 'applicationName', 'values': ['bro']}]}"
      ]
     },
     "execution_count": 22,
     "metadata": {},
     "output_type": "execute_result"
    }
   ],
   "source": [
    "result = requests.get(baseurl+'/actuator/metrics/bro.stored.backups')\n",
    "result.json()"
   ]
  },
  {
   "cell_type": "code",
   "execution_count": 21,
   "id": "loaded-prior",
   "metadata": {},
   "outputs": [
    {
     "ename": "JSONDecodeError",
     "evalue": "Expecting value: line 1 column 1 (char 0)",
     "output_type": "error",
     "traceback": [
      "\u001b[0;31m---------------------------------------------------------------------------\u001b[0m",
      "\u001b[0;31mJSONDecodeError\u001b[0m                           Traceback (most recent call last)",
      "\u001b[0;32m<ipython-input-21-34452be7ec0d>\u001b[0m in \u001b[0;36m<module>\u001b[0;34m\u001b[0m\n\u001b[1;32m      1\u001b[0m \u001b[0mresult\u001b[0m \u001b[0;34m=\u001b[0m \u001b[0mrequests\u001b[0m\u001b[0;34m.\u001b[0m\u001b[0mget\u001b[0m\u001b[0;34m(\u001b[0m\u001b[0mbaseurl\u001b[0m\u001b[0;34m+\u001b[0m\u001b[0;34m'/actuator/metrics/bro.scheduled.backup.missed'\u001b[0m\u001b[0;34m)\u001b[0m\u001b[0;34m\u001b[0m\u001b[0;34m\u001b[0m\u001b[0m\n\u001b[0;32m----> 2\u001b[0;31m \u001b[0mresult\u001b[0m\u001b[0;34m.\u001b[0m\u001b[0mjson\u001b[0m\u001b[0;34m(\u001b[0m\u001b[0;34m)\u001b[0m\u001b[0;34m\u001b[0m\u001b[0;34m\u001b[0m\u001b[0m\n\u001b[0m",
      "\u001b[0;32m~/.local/lib/python3.8/site-packages/requests/models.py\u001b[0m in \u001b[0;36mjson\u001b[0;34m(self, **kwargs)\u001b[0m\n\u001b[1;32m    898\u001b[0m                     \u001b[0;31m# used.\u001b[0m\u001b[0;34m\u001b[0m\u001b[0;34m\u001b[0m\u001b[0;34m\u001b[0m\u001b[0m\n\u001b[1;32m    899\u001b[0m                     \u001b[0;32mpass\u001b[0m\u001b[0;34m\u001b[0m\u001b[0;34m\u001b[0m\u001b[0m\n\u001b[0;32m--> 900\u001b[0;31m         \u001b[0;32mreturn\u001b[0m \u001b[0mcomplexjson\u001b[0m\u001b[0;34m.\u001b[0m\u001b[0mloads\u001b[0m\u001b[0;34m(\u001b[0m\u001b[0mself\u001b[0m\u001b[0;34m.\u001b[0m\u001b[0mtext\u001b[0m\u001b[0;34m,\u001b[0m \u001b[0;34m**\u001b[0m\u001b[0mkwargs\u001b[0m\u001b[0;34m)\u001b[0m\u001b[0;34m\u001b[0m\u001b[0;34m\u001b[0m\u001b[0m\n\u001b[0m\u001b[1;32m    901\u001b[0m \u001b[0;34m\u001b[0m\u001b[0m\n\u001b[1;32m    902\u001b[0m     \u001b[0;34m@\u001b[0m\u001b[0mproperty\u001b[0m\u001b[0;34m\u001b[0m\u001b[0;34m\u001b[0m\u001b[0m\n",
      "\u001b[0;32m/usr/lib/python3/dist-packages/simplejson/__init__.py\u001b[0m in \u001b[0;36mloads\u001b[0;34m(s, encoding, cls, object_hook, parse_float, parse_int, parse_constant, object_pairs_hook, use_decimal, **kw)\u001b[0m\n\u001b[1;32m    516\u001b[0m             \u001b[0mparse_constant\u001b[0m \u001b[0;32mis\u001b[0m \u001b[0;32mNone\u001b[0m \u001b[0;32mand\u001b[0m \u001b[0mobject_pairs_hook\u001b[0m \u001b[0;32mis\u001b[0m \u001b[0;32mNone\u001b[0m\u001b[0;34m\u001b[0m\u001b[0;34m\u001b[0m\u001b[0m\n\u001b[1;32m    517\u001b[0m             and not use_decimal and not kw):\n\u001b[0;32m--> 518\u001b[0;31m         \u001b[0;32mreturn\u001b[0m \u001b[0m_default_decoder\u001b[0m\u001b[0;34m.\u001b[0m\u001b[0mdecode\u001b[0m\u001b[0;34m(\u001b[0m\u001b[0ms\u001b[0m\u001b[0;34m)\u001b[0m\u001b[0;34m\u001b[0m\u001b[0;34m\u001b[0m\u001b[0m\n\u001b[0m\u001b[1;32m    519\u001b[0m     \u001b[0;32mif\u001b[0m \u001b[0mcls\u001b[0m \u001b[0;32mis\u001b[0m \u001b[0;32mNone\u001b[0m\u001b[0;34m:\u001b[0m\u001b[0;34m\u001b[0m\u001b[0;34m\u001b[0m\u001b[0m\n\u001b[1;32m    520\u001b[0m         \u001b[0mcls\u001b[0m \u001b[0;34m=\u001b[0m \u001b[0mJSONDecoder\u001b[0m\u001b[0;34m\u001b[0m\u001b[0;34m\u001b[0m\u001b[0m\n",
      "\u001b[0;32m/usr/lib/python3/dist-packages/simplejson/decoder.py\u001b[0m in \u001b[0;36mdecode\u001b[0;34m(self, s, _w, _PY3)\u001b[0m\n\u001b[1;32m    368\u001b[0m         \u001b[0;32mif\u001b[0m \u001b[0m_PY3\u001b[0m \u001b[0;32mand\u001b[0m \u001b[0misinstance\u001b[0m\u001b[0;34m(\u001b[0m\u001b[0ms\u001b[0m\u001b[0;34m,\u001b[0m \u001b[0mbytes\u001b[0m\u001b[0;34m)\u001b[0m\u001b[0;34m:\u001b[0m\u001b[0;34m\u001b[0m\u001b[0;34m\u001b[0m\u001b[0m\n\u001b[1;32m    369\u001b[0m             \u001b[0ms\u001b[0m \u001b[0;34m=\u001b[0m \u001b[0mstr\u001b[0m\u001b[0;34m(\u001b[0m\u001b[0ms\u001b[0m\u001b[0;34m,\u001b[0m \u001b[0mself\u001b[0m\u001b[0;34m.\u001b[0m\u001b[0mencoding\u001b[0m\u001b[0;34m)\u001b[0m\u001b[0;34m\u001b[0m\u001b[0;34m\u001b[0m\u001b[0m\n\u001b[0;32m--> 370\u001b[0;31m         \u001b[0mobj\u001b[0m\u001b[0;34m,\u001b[0m \u001b[0mend\u001b[0m \u001b[0;34m=\u001b[0m \u001b[0mself\u001b[0m\u001b[0;34m.\u001b[0m\u001b[0mraw_decode\u001b[0m\u001b[0;34m(\u001b[0m\u001b[0ms\u001b[0m\u001b[0;34m)\u001b[0m\u001b[0;34m\u001b[0m\u001b[0;34m\u001b[0m\u001b[0m\n\u001b[0m\u001b[1;32m    371\u001b[0m         \u001b[0mend\u001b[0m \u001b[0;34m=\u001b[0m \u001b[0m_w\u001b[0m\u001b[0;34m(\u001b[0m\u001b[0ms\u001b[0m\u001b[0;34m,\u001b[0m \u001b[0mend\u001b[0m\u001b[0;34m)\u001b[0m\u001b[0;34m.\u001b[0m\u001b[0mend\u001b[0m\u001b[0;34m(\u001b[0m\u001b[0;34m)\u001b[0m\u001b[0;34m\u001b[0m\u001b[0;34m\u001b[0m\u001b[0m\n\u001b[1;32m    372\u001b[0m         \u001b[0;32mif\u001b[0m \u001b[0mend\u001b[0m \u001b[0;34m!=\u001b[0m \u001b[0mlen\u001b[0m\u001b[0;34m(\u001b[0m\u001b[0ms\u001b[0m\u001b[0;34m)\u001b[0m\u001b[0;34m:\u001b[0m\u001b[0;34m\u001b[0m\u001b[0;34m\u001b[0m\u001b[0m\n",
      "\u001b[0;32m/usr/lib/python3/dist-packages/simplejson/decoder.py\u001b[0m in \u001b[0;36mraw_decode\u001b[0;34m(self, s, idx, _w, _PY3)\u001b[0m\n\u001b[1;32m    398\u001b[0m             \u001b[0;32melif\u001b[0m \u001b[0mord0\u001b[0m \u001b[0;34m==\u001b[0m \u001b[0;36m0xef\u001b[0m \u001b[0;32mand\u001b[0m \u001b[0ms\u001b[0m\u001b[0;34m[\u001b[0m\u001b[0midx\u001b[0m\u001b[0;34m:\u001b[0m\u001b[0midx\u001b[0m \u001b[0;34m+\u001b[0m \u001b[0;36m3\u001b[0m\u001b[0;34m]\u001b[0m \u001b[0;34m==\u001b[0m \u001b[0;34m'\\xef\\xbb\\xbf'\u001b[0m\u001b[0;34m:\u001b[0m\u001b[0;34m\u001b[0m\u001b[0;34m\u001b[0m\u001b[0m\n\u001b[1;32m    399\u001b[0m                 \u001b[0midx\u001b[0m \u001b[0;34m+=\u001b[0m \u001b[0;36m3\u001b[0m\u001b[0;34m\u001b[0m\u001b[0;34m\u001b[0m\u001b[0m\n\u001b[0;32m--> 400\u001b[0;31m         \u001b[0;32mreturn\u001b[0m \u001b[0mself\u001b[0m\u001b[0;34m.\u001b[0m\u001b[0mscan_once\u001b[0m\u001b[0;34m(\u001b[0m\u001b[0ms\u001b[0m\u001b[0;34m,\u001b[0m \u001b[0midx\u001b[0m\u001b[0;34m=\u001b[0m\u001b[0m_w\u001b[0m\u001b[0;34m(\u001b[0m\u001b[0ms\u001b[0m\u001b[0;34m,\u001b[0m \u001b[0midx\u001b[0m\u001b[0;34m)\u001b[0m\u001b[0;34m.\u001b[0m\u001b[0mend\u001b[0m\u001b[0;34m(\u001b[0m\u001b[0;34m)\u001b[0m\u001b[0;34m)\u001b[0m\u001b[0;34m\u001b[0m\u001b[0;34m\u001b[0m\u001b[0m\n\u001b[0m",
      "\u001b[0;31mJSONDecodeError\u001b[0m: Expecting value: line 1 column 1 (char 0)"
     ]
    }
   ],
   "source": [
    "result = requests.get(baseurl+'/actuator/metrics/bro.scheduled.backup.missed')\n",
    "result.json()"
   ]
  },
  {
   "cell_type": "code",
   "execution_count": 10,
   "id": "governing-pickup",
   "metadata": {},
   "outputs": [
    {
     "data": {
      "text/plain": [
       "<Response [200]>"
      ]
     },
     "execution_count": 10,
     "metadata": {},
     "output_type": "execute_result"
    }
   ],
   "source": [
    "result = requests.get(baseurl+'/actuator/prometheus')\n",
    "result"
   ]
  },
  {
   "cell_type": "code",
   "execution_count": 13,
   "id": "african-pierce",
   "metadata": {},
   "outputs": [
    {
     "name": "stdout",
     "output_type": "stream",
     "text": [
      "# HELP jvm_memory_max_bytes The maximum amount of memory in bytes that can be used for memory management\n",
      "# TYPE jvm_memory_max_bytes gauge\n",
      "jvm_memory_max_bytes{applicationName=\"bro\",area=\"nonheap\",id=\"CodeHeap 'non-nmethods'\",} 5898240.0\n",
      "jvm_memory_max_bytes{applicationName=\"bro\",area=\"nonheap\",id=\"Compressed Class Space\",} 1.073741824E9\n",
      "jvm_memory_max_bytes{applicationName=\"bro\",area=\"nonheap\",id=\"CodeHeap 'non-profiled nmethods'\",} 1.2288E8\n",
      "jvm_memory_max_bytes{applicationName=\"bro\",area=\"heap\",id=\"G1 Old Gen\",} 8.550088704E9\n",
      "jvm_memory_max_bytes{applicationName=\"bro\",area=\"heap\",id=\"G1 Survivor Space\",} -1.0\n",
      "jvm_memory_max_bytes{applicationName=\"bro\",area=\"heap\",id=\"G1 Eden Space\",} -1.0\n",
      "jvm_memory_max_bytes{applicationName=\"bro\",area=\"nonheap\",id=\"Metaspace\",} -1.0\n",
      "jvm_memory_max_bytes{applicationName=\"bro\",area=\"nonheap\",id=\"CodeHeap 'profiled nmethods'\",} 1.2288E8\n",
      "# HELP jvm_gc_overhead_percent An approximation of the percent of CPU time used by GC activities over the last lookback period or since monitoring began, whichever is shorter, in the range [0..1]\n",
      "# TYPE jvm_gc_overhead_percent gauge\n",
      "jvm_gc_overhead_percent{applicationName=\"bro\",} 0.0\n",
      "# HELP bro_volume_stats_capacity_bytes Total size of the PVC capacity\n",
      "# TYPE bro_volume_stats_capacity_bytes gauge\n",
      "bro_volume_stats_capacity_bytes{applicationName=\"bro\",persistentvolumeclaim=\"backup-data-IE-00002941\",} 1.610612736E10\n",
      "# HELP process_start_time_seconds Start time of the process since unix epoch.\n",
      "# TYPE process_start_time_seconds gauge\n",
      "process_start_time_seconds{applicationName=\"bro\",} 1.655715865696E9\n",
      "# HELP jvm_gc_pause_seconds Time spent in GC pause\n",
      "# TYPE jvm_gc_pause_seconds summary\n",
      "jvm_gc_pause_seconds_count{action=\"end of minor GC\",applicationName=\"bro\",cause=\"G1 Evacuation Pause\",} 2.0\n",
      "jvm_gc_pause_seconds_sum{action=\"end of minor GC\",applicationName=\"bro\",cause=\"G1 Evacuation Pause\",} 0.022\n",
      "jvm_gc_pause_seconds_count{action=\"end of minor GC\",applicationName=\"bro\",cause=\"Metadata GC Threshold\",} 1.0\n",
      "jvm_gc_pause_seconds_sum{action=\"end of minor GC\",applicationName=\"bro\",cause=\"Metadata GC Threshold\",} 0.014\n",
      "# HELP jvm_gc_pause_seconds_max Time spent in GC pause\n",
      "# TYPE jvm_gc_pause_seconds_max gauge\n",
      "jvm_gc_pause_seconds_max{action=\"end of minor GC\",applicationName=\"bro\",cause=\"G1 Evacuation Pause\",} 0.0\n",
      "jvm_gc_pause_seconds_max{action=\"end of minor GC\",applicationName=\"bro\",cause=\"Metadata GC Threshold\",} 0.0\n",
      "# HELP tomcat_sessions_alive_max_seconds  \n",
      "# TYPE tomcat_sessions_alive_max_seconds gauge\n",
      "tomcat_sessions_alive_max_seconds{applicationName=\"bro\",} 0.0\n",
      "# HELP executor_active_threads The approximate number of threads that are actively executing tasks\n",
      "# TYPE executor_active_threads gauge\n",
      "executor_active_threads{applicationName=\"bro\",name=\"taskScheduler\",} 0.0\n",
      "executor_active_threads{applicationName=\"bro\",name=\"applicationTaskExecutor\",} 0.0\n",
      "# HELP jvm_classes_loaded_classes The number of classes that are currently loaded in the Java virtual machine\n",
      "# TYPE jvm_classes_loaded_classes gauge\n",
      "jvm_classes_loaded_classes{applicationName=\"bro\",} 12940.0\n",
      "# HELP bro_operations_total Counter for number of executed operations\n",
      "# TYPE bro_operations_total counter\n",
      "bro_operations_total{action=\"\",applicationName=\"bro\",backup_type=\"\",status=\"\",} 0.0\n",
      "# HELP executor_pool_max_threads The maximum allowed number of threads in the pool\n",
      "# TYPE executor_pool_max_threads gauge\n",
      "executor_pool_max_threads{applicationName=\"bro\",name=\"taskScheduler\",} 2.147483647E9\n",
      "executor_pool_max_threads{applicationName=\"bro\",name=\"applicationTaskExecutor\",} 2.147483647E9\n",
      "# HELP disk_total_bytes Total space for path\n",
      "# TYPE disk_total_bytes gauge\n",
      "disk_total_bytes{applicationName=\"bro\",path=\"C:\\\\Users\\\\eyicwux\\\\Documents\\\\Ericsson\\\\PlanB\\\\BRO\\\\94930\\\\backupandrestore\\\\service\\\\.\",} 5.10265294848E11\n",
      "# HELP application_started_time_seconds Time taken (ms) to start the application\n",
      "# TYPE application_started_time_seconds gauge\n",
      "application_started_time_seconds{applicationName=\"bro\",main_application_class=\"com.ericsson.adp.mgmt.backupandrestore.BackupAndRestoreApplication\",} 13.188\n",
      "# HELP tomcat_sessions_active_current_sessions  \n",
      "# TYPE tomcat_sessions_active_current_sessions gauge\n",
      "tomcat_sessions_active_current_sessions{applicationName=\"bro\",} 0.0\n",
      "# HELP tomcat_sessions_expired_sessions_total  \n",
      "# TYPE tomcat_sessions_expired_sessions_total counter\n",
      "tomcat_sessions_expired_sessions_total{applicationName=\"bro\",} 0.0\n",
      "# HELP jvm_memory_committed_bytes The amount of memory in bytes that is committed for the Java virtual machine to use\n",
      "# TYPE jvm_memory_committed_bytes gauge\n",
      "jvm_memory_committed_bytes{applicationName=\"bro\",area=\"nonheap\",id=\"CodeHeap 'non-nmethods'\",} 2555904.0\n",
      "jvm_memory_committed_bytes{applicationName=\"bro\",area=\"nonheap\",id=\"Compressed Class Space\",} 9043968.0\n",
      "jvm_memory_committed_bytes{applicationName=\"bro\",area=\"nonheap\",id=\"CodeHeap 'non-profiled nmethods'\",} 5242880.0\n",
      "jvm_memory_committed_bytes{applicationName=\"bro\",area=\"heap\",id=\"G1 Old Gen\",} 6.0817408E7\n",
      "jvm_memory_committed_bytes{applicationName=\"bro\",area=\"heap\",id=\"G1 Survivor Space\",} 1.2582912E7\n",
      "jvm_memory_committed_bytes{applicationName=\"bro\",area=\"heap\",id=\"G1 Eden Space\",} 9.437184E7\n",
      "jvm_memory_committed_bytes{applicationName=\"bro\",area=\"nonheap\",id=\"Metaspace\",} 6.6797568E7\n",
      "jvm_memory_committed_bytes{applicationName=\"bro\",area=\"nonheap\",id=\"CodeHeap 'profiled nmethods'\",} 1.507328E7\n",
      "# HELP executor_queued_tasks The approximate number of tasks that are queued for execution\n",
      "# TYPE executor_queued_tasks gauge\n",
      "executor_queued_tasks{applicationName=\"bro\",name=\"taskScheduler\",} 3.0\n",
      "executor_queued_tasks{applicationName=\"bro\",name=\"applicationTaskExecutor\",} 0.0\n",
      "# HELP tomcat_sessions_created_sessions_total  \n",
      "# TYPE tomcat_sessions_created_sessions_total counter\n",
      "tomcat_sessions_created_sessions_total{applicationName=\"bro\",} 0.0\n",
      "# HELP jvm_buffer_memory_used_bytes An estimate of the memory that the Java virtual machine is using for this buffer pool\n",
      "# TYPE jvm_buffer_memory_used_bytes gauge\n",
      "jvm_buffer_memory_used_bytes{applicationName=\"bro\",id=\"mapped - 'non-volatile memory'\",} 0.0\n",
      "jvm_buffer_memory_used_bytes{applicationName=\"bro\",id=\"direct\",} 49153.0\n",
      "jvm_buffer_memory_used_bytes{applicationName=\"bro\",id=\"mapped\",} 0.0\n",
      "# HELP jvm_classes_unloaded_classes_total The total number of classes unloaded since the Java virtual machine has started execution\n",
      "# TYPE jvm_classes_unloaded_classes_total counter\n",
      "jvm_classes_unloaded_classes_total{applicationName=\"bro\",} 0.0\n",
      "# HELP jvm_buffer_count_buffers An estimate of the number of buffers in the pool\n",
      "# TYPE jvm_buffer_count_buffers gauge\n",
      "jvm_buffer_count_buffers{applicationName=\"bro\",id=\"mapped - 'non-volatile memory'\",} 0.0\n",
      "jvm_buffer_count_buffers{applicationName=\"bro\",id=\"direct\",} 7.0\n",
      "jvm_buffer_count_buffers{applicationName=\"bro\",id=\"mapped\",} 0.0\n",
      "# HELP jvm_threads_daemon_threads The current number of live daemon threads\n",
      "# TYPE jvm_threads_daemon_threads gauge\n",
      "jvm_threads_daemon_threads{applicationName=\"bro\",} 20.0\n",
      "# HELP system_cpu_count The number of processors available to the Java virtual machine\n",
      "# TYPE system_cpu_count gauge\n",
      "system_cpu_count{applicationName=\"bro\",} 8.0\n",
      "# HELP jvm_gc_live_data_size_bytes Size of long-lived heap memory pool after reclamation\n",
      "# TYPE jvm_gc_live_data_size_bytes gauge\n",
      "jvm_gc_live_data_size_bytes{applicationName=\"bro\",} 0.0\n",
      "# HELP jvm_memory_used_bytes The amount of used memory\n",
      "# TYPE jvm_memory_used_bytes gauge\n",
      "jvm_memory_used_bytes{applicationName=\"bro\",area=\"nonheap\",id=\"CodeHeap 'non-nmethods'\",} 1377408.0\n",
      "jvm_memory_used_bytes{applicationName=\"bro\",area=\"nonheap\",id=\"Compressed Class Space\",} 8220768.0\n",
      "jvm_memory_used_bytes{applicationName=\"bro\",area=\"nonheap\",id=\"CodeHeap 'non-profiled nmethods'\",} 4566528.0\n",
      "jvm_memory_used_bytes{applicationName=\"bro\",area=\"heap\",id=\"G1 Old Gen\",} 2.9239296E7\n",
      "jvm_memory_used_bytes{applicationName=\"bro\",area=\"heap\",id=\"G1 Survivor Space\",} 1.1800392E7\n",
      "jvm_memory_used_bytes{applicationName=\"bro\",area=\"heap\",id=\"G1 Eden Space\",} 5.24288E7\n",
      "jvm_memory_used_bytes{applicationName=\"bro\",area=\"nonheap\",id=\"Metaspace\",} 6.4679968E7\n",
      "jvm_memory_used_bytes{applicationName=\"bro\",area=\"nonheap\",id=\"CodeHeap 'profiled nmethods'\",} 1.3705344E7\n",
      "# HELP application_ready_time_seconds Time taken (ms) for the application to be ready to service requests\n",
      "# TYPE application_ready_time_seconds gauge\n",
      "application_ready_time_seconds{applicationName=\"bro\",main_application_class=\"com.ericsson.adp.mgmt.backupandrestore.BackupAndRestoreApplication\",} 13.213\n",
      "# HELP bro_operation_end_time End time of last operation \n",
      "# TYPE bro_operation_end_time gauge\n",
      "bro_operation_end_time{action=\"CREATE_BACKUP\",action_id=\"housekeepingBackupAction\",applicationName=\"bro\",backup_type=\"backupManagerWithoutHousekeepingInfo\",status=\"SUCCESS\",} 1.565623873E9\n",
      "bro_operation_end_time{action=\"CREATE_BACKUP\",action_id=\"v4BackupToDeleteAction\",applicationName=\"bro\",backup_type=\"backupManagerWithBackupToDelete\",status=\"SUCCESS\",} 1.565623873E9\n",
      "# HELP bro_volume_stats_used_bytes Total size of the used space in PVC\n",
      "# TYPE bro_volume_stats_used_bytes gauge\n",
      "bro_volume_stats_used_bytes{applicationName=\"bro\",persistentvolumeclaim=\"backup-data-IE-00002941\",} 6977.0\n",
      "# HELP jvm_gc_memory_promoted_bytes_total Count of positive increases in the size of the old generation memory pool before GC to after GC\n",
      "# TYPE jvm_gc_memory_promoted_bytes_total counter\n",
      "jvm_gc_memory_promoted_bytes_total{applicationName=\"bro\",} 7074816.0\n",
      "# HELP bro_granular_operations_total Counter for number of granular executed operations\n",
      "# TYPE bro_granular_operations_total counter\n",
      "bro_granular_operations_total{action=\"\",agent=\"\",applicationName=\"bro\",backup_type=\"\",status=\"\",} 0.0\n",
      "# HELP bro_disk_usage_bytes Total size of the backup files on disk\n",
      "# TYPE bro_disk_usage_bytes gauge\n",
      "bro_disk_usage_bytes{applicationName=\"bro\",backup_type=\"backupManagerWithBackupToDelete-bro\",} 0.0\n",
      "bro_disk_usage_bytes{applicationName=\"bro\",backup_type=\"backupManagerWithoutHousekeepingInfo-bro\",} 0.0\n",
      "bro_disk_usage_bytes{applicationName=\"bro\",backup_type=\"DEFAULT-bro\",} 0.0\n",
      "bro_disk_usage_bytes{applicationName=\"bro\",backup_type=\"backupManagerWithSchedulerInfo\",} 0.0\n",
      "bro_disk_usage_bytes{applicationName=\"bro\",backup_type=\"backupManagerWithoutHousekeepingInfo\",} 77.0\n",
      "bro_disk_usage_bytes{applicationName=\"bro\",backup_type=\"backupManagerWithBackupToDelete\",} 308.0\n",
      "bro_disk_usage_bytes{applicationName=\"bro\",backup_type=\"backupManagerWithSchedulerInfo-bro\",} 0.0\n",
      "bro_disk_usage_bytes{applicationName=\"bro\",backup_type=\"DEFAULT\",} 0.0\n",
      "# HELP disk_free_bytes Usable space for path\n",
      "# TYPE disk_free_bytes gauge\n",
      "disk_free_bytes{applicationName=\"bro\",path=\"C:\\\\Users\\\\eyicwux\\\\Documents\\\\Ericsson\\\\PlanB\\\\BRO\\\\94930\\\\backupandrestore\\\\service\\\\.\",} 1.61107279872E11\n",
      "# HELP jvm_memory_usage_after_gc_percent The percentage of long-lived heap pool used after the last GC event, in the range [0..1]\n",
      "# TYPE jvm_memory_usage_after_gc_percent gauge\n",
      "jvm_memory_usage_after_gc_percent{applicationName=\"bro\",area=\"heap\",pool=\"long-lived\",} 0.00341976522259014\n",
      "# HELP process_uptime_seconds The uptime of the Java virtual machine\n",
      "# TYPE process_uptime_seconds gauge\n",
      "process_uptime_seconds{applicationName=\"bro\",} 486.87\n",
      "# HELP jvm_threads_live_threads The current number of live threads including both daemon and non-daemon threads\n",
      "# TYPE jvm_threads_live_threads gauge\n",
      "jvm_threads_live_threads{applicationName=\"bro\",} 28.0\n",
      "# HELP bro_volume_stats_available_bytes The amount of free space in PVC\n",
      "# TYPE bro_volume_stats_available_bytes gauge\n",
      "bro_volume_stats_available_bytes{applicationName=\"bro\",persistentvolumeclaim=\"backup-data-IE-00002941\",} 1.6106120383E10\n",
      "# HELP tomcat_sessions_rejected_sessions_total  \n",
      "# TYPE tomcat_sessions_rejected_sessions_total counter\n",
      "tomcat_sessions_rejected_sessions_total{applicationName=\"bro\",} 0.0\n",
      "# HELP bro_operation_info Outcome of last operation\n",
      "# TYPE bro_operation_info gauge\n",
      "bro_operation_info{action=\"CREATE_BACKUP\",action_id=\"housekeepingBackupAction\",additional_info=\"a\",applicationName=\"bro\",backup_name=\"housekeepingBackup\",backup_type=\"backupManagerWithoutHousekeepingInfo\",status=\"SUCCESS\",} 1.0\n",
      "bro_operation_info{action=\"CREATE_BACKUP\",action_id=\"v4BackupToDeleteAction\",additional_info=\"a\",applicationName=\"bro\",backup_name=\"v4BackupToDelete\",backup_type=\"backupManagerWithBackupToDelete\",status=\"SUCCESS\",} 1.0\n",
      "# HELP log4j2_events_total Number of fatal level log events\n",
      "# TYPE log4j2_events_total counter\n",
      "log4j2_events_total{applicationName=\"bro\",level=\"trace\",} 0.0\n",
      "log4j2_events_total{applicationName=\"bro\",level=\"error\",} 0.0\n",
      "log4j2_events_total{applicationName=\"bro\",level=\"debug\",} 0.0\n",
      "log4j2_events_total{applicationName=\"bro\",level=\"warn\",} 0.0\n",
      "log4j2_events_total{applicationName=\"bro\",level=\"fatal\",} 0.0\n",
      "log4j2_events_total{applicationName=\"bro\",level=\"info\",} 22.0\n",
      "# HELP system_cpu_usage The \"recent cpu usage\" of the system the application is running in\n",
      "# TYPE system_cpu_usage gauge\n",
      "system_cpu_usage{applicationName=\"bro\",} 0.15347810838961262\n",
      "# HELP executor_pool_size_threads The current number of threads in the pool\n",
      "# TYPE executor_pool_size_threads gauge\n",
      "executor_pool_size_threads{applicationName=\"bro\",name=\"taskScheduler\",} 1.0\n",
      "executor_pool_size_threads{applicationName=\"bro\",name=\"applicationTaskExecutor\",} 0.0\n",
      "# HELP executor_completed_tasks_total The approximate total number of tasks that have completed execution\n",
      "# TYPE executor_completed_tasks_total counter\n",
      "executor_completed_tasks_total{applicationName=\"bro\",name=\"taskScheduler\",} 108.0\n",
      "executor_completed_tasks_total{applicationName=\"bro\",name=\"applicationTaskExecutor\",} 0.0\n",
      "# HELP executor_pool_core_threads The core number of threads for the pool\n",
      "# TYPE executor_pool_core_threads gauge\n",
      "executor_pool_core_threads{applicationName=\"bro\",name=\"taskScheduler\",} 1.0\n",
      "executor_pool_core_threads{applicationName=\"bro\",name=\"applicationTaskExecutor\",} 8.0\n",
      "# HELP jvm_gc_max_data_size_bytes Max size of long-lived heap memory pool\n",
      "# TYPE jvm_gc_max_data_size_bytes gauge\n",
      "jvm_gc_max_data_size_bytes{applicationName=\"bro\",} 8.550088704E9\n",
      "# HELP bro_http_server_requests_seconds_max  \n",
      "# TYPE bro_http_server_requests_seconds_max gauge\n",
      "bro_http_server_requests_seconds_max{applicationName=\"bro\",exception=\"None\",method=\"GET\",outcome=\"SUCCESS\",status=\"200\",uri=\"/actuator/prometheus\",} 0.8693178\n",
      "bro_http_server_requests_seconds_max{applicationName=\"bro\",exception=\"None\",method=\"GET\",outcome=\"SUCCESS\",status=\"200\",uri=\"/actuator/metrics\",} 0.0584049\n",
      "# HELP bro_http_server_requests_seconds  \n",
      "# TYPE bro_http_server_requests_seconds summary\n",
      "bro_http_server_requests_seconds_count{applicationName=\"bro\",exception=\"None\",method=\"GET\",outcome=\"SUCCESS\",status=\"200\",uri=\"/actuator/prometheus\",} 3.0\n",
      "bro_http_server_requests_seconds_sum{applicationName=\"bro\",exception=\"None\",method=\"GET\",outcome=\"SUCCESS\",status=\"200\",uri=\"/actuator/prometheus\",} 0.9802876\n",
      "bro_http_server_requests_seconds_count{applicationName=\"bro\",exception=\"None\",method=\"GET\",outcome=\"SUCCESS\",status=\"200\",uri=\"/actuator/metrics\",} 1.0\n",
      "bro_http_server_requests_seconds_sum{applicationName=\"bro\",exception=\"None\",method=\"GET\",outcome=\"SUCCESS\",status=\"200\",uri=\"/actuator/metrics\",} 0.0584049\n",
      "# HELP jvm_gc_memory_allocated_bytes_total Incremented for an increase in the size of the (young) heap memory pool after one GC to before the next\n",
      "# TYPE jvm_gc_memory_allocated_bytes_total counter\n",
      "jvm_gc_memory_allocated_bytes_total{applicationName=\"bro\",} 2.64241152E8\n",
      "# HELP executor_queue_remaining_tasks The number of additional elements that this queue can ideally accept without blocking\n",
      "# TYPE executor_queue_remaining_tasks gauge\n",
      "executor_queue_remaining_tasks{applicationName=\"bro\",name=\"taskScheduler\",} 2.147483647E9\n",
      "executor_queue_remaining_tasks{applicationName=\"bro\",name=\"applicationTaskExecutor\",} 2.147483647E9\n",
      "# HELP jvm_threads_peak_threads The peak live thread count since the Java virtual machine started or peak was reset\n",
      "# TYPE jvm_threads_peak_threads gauge\n",
      "jvm_threads_peak_threads{applicationName=\"bro\",} 28.0\n",
      "# HELP bro_stored_backups Number of backups stored in BRO\n",
      "# TYPE bro_stored_backups gauge\n",
      "bro_stored_backups{applicationName=\"bro\",backup_type=\"backupManagerWithBackupToDelete-bro\",} 0.0\n",
      "bro_stored_backups{applicationName=\"bro\",backup_type=\"backupManagerWithoutHousekeepingInfo-bro\",} 0.0\n",
      "bro_stored_backups{applicationName=\"bro\",backup_type=\"DEFAULT-bro\",} 0.0\n",
      "bro_stored_backups{applicationName=\"bro\",backup_type=\"backupManagerWithSchedulerInfo\",} 0.0\n",
      "bro_stored_backups{applicationName=\"bro\",backup_type=\"backupManagerWithoutHousekeepingInfo\",} 1.0\n",
      "bro_stored_backups{applicationName=\"bro\",backup_type=\"backupManagerWithBackupToDelete\",} 6.0\n",
      "bro_stored_backups{applicationName=\"bro\",backup_type=\"backupManagerWithSchedulerInfo-bro\",} 0.0\n",
      "bro_stored_backups{applicationName=\"bro\",backup_type=\"DEFAULT\",} 0.0\n",
      "# HELP tomcat_sessions_active_max_sessions  \n",
      "# TYPE tomcat_sessions_active_max_sessions gauge\n",
      "tomcat_sessions_active_max_sessions{applicationName=\"bro\",} 0.0\n",
      "# HELP jvm_buffer_total_capacity_bytes An estimate of the total capacity of the buffers in this pool\n",
      "# TYPE jvm_buffer_total_capacity_bytes gauge\n",
      "jvm_buffer_total_capacity_bytes{applicationName=\"bro\",id=\"mapped - 'non-volatile memory'\",} 0.0\n",
      "jvm_buffer_total_capacity_bytes{applicationName=\"bro\",id=\"direct\",} 49152.0\n",
      "jvm_buffer_total_capacity_bytes{applicationName=\"bro\",id=\"mapped\",} 0.0\n",
      "# HELP jvm_threads_states_threads The current number of threads having NEW state\n",
      "# TYPE jvm_threads_states_threads gauge\n",
      "jvm_threads_states_threads{applicationName=\"bro\",state=\"runnable\",} 10.0\n",
      "jvm_threads_states_threads{applicationName=\"bro\",state=\"timed-waiting\",} 7.0\n",
      "jvm_threads_states_threads{applicationName=\"bro\",state=\"waiting\",} 11.0\n",
      "jvm_threads_states_threads{applicationName=\"bro\",state=\"blocked\",} 0.0\n",
      "jvm_threads_states_threads{applicationName=\"bro\",state=\"new\",} 0.0\n",
      "jvm_threads_states_threads{applicationName=\"bro\",state=\"terminated\",} 0.0\n",
      "# HELP process_cpu_usage The \"recent cpu usage\" for the Java Virtual Machine process\n",
      "# TYPE process_cpu_usage gauge\n",
      "process_cpu_usage{applicationName=\"bro\",} 0.003317836365542032\n",
      "\n"
     ]
    }
   ],
   "source": [
    "print(result.text)"
   ]
  },
  {
   "cell_type": "code",
   "execution_count": null,
   "id": "billion-reception",
   "metadata": {},
   "outputs": [],
   "source": []
  }
 ],
 "metadata": {
  "kernelspec": {
   "display_name": "Python 3",
   "language": "python",
   "name": "python3"
  },
  "language_info": {
   "codemirror_mode": {
    "name": "ipython",
    "version": 3
   },
   "file_extension": ".py",
   "mimetype": "text/x-python",
   "name": "python",
   "nbconvert_exporter": "python",
   "pygments_lexer": "ipython3",
   "version": "3.8.10"
  }
 },
 "nbformat": 4,
 "nbformat_minor": 5
}
