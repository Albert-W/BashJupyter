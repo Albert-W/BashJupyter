{
 "cells": [
  {
   "cell_type": "code",
   "execution_count": 1,
   "id": "split-stretch",
   "metadata": {},
   "outputs": [],
   "source": [
    "import requests as r\n",
    "baseurl = 'http://localhost:7001'"
   ]
  },
  {
   "cell_type": "code",
   "execution_count": 2,
   "id": "dependent-rainbow",
   "metadata": {},
   "outputs": [],
   "source": [
    "baseurl = 'http://10.120.217.249:7001'"
   ]
  },
  {
   "cell_type": "markdown",
   "id": "promotional-saint",
   "metadata": {},
   "source": [
    "### housekeeping"
   ]
  },
  {
   "cell_type": "code",
   "execution_count": 10,
   "id": "freelance-plenty",
   "metadata": {},
   "outputs": [
    {
     "data": {
      "text/plain": [
       "'{\"statusCode\":404,\"message\":\"Request was unsuccessful as Backup Manager <Default> was not found\"}'"
      ]
     },
     "execution_count": 10,
     "metadata": {},
     "output_type": "execute_result"
    }
   ],
   "source": [
    "result = r.get(baseurl+'/backup-restore/v4alpha1/backup-managers/Default/configuration/housekeeping')\n",
    "result.text"
   ]
  },
  {
   "cell_type": "code",
   "execution_count": 15,
   "id": "cutting-lexington",
   "metadata": {},
   "outputs": [
    {
     "data": {
      "text/plain": [
       "{'maxStoredBackups': 1, 'autoDelete': 'enabled'}"
      ]
     },
     "execution_count": 15,
     "metadata": {},
     "output_type": "execute_result"
    }
   ],
   "source": [
    "result = r.get(baseurl+'/backup-restore/v4alpha1/backup-managers/DEFAULT/configuration/housekeeping')\n",
    "result.json()"
   ]
  },
  {
   "cell_type": "markdown",
   "id": "adjustable-horizon",
   "metadata": {},
   "source": [
    "### Put"
   ]
  },
  {
   "cell_type": "code",
   "execution_count": 68,
   "id": "pursuant-cloud",
   "metadata": {},
   "outputs": [
    {
     "data": {
      "text/plain": [
       "'{\"statusCode\":400,\"message\":\"JSON parse error: Missing required creator property \\'autoDelete\\' (index 0); nested exception is com.fasterxml.jackson.databind.exc.MismatchedInputException: Missing required creator property \\'autoDelete\\' (index 0)\\\\n at [Source: (PushbackInputStream); line: 1, column: 59] (through reference chain: com.ericsson.adp.mgmt.backupandrestore.rest.action.V4UpdateHousekeepingRequest[\\\\\"autoDelete\\\\\"])\"}'"
      ]
     },
     "execution_count": 68,
     "metadata": {},
     "output_type": "execute_result"
    }
   ],
   "source": [
    "url = baseurl + '/backup-restore/v4alpha1/backup-managers/Default/configuration/housekeeping'\n",
    "body ={\n",
    "      \"auto-delete\": \"enabled\",\n",
    "      \"max-stored-manual-backups\": 10\n",
    "    }\n",
    "result = r.put(url, json = body)\n",
    "result.text"
   ]
  },
  {
   "cell_type": "code",
   "execution_count": 133,
   "id": "lucky-spotlight",
   "metadata": {},
   "outputs": [
    {
     "data": {
      "text/plain": [
       "'{\"id\":\"1900\"}'"
      ]
     },
     "execution_count": 133,
     "metadata": {},
     "output_type": "execute_result"
    }
   ],
   "source": [
    "url = baseurl + '/backup-restore/v4alpha1/backup-managers/DEFAULT/configuration/housekeeping'\n",
    "body ={\n",
    "        \"autoDelete\": \"disabled\",\n",
    "        \"maxStoredManualBackups\": 12\n",
    "    }\n",
    "result = r.put(url, json = body)\n",
    "result.text"
   ]
  },
  {
   "cell_type": "code",
   "execution_count": 70,
   "id": "accepting-snake",
   "metadata": {},
   "outputs": [
    {
     "data": {
      "text/plain": [
       "'{\"statusCode\":400,\"message\":\"JSON parse error: Missing required creator property \\'autoDelete\\' (index 0); nested exception is com.fasterxml.jackson.databind.exc.MismatchedInputException: Missing required creator property \\'autoDelete\\' (index 0)\\\\n at [Source: (PushbackInputStream); line: 1, column: 30] (through reference chain: com.ericsson.adp.mgmt.backupandrestore.rest.action.V4UpdateHousekeepingRequest[\\\\\"autoDelete\\\\\"])\"}'"
      ]
     },
     "execution_count": 70,
     "metadata": {},
     "output_type": "execute_result"
    }
   ],
   "source": [
    "url = baseurl + '/backup-restore/v4alpha1/backup-managers/DEFAULT/configuration/housekeeping'\n",
    "body ={\n",
    "        \"maxStoredManualBackups\": 10\n",
    "    }\n",
    "result = r.put(url, json = body)\n",
    "result.text"
   ]
  },
  {
   "cell_type": "code",
   "execution_count": 71,
   "id": "english-parts",
   "metadata": {},
   "outputs": [
    {
     "data": {
      "text/plain": [
       "'{\"statusCode\":400,\"message\":\"JSON parse error: Missing required creator property \\'maxStoredManualBackups\\' (index 1); nested exception is com.fasterxml.jackson.databind.exc.MismatchedInputException: Missing required creator property \\'maxStoredManualBackups\\' (index 1)\\\\n at [Source: (PushbackInputStream); line: 1, column: 56] (through reference chain: com.ericsson.adp.mgmt.backupandrestore.rest.action.V4UpdateHousekeepingRequest[\\\\\"maxStoredManualBackups\\\\\"])\"}'"
      ]
     },
     "execution_count": 71,
     "metadata": {},
     "output_type": "execute_result"
    }
   ],
   "source": [
    "url = baseurl + '/backup-restore/v4alpha1/backup-managers/DEFAULT/configuration/housekeeping'\n",
    "body ={\n",
    "    \"autoDelete\": \"enabled\",\n",
    "        \"maxStoredManualBackupsx\": 13,\n",
    "    }\n",
    "result = r.put(url, json = body)\n",
    "result.text"
   ]
  },
  {
   "cell_type": "code",
   "execution_count": 78,
   "id": "skilled-firmware",
   "metadata": {},
   "outputs": [
    {
     "data": {
      "text/plain": [
       "'{\"id\":\"26749\"}'"
      ]
     },
     "execution_count": 78,
     "metadata": {},
     "output_type": "execute_result"
    }
   ],
   "source": [
    "url = baseurl + '/backup-restore/v4alpha1/backup-managers/DEFAULT/configuration/housekeeping'\n",
    "body ={\n",
    "    \"autoDelete\": \"enabled\",\n",
    "        \"maxStoredManualBackups\": 13,\n",
    "    }\n",
    "result = r.put(url, json = body)\n",
    "result.text"
   ]
  },
  {
   "cell_type": "code",
   "execution_count": 75,
   "id": "satisfactory-cloud",
   "metadata": {},
   "outputs": [
    {
     "data": {
      "text/plain": [
       "'{\"id\":\"55541\"}'"
      ]
     },
     "execution_count": 75,
     "metadata": {},
     "output_type": "execute_result"
    }
   ],
   "source": [
    "url = baseurl + '/backup-restore/v4alpha1/backup-managers/DEFAULT/configuration/housekeeping'\n",
    "body ={\n",
    "    \"autoDelete\": \"enabled\",\n",
    "        \"maxStoredManualBackups\": 13,\n",
    "    \"x\":\"y\"\n",
    "    }\n",
    "result = r.put(url, json = body)\n",
    "result.text"
   ]
  },
  {
   "cell_type": "code",
   "execution_count": 76,
   "id": "consecutive-pound",
   "metadata": {},
   "outputs": [
    {
     "data": {
      "text/plain": [
       "'{\"statusCode\":400,\"message\":\"JSON parse error: Missing required creator property \\'autoDelete\\' (index 0); nested exception is com.fasterxml.jackson.databind.exc.MismatchedInputException: Missing required creator property \\'autoDelete\\' (index 0)\\\\n at [Source: (PushbackInputStream); line: 1, column: 69] (through reference chain: com.ericsson.adp.mgmt.backupandrestore.rest.action.V4UpdateHousekeepingRequest[\\\\\"autoDelete\\\\\"])\"}'"
      ]
     },
     "execution_count": 76,
     "metadata": {},
     "output_type": "execute_result"
    }
   ],
   "source": [
    "url = baseurl + '/backup-restore/v4alpha1/backup-managers/DEFAULT/configuration/housekeeping'\n",
    "body ={\n",
    "    \"auto-delete\": \"enabled\",\n",
    "        \"max-stored-manual-backups\": 13,\n",
    "    \"x\":\"y\"\n",
    "    }\n",
    "result = r.put(url, json = body)\n",
    "result.text"
   ]
  },
  {
   "cell_type": "code",
   "execution_count": 77,
   "id": "continent-titanium",
   "metadata": {},
   "outputs": [
    {
     "data": {
      "text/plain": [
       "'{\"statusCode\":400,\"message\":\"JSON parse error: Missing required creator property \\'maxStoredManualBackups\\' (index 1); nested exception is com.fasterxml.jackson.databind.exc.MismatchedInputException: Missing required creator property \\'maxStoredManualBackups\\' (index 1)\\\\n at [Source: (PushbackInputStream); line: 1, column: 68] (through reference chain: com.ericsson.adp.mgmt.backupandrestore.rest.action.V4UpdateHousekeepingRequest[\\\\\"maxStoredManualBackups\\\\\"])\"}'"
      ]
     },
     "execution_count": 77,
     "metadata": {},
     "output_type": "execute_result"
    }
   ],
   "source": [
    "url = baseurl + '/backup-restore/v4alpha1/backup-managers/DEFAULT/configuration/housekeeping'\n",
    "body ={\n",
    "    \"autoDelete\": \"enabled\",\n",
    "        \"max-stored-manual-backups\": 13,\n",
    "    \"x\":\"y\"\n",
    "    }\n",
    "result = r.put(url, json = body)\n",
    "result.text"
   ]
  },
  {
   "cell_type": "markdown",
   "id": "harmful-generic",
   "metadata": {},
   "source": [
    "### Patch"
   ]
  },
  {
   "cell_type": "code",
   "execution_count": 123,
   "id": "threatened-orbit",
   "metadata": {},
   "outputs": [
    {
     "data": {
      "text/plain": [
       "'{\"id\":\"50190\"}'"
      ]
     },
     "execution_count": 123,
     "metadata": {},
     "output_type": "execute_result"
    }
   ],
   "source": [
    "url = baseurl + '/backup-restore/v4alpha1/backup-managers/DEFAULT/configuration/housekeeping'\n",
    "body ={\n",
    "    \"autoDelete\": \"disabled\"\n",
    "    }\n",
    "result = r.patch(url, json = body)\n",
    "result.text"
   ]
  },
  {
   "cell_type": "code",
   "execution_count": 127,
   "id": "shared-hierarchy",
   "metadata": {},
   "outputs": [
    {
     "data": {
      "text/plain": [
       "'{\"id\":\"15848\"}'"
      ]
     },
     "execution_count": 127,
     "metadata": {},
     "output_type": "execute_result"
    }
   ],
   "source": [
    "url = baseurl + '/backup-restore/v4alpha1/backup-managers/DEFAULT/configuration/housekeeping'\n",
    "body ={\n",
    "    \"autoDelete\": \"enabled\",\n",
    "    \"maxStoredManualBackups\": 17\n",
    "    }\n",
    "result = r.patch(url, json = body)\n",
    "result.text"
   ]
  },
  {
   "cell_type": "markdown",
   "id": "exclusive-columbia",
   "metadata": {},
   "source": [
    "### Scheduling"
   ]
  },
  {
   "cell_type": "code",
   "execution_count": 82,
   "id": "ceramic-swiss",
   "metadata": {},
   "outputs": [
    {
     "data": {
      "text/plain": [
       "'{\"statusCode\":404,\"message\":\"Request was unsuccessful as Backup Manager <Default> was not found\"}'"
      ]
     },
     "execution_count": 82,
     "metadata": {},
     "output_type": "execute_result"
    }
   ],
   "source": [
    "result = r.get(baseurl+'/backup-restore/v4alpha1/backup-managers/Default/configuration/scheduling')\n",
    "result.text"
   ]
  },
  {
   "cell_type": "code",
   "execution_count": 89,
   "id": "expressed-growth",
   "metadata": {},
   "outputs": [
    {
     "data": {
      "text/plain": [
       "'{\"adminState\":\"UNLOCKED\",\"mostRecentlyCreatedAutoBackup\":\"SCHEDULED_BACKUP-2021-11-29T10:17:07.904609Z\",\"nextScheduledTime\":\"2021-11-29T10:27:07.8983925Z\",\"scheduledBackupName\":\"SCHEDULED_BACKUP\",\"autoExport\":\"DISABLED\",\"autoExportPassword\":\"\",\"autoExportUri\":null}'"
      ]
     },
     "execution_count": 89,
     "metadata": {},
     "output_type": "execute_result"
    }
   ],
   "source": [
    "result = r.get(baseurl+'/v3/backup-managers/DEFAULT/scheduler')\n",
    "result.text"
   ]
  },
  {
   "cell_type": "code",
   "execution_count": 140,
   "id": "comfortable-walter",
   "metadata": {},
   "outputs": [
    {
     "data": {
      "text/plain": [
       "'{\"adminState\":\"UNLOCKED\",\"mostRecentlyCreatedAutoBackup\":null,\"nextScheduledTime\":null,\"autoExport\":\"DISABLED\",\"autoExportPassword\":\"\",\"autoExportUri\":null,\"scheduledBackupNamePrefix\":\"SCHEDULED_BACKUP\"}'"
      ]
     },
     "execution_count": 140,
     "metadata": {},
     "output_type": "execute_result"
    }
   ],
   "source": [
    "result = r.get(baseurl+'/backup-restore/v4alpha1/backup-managers/DEFAULT/configuration/scheduling')\n",
    "result.text"
   ]
  },
  {
   "cell_type": "markdown",
   "id": "typical-research",
   "metadata": {},
   "source": [
    "#### put"
   ]
  },
  {
   "cell_type": "code",
   "execution_count": 109,
   "id": "alert-auckland",
   "metadata": {},
   "outputs": [
    {
     "data": {
      "text/plain": [
       "'{\"adminState\":\"UNLOCKED\",\"mostRecentlyCreatedAutoBackup\":\"my-scheduled-backup-name-2021-11-29T11:07:07.7251446Z\",\"nextScheduledTime\":\"2021-11-29T11:27:07.3513653Z\",\"scheduledBackupName\":\"my-scheduled-backup-name\",\"autoExport\":\"DISABLED\",\"autoExportPassword\":\"\",\"autoExportUri\":\"\"}'"
      ]
     },
     "execution_count": 109,
     "metadata": {},
     "output_type": "execute_result"
    }
   ],
   "source": [
    "url = baseurl + '/backup-restore/v4alpha1/backup-managers/DEFAULT/configuration/scheduling'\n",
    "body ={\n",
    "  \"adminState\": \"UNLOCKED\",\n",
    "  \"scheduledBackupNamePrefix\": \"my-scheduled-backup-name\",\n",
    "  \"autoExport\": \"DISABLED\",\n",
    "  \"autoExportPassword\": \"\",\n",
    "  \"autoExportUri\": \"\"\n",
    "}\n",
    "result = r.put(url, json = body)\n",
    "result.text"
   ]
  },
  {
   "cell_type": "code",
   "execution_count": 96,
   "id": "remarkable-headset",
   "metadata": {},
   "outputs": [
    {
     "data": {
      "text/plain": [
       "'{\"adminState\":\"UNLOCKED\",\"mostRecentlyCreatedAutoBackup\":\"SCHEDULED_BACKUP-2021-11-29T10:47:07.9723777Z\",\"nextScheduledTime\":\"2021-11-29T11:07:07.9715326Z\",\"scheduledBackupName\":\"my-scheduled-backup-name\",\"autoExport\":\"DISABLED\",\"autoExportPassword\":\"\",\"autoExportUri\":\"\"}'"
      ]
     },
     "execution_count": 96,
     "metadata": {},
     "output_type": "execute_result"
    }
   ],
   "source": [
    "url = baseurl + '/backup-restore/v4alpha1/backup-managers/DEFAULT/configuration/scheduling'\n",
    "body ={\n",
    "  \"adminState\": \"UNLOCKED\"\n",
    "}\n",
    "result = r.put(url, json = body)\n",
    "result.text"
   ]
  },
  {
   "cell_type": "code",
   "execution_count": 97,
   "id": "aerial-trinity",
   "metadata": {},
   "outputs": [
    {
     "data": {
      "text/plain": [
       "'{\"adminState\":\"LOCKED\",\"mostRecentlyCreatedAutoBackup\":\"SCHEDULED_BACKUP-2021-11-29T10:47:07.9723777Z\",\"nextScheduledTime\":\"2021-11-29T11:07:07.9715326Z\",\"scheduledBackupName\":\"my-scheduled-backup-name\",\"autoExport\":\"DISABLED\",\"autoExportPassword\":\"\",\"autoExportUri\":\"\"}'"
      ]
     },
     "execution_count": 97,
     "metadata": {},
     "output_type": "execute_result"
    }
   ],
   "source": [
    "url = baseurl + '/backup-restore/v4alpha1/backup-managers/DEFAULT/configuration/scheduling'\n",
    "body ={\n",
    "  \"adminState\": \"LOCKED\"\n",
    "}\n",
    "result = r.put(url, json = body)\n",
    "result.text"
   ]
  },
  {
   "cell_type": "code",
   "execution_count": 98,
   "id": "ranking-ceremony",
   "metadata": {},
   "outputs": [
    {
     "data": {
      "text/plain": [
       "'{\"adminState\":\"UNLOCKED\",\"mostRecentlyCreatedAutoBackup\":\"SCHEDULED_BACKUP-2021-11-29T10:47:07.9723777Z\",\"nextScheduledTime\":null,\"scheduledBackupName\":\"my-scheduled-backup-name\",\"autoExport\":\"DISABLED\",\"autoExportPassword\":\"\",\"autoExportUri\":\"\"}'"
      ]
     },
     "execution_count": 98,
     "metadata": {},
     "output_type": "execute_result"
    }
   ],
   "source": [
    "url = baseurl + '/backup-restore/v4alpha1/backup-managers/DEFAULT/configuration/scheduling'\n",
    "body ={\n",
    "  \"adminState\": \"UNLOCKED\"\n",
    "}\n",
    "result = r.patch(url, json = body)\n",
    "result.text"
   ]
  },
  {
   "cell_type": "markdown",
   "id": "driven-disabled",
   "metadata": {},
   "source": [
    "### Periodic-Schedules"
   ]
  },
  {
   "cell_type": "code",
   "execution_count": 12,
   "id": "united-guatemala",
   "metadata": {},
   "outputs": [
    {
     "data": {
      "text/plain": [
       "'{\"schedules\":[]}'"
      ]
     },
     "execution_count": 12,
     "metadata": {},
     "output_type": "execute_result"
    }
   ],
   "source": [
    "result = r.get(baseurl+'/backup-restore/v4alpha1/backup-managers/DEFAULT/periodic-schedules')\n",
    "result.text"
   ]
  },
  {
   "cell_type": "markdown",
   "id": "valued-short",
   "metadata": {},
   "source": [
    "#### post"
   ]
  },
  {
   "cell_type": "code",
   "execution_count": 138,
   "id": "united-survivor",
   "metadata": {},
   "outputs": [
    {
     "data": {
      "text/plain": [
       "'{\"timestamp\":\"2021-12-02T14:17:48.382+00:00\",\"status\":405,\"error\":\"Method Not Allowed\",\"path\":\"/backup-restore/v4alpha1/backup-managers/DEFAULT/periodic-schedules\"}'"
      ]
     },
     "execution_count": 138,
     "metadata": {},
     "output_type": "execute_result"
    }
   ],
   "source": [
    "url = baseurl + '/backup-restore/v4alpha1/backup-managers/DEFAULT/periodic-schedules'\n",
    "body ={\n",
    "  \"weeks\": 1,\n",
    "  \"hours\": 10\n",
    "}\n",
    "result = r.post(url, json = body)\n",
    "result.text"
   ]
  },
  {
   "cell_type": "code",
   "execution_count": 102,
   "id": "wrapped-piece",
   "metadata": {},
   "outputs": [
    {
     "data": {
      "text/plain": [
       "'{\"startTime\":\"2021-11-29T11:01:50.7698194Z\",\"minutes\":0,\"hours\":10,\"days\":0,\"weeks\":1,\"id\":\"11014\"}'"
      ]
     },
     "execution_count": 102,
     "metadata": {},
     "output_type": "execute_result"
    }
   ],
   "source": [
    "result = r.get(baseurl+'/backup-restore/v4alpha1/backup-managers/DEFAULT/periodic-schedules/11014')\n",
    "result.text"
   ]
  },
  {
   "cell_type": "markdown",
   "id": "functional-harrison",
   "metadata": {},
   "source": [
    "#### delete"
   ]
  },
  {
   "cell_type": "code",
   "execution_count": 103,
   "id": "retired-washington",
   "metadata": {},
   "outputs": [
    {
     "data": {
      "text/plain": [
       "''"
      ]
     },
     "execution_count": 103,
     "metadata": {},
     "output_type": "execute_result"
    }
   ],
   "source": [
    "result = r.delete(baseurl+'/backup-restore/v4alpha1/backup-managers/DEFAULT/periodic-schedules/11014')\n",
    "result.text"
   ]
  },
  {
   "cell_type": "markdown",
   "id": "assisted-priest",
   "metadata": {},
   "source": [
    "### put"
   ]
  },
  {
   "cell_type": "code",
   "execution_count": 106,
   "id": "cosmetic-cursor",
   "metadata": {},
   "outputs": [
    {
     "data": {
      "text/plain": [
       "'{\"startTime\":\"2008-09-15T15:54:00Z\",\"stopTime\":\"2008-09-18T15:54:00Z\",\"minutes\":5,\"hours\":10,\"days\":3,\"weeks\":1,\"id\":\"36114\"}'"
      ]
     },
     "execution_count": 106,
     "metadata": {},
     "output_type": "execute_result"
    }
   ],
   "source": [
    "url = baseurl + '/backup-restore/v4alpha1/backup-managers/DEFAULT/periodic-schedules/36114'\n",
    "body ={\n",
    "  \"days\": 3,\n",
    "  \"hours\": 10,\n",
    "  \"minutes\": 5,\n",
    "  \"weeks\": 1,\n",
    "  \"startTime\": \"2008-09-15T15:54:00Z\",\n",
    "  \"stopTime\": \"2008-09-18T15:54:00Z\"\n",
    "}\n",
    "result = r.put(url, json = body)\n",
    "result.text"
   ]
  },
  {
   "cell_type": "code",
   "execution_count": 107,
   "id": "subtle-spectacular",
   "metadata": {},
   "outputs": [
    {
     "data": {
      "text/plain": [
       "'{\"startTime\":\"2008-09-15T15:54:00Z\",\"stopTime\":\"2008-09-18T15:54:00Z\",\"minutes\":5,\"hours\":10,\"days\":3,\"weeks\":1,\"id\":\"36114\"}'"
      ]
     },
     "execution_count": 107,
     "metadata": {},
     "output_type": "execute_result"
    }
   ],
   "source": [
    "url = baseurl + '/backup-restore/v4alpha1/backup-managers/DEFAULT/periodic-schedules/36114'\n",
    "body ={\n",
    "  \"days\": 3,\n",
    "  \"hours\": 10,\n",
    "  \"minutes\": 5,\n",
    "  \"weeks\": 1,\n",
    "  \"stopTime\": \"2008-09-18T15:54:00Z\"\n",
    "}\n",
    "result = r.put(url, json = body)\n",
    "result.text"
   ]
  },
  {
   "cell_type": "markdown",
   "id": "developmental-import",
   "metadata": {},
   "source": [
    "#### patch"
   ]
  },
  {
   "cell_type": "code",
   "execution_count": 108,
   "id": "afraid-desperate",
   "metadata": {},
   "outputs": [
    {
     "data": {
      "text/plain": [
       "'{\"timestamp\":\"2021-11-29T11:06:14.404+00:00\",\"status\":405,\"error\":\"Method Not Allowed\",\"path\":\"/backup-restore/v4alpha1/backup-managers/DEFAULT/periodic-schedules/36114\"}'"
      ]
     },
     "execution_count": 108,
     "metadata": {},
     "output_type": "execute_result"
    }
   ],
   "source": [
    "url = baseurl + '/backup-restore/v4alpha1/backup-managers/DEFAULT/periodic-schedules/36114'\n",
    "body ={\n",
    "  \"days\": 3,\n",
    "  \"hours\": 10,\n",
    "  \"minutes\": 5,\n",
    "  \"weeks\": 1,\n",
    "  \"stopTime\": \"2008-09-18T15:54:00Z\"\n",
    "}\n",
    "result = r.patch(url, json = body)\n",
    "result.text"
   ]
  },
  {
   "cell_type": "code",
   "execution_count": null,
   "id": "informed-reviewer",
   "metadata": {},
   "outputs": [],
   "source": []
  }
 ],
 "metadata": {
  "kernelspec": {
   "display_name": "Python 3",
   "language": "python",
   "name": "python3"
  },
  "language_info": {
   "codemirror_mode": {
    "name": "ipython",
    "version": 3
   },
   "file_extension": ".py",
   "mimetype": "text/x-python",
   "name": "python",
   "nbconvert_exporter": "python",
   "pygments_lexer": "ipython3",
   "version": "3.8.10"
  }
 },
 "nbformat": 4,
 "nbformat_minor": 5
}
