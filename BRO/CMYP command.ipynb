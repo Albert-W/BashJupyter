{
 "cells": [
  {
   "cell_type": "markdown",
   "id": "gentle-absorption",
   "metadata": {},
   "source": [
    "# Prepare CMYP"
   ]
  },
  {
   "cell_type": "code",
   "execution_count": 1,
   "id": "combined-tackle",
   "metadata": {},
   "outputs": [],
   "source": [
    "import requests\n",
    "import json"
   ]
  },
  {
   "cell_type": "code",
   "execution_count": 2,
   "id": "agricultural-major",
   "metadata": {},
   "outputs": [],
   "source": [
    "CMYP_USER = \"brocmyp\"\n",
    "CMYP_PSW = \"TeamPlanBYang$1\""
   ]
  },
  {
   "cell_type": "markdown",
   "id": "later-gnome",
   "metadata": {},
   "source": [
    "kubectl -n eyicwux-test port-forward eric-sec-access-mgmt-0 8443:8443\n",
    "\n",
    "only localhost can pass the https security check. "
   ]
  },
  {
   "cell_type": "code",
   "execution_count": 3,
   "id": "removed-viewer",
   "metadata": {},
   "outputs": [],
   "source": [
    "def prepare_cmyp():\n",
    "    \"\"\"\n",
    "    Prepare the cmyp user and connect to the cmyp server\n",
    "    \"\"\"\n",
    "    # Create the cmyp user in LDAP via IAM\n",
    "    token_query_url = ('https://localhost:8443/auth/realms/master/protocol/openid-connect/token')\n",
    "    token_request_data = {'grant_type': 'password', 'username': 'adminplanb',\n",
    "                          'password': 'kcpwplanb', 'client_id': 'admin-cli'}\n",
    "    token_request_headers = {'content-type':\n",
    "                             'application/x-www-form-urlencoded'}\n",
    "    # Query the endpoint for the token\n",
    "    token_request_response = requests.post(\n",
    "        token_query_url, data=token_request_data, headers=token_request_headers,\n",
    "        verify=False)\n",
    "    token = json.loads(token_request_response.text)['access_token']\n",
    "    user_creation_query_url = ('https://localhost:8443/'\n",
    "                               'auth/admin/realms/local-ldap3/users')\n",
    "    user_creation_request_data = {\n",
    "        \"username\": CMYP_USER,\n",
    "        \"enabled\": \"true\",\n",
    "        \"credentials\": [\n",
    "            {\n",
    "                \"type\": \"password\",\n",
    "                \"value\": CMYP_PSW\n",
    "            }\n",
    "        ],\n",
    "        \"attributes\": {\n",
    "            \"uidNumber\": [\"710\"],\n",
    "            \"roles\": [\"system-admin\"],\n",
    "            \"pwdReset\": [\"FALSE\"]\n",
    "        }\n",
    "    }\n",
    "    user_creation_headers = {'content-type': 'application/json',\n",
    "                             'Authorization': ''}\n",
    "    user_creation_headers['Authorization'] = 'bearer ' + token\n",
    "    # Send the create user request\n",
    "    requests.post(\n",
    "        user_creation_query_url, json=user_creation_request_data,\n",
    "        headers=user_creation_headers, verify=False)"
   ]
  },
  {
   "cell_type": "code",
   "execution_count": 75,
   "id": "cardiovascular-myrtle",
   "metadata": {},
   "outputs": [
    {
     "name": "stderr",
     "output_type": "stream",
     "text": [
      "/home/ubuntu/.local/lib/python3.8/site-packages/urllib3/connectionpool.py:842: InsecureRequestWarning: Unverified HTTPS request is being made. Adding certificate verification is strongly advised. See: https://urllib3.readthedocs.io/en/latest/advanced-usage.html#ssl-warnings\n",
      "  warnings.warn((\n",
      "/home/ubuntu/.local/lib/python3.8/site-packages/urllib3/connectionpool.py:842: InsecureRequestWarning: Unverified HTTPS request is being made. Adding certificate verification is strongly advised. See: https://urllib3.readthedocs.io/en/latest/advanced-usage.html#ssl-warnings\n",
      "  warnings.warn((\n"
     ]
    }
   ],
   "source": [
    "prepare_cmyp()"
   ]
  },
  {
   "cell_type": "markdown",
   "id": "armed-characterization",
   "metadata": {},
   "source": [
    "# Set up the connection\n",
    "\n",
    "kubectl -n eyicwux-test expose svc eric-cm-yang-provider --name=cmyp-svc --port=2222 --target-port=2222 --type=LoadBalancer"
   ]
  },
  {
   "cell_type": "code",
   "execution_count": 5,
   "id": "adjacent-function",
   "metadata": {},
   "outputs": [],
   "source": [
    "import paramiko\n",
    "import os\n",
    "import sys\n",
    "import select\n",
    "import time "
   ]
  },
  {
   "cell_type": "code",
   "execution_count": 6,
   "id": "explicit-firewall",
   "metadata": {},
   "outputs": [],
   "source": [
    "class SSHShell:\n",
    "    def __init__(self, host, user, psw, port):\n",
    "        self.ssh = paramiko.SSHClient()\n",
    "        self.ssh.set_missing_host_key_policy(paramiko.AutoAddPolicy())\n",
    "        self.ssh.connect(host, username=user, password=psw, port=port, timeout=2)\n",
    "        self.refresh()\n",
    "\n",
    "    def __del__(self):\n",
    "        self.ssh.close()\n",
    "    \n",
    "    def refresh(self):\n",
    "        self.channel = self.ssh.invoke_shell()\n",
    "        self.stdin = self.channel.makefile('wb')\n",
    "        self.stdout = self.channel.makefile('r')    \n",
    "\n",
    "    def execute(self, cmd):\n",
    "        cmd = cmd.strip('\\n')\n",
    "        self.stdin.write(cmd + '\\n')\n",
    "        self.stdin.flush()\n",
    "        time.sleep(0.5)\n",
    "        while self.stdout.channel.recv_ready():\n",
    "            rl, wl, xl = select.select([ self.stdout.channel ], [ ], [ ])\n",
    "            if len(rl) > 0:\n",
    "                tmp = self.stdout.channel.recv(1024)\n",
    "                output = tmp.decode()\n",
    "                print(output)"
   ]
  },
  {
   "cell_type": "code",
   "execution_count": 76,
   "id": "interstate-exception",
   "metadata": {},
   "outputs": [],
   "source": [
    "CLI = SSHShell(\"10.120.217.249\", \"brocmyp\", \"TeamPlanBYang$1\", 2222)"
   ]
  },
  {
   "cell_type": "markdown",
   "id": "labeled-tobago",
   "metadata": {},
   "source": [
    "ssh -p 2222 -t brocmyp@10.120.217.249     \n",
    "planbyang"
   ]
  },
  {
   "cell_type": "code",
   "execution_count": 77,
   "id": "completed-produce",
   "metadata": {
    "scrolled": true
   },
   "outputs": [
    {
     "name": "stdout",
     "output_type": "stream",
     "text": [
      "Welcome\r\n",
      "Last login time: Fri Sep 16 17:23:53 2022\r\n",
      "brocmyp connected from 10.120.217.52 using ssh on @\r\n",
      "\u001b[?7hbrocmyp@#screen-length 100\r\n",
      "brocmyp@#\n"
     ]
    }
   ],
   "source": [
    "CLI.execute('screen-length 100')"
   ]
  },
  {
   "cell_type": "code",
   "execution_count": 78,
   "id": "olympic-petite",
   "metadata": {},
   "outputs": [
    {
     "name": "stdout",
     "output_type": "stream",
     "text": [
      "autowizard false\r\n",
      "brocmyp@#\n"
     ]
    }
   ],
   "source": [
    "CLI.execute('autowizard false')"
   ]
  },
  {
   "cell_type": "markdown",
   "id": "human-karma",
   "metadata": {},
   "source": [
    "## BRM"
   ]
  },
  {
   "cell_type": "code",
   "execution_count": 53,
   "id": "appointed-worse",
   "metadata": {
    "scrolled": true
   },
   "outputs": [
    {
     "name": "stdout",
     "output_type": "stream",
     "text": [
      "show running-config brm\r\n",
      "% No entries found.\r\n",
      "brocmyp@#\n"
     ]
    }
   ],
   "source": [
    "CLI.execute('show running-config brm')"
   ]
  },
  {
   "cell_type": "code",
   "execution_count": 11,
   "id": "absolute-knitting",
   "metadata": {},
   "outputs": [],
   "source": [
    "BRM = 'configuration-data'"
   ]
  },
  {
   "cell_type": "code",
   "execution_count": 8,
   "id": "right-poland",
   "metadata": {},
   "outputs": [],
   "source": [
    "VBRM = \"DEFAULT-eric-data-document-database-pg\""
   ]
  },
  {
   "cell_type": "markdown",
   "id": "communist-austin",
   "metadata": {},
   "source": [
    "## Backup"
   ]
  },
  {
   "cell_type": "markdown",
   "id": "dramatic-sodium",
   "metadata": {},
   "source": [
    "### List backups"
   ]
  },
  {
   "cell_type": "code",
   "execution_count": 127,
   "id": "demographic-catering",
   "metadata": {},
   "outputs": [
    {
     "name": "stdout",
     "output_type": "stream",
     "text": [
      "show brm backup-manager configuration-data backup\r\n",
      "% No entries found.\r\n",
      "brocmyp@#\n"
     ]
    }
   ],
   "source": [
    "CLI.execute(f'show brm backup-manager {BRM} backup')"
   ]
  },
  {
   "cell_type": "markdown",
   "id": "latin-nightlife",
   "metadata": {},
   "source": [
    "### Detail a backup"
   ]
  },
  {
   "cell_type": "code",
   "execution_count": 266,
   "id": "focused-ethiopia",
   "metadata": {},
   "outputs": [
    {
     "name": "stdout",
     "output_type": "stream",
     "text": [
      "show brm backup-manager DEFAULT backup cmypBackup01\r\n",
      "backup cmypBackup01\r\n",
      " backup-name   cmypBackup01\r\n",
      " creation-time 2022-02-18T16:18:39.459365+00:00\r\n",
      " status        backup-complete\r\n",
      " creation-type manual\r\n",
      " progress-report 13398\r\n",
      "  action-name                EXPORT\r\n",
      "  additional-info            [ \"Exported Backup: cmypBackup01-2022-02-18T16:18:39.459365Z.tar.gz\" ]\r\n",
      "  progress-percentage        100\r\n",
      "  result                     success\r\n",
      "  state                      finished\r\n",
      "  time-action-started        2022-02-18T16:33:57.2157+00:00\r\n",
      "  time-action-completed      2022-02-18T16:33:58.835425+00:00\r\n",
      "  time-of-last-status-update 2022-02-18T16:33:58.835425+00:00\r\n",
      " sw-version \"APR 201 34\" 7.1.0-19\r\n",
      "  product-name    \"Document Database PG\"\r\n",
      "  production-date 2022-02-18T16:31:18.122509+00:00\r\n",
      "  description     \"eric-data-document-database-pg Agent for backup and restore.\"\r\n",
      "  type            Database\r\n",
      " sw-version \"APR XXX XX/X\" R1A\r\n",
      "  product-name    \"Test Application\"\r\n",
      "  production-date 2019-05-17T14:12:44+00:00\r\n",
      "  d\n",
      "escription     \"Test Application Drop 15\"\r\n",
      "  type            Predelivery\r\n",
      "brocmyp@eric-cm-yang-provider-5bbb75c878-629tm#\n"
     ]
    }
   ],
   "source": [
    "CLI.execute(f'show brm backup-manager {BRM} backup {backupName1}')"
   ]
  },
  {
   "cell_type": "markdown",
   "id": "mineral-gauge",
   "metadata": {},
   "source": [
    "### Get an attribute from a Backup"
   ]
  },
  {
   "cell_type": "code",
   "execution_count": 212,
   "id": "reasonable-lightning",
   "metadata": {},
   "outputs": [
    {
     "name": "stdout",
     "output_type": "stream",
     "text": [
      "show brm backup-manager DEFAULT backup cmypBackup01 sw-version\r\n",
      "\n",
      "sw-version \"APR 201 34\" 7.1.0-19\r\n",
      " product-name    \"Document Database PG\"\r\n",
      " production-date 2022-02-18T16:18:39.579782+00:00\r\n",
      " description     \"eric-data-document-database-pg Agent for backup and restore.\"\r\n",
      " type            Database\r\n",
      "sw-version \"APR XXX XX/X\" R1A\r\n",
      " product-name    \"Test Application\"\r\n",
      " production-date 2019-05-17T14:12:44+00:00\r\n",
      " description     \"Test Application Drop 15\"\r\n",
      " type            Predelivery\r\n",
      "brocmyp@eric-cm-yang-provider-5bbb75c878-629tm#\n"
     ]
    }
   ],
   "source": [
    "CLI.execute(f'show brm backup-manager {BRM} backup {backupName1} sw-version')"
   ]
  },
  {
   "cell_type": "markdown",
   "id": "progressive-supply",
   "metadata": {},
   "source": [
    "### create a backup"
   ]
  },
  {
   "cell_type": "code",
   "execution_count": 81,
   "id": "according-oakland",
   "metadata": {},
   "outputs": [],
   "source": [
    "backupName1 = 'cmypBackup12'"
   ]
  },
  {
   "cell_type": "code",
   "execution_count": 78,
   "id": "affiliated-fisher",
   "metadata": {},
   "outputs": [],
   "source": [
    "backupName2 = 'cmypBackup04'"
   ]
  },
  {
   "cell_type": "code",
   "execution_count": 82,
   "id": "automatic-threat",
   "metadata": {},
   "outputs": [
    {
     "name": "stdout",
     "output_type": "stream",
     "text": [
      "brm backup-manager configuration-data create-backup name cmypBackup12\r\n",
      "return-value 30582\r\n",
      "brocmyp@#\n"
     ]
    }
   ],
   "source": [
    "CLI.execute(f'brm backup-manager {BRM} create-backup name {backupName1}')"
   ]
  },
  {
   "cell_type": "markdown",
   "id": "czech-decade",
   "metadata": {},
   "source": [
    "### Restore a backup"
   ]
  },
  {
   "cell_type": "code",
   "execution_count": 72,
   "id": "painted-attribute",
   "metadata": {},
   "outputs": [],
   "source": [
    "BRM = 'configuration-data'"
   ]
  },
  {
   "cell_type": "code",
   "execution_count": 85,
   "id": "hispanic-circulation",
   "metadata": {},
   "outputs": [
    {
     "name": "stdout",
     "output_type": "stream",
     "text": [
      "brm backup-manager configuration-data backup cmypBackup12 restore\r\n",
      "return-value 30901\r\n",
      "brocmyp@#Restore is about to start, sessions may be terminated soon!\r\n",
      "\n"
     ]
    }
   ],
   "source": [
    "CLI.execute(f'brm backup-manager {BRM} backup {backupName1} restore')"
   ]
  },
  {
   "cell_type": "code",
   "execution_count": 18,
   "id": "worldwide-spell",
   "metadata": {},
   "outputs": [
    {
     "name": "stdout",
     "output_type": "stream",
     "text": [
      "brm backup-manager DEFAULT-agent-three backup cmypBackup01 restore\r\n",
      "return-value 45387\r\n",
      "brocmyp@eric-cm-yang-provider-59df9f448d-gtthw#\n"
     ]
    }
   ],
   "source": [
    "CLI.execute(f'brm backup-manager DEFAULT-agent-three backup {backupName1} restore')"
   ]
  },
  {
   "cell_type": "code",
   "execution_count": 156,
   "id": "tested-bruce",
   "metadata": {},
   "outputs": [
    {
     "name": "stdout",
     "output_type": "stream",
     "text": [
      "Welcome\n",
      "Last login time: First Login\n",
      "\n",
      "brocmyp connected from 10.120.217.52 using ssh on eric-cm-yang-provider-5bbb75c878-jwdth\n",
      "\u001b[?7hbrocmyp@eric-cm-yang-provider-5bbb75c878-jwdth#\n",
      "brm backup-manager DEFAULT-eric-data-document-database-pg backup cmypBackup01 restore\n",
      "\n",
      "\n",
      "return-value 14172\n",
      "brocmyp@eric-cm-yang-provider-5bbb75c878-jwdth#\n",
      "Restore is about to start, sessions may be terminated soon!\n",
      "\n"
     ]
    }
   ],
   "source": [
    "CLI.execute(f'brm backup-manager {VBRM} backup {backupName1} restore')"
   ]
  },
  {
   "cell_type": "markdown",
   "id": "communist-armstrong",
   "metadata": {},
   "source": [
    "### Export a backup"
   ]
  },
  {
   "cell_type": "code",
   "execution_count": 249,
   "id": "minor-creator",
   "metadata": {},
   "outputs": [],
   "source": [
    "CLI.refresh()"
   ]
  },
  {
   "cell_type": "code",
   "execution_count": 218,
   "id": "composed-onion",
   "metadata": {},
   "outputs": [],
   "source": [
    "uri = 'sftp://brsftp@bro-test-sftp:9022/bro_test'\n",
    "pwd = \"planbsftp\""
   ]
  },
  {
   "cell_type": "code",
   "execution_count": 220,
   "id": "angry-baptist",
   "metadata": {},
   "outputs": [
    {
     "name": "stdout",
     "output_type": "stream",
     "text": [
      "brm backup-manager DEFAULT backup cmypBackup01 export uri sftp://brsftp@bro-test-sftp:9022/bro_test password planbsftp\n",
      "\n",
      "return-value 13398\n",
      "brocmyp@eric-cm-yang-provider-5bbb75c878-629tm#\n"
     ]
    }
   ],
   "source": [
    "CLI.execute(f'brm backup-manager {BRM} backup {backupName1} export uri {uri} password {pwd}')"
   ]
  },
  {
   "cell_type": "markdown",
   "id": "handmade-supervision",
   "metadata": {},
   "source": [
    "### Delete a backup"
   ]
  },
  {
   "cell_type": "code",
   "execution_count": 144,
   "id": "monetary-suite",
   "metadata": {},
   "outputs": [
    {
     "name": "stdout",
     "output_type": "stream",
     "text": [
      "brm backup-manager DEFAULT-eric-data-document-database-pg delete-backup name cmypBackup02\r\n",
      "\n",
      "return-value 3819\r\n",
      "brocmyp@eric-cm-yang-provider-5bbb75c878-jwdth#\n"
     ]
    }
   ],
   "source": [
    "CLI.execute(f'brm backup-manager {VBRM} delete-backup name {backupName2}')"
   ]
  },
  {
   "cell_type": "markdown",
   "id": "interior-auditor",
   "metadata": {},
   "source": [
    "### Import a backup"
   ]
  },
  {
   "cell_type": "code",
   "execution_count": 150,
   "id": "painful-output",
   "metadata": {},
   "outputs": [
    {
     "name": "stdout",
     "output_type": "stream",
     "text": [
      "brm backup-manager DEFAULT import-backup uri sftp://brsftp@bro-test-sftp:9022/bro_test/DEFAULT/cmypBackup01 password planbsftp\n",
      "\r\n",
      "\n",
      "return-value 40760\r\n",
      "brocmyp@eric-cm-yang-provider-5bbb75c878-jwdth#\n"
     ]
    }
   ],
   "source": [
    "CLI.execute(f\"brm backup-manager {BRM} import-backup uri {uri}/{BRM}/{backupName1} password {pwd}\")"
   ]
  },
  {
   "cell_type": "markdown",
   "id": "metallic-document",
   "metadata": {},
   "source": [
    "## Housekeeping"
   ]
  },
  {
   "cell_type": "markdown",
   "id": "removable-currency",
   "metadata": {},
   "source": [
    "### Get BRM's housekeeping"
   ]
  },
  {
   "cell_type": "code",
   "execution_count": 26,
   "id": "subsequent-tenant",
   "metadata": {},
   "outputs": [
    {
     "name": "stdout",
     "output_type": "stream",
     "text": [
      "show running-config brm backup-manager configuration-data housekeeping\r\n",
      "brm backup-manager configuration-data\r\n",
      " housekeeping max-stored-manual-backups 53\r\n",
      " housekeeping auto-delete  disabled\r\n",
      "!\r\n",
      "brocmyp@eric-cm-yang-provider-5f5c4fcbf8-cqt2c#\n"
     ]
    }
   ],
   "source": [
    "CLI.execute(f'show running-config brm backup-manager {BRM} housekeeping')"
   ]
  },
  {
   "cell_type": "markdown",
   "id": "colonial-buffalo",
   "metadata": {},
   "source": [
    "### Update housekeeping"
   ]
  },
  {
   "cell_type": "code",
   "execution_count": 184,
   "id": "listed-projector",
   "metadata": {},
   "outputs": [
    {
     "name": "stdout",
     "output_type": "stream",
     "text": [
      "config\n",
      "Entering configuration mode private\n",
      "brocmyp@(config)#\n",
      "brm backup-manager configuration-data housekeeping max-stored-manual-backups 164\n",
      "brocmyp@(config)#\n",
      "commit\n",
      "Commit complete.\n",
      "brocmyp@(config)#\n",
      "exit\n",
      "brocmyp@#\n"
     ]
    }
   ],
   "source": [
    "CLI.execute(f'config')\n",
    "CLI.execute(f'brm backup-manager {BRM} housekeeping max-stored-manual-backups 164')\n",
    "CLI.execute(f'commit')\n",
    "CLI.execute(f'exit')"
   ]
  },
  {
   "cell_type": "code",
   "execution_count": 16,
   "id": "spectacular-lawrence",
   "metadata": {},
   "outputs": [
    {
     "name": "stdout",
     "output_type": "stream",
     "text": [
      "brm backup-manager configuration-data housekeeping auto-delete disabled\r\n",
      "brocmyp@eric-cm-yang-provider-5f5c4fcbf8-cqt2c(config)#\n"
     ]
    }
   ],
   "source": [
    "CLI.execute(f'brm backup-manager {BRM} housekeeping auto-delete disabled')"
   ]
  },
  {
   "cell_type": "code",
   "execution_count": 24,
   "id": "caroline-frequency",
   "metadata": {},
   "outputs": [
    {
     "name": "stdout",
     "output_type": "stream",
     "text": [
      "commit\r\n",
      "Commit complete.\r\n",
      "brocmyp@eric-cm-yang-provider-5f5c4fcbf8-cqt2c(config)#\n"
     ]
    }
   ],
   "source": []
  },
  {
   "cell_type": "markdown",
   "id": "emotional-recorder",
   "metadata": {},
   "source": [
    "## Scheduler"
   ]
  },
  {
   "cell_type": "markdown",
   "id": "theoretical-robertson",
   "metadata": {},
   "source": [
    "### show runing config"
   ]
  },
  {
   "cell_type": "code",
   "execution_count": 119,
   "id": "lasting-emphasis",
   "metadata": {},
   "outputs": [
    {
     "name": "stdout",
     "output_type": "stream",
     "text": [
      "show running-config brm backup-manager configuration-data scheduler\r\n",
      "brm backup-manager configuration-data\r\n",
      " scheduler scheduled-backup-name SCHEDULED_BACKUP\r\n",
      " scheduler auto-export disabled\r\n",
      " scheduler admin-state unlocked\r\n",
      " scheduler periodic-event 2\r\n",
      " !\r\n",
      "!\r\n",
      "brocmyp@#\n"
     ]
    }
   ],
   "source": [
    "CLI.execute(f'show running-config brm backup-manager {BRM} scheduler')"
   ]
  },
  {
   "cell_type": "markdown",
   "id": "offshore-solomon",
   "metadata": {},
   "source": [
    "### show a periodic event"
   ]
  },
  {
   "cell_type": "code",
   "execution_count": 5,
   "id": "bearing-passage",
   "metadata": {},
   "outputs": [],
   "source": [
    "eventId = 1"
   ]
  },
  {
   "cell_type": "code",
   "execution_count": 10,
   "id": "chemical-southwest",
   "metadata": {},
   "outputs": [
    {
     "name": "stdout",
     "output_type": "stream",
     "text": [
      "show running-config brm backup-manager configuration-data scheduler periodic-event 1\r\n",
      "--------------------------------------------------------------------------------------------^\r\n",
      "syntax error: element does not exist\r\n",
      "brocmyp@#\n"
     ]
    }
   ],
   "source": [
    "CLI.execute(f'show running-config brm backup-manager {BRM} scheduler periodic-event {eventId}')"
   ]
  },
  {
   "cell_type": "markdown",
   "id": "impressive-record",
   "metadata": {},
   "source": [
    "### Update runing config"
   ]
  },
  {
   "cell_type": "code",
   "execution_count": 246,
   "id": "measured-quick",
   "metadata": {},
   "outputs": [
    {
     "name": "stdout",
     "output_type": "stream",
     "text": [
      "config \r\n",
      "-------------------------------------------------------^\r\n",
      "syntax error: unknown command\r\n",
      "brocmyp@eric-cm-yang-provider-5bbb75c878-629tm(config)#            brm backup-manager DEFAULT scheduler admin-state locked\r\n",
      "\n"
     ]
    }
   ],
   "source": [
    "CLI.execute(f\"\"\"config \n",
    "            brm backup-manager DEFAULT scheduler admin-state locked\n",
    "    brm backup-manager DEFAULT scheduler scheduled-backup-name BACKUP\n",
    "    brm backup-manager DEFAULT scheduler auto-export enabled\n",
    "    brm backup-manager DEFAULT scheduler auto-export-uri {uri}\n",
    "    brm backup-manager DEFAULT scheduler auto-export-password {pwd}\n",
    "    commit\n",
    "    exit\n",
    "    \"\"\")"
   ]
  },
  {
   "cell_type": "code",
   "execution_count": 19,
   "id": "authentic-pioneer",
   "metadata": {},
   "outputs": [
    {
     "name": "stdout",
     "output_type": "stream",
     "text": [
      "config\r\n",
      "Entering configuration mode private\r\n",
      "brocmyp@(config)#\n"
     ]
    }
   ],
   "source": [
    "CLI.execute(f\"config\") "
   ]
  },
  {
   "cell_type": "code",
   "execution_count": 194,
   "id": "blessed-lesson",
   "metadata": {},
   "outputs": [
    {
     "name": "stdout",
     "output_type": "stream",
     "text": [
      "brm backup-manager DEFAULT scheduler auto-export-uri sftp://brsftp@bro-test-sftp:9022/bro_test\r\n",
      "\n",
      "brocmyp@eric-cm-yang-provider-5bbb75c878-629tm(config)#\n"
     ]
    }
   ],
   "source": [
    "CLI.execute(f\"brm backup-manager DEFAULT scheduler auto-export-uri {uri}\") "
   ]
  },
  {
   "cell_type": "code",
   "execution_count": 195,
   "id": "controlled-nickel",
   "metadata": {
    "scrolled": true
   },
   "outputs": [
    {
     "name": "stdout",
     "output_type": "stream",
     "text": [
      "brm backup-manager DEFAULT scheduler auto-export-password planbsftp\r\n",
      "\n",
      "brocmyp@eric-cm-yang-provider-5bbb75c878-629tm(config)#\n"
     ]
    }
   ],
   "source": [
    "CLI.execute(f\"brm backup-manager DEFAULT scheduler auto-export-password {pwd}\") "
   ]
  },
  {
   "cell_type": "code",
   "execution_count": 43,
   "id": "senior-essay",
   "metadata": {},
   "outputs": [
    {
     "name": "stdout",
     "output_type": "stream",
     "text": [
      "commit yes\r\n",
      "The value must be one of:\r\n",
      "  cancel  no  yes\r\n",
      "Uncommitted changes found, commit them? [yes/no/CANCEL] \n"
     ]
    }
   ],
   "source": [
    "CLI.execute(f'commit')"
   ]
  },
  {
   "cell_type": "markdown",
   "id": "commercial-coral",
   "metadata": {},
   "source": [
    "### show BRM's scheduler"
   ]
  },
  {
   "cell_type": "code",
   "execution_count": 133,
   "id": "exterior-mother",
   "metadata": {},
   "outputs": [
    {
     "name": "stdout",
     "output_type": "stream",
     "text": [
      "show brm backup-manager configuration-data scheduler\r\n",
      "scheduler\r\n",
      " next-scheduled-time 2022-09-11T23:30:00.785717+00:00\r\n",
      "brocmyp@#\n"
     ]
    }
   ],
   "source": [
    "CLI.execute(f'show brm backup-manager {BRM} scheduler')"
   ]
  },
  {
   "cell_type": "markdown",
   "id": "solar-gather",
   "metadata": {},
   "source": [
    "### Show a periodic-event"
   ]
  },
  {
   "cell_type": "code",
   "execution_count": 166,
   "id": "dynamic-confirmation",
   "metadata": {},
   "outputs": [
    {
     "name": "stdout",
     "output_type": "stream",
     "text": [
      "show running-config brm backup-manager configuration-data scheduler periodic-event 1\r\n",
      "--------------------------------------------------------------------------------------------^\r\n",
      "syntax error: element does not exist\r\n",
      "brocmyp@#\n"
     ]
    }
   ],
   "source": [
    "CLI.execute(f'show running-config brm backup-manager {BRM} scheduler periodic-event {eventId}')"
   ]
  },
  {
   "cell_type": "markdown",
   "id": "certain-donor",
   "metadata": {},
   "source": [
    "### Show Scheduler Running Configuration"
   ]
  },
  {
   "cell_type": "code",
   "execution_count": 165,
   "id": "offshore-depression",
   "metadata": {},
   "outputs": [
    {
     "name": "stdout",
     "output_type": "stream",
     "text": [
      "show running-config brm backup-manager configuration-data scheduler\r\n",
      "brm backup-manager configuration-data\r\n",
      " scheduler scheduled-backup-name SCHEDULED_BACKUP\r\n",
      " scheduler auto-export disabled\r\n",
      " scheduler admin-state unlocked\r\n",
      " scheduler periodic-event 1\r\n",
      " !\r\n",
      "!\r\n",
      "brocmyp@#\n"
     ]
    }
   ],
   "source": [
    "CLI.execute(f'show running-config brm backup-manager {BRM} scheduler')"
   ]
  },
  {
   "cell_type": "markdown",
   "id": "funky-sheet",
   "metadata": {},
   "source": [
    "### create a scheduler"
   ]
  },
  {
   "cell_type": "code",
   "execution_count": 151,
   "id": "wooden-hampshire",
   "metadata": {},
   "outputs": [],
   "source": [
    "eventId = 1"
   ]
  },
  {
   "cell_type": "code",
   "execution_count": 152,
   "id": "wooden-resolution",
   "metadata": {},
   "outputs": [
    {
     "name": "stdout",
     "output_type": "stream",
     "text": [
      "config \r\n",
      "Entering configuration mode private\r\n",
      "brocmyp@(config)#brm backup-manager configuration-data scheduler periodic-event 1            weeks 1 days 1 hours 0 minutes 5 start-time 2022-06-16T00:35:00+02:00             stop-time 2023-06-12T00:35:00+02:00\r\n",
      "brocmyp@(config)#commit\r\n",
      "Commit complete.\r\n",
      "brocmyp@(config)#exit\r\n",
      "brocmyp@#            \r\n",
      "brocmyp@#\n"
     ]
    }
   ],
   "source": [
    "CLI.execute(f\"\"\"config \n",
    "brm backup-manager {BRM} scheduler periodic-event {eventId}\\\n",
    "            weeks 1 days 1 hours 0 minutes 5 start-time 2022-06-16T00:35:00+02:00 \\\n",
    "            stop-time 2023-06-12T00:35:00+02:00\n",
    "commit\n",
    "exit\n",
    "            \"\"\")"
   ]
  },
  {
   "cell_type": "code",
   "execution_count": 105,
   "id": "electoral-literature",
   "metadata": {},
   "outputs": [
    {
     "name": "stdout",
     "output_type": "stream",
     "text": [
      "config \r\n",
      "Entering configuration mode private\r\n",
      "brocmyp@(config)#brm backup-manager configuration-data scheduler periodic-event 5            weeks 1 days 1 hours 0 start-time 2022-06-16T00:35:00+02:00             stop-time 2023-06-12T00:35:00+02:00\r\n",
      "Error:'brm backup-manager configuration-data scheduler periodic-event 5 start-time': Failed to convert value, database may be corrupt\r\n",
      "\r\n",
      "brocmyp@(config)#commit\r\n",
      "% No modifications to commit.\r\n",
      "brocmyp@(config)#exit\r\n",
      "brocmyp@#            \r\n",
      "brocmyp@#\n"
     ]
    }
   ],
   "source": [
    "CLI.execute(f\"\"\"config \n",
    "brm backup-manager {BRM} scheduler periodic-event {eventId}\\\n",
    "            weeks 1 days 1 hours 0 start-time 2022-06-16T00:35:00+02:00 \\\n",
    "            stop-time 2023-06-12T00:35:00+02:00\n",
    "commit\n",
    "exit\n",
    "            \"\"\")"
   ]
  },
  {
   "cell_type": "markdown",
   "id": "available-meaning",
   "metadata": {},
   "source": [
    "### update a sheduler event"
   ]
  },
  {
   "cell_type": "code",
   "execution_count": 163,
   "id": "blind-observation",
   "metadata": {},
   "outputs": [
    {
     "name": "stdout",
     "output_type": "stream",
     "text": [
      "config \r\n",
      "Entering configuration mode private\r\n",
      "Current configuration users:\r\n",
      "brocmyp ssh (cli from 10.120.217.52) on since 2022-09-13 13:53:27 private mode\r\n",
      "brocmyp@(config)#            brm backup-manager configuration-data scheduler periodic-event 1             weeks 0 days 0 hours 24 minutes 7\r\n",
      "brocmyp@(config)#    commit\r\n",
      "Commit complete.\r\n",
      "brocmyp@(config)#    exit\r\n",
      "brocmyp@#    \r\n",
      "brocmyp@#\n"
     ]
    }
   ],
   "source": [
    "CLI.execute(f\"\"\"config \n",
    "            brm backup-manager {BRM} scheduler periodic-event {eventId} \\\n",
    "            weeks 0 days 0 hours 24 minutes 7\n",
    "    commit\n",
    "    exit\n",
    "    \"\"\")"
   ]
  },
  {
   "cell_type": "code",
   "execution_count": 164,
   "id": "minute-rhythm",
   "metadata": {},
   "outputs": [
    {
     "name": "stdout",
     "output_type": "stream",
     "text": [
      "config \r\n",
      "Entering configuration mode private\r\n",
      "Current configuration users:\r\n",
      "brocmyp ssh (cli from 10.120.217.52) on since 2022-09-13 13:53:27 private mode\r\n",
      "brocmyp@(config)#            brm backup-manager configuration-data scheduler periodic-event 1             weeks 0 days 0 hours 24 minutes 7 \r\n",
      "brocmyp@(config)#            brm backup-manager configuration-data scheduler periodic-event 1             weeks 0 days 2 hours 11 minutes 8 \r\n",
      "brocmyp@(config)#    commit\r\n",
      "Commit complete.\r\n",
      "brocmyp@(config)#    exit\r\n",
      "brocmyp@#    \r\n",
      "brocmyp@#\n"
     ]
    }
   ],
   "source": [
    "CLI.execute(f\"\"\"config \n",
    "            brm backup-manager {BRM} scheduler periodic-event {eventId} \\\n",
    "            weeks 0 days 0 hours 24 minutes 7 \n",
    "            brm backup-manager {BRM} scheduler periodic-event {eventId} \\\n",
    "            weeks 0 days 2 hours 11 minutes 8 \n",
    "    commit\n",
    "    exit\n",
    "    \"\"\")"
   ]
  },
  {
   "cell_type": "markdown",
   "id": "educational-worry",
   "metadata": {},
   "source": [
    "### show scheduler progress-report"
   ]
  },
  {
   "cell_type": "code",
   "execution_count": 214,
   "id": "statistical-rider",
   "metadata": {},
   "outputs": [
    {
     "name": "stdout",
     "output_type": "stream",
     "text": [
      "show brm backup-manager DEFAULT scheduler progress-report 123\r\n",
      "\n",
      "---------------------------------------------------------------------------------------------------------^\r\n",
      "syntax error: unknown argument\r\n",
      "brocmyp@eric-cm-yang-provider-5bbb75c878-629tm#\n"
     ]
    }
   ],
   "source": [
    "CLI.execute(f'show brm backup-manager {BRM} scheduler progress-report 123')"
   ]
  },
  {
   "cell_type": "markdown",
   "id": "maritime-prescription",
   "metadata": {},
   "source": [
    "## Action"
   ]
  },
  {
   "cell_type": "markdown",
   "id": "athletic-cooler",
   "metadata": {},
   "source": [
    "### List Actions"
   ]
  },
  {
   "cell_type": "code",
   "execution_count": 213,
   "id": "united-suggestion",
   "metadata": {},
   "outputs": [
    {
     "name": "stdout",
     "output_type": "stream",
     "text": [
      "show brm backup-manager DEFAULT action\n",
      "\r\n",
      "\n",
      "-------------------------------------------------------------------------------^\r\n",
      "syntax error: unknown argument\r\n",
      "brocmyp@eric-cm-yang-provider-5bbb75c878-629tm#\n"
     ]
    }
   ],
   "source": [
    "CLI.execute(f'show brm backup-manager {BRM} action')"
   ]
  },
  {
   "cell_type": "markdown",
   "id": "endangered-exception",
   "metadata": {},
   "source": [
    "### Progress report"
   ]
  },
  {
   "cell_type": "markdown",
   "id": "ideal-rendering",
   "metadata": {},
   "source": [
    "### show restore/export progress-report"
   ]
  },
  {
   "cell_type": "code",
   "execution_count": 39,
   "id": "secondary-contrary",
   "metadata": {},
   "outputs": [
    {
     "name": "stdout",
     "output_type": "stream",
     "text": [
      "show brm backup-manager configuration-data backup cmypBackup05 progress-report 37004\r\n",
      "progress-report 37004\r\n",
      " action-name                RESTORE\r\n",
      " progress-percentage        100\r\n",
      " result                     success\r\n",
      " result-info                \"{Agent: eric-data-document-database-pg, Stage: PREPARATION, success: true, message: Preparation for restore is successful}, {Agent: more-large-agent, Stage: PREPARATION, success: true, message: Preparation for restore is successful}, {Agent: large-agent, Stage: PREPARATION, success: true, message: Preparation for restore is successful}, {Agent: large-agent, Stage: EXECUTION, success: true, message: The test service has completed restore of backup: cmypBackup05}, {Agent: eric-data-document-database-pg, Stage: EXECUTION, success: true, message: cmypBackup05 restore complete.}, {Agent: more-large-agent, Stage: EXECUTION, success: true, message: The test service has completed restore of backup: cmypBackup05}, {Agent: large-agent, Stage: POST_ACTIONS, success: true, message\n",
      ": Post restore actions completed}, {Agent: eric-data-document-database-pg, Stage: POST_ACTIONS, success: true, message: Post restore actions completed}, {Agent: more-large-agent, Stage: POST_ACTIONS, success: true, message: Post restore actions completed}\"\r\n",
      " state                      finished\r\n",
      " time-action-started        2022-09-15T14:48:52.907376+00:00\r\n",
      " time-action-completed      2022-09-15T14:50:39.655091+00:00\r\n",
      " time-of-last-status-update 2022-09-15T14:50:39.655091+00:00\r\n",
      "brocmyp@#\n"
     ]
    }
   ],
   "source": [
    "CLI.execute(f'show brm backup-manager {BRM} backup {backupName1} progress-report 37004')"
   ]
  },
  {
   "cell_type": "markdown",
   "id": "nonprofit-blood",
   "metadata": {},
   "source": [
    "### show create import delete progress report"
   ]
  },
  {
   "cell_type": "code",
   "execution_count": 84,
   "id": "another-coach",
   "metadata": {},
   "outputs": [
    {
     "name": "stdout",
     "output_type": "stream",
     "text": [
      "show brm backup-manager configuration-data progress-report 30582\r\n",
      "progress-report 30582\r\n",
      " action-name                CREATE_BACKUP\r\n",
      " progress-percentage        100\r\n",
      " result                     success\r\n",
      " result-info                \"{Agent: eric-data-document-database-pg, Stage: PREPARATION, success: true, message: Preparation for backup is successful}, {Agent: large-agent, Stage: PREPARATION, success: true, message: Preparation for backup is successful}, {Agent: eric-data-document-database-pg, Stage: EXECUTION, success: true, message: The PG B&R Agent has completed a backup for cmypBackup12}, {Agent: large-agent, Stage: EXECUTION, success: true, message: The test service has completed a backup for cmypBackup12 and the data has been sent to the orchestrator}, {Agent: large-agent, Stage: POST_ACTIONS, success: true, message: Post backup actions completed}, {Agent: eric-data-document-database-pg, Stage: POST_ACTIONS, success: true, message: Post backup actions completed}\"\r\n",
      " state                      finished\r\n",
      " t\n",
      "ime-action-started        2022-09-16T17:44:28.519615+00:00\r\n",
      " time-action-completed      2022-09-16T17:46:37.828751+00:00\r\n",
      " time-of-last-status-update 2022-09-16T17:46:37.828751+00:00\r\n",
      "brocmyp@#\n"
     ]
    }
   ],
   "source": [
    "CLI.execute(f'show brm backup-manager {BRM} progress-report 30582')"
   ]
  },
  {
   "cell_type": "markdown",
   "id": "independent-plant",
   "metadata": {},
   "source": [
    "# other command"
   ]
  },
  {
   "cell_type": "code",
   "execution_count": 216,
   "id": "outdoor-recommendation",
   "metadata": {},
   "outputs": [],
   "source": [
    "CLI.refresh()"
   ]
  },
  {
   "cell_type": "code",
   "execution_count": 32,
   "id": "accurate-administrator",
   "metadata": {},
   "outputs": [
    {
     "name": "stdout",
     "output_type": "stream",
     "text": [
      "commit\r\n",
      "Commit complete.\r\n",
      "brocmyp@(config)#\n"
     ]
    }
   ],
   "source": [
    "CLI.execute(f'commit')"
   ]
  },
  {
   "cell_type": "code",
   "execution_count": 44,
   "id": "imperial-stuart",
   "metadata": {},
   "outputs": [
    {
     "name": "stdout",
     "output_type": "stream",
     "text": [
      "exit\r\n",
      "The value must be one of:\r\n",
      "  cancel  no  yes\r\n",
      "Uncommitted changes found, commit them? [yes/no/CANCEL] \n"
     ]
    }
   ],
   "source": [
    "CLI.execute(f'exit')"
   ]
  },
  {
   "cell_type": "code",
   "execution_count": 45,
   "id": "anonymous-accident",
   "metadata": {},
   "outputs": [
    {
     "name": "stdout",
     "output_type": "stream",
     "text": [
      "yes\r\n",
      "Commit complete.\r\n",
      "brocmyp@#\n"
     ]
    }
   ],
   "source": [
    "CLI.execute(f'yes')"
   ]
  },
  {
   "cell_type": "code",
   "execution_count": null,
   "id": "completed-surgeon",
   "metadata": {},
   "outputs": [],
   "source": []
  }
 ],
 "metadata": {
  "kernelspec": {
   "display_name": "Python 3",
   "language": "python",
   "name": "python3"
  },
  "language_info": {
   "codemirror_mode": {
    "name": "ipython",
    "version": 3
   },
   "file_extension": ".py",
   "mimetype": "text/x-python",
   "name": "python",
   "nbconvert_exporter": "python",
   "pygments_lexer": "ipython3",
   "version": "3.8.10"
  }
 },
 "nbformat": 4,
 "nbformat_minor": 5
}
