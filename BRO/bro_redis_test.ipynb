{
 "cells": [
  {
   "cell_type": "code",
   "execution_count": 15,
   "id": "organizational-crossing",
   "metadata": {},
   "outputs": [],
   "source": [
    "\"\"\"\n",
    "Module with functions for interacting with Redis\n",
    "\"\"\"\n",
    "from rediscluster import RedisCluster\n",
    "import utilprocs\n",
    "\n",
    "class RedisClient:\n",
    "    \"\"\"\n",
    "    This class is used for reading redis messages\n",
    "    \"\"\"    \n",
    "    def __init__(self, host, stream):\n",
    "        self.stream = stream\n",
    "        operandIPs = self.get_ip_by_pod_name(self.get_operand_pod_name())\n",
    "        startup_nodes = [{\"host\": host, \"port\": \"6379\"}]\n",
    "        host_port_remap = []\n",
    "        for ip in operandIPs:\n",
    "            host_port_remap.append(\n",
    "                {\n",
    "                    'from_host': ip,\n",
    "                    'from_port': 6379,\n",
    "                    'to_host': host,\n",
    "                    'to_port': 6379,\n",
    "                }\n",
    "            )\n",
    "        print(host_port_remap)\n",
    "        self.client = RedisCluster(\n",
    "            startup_nodes=startup_nodes,\n",
    "            decode_responses=True,\n",
    "            host_port_remap=host_port_remap\n",
    "        )\n",
    "\n",
    "        \n",
    "    def get_latest_notification(self):\n",
    "        \"\"\"\n",
    "        Reads the lates redis message\n",
    "        \"\"\"\n",
    "        return self.client.xrevrange(self.stream, count=1)[0][1]['notification']\n",
    "\n",
    "    def validate_latest_notification(self, action_id, backup_manager_id, action):\n",
    "        \"\"\"\n",
    "        Validates a restore notification message to make sure it's in the\n",
    "        correct format\n",
    "\n",
    "        :param action_id: the expected action id of the message\n",
    "        :param backup_manager_id: the expected backup manager id of the message\n",
    "        :param action: RESTORE or CREATE_BACKUP\n",
    "        \"\"\"\n",
    "\n",
    "        expected_message = f'Notification [version=1.0.0, action={action}, actionId={action_id}, backupManagerId={backup_manager_id}, status=COMPLETED]'\n",
    "\n",
    "        actural_message = self.get_latest_notification()\n",
    "\n",
    "        error = 'Invalid value for notification: Expected message: ' \\\n",
    "            '\"{}\", Actual message: \"{}\"'\n",
    "\n",
    "        assert expected_message == actural_message , error.format(expected_message, actural_message)\n",
    "\n",
    "    def close(self):\n",
    "        \"\"\"\n",
    "        Closes the redis client\n",
    "        \"\"\"\n",
    "        self.client.close()\n",
    "\n",
    "    def get_operand_pod_name(self):\n",
    "        response = utilprocs.execute_command(\"kubectl -n eyicwux-test1 get po -l \"\n",
    "                                      \"app.kubernetes.io/name=eric-data-key-value-database-rd-operand -o jsonpath={..metadata.name}\" , log_command=False)\n",
    "        return response.split();\n",
    "\n",
    "\n",
    "    def get_ip_by_pod_name(self, pods):\n",
    "        ips = []\n",
    "        for pod in pods:\n",
    "            res = utilprocs.execute_command(\"kubectl -n eyicwux-test1 get pods {} -o=jsonpath={{.status.podIP}}\".format(pod), log_command=False)\n",
    "            ips.append(res)\n",
    "        return ips\n"
   ]
  },
  {
   "cell_type": "code",
   "execution_count": 16,
   "id": "marine-string",
   "metadata": {},
   "outputs": [
    {
     "name": "stdout",
     "output_type": "stream",
     "text": [
      "eric-data-key-value-database-rd-operand-9rbvd eric-data-key-value-database-rd-operand-whvx4\n",
      "192.168.37.234\n",
      "192.168.129.201\n",
      "[{'from_host': '192.168.37.234', 'from_port': 6379, 'to_host': '10.120.217.249', 'to_port': 6379}, {'from_host': '192.168.129.201', 'from_port': 6379, 'to_host': '10.120.217.249', 'to_port': 6379}]\n"
     ]
    }
   ],
   "source": [
    "rc = RedisClient(\"10.120.217.249\", \"bro-notification\")"
   ]
  },
  {
   "cell_type": "code",
   "execution_count": 18,
   "id": "native-pulse",
   "metadata": {},
   "outputs": [
    {
     "data": {
      "text/plain": [
       "'Notification [version=1.0.0, action=CREATE_BACKUP, actionId=30576, backupManagerId=configuration-data, status=COMPLETED]'"
      ]
     },
     "execution_count": 18,
     "metadata": {},
     "output_type": "execute_result"
    }
   ],
   "source": [
    "rc.get_latest_notification()"
   ]
  },
  {
   "cell_type": "code",
   "execution_count": 17,
   "id": "armed-siemens",
   "metadata": {},
   "outputs": [
    {
     "data": {
      "text/plain": [
       "{'10.120.217.249:6379': True}"
      ]
     },
     "execution_count": 17,
     "metadata": {},
     "output_type": "execute_result"
    }
   ],
   "source": [
    "rc.client.ping()"
   ]
  },
  {
   "cell_type": "code",
   "execution_count": 19,
   "id": "biological-berry",
   "metadata": {},
   "outputs": [],
   "source": [
    "rc.validate_latest_notification(30576, 'configuration-data', 'CREATE_BACKUP')"
   ]
  },
  {
   "cell_type": "code",
   "execution_count": null,
   "id": "monetary-cheese",
   "metadata": {},
   "outputs": [],
   "source": [
    "rc."
   ]
  }
 ],
 "metadata": {
  "kernelspec": {
   "display_name": "Python 3",
   "language": "python",
   "name": "python3"
  },
  "language_info": {
   "codemirror_mode": {
    "name": "ipython",
    "version": 3
   },
   "file_extension": ".py",
   "mimetype": "text/x-python",
   "name": "python",
   "nbconvert_exporter": "python",
   "pygments_lexer": "ipython3",
   "version": "3.8.10"
  }
 },
 "nbformat": 4,
 "nbformat_minor": 5
}
