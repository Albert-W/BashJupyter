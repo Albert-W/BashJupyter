{
 "cells": [
  {
   "cell_type": "code",
   "execution_count": 3,
   "id": "painful-disco",
   "metadata": {},
   "outputs": [],
   "source": [
    "#http://10.120.217.249:9200/adp-app-logs-2021.08.26/_search?size=1000\n",
    "import requests\n",
    "baseurl = 'http://localhost:9090/'"
   ]
  },
  {
   "cell_type": "code",
   "execution_count": 5,
   "id": "special-compatibility",
   "metadata": {},
   "outputs": [
    {
     "data": {
      "text/plain": [
       "{'status': 'success',\n",
       " 'data': {'resultType': 'vector',\n",
       "  'result': [{'metric': {'__name__': 'bro_stored_backups',\n",
       "     'applicationName': 'bro',\n",
       "     'backup_type': 'configuration-data',\n",
       "     'instance': 'eric-ctrl-bro:7003',\n",
       "     'job': 'bro-metrics'},\n",
       "    'value': [1663324777.107, '1']}]}}"
      ]
     },
     "execution_count": 5,
     "metadata": {},
     "output_type": "execute_result"
    }
   ],
   "source": [
    "result = requests.get(baseurl + 'api/v1/query?query={kubernetes_namespace=\"\",__name__=\"bro_stored_backups\",backup_type=\"configuration-data\"}')\n",
    "result.json()"
   ]
  },
  {
   "cell_type": "code",
   "execution_count": null,
   "id": "desperate-semiconductor",
   "metadata": {},
   "outputs": [],
   "source": []
  }
 ],
 "metadata": {
  "kernelspec": {
   "display_name": "Python 3",
   "language": "python",
   "name": "python3"
  },
  "language_info": {
   "codemirror_mode": {
    "name": "ipython",
    "version": 3
   },
   "file_extension": ".py",
   "mimetype": "text/x-python",
   "name": "python",
   "nbconvert_exporter": "python",
   "pygments_lexer": "ipython3",
   "version": "3.8.10"
  }
 },
 "nbformat": 4,
 "nbformat_minor": 5
}
