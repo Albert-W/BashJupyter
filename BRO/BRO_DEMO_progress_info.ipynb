{
 "cells": [
  {
   "cell_type": "markdown",
   "id": "acquired-revelation",
   "metadata": {},
   "source": [
    "# BRO Demo Progress Info"
   ]
  },
  {
   "cell_type": "code",
   "execution_count": 3,
   "id": "integrated-navigator",
   "metadata": {},
   "outputs": [],
   "source": [
    "import requests\n",
    "baseurl = 'http://10.120.217.249:7001'"
   ]
  },
  {
   "cell_type": "code",
   "execution_count": 4,
   "id": "changed-auditor",
   "metadata": {},
   "outputs": [],
   "source": [
    "baseurl = 'http://localhost:7001'"
   ]
  },
  {
   "cell_type": "code",
   "execution_count": 5,
   "id": "traditional-trader",
   "metadata": {
    "scrolled": true
   },
   "outputs": [
    {
     "data": {
      "text/plain": [
       "{'availability': 'Available',\n",
       " 'ongoingAction': {},\n",
       " 'registeredAgents': ['DefaultAgentID'],\n",
       " 'status': 'Healthy'}"
      ]
     },
     "execution_count": 5,
     "metadata": {},
     "output_type": "execute_result"
    }
   ],
   "source": [
    "result = requests.get(baseurl+'/v1/health')\n",
    "result.json()"
   ]
  },
  {
   "cell_type": "code",
   "execution_count": 6,
   "id": "advised-machine",
   "metadata": {},
   "outputs": [],
   "source": [
    "BRM = 'DEFAULT'"
   ]
  },
  {
   "cell_type": "code",
   "execution_count": 29,
   "id": "pregnant-middle",
   "metadata": {},
   "outputs": [],
   "source": [
    "BRM = 'configuration-data'"
   ]
  },
  {
   "cell_type": "code",
   "execution_count": 30,
   "id": "completed-investigator",
   "metadata": {},
   "outputs": [],
   "source": [
    "VBRM= 'DEFAULT-eric-data-document-database-pg'"
   ]
  },
  {
   "cell_type": "code",
   "execution_count": 31,
   "id": "about-clinic",
   "metadata": {},
   "outputs": [],
   "source": [
    "BROBRM = 'DEFAULT-bro'"
   ]
  },
  {
   "cell_type": "code",
   "execution_count": 32,
   "id": "guilty-fraction",
   "metadata": {},
   "outputs": [],
   "source": [
    "AGENTBRM = '\"\"-bro'"
   ]
  },
  {
   "cell_type": "markdown",
   "id": "stable-eight",
   "metadata": {},
   "source": [
    "## Action"
   ]
  },
  {
   "cell_type": "markdown",
   "id": "recovered-marine",
   "metadata": {},
   "source": [
    "### List Actions"
   ]
  },
  {
   "cell_type": "code",
   "execution_count": 24,
   "id": "strong-million",
   "metadata": {
    "scrolled": true
   },
   "outputs": [
    {
     "data": {
      "text/plain": [
       "{'actions': []}"
      ]
     },
     "execution_count": 24,
     "metadata": {},
     "output_type": "execute_result"
    }
   ],
   "source": [
    "BRM = 'configuration-data'\n",
    "url = baseurl + f'/v1/backup-manager/{VBRM}/action/'\n",
    "result = requests.get(url)\n",
    "result.json()"
   ]
  },
  {
   "cell_type": "code",
   "execution_count": null,
   "id": "functional-precipitation",
   "metadata": {},
   "outputs": [],
   "source": [
    "actionid = '13788'"
   ]
  },
  {
   "cell_type": "markdown",
   "id": "plain-findings",
   "metadata": {},
   "source": [
    "### Detail an action"
   ]
  },
  {
   "cell_type": "code",
   "execution_count": 28,
   "id": "satisfied-delight",
   "metadata": {},
   "outputs": [
    {
     "data": {
      "text/plain": [
       "{'name': 'CREATE_BACKUP',\n",
       " 'result': 'SUCCESS',\n",
       " 'payload': {'backupName': 'DemoBackup19'},\n",
       " 'resultInfo': '{Agent: eric-data-document-database-pg, Stage: EXECUTION, success: true, message: Preparation for backup is successful}, {Agent: eric-data-document-database-pg, Stage: POST_ACTIONS, success: true, message: The PG B&R Agent has completed a backup for DemoBackup19}, {Agent: eric-data-document-database-pg, Stage: COMPLETE, success: true, message: Post backup actions completed}',\n",
       " 'state': 'FINISHED',\n",
       " 'progressPercentage': 1.0,\n",
       " 'startTime': '2022-02-16T13:46:29.4434Z',\n",
       " 'completionTime': '2022-02-16T13:46:44.051104Z',\n",
       " 'lastUpdateTime': '2022-02-16T13:46:44.051104Z',\n",
       " 'id': '17862'}"
      ]
     },
     "execution_count": 28,
     "metadata": {},
     "output_type": "execute_result"
    }
   ],
   "source": [
    "url = baseurl + f'/v1/backup-manager/{VBRM}/action/{actionid}'\n",
    "result = requests.get(url)\n",
    "result.json()"
   ]
  },
  {
   "cell_type": "markdown",
   "id": "afraid-lounge",
   "metadata": {},
   "source": [
    "### Create a backup"
   ]
  },
  {
   "cell_type": "code",
   "execution_count": 27,
   "id": "enabling-professional",
   "metadata": {},
   "outputs": [],
   "source": [
    "backupName = 'DemoBackup38'"
   ]
  },
  {
   "cell_type": "code",
   "execution_count": 35,
   "id": "photographic-development",
   "metadata": {
    "scrolled": true
   },
   "outputs": [
    {
     "data": {
      "text/plain": [
       "'53715'"
      ]
     },
     "execution_count": 35,
     "metadata": {},
     "output_type": "execute_result"
    }
   ],
   "source": [
    "url = baseurl + f'/v1/backup-manager/{BRM}/action'\n",
    "body = {\n",
    "      \"action\": \"CREATE_BACKUP\",\n",
    "      \"payload\": {\n",
    "        \"backupName\": backupName\n",
    "      }\n",
    "    }\n",
    "result = requests.post(url, json = body)\n",
    "actionid = result.json().get('id')\n",
    "actionid"
   ]
  },
  {
   "cell_type": "markdown",
   "id": "secret-suggestion",
   "metadata": {},
   "source": [
    "### Delete a backup"
   ]
  },
  {
   "cell_type": "code",
   "execution_count": 8,
   "id": "adequate-session",
   "metadata": {
    "scrolled": true
   },
   "outputs": [],
   "source": [
    "url = baseurl + f'/v1/backup-manager/{BRM}/action'\n",
    "body = {\n",
    "      \"action\": \"DELETE_BACKUP\",\n",
    "      \"payload\": {\n",
    "        \"backupName\": backupName\n",
    "      }\n",
    "    }\n",
    "result = requests.post(url, json = body)\n",
    "actionid = result.json().get('id')\n",
    "actionid"
   ]
  },
  {
   "cell_type": "markdown",
   "id": "inner-receipt",
   "metadata": {},
   "source": [
    "### Restore a backup"
   ]
  },
  {
   "cell_type": "code",
   "execution_count": 14,
   "id": "agreed-retrieval",
   "metadata": {},
   "outputs": [],
   "source": [
    "backupName = 'DemoBackup02'"
   ]
  },
  {
   "cell_type": "code",
   "execution_count": 36,
   "id": "welsh-appointment",
   "metadata": {},
   "outputs": [
    {
     "data": {
      "text/plain": [
       "'42094'"
      ]
     },
     "execution_count": 36,
     "metadata": {},
     "output_type": "execute_result"
    }
   ],
   "source": [
    "url = baseurl + f'/v1/backup-manager/{BROBRM}/action'\n",
    "body = {\n",
    "      \"action\": \"RESTORE\",\n",
    "      \"payload\": {\n",
    "        \"backupName\": backupName\n",
    "      }\n",
    "    }\n",
    "result = requests.post(url, json = body)\n",
    "actionid = result.json().get('id')\n",
    "actionid"
   ]
  },
  {
   "cell_type": "markdown",
   "id": "intense-salad",
   "metadata": {},
   "source": [
    "### Export a backup"
   ]
  },
  {
   "cell_type": "code",
   "execution_count": 139,
   "id": "alert-yemen",
   "metadata": {},
   "outputs": [],
   "source": [
    "backupName = 'cmyp-backup05'"
   ]
  },
  {
   "cell_type": "code",
   "execution_count": 9,
   "id": "lyric-charger",
   "metadata": {},
   "outputs": [],
   "source": [
    "# pod ip\n",
    "sftpHost = 'bro-test-sftp'"
   ]
  },
  {
   "cell_type": "code",
   "execution_count": 25,
   "id": "backed-stockholm",
   "metadata": {},
   "outputs": [
    {
     "data": {
      "text/plain": [
       "'12475'"
      ]
     },
     "execution_count": 25,
     "metadata": {},
     "output_type": "execute_result"
    }
   ],
   "source": [
    "url = baseurl + f'/v1/backup-manager/{BRM}/action'\n",
    "body = {\n",
    "      \"action\": \"EXPORT\",\n",
    "      \"payload\": {\n",
    "        \"backupName\": backupName,\n",
    "        \"uri\": f\"sftp://brsftp@{sftpHost}:9022/bro_test\",\n",
    "        \"password\": \"planbsftp\"  \n",
    "      }\n",
    "    }\n",
    "result = requests.post(url, json = body)\n",
    "actionid = result.json().get('id')\n",
    "actionid"
   ]
  },
  {
   "cell_type": "markdown",
   "id": "prospective-structure",
   "metadata": {},
   "source": [
    "### Import a backup"
   ]
  },
  {
   "cell_type": "code",
   "execution_count": 33,
   "id": "imported-account",
   "metadata": {},
   "outputs": [
    {
     "data": {
      "text/plain": [
       "'35296'"
      ]
     },
     "execution_count": 33,
     "metadata": {},
     "output_type": "execute_result"
    }
   ],
   "source": [
    "url = baseurl + f'/v1/backup-manager/{BRM}/action'\n",
    "body = {\n",
    "      \"action\": \"IMPORT\",\n",
    "      \"payload\": {\n",
    "        \"uri\": f\"sftp://brsftp@{sftpHost}:22/bro_test/{BRM}/{backupName}\",\n",
    "        \"password\": \"planbsftp\"  \n",
    "      }\n",
    "    }\n",
    "result = requests.post(url, json = body)\n",
    "actionid = result.json().get('id')\n",
    "actionid"
   ]
  },
  {
   "cell_type": "markdown",
   "id": "altered-sheet",
   "metadata": {},
   "source": [
    "## Backup"
   ]
  },
  {
   "cell_type": "markdown",
   "id": "gothic-attendance",
   "metadata": {},
   "source": [
    "### List backups"
   ]
  },
  {
   "cell_type": "code",
   "execution_count": 13,
   "id": "biological-joining",
   "metadata": {},
   "outputs": [
    {
     "data": {
      "text/plain": [
       "{'backups': [{'name': 'MY_SCHEDULED-2022-05-14T10:03:00.370703+01:00',\n",
       "   'status': 'COMPLETE',\n",
       "   'creationTime': '2022-05-14T10:03:00.370703+01:00',\n",
       "   'id': 'MY_SCHEDULED-2022-05-14T10:03:00.370703+01:00'}]}"
      ]
     },
     "execution_count": 13,
     "metadata": {},
     "output_type": "execute_result"
    }
   ],
   "source": [
    "url = baseurl + f'/v1/backup-manager/{BRM}/backup'\n",
    "result = requests.get(url)\n",
    "result.json()"
   ]
  },
  {
   "cell_type": "markdown",
   "id": "honey-argument",
   "metadata": {},
   "source": [
    "### Detail a backup"
   ]
  },
  {
   "cell_type": "code",
   "execution_count": 24,
   "id": "constant-negative",
   "metadata": {},
   "outputs": [],
   "source": [
    "backupName = 'DemoBackup01'"
   ]
  },
  {
   "cell_type": "code",
   "execution_count": 10,
   "id": "independent-technology",
   "metadata": {},
   "outputs": [
    {
     "data": {
      "text/plain": [
       "{'name': 'DemoBackup20',\n",
       " 'creationType': 'MANUAL',\n",
       " 'status': 'COMPLETE',\n",
       " 'softwareVersions': [{'productName': 'Document Database PG',\n",
       "   'productNumber': 'APR 201 34',\n",
       "   'productRevision': '7.1.0_43',\n",
       "   'date': '2022-02-19',\n",
       "   'description': 'eric-data-document-database-pg Agent for backup and restore.',\n",
       "   'type': 'Database',\n",
       "   'agentId': 'eric-data-document-database-pg'},\n",
       "  {'productName': 'Test Application',\n",
       "   'productNumber': 'APR XXX XX/X',\n",
       "   'productRevision': 'R1A',\n",
       "   'date': '2019-05-17T14:12:44+00:00',\n",
       "   'description': 'Test Application Drop 15',\n",
       "   'type': 'Predelivery',\n",
       "   'agentId': 'APPLICATION_INFO'}],\n",
       " 'creationTime': '2022-03-03T10:27:48.402779Z',\n",
       " 'id': 'DemoBackup20'}"
      ]
     },
     "execution_count": 10,
     "metadata": {},
     "output_type": "execute_result"
    }
   ],
   "source": [
    "url = baseurl + f'/v1/backup-manager/{BRM}/backup/{backupName}'\n",
    "result = requests.get(url)\n",
    "result.json()"
   ]
  },
  {
   "cell_type": "markdown",
   "id": "olive-vanilla",
   "metadata": {},
   "source": [
    "## Housekeeping"
   ]
  },
  {
   "cell_type": "markdown",
   "id": "accessory-festival",
   "metadata": {},
   "source": [
    "### Show the housekeeping"
   ]
  },
  {
   "cell_type": "code",
   "execution_count": 20,
   "id": "tested-botswana",
   "metadata": {},
   "outputs": [
    {
     "data": {
      "text/plain": [
       "{'max-stored-manual-backups': 100, 'auto-delete': 'enabled'}"
      ]
     },
     "execution_count": 20,
     "metadata": {},
     "output_type": "execute_result"
    }
   ],
   "source": [
    "url = baseurl + f'/v3/backup-managers/{BRM}/housekeeping'\n",
    "result = requests.get(url)\n",
    "result.json()"
   ]
  },
  {
   "cell_type": "markdown",
   "id": "honey-peripheral",
   "metadata": {},
   "source": [
    "### Update housekeeping config"
   ]
  },
  {
   "cell_type": "code",
   "execution_count": 15,
   "id": "minus-barbados",
   "metadata": {},
   "outputs": [
    {
     "data": {
      "text/plain": [
       "'45193'"
      ]
     },
     "execution_count": 15,
     "metadata": {},
     "output_type": "execute_result"
    }
   ],
   "source": [
    "url = baseurl + f'/v3/backup-managers/{BRM}/housekeeping'\n",
    "body = {\n",
    "      \"auto-delete\": \"disabled\",\n",
    "      \"max-stored-manual-backups\": 100\n",
    "    }\n",
    "result = requests.post(url, json = body)\n",
    "actionid = result.json().get('id')\n",
    "actionid"
   ]
  },
  {
   "cell_type": "markdown",
   "id": "forward-japan",
   "metadata": {},
   "source": [
    "## BRM"
   ]
  },
  {
   "cell_type": "markdown",
   "id": "violent-underground",
   "metadata": {},
   "source": [
    "### List BRM"
   ]
  },
  {
   "cell_type": "code",
   "execution_count": 46,
   "id": "dried-momentum",
   "metadata": {},
   "outputs": [
    {
     "data": {
      "text/plain": [
       "{'backupManagers': [{'id': 'configuration-data'}, {'id': 'DEFAULT'}]}"
      ]
     },
     "execution_count": 46,
     "metadata": {},
     "output_type": "execute_result"
    }
   ],
   "source": [
    "url = baseurl + '/v1/backup-manager'\n",
    "result = requests.get(url)\n",
    "result.json()"
   ]
  },
  {
   "cell_type": "code",
   "execution_count": 14,
   "id": "vertical-marsh",
   "metadata": {},
   "outputs": [
    {
     "data": {
      "text/plain": [
       "{'backupType': None, 'backupDomain': None, 'id': 'configuration-data'}"
      ]
     },
     "execution_count": 14,
     "metadata": {},
     "output_type": "execute_result"
    }
   ],
   "source": [
    "url = baseurl + f'/v1/backup-manager/{BRM}'\n",
    "result = requests.get(url)\n",
    "result.json()"
   ]
  },
  {
   "cell_type": "markdown",
   "id": "boolean-agency",
   "metadata": {},
   "source": [
    "## Scheduling"
   ]
  },
  {
   "cell_type": "markdown",
   "id": "harmful-covering",
   "metadata": {},
   "source": [
    "### View a BRM's Scheduler"
   ]
  },
  {
   "cell_type": "code",
   "execution_count": 7,
   "id": "unlike-nursery",
   "metadata": {},
   "outputs": [
    {
     "data": {
      "text/plain": [
       "{'mostRecentlyCreatedAutoBackup': None,\n",
       " 'nextScheduledTime': None,\n",
       " 'adminState': 'UNLOCKED',\n",
       " 'scheduledBackupName': 'SCHEDULED_BACKUP',\n",
       " 'autoExport': 'DISABLED',\n",
       " 'autoExportPassword': '',\n",
       " 'autoExportUri': None}"
      ]
     },
     "execution_count": 7,
     "metadata": {},
     "output_type": "execute_result"
    }
   ],
   "source": [
    "url = baseurl + f'/v3/backup-managers/{BRM}/scheduler'\n",
    "result = requests.get(url)\n",
    "result.json()"
   ]
  },
  {
   "cell_type": "markdown",
   "id": "handled-bridge",
   "metadata": {},
   "source": [
    "### update the scheduler"
   ]
  },
  {
   "cell_type": "markdown",
   "id": "coupled-strengthening",
   "metadata": {},
   "source": [
    "Don't execute it when CMYP is enabled. BRO will fail and can't come back."
   ]
  },
  {
   "cell_type": "code",
   "execution_count": 10,
   "id": "juvenile-setup",
   "metadata": {},
   "outputs": [
    {
     "data": {
      "text/plain": [
       "{'mostRecentlyCreatedAutoBackup': None,\n",
       " 'nextScheduledTime': None,\n",
       " 'adminState': 'UNLOCKED',\n",
       " 'scheduledBackupName': 'MY_SCHEDULED',\n",
       " 'autoExport': 'ENABLED',\n",
       " 'autoExportPassword': '*****',\n",
       " 'autoExportUri': 'sftp://brsftp@bro-test-sftp:9022/bro_test'}"
      ]
     },
     "execution_count": 10,
     "metadata": {},
     "output_type": "execute_result"
    }
   ],
   "source": [
    "url = baseurl + f'/v3/backup-managers/{BRM}/scheduler/configuration'\n",
    "body = {\n",
    "      'adminState': 'UNLOCKED',\n",
    "     'scheduledBackupName': 'MY_SCHEDULED',\n",
    "     'autoExport': 'ENABLED',\n",
    "     'autoExportPassword': 'planbsftp',\n",
    "     'autoExportUri': f\"sftp://brsftp@{sftpHost}:9022/bro_test\"\n",
    "    }\n",
    "result = requests.put(url, json = body)\n",
    "result.json()"
   ]
  },
  {
   "cell_type": "markdown",
   "id": "straight-trout",
   "metadata": {},
   "source": [
    "### create a Periodic Scheduling"
   ]
  },
  {
   "cell_type": "code",
   "execution_count": 18,
   "id": "collect-rwanda",
   "metadata": {},
   "outputs": [
    {
     "data": {
      "text/plain": [
       "'55908'"
      ]
     },
     "execution_count": 18,
     "metadata": {},
     "output_type": "execute_result"
    }
   ],
   "source": [
    "url = baseurl + f'/v3/backup-managers/{BRM}/scheduler/periodic-events'\n",
    "body = {\n",
    "      'hours': 0,\n",
    "        'minutes': 3,\n",
    "    'startTime':'2022-02-02T17:15:00',\n",
    "    'stopTime':'2022-05-14T10:15:00'\n",
    "    }\n",
    "result = requests.post(url, json = body)\n",
    "eventid = result.json().get('id')\n",
    "eventid"
   ]
  },
  {
   "cell_type": "code",
   "execution_count": 26,
   "id": "israeli-event",
   "metadata": {},
   "outputs": [
    {
     "data": {
      "text/plain": [
       "'52738'"
      ]
     },
     "execution_count": 26,
     "metadata": {},
     "output_type": "execute_result"
    }
   ],
   "source": [
    "url = baseurl + f'/v3/backup-managers/{BRM}/scheduler/periodic-events'\n",
    "body = {\n",
    "      'hours': 2,\n",
    "        'minutes': 34,\n",
    "    'startTime':'2022-02-02T17:15:00',\n",
    "    'stopTime':'2022-02-02T18:15:00'\n",
    "    }\n",
    "result = requests.post(url, json = body)\n",
    "eventid = result.json().get('id')\n",
    "eventid"
   ]
  },
  {
   "cell_type": "markdown",
   "id": "alone-traveler",
   "metadata": {},
   "source": [
    "### list all periodic-events"
   ]
  },
  {
   "cell_type": "code",
   "execution_count": 24,
   "id": "controlling-moment",
   "metadata": {
    "scrolled": true
   },
   "outputs": [
    {
     "data": {
      "text/plain": [
       "{'events': [{'startTime': '2022-02-02T17:15:00Z',\n",
       "   'stopTime': '2022-05-14T10:15:00+01:00',\n",
       "   'minutes': 2,\n",
       "   'hours': 0,\n",
       "   'days': 0,\n",
       "   'weeks': 0,\n",
       "   'id': '23191'}]}"
      ]
     },
     "execution_count": 24,
     "metadata": {},
     "output_type": "execute_result"
    }
   ],
   "source": [
    "url = baseurl + f'/v3/backup-managers/{BRM}/scheduler/periodic-events'\n",
    "result = requests.get(url)\n",
    "result.json()"
   ]
  },
  {
   "cell_type": "markdown",
   "id": "mathematical-athletics",
   "metadata": {},
   "source": [
    "### detail a periodic-event"
   ]
  },
  {
   "cell_type": "code",
   "execution_count": 19,
   "id": "given-colon",
   "metadata": {},
   "outputs": [
    {
     "data": {
      "text/plain": [
       "{'startTime': '2022-02-02T17:15:00Z',\n",
       " 'stopTime': '2022-05-14T10:15:00+01:00',\n",
       " 'minutes': 3,\n",
       " 'hours': 0,\n",
       " 'days': 0,\n",
       " 'weeks': 0,\n",
       " 'id': '55908'}"
      ]
     },
     "execution_count": 19,
     "metadata": {},
     "output_type": "execute_result"
    }
   ],
   "source": [
    "url = baseurl + f'/v3/backup-managers/{BRM}/scheduler/periodic-events/{eventid}'\n",
    "result = requests.get(url)\n",
    "result.json()"
   ]
  },
  {
   "cell_type": "markdown",
   "id": "compatible-greenhouse",
   "metadata": {},
   "source": [
    "### update a periodic-event"
   ]
  },
  {
   "cell_type": "code",
   "execution_count": 20,
   "id": "black-complexity",
   "metadata": {},
   "outputs": [
    {
     "data": {
      "text/plain": [
       "{'startTime': '2022-02-02T17:15:00Z',\n",
       " 'stopTime': '2022-02-02T18:15:00Z',\n",
       " 'minutes': 33,\n",
       " 'hours': 2,\n",
       " 'days': 0,\n",
       " 'weeks': 0,\n",
       " 'id': '55908'}"
      ]
     },
     "execution_count": 20,
     "metadata": {},
     "output_type": "execute_result"
    }
   ],
   "source": [
    "url = baseurl + f'/v3/backup-managers/{BRM}/scheduler/periodic-events/{eventid}'\n",
    "body = {\n",
    "      'hours': 2,\n",
    "        'minutes': 33,\n",
    "    'startTime':'2022-02-02T17:15:00',\n",
    "    'stopTime':'2022-02-02T18:15:00'\n",
    "    }\n",
    "result = requests.put(url, json = body)\n",
    "result.json()"
   ]
  },
  {
   "cell_type": "markdown",
   "id": "minimal-pharmacy",
   "metadata": {},
   "source": [
    "### delete a periodic event"
   ]
  },
  {
   "cell_type": "code",
   "execution_count": 22,
   "id": "acute-border",
   "metadata": {},
   "outputs": [
    {
     "data": {
      "text/plain": [
       "<Response [204]>"
      ]
     },
     "execution_count": 22,
     "metadata": {},
     "output_type": "execute_result"
    }
   ],
   "source": [
    "url = baseurl + f'/v3/backup-managers/{BRM}/scheduler/periodic-events/{eventid}'\n",
    "result = requests.delete(url)\n",
    "result"
   ]
  },
  {
   "cell_type": "code",
   "execution_count": 23,
   "id": "stretch-poverty",
   "metadata": {},
   "outputs": [
    {
     "data": {
      "text/plain": [
       "''"
      ]
     },
     "execution_count": 23,
     "metadata": {},
     "output_type": "execute_result"
    }
   ],
   "source": [
    "result.text"
   ]
  },
  {
   "cell_type": "markdown",
   "id": "secure-humanity",
   "metadata": {},
   "source": [
    "## CMM endpoint"
   ]
  },
  {
   "cell_type": "code",
   "execution_count": 10,
   "id": "alike-intensity",
   "metadata": {},
   "outputs": [],
   "source": [
    "url = 'http://10.120.217.249:5003/cm/api/v1/schemas/ericsson-brm'"
   ]
  },
  {
   "cell_type": "code",
   "execution_count": 11,
   "id": "chubby-windows",
   "metadata": {
    "scrolled": false
   },
   "outputs": [
    {
     "data": {
      "text/plain": [
       "{'name': 'ericsson-brm',\n",
       " 'title': 'ericsson-brm',\n",
       " 'jsonSchema': {'type': 'object',\n",
       "  'title': 'ericsson-brm',\n",
       "  '$schema': 'http://json-schema.org/draft-07/schema#',\n",
       "  'properties': {'ericsson-brm:brm': {'type': 'object',\n",
       "    'properties': {'backup-manager': {'type': 'array',\n",
       "      'items': {'type': 'object',\n",
       "       'required': ['backup-domain', 'backup-type', 'id'],\n",
       "       'properties': {'id': {'type': 'string',\n",
       "         'description': 'Identity of the backup-manager.'},\n",
       "        'backup': {'type': 'array',\n",
       "         'items': {'type': 'object',\n",
       "          'required': ['backup-name',\n",
       "           'creation-time',\n",
       "           'creation-type',\n",
       "           'id',\n",
       "           'status'],\n",
       "          'properties': {'id': {'type': 'string',\n",
       "            'description': 'Identity of the backup.'},\n",
       "           'status': {'enum': ['backup-complete',\n",
       "             'backup-incomplete',\n",
       "             'backup-corrupted'],\n",
       "            'description': 'Status of the backup.'},\n",
       "           'sw-version': {'type': 'array',\n",
       "            'items': {'type': 'object',\n",
       "             'required': ['description',\n",
       "              'product-name',\n",
       "              'product-number',\n",
       "              'product-revision',\n",
       "              'production-date',\n",
       "              'type'],\n",
       "             'properties': {'type': {'type': 'string',\n",
       "               'description': 'Free text description of the product type.'},\n",
       "              'description': {'type': 'string',\n",
       "               'description': 'Free text description of the product.'},\n",
       "              'product-name': {'type': 'string',\n",
       "               'description': 'Name of the product.'},\n",
       "              'product-number': {'type': 'string',\n",
       "               'description': 'Product number of the product.'},\n",
       "              'production-date': {'type': 'string',\n",
       "               'format': 'date-time',\n",
       "               'description': 'Production date of the product.'},\n",
       "              'product-revision': {'type': 'string',\n",
       "               'description': 'Revision state of the product.'},\n",
       "              'semantic-version': {'type': 'string',\n",
       "               'pattern': '^\\\\d+[.]\\\\d+[.]\\\\d+(-[\\\\w\\\\d.]+)?([+][\\\\w\\\\d\\\\.]+)?$',\n",
       "               'description': 'Semantic version of the product. semantic-version will change to a new value whenever product-revision changes. A specific product-version will always be acompanied by the same semantic-version.'},\n",
       "              'commercial-version': {'type': 'string',\n",
       "               'description': 'Commercial version of the product. commercial-version will change to a new value whenever product-revision changes. A specific product-version will always be acompanied by the same commercial-version.'}},\n",
       "             'additionalProperties': False},\n",
       "            'description': 'The administrative data portion of active software versions as specified in the software inventory management, when the backup is created.',\n",
       "            'uniqueItems': True},\n",
       "           'backup-name': {'type': 'string',\n",
       "            'description': 'Backup name, provided by the operator.'},\n",
       "           'creation-time': {'type': 'string',\n",
       "            'format': 'date-time',\n",
       "            'description': 'Date and time when the backup was created, i.e., start time of backup procedure.'},\n",
       "           'creation-type': {'enum': ['manual', 'scheduled', 'system-created'],\n",
       "            'description': 'Creation type; whether manually created or automatically via scheduler.'},\n",
       "           'progress-report': {'type': 'array',\n",
       "            'items': {'type': 'object',\n",
       "             'required': ['time-action-started', 'time-of-last-status-update'],\n",
       "             'properties': {'state': {'enum': ['cancelling',\n",
       "                'running',\n",
       "                'finished',\n",
       "                'cancelled'],\n",
       "               'description': 'Current state of the action.'},\n",
       "              'result': {'enum': ['success', 'failure', 'not-available'],\n",
       "               'description': 'Result state of a completed action. This field has value not-available if the action is not finished.'},\n",
       "              'action-id': {'type': 'integer',\n",
       "               'format': 'uint16',\n",
       "               'maximum': 65535,\n",
       "               'minimum': 0,\n",
       "               'description': 'Uniquely identifies the invocation of an action. Identifies the invocation of an action when the managed object allows invocation of more than one action at a time.'},\n",
       "              'action-name': {'type': 'string',\n",
       "               'description': 'Name of the invoked asynchronous action.'},\n",
       "              'result-info': {'type': 'string',\n",
       "               'description': 'Textual description of the outcome/result of the action containing useful information for the NMS. If the action failed, it can contain an error message.'},\n",
       "              'progress-info': {'type': 'string',\n",
       "               'description': 'Textual information that describes the actual state of the action execution.'},\n",
       "              'additional-info': {'type': 'array',\n",
       "               'items': {'type': 'string'},\n",
       "               'description': 'Used for logging significant messages during execution of an action.'},\n",
       "              'progress-percentage': {'type': 'integer',\n",
       "               'format': 'uint8',\n",
       "               'maximum': 100,\n",
       "               'minimum': 0,\n",
       "               'description': 'Progress of the action.'},\n",
       "              'time-action-started': {'type': 'string',\n",
       "               'format': 'date-time',\n",
       "               'description': 'Date and time when the current action was started.'},\n",
       "              'time-action-completed': {'type': 'string',\n",
       "               'format': 'date-time',\n",
       "               'description': 'Date and time when the action was completed (successfully or unsuccessfully).'},\n",
       "              'time-of-last-status-update': {'type': 'string',\n",
       "               'format': 'date-time',\n",
       "               'description': 'Date and time when the struct member state was last updated.'}},\n",
       "             'additionalProperties': False},\n",
       "            'maxItems': 1,\n",
       "            'description': 'Represents the progress report and final result of the ongoing (asynchronous) action in this backup, for example restore. Backup supports only one action to be executed at a time.',\n",
       "            'uniqueItems': True}},\n",
       "          'additionalProperties': False},\n",
       "         'description': 'Represents one backup of the type and domain specified by the backup-manager in which it is contained.',\n",
       "         'uniqueItems': True,\n",
       "         'eric-adp-actions': ['ericsson-brm:brm::backup-manager::backup::restore',\n",
       "          'ericsson-brm:brm::backup-manager::backup::export']},\n",
       "        'scheduler': {'type': 'object',\n",
       "         'properties': {'admin-state': {'enum': ['locked', 'unlocked'],\n",
       "           'default': 'unlocked',\n",
       "           'description': 'Administrative state of the scheduler.'},\n",
       "          'auto-export': {'enum': ['enabled', 'disabled'],\n",
       "           'default': 'disabled',\n",
       "           'description': 'Determines whether a scheduled backup is to be automatically exported at successful creation. If set to ENABLED, the scheduled backup specified by the leaf most-recently-created-auto-backup is exported to the location specified by leaf auto-export-uri after it is successfully created. Note that the automatic export is only triggered if creation of the scheduled backup was successful. Otherwise, no export operation is triggered, even if this leaf is set to ENABLED. Also, note that setting this leaf to ENABLED has no impact on the scheduled backups that were already created and stored prior to the new configuration.'},\n",
       "          'periodic-event': {'type': 'array',\n",
       "           'items': {'type': 'object',\n",
       "            'required': ['hours', 'id'],\n",
       "            'properties': {'id': {'type': 'string',\n",
       "              'description': 'Identity of the periodic-event.'},\n",
       "             'days': {'type': 'integer',\n",
       "              'format': 'uint16',\n",
       "              'default': '0',\n",
       "              'maximum': 65535,\n",
       "              'minimum': 0,\n",
       "              'description': 'The number of days.'},\n",
       "             'hours': {'type': 'integer',\n",
       "              'format': 'uint16',\n",
       "              'maximum': 65535,\n",
       "              'minimum': 0,\n",
       "              'description': 'The number of hours.'},\n",
       "             'weeks': {'type': 'integer',\n",
       "              'format': 'uint16',\n",
       "              'default': '0',\n",
       "              'maximum': 65535,\n",
       "              'minimum': 0,\n",
       "              'description': 'The number of weeks.'},\n",
       "             'minutes': {'type': 'integer',\n",
       "              'format': 'uint16',\n",
       "              'default': '0',\n",
       "              'maximum': 65535,\n",
       "              'minimum': 0,\n",
       "              'description': 'The number of minutes.'},\n",
       "             'stop-time': {'type': 'string',\n",
       "              'format': 'date-time',\n",
       "              'description': 'Stop time. If no stop-time present the event continues indefinitely.'},\n",
       "             'start-time': {'type': 'string',\n",
       "              'format': 'date-time',\n",
       "              'description': 'Start time. If not specified, the implementation uses the current system time as the default value.'}},\n",
       "            'additionalProperties': False},\n",
       "           'description': 'Periodic backup event. This construct can be used to configure a periodic scheduled backup event by specifying the number of months, weeks, days, hours, or minutes. For instance, in order to configure a scheduled backup event to occur every 12 hours, the following setup must be done: hours = 12. If more than one leaf is set, the values are added when calculating the next scheduled event. For example, if hours = 6 and minutes = 30, the scheduled backup event occurs every 6 hour and 30 minutes. The start time for calculating scheduled events is assumed to be the current system time by default, unless explicitly set using the start-time leaf. Furthermore, if the configured event is to stop at a specific date, leaf stop-time must be set accordingly. Daylight saving adjustments in Spring and Fall are addressed in such a way that the affected scheduled backup events are triggered exactly once only',\n",
       "           'uniqueItems': True},\n",
       "          'auto-export-uri': {'type': 'string',\n",
       "           'format': 'uri',\n",
       "           'description': 'Uri used by the backup scheduler when automatically exporting a scheduled backup. If leaf auto-export is set to ENABLED, this uri specifies the location to which the scheduled backup is automatically exported.'},\n",
       "          'progress-report': {'type': 'array',\n",
       "           'items': {'type': 'object',\n",
       "            'required': ['time-action-started', 'time-of-last-status-update'],\n",
       "            'properties': {'state': {'enum': ['cancelling',\n",
       "               'running',\n",
       "               'finished',\n",
       "               'cancelled'],\n",
       "              'description': 'Current state of the action.'},\n",
       "             'result': {'enum': ['success', 'failure', 'not-available'],\n",
       "              'description': 'Result state of a completed action. This field has value not-available if the action is not finished.'},\n",
       "             'action-id': {'type': 'integer',\n",
       "              'format': 'uint16',\n",
       "              'maximum': 65535,\n",
       "              'minimum': 0,\n",
       "              'description': 'Uniquely identifies the invocation of an action. Identifies the invocation of an action when the managed object allows invocation of more than one action at a time.'},\n",
       "             'action-name': {'type': 'string',\n",
       "              'description': 'Name of the invoked asynchronous action.'},\n",
       "             'result-info': {'type': 'string',\n",
       "              'description': 'Textual description of the outcome/result of the action containing useful information for the NMS. If the action failed, it can contain an error message.'},\n",
       "             'progress-info': {'type': 'string',\n",
       "              'description': 'Textual information that describes the actual state of the action execution.'},\n",
       "             'additional-info': {'type': 'array',\n",
       "              'items': {'type': 'string'},\n",
       "              'description': 'Used for logging significant messages during execution of an action.'},\n",
       "             'progress-percentage': {'type': 'integer',\n",
       "              'format': 'uint8',\n",
       "              'maximum': 100,\n",
       "              'minimum': 0,\n",
       "              'description': 'Progress of the action.'},\n",
       "             'time-action-started': {'type': 'string',\n",
       "              'format': 'date-time',\n",
       "              'description': 'Date and time when the current action was started.'},\n",
       "             'time-action-completed': {'type': 'string',\n",
       "              'format': 'date-time',\n",
       "              'description': 'Date and time when the action was completed (successfully or unsuccessfully).'},\n",
       "             'time-of-last-status-update': {'type': 'string',\n",
       "              'format': 'date-time',\n",
       "              'description': 'Date and time when the struct member state was last updated.'}},\n",
       "            'additionalProperties': False},\n",
       "           'maxItems': 1,\n",
       "           'description': 'Reports the progress and final result of the ongoing (asynchronous) scheduled backup operation.',\n",
       "           'uniqueItems': True},\n",
       "          'next-scheduled-time': {'type': 'string',\n",
       "           'format': 'date-time',\n",
       "           'description': 'The date and time when the next scheduled event is triggered. This is the earliest scheduled event from the set of configured events, i.e. single, periodic, and calendar-based periodic events.'},\n",
       "          'auto-export-password': {'type': 'string',\n",
       "           'format': 'eric-adp-cm-secret',\n",
       "           'description': 'Password used by the backup scheduler when automatically exporting a scheduled backup. If leaf auto-export is set to ENABLED, this password is used for authentication when automatically exporting the scheduled backup. No need to specify this leaf if no password is required for accessing auto-export-uri.',\n",
       "           'eric-adp-is-passphrase': 'true'},\n",
       "          'scheduled-backup-name': {'type': 'string',\n",
       "           'default': 'SCHEDULED_BACKUP',\n",
       "           'description': 'The configurable portion of the scheduled backup name. The scheduled backups are named <scheduled-backup-name>-<creation date and time>, where creation date and time is of type yang:date-and-time.'},\n",
       "          'most-recently-created-auto-backup': {'type': 'string',\n",
       "           'description': 'The name of the scheduled backup created most recently by the backup scheduler.'}},\n",
       "         'description': 'Provides optional support for scheduling backup creation for the parent backup-manager. The scheduled backup events can be Single Events, Calendar Based Periodic Events, or Periodic Events as defined by the child lists.',\n",
       "         'additionalProperties': False},\n",
       "        'backup-type': {'type': 'string',\n",
       "         'description': 'Type of backup, for example System Data or User Data.'},\n",
       "        'housekeeping': {'type': 'object',\n",
       "         'properties': {'auto-delete': {'enum': ['enabled', 'disabled'],\n",
       "           'default': 'enabled',\n",
       "           'description': 'Determines whether automated housekeeping of manual backups is enabled. If ENABLED and the number of backups already stored on the ME is equal to the value of max-stored-manual-backups, the oldest backup is removed before creating a new one. If set to DISABLED, no backup is removed. Instead, when action create-backup() is invoked, it returns a failure parameter.'},\n",
       "          'max-stored-manual-backups': {'type': 'integer',\n",
       "           'format': 'uint16',\n",
       "           'default': '1',\n",
       "           'maximum': 65535,\n",
       "           'minimum': 0,\n",
       "           'description': 'Maximum number of manual backups, per backup type, to store in the ME. When this limit is reached, if auto-delete=ENABLED, BRM removes the oldest manual backup before creating a new one. Otherwise an error is returned when create-backup() is invoked and the NMS must perform the required housekeeping activity before attempting to create a new backup.'}},\n",
       "         'description': 'Provides optional support for automated housekeeping of manually created backups. If auto-delete is set to ENABLED before creating a new manual backup, BRM first checks the number of manual backups, and if the limit specified by the value of max-stored-manual-backups is reached, BRM removes the oldest manual backup before creating a new one.',\n",
       "         'additionalProperties': False},\n",
       "        'backup-domain': {'type': 'string',\n",
       "         'description': 'Backup domain, for example System.'},\n",
       "        'progress-report': {'type': 'array',\n",
       "         'items': {'type': 'object',\n",
       "          'required': ['time-action-started', 'time-of-last-status-update'],\n",
       "          'properties': {'state': {'enum': ['cancelling',\n",
       "             'running',\n",
       "             'finished',\n",
       "             'cancelled'],\n",
       "            'description': 'Current state of the action.'},\n",
       "           'result': {'enum': ['success', 'failure', 'not-available'],\n",
       "            'description': 'Result state of a completed action. This field has value not-available if the action is not finished.'},\n",
       "           'action-id': {'type': 'integer',\n",
       "            'format': 'uint16',\n",
       "            'maximum': 65535,\n",
       "            'minimum': 0,\n",
       "            'description': 'Uniquely identifies the invocation of an action. Identifies the invocation of an action when the managed object allows invocation of more than one action at a time.'},\n",
       "           'action-name': {'type': 'string',\n",
       "            'description': 'Name of the invoked asynchronous action.'},\n",
       "           'result-info': {'type': 'string',\n",
       "            'description': 'Textual description of the outcome/result of the action containing useful information for the NMS. If the action failed, it can contain an error message.'},\n",
       "           'progress-info': {'type': 'string',\n",
       "            'description': 'Textual information that describes the actual state of the action execution.'},\n",
       "           'additional-info': {'type': 'array',\n",
       "            'items': {'type': 'string'},\n",
       "            'description': 'Used for logging significant messages during execution of an action.'},\n",
       "           'progress-percentage': {'type': 'integer',\n",
       "            'format': 'uint8',\n",
       "            'maximum': 100,\n",
       "            'minimum': 0,\n",
       "            'description': 'Progress of the action.'},\n",
       "           'time-action-started': {'type': 'string',\n",
       "            'format': 'date-time',\n",
       "            'description': 'Date and time when the current action was started.'},\n",
       "           'time-action-completed': {'type': 'string',\n",
       "            'format': 'date-time',\n",
       "            'description': 'Date and time when the action was completed (successfully or unsuccessfully).'},\n",
       "           'time-of-last-status-update': {'type': 'string',\n",
       "            'format': 'date-time',\n",
       "            'description': 'Date and time when the struct member state was last updated.'}},\n",
       "          'additionalProperties': False},\n",
       "         'maxItems': 1,\n",
       "         'description': 'Represents the progress report and final result of the ongoing (asynchronous) action, for example create-backup. Supports only one action to be executed at a time.',\n",
       "         'uniqueItems': True}},\n",
       "       'additionalProperties': False},\n",
       "      'description': 'Top node for a backup-domain/type.',\n",
       "      'uniqueItems': True,\n",
       "      'eric-adp-actions': ['ericsson-brm:brm::backup-manager::create-backup',\n",
       "       'ericsson-brm:brm::backup-manager::delete-backup',\n",
       "       'ericsson-brm:brm::backup-manager::import-backup']}},\n",
       "    'description': 'Backup and Restore Management.',\n",
       "    'additionalProperties': False}},\n",
       "  'description': 'Generated by jsonschema-generator (1.20.0-811 2021-08-25 12:00:09 CEST) from Yang module ericsson-brm (4.1.0) on Sep 6, 2021 2:44:21 PM. Features: [ericsson-brm:housekeeping, ericsson-brm:scheduler]. Deviations/extensions: [ericsson-brm-ext-adp]',\n",
       "  'eric-adp-name': 'eric-ctrl-bro',\n",
       "  'eric-adp-version': '1.3.0',\n",
       "  'eric-adp-genoptions': [{'eric-adp-actions': True},\n",
       "   {'encoding-format': 'eric-rfc7951-json'}],\n",
       "  'additionalProperties': False,\n",
       "  'eric-adp-yang-module': 'ericsson-brm',\n",
       "  'eric-adp-encoding-format': 'eric-rfc7951-json'},\n",
       " 'createTime': '2022-02-08T10:00:21.147164Z',\n",
       " 'modifiedTime': '2022-02-08T10:00:21.147164Z',\n",
       " 'actions': {'implementerUri': 'https://eric-ctrl-bro:7002/v2'},\n",
       " 'yangArchiveMd5': '2c26f3e3f671c99bd7295f6f0bd90bfa'}"
      ]
     },
     "execution_count": 11,
     "metadata": {},
     "output_type": "execute_result"
    }
   ],
   "source": [
    "result = requests.get(url)\n",
    "result.json()"
   ]
  },
  {
   "cell_type": "code",
   "execution_count": 12,
   "id": "invisible-motivation",
   "metadata": {},
   "outputs": [
    {
     "data": {
      "text/plain": [
       "{'name': 'ericsson-brm',\n",
       " 'title': 'ericsson-brm',\n",
       " 'data': {'ericsson-brm:brm': {'backup-manager': [{'id': 'configuration-data',\n",
       "     'backup': [{'id': 'mybackup01',\n",
       "       'status': 'backup-complete',\n",
       "       'sw-version': [{'type': 'Legend',\n",
       "         'description': 'agent tls',\n",
       "         'product-name': 'Tiger',\n",
       "         'product-number': 'CXC 888 88/8',\n",
       "         'production-date': '2022-02-09T09:32:56.806278Z',\n",
       "         'product-revision': 'R15'},\n",
       "        {'type': 'data',\n",
       "         'description': 'test agent bravo',\n",
       "         'product-name': 'bravo',\n",
       "         'product-number': 'CXC 222 22/2',\n",
       "         'production-date': '2022-02-09T09:32:56.806409Z',\n",
       "         'product-revision': 'R2'},\n",
       "        {'type': 'Database',\n",
       "         'description': 'eric-data-document-database-pg Agent for backup and restore.',\n",
       "         'product-name': 'Document Database PG',\n",
       "         'product-number': 'APR 201 34',\n",
       "         'production-date': '2022-02-09T09:32:56.806429Z',\n",
       "         'product-revision': '7.0.0_49'},\n",
       "        {'type': 'Predelivery',\n",
       "         'description': 'Test Application Drop 15',\n",
       "         'product-name': 'Test Application',\n",
       "         'product-number': 'APR XXX XX/X',\n",
       "         'production-date': '2019-05-17T14:12:44+00:00',\n",
       "         'product-revision': 'R1A'}],\n",
       "       'backup-name': 'mybackup01',\n",
       "       'creation-time': '2022-02-09T09:32:56.696796Z',\n",
       "       'creation-type': 'manual',\n",
       "       'progress-report': []}],\n",
       "     'scheduler': {'admin-state': 'unlocked',\n",
       "      'auto-export': 'enabled',\n",
       "      'periodic-event': [],\n",
       "      'auto-export-uri': 'sftp://brsftp@bro-test-sftp:9022/bro_test',\n",
       "      'progress-report': [],\n",
       "      'auto-export-password': 'vault:v1:DJCPUqKrcBZNY6Sl1RqpBtz3gaP9sf6lUYQ6/iER19lJSf2jPQ==',\n",
       "      'scheduled-backup-name': 'SCHEDULED',\n",
       "      'most-recently-created-auto-backup': 'SCHEDULED-2022-02-08T09:51:38.103217Z'},\n",
       "     'backup-type': '',\n",
       "     'housekeeping': {'auto-delete': 'disabled',\n",
       "      'max-stored-manual-backups': 5},\n",
       "     'backup-domain': '',\n",
       "     'progress-report': [{'state': 'finished',\n",
       "       'result': 'success',\n",
       "       'action-id': 13797,\n",
       "       'action-name': 'CREATE_BACKUP',\n",
       "       'result-info': '{Agent: eric-data-document-database-pg, Stage: PREPARATION, success: true, message: Preparation for backup is successful}, {Agent: bravo, Stage: PREPARATION, success: true, message: Preparation for backup is successful}, {Agent: tls, Stage: PREPARATION, success: true, message: Preparation for backup is successful}, {Agent: tls, Stage: EXECUTION, success: true, message: The test service has completed a backup for mybackup01 and the data has been sent to the orchestrator}, {Agent: bravo, Stage: EXECUTION, success: true, message: The test service has completed a backup for mybackup01 and the data has been sent to the orchestrator}, {Agent: eric-data-document-database-pg, Stage: EXECUTION, success: true, message: The PG B&R Agent has completed a backup for mybackup01}, {Agent: bravo, Stage: POST_ACTIONS, success: true, message: Post backup actions completed}, {Agent: tls, Stage: POST_ACTIONS, success: true, message: Post backup actions completed}, {Agent: eric-data-document-database-pg, Stage: POST_ACTIONS, success: true, message: Post backup actions completed}',\n",
       "       'additional-info': [],\n",
       "       'progress-percentage': 100,\n",
       "       'time-action-started': '2022-02-09T09:32:56.494239Z',\n",
       "       'time-action-completed': '2022-02-09T09:33:07.966221Z',\n",
       "       'time-of-last-status-update': '2022-02-09T09:33:07.966221Z'}]},\n",
       "    {'id': 'DEFAULT',\n",
       "     'backup': [],\n",
       "     'scheduler': {'admin-state': 'unlocked',\n",
       "      'auto-export': 'disabled',\n",
       "      'periodic-event': [],\n",
       "      'progress-report': [],\n",
       "      'scheduled-backup-name': 'SCHEDULED_BACKUP'},\n",
       "     'backup-type': '',\n",
       "     'housekeeping': {'auto-delete': 'enabled',\n",
       "      'max-stored-manual-backups': 3},\n",
       "     'backup-domain': '',\n",
       "     'progress-report': []}]}}}"
      ]
     },
     "execution_count": 12,
     "metadata": {},
     "output_type": "execute_result"
    }
   ],
   "source": [
    "url = 'http://10.120.217.249:5003/cm/api/v1/configurations/ericsson-brm'\n",
    "result = requests.get(url)\n",
    "result.json()"
   ]
  },
  {
   "cell_type": "code",
   "execution_count": 53,
   "id": "romance-moral",
   "metadata": {},
   "outputs": [
    {
     "data": {
      "text/plain": [
       "[{'name': 'ericsson-bro-test', 'title': 'ericsson-bro-test'},\n",
       " {'name': 'ericsson-brm', 'title': 'ericsson-brm'}]"
      ]
     },
     "execution_count": 53,
     "metadata": {},
     "output_type": "execute_result"
    }
   ],
   "source": [
    "url = 'http://10.120.217.249:5003/cm/api/v1/configurations'\n",
    "result = requests.get(url)\n",
    "result.json()"
   ]
  },
  {
   "cell_type": "code",
   "execution_count": null,
   "id": "reduced-myrtle",
   "metadata": {},
   "outputs": [],
   "source": [
    "url = 'http://10.120.217.249:5003/cm/api/v1/configurations/ietf-netconf-acm'\n",
    "result = requests.delete(url)\n",
    "result.json()"
   ]
  },
  {
   "cell_type": "code",
   "execution_count": 55,
   "id": "defensive-harvey",
   "metadata": {},
   "outputs": [
    {
     "data": {
      "text/plain": [
       "'5761'"
      ]
     },
     "execution_count": 55,
     "metadata": {},
     "output_type": "execute_result"
    }
   ],
   "source": [
    "url = baseurl + f'/v1/backup-manager/{BRM}/action'\n",
    "body = {\n",
    "      \"action\": \"RESTORE\",\n",
    "      \"payload\": {\n",
    "        \"backupName\": backupName\n",
    "      }\n",
    "    }\n",
    "result = requests.post(url, json = body)\n",
    "actionid = result.json().get('id')\n",
    "actionid"
   ]
  },
  {
   "cell_type": "code",
   "execution_count": null,
   "id": "packed-decline",
   "metadata": {},
   "outputs": [],
   "source": [
    "url = 'http://10.120.217.249:5003/cm/api/v1/configurations/ietf-netconf-acm'\n",
    "result = requests.delete(url)\n",
    "result.json()"
   ]
  }
 ],
 "metadata": {
  "kernelspec": {
   "display_name": "Python 3",
   "language": "python",
   "name": "python3"
  },
  "language_info": {
   "codemirror_mode": {
    "name": "ipython",
    "version": 3
   },
   "file_extension": ".py",
   "mimetype": "text/x-python",
   "name": "python",
   "nbconvert_exporter": "python",
   "pygments_lexer": "ipython3",
   "version": "3.8.10"
  }
 },
 "nbformat": 4,
 "nbformat_minor": 5
}
