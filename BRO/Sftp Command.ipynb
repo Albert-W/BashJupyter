{
 "cells": [
  {
   "cell_type": "code",
   "execution_count": 2,
   "id": "adjacent-function",
   "metadata": {},
   "outputs": [],
   "source": [
    "import paramiko\n",
    "import os\n",
    "import sys\n",
    "import select\n",
    "import time "
   ]
  },
  {
   "cell_type": "code",
   "execution_count": 14,
   "id": "descending-weekly",
   "metadata": {},
   "outputs": [],
   "source": [
    "class SSHShell:\n",
    "    def __init__(self, host, user, psw, port):\n",
    "        self.ssh = paramiko.SSHClient()\n",
    "        self.ssh.set_missing_host_key_policy(paramiko.AutoAddPolicy())\n",
    "        self.ssh.connect(host, username=user, password=psw, port=port, timeout=2)\n",
    "        self.refresh()\n",
    "\n",
    "    def __del__(self):\n",
    "        self.ssh.close()\n",
    "    \n",
    "    def refresh(self):\n",
    "        self.channel = self.ssh.invoke_shell()\n",
    "        self.stdin = self.channel.makefile('wb')\n",
    "        self.stdout = self.channel.makefile('r')    \n",
    "\n",
    "    def execute(self, cmd):\n",
    "        cmd = cmd.strip('\\n')\n",
    "        self.stdin.write(cmd + '\\n')\n",
    "        self.stdin.flush()\n",
    "        time.sleep(0.2)\n",
    "        while self.stdout.channel.recv_ready():\n",
    "            rl, wl, xl = select.select([ self.stdout.channel ], [ ], [ ])\n",
    "            if len(rl) > 0:\n",
    "                tmp = self.stdout.channel.recv(1024)\n",
    "                output = tmp.decode()\n",
    "                print(output)"
   ]
  },
  {
   "cell_type": "code",
   "execution_count": 15,
   "id": "loving-corrections",
   "metadata": {},
   "outputs": [],
   "source": [
    "CLI = SSHShell(\"10.120.217.249\", \"brsftp\", \"planbsftp\", 9022)"
   ]
  },
  {
   "cell_type": "code",
   "execution_count": 16,
   "id": "intensive-constant",
   "metadata": {},
   "outputs": [
    {
     "name": "stdout",
     "output_type": "stream",
     "text": [
      "Could not chdir to home directory /home/brsftp: No such file or directory\r\n",
      "-bash-4.4$ ls\r\n",
      "bin\t  etc\t   integration\tmnt   root  selinux\t     sys  var\r\n",
      "bro_test  home\t   lib\t\topt   run   srv\t\t     tmp\r\n",
      "dev\t  initenv  lib64\tproc  sbin  supervisord.pid  usr\r\n",
      "-bash-4.4$ \n"
     ]
    }
   ],
   "source": [
    "CLI.execute('ls')"
   ]
  },
  {
   "cell_type": "code",
   "execution_count": 18,
   "id": "starting-house",
   "metadata": {},
   "outputs": [
    {
     "name": "stdout",
     "output_type": "stream",
     "text": [
      "whoami\r\n",
      "brsftp\r\n",
      "-bash-4.4$ \n"
     ]
    }
   ],
   "source": [
    "CLI.execute('whoami')"
   ]
  },
  {
   "cell_type": "code",
   "execution_count": 19,
   "id": "explicit-firewall",
   "metadata": {},
   "outputs": [],
   "source": [
    "ssh = paramiko.SSHClient()\n",
    "ssh.set_missing_host_key_policy(paramiko.AutoAddPolicy())\n",
    "ssh.connect(\"10.120.217.249\", username=\"brsftp\", password=\"planbsftp\", port=9022)\n",
    "stdin, stdout, stderr = ssh.exec_command(\"\")\n",
    "timeout = 5\n",
    "timeout_start = time.time()\n",
    "while time.time() < timeout_start + timeout:\n",
    "    test = 0\n",
    "    if test == 5:\n",
    "        break\n",
    "    test -= 1\n",
    "    # Only print data if there is data to read in the channel\n",
    "    if stdout.channel.recv_ready():\n",
    "        rl, wl, xl = select.select([ stdout.channel ], [ ], [ ], 0.0)\n",
    "        if len(rl) > 0:\n",
    "            tmp = stdout.channel.recv(1024)\n",
    "            output = tmp.decode()\n",
    "            print(output)"
   ]
  },
  {
   "cell_type": "code",
   "execution_count": 22,
   "id": "comic-armstrong",
   "metadata": {},
   "outputs": [],
   "source": [
    "def execute(bash):\n",
    "    stdin, stdout, stderr = ssh.exec_command(bash)\n",
    "    time.sleep(0.2)\n",
    "    # Only print data if there is data to read in the channel\n",
    "    while stdout.channel.recv_ready():\n",
    "        rl, wl, xl = select.select([ stdout.channel ], [ ], [ ], 0.0)\n",
    "        if len(rl) > 0:\n",
    "            tmp = stdout.channel.recv(1024)\n",
    "            output = tmp.decode()\n",
    "            print(output)\n"
   ]
  },
  {
   "cell_type": "code",
   "execution_count": 23,
   "id": "completed-produce",
   "metadata": {},
   "outputs": [
    {
     "name": "stdout",
     "output_type": "stream",
     "text": [
      "bin\n",
      "bro_test\n",
      "dev\n",
      "etc\n",
      "home\n",
      "initenv\n",
      "integration\n",
      "lib\n",
      "lib64\n",
      "mnt\n",
      "opt\n",
      "proc\n",
      "root\n",
      "run\n",
      "sbin\n",
      "selinux\n",
      "srv\n",
      "supervisord.pid\n",
      "sys\n",
      "tmp\n",
      "usr\n",
      "var\n",
      "\n"
     ]
    }
   ],
   "source": [
    "execute('ls')"
   ]
  },
  {
   "cell_type": "code",
   "execution_count": 24,
   "id": "appointed-worse",
   "metadata": {},
   "outputs": [
    {
     "name": "stdout",
     "output_type": "stream",
     "text": [
      "/\n",
      "\n"
     ]
    }
   ],
   "source": [
    "execute('pwd')"
   ]
  },
  {
   "cell_type": "code",
   "execution_count": 25,
   "id": "cardiovascular-armstrong",
   "metadata": {},
   "outputs": [
    {
     "name": "stdout",
     "output_type": "stream",
     "text": [
      "brsftp\n",
      "\n"
     ]
    }
   ],
   "source": [
    "execute(\"whoami\")"
   ]
  },
  {
   "cell_type": "code",
   "execution_count": 26,
   "id": "speaking-parking",
   "metadata": {},
   "outputs": [
    {
     "name": "stdout",
     "output_type": "stream",
     "text": [
      "Linux\n",
      "\n"
     ]
    }
   ],
   "source": [
    "execute(\"uname\")"
   ]
  },
  {
   "cell_type": "code",
   "execution_count": null,
   "id": "personal-composition",
   "metadata": {},
   "outputs": [],
   "source": []
  }
 ],
 "metadata": {
  "kernelspec": {
   "display_name": "Python 3",
   "language": "python",
   "name": "python3"
  },
  "language_info": {
   "codemirror_mode": {
    "name": "ipython",
    "version": 3
   },
   "file_extension": ".py",
   "mimetype": "text/x-python",
   "name": "python",
   "nbconvert_exporter": "python",
   "pygments_lexer": "ipython3",
   "version": "3.8.10"
  }
 },
 "nbformat": 4,
 "nbformat_minor": 5
}
