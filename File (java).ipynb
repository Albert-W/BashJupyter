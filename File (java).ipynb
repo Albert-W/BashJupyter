{
 "cells": [
  {
   "cell_type": "code",
   "execution_count": 2,
   "id": "distributed-funds",
   "metadata": {},
   "outputs": [],
   "source": [
    "import java.nio.file.Files;\n",
    "import java.nio.file.Path;\n",
    "import java.nio.file.Paths;"
   ]
  },
  {
   "cell_type": "code",
   "execution_count": 3,
   "id": "italic-airport",
   "metadata": {},
   "outputs": [],
   "source": [
    "Path path = Paths.get(\"a /b/c\")"
   ]
  },
  {
   "cell_type": "code",
   "execution_count": 4,
   "id": "exact-scott",
   "metadata": {},
   "outputs": [
    {
     "data": {
      "text/plain": [
       "a /b/c"
      ]
     },
     "execution_count": 4,
     "metadata": {},
     "output_type": "execute_result"
    }
   ],
   "source": [
    "path"
   ]
  },
  {
   "cell_type": "markdown",
   "id": "cloudy-battlefield",
   "metadata": {},
   "source": [
    "create all the parent directories"
   ]
  },
  {
   "cell_type": "code",
   "execution_count": 7,
   "id": "distributed-niger",
   "metadata": {},
   "outputs": [
    {
     "data": {
      "text/plain": [
       "/c/Users/eyicwux/Documents/github/BashJupyter/a/b/c"
      ]
     },
     "execution_count": 7,
     "metadata": {},
     "output_type": "execute_result"
    }
   ],
   "source": [
    "Files.createDirectories(path);"
   ]
  },
  {
   "cell_type": "code",
   "execution_count": 9,
   "id": "electrical-cowboy",
   "metadata": {},
   "outputs": [],
   "source": [
    "// not be created yet\n",
    "File file = new File(\"file.txt\");"
   ]
  },
  {
   "cell_type": "code",
   "execution_count": 10,
   "id": "constant-headline",
   "metadata": {},
   "outputs": [
    {
     "data": {
      "text/plain": [
       "false"
      ]
     },
     "execution_count": 10,
     "metadata": {},
     "output_type": "execute_result"
    }
   ],
   "source": [
    "file.canExecute()"
   ]
  },
  {
   "cell_type": "code",
   "execution_count": 11,
   "id": "employed-calculation",
   "metadata": {},
   "outputs": [
    {
     "data": {
      "text/plain": [
       "false"
      ]
     },
     "execution_count": 11,
     "metadata": {},
     "output_type": "execute_result"
    }
   ],
   "source": [
    "file.canRead()"
   ]
  },
  {
   "cell_type": "markdown",
   "id": "direct-approval",
   "metadata": {},
   "source": [
    "create the file, false when exists"
   ]
  },
  {
   "cell_type": "code",
   "execution_count": 13,
   "id": "concrete-partner",
   "metadata": {},
   "outputs": [
    {
     "data": {
      "text/plain": [
       "false"
      ]
     },
     "execution_count": 13,
     "metadata": {},
     "output_type": "execute_result"
    }
   ],
   "source": [
    "file.createNewFile()"
   ]
  },
  {
   "cell_type": "markdown",
   "id": "invisible-equilibrium",
   "metadata": {},
   "source": [
    "delete the file, false when not exists"
   ]
  },
  {
   "cell_type": "code",
   "execution_count": 14,
   "id": "activated-guyana",
   "metadata": {},
   "outputs": [
    {
     "data": {
      "text/plain": [
       "true"
      ]
     },
     "execution_count": 14,
     "metadata": {},
     "output_type": "execute_result"
    }
   ],
   "source": [
    "file.delete()"
   ]
  },
  {
   "cell_type": "code",
   "execution_count": 15,
   "id": "furnished-click",
   "metadata": {},
   "outputs": [
    {
     "data": {
      "text/plain": [
       "/c/Users/eyicwux/Documents/github/BashJupyter/file.txt"
      ]
     },
     "execution_count": 15,
     "metadata": {},
     "output_type": "execute_result"
    }
   ],
   "source": [
    "file.getAbsolutePath()"
   ]
  },
  {
   "cell_type": "code",
   "execution_count": 16,
   "id": "baking-desire",
   "metadata": {},
   "outputs": [
    {
     "data": {
      "text/plain": [
       "/c/Users/eyicwux/Documents/github/BashJupyter/file.txt"
      ]
     },
     "execution_count": 16,
     "metadata": {},
     "output_type": "execute_result"
    }
   ],
   "source": [
    "file.getCanonicalPath()"
   ]
  },
  {
   "cell_type": "code",
   "execution_count": 17,
   "id": "protecting-transport",
   "metadata": {},
   "outputs": [
    {
     "data": {
      "text/plain": [
       "0"
      ]
     },
     "execution_count": 17,
     "metadata": {},
     "output_type": "execute_result"
    }
   ],
   "source": [
    "file.getFreeSpace()"
   ]
  },
  {
   "cell_type": "code",
   "execution_count": 18,
   "id": "alike-caution",
   "metadata": {},
   "outputs": [
    {
     "data": {
      "text/plain": [
       "file.txt"
      ]
     },
     "execution_count": 18,
     "metadata": {},
     "output_type": "execute_result"
    }
   ],
   "source": [
    "file.getName()"
   ]
  },
  {
   "cell_type": "markdown",
   "id": "accurate-kernel",
   "metadata": {},
   "source": [
    "\"file.txt\" doesn't hava parent in this name"
   ]
  },
  {
   "cell_type": "code",
   "execution_count": 19,
   "id": "biblical-uniform",
   "metadata": {},
   "outputs": [],
   "source": [
    "file.getParent()"
   ]
  },
  {
   "cell_type": "code",
   "execution_count": 20,
   "id": "competitive-arlington",
   "metadata": {},
   "outputs": [
    {
     "name": "stdout",
     "output_type": "stream",
     "text": [
      "null\n"
     ]
    }
   ],
   "source": [
    "System.out.println(file.getParent())"
   ]
  },
  {
   "cell_type": "code",
   "execution_count": 22,
   "id": "beautiful-nicholas",
   "metadata": {},
   "outputs": [
    {
     "name": "stdout",
     "output_type": "stream",
     "text": [
      "null\n"
     ]
    }
   ],
   "source": [
    "file.createNewFile();\n",
    "System.out.println(file.getParent())"
   ]
  },
  {
   "cell_type": "code",
   "execution_count": 23,
   "id": "accepting-citizenship",
   "metadata": {},
   "outputs": [],
   "source": [
    "File file2 = new File(\"a/file.txt\")"
   ]
  },
  {
   "cell_type": "code",
   "execution_count": 24,
   "id": "legendary-vatican",
   "metadata": {},
   "outputs": [
    {
     "data": {
      "text/plain": [
       "a"
      ]
     },
     "execution_count": 24,
     "metadata": {},
     "output_type": "execute_result"
    }
   ],
   "source": [
    "file2.getParent()"
   ]
  },
  {
   "cell_type": "code",
   "execution_count": 25,
   "id": "banned-fraction",
   "metadata": {},
   "outputs": [
    {
     "data": {
      "text/plain": [
       "a/b/c"
      ]
     },
     "execution_count": 25,
     "metadata": {},
     "output_type": "execute_result"
    }
   ],
   "source": [
    "File file3 = new File(\"a/b/c/file.txt\");\n",
    "file3.getParent()"
   ]
  },
  {
   "cell_type": "code",
   "execution_count": 26,
   "id": "wrapped-static",
   "metadata": {},
   "outputs": [
    {
     "data": {
      "text/plain": [
       "a/b/c"
      ]
     },
     "execution_count": 26,
     "metadata": {},
     "output_type": "execute_result"
    }
   ],
   "source": [
    "file3.getParentFile()"
   ]
  },
  {
   "cell_type": "code",
   "execution_count": 27,
   "id": "static-karen",
   "metadata": {},
   "outputs": [
    {
     "data": {
      "text/plain": [
       "a/b/c/file.txt"
      ]
     },
     "execution_count": 27,
     "metadata": {},
     "output_type": "execute_result"
    }
   ],
   "source": [
    "file3.getPath()"
   ]
  },
  {
   "cell_type": "code",
   "execution_count": 54,
   "id": "exciting-farming",
   "metadata": {},
   "outputs": [
    {
     "data": {
      "text/plain": [
       "510476107776"
      ]
     },
     "execution_count": 54,
     "metadata": {},
     "output_type": "execute_result"
    }
   ],
   "source": [
    "new File(\"README.md\").getTotalSpace()"
   ]
  },
  {
   "cell_type": "code",
   "execution_count": 53,
   "id": "joined-exclusion",
   "metadata": {},
   "outputs": [
    {
     "data": {
      "text/plain": [
       "254840799232"
      ]
     },
     "execution_count": 53,
     "metadata": {},
     "output_type": "execute_result"
    }
   ],
   "source": [
    "new File(\"README.md\").getUsableSpace()"
   ]
  },
  {
   "cell_type": "code",
   "execution_count": 32,
   "id": "chicken-cleaners",
   "metadata": {},
   "outputs": [
    {
     "data": {
      "text/plain": [
       "741772404"
      ]
     },
     "execution_count": 32,
     "metadata": {},
     "output_type": "execute_result"
    }
   ],
   "source": [
    "file3.hashCode()"
   ]
  },
  {
   "cell_type": "code",
   "execution_count": 33,
   "id": "ranging-spare",
   "metadata": {},
   "outputs": [
    {
     "data": {
      "text/plain": [
       "false"
      ]
     },
     "execution_count": 33,
     "metadata": {},
     "output_type": "execute_result"
    }
   ],
   "source": [
    "file3.isAbsolute()"
   ]
  },
  {
   "cell_type": "code",
   "execution_count": 34,
   "id": "skilled-cleaning",
   "metadata": {},
   "outputs": [
    {
     "data": {
      "text/plain": [
       "true"
      ]
     },
     "execution_count": 34,
     "metadata": {},
     "output_type": "execute_result"
    }
   ],
   "source": [
    "new File(\"/mnt\").isAbsolute()"
   ]
  },
  {
   "cell_type": "code",
   "execution_count": 36,
   "id": "failing-tomato",
   "metadata": {},
   "outputs": [
    {
     "data": {
      "text/plain": [
       "true"
      ]
     },
     "execution_count": 36,
     "metadata": {},
     "output_type": "execute_result"
    }
   ],
   "source": [
    "new File(\"/mnt\").isDirectory()"
   ]
  },
  {
   "cell_type": "code",
   "execution_count": 52,
   "id": "regulation-advertising",
   "metadata": {},
   "outputs": [
    {
     "data": {
      "text/plain": [
       "14"
      ]
     },
     "execution_count": 52,
     "metadata": {},
     "output_type": "execute_result"
    }
   ],
   "source": [
    "new File(\"README.md\").length()"
   ]
  },
  {
   "cell_type": "markdown",
   "id": "billion-disposition",
   "metadata": {},
   "source": [
    "List all the files (including dir) in the dir"
   ]
  },
  {
   "cell_type": "code",
   "execution_count": 51,
   "id": "bigger-counter",
   "metadata": {},
   "outputs": [
    {
     "data": {
      "text/plain": [
       "[.git, .ipynb_checkpoints, a, Bash command.ipynb, BRO Test.ipynb, d, File (java).ipynb, file.txt, h, Helm Command.ipynb, Path (java).ipynb, Python network test.ipynb, README.md]"
      ]
     },
     "execution_count": 51,
     "metadata": {},
     "output_type": "execute_result"
    }
   ],
   "source": [
    "Arrays.toString(new File(\".\").list())"
   ]
  },
  {
   "cell_type": "code",
   "execution_count": 40,
   "id": "vietnamese-pitch",
   "metadata": {},
   "outputs": [
    {
     "data": {
      "text/plain": [
       "false"
      ]
     },
     "execution_count": 40,
     "metadata": {},
     "output_type": "execute_result"
    }
   ],
   "source": [
    "new File(\"d/e/f/file.txt\").mkdir()"
   ]
  },
  {
   "cell_type": "code",
   "execution_count": 41,
   "id": "tamil-trash",
   "metadata": {},
   "outputs": [
    {
     "data": {
      "text/plain": [
       "false"
      ]
     },
     "execution_count": 41,
     "metadata": {},
     "output_type": "execute_result"
    }
   ],
   "source": [
    "new File(\"d/e/f\").mkdir()"
   ]
  },
  {
   "cell_type": "markdown",
   "id": "conventional-engineer",
   "metadata": {},
   "source": [
    "The d dir is created here"
   ]
  },
  {
   "cell_type": "code",
   "execution_count": 42,
   "id": "athletic-puzzle",
   "metadata": {},
   "outputs": [
    {
     "data": {
      "text/plain": [
       "true"
      ]
     },
     "execution_count": 42,
     "metadata": {},
     "output_type": "execute_result"
    }
   ],
   "source": [
    "new File(\"d\").mkdir()"
   ]
  },
  {
   "cell_type": "markdown",
   "id": "normal-commodity",
   "metadata": {},
   "source": [
    "d/e/f is all created. "
   ]
  },
  {
   "cell_type": "code",
   "execution_count": 43,
   "id": "demographic-dialogue",
   "metadata": {},
   "outputs": [
    {
     "data": {
      "text/plain": [
       "true"
      ]
     },
     "execution_count": 43,
     "metadata": {},
     "output_type": "execute_result"
    }
   ],
   "source": [
    "new File(\"d/e/f\").mkdirs()"
   ]
  },
  {
   "cell_type": "markdown",
   "id": "primary-double",
   "metadata": {},
   "source": [
    "h/i/j/file.txt is all created.  but file.txt is a folder name"
   ]
  },
  {
   "cell_type": "code",
   "execution_count": 44,
   "id": "another-crowd",
   "metadata": {},
   "outputs": [
    {
     "data": {
      "text/plain": [
       "true"
      ]
     },
     "execution_count": 44,
     "metadata": {},
     "output_type": "execute_result"
    }
   ],
   "source": [
    "new File(\"h/i/j/file.txt\").mkdirs()"
   ]
  },
  {
   "cell_type": "code",
   "execution_count": 57,
   "id": "precious-walker",
   "metadata": {},
   "outputs": [
    {
     "data": {
      "text/plain": [
       "file:/c/Users/eyicwux/Documents/github/BashJupyter/h/i/j/file.txt/"
      ]
     },
     "execution_count": 57,
     "metadata": {},
     "output_type": "execute_result"
    }
   ],
   "source": [
    "new File(\"h/i/j/file.txt\").toURI()"
   ]
  },
  {
   "cell_type": "code",
   "execution_count": 58,
   "id": "horizontal-cincinnati",
   "metadata": {},
   "outputs": [
    {
     "data": {
      "text/html": [
       "<a src=\"file%3A%2Fc%2FUsers%2Feyicwux%2FDocuments%2Fgithub%2FBashJupyter%2Fh%2Fi%2Fj%2Ffile.txt%2F\""
      ],
      "text/plain": [
       "file:/c/Users/eyicwux/Documents/github/BashJupyter/h/i/j/file.txt/"
      ]
     },
     "execution_count": 58,
     "metadata": {},
     "output_type": "execute_result"
    }
   ],
   "source": [
    "new File(\"h/i/j/file.txt\").toURL()"
   ]
  },
  {
   "cell_type": "code",
   "execution_count": 60,
   "id": "optical-incidence",
   "metadata": {},
   "outputs": [
    {
     "data": {
      "text/plain": [
       "false"
      ]
     },
     "execution_count": 60,
     "metadata": {},
     "output_type": "execute_result"
    }
   ],
   "source": [
    "new File(\"backup/data\").isDirectory()"
   ]
  },
  {
   "cell_type": "code",
   "execution_count": 61,
   "id": "beginning-prize",
   "metadata": {},
   "outputs": [
    {
     "data": {
      "text/plain": [
       "false"
      ]
     },
     "execution_count": 61,
     "metadata": {},
     "output_type": "execute_result"
    }
   ],
   "source": [
    "new File(\"backup/data/\").isDirectory()"
   ]
  },
  {
   "cell_type": "markdown",
   "id": "bearing-scroll",
   "metadata": {},
   "source": [
    "只有存在的文件可以用isDirectory Check"
   ]
  },
  {
   "cell_type": "code",
   "execution_count": 10,
   "id": "bronze-illness",
   "metadata": {},
   "outputs": [
    {
     "data": {
      "text/plain": [
       "false"
      ]
     },
     "execution_count": 10,
     "metadata": {},
     "output_type": "execute_result"
    }
   ],
   "source": [
    "new File(\"notExist\").isDirectory()"
   ]
  },
  {
   "cell_type": "code",
   "execution_count": 62,
   "id": "ranging-success",
   "metadata": {},
   "outputs": [
    {
     "data": {
      "text/plain": [
       "true"
      ]
     },
     "execution_count": 62,
     "metadata": {},
     "output_type": "execute_result"
    }
   ],
   "source": [
    "new File(\"/mnt\").isDirectory()"
   ]
  },
  {
   "cell_type": "code",
   "execution_count": 63,
   "id": "historical-auditor",
   "metadata": {},
   "outputs": [
    {
     "data": {
      "text/plain": [
       "true"
      ]
     },
     "execution_count": 63,
     "metadata": {},
     "output_type": "execute_result"
    }
   ],
   "source": [
    "new File(\"a/b\").isDirectory()"
   ]
  },
  {
   "cell_type": "code",
   "execution_count": 64,
   "id": "published-vancouver",
   "metadata": {},
   "outputs": [
    {
     "data": {
      "text/plain": [
       "true"
      ]
     },
     "execution_count": 64,
     "metadata": {},
     "output_type": "execute_result"
    }
   ],
   "source": [
    "new File(\"a/b/\").isDirectory()"
   ]
  },
  {
   "cell_type": "code",
   "execution_count": 7,
   "id": "terminal-mailman",
   "metadata": {},
   "outputs": [
    {
     "name": "stdout",
     "output_type": "stream",
     "text": [
      "a/b\n"
     ]
    }
   ],
   "source": [
    "Files.list(Paths.get(\"a\")).forEach(System.out::println)"
   ]
  },
  {
   "cell_type": "code",
   "execution_count": 9,
   "id": "mineral-protest",
   "metadata": {},
   "outputs": [
    {
     "name": "stdout",
     "output_type": "stream",
     "text": [
      "d/e\n"
     ]
    }
   ],
   "source": [
    "Files.list(Paths.get(\"d\")).forEach(System.out::println)"
   ]
  },
  {
   "cell_type": "code",
   "execution_count": 11,
   "id": "organizational-batman",
   "metadata": {},
   "outputs": [
    {
     "data": {
      "text/plain": [
       "c"
      ]
     },
     "execution_count": 11,
     "metadata": {},
     "output_type": "execute_result"
    }
   ],
   "source": [
    "new File(\"a/b/c\").getName()"
   ]
  },
  {
   "cell_type": "code",
   "execution_count": 12,
   "id": "desperate-president",
   "metadata": {},
   "outputs": [
    {
     "data": {
      "text/plain": [
       "b"
      ]
     },
     "execution_count": 12,
     "metadata": {},
     "output_type": "execute_result"
    }
   ],
   "source": [
    "new File(\"a/b/\").getName()"
   ]
  },
  {
   "cell_type": "code",
   "execution_count": 1,
   "id": "charged-cylinder",
   "metadata": {},
   "outputs": [
    {
     "ename": "CompilationException",
     "evalue": "",
     "output_type": "error",
     "traceback": [
      "\u001b[1m\u001b[30m|   \u001b[1m\u001b[30m\u001b[0m\u001b[1m\u001b[30m\u001b[41mPath\u001b[0m\u001b[1m\u001b[30m.of(\"a b\")\u001b[0m",
      "\u001b[1m\u001b[31mcannot find symbol\u001b[0m",
      "\u001b[1m\u001b[31m  symbol:   variable Path\u001b[0m",
      ""
     ]
    }
   ],
   "source": [
    "Path.of(\"a b\")"
   ]
  },
  {
   "cell_type": "code",
   "execution_count": null,
   "id": "deadly-fifteen",
   "metadata": {},
   "outputs": [],
   "source": []
  }
 ],
 "metadata": {
  "kernelspec": {
   "display_name": "Java",
   "language": "java",
   "name": "java"
  },
  "language_info": {
   "codemirror_mode": "java",
   "file_extension": ".jshell",
   "mimetype": "text/x-java-source",
   "name": "Java",
   "pygments_lexer": "java",
   "version": "11.0.9.1+1-Ubuntu-0ubuntu1.20.04"
  }
 },
 "nbformat": 4,
 "nbformat_minor": 5
}
