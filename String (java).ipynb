{
 "cells": [
  {
   "cell_type": "code",
   "execution_count": 4,
   "id": "distinct-world",
   "metadata": {},
   "outputs": [
    {
     "data": {
      "text/plain": [
       "[Ljava.lang.String;@39d617d"
      ]
     },
     "execution_count": 4,
     "metadata": {},
     "output_type": "execute_result"
    }
   ],
   "source": [
    "\"  \".split(\",\", -1).toString()"
   ]
  },
  {
   "cell_type": "code",
   "execution_count": 5,
   "id": "brazilian-tuning",
   "metadata": {},
   "outputs": [
    {
     "data": {
      "text/plain": [
       "[  ]"
      ]
     },
     "execution_count": 5,
     "metadata": {},
     "output_type": "execute_result"
    }
   ],
   "source": [
    "Arrays.toString(\"  \".split(\",\", -1))"
   ]
  },
  {
   "cell_type": "code",
   "execution_count": 6,
   "id": "civil-aside",
   "metadata": {},
   "outputs": [
    {
     "name": "stdout",
     "output_type": "stream",
     "text": [
      "[Ljava.lang.String;@7a2f5d6"
     ]
    }
   ],
   "source": [
    "System.out.print(\"  \".split(\",\", -1))"
   ]
  },
  {
   "cell_type": "code",
   "execution_count": 7,
   "id": "rubber-zoning",
   "metadata": {},
   "outputs": [
    {
     "data": {
      "text/plain": [
       "[  a]"
      ]
     },
     "execution_count": 7,
     "metadata": {},
     "output_type": "execute_result"
    }
   ],
   "source": [
    "Arrays.toString(\"  a\".split(\",\", -1))"
   ]
  },
  {
   "cell_type": "code",
   "execution_count": 8,
   "id": "measured-edmonton",
   "metadata": {},
   "outputs": [
    {
     "data": {
      "text/plain": [
       "[  a, ]"
      ]
     },
     "execution_count": 8,
     "metadata": {},
     "output_type": "execute_result"
    }
   ],
   "source": [
    "Arrays.toString(\"  a,\".split(\",\", -1))"
   ]
  },
  {
   "cell_type": "code",
   "execution_count": null,
   "id": "deadly-denmark",
   "metadata": {},
   "outputs": [],
   "source": []
  }
 ],
 "metadata": {
  "kernelspec": {
   "display_name": "Java",
   "language": "java",
   "name": "java"
  },
  "language_info": {
   "codemirror_mode": "java",
   "file_extension": ".jshell",
   "mimetype": "text/x-java-source",
   "name": "Java",
   "pygments_lexer": "java",
   "version": "11.0.9.1+1-Ubuntu-0ubuntu1.20.04"
  }
 },
 "nbformat": 4,
 "nbformat_minor": 5
}
