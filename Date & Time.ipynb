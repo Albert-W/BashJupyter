{
 "cells": [
  {
   "cell_type": "code",
   "execution_count": 23,
   "id": "sunrise-ownership",
   "metadata": {},
   "outputs": [],
   "source": [
    "import java.sql.Timestamp;\n",
    "import java.util.Date;\n",
    "import java.time.*;"
   ]
  },
  {
   "cell_type": "markdown",
   "id": "accurate-specific",
   "metadata": {},
   "source": [
    "### UTC 时间"
   ]
  },
  {
   "cell_type": "markdown",
   "id": "stunning-telling",
   "metadata": {},
   "source": [
    "Instant 与 *UTC 时间一致*，与 LocalDateTime相差一个小时"
   ]
  },
  {
   "cell_type": "code",
   "execution_count": 88,
   "id": "sublime-manufacturer",
   "metadata": {},
   "outputs": [
    {
     "data": {
      "text/plain": [
       "2021-04-28T08:49:10.147949Z"
      ]
     },
     "execution_count": 88,
     "metadata": {},
     "output_type": "execute_result"
    }
   ],
   "source": [
    "instant.now();"
   ]
  },
  {
   "cell_type": "code",
   "execution_count": 89,
   "id": "foreign-period",
   "metadata": {},
   "outputs": [
    {
     "data": {
      "text/plain": [
       "2021-04-28T08:49:11.646Z"
      ]
     },
     "execution_count": 89,
     "metadata": {},
     "output_type": "execute_result"
    }
   ],
   "source": [
    "Instant.ofEpochMilli(System.currentTimeMillis())"
   ]
  },
  {
   "cell_type": "code",
   "execution_count": 90,
   "id": "hourly-relation",
   "metadata": {},
   "outputs": [
    {
     "data": {
      "text/plain": [
       "2021-04-28T08:49:14.833649"
      ]
     },
     "execution_count": 90,
     "metadata": {},
     "output_type": "execute_result"
    }
   ],
   "source": [
    "LocalDateTime.now(ZoneOffset.UTC)"
   ]
  },
  {
   "cell_type": "code",
   "execution_count": 91,
   "id": "unlikely-testimony",
   "metadata": {
    "scrolled": true
   },
   "outputs": [
    {
     "data": {
      "text/plain": [
       "2021-04-28T08:49:15.670050Z[UTC]"
      ]
     },
     "execution_count": 91,
     "metadata": {},
     "output_type": "execute_result"
    }
   ],
   "source": [
    "ZonedDateTime.now(ZoneId.of(\"UTC\"))"
   ]
  },
  {
   "cell_type": "code",
   "execution_count": 92,
   "id": "statewide-redhead",
   "metadata": {},
   "outputs": [
    {
     "data": {
      "text/plain": [
       "2021-04-28T08:49:16.156301Z"
      ]
     },
     "execution_count": 92,
     "metadata": {},
     "output_type": "execute_result"
    }
   ],
   "source": [
    "ZonedDateTime.now(ZoneOffset.UTC)"
   ]
  },
  {
   "cell_type": "code",
   "execution_count": 93,
   "id": "available-jonathan",
   "metadata": {},
   "outputs": [
    {
     "data": {
      "text/plain": [
       "2021-04-28T08:49:16.644819Z"
      ]
     },
     "execution_count": 93,
     "metadata": {},
     "output_type": "execute_result"
    }
   ],
   "source": [
    "ZonedDateTime.now().toInstant()"
   ]
  },
  {
   "cell_type": "code",
   "execution_count": 94,
   "id": "healthy-dominant",
   "metadata": {},
   "outputs": [
    {
     "data": {
      "text/plain": [
       "2021-04-28T08:49:17.131453Z"
      ]
     },
     "execution_count": 94,
     "metadata": {},
     "output_type": "execute_result"
    }
   ],
   "source": [
    "OffsetDateTime.now(ZoneOffset.UTC)"
   ]
  },
  {
   "cell_type": "code",
   "execution_count": 95,
   "id": "incoming-stewart",
   "metadata": {},
   "outputs": [
    {
     "data": {
      "text/plain": [
       "2021-04-28T08:49:18.022925Z"
      ]
     },
     "execution_count": 95,
     "metadata": {},
     "output_type": "execute_result"
    }
   ],
   "source": [
    "LocalDateTime.now().toInstant(OffsetDateTime.now().getOffset());"
   ]
  },
  {
   "cell_type": "code",
   "execution_count": 96,
   "id": "fifth-assistant",
   "metadata": {},
   "outputs": [
    {
     "data": {
      "text/plain": [
       "2021-04-28T08:49:18.408902Z"
      ]
     },
     "execution_count": 96,
     "metadata": {},
     "output_type": "execute_result"
    }
   ],
   "source": [
    "LocalDateTime.now().atZone(ZoneId.systemDefault()).toInstant()"
   ]
  },
  {
   "cell_type": "code",
   "execution_count": 59,
   "id": "educated-kelly",
   "metadata": {},
   "outputs": [
    {
     "ename": "CompilationException",
     "evalue": "",
     "output_type": "error",
     "traceback": [
      "\u001b[1m\u001b[30m|   \u001b[1m\u001b[30mLocalDateTime.now().toInstant(\u001b[0m\u001b[1m\u001b[30m\u001b[41mZoneId.systemDefault()\u001b[0m\u001b[1m\u001b[30m);\u001b[0m",
      "\u001b[1m\u001b[31mincompatible types: java.time.ZoneId cannot be converted to java.time.ZoneOffset\u001b[0m",
      ""
     ]
    }
   ],
   "source": [
    "LocalDateTime.now().toInstant(ZoneId.systemDefault());"
   ]
  },
  {
   "cell_type": "code",
   "execution_count": 56,
   "id": "blocked-liability",
   "metadata": {},
   "outputs": [
    {
     "ename": "CompilationException",
     "evalue": "",
     "output_type": "error",
     "traceback": [
      "\u001b[1m\u001b[30m|   \u001b[1m\u001b[30minstant.now(\u001b[0m\u001b[1m\u001b[30m\u001b[41mZoneId.systemDefault()\u001b[0m\u001b[1m\u001b[30m );\u001b[0m",
      "\u001b[1m\u001b[31mincompatible types: java.time.ZoneId cannot be converted to java.time.Clock\u001b[0m",
      ""
     ]
    }
   ],
   "source": [
    "instant.now()."
   ]
  },
  {
   "cell_type": "markdown",
   "id": "forbidden-aberdeen",
   "metadata": {},
   "source": [
    "LocalDateTime 与 计算机显示实间一致。   \n",
    "\n",
    "Without Time-zone.    \n",
    "产生时，基于 默认时区   \n",
    "\n",
    "它由于不包含时区，信息量 比 UTC 和 ZoneDateTime 缺乏。 "
   ]
  },
  {
   "cell_type": "code",
   "execution_count": 43,
   "id": "stuffed-hebrew",
   "metadata": {},
   "outputs": [
    {
     "data": {
      "text/plain": [
       "2021-04-26T23:08:44.595733"
      ]
     },
     "execution_count": 43,
     "metadata": {},
     "output_type": "execute_result"
    }
   ],
   "source": [
    "LocalDateTime.now(); // curent date-time from the system clock in the default time-zone; "
   ]
  },
  {
   "cell_type": "code",
   "execution_count": 66,
   "id": "hidden-eagle",
   "metadata": {
    "scrolled": true
   },
   "outputs": [
    {
     "data": {
      "text/plain": [
       "2021-04-26T22:33:32.159422Z"
      ]
     },
     "execution_count": 66,
     "metadata": {},
     "output_type": "execute_result"
    }
   ],
   "source": [
    "LocalDateTime.now().atZone(ZoneId.systemDefault()).toInstant()"
   ]
  },
  {
   "cell_type": "code",
   "execution_count": null,
   "id": "generic-charleston",
   "metadata": {},
   "outputs": [],
   "source": [
    "LocalDateTime."
   ]
  },
  {
   "cell_type": "markdown",
   "id": "available-destination",
   "metadata": {},
   "source": [
    "LocalDateTiem + toInstant不能保证是 UTC时间"
   ]
  },
  {
   "cell_type": "code",
   "execution_count": 41,
   "id": "level-mailing",
   "metadata": {
    "scrolled": true
   },
   "outputs": [
    {
     "data": {
      "text/plain": [
       "2021-04-26T23:06:13.343159Z"
      ]
     },
     "execution_count": 41,
     "metadata": {},
     "output_type": "execute_result"
    }
   ],
   "source": [
    "Instant instant1 = LocalDateTime.now().toInstant(ZoneOffset.UTC);\n",
    "instant1"
   ]
  },
  {
   "cell_type": "markdown",
   "id": "industrial-springfield",
   "metadata": {},
   "source": [
    "Timestamp.toString() return the time in local machine()"
   ]
  },
  {
   "cell_type": "code",
   "execution_count": 61,
   "id": "english-scheduling",
   "metadata": {},
   "outputs": [
    {
     "data": {
      "text/plain": [
       "2021-04-26 23:26:27.223996"
      ]
     },
     "execution_count": 61,
     "metadata": {},
     "output_type": "execute_result"
    }
   ],
   "source": [
    "Timestamp t = Timestamp.valueOf(LocalDateTime.now());\n",
    "t"
   ]
  },
  {
   "cell_type": "code",
   "execution_count": 62,
   "id": "placed-shepherd",
   "metadata": {},
   "outputs": [
    {
     "data": {
      "text/plain": [
       "2021-04-26 23:26:27.804884"
      ]
     },
     "execution_count": 62,
     "metadata": {},
     "output_type": "execute_result"
    }
   ],
   "source": [
    "Timestamp t1 = Timestamp.from(instant.now());\n",
    "t1"
   ]
  },
  {
   "cell_type": "code",
   "execution_count": 63,
   "id": "norman-absolute",
   "metadata": {},
   "outputs": [
    {
     "data": {
      "text/plain": [
       "Mon Apr 26 23:26:30 BST 2021"
      ]
     },
     "execution_count": 63,
     "metadata": {},
     "output_type": "execute_result"
    }
   ],
   "source": [
    "Date d = new Date();\n",
    "d"
   ]
  },
  {
   "cell_type": "code",
   "execution_count": 44,
   "id": "southeast-cookie",
   "metadata": {},
   "outputs": [
    {
     "data": {
      "text/plain": [
       "2021-04-26T23:12:19.320472+01:00[Europe/London]"
      ]
     },
     "execution_count": 44,
     "metadata": {},
     "output_type": "execute_result"
    }
   ],
   "source": [
    "ZonedDateTime.now()"
   ]
  },
  {
   "cell_type": "code",
   "execution_count": 45,
   "id": "seven-momentum",
   "metadata": {},
   "outputs": [
    {
     "data": {
      "text/plain": [
       "2021-04-26T22:12:39.949087Z"
      ]
     },
     "execution_count": 45,
     "metadata": {},
     "output_type": "execute_result"
    }
   ],
   "source": [
    "ZonedDateTime.now().toInstant()"
   ]
  },
  {
   "cell_type": "code",
   "execution_count": 54,
   "id": "random-parade",
   "metadata": {},
   "outputs": [
    {
     "data": {
      "text/plain": [
       "2021-04-26T23:14:49.359783"
      ]
     },
     "execution_count": 54,
     "metadata": {},
     "output_type": "execute_result"
    }
   ],
   "source": [
    "ZonedDateTime.now().toLocalDateTime()  // 会根据系统时区进行转化。 "
   ]
  },
  {
   "cell_type": "code",
   "execution_count": 104,
   "id": "beneficial-vacation",
   "metadata": {},
   "outputs": [
    {
     "data": {
      "text/plain": [
       "1619599876314"
      ]
     },
     "execution_count": 104,
     "metadata": {},
     "output_type": "execute_result"
    }
   ],
   "source": [
    "System.currentTimeMillis()"
   ]
  },
  {
   "cell_type": "code",
   "execution_count": 114,
   "id": "specified-easter",
   "metadata": {
    "scrolled": true
   },
   "outputs": [
    {
     "data": {
      "text/plain": [
       "1619600032954"
      ]
     },
     "execution_count": 114,
     "metadata": {},
     "output_type": "execute_result"
    }
   ],
   "source": [
    "Instant.now().toEpochMilli()"
   ]
  },
  {
   "cell_type": "code",
   "execution_count": 115,
   "id": "excellent-fossil",
   "metadata": {},
   "outputs": [
    {
     "data": {
      "text/plain": [
       "1619600033"
      ]
     },
     "execution_count": 115,
     "metadata": {},
     "output_type": "execute_result"
    }
   ],
   "source": [
    "Instant.now().getEpochSecond()"
   ]
  },
  {
   "cell_type": "code",
   "execution_count": 109,
   "id": "female-promotion",
   "metadata": {},
   "outputs": [
    {
     "data": {
      "text/plain": [
       "1288170313816300"
      ]
     },
     "execution_count": 109,
     "metadata": {},
     "output_type": "execute_result"
    }
   ],
   "source": [
    "System.nanoTime() "
   ]
  },
  {
   "cell_type": "code",
   "execution_count": 117,
   "id": "irish-stanley",
   "metadata": {},
   "outputs": [
    {
     "data": {
      "text/plain": [
       "153648000"
      ]
     },
     "execution_count": 117,
     "metadata": {},
     "output_type": "execute_result"
    }
   ],
   "source": [
    "Instant.now().getNano() // Only the number of nanoseconds"
   ]
  },
  {
   "cell_type": "code",
   "execution_count": 116,
   "id": "clean-vanilla",
   "metadata": {},
   "outputs": [
    {
     "data": {
      "text/plain": [
       "1970-01-01T00:00:00Z"
      ]
     },
     "execution_count": 116,
     "metadata": {},
     "output_type": "execute_result"
    }
   ],
   "source": [
    "Instant.EPOCH"
   ]
  },
  {
   "cell_type": "code",
   "execution_count": null,
   "id": "incorrect-circle",
   "metadata": {},
   "outputs": [],
   "source": []
  }
 ],
 "metadata": {
  "kernelspec": {
   "display_name": "Java",
   "language": "java",
   "name": "java"
  },
  "language_info": {
   "codemirror_mode": "java",
   "file_extension": ".jshell",
   "mimetype": "text/x-java-source",
   "name": "Java",
   "pygments_lexer": "java",
   "version": "11.0.9.1+1-Ubuntu-0ubuntu1.20.04"
  }
 },
 "nbformat": 4,
 "nbformat_minor": 5
}
