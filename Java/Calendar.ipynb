{
 "cells": [
  {
   "cell_type": "code",
   "execution_count": 13,
   "id": "tired-kruger",
   "metadata": {},
   "outputs": [],
   "source": [
    "Calendar c = Calendar.getInstance()"
   ]
  },
  {
   "cell_type": "code",
   "execution_count": 2,
   "id": "extraordinary-cholesterol",
   "metadata": {},
   "outputs": [
    {
     "data": {
      "text/plain": [
       "java.util.GregorianCalendar[time=1653303093595,areFieldsSet=true,areAllFieldsSet=true,lenient=true,zone=sun.util.calendar.ZoneInfo[id=\"Europe/London\",offset=0,dstSavings=3600000,useDaylight=true,transitions=242,lastRule=java.util.SimpleTimeZone[id=Europe/London,offset=0,dstSavings=3600000,useDaylight=true,startYear=0,startMode=2,startMonth=2,startDay=-1,startDayOfWeek=1,startTime=3600000,startTimeMode=2,endMode=2,endMonth=9,endDay=-1,endDayOfWeek=1,endTime=3600000,endTimeMode=2]],firstDayOfWeek=1,minimalDaysInFirstWeek=1,ERA=1,YEAR=2022,MONTH=4,WEEK_OF_YEAR=22,WEEK_OF_MONTH=4,DAY_OF_MONTH=23,DAY_OF_YEAR=143,DAY_OF_WEEK=2,DAY_OF_WEEK_IN_MONTH=4,AM_PM=0,HOUR=11,HOUR_OF_DAY=11,MINUTE=51,SECOND=33,MILLISECOND=595,ZONE_OFFSET=0,DST_OFFSET=3600000]"
      ]
     },
     "execution_count": 2,
     "metadata": {},
     "output_type": "execute_result"
    }
   ],
   "source": [
    "c"
   ]
  },
  {
   "cell_type": "code",
   "execution_count": 3,
   "id": "sharp-absolute",
   "metadata": {},
   "outputs": [
    {
     "data": {
      "text/plain": [
       "8"
      ]
     },
     "execution_count": 3,
     "metadata": {},
     "output_type": "execute_result"
    }
   ],
   "source": [
    "c.DAY_OF_WEEK_IN_MONTH"
   ]
  },
  {
   "cell_type": "code",
   "execution_count": 4,
   "id": "dedicated-tonight",
   "metadata": {},
   "outputs": [
    {
     "data": {
      "text/plain": [
       "6"
      ]
     },
     "execution_count": 4,
     "metadata": {},
     "output_type": "execute_result"
    }
   ],
   "source": [
    "c.DAY_OF_YEAR"
   ]
  },
  {
   "cell_type": "code",
   "execution_count": 6,
   "id": "invalid-characteristic",
   "metadata": {},
   "outputs": [
    {
     "data": {
      "text/plain": [
       "4"
      ]
     },
     "execution_count": 6,
     "metadata": {},
     "output_type": "execute_result"
    }
   ],
   "source": [
    "c.get(c.DAY_OF_WEEK_IN_MONTH)"
   ]
  },
  {
   "cell_type": "code",
   "execution_count": 7,
   "id": "restricted-conservation",
   "metadata": {},
   "outputs": [
    {
     "data": {
      "text/plain": [
       "143"
      ]
     },
     "execution_count": 7,
     "metadata": {},
     "output_type": "execute_result"
    }
   ],
   "source": [
    "c.get(c.DAY_OF_YEAR)"
   ]
  },
  {
   "cell_type": "code",
   "execution_count": 8,
   "id": "popular-anthony",
   "metadata": {},
   "outputs": [
    {
     "data": {
      "text/plain": [
       "java.util.GregorianCalendar[time=1653303093595,areFieldsSet=true,areAllFieldsSet=true,lenient=true,zone=sun.util.calendar.ZoneInfo[id=\"Europe/London\",offset=0,dstSavings=3600000,useDaylight=true,transitions=242,lastRule=java.util.SimpleTimeZone[id=Europe/London,offset=0,dstSavings=3600000,useDaylight=true,startYear=0,startMode=2,startMonth=2,startDay=-1,startDayOfWeek=1,startTime=3600000,startTimeMode=2,endMode=2,endMonth=9,endDay=-1,endDayOfWeek=1,endTime=3600000,endTimeMode=2]],firstDayOfWeek=1,minimalDaysInFirstWeek=1,ERA=1,YEAR=2022,MONTH=4,WEEK_OF_YEAR=22,WEEK_OF_MONTH=4,DAY_OF_MONTH=23,DAY_OF_YEAR=143,DAY_OF_WEEK=2,DAY_OF_WEEK_IN_MONTH=4,AM_PM=0,HOUR=11,HOUR_OF_DAY=11,MINUTE=51,SECOND=33,MILLISECOND=595,ZONE_OFFSET=0,DST_OFFSET=3600000]"
      ]
     },
     "execution_count": 8,
     "metadata": {},
     "output_type": "execute_result"
    }
   ],
   "source": [
    "c.toString()"
   ]
  },
  {
   "cell_type": "code",
   "execution_count": 14,
   "id": "involved-lyric",
   "metadata": {},
   "outputs": [
    {
     "data": {
      "text/plain": [
       "Mon May 23 12:10:24 BST 2022"
      ]
     },
     "execution_count": 14,
     "metadata": {},
     "output_type": "execute_result"
    }
   ],
   "source": [
    "c.getTime()"
   ]
  },
  {
   "cell_type": "code",
   "execution_count": 17,
   "id": "blond-williams",
   "metadata": {},
   "outputs": [],
   "source": [
    "import java.time.*"
   ]
  },
  {
   "cell_type": "code",
   "execution_count": 19,
   "id": "imported-algebra",
   "metadata": {},
   "outputs": [],
   "source": [
    "LocalDate d = LocalDate.now()"
   ]
  },
  {
   "cell_type": "code",
   "execution_count": 20,
   "id": "pleased-treasure",
   "metadata": {},
   "outputs": [
    {
     "data": {
      "text/plain": [
       "2022-05-23"
      ]
     },
     "execution_count": 20,
     "metadata": {},
     "output_type": "execute_result"
    }
   ],
   "source": [
    "d"
   ]
  },
  {
   "cell_type": "code",
   "execution_count": 24,
   "id": "perceived-usage",
   "metadata": {},
   "outputs": [],
   "source": [
    "c.set(d.getYear(), d.getMonthValue() - 1, d.getDayOfMonth())"
   ]
  },
  {
   "cell_type": "code",
   "execution_count": 25,
   "id": "entire-spirituality",
   "metadata": {},
   "outputs": [
    {
     "data": {
      "text/plain": [
       "Mon May 23 12:10:24 BST 2022"
      ]
     },
     "execution_count": 25,
     "metadata": {},
     "output_type": "execute_result"
    }
   ],
   "source": [
    "c.getTime()"
   ]
  },
  {
   "cell_type": "code",
   "execution_count": 27,
   "id": "adjacent-relevance",
   "metadata": {},
   "outputs": [
    {
     "data": {
      "text/plain": [
       "31"
      ]
     },
     "execution_count": 27,
     "metadata": {},
     "output_type": "execute_result"
    }
   ],
   "source": [
    "c.getActualMaximum(Calendar.DAY_OF_MONTH)"
   ]
  },
  {
   "cell_type": "code",
   "execution_count": 28,
   "id": "formal-classics",
   "metadata": {},
   "outputs": [
    {
     "data": {
      "text/plain": [
       "1"
      ]
     },
     "execution_count": 28,
     "metadata": {},
     "output_type": "execute_result"
    }
   ],
   "source": [
    "c.getActualMinimum(Calendar.DAY_OF_MONTH)"
   ]
  },
  {
   "cell_type": "code",
   "execution_count": 29,
   "id": "boring-retention",
   "metadata": {},
   "outputs": [
    {
     "data": {
      "text/plain": [
       "23"
      ]
     },
     "execution_count": 29,
     "metadata": {},
     "output_type": "execute_result"
    }
   ],
   "source": [
    "c.get(c.DAY_OF_MONTH)"
   ]
  },
  {
   "cell_type": "code",
   "execution_count": null,
   "id": "accurate-french",
   "metadata": {},
   "outputs": [],
   "source": []
  }
 ],
 "metadata": {
  "kernelspec": {
   "display_name": "Java",
   "language": "java",
   "name": "java"
  },
  "language_info": {
   "codemirror_mode": "java",
   "file_extension": ".jshell",
   "mimetype": "text/x-java-source",
   "name": "Java",
   "pygments_lexer": "java",
   "version": "11.0.15+10-Ubuntu-0ubuntu0.20.04.1"
  }
 },
 "nbformat": 4,
 "nbformat_minor": 5
}
