{
 "cells": [
  {
   "cell_type": "code",
   "execution_count": 1,
   "id": "indian-reflection",
   "metadata": {},
   "outputs": [],
   "source": [
    "int a = 10;"
   ]
  },
  {
   "cell_type": "code",
   "execution_count": 2,
   "id": "subsequent-entry",
   "metadata": {},
   "outputs": [],
   "source": [
    "int b = a"
   ]
  },
  {
   "cell_type": "code",
   "execution_count": 3,
   "id": "sonic-triangle",
   "metadata": {},
   "outputs": [],
   "source": [
    "a = 5"
   ]
  },
  {
   "cell_type": "code",
   "execution_count": 4,
   "id": "latter-november",
   "metadata": {},
   "outputs": [
    {
     "data": {
      "text/plain": [
       "10"
      ]
     },
     "execution_count": 4,
     "metadata": {},
     "output_type": "execute_result"
    }
   ],
   "source": [
    "b"
   ]
  },
  {
   "cell_type": "code",
   "execution_count": 1,
   "id": "proprietary-intervention",
   "metadata": {},
   "outputs": [],
   "source": [
    "String a = \"abc\" "
   ]
  },
  {
   "cell_type": "code",
   "execution_count": 2,
   "id": "searching-oriental",
   "metadata": {},
   "outputs": [
    {
     "data": {
      "text/plain": [
       "773420657"
      ]
     },
     "execution_count": 2,
     "metadata": {},
     "output_type": "execute_result"
    }
   ],
   "source": [
    "System.identityHashCode(a)"
   ]
  },
  {
   "cell_type": "code",
   "execution_count": 6,
   "id": "fantastic-danger",
   "metadata": {},
   "outputs": [],
   "source": [
    "List b = new ArrayList<Integer>()"
   ]
  },
  {
   "cell_type": "code",
   "execution_count": 7,
   "id": "blocked-correction",
   "metadata": {},
   "outputs": [
    {
     "data": {
      "text/plain": [
       "[]"
      ]
     },
     "execution_count": 7,
     "metadata": {},
     "output_type": "execute_result"
    }
   ],
   "source": [
    "b"
   ]
  },
  {
   "cell_type": "code",
   "execution_count": 8,
   "id": "stock-bearing",
   "metadata": {},
   "outputs": [
    {
     "data": {
      "text/plain": [
       "true"
      ]
     },
     "execution_count": 8,
     "metadata": {},
     "output_type": "execute_result"
    }
   ],
   "source": [
    "b.add(4)"
   ]
  },
  {
   "cell_type": "code",
   "execution_count": 9,
   "id": "original-mortgage",
   "metadata": {},
   "outputs": [
    {
     "data": {
      "text/plain": [
       "1864662090"
      ]
     },
     "execution_count": 9,
     "metadata": {},
     "output_type": "execute_result"
    }
   ],
   "source": [
    "System.identityHashCode(b)"
   ]
  },
  {
   "cell_type": "code",
   "execution_count": 10,
   "id": "automatic-demographic",
   "metadata": {},
   "outputs": [
    {
     "data": {
      "text/plain": [
       "true"
      ]
     },
     "execution_count": 10,
     "metadata": {},
     "output_type": "execute_result"
    }
   ],
   "source": [
    "b.add(5)"
   ]
  },
  {
   "cell_type": "code",
   "execution_count": 11,
   "id": "prompt-factor",
   "metadata": {},
   "outputs": [
    {
     "data": {
      "text/plain": [
       "1864662090"
      ]
     },
     "execution_count": 11,
     "metadata": {},
     "output_type": "execute_result"
    }
   ],
   "source": [
    "System.identityHashCode(b)"
   ]
  },
  {
   "cell_type": "code",
   "execution_count": null,
   "id": "amber-optimization",
   "metadata": {},
   "outputs": [],
   "source": []
  }
 ],
 "metadata": {
  "kernelspec": {
   "display_name": "Java",
   "language": "java",
   "name": "java"
  },
  "language_info": {
   "codemirror_mode": "java",
   "file_extension": ".jshell",
   "mimetype": "text/x-java-source",
   "name": "Java",
   "pygments_lexer": "java",
   "version": "11.0.15+10-Ubuntu-0ubuntu0.20.04.1"
  }
 },
 "nbformat": 4,
 "nbformat_minor": 5
}
