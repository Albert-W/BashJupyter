{
 "cells": [
  {
   "cell_type": "markdown",
   "id": "subject-parameter",
   "metadata": {},
   "source": [
    "# LocalDate"
   ]
  },
  {
   "cell_type": "code",
   "execution_count": 2,
   "id": "bronze-boston",
   "metadata": {},
   "outputs": [],
   "source": [
    "import java.time.*"
   ]
  },
  {
   "cell_type": "code",
   "execution_count": 3,
   "id": "experimental-resource",
   "metadata": {},
   "outputs": [
    {
     "name": "stdout",
     "output_type": "stream",
     "text": [
      "hello\n"
     ]
    }
   ],
   "source": [
    "System.out.println(\"hello\");"
   ]
  },
  {
   "cell_type": "code",
   "execution_count": 4,
   "id": "natural-pension",
   "metadata": {},
   "outputs": [],
   "source": [
    "LocalDate d = LocalDate.now(); "
   ]
  },
  {
   "cell_type": "code",
   "execution_count": 11,
   "id": "hindu-perception",
   "metadata": {},
   "outputs": [
    {
     "data": {
      "text/plain": [
       "2022-05-20"
      ]
     },
     "execution_count": 11,
     "metadata": {},
     "output_type": "execute_result"
    }
   ],
   "source": [
    "d"
   ]
  },
  {
   "cell_type": "code",
   "execution_count": 12,
   "id": "studied-crash",
   "metadata": {},
   "outputs": [
    {
     "data": {
      "text/plain": [
       "2022-05-20T00:00"
      ]
     },
     "execution_count": 12,
     "metadata": {},
     "output_type": "execute_result"
    }
   ],
   "source": [
    "d.atStartOfDay()"
   ]
  },
  {
   "cell_type": "code",
   "execution_count": 13,
   "id": "resistant-puzzle",
   "metadata": {},
   "outputs": [
    {
     "data": {
      "text/plain": [
       "2022-05-20T11:09"
      ]
     },
     "execution_count": 13,
     "metadata": {},
     "output_type": "execute_result"
    }
   ],
   "source": [
    "d.atTime(11, 9)"
   ]
  },
  {
   "cell_type": "code",
   "execution_count": 14,
   "id": "endangered-receipt",
   "metadata": {},
   "outputs": [],
   "source": [
    "LocalTime t = LocalTime.now()"
   ]
  },
  {
   "cell_type": "code",
   "execution_count": 15,
   "id": "welsh-relative",
   "metadata": {},
   "outputs": [
    {
     "data": {
      "text/plain": [
       "12:01:09.202414"
      ]
     },
     "execution_count": 15,
     "metadata": {},
     "output_type": "execute_result"
    }
   ],
   "source": [
    "t"
   ]
  },
  {
   "cell_type": "code",
   "execution_count": 16,
   "id": "applicable-milan",
   "metadata": {},
   "outputs": [
    {
     "data": {
      "text/plain": [
       "2022-05-20T12:01:09.202414"
      ]
     },
     "execution_count": 16,
     "metadata": {},
     "output_type": "execute_result"
    }
   ],
   "source": [
    "d.atTime(t)"
   ]
  },
  {
   "cell_type": "code",
   "execution_count": 17,
   "id": "thirty-punishment",
   "metadata": {},
   "outputs": [
    {
     "data": {
      "text/plain": [
       "ISO"
      ]
     },
     "execution_count": 17,
     "metadata": {},
     "output_type": "execute_result"
    }
   ],
   "source": [
    "d.getChronology()"
   ]
  },
  {
   "cell_type": "code",
   "execution_count": 18,
   "id": "excited-camera",
   "metadata": {},
   "outputs": [
    {
     "data": {
      "text/plain": [
       "FRIDAY"
      ]
     },
     "execution_count": 18,
     "metadata": {},
     "output_type": "execute_result"
    }
   ],
   "source": [
    "d.getDayOfWeek()"
   ]
  },
  {
   "cell_type": "code",
   "execution_count": 19,
   "id": "sunrise-occurrence",
   "metadata": {},
   "outputs": [
    {
     "data": {
      "text/plain": [
       "20"
      ]
     },
     "execution_count": 19,
     "metadata": {},
     "output_type": "execute_result"
    }
   ],
   "source": [
    "d.getDayOfMonth()"
   ]
  },
  {
   "cell_type": "code",
   "execution_count": 20,
   "id": "heard-contrary",
   "metadata": {},
   "outputs": [
    {
     "data": {
      "text/plain": [
       "140"
      ]
     },
     "execution_count": 20,
     "metadata": {},
     "output_type": "execute_result"
    }
   ],
   "source": [
    "d.getDayOfYear()"
   ]
  },
  {
   "cell_type": "code",
   "execution_count": 21,
   "id": "bigger-georgia",
   "metadata": {},
   "outputs": [
    {
     "data": {
      "text/plain": [
       "CE"
      ]
     },
     "execution_count": 21,
     "metadata": {},
     "output_type": "execute_result"
    }
   ],
   "source": [
    "d.getEra()"
   ]
  },
  {
   "cell_type": "code",
   "execution_count": 22,
   "id": "cathedral-motel",
   "metadata": {},
   "outputs": [
    {
     "data": {
      "text/plain": [
       "MAY"
      ]
     },
     "execution_count": 22,
     "metadata": {},
     "output_type": "execute_result"
    }
   ],
   "source": [
    "d.getMonth()"
   ]
  },
  {
   "cell_type": "code",
   "execution_count": 23,
   "id": "civic-average",
   "metadata": {},
   "outputs": [
    {
     "data": {
      "text/plain": [
       "5"
      ]
     },
     "execution_count": 23,
     "metadata": {},
     "output_type": "execute_result"
    }
   ],
   "source": [
    "d.getMonthValue()"
   ]
  },
  {
   "cell_type": "code",
   "execution_count": 24,
   "id": "accredited-estimate",
   "metadata": {},
   "outputs": [
    {
     "data": {
      "text/plain": [
       "2022"
      ]
     },
     "execution_count": 24,
     "metadata": {},
     "output_type": "execute_result"
    }
   ],
   "source": [
    "d.getYear()"
   ]
  },
  {
   "cell_type": "code",
   "execution_count": 25,
   "id": "constitutional-entertainment",
   "metadata": {},
   "outputs": [
    {
     "data": {
      "text/plain": [
       "false"
      ]
     },
     "execution_count": 25,
     "metadata": {},
     "output_type": "execute_result"
    }
   ],
   "source": [
    "d.isLeapYear()"
   ]
  },
  {
   "cell_type": "code",
   "execution_count": 26,
   "id": "musical-practitioner",
   "metadata": {},
   "outputs": [
    {
     "data": {
      "text/plain": [
       "31"
      ]
     },
     "execution_count": 26,
     "metadata": {},
     "output_type": "execute_result"
    }
   ],
   "source": [
    "d.lengthOfMonth()"
   ]
  },
  {
   "cell_type": "code",
   "execution_count": 28,
   "id": "prostate-estate",
   "metadata": {},
   "outputs": [
    {
     "data": {
      "text/plain": [
       "365"
      ]
     },
     "execution_count": 28,
     "metadata": {},
     "output_type": "execute_result"
    }
   ],
   "source": [
    "d.lengthOfYear()"
   ]
  },
  {
   "cell_type": "code",
   "execution_count": 29,
   "id": "beneficial-understanding",
   "metadata": {},
   "outputs": [
    {
     "data": {
      "text/plain": [
       "2022-05-19"
      ]
     },
     "execution_count": 29,
     "metadata": {},
     "output_type": "execute_result"
    }
   ],
   "source": [
    "d.minusDays(1)"
   ]
  },
  {
   "cell_type": "code",
   "execution_count": 30,
   "id": "liquid-characteristic",
   "metadata": {},
   "outputs": [
    {
     "data": {
      "text/plain": [
       "2022-05-20"
      ]
     },
     "execution_count": 30,
     "metadata": {},
     "output_type": "execute_result"
    }
   ],
   "source": [
    "d.now()"
   ]
  },
  {
   "cell_type": "code",
   "execution_count": 31,
   "id": "decimal-parliament",
   "metadata": {},
   "outputs": [
    {
     "data": {
      "text/plain": [
       "2022-05-20"
      ]
     },
     "execution_count": 31,
     "metadata": {},
     "output_type": "execute_result"
    }
   ],
   "source": [
    "d.toString()"
   ]
  },
  {
   "cell_type": "code",
   "execution_count": 32,
   "id": "acute-pierce",
   "metadata": {},
   "outputs": [
    {
     "data": {
      "text/plain": [
       "2022-05-01"
      ]
     },
     "execution_count": 32,
     "metadata": {},
     "output_type": "execute_result"
    }
   ],
   "source": [
    "d.withDayOfMonth(1)"
   ]
  },
  {
   "cell_type": "code",
   "execution_count": 34,
   "id": "applied-evaluation",
   "metadata": {},
   "outputs": [
    {
     "data": {
      "text/plain": [
       "2022-01-20"
      ]
     },
     "execution_count": 34,
     "metadata": {},
     "output_type": "execute_result"
    }
   ],
   "source": [
    "d.withDayOfYear(20)"
   ]
  },
  {
   "cell_type": "code",
   "execution_count": 35,
   "id": "acting-scroll",
   "metadata": {},
   "outputs": [
    {
     "data": {
      "text/plain": [
       "2022-02-20"
      ]
     },
     "execution_count": 35,
     "metadata": {},
     "output_type": "execute_result"
    }
   ],
   "source": [
    "d.withMonth(2)"
   ]
  },
  {
   "cell_type": "code",
   "execution_count": 36,
   "id": "usual-italy",
   "metadata": {},
   "outputs": [
    {
     "data": {
      "text/plain": [
       "2000-05-20"
      ]
     },
     "execution_count": 36,
     "metadata": {},
     "output_type": "execute_result"
    }
   ],
   "source": [
    "d.withYear(2000)"
   ]
  },
  {
   "cell_type": "code",
   "execution_count": 37,
   "id": "common-image",
   "metadata": {},
   "outputs": [
    {
     "data": {
      "text/plain": [
       "19132"
      ]
     },
     "execution_count": 37,
     "metadata": {},
     "output_type": "execute_result"
    }
   ],
   "source": [
    "d.toEpochDay()"
   ]
  },
  {
   "cell_type": "markdown",
   "id": "informed-spending",
   "metadata": {},
   "source": [
    "# LocalDateTime"
   ]
  },
  {
   "cell_type": "code",
   "execution_count": 5,
   "id": "resistant-sitting",
   "metadata": {},
   "outputs": [],
   "source": [
    "LocalDateTime t = LocalDateTime.now()"
   ]
  },
  {
   "cell_type": "code",
   "execution_count": 6,
   "id": "selected-stadium",
   "metadata": {},
   "outputs": [
    {
     "data": {
      "text/plain": [
       "2022-05-23T11:44:16.879729"
      ]
     },
     "execution_count": 6,
     "metadata": {},
     "output_type": "execute_result"
    }
   ],
   "source": [
    "t"
   ]
  },
  {
   "cell_type": "code",
   "execution_count": 7,
   "id": "composite-administration",
   "metadata": {},
   "outputs": [
    {
     "data": {
      "text/plain": [
       "23"
      ]
     },
     "execution_count": 7,
     "metadata": {},
     "output_type": "execute_result"
    }
   ],
   "source": [
    "t.getDayOfMonth()"
   ]
  },
  {
   "cell_type": "code",
   "execution_count": 8,
   "id": "universal-species",
   "metadata": {},
   "outputs": [
    {
     "data": {
      "text/plain": [
       "143"
      ]
     },
     "execution_count": 8,
     "metadata": {},
     "output_type": "execute_result"
    }
   ],
   "source": [
    "t.getDayOfYear()"
   ]
  },
  {
   "cell_type": "code",
   "execution_count": 9,
   "id": "passing-bernard",
   "metadata": {},
   "outputs": [
    {
     "data": {
      "text/plain": [
       "MONDAY"
      ]
     },
     "execution_count": 9,
     "metadata": {},
     "output_type": "execute_result"
    }
   ],
   "source": [
    "t.getDayOfWeek()"
   ]
  },
  {
   "cell_type": "code",
   "execution_count": 10,
   "id": "significant-prophet",
   "metadata": {},
   "outputs": [
    {
     "data": {
      "text/plain": [
       "11"
      ]
     },
     "execution_count": 10,
     "metadata": {},
     "output_type": "execute_result"
    }
   ],
   "source": [
    "t.getHour()"
   ]
  },
  {
   "cell_type": "code",
   "execution_count": 11,
   "id": "transsexual-blair",
   "metadata": {},
   "outputs": [
    {
     "data": {
      "text/plain": [
       "44"
      ]
     },
     "execution_count": 11,
     "metadata": {},
     "output_type": "execute_result"
    }
   ],
   "source": [
    "t.getMinute()"
   ]
  },
  {
   "cell_type": "code",
   "execution_count": 12,
   "id": "judicial-samba",
   "metadata": {},
   "outputs": [
    {
     "data": {
      "text/plain": [
       "MAY"
      ]
     },
     "execution_count": 12,
     "metadata": {},
     "output_type": "execute_result"
    }
   ],
   "source": [
    "t.getMonth()"
   ]
  },
  {
   "cell_type": "code",
   "execution_count": 13,
   "id": "illegal-chester",
   "metadata": {},
   "outputs": [
    {
     "data": {
      "text/plain": [
       "5"
      ]
     },
     "execution_count": 13,
     "metadata": {},
     "output_type": "execute_result"
    }
   ],
   "source": [
    "t.getMonthValue()"
   ]
  },
  {
   "cell_type": "code",
   "execution_count": 14,
   "id": "nominated-reading",
   "metadata": {},
   "outputs": [
    {
     "data": {
      "text/plain": [
       "879729000"
      ]
     },
     "execution_count": 14,
     "metadata": {},
     "output_type": "execute_result"
    }
   ],
   "source": [
    "t.getNano()"
   ]
  },
  {
   "cell_type": "code",
   "execution_count": 15,
   "id": "correct-festival",
   "metadata": {},
   "outputs": [
    {
     "data": {
      "text/plain": [
       "16"
      ]
     },
     "execution_count": 15,
     "metadata": {},
     "output_type": "execute_result"
    }
   ],
   "source": [
    "t.getSecond()"
   ]
  },
  {
   "cell_type": "code",
   "execution_count": 16,
   "id": "beautiful-slovenia",
   "metadata": {},
   "outputs": [
    {
     "data": {
      "text/plain": [
       "2022"
      ]
     },
     "execution_count": 16,
     "metadata": {},
     "output_type": "execute_result"
    }
   ],
   "source": [
    "t.getYear()"
   ]
  },
  {
   "cell_type": "code",
   "execution_count": null,
   "id": "million-album",
   "metadata": {},
   "outputs": [],
   "source": []
  }
 ],
 "metadata": {
  "kernelspec": {
   "display_name": "Java",
   "language": "java",
   "name": "java"
  },
  "language_info": {
   "codemirror_mode": "java",
   "file_extension": ".jshell",
   "mimetype": "text/x-java-source",
   "name": "Java",
   "pygments_lexer": "java",
   "version": "11.0.15+10-Ubuntu-0ubuntu0.20.04.1"
  }
 },
 "nbformat": 4,
 "nbformat_minor": 5
}
