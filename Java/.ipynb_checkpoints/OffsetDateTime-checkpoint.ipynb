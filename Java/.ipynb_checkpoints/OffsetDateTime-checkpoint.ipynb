{
 "cells": [
  {
   "cell_type": "code",
   "execution_count": 27,
   "id": "amended-norman",
   "metadata": {},
   "outputs": [],
   "source": [
    "import java.time.*;\n",
    "import java.time.temporal.*;\n",
    "import java.time.temporal.ChronoField.*;\n",
    "import static java.time.temporal.ChronoField.*;"
   ]
  },
  {
   "cell_type": "code",
   "execution_count": 31,
   "id": "satisfactory-resident",
   "metadata": {},
   "outputs": [],
   "source": [
    "OffsetDateTime o = OffsetDateTime.now()"
   ]
  },
  {
   "cell_type": "code",
   "execution_count": 32,
   "id": "presidential-spirit",
   "metadata": {},
   "outputs": [
    {
     "data": {
      "text/plain": [
       "2022-05-24T09:52:05.249344+01:00"
      ]
     },
     "execution_count": 32,
     "metadata": {},
     "output_type": "execute_result"
    }
   ],
   "source": [
    "o"
   ]
  },
  {
   "cell_type": "code",
   "execution_count": 18,
   "id": "endangered-lunch",
   "metadata": {},
   "outputs": [
    {
     "data": {
      "text/plain": [
       "3"
      ]
     },
     "execution_count": 18,
     "metadata": {},
     "output_type": "execute_result"
    }
   ],
   "source": [
    "o.get(ChronoField.ALIGNED_DAY_OF_WEEK_IN_MONTH)"
   ]
  },
  {
   "cell_type": "code",
   "execution_count": 19,
   "id": "rubber-investor",
   "metadata": {},
   "outputs": [
    {
     "data": {
      "text/plain": [
       "4"
      ]
     },
     "execution_count": 19,
     "metadata": {},
     "output_type": "execute_result"
    }
   ],
   "source": [
    "o.get(ChronoField.ALIGNED_WEEK_OF_MONTH)"
   ]
  },
  {
   "cell_type": "code",
   "execution_count": 20,
   "id": "musical-phase",
   "metadata": {},
   "outputs": [
    {
     "data": {
      "text/plain": [
       "4"
      ]
     },
     "execution_count": 20,
     "metadata": {},
     "output_type": "execute_result"
    }
   ],
   "source": [
    "o.get(ChronoField.ALIGNED_DAY_OF_WEEK_IN_YEAR)"
   ]
  },
  {
   "cell_type": "code",
   "execution_count": 21,
   "id": "official-pathology",
   "metadata": {},
   "outputs": [
    {
     "data": {
      "text/plain": [
       "21"
      ]
     },
     "execution_count": 21,
     "metadata": {},
     "output_type": "execute_result"
    }
   ],
   "source": [
    "o.get(ChronoField.ALIGNED_WEEK_OF_YEAR)"
   ]
  },
  {
   "cell_type": "code",
   "execution_count": 22,
   "id": "colonial-albania",
   "metadata": {},
   "outputs": [
    {
     "data": {
      "text/plain": [
       "0"
      ]
     },
     "execution_count": 22,
     "metadata": {},
     "output_type": "execute_result"
    }
   ],
   "source": [
    "o.get(ChronoField.AMPM_OF_DAY)"
   ]
  },
  {
   "cell_type": "code",
   "execution_count": 25,
   "id": "reserved-internet",
   "metadata": {},
   "outputs": [
    {
     "data": {
      "text/plain": [
       "9"
      ]
     },
     "execution_count": 25,
     "metadata": {},
     "output_type": "execute_result"
    }
   ],
   "source": [
    "o.get(ChronoField.CLOCK_HOUR_OF_AMPM)"
   ]
  },
  {
   "cell_type": "code",
   "execution_count": 33,
   "id": "thick-branch",
   "metadata": {},
   "outputs": [
    {
     "data": {
      "text/plain": [
       "9"
      ]
     },
     "execution_count": 33,
     "metadata": {},
     "output_type": "execute_result"
    }
   ],
   "source": [
    "o.get(ChronoField.CLOCK_HOUR_OF_DAY)"
   ]
  },
  {
   "cell_type": "code",
   "execution_count": 34,
   "id": "infinite-theorem",
   "metadata": {},
   "outputs": [
    {
     "data": {
      "text/plain": [
       "24"
      ]
     },
     "execution_count": 34,
     "metadata": {},
     "output_type": "execute_result"
    }
   ],
   "source": [
    "o.get(DAY_OF_MONTH)"
   ]
  },
  {
   "cell_type": "code",
   "execution_count": 35,
   "id": "protecting-certification",
   "metadata": {},
   "outputs": [
    {
     "data": {
      "text/plain": [
       "2"
      ]
     },
     "execution_count": 35,
     "metadata": {},
     "output_type": "execute_result"
    }
   ],
   "source": [
    "o.get(DAY_OF_WEEK)"
   ]
  },
  {
   "cell_type": "code",
   "execution_count": 36,
   "id": "dying-scroll",
   "metadata": {},
   "outputs": [
    {
     "data": {
      "text/plain": [
       "144"
      ]
     },
     "execution_count": 36,
     "metadata": {},
     "output_type": "execute_result"
    }
   ],
   "source": [
    "o.get(DAY_OF_YEAR)"
   ]
  },
  {
   "cell_type": "code",
   "execution_count": 39,
   "id": "pediatric-syria",
   "metadata": {},
   "outputs": [
    {
     "ename": "EvalException",
     "evalue": "Invalid field 'EpochDay' for get() method, use getLong() instead",
     "output_type": "error",
     "traceback": [
      "\u001b[1m\u001b[31m---------------------------------------------------------------------------\u001b[0m",
      "\u001b[1m\u001b[31mjava.time.temporal.UnsupportedTemporalTypeException: Invalid field 'EpochDay' for get() method, use getLong() instead\u001b[0m",
      "\u001b[1m\u001b[31m\tat java.base/java.time.LocalDate.get0(LocalDate.java:699)\u001b[0m",
      "\u001b[1m\u001b[31m\tat java.base/java.time.LocalDate.get(LocalDate.java:650)\u001b[0m",
      "\u001b[1m\u001b[31m\tat java.base/java.time.LocalDateTime.get(LocalDateTime.java:688)\u001b[0m",
      "\u001b[1m\u001b[31m\tat java.base/java.time.OffsetDateTime.get(OffsetDateTime.java:604)\u001b[0m",
      "\u001b[1m\u001b[31m\tat .(#47:1)\u001b[0m"
     ]
    }
   ],
   "source": [
    "o.get(ChronoField.EPOCH_DAY)"
   ]
  },
  {
   "cell_type": "code",
   "execution_count": 40,
   "id": "christian-explorer",
   "metadata": {},
   "outputs": [
    {
     "ename": "CompilationException",
     "evalue": "",
     "output_type": "error",
     "traceback": [
      "\u001b[1m\u001b[30m|   \u001b[1m\u001b[30mo.get(\u001b[0m\u001b[1m\u001b[30m\u001b[41mChronoField.EPA\u001b[0m\u001b[1m\u001b[30m)\u001b[0m",
      "\u001b[1m\u001b[31mcannot find symbol\u001b[0m",
      "\u001b[1m\u001b[31m  symbol:   variable EPA\u001b[0m",
      ""
     ]
    }
   ],
   "source": [
    "o.get(ChronoField.EPA)"
   ]
  },
  {
   "cell_type": "code",
   "execution_count": 41,
   "id": "clinical-patio",
   "metadata": {},
   "outputs": [
    {
     "data": {
      "text/plain": [
       "9"
      ]
     },
     "execution_count": 41,
     "metadata": {},
     "output_type": "execute_result"
    }
   ],
   "source": [
    "o.get(HOUR_OF_AMPM)"
   ]
  },
  {
   "cell_type": "code",
   "execution_count": 42,
   "id": "military-instrumentation",
   "metadata": {},
   "outputs": [
    {
     "data": {
      "text/plain": [
       "9"
      ]
     },
     "execution_count": 42,
     "metadata": {},
     "output_type": "execute_result"
    }
   ],
   "source": [
    "o.get(HOUR_OF_DAY)"
   ]
  },
  {
   "cell_type": "code",
   "execution_count": 43,
   "id": "sapphire-second",
   "metadata": {},
   "outputs": [
    {
     "ename": "EvalException",
     "evalue": "Invalid field 'InstantSeconds' for get() method, use getLong() instead",
     "output_type": "error",
     "traceback": [
      "\u001b[1m\u001b[31m---------------------------------------------------------------------------\u001b[0m",
      "\u001b[1m\u001b[31mjava.time.temporal.UnsupportedTemporalTypeException: Invalid field 'InstantSeconds' for get() method, use getLong() instead\u001b[0m",
      "\u001b[1m\u001b[31m\tat java.base/java.time.OffsetDateTime.get(OffsetDateTime.java:600)\u001b[0m",
      "\u001b[1m\u001b[31m\tat .(#51:1)\u001b[0m"
     ]
    }
   ],
   "source": [
    "o.get(INSTANT_SECONDS)"
   ]
  },
  {
   "cell_type": "code",
   "execution_count": 44,
   "id": "juvenile-tackle",
   "metadata": {},
   "outputs": [
    {
     "ename": "EvalException",
     "evalue": "Invalid field 'InstantSeconds' for get() method, use getLong() instead",
     "output_type": "error",
     "traceback": [
      "\u001b[1m\u001b[31m---------------------------------------------------------------------------\u001b[0m",
      "\u001b[1m\u001b[31mjava.time.temporal.UnsupportedTemporalTypeException: Invalid field 'InstantSeconds' for get() method, use getLong() instead\u001b[0m",
      "\u001b[1m\u001b[31m\tat java.base/java.time.OffsetDateTime.get(OffsetDateTime.java:600)\u001b[0m",
      "\u001b[1m\u001b[31m\tat .(#52:1)\u001b[0m"
     ]
    }
   ],
   "source": [
    "o.get(INSTANT_SECONDS)"
   ]
  },
  {
   "cell_type": "code",
   "execution_count": 45,
   "id": "conservative-robert",
   "metadata": {},
   "outputs": [
    {
     "ename": "EvalException",
     "evalue": "Invalid field 'MicroOfDay' for get() method, use getLong() instead",
     "output_type": "error",
     "traceback": [
      "\u001b[1m\u001b[31m---------------------------------------------------------------------------\u001b[0m",
      "\u001b[1m\u001b[31mjava.time.temporal.UnsupportedTemporalTypeException: Invalid field 'MicroOfDay' for get() method, use getLong() instead\u001b[0m",
      "\u001b[1m\u001b[31m\tat java.base/java.time.LocalTime.get0(LocalTime.java:688)\u001b[0m",
      "\u001b[1m\u001b[31m\tat java.base/java.time.LocalTime.get(LocalTime.java:641)\u001b[0m",
      "\u001b[1m\u001b[31m\tat java.base/java.time.LocalDateTime.get(LocalDateTime.java:688)\u001b[0m",
      "\u001b[1m\u001b[31m\tat java.base/java.time.OffsetDateTime.get(OffsetDateTime.java:604)\u001b[0m",
      "\u001b[1m\u001b[31m\tat .(#53:1)\u001b[0m"
     ]
    }
   ],
   "source": [
    "o.get(MICRO_OF_DAY)"
   ]
  },
  {
   "cell_type": "code",
   "execution_count": 46,
   "id": "recorded-auckland",
   "metadata": {},
   "outputs": [
    {
     "data": {
      "text/plain": [
       "249344"
      ]
     },
     "execution_count": 46,
     "metadata": {},
     "output_type": "execute_result"
    }
   ],
   "source": [
    "o.get(MICRO_OF_SECOND)"
   ]
  },
  {
   "cell_type": "code",
   "execution_count": 47,
   "id": "satisfied-theta",
   "metadata": {},
   "outputs": [
    {
     "data": {
      "text/plain": [
       "35525249"
      ]
     },
     "execution_count": 47,
     "metadata": {},
     "output_type": "execute_result"
    }
   ],
   "source": [
    "o.get(MILLI_OF_DAY)"
   ]
  },
  {
   "cell_type": "code",
   "execution_count": 48,
   "id": "designing-surgeon",
   "metadata": {},
   "outputs": [
    {
     "data": {
      "text/plain": [
       "52"
      ]
     },
     "execution_count": 48,
     "metadata": {},
     "output_type": "execute_result"
    }
   ],
   "source": [
    "o.get(MINUTE_OF_HOUR)"
   ]
  },
  {
   "cell_type": "code",
   "execution_count": 49,
   "id": "delayed-martin",
   "metadata": {},
   "outputs": [
    {
     "ename": "EvalException",
     "evalue": "Invalid field 'ProlepticMonth' for get() method, use getLong() instead",
     "output_type": "error",
     "traceback": [
      "\u001b[1m\u001b[31m---------------------------------------------------------------------------\u001b[0m",
      "\u001b[1m\u001b[31mjava.time.temporal.UnsupportedTemporalTypeException: Invalid field 'ProlepticMonth' for get() method, use getLong() instead\u001b[0m",
      "\u001b[1m\u001b[31m\tat java.base/java.time.LocalDate.get0(LocalDate.java:703)\u001b[0m",
      "\u001b[1m\u001b[31m\tat java.base/java.time.LocalDate.get(LocalDate.java:650)\u001b[0m",
      "\u001b[1m\u001b[31m\tat java.base/java.time.LocalDateTime.get(LocalDateTime.java:688)\u001b[0m",
      "\u001b[1m\u001b[31m\tat java.base/java.time.OffsetDateTime.get(OffsetDateTime.java:604)\u001b[0m",
      "\u001b[1m\u001b[31m\tat .(#57:1)\u001b[0m"
     ]
    }
   ],
   "source": [
    "o.get(PROLEPTIC_MONTH)"
   ]
  },
  {
   "cell_type": "code",
   "execution_count": 50,
   "id": "changing-stocks",
   "metadata": {},
   "outputs": [
    {
     "data": {
      "text/plain": [
       "2022"
      ]
     },
     "execution_count": 50,
     "metadata": {},
     "output_type": "execute_result"
    }
   ],
   "source": [
    "o.get(YEAR)"
   ]
  },
  {
   "cell_type": "code",
   "execution_count": 51,
   "id": "northern-auditor",
   "metadata": {},
   "outputs": [
    {
     "data": {
      "text/plain": [
       "2022"
      ]
     },
     "execution_count": 51,
     "metadata": {},
     "output_type": "execute_result"
    }
   ],
   "source": [
    "o.get(YEAR_OF_ERA)"
   ]
  },
  {
   "cell_type": "code",
   "execution_count": 52,
   "id": "consistent-baghdad",
   "metadata": {},
   "outputs": [
    {
     "data": {
      "text/plain": [
       "24"
      ]
     },
     "execution_count": 52,
     "metadata": {},
     "output_type": "execute_result"
    }
   ],
   "source": [
    "o.getDayOfMonth()"
   ]
  },
  {
   "cell_type": "code",
   "execution_count": 53,
   "id": "linear-judges",
   "metadata": {},
   "outputs": [
    {
     "data": {
      "text/plain": [
       "TUESDAY"
      ]
     },
     "execution_count": 53,
     "metadata": {},
     "output_type": "execute_result"
    }
   ],
   "source": [
    "o.getDayOfWeek()"
   ]
  },
  {
   "cell_type": "code",
   "execution_count": 54,
   "id": "multiple-middle",
   "metadata": {},
   "outputs": [
    {
     "data": {
      "text/plain": [
       "144"
      ]
     },
     "execution_count": 54,
     "metadata": {},
     "output_type": "execute_result"
    }
   ],
   "source": [
    "o.getDayOfYear()"
   ]
  },
  {
   "cell_type": "code",
   "execution_count": 55,
   "id": "conscious-enterprise",
   "metadata": {},
   "outputs": [
    {
     "data": {
      "text/plain": [
       "9"
      ]
     },
     "execution_count": 55,
     "metadata": {},
     "output_type": "execute_result"
    }
   ],
   "source": [
    "o.getHour()"
   ]
  },
  {
   "cell_type": "code",
   "execution_count": 56,
   "id": "legislative-shuttle",
   "metadata": {},
   "outputs": [
    {
     "data": {
      "text/plain": [
       "52"
      ]
     },
     "execution_count": 56,
     "metadata": {},
     "output_type": "execute_result"
    }
   ],
   "source": [
    "o.getMinute()"
   ]
  },
  {
   "cell_type": "code",
   "execution_count": 57,
   "id": "still-handy",
   "metadata": {},
   "outputs": [
    {
     "data": {
      "text/plain": [
       "MAY"
      ]
     },
     "execution_count": 57,
     "metadata": {},
     "output_type": "execute_result"
    }
   ],
   "source": [
    "o.getMonth()"
   ]
  },
  {
   "cell_type": "code",
   "execution_count": null,
   "id": "vietnamese-stamp",
   "metadata": {},
   "outputs": [],
   "source": []
  }
 ],
 "metadata": {
  "kernelspec": {
   "display_name": "Java",
   "language": "java",
   "name": "java"
  },
  "language_info": {
   "codemirror_mode": "java",
   "file_extension": ".jshell",
   "mimetype": "text/x-java-source",
   "name": "Java",
   "pygments_lexer": "java",
   "version": "11.0.15+10-Ubuntu-0ubuntu0.20.04.1"
  }
 },
 "nbformat": 4,
 "nbformat_minor": 5
}
