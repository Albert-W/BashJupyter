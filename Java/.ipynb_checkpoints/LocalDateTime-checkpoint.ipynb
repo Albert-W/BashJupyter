{
 "cells": [
  {
   "cell_type": "markdown",
   "id": "christian-sending",
   "metadata": {},
   "source": [
    "# LocalDate"
   ]
  },
  {
   "cell_type": "code",
   "execution_count": 8,
   "id": "taken-values",
   "metadata": {},
   "outputs": [],
   "source": [
    "import java.time.*"
   ]
  },
  {
   "cell_type": "code",
   "execution_count": 9,
   "id": "checked-assignment",
   "metadata": {},
   "outputs": [
    {
     "name": "stdout",
     "output_type": "stream",
     "text": [
      "hello\n"
     ]
    }
   ],
   "source": [
    "System.out.println(\"hello\");"
   ]
  },
  {
   "cell_type": "code",
   "execution_count": 10,
   "id": "crazy-somalia",
   "metadata": {},
   "outputs": [],
   "source": [
    "LocalDate d = LocalDate.now(); "
   ]
  },
  {
   "cell_type": "code",
   "execution_count": 11,
   "id": "potential-magnitude",
   "metadata": {},
   "outputs": [
    {
     "data": {
      "text/plain": [
       "2022-05-20"
      ]
     },
     "execution_count": 11,
     "metadata": {},
     "output_type": "execute_result"
    }
   ],
   "source": [
    "d"
   ]
  },
  {
   "cell_type": "code",
   "execution_count": 12,
   "id": "activated-treat",
   "metadata": {},
   "outputs": [
    {
     "data": {
      "text/plain": [
       "2022-05-20T00:00"
      ]
     },
     "execution_count": 12,
     "metadata": {},
     "output_type": "execute_result"
    }
   ],
   "source": [
    "d.atStartOfDay()"
   ]
  },
  {
   "cell_type": "code",
   "execution_count": 13,
   "id": "different-spider",
   "metadata": {},
   "outputs": [
    {
     "data": {
      "text/plain": [
       "2022-05-20T11:09"
      ]
     },
     "execution_count": 13,
     "metadata": {},
     "output_type": "execute_result"
    }
   ],
   "source": [
    "d.atTime(11, 9)"
   ]
  },
  {
   "cell_type": "code",
   "execution_count": 14,
   "id": "military-supervision",
   "metadata": {},
   "outputs": [],
   "source": [
    "LocalTime t = LocalTime.now()"
   ]
  },
  {
   "cell_type": "code",
   "execution_count": 15,
   "id": "analyzed-victorian",
   "metadata": {},
   "outputs": [
    {
     "data": {
      "text/plain": [
       "12:01:09.202414"
      ]
     },
     "execution_count": 15,
     "metadata": {},
     "output_type": "execute_result"
    }
   ],
   "source": [
    "t"
   ]
  },
  {
   "cell_type": "code",
   "execution_count": 16,
   "id": "prospective-radius",
   "metadata": {},
   "outputs": [
    {
     "data": {
      "text/plain": [
       "2022-05-20T12:01:09.202414"
      ]
     },
     "execution_count": 16,
     "metadata": {},
     "output_type": "execute_result"
    }
   ],
   "source": [
    "d.atTime(t)"
   ]
  },
  {
   "cell_type": "code",
   "execution_count": 17,
   "id": "varying-spelling",
   "metadata": {},
   "outputs": [
    {
     "data": {
      "text/plain": [
       "ISO"
      ]
     },
     "execution_count": 17,
     "metadata": {},
     "output_type": "execute_result"
    }
   ],
   "source": [
    "d.getChronology()"
   ]
  },
  {
   "cell_type": "code",
   "execution_count": 18,
   "id": "spectacular-consolidation",
   "metadata": {},
   "outputs": [
    {
     "data": {
      "text/plain": [
       "FRIDAY"
      ]
     },
     "execution_count": 18,
     "metadata": {},
     "output_type": "execute_result"
    }
   ],
   "source": [
    "d.getDayOfWeek()"
   ]
  },
  {
   "cell_type": "code",
   "execution_count": 19,
   "id": "whole-sample",
   "metadata": {},
   "outputs": [
    {
     "data": {
      "text/plain": [
       "20"
      ]
     },
     "execution_count": 19,
     "metadata": {},
     "output_type": "execute_result"
    }
   ],
   "source": [
    "d.getDayOfMonth()"
   ]
  },
  {
   "cell_type": "code",
   "execution_count": 20,
   "id": "interesting-balance",
   "metadata": {},
   "outputs": [
    {
     "data": {
      "text/plain": [
       "140"
      ]
     },
     "execution_count": 20,
     "metadata": {},
     "output_type": "execute_result"
    }
   ],
   "source": [
    "d.getDayOfYear()"
   ]
  },
  {
   "cell_type": "code",
   "execution_count": 21,
   "id": "authorized-seventh",
   "metadata": {},
   "outputs": [
    {
     "data": {
      "text/plain": [
       "CE"
      ]
     },
     "execution_count": 21,
     "metadata": {},
     "output_type": "execute_result"
    }
   ],
   "source": [
    "d.getEra()"
   ]
  },
  {
   "cell_type": "code",
   "execution_count": 22,
   "id": "sacred-morning",
   "metadata": {},
   "outputs": [
    {
     "data": {
      "text/plain": [
       "MAY"
      ]
     },
     "execution_count": 22,
     "metadata": {},
     "output_type": "execute_result"
    }
   ],
   "source": [
    "d.getMonth()"
   ]
  },
  {
   "cell_type": "code",
   "execution_count": 23,
   "id": "illegal-cooling",
   "metadata": {},
   "outputs": [
    {
     "data": {
      "text/plain": [
       "5"
      ]
     },
     "execution_count": 23,
     "metadata": {},
     "output_type": "execute_result"
    }
   ],
   "source": [
    "d.getMonthValue()"
   ]
  },
  {
   "cell_type": "code",
   "execution_count": 24,
   "id": "confident-cincinnati",
   "metadata": {},
   "outputs": [
    {
     "data": {
      "text/plain": [
       "2022"
      ]
     },
     "execution_count": 24,
     "metadata": {},
     "output_type": "execute_result"
    }
   ],
   "source": [
    "d.getYear()"
   ]
  },
  {
   "cell_type": "code",
   "execution_count": 25,
   "id": "daily-mambo",
   "metadata": {},
   "outputs": [
    {
     "data": {
      "text/plain": [
       "false"
      ]
     },
     "execution_count": 25,
     "metadata": {},
     "output_type": "execute_result"
    }
   ],
   "source": [
    "d.isLeapYear()"
   ]
  },
  {
   "cell_type": "code",
   "execution_count": 26,
   "id": "after-contributor",
   "metadata": {},
   "outputs": [
    {
     "data": {
      "text/plain": [
       "31"
      ]
     },
     "execution_count": 26,
     "metadata": {},
     "output_type": "execute_result"
    }
   ],
   "source": [
    "d.lengthOfMonth()"
   ]
  },
  {
   "cell_type": "code",
   "execution_count": 28,
   "id": "prostate-printing",
   "metadata": {},
   "outputs": [
    {
     "data": {
      "text/plain": [
       "365"
      ]
     },
     "execution_count": 28,
     "metadata": {},
     "output_type": "execute_result"
    }
   ],
   "source": [
    "d.lengthOfYear()"
   ]
  },
  {
   "cell_type": "code",
   "execution_count": 29,
   "id": "macro-right",
   "metadata": {},
   "outputs": [
    {
     "data": {
      "text/plain": [
       "2022-05-19"
      ]
     },
     "execution_count": 29,
     "metadata": {},
     "output_type": "execute_result"
    }
   ],
   "source": [
    "d.minusDays(1)"
   ]
  },
  {
   "cell_type": "code",
   "execution_count": 30,
   "id": "passing-mountain",
   "metadata": {},
   "outputs": [
    {
     "data": {
      "text/plain": [
       "2022-05-20"
      ]
     },
     "execution_count": 30,
     "metadata": {},
     "output_type": "execute_result"
    }
   ],
   "source": [
    "d.now()"
   ]
  },
  {
   "cell_type": "code",
   "execution_count": 31,
   "id": "returning-annex",
   "metadata": {},
   "outputs": [
    {
     "data": {
      "text/plain": [
       "2022-05-20"
      ]
     },
     "execution_count": 31,
     "metadata": {},
     "output_type": "execute_result"
    }
   ],
   "source": [
    "d.toString()"
   ]
  },
  {
   "cell_type": "code",
   "execution_count": 32,
   "id": "signed-comfort",
   "metadata": {},
   "outputs": [
    {
     "data": {
      "text/plain": [
       "2022-05-01"
      ]
     },
     "execution_count": 32,
     "metadata": {},
     "output_type": "execute_result"
    }
   ],
   "source": [
    "d.withDayOfMonth(1)"
   ]
  },
  {
   "cell_type": "code",
   "execution_count": 34,
   "id": "suffering-shelter",
   "metadata": {},
   "outputs": [
    {
     "data": {
      "text/plain": [
       "2022-01-20"
      ]
     },
     "execution_count": 34,
     "metadata": {},
     "output_type": "execute_result"
    }
   ],
   "source": [
    "d.withDayOfYear(20)"
   ]
  },
  {
   "cell_type": "code",
   "execution_count": 35,
   "id": "fifteen-blowing",
   "metadata": {},
   "outputs": [
    {
     "data": {
      "text/plain": [
       "2022-02-20"
      ]
     },
     "execution_count": 35,
     "metadata": {},
     "output_type": "execute_result"
    }
   ],
   "source": [
    "d.withMonth(2)"
   ]
  },
  {
   "cell_type": "code",
   "execution_count": 36,
   "id": "pressing-lunch",
   "metadata": {},
   "outputs": [
    {
     "data": {
      "text/plain": [
       "2000-05-20"
      ]
     },
     "execution_count": 36,
     "metadata": {},
     "output_type": "execute_result"
    }
   ],
   "source": [
    "d.withYear(2000)"
   ]
  },
  {
   "cell_type": "code",
   "execution_count": 37,
   "id": "improved-chicken",
   "metadata": {},
   "outputs": [
    {
     "data": {
      "text/plain": [
       "19132"
      ]
     },
     "execution_count": 37,
     "metadata": {},
     "output_type": "execute_result"
    }
   ],
   "source": [
    "d.toEpochDay()"
   ]
  },
  {
   "cell_type": "code",
   "execution_count": null,
   "id": "incorporate-mexico",
   "metadata": {},
   "outputs": [],
   "source": []
  }
 ],
 "metadata": {
  "kernelspec": {
   "display_name": "Java",
   "language": "java",
   "name": "java"
  },
  "language_info": {
   "codemirror_mode": "java",
   "file_extension": ".jshell",
   "mimetype": "text/x-java-source",
   "name": "Java",
   "pygments_lexer": "java",
   "version": "11.0.15+10-Ubuntu-0ubuntu0.20.04.1"
  }
 },
 "nbformat": 4,
 "nbformat_minor": 5
}
