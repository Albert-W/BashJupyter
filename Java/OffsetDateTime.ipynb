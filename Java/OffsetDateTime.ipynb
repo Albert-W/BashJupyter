{
 "cells": [
  {
   "cell_type": "code",
   "execution_count": 7,
   "id": "amended-norman",
   "metadata": {},
   "outputs": [],
   "source": [
    "import java.time.*;\n",
    "import java.time.temporal.*;\n",
    "import java.time.temporal.ChronoField.*;\n",
    "import static java.time.temporal.ChronoField.*;"
   ]
  },
  {
   "cell_type": "code",
   "execution_count": 8,
   "id": "fuzzy-documentary",
   "metadata": {},
   "outputs": [],
   "source": [
    "import java.time.format.DateTimeFormatter;\n",
    "import java.time.format.DateTimeFormatterBuilder;\n",
    "import java.time.format.DateTimeParseException;"
   ]
  },
  {
   "cell_type": "code",
   "execution_count": 21,
   "id": "satisfactory-resident",
   "metadata": {},
   "outputs": [
    {
     "data": {
      "text/plain": [
       "2022-06-27T12:27:51.952034+01:00"
      ]
     },
     "execution_count": 21,
     "metadata": {},
     "output_type": "execute_result"
    }
   ],
   "source": [
    "OffsetDateTime o = OffsetDateTime.now();\n",
    "o"
   ]
  },
  {
   "cell_type": "code",
   "execution_count": 32,
   "id": "presidential-spirit",
   "metadata": {},
   "outputs": [
    {
     "data": {
      "text/plain": [
       "2022-05-24T09:52:05.249344+01:00"
      ]
     },
     "execution_count": 32,
     "metadata": {},
     "output_type": "execute_result"
    }
   ],
   "source": [
    "o"
   ]
  },
  {
   "cell_type": "code",
   "execution_count": 18,
   "id": "endangered-lunch",
   "metadata": {},
   "outputs": [
    {
     "data": {
      "text/plain": [
       "3"
      ]
     },
     "execution_count": 18,
     "metadata": {},
     "output_type": "execute_result"
    }
   ],
   "source": [
    "o.get(ChronoField.ALIGNED_DAY_OF_WEEK_IN_MONTH)"
   ]
  },
  {
   "cell_type": "code",
   "execution_count": 19,
   "id": "rubber-investor",
   "metadata": {},
   "outputs": [
    {
     "data": {
      "text/plain": [
       "4"
      ]
     },
     "execution_count": 19,
     "metadata": {},
     "output_type": "execute_result"
    }
   ],
   "source": [
    "o.get(ChronoField.ALIGNED_WEEK_OF_MONTH)"
   ]
  },
  {
   "cell_type": "code",
   "execution_count": 20,
   "id": "musical-phase",
   "metadata": {},
   "outputs": [
    {
     "data": {
      "text/plain": [
       "4"
      ]
     },
     "execution_count": 20,
     "metadata": {},
     "output_type": "execute_result"
    }
   ],
   "source": [
    "o.get(ChronoField.ALIGNED_DAY_OF_WEEK_IN_YEAR)"
   ]
  },
  {
   "cell_type": "code",
   "execution_count": 21,
   "id": "official-pathology",
   "metadata": {},
   "outputs": [
    {
     "data": {
      "text/plain": [
       "21"
      ]
     },
     "execution_count": 21,
     "metadata": {},
     "output_type": "execute_result"
    }
   ],
   "source": [
    "o.get(ChronoField.ALIGNED_WEEK_OF_YEAR)"
   ]
  },
  {
   "cell_type": "code",
   "execution_count": 22,
   "id": "colonial-albania",
   "metadata": {},
   "outputs": [
    {
     "data": {
      "text/plain": [
       "0"
      ]
     },
     "execution_count": 22,
     "metadata": {},
     "output_type": "execute_result"
    }
   ],
   "source": [
    "o.get(ChronoField.AMPM_OF_DAY)"
   ]
  },
  {
   "cell_type": "code",
   "execution_count": 25,
   "id": "reserved-internet",
   "metadata": {},
   "outputs": [
    {
     "data": {
      "text/plain": [
       "9"
      ]
     },
     "execution_count": 25,
     "metadata": {},
     "output_type": "execute_result"
    }
   ],
   "source": [
    "o.get(ChronoField.CLOCK_HOUR_OF_AMPM)"
   ]
  },
  {
   "cell_type": "code",
   "execution_count": 33,
   "id": "thick-branch",
   "metadata": {},
   "outputs": [
    {
     "data": {
      "text/plain": [
       "9"
      ]
     },
     "execution_count": 33,
     "metadata": {},
     "output_type": "execute_result"
    }
   ],
   "source": [
    "o.get(ChronoField.CLOCK_HOUR_OF_DAY)"
   ]
  },
  {
   "cell_type": "code",
   "execution_count": 34,
   "id": "infinite-theorem",
   "metadata": {},
   "outputs": [
    {
     "data": {
      "text/plain": [
       "24"
      ]
     },
     "execution_count": 34,
     "metadata": {},
     "output_type": "execute_result"
    }
   ],
   "source": [
    "o.get(DAY_OF_MONTH)"
   ]
  },
  {
   "cell_type": "code",
   "execution_count": 35,
   "id": "protecting-certification",
   "metadata": {},
   "outputs": [
    {
     "data": {
      "text/plain": [
       "2"
      ]
     },
     "execution_count": 35,
     "metadata": {},
     "output_type": "execute_result"
    }
   ],
   "source": [
    "o.get(DAY_OF_WEEK)"
   ]
  },
  {
   "cell_type": "code",
   "execution_count": 36,
   "id": "dying-scroll",
   "metadata": {},
   "outputs": [
    {
     "data": {
      "text/plain": [
       "144"
      ]
     },
     "execution_count": 36,
     "metadata": {},
     "output_type": "execute_result"
    }
   ],
   "source": [
    "o.get(DAY_OF_YEAR)"
   ]
  },
  {
   "cell_type": "code",
   "execution_count": 39,
   "id": "pediatric-syria",
   "metadata": {},
   "outputs": [
    {
     "ename": "EvalException",
     "evalue": "Invalid field 'EpochDay' for get() method, use getLong() instead",
     "output_type": "error",
     "traceback": [
      "\u001b[1m\u001b[31m---------------------------------------------------------------------------\u001b[0m",
      "\u001b[1m\u001b[31mjava.time.temporal.UnsupportedTemporalTypeException: Invalid field 'EpochDay' for get() method, use getLong() instead\u001b[0m",
      "\u001b[1m\u001b[31m\tat java.base/java.time.LocalDate.get0(LocalDate.java:699)\u001b[0m",
      "\u001b[1m\u001b[31m\tat java.base/java.time.LocalDate.get(LocalDate.java:650)\u001b[0m",
      "\u001b[1m\u001b[31m\tat java.base/java.time.LocalDateTime.get(LocalDateTime.java:688)\u001b[0m",
      "\u001b[1m\u001b[31m\tat java.base/java.time.OffsetDateTime.get(OffsetDateTime.java:604)\u001b[0m",
      "\u001b[1m\u001b[31m\tat .(#47:1)\u001b[0m"
     ]
    }
   ],
   "source": [
    "o.get(ChronoField.EPOCH_DAY)"
   ]
  },
  {
   "cell_type": "code",
   "execution_count": 40,
   "id": "christian-explorer",
   "metadata": {},
   "outputs": [
    {
     "ename": "CompilationException",
     "evalue": "",
     "output_type": "error",
     "traceback": [
      "\u001b[1m\u001b[30m|   \u001b[1m\u001b[30mo.get(\u001b[0m\u001b[1m\u001b[30m\u001b[41mChronoField.EPA\u001b[0m\u001b[1m\u001b[30m)\u001b[0m",
      "\u001b[1m\u001b[31mcannot find symbol\u001b[0m",
      "\u001b[1m\u001b[31m  symbol:   variable EPA\u001b[0m",
      ""
     ]
    }
   ],
   "source": [
    "o.get(ChronoField.EPA)"
   ]
  },
  {
   "cell_type": "code",
   "execution_count": 41,
   "id": "clinical-patio",
   "metadata": {},
   "outputs": [
    {
     "data": {
      "text/plain": [
       "9"
      ]
     },
     "execution_count": 41,
     "metadata": {},
     "output_type": "execute_result"
    }
   ],
   "source": [
    "o.get(HOUR_OF_AMPM)"
   ]
  },
  {
   "cell_type": "code",
   "execution_count": 42,
   "id": "military-instrumentation",
   "metadata": {},
   "outputs": [
    {
     "data": {
      "text/plain": [
       "9"
      ]
     },
     "execution_count": 42,
     "metadata": {},
     "output_type": "execute_result"
    }
   ],
   "source": [
    "o.get(HOUR_OF_DAY)"
   ]
  },
  {
   "cell_type": "code",
   "execution_count": 43,
   "id": "sapphire-second",
   "metadata": {},
   "outputs": [
    {
     "ename": "EvalException",
     "evalue": "Invalid field 'InstantSeconds' for get() method, use getLong() instead",
     "output_type": "error",
     "traceback": [
      "\u001b[1m\u001b[31m---------------------------------------------------------------------------\u001b[0m",
      "\u001b[1m\u001b[31mjava.time.temporal.UnsupportedTemporalTypeException: Invalid field 'InstantSeconds' for get() method, use getLong() instead\u001b[0m",
      "\u001b[1m\u001b[31m\tat java.base/java.time.OffsetDateTime.get(OffsetDateTime.java:600)\u001b[0m",
      "\u001b[1m\u001b[31m\tat .(#51:1)\u001b[0m"
     ]
    }
   ],
   "source": [
    "o.get(INSTANT_SECONDS)"
   ]
  },
  {
   "cell_type": "code",
   "execution_count": 44,
   "id": "juvenile-tackle",
   "metadata": {},
   "outputs": [
    {
     "ename": "EvalException",
     "evalue": "Invalid field 'InstantSeconds' for get() method, use getLong() instead",
     "output_type": "error",
     "traceback": [
      "\u001b[1m\u001b[31m---------------------------------------------------------------------------\u001b[0m",
      "\u001b[1m\u001b[31mjava.time.temporal.UnsupportedTemporalTypeException: Invalid field 'InstantSeconds' for get() method, use getLong() instead\u001b[0m",
      "\u001b[1m\u001b[31m\tat java.base/java.time.OffsetDateTime.get(OffsetDateTime.java:600)\u001b[0m",
      "\u001b[1m\u001b[31m\tat .(#52:1)\u001b[0m"
     ]
    }
   ],
   "source": [
    "o.get(INSTANT_SECONDS)"
   ]
  },
  {
   "cell_type": "code",
   "execution_count": 45,
   "id": "conservative-robert",
   "metadata": {},
   "outputs": [
    {
     "ename": "EvalException",
     "evalue": "Invalid field 'MicroOfDay' for get() method, use getLong() instead",
     "output_type": "error",
     "traceback": [
      "\u001b[1m\u001b[31m---------------------------------------------------------------------------\u001b[0m",
      "\u001b[1m\u001b[31mjava.time.temporal.UnsupportedTemporalTypeException: Invalid field 'MicroOfDay' for get() method, use getLong() instead\u001b[0m",
      "\u001b[1m\u001b[31m\tat java.base/java.time.LocalTime.get0(LocalTime.java:688)\u001b[0m",
      "\u001b[1m\u001b[31m\tat java.base/java.time.LocalTime.get(LocalTime.java:641)\u001b[0m",
      "\u001b[1m\u001b[31m\tat java.base/java.time.LocalDateTime.get(LocalDateTime.java:688)\u001b[0m",
      "\u001b[1m\u001b[31m\tat java.base/java.time.OffsetDateTime.get(OffsetDateTime.java:604)\u001b[0m",
      "\u001b[1m\u001b[31m\tat .(#53:1)\u001b[0m"
     ]
    }
   ],
   "source": [
    "o.get(MICRO_OF_DAY)"
   ]
  },
  {
   "cell_type": "code",
   "execution_count": 46,
   "id": "recorded-auckland",
   "metadata": {},
   "outputs": [
    {
     "data": {
      "text/plain": [
       "249344"
      ]
     },
     "execution_count": 46,
     "metadata": {},
     "output_type": "execute_result"
    }
   ],
   "source": [
    "o.get(MICRO_OF_SECOND)"
   ]
  },
  {
   "cell_type": "code",
   "execution_count": 47,
   "id": "satisfied-theta",
   "metadata": {},
   "outputs": [
    {
     "data": {
      "text/plain": [
       "35525249"
      ]
     },
     "execution_count": 47,
     "metadata": {},
     "output_type": "execute_result"
    }
   ],
   "source": [
    "o.get(MILLI_OF_DAY)"
   ]
  },
  {
   "cell_type": "code",
   "execution_count": 48,
   "id": "designing-surgeon",
   "metadata": {},
   "outputs": [
    {
     "data": {
      "text/plain": [
       "52"
      ]
     },
     "execution_count": 48,
     "metadata": {},
     "output_type": "execute_result"
    }
   ],
   "source": [
    "o.get(MINUTE_OF_HOUR)"
   ]
  },
  {
   "cell_type": "code",
   "execution_count": 49,
   "id": "delayed-martin",
   "metadata": {},
   "outputs": [
    {
     "ename": "EvalException",
     "evalue": "Invalid field 'ProlepticMonth' for get() method, use getLong() instead",
     "output_type": "error",
     "traceback": [
      "\u001b[1m\u001b[31m---------------------------------------------------------------------------\u001b[0m",
      "\u001b[1m\u001b[31mjava.time.temporal.UnsupportedTemporalTypeException: Invalid field 'ProlepticMonth' for get() method, use getLong() instead\u001b[0m",
      "\u001b[1m\u001b[31m\tat java.base/java.time.LocalDate.get0(LocalDate.java:703)\u001b[0m",
      "\u001b[1m\u001b[31m\tat java.base/java.time.LocalDate.get(LocalDate.java:650)\u001b[0m",
      "\u001b[1m\u001b[31m\tat java.base/java.time.LocalDateTime.get(LocalDateTime.java:688)\u001b[0m",
      "\u001b[1m\u001b[31m\tat java.base/java.time.OffsetDateTime.get(OffsetDateTime.java:604)\u001b[0m",
      "\u001b[1m\u001b[31m\tat .(#57:1)\u001b[0m"
     ]
    }
   ],
   "source": [
    "o.get(PROLEPTIC_MONTH)"
   ]
  },
  {
   "cell_type": "code",
   "execution_count": 50,
   "id": "changing-stocks",
   "metadata": {},
   "outputs": [
    {
     "data": {
      "text/plain": [
       "2022"
      ]
     },
     "execution_count": 50,
     "metadata": {},
     "output_type": "execute_result"
    }
   ],
   "source": [
    "o.get(YEAR)"
   ]
  },
  {
   "cell_type": "code",
   "execution_count": 51,
   "id": "northern-auditor",
   "metadata": {},
   "outputs": [
    {
     "data": {
      "text/plain": [
       "2022"
      ]
     },
     "execution_count": 51,
     "metadata": {},
     "output_type": "execute_result"
    }
   ],
   "source": [
    "o.get(YEAR_OF_ERA)"
   ]
  },
  {
   "cell_type": "code",
   "execution_count": 52,
   "id": "consistent-baghdad",
   "metadata": {},
   "outputs": [
    {
     "data": {
      "text/plain": [
       "24"
      ]
     },
     "execution_count": 52,
     "metadata": {},
     "output_type": "execute_result"
    }
   ],
   "source": [
    "o.getDayOfMonth()"
   ]
  },
  {
   "cell_type": "code",
   "execution_count": 53,
   "id": "linear-judges",
   "metadata": {},
   "outputs": [
    {
     "data": {
      "text/plain": [
       "TUESDAY"
      ]
     },
     "execution_count": 53,
     "metadata": {},
     "output_type": "execute_result"
    }
   ],
   "source": [
    "o.getDayOfWeek()"
   ]
  },
  {
   "cell_type": "code",
   "execution_count": 54,
   "id": "multiple-middle",
   "metadata": {},
   "outputs": [
    {
     "data": {
      "text/plain": [
       "144"
      ]
     },
     "execution_count": 54,
     "metadata": {},
     "output_type": "execute_result"
    }
   ],
   "source": [
    "o.getDayOfYear()"
   ]
  },
  {
   "cell_type": "code",
   "execution_count": 55,
   "id": "conscious-enterprise",
   "metadata": {},
   "outputs": [
    {
     "data": {
      "text/plain": [
       "9"
      ]
     },
     "execution_count": 55,
     "metadata": {},
     "output_type": "execute_result"
    }
   ],
   "source": [
    "o.getHour()"
   ]
  },
  {
   "cell_type": "code",
   "execution_count": 56,
   "id": "legislative-shuttle",
   "metadata": {},
   "outputs": [
    {
     "data": {
      "text/plain": [
       "52"
      ]
     },
     "execution_count": 56,
     "metadata": {},
     "output_type": "execute_result"
    }
   ],
   "source": [
    "o.getMinute()"
   ]
  },
  {
   "cell_type": "code",
   "execution_count": 57,
   "id": "still-handy",
   "metadata": {},
   "outputs": [
    {
     "data": {
      "text/plain": [
       "MAY"
      ]
     },
     "execution_count": 57,
     "metadata": {},
     "output_type": "execute_result"
    }
   ],
   "source": [
    "o.getMonth()"
   ]
  },
  {
   "cell_type": "code",
   "execution_count": 13,
   "id": "vietnamese-stamp",
   "metadata": {},
   "outputs": [],
   "source": [
    "OffsetDateTime o1 = OffsetDateTime.parse(\"2022-06-27T11:55:00+01:00\")"
   ]
  },
  {
   "cell_type": "code",
   "execution_count": 14,
   "id": "informed-screening",
   "metadata": {},
   "outputs": [
    {
     "data": {
      "text/plain": [
       "2022-06-27T11:55"
      ]
     },
     "execution_count": 14,
     "metadata": {},
     "output_type": "execute_result"
    }
   ],
   "source": [
    "o1.toLocalDateTime()"
   ]
  },
  {
   "cell_type": "code",
   "execution_count": 15,
   "id": "according-diesel",
   "metadata": {},
   "outputs": [],
   "source": [
    "OffsetDateTime o2 = OffsetDateTime.parse(\"2022-06-27T11:55:00+02:00\")"
   ]
  },
  {
   "cell_type": "code",
   "execution_count": 16,
   "id": "spread-issue",
   "metadata": {},
   "outputs": [
    {
     "data": {
      "text/plain": [
       "2022-06-27T11:55"
      ]
     },
     "execution_count": 16,
     "metadata": {},
     "output_type": "execute_result"
    }
   ],
   "source": [
    "o2.toLocalDateTime()"
   ]
  },
  {
   "cell_type": "code",
   "execution_count": 7,
   "id": "spoken-virginia",
   "metadata": {},
   "outputs": [
    {
     "data": {
      "text/plain": [
       "2022-06-27T10:55+01:00[Europe/London]"
      ]
     },
     "execution_count": 7,
     "metadata": {},
     "output_type": "execute_result"
    }
   ],
   "source": [
    "o.atZoneSameInstant(ZoneId.systemDefault())"
   ]
  },
  {
   "cell_type": "code",
   "execution_count": 17,
   "id": "jewish-sperm",
   "metadata": {},
   "outputs": [
    {
     "data": {
      "text/plain": [
       "2022-06-27T11:55"
      ]
     },
     "execution_count": 17,
     "metadata": {},
     "output_type": "execute_result"
    }
   ],
   "source": [
    "o1.atZoneSameInstant(ZoneId.systemDefault()).toLocalDateTime()"
   ]
  },
  {
   "cell_type": "code",
   "execution_count": 18,
   "id": "mental-latest",
   "metadata": {},
   "outputs": [
    {
     "data": {
      "text/plain": [
       "2022-06-27T10:55"
      ]
     },
     "execution_count": 18,
     "metadata": {},
     "output_type": "execute_result"
    }
   ],
   "source": [
    "o2.atZoneSameInstant(ZoneId.systemDefault()).toLocalDateTime()"
   ]
  },
  {
   "cell_type": "code",
   "execution_count": 19,
   "id": "reasonable-dubai",
   "metadata": {},
   "outputs": [
    {
     "data": {
      "text/plain": [
       "[Asia/Aden, America/Cuiaba, Etc/GMT+9, Etc/GMT+8, Africa/Nairobi, America/Marigot, Asia/Aqtau, Pacific/Kwajalein, America/El_Salvador, Asia/Pontianak, Africa/Cairo, Pacific/Pago_Pago, Africa/Mbabane, Asia/Kuching, Pacific/Honolulu, Pacific/Rarotonga, America/Guatemala, Australia/Hobart, Europe/London, America/Belize, America/Panama, Asia/Chungking, America/Managua, America/Indiana/Petersburg, Asia/Yerevan, Europe/Brussels, GMT, Europe/Warsaw, America/Chicago, Asia/Kashgar, Chile/Continental, Pacific/Yap, CET, Etc/GMT-1, Etc/GMT-0, Europe/Jersey, America/Tegucigalpa, Etc/GMT-5, Europe/Istanbul, America/Eirunepe, Etc/GMT-4, America/Miquelon, Etc/GMT-3, Europe/Luxembourg, Etc/GMT-2, Etc/GMT-9, America/Argentina/Catamarca, Etc/GMT-8, Etc/GMT-7, Etc/GMT-6, Europe/Zaporozhye, Canada/Yukon, Canada/Atlantic, Atlantic/St_Helena, Australia/Tasmania, Libya, Europe/Guernsey, America/Grand_Turk, Asia/Samarkand, America/Argentina/Cordoba, Asia/Phnom_Penh, Africa/Kigali, Asia/Almaty, US/Alaska, Asia/Dubai, Europe/Isle_of_Man, America/Araguaina, Cuba, Asia/Novosibirsk, America/Argentina/Salta, Etc/GMT+3, Africa/Tunis, Etc/GMT+2, Etc/GMT+1, Pacific/Fakaofo, Africa/Tripoli, Etc/GMT+0, Israel, Africa/Banjul, Etc/GMT+7, Indian/Comoro, Etc/GMT+6, Etc/GMT+5, Etc/GMT+4, Pacific/Port_Moresby, US/Arizona, Antarctica/Syowa, Indian/Reunion, Pacific/Palau, Europe/Kaliningrad, America/Montevideo, Africa/Windhoek, Asia/Karachi, Africa/Mogadishu, Australia/Perth, Brazil/East, Etc/GMT, Asia/Chita, Pacific/Easter, Antarctica/Davis, Antarctica/McMurdo, Asia/Macao, America/Manaus, Africa/Freetown, Europe/Bucharest, Asia/Tomsk, America/Argentina/Mendoza, Asia/Macau, Europe/Malta, Mexico/BajaSur, Pacific/Tahiti, Africa/Asmera, Europe/Busingen, America/Argentina/Rio_Gallegos, Africa/Malabo, Europe/Skopje, America/Catamarca, America/Godthab, Europe/Sarajevo, Australia/ACT, GB-Eire, Africa/Lagos, America/Cordoba, Europe/Rome, Asia/Dacca, Indian/Mauritius, Pacific/Samoa, America/Regina, America/Fort_Wayne, America/Dawson_Creek, Africa/Algiers, Europe/Mariehamn, America/St_Johns, America/St_Thomas, Europe/Zurich, America/Anguilla, Asia/Dili, America/Denver, Africa/Bamako, Europe/Saratov, GB, Mexico/General, Pacific/Wallis, Europe/Gibraltar, Africa/Conakry, Africa/Lubumbashi, Asia/Istanbul, America/Havana, NZ-CHAT, Asia/Choibalsan, America/Porto_Acre, Asia/Omsk, Europe/Vaduz, US/Michigan, Asia/Dhaka, America/Barbados, Europe/Tiraspol, Atlantic/Cape_Verde, Asia/Yekaterinburg, America/Louisville, Pacific/Johnston, Pacific/Chatham, Europe/Ljubljana, America/Sao_Paulo, Asia/Jayapura, America/Curacao, Asia/Dushanbe, America/Guyana, America/Guayaquil, America/Martinique, Portugal, Europe/Berlin, Europe/Moscow, Europe/Chisinau, America/Puerto_Rico, America/Rankin_Inlet, Pacific/Ponape, Europe/Stockholm, Europe/Budapest, America/Argentina/Jujuy, Australia/Eucla, Asia/Shanghai, Universal, Europe/Zagreb, America/Port_of_Spain, Europe/Helsinki, Asia/Beirut, Asia/Tel_Aviv, Pacific/Bougainville, US/Central, Africa/Sao_Tome, Indian/Chagos, America/Cayenne, Asia/Yakutsk, Pacific/Galapagos, Australia/North, Europe/Paris, Africa/Ndjamena, Pacific/Fiji, America/Rainy_River, Indian/Maldives, Australia/Yancowinna, SystemV/AST4, Asia/Oral, America/Yellowknife, Pacific/Enderbury, America/Juneau, Australia/Victoria, America/Indiana/Vevay, Asia/Tashkent, Asia/Jakarta, Africa/Ceuta, Asia/Barnaul, America/Recife, America/Buenos_Aires, America/Noronha, America/Swift_Current, Australia/Adelaide, America/Metlakatla, Africa/Djibouti, America/Paramaribo, Asia/Qostanay, Europe/Simferopol, Europe/Sofia, Africa/Nouakchott, Europe/Prague, America/Indiana/Vincennes, Antarctica/Mawson, America/Kralendijk, Antarctica/Troll, Europe/Samara, Indian/Christmas, America/Antigua, Pacific/Gambier, America/Indianapolis, America/Inuvik, America/Iqaluit, Pacific/Funafuti, UTC, Antarctica/Macquarie, Canada/Pacific, America/Moncton, Africa/Gaborone, Pacific/Chuuk, Asia/Pyongyang, America/St_Vincent, Asia/Gaza, Etc/Universal, PST8PDT, Atlantic/Faeroe, Asia/Qyzylorda, Canada/Newfoundland, America/Kentucky/Louisville, America/Yakutat, Asia/Ho_Chi_Minh, Antarctica/Casey, Europe/Copenhagen, Africa/Asmara, Atlantic/Azores, Europe/Vienna, ROK, Pacific/Pitcairn, America/Mazatlan, Australia/Queensland, Pacific/Nauru, Europe/Tirane, Asia/Kolkata, SystemV/MST7, Australia/Canberra, MET, Australia/Broken_Hill, Europe/Riga, America/Dominica, Africa/Abidjan, America/Mendoza, America/Santarem, Kwajalein, America/Asuncion, Asia/Ulan_Bator, NZ, America/Boise, Australia/Currie, EST5EDT, Pacific/Guam, Pacific/Wake, Atlantic/Bermuda, America/Costa_Rica, America/Dawson, Asia/Chongqing, Eire, Europe/Amsterdam, America/Indiana/Knox, America/North_Dakota/Beulah, Africa/Accra, Atlantic/Faroe, Mexico/BajaNorte, America/Maceio, Etc/UCT, Pacific/Apia, GMT0, America/Atka, Pacific/Niue, Australia/Lord_Howe, Europe/Dublin, Pacific/Truk, MST7MDT, America/Monterrey, America/Nassau, America/Jamaica, Asia/Bishkek, America/Atikokan, Atlantic/Stanley, Australia/NSW, US/Hawaii, SystemV/CST6, Indian/Mahe, Asia/Aqtobe, America/Sitka, Asia/Vladivostok, Africa/Libreville, Africa/Maputo, Zulu, America/Kentucky/Monticello, Africa/El_Aaiun, Africa/Ouagadougou, America/Coral_Harbour, Pacific/Marquesas, Brazil/West, America/Aruba, America/North_Dakota/Center, America/Cayman, Asia/Ulaanbaatar, Asia/Baghdad, Europe/San_Marino, America/Indiana/Tell_City, America/Tijuana, Pacific/Saipan, SystemV/YST9, Africa/Douala, America/Chihuahua, America/Ojinaga, Asia/Hovd, America/Anchorage, Chile/EasterIsland, America/Halifax, Antarctica/Rothera, America/Indiana/Indianapolis, US/Mountain, Asia/Damascus, America/Argentina/San_Luis, America/Santiago, Asia/Baku, America/Argentina/Ushuaia, Atlantic/Reykjavik, Africa/Brazzaville, Africa/Porto-Novo, America/La_Paz, Antarctica/DumontDUrville, Asia/Taipei, Antarctica/South_Pole, Asia/Manila, Asia/Bangkok, Africa/Dar_es_Salaam, Poland, Atlantic/Madeira, Antarctica/Palmer, America/Thunder_Bay, Africa/Addis_Ababa, Asia/Yangon, Europe/Uzhgorod, Brazil/DeNoronha, Asia/Ashkhabad, Etc/Zulu, America/Indiana/Marengo, America/Creston, America/Punta_Arenas, America/Mexico_City, Antarctica/Vostok, Asia/Jerusalem, Europe/Andorra, US/Samoa, PRC, Asia/Vientiane, Pacific/Kiritimati, America/Matamoros, America/Blanc-Sablon, Asia/Riyadh, Iceland, Pacific/Pohnpei, Asia/Ujung_Pandang, Atlantic/South_Georgia, Europe/Lisbon, Asia/Harbin, Europe/Oslo, Asia/Novokuznetsk, CST6CDT, Atlantic/Canary, America/Knox_IN, Asia/Kuwait, SystemV/HST10, Pacific/Efate, Africa/Lome, America/Bogota, America/Menominee, America/Adak, Pacific/Norfolk, Europe/Kirov, America/Resolute, Pacific/Kanton, Pacific/Tarawa, Africa/Kampala, Asia/Krasnoyarsk, Greenwich, SystemV/EST5, America/Edmonton, Europe/Podgorica, Australia/South, Canada/Central, Africa/Bujumbura, America/Santo_Domingo, US/Eastern, Europe/Minsk, Pacific/Auckland, Africa/Casablanca, America/Glace_Bay, Canada/Eastern, Asia/Qatar, Europe/Kiev, Singapore, Asia/Magadan, SystemV/PST8, America/Port-au-Prince, Europe/Belfast, America/St_Barthelemy, Asia/Ashgabat, Africa/Luanda, America/Nipigon, Atlantic/Jan_Mayen, Brazil/Acre, Asia/Muscat, Asia/Bahrain, Europe/Vilnius, America/Fortaleza, Etc/GMT0, US/East-Indiana, America/Hermosillo, America/Cancun, Africa/Maseru, Pacific/Kosrae, Africa/Kinshasa, Asia/Kathmandu, Asia/Seoul, Australia/Sydney, America/Lima, Australia/LHI, America/St_Lucia, Europe/Madrid, America/Bahia_Banderas, America/Montserrat, Asia/Brunei, America/Santa_Isabel, Canada/Mountain, America/Cambridge_Bay, Asia/Colombo, Australia/West, Indian/Antananarivo, Australia/Brisbane, Indian/Mayotte, US/Indiana-Starke, Asia/Urumqi, US/Aleutian, Europe/Volgograd, America/Lower_Princes, America/Vancouver, Africa/Blantyre, America/Rio_Branco, America/Danmarkshavn, America/Detroit, America/Thule, Africa/Lusaka, Asia/Hong_Kong, Iran, America/Argentina/La_Rioja, Africa/Dakar, SystemV/CST6CDT, America/Tortola, America/Porto_Velho, Asia/Sakhalin, Etc/GMT+10, America/Scoresbysund, Asia/Kamchatka, Asia/Thimbu, Africa/Harare, Etc/GMT+12, Etc/GMT+11, Navajo, America/Nome, Europe/Tallinn, Turkey, Africa/Khartoum, Africa/Johannesburg, Africa/Bangui, Europe/Belgrade, Jamaica, Africa/Bissau, Asia/Tehran, WET, Europe/Astrakhan, Africa/Juba, America/Campo_Grande, America/Belem, Etc/Greenwich, Asia/Saigon, America/Ensenada, Pacific/Midway, America/Jujuy, Africa/Timbuktu, America/Bahia, America/Goose_Bay, America/Virgin, America/Pangnirtung, Asia/Katmandu, America/Phoenix, Africa/Niamey, America/Whitehorse, Pacific/Noumea, Asia/Tbilisi, America/Montreal, Asia/Makassar, America/Argentina/San_Juan, Hongkong, UCT, Asia/Nicosia, America/Indiana/Winamac, SystemV/MST7MDT, America/Argentina/ComodRivadavia, America/Boa_Vista, America/Grenada, Asia/Atyrau, Australia/Darwin, Asia/Khandyga, Asia/Kuala_Lumpur, Asia/Famagusta, Asia/Thimphu, Asia/Rangoon, Europe/Bratislava, Asia/Calcutta, America/Argentina/Tucuman, Asia/Kabul, Indian/Cocos, Japan, Pacific/Tongatapu, America/New_York, Etc/GMT-12, Etc/GMT-11, America/Nuuk, Etc/GMT-10, SystemV/YST9YDT, Europe/Ulyanovsk, Etc/GMT-14, Etc/GMT-13, W-SU, America/Merida, EET, America/Rosario, Canada/Saskatchewan, America/St_Kitts, Arctic/Longyearbyen, America/Fort_Nelson, America/Caracas, America/Guadeloupe, Asia/Hebron, Indian/Kerguelen, SystemV/PST8PDT, Africa/Monrovia, Asia/Ust-Nera, Egypt, Asia/Srednekolymsk, America/North_Dakota/New_Salem, Asia/Anadyr, Australia/Melbourne, Asia/Irkutsk, America/Shiprock, America/Winnipeg, Europe/Vatican, Asia/Amman, Etc/UTC, SystemV/AST4ADT, Asia/Tokyo, America/Toronto, Asia/Singapore, Australia/Lindeman, America/Los_Angeles, SystemV/EST5EDT, Pacific/Majuro, America/Argentina/Buenos_Aires, Europe/Nicosia, Pacific/Guadalcanal, Europe/Athens, US/Pacific, Europe/Monaco]"
      ]
     },
     "execution_count": 19,
     "metadata": {},
     "output_type": "execute_result"
    }
   ],
   "source": [
    "ZoneId.getAvailableZoneIds()"
   ]
  },
  {
   "cell_type": "code",
   "execution_count": 22,
   "id": "clinical-webcam",
   "metadata": {},
   "outputs": [
    {
     "data": {
      "text/plain": [
       "2022-06-27T11:27:51.952034"
      ]
     },
     "execution_count": 22,
     "metadata": {},
     "output_type": "execute_result"
    }
   ],
   "source": [
    "o.atZoneSameInstant(ZoneId.of(\"Etc/GMT-0\")).toLocalDateTime()"
   ]
  },
  {
   "cell_type": "code",
   "execution_count": 23,
   "id": "subjective-family",
   "metadata": {},
   "outputs": [
    {
     "data": {
      "text/plain": [
       "2022-06-27T11:27:51.952034"
      ]
     },
     "execution_count": 23,
     "metadata": {},
     "output_type": "execute_result"
    }
   ],
   "source": [
    "o.atZoneSameInstant(ZoneId.of(\"UTC\")).toLocalDateTime()"
   ]
  },
  {
   "cell_type": "code",
   "execution_count": 10,
   "id": "floral-burton",
   "metadata": {},
   "outputs": [],
   "source": [
    "private static final DateTimeFormatter DATE_TIME_FORMATTER = new DateTimeFormatterBuilder().append(DateTimeFormatter.ISO_LOCAL_DATE_TIME)\n",
    "            .optionalStart().appendOffset(\"+HH:MM\", \"+00:00\").optionalEnd()\n",
    "            .optionalStart().appendOffset(\"+HH\", \"Z\").optionalEnd()\n",
    "            .toFormatter();"
   ]
  },
  {
   "cell_type": "code",
   "execution_count": 22,
   "id": "thermal-convertible",
   "metadata": {},
   "outputs": [],
   "source": [
    "String timestamp = \"2023-02-02T17:15:00\""
   ]
  },
  {
   "cell_type": "code",
   "execution_count": 18,
   "id": "exceptional-vienna",
   "metadata": {},
   "outputs": [],
   "source": [
    "String timestamp = \"2022-07-26T22:49:00\""
   ]
  },
  {
   "cell_type": "code",
   "execution_count": 19,
   "id": "broke-italic",
   "metadata": {},
   "outputs": [
    {
     "ename": "EvalException",
     "evalue": "Text '2022-07-26T22:49:00' could not be parsed: Unable to obtain OffsetDateTime from TemporalAccessor: {},ISO resolved to 2022-07-26T22:49 of type java.time.format.Parsed",
     "output_type": "error",
     "traceback": [
      "\u001b[1m\u001b[31m---------------------------------------------------------------------------\u001b[0m",
      "\u001b[1m\u001b[31mjava.time.format.DateTimeParseException: Text '2022-07-26T22:49:00' could not be parsed: Unable to obtain OffsetDateTime from TemporalAccessor: {},ISO resolved to 2022-07-26T22:49 of type java.time.format.Parsed\u001b[0m",
      "\u001b[1m\u001b[31m\tat java.base/java.time.format.DateTimeFormatter.createError(DateTimeFormatter.java:2017)\u001b[0m",
      "\u001b[1m\u001b[31m\tat java.base/java.time.format.DateTimeFormatter.parse(DateTimeFormatter.java:1952)\u001b[0m",
      "\u001b[1m\u001b[31m\tat java.base/java.time.OffsetDateTime.parse(OffsetDateTime.java:402)\u001b[0m",
      "\u001b[1m\u001b[31m\tat .(#33:1)\u001b[0m"
     ]
    }
   ],
   "source": [
    "OffsetDateTime.parse(timestamp, DATE_TIME_FORMATTER)"
   ]
  },
  {
   "cell_type": "code",
   "execution_count": 23,
   "id": "large-nepal",
   "metadata": {},
   "outputs": [
    {
     "data": {
      "text/plain": [
       "2023-02-02T17:15"
      ]
     },
     "execution_count": 23,
     "metadata": {},
     "output_type": "execute_result"
    }
   ],
   "source": [
    "final LocalDateTime parsedDateTime = LocalDateTime.parse(timestamp);\n",
    "parsedDateTime "
   ]
  },
  {
   "cell_type": "code",
   "execution_count": 24,
   "id": "prompt-extra",
   "metadata": {},
   "outputs": [
    {
     "data": {
      "text/plain": [
       "Z"
      ]
     },
     "execution_count": 24,
     "metadata": {},
     "output_type": "execute_result"
    }
   ],
   "source": [
    "final ZoneOffset zoneOffset = ZoneId.systemDefault().getRules().getOffset(parsedDateTime);\n",
    "zoneOffset"
   ]
  },
  {
   "cell_type": "code",
   "execution_count": 17,
   "id": "healthy-snake",
   "metadata": {},
   "outputs": [
    {
     "data": {
      "text/plain": [
       "2023-02-02T17:15Z"
      ]
     },
     "execution_count": 17,
     "metadata": {},
     "output_type": "execute_result"
    }
   ],
   "source": [
    "OffsetDateTime dateTime = OffsetDateTime.of(parsedDateTime, zoneOffset);\n",
    "dateTime"
   ]
  },
  {
   "cell_type": "code",
   "execution_count": 25,
   "id": "professional-grove",
   "metadata": {},
   "outputs": [
    {
     "data": {
      "text/plain": [
       "+01:00"
      ]
     },
     "execution_count": 25,
     "metadata": {},
     "output_type": "execute_result"
    }
   ],
   "source": [
    "final ZoneOffset zoneOffset = OffsetDateTime.now().getOffset();\n",
    "zoneOffset"
   ]
  },
  {
   "cell_type": "code",
   "execution_count": null,
   "id": "reliable-offering",
   "metadata": {},
   "outputs": [],
   "source": []
  }
 ],
 "metadata": {
  "kernelspec": {
   "display_name": "Java",
   "language": "java",
   "name": "java"
  },
  "language_info": {
   "codemirror_mode": "java",
   "file_extension": ".jshell",
   "mimetype": "text/x-java-source",
   "name": "Java",
   "pygments_lexer": "java",
   "version": "11.0.15+10-Ubuntu-0ubuntu0.20.04.1"
  }
 },
 "nbformat": 4,
 "nbformat_minor": 5
}
