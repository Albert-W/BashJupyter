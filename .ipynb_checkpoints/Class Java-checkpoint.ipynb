{
 "cells": [
  {
   "cell_type": "code",
   "execution_count": 1,
   "id": "loaded-minister",
   "metadata": {},
   "outputs": [],
   "source": [
    "Exception ex = new RuntimeException(\"Hello\");"
   ]
  },
  {
   "cell_type": "code",
   "execution_count": 2,
   "id": "golden-ethics",
   "metadata": {},
   "outputs": [
    {
     "data": {
      "text/plain": [
       "class java.lang.RuntimeException"
      ]
     },
     "execution_count": 2,
     "metadata": {},
     "output_type": "execute_result"
    }
   ],
   "source": [
    "ex.getClass()"
   ]
  },
  {
   "cell_type": "code",
   "execution_count": 3,
   "id": "demonstrated-brooks",
   "metadata": {},
   "outputs": [
    {
     "data": {
      "text/plain": [
       "java.lang.RuntimeException"
      ]
     },
     "execution_count": 3,
     "metadata": {},
     "output_type": "execute_result"
    }
   ],
   "source": [
    "ex.getClass().getName()"
   ]
  },
  {
   "cell_type": "code",
   "execution_count": 4,
   "id": "unknown-surfing",
   "metadata": {},
   "outputs": [
    {
     "data": {
      "text/plain": [
       "RuntimeException"
      ]
     },
     "execution_count": 4,
     "metadata": {},
     "output_type": "execute_result"
    }
   ],
   "source": [
    "ex.getClass().getSimpleName()"
   ]
  },
  {
   "cell_type": "code",
   "execution_count": 6,
   "id": "innovative-investigator",
   "metadata": {},
   "outputs": [
    {
     "data": {
      "text/plain": [
       "java.lang.RuntimeException"
      ]
     },
     "execution_count": 6,
     "metadata": {},
     "output_type": "execute_result"
    }
   ],
   "source": [
    "ex.getClass().getCanonicalName()"
   ]
  },
  {
   "cell_type": "code",
   "execution_count": 8,
   "id": "photographic-nirvana",
   "metadata": {},
   "outputs": [
    {
     "data": {
      "text/plain": [
       "[Ljava.lang.Class;@16c3c722"
      ]
     },
     "execution_count": 8,
     "metadata": {},
     "output_type": "execute_result"
    }
   ],
   "source": [
    "ex.getClass().getClasses()"
   ]
  },
  {
   "cell_type": "code",
   "execution_count": 9,
   "id": "competent-sudan",
   "metadata": {},
   "outputs": [
    {
     "data": {
      "text/plain": [
       "[]"
      ]
     },
     "execution_count": 9,
     "metadata": {},
     "output_type": "execute_result"
    }
   ],
   "source": [
    "Arrays.toString(ex.getClass().getClasses())"
   ]
  },
  {
   "cell_type": "code",
   "execution_count": 11,
   "id": "modular-characterization",
   "metadata": {},
   "outputs": [
    {
     "ename": "EvalException",
     "evalue": "null",
     "output_type": "error",
     "traceback": [
      "\u001b[1m\u001b[31m---------------------------------------------------------------------------\u001b[0m",
      "\u001b[1m\u001b[31mjava.lang.NullPointerException: null\u001b[0m",
      "\u001b[1m\u001b[31m\tat .(#22:1)\u001b[0m"
     ]
    }
   ],
   "source": [
    "ex.getClass().getClassLoader().toString()"
   ]
  },
  {
   "cell_type": "code",
   "execution_count": 12,
   "id": "acoustic-phrase",
   "metadata": {},
   "outputs": [
    {
     "data": {
      "text/plain": [
       "package java.lang"
      ]
     },
     "execution_count": 12,
     "metadata": {},
     "output_type": "execute_result"
    }
   ],
   "source": [
    "ex.getClass().getPackage()"
   ]
  },
  {
   "cell_type": "code",
   "execution_count": 13,
   "id": "boolean-grill",
   "metadata": {},
   "outputs": [
    {
     "data": {
      "text/plain": [
       "java.lang"
      ]
     },
     "execution_count": 13,
     "metadata": {},
     "output_type": "execute_result"
    }
   ],
   "source": [
    "ex.getClass().getPackageName()"
   ]
  },
  {
   "cell_type": "code",
   "execution_count": 14,
   "id": "descending-commerce",
   "metadata": {},
   "outputs": [
    {
     "data": {
      "text/plain": [
       "ProtectionDomain  null\n",
       " null\n",
       " <no principals>\n",
       " java.security.Permissions@75ca1609 (\n",
       " (\"java.security.AllPermission\" \"<all permissions>\" \"<all actions>\")\n",
       ")\n",
       "\n"
      ]
     },
     "execution_count": 14,
     "metadata": {},
     "output_type": "execute_result"
    }
   ],
   "source": [
    "ex.getClass().getProtectionDomain()"
   ]
  },
  {
   "cell_type": "code",
   "execution_count": 15,
   "id": "social-writing",
   "metadata": {},
   "outputs": [
    {
     "data": {
      "text/plain": [
       "null"
      ]
     },
     "execution_count": 15,
     "metadata": {},
     "output_type": "execute_result"
    }
   ],
   "source": [
    "Arrays.toString(ex.getClass().getSigners())"
   ]
  },
  {
   "cell_type": "code",
   "execution_count": 16,
   "id": "cosmetic-population",
   "metadata": {},
   "outputs": [
    {
     "data": {
      "text/plain": [
       "java.lang.RuntimeException"
      ]
     },
     "execution_count": 16,
     "metadata": {},
     "output_type": "execute_result"
    }
   ],
   "source": [
    "ex.getClass().getTypeName()"
   ]
  },
  {
   "cell_type": "code",
   "execution_count": 3,
   "id": "extended-waters",
   "metadata": {},
   "outputs": [],
   "source": [
    "public class DataChannelException extends RuntimeException {\n",
    "\n",
    "    private static final long serialVersionUID = -1698113963933620693L;\n",
    "\n",
    "    /**\n",
    "     * Exception to throw when an error occurs on the Data Channel.\n",
    "     * @param message message to pass.\n",
    "     */\n",
    "    public DataChannelException(final String message) {\n",
    "        super(message);\n",
    "    }\n",
    "}"
   ]
  },
  {
   "cell_type": "code",
   "execution_count": 5,
   "id": "compact-avatar",
   "metadata": {},
   "outputs": [],
   "source": [
    "Exception dataChannelException = new DataChannelException(\"hello\");"
   ]
  },
  {
   "cell_type": "code",
   "execution_count": 6,
   "id": "particular-brush",
   "metadata": {},
   "outputs": [
    {
     "data": {
      "text/plain": [
       "DataChannelException"
      ]
     },
     "execution_count": 6,
     "metadata": {},
     "output_type": "execute_result"
    }
   ],
   "source": [
    "dataChannelException.getClass().getSimpleName()"
   ]
  },
  {
   "cell_type": "code",
   "execution_count": 12,
   "id": "decimal-stupid",
   "metadata": {},
   "outputs": [],
   "source": [
    "public class A {\n",
    "    public void say(){\n",
    "        System.out.println(\"I am \" + this.getClass().getSimpleName() );\n",
    "    }\n",
    "};"
   ]
  },
  {
   "cell_type": "code",
   "execution_count": 15,
   "id": "resident-weapon",
   "metadata": {},
   "outputs": [],
   "source": [
    "public class B extends A {\n",
    "\n",
    "}"
   ]
  },
  {
   "cell_type": "code",
   "execution_count": 17,
   "id": "eastern-gardening",
   "metadata": {},
   "outputs": [
    {
     "name": "stdout",
     "output_type": "stream",
     "text": [
      "I am B\n"
     ]
    }
   ],
   "source": [
    "new B().say()"
   ]
  },
  {
   "cell_type": "code",
   "execution_count": 18,
   "id": "progressive-tribute",
   "metadata": {},
   "outputs": [],
   "source": [
    "public class C extends A {\n",
    "\n",
    "}"
   ]
  },
  {
   "cell_type": "code",
   "execution_count": 19,
   "id": "coral-granny",
   "metadata": {},
   "outputs": [
    {
     "name": "stdout",
     "output_type": "stream",
     "text": [
      "I am C\n"
     ]
    }
   ],
   "source": [
    "new C().say()"
   ]
  },
  {
   "cell_type": "code",
   "execution_count": null,
   "id": "mental-membrane",
   "metadata": {},
   "outputs": [],
   "source": []
  }
 ],
 "metadata": {
  "kernelspec": {
   "display_name": "Java",
   "language": "java",
   "name": "java"
  },
  "language_info": {
   "codemirror_mode": "java",
   "file_extension": ".jshell",
   "mimetype": "text/x-java-source",
   "name": "Java",
   "pygments_lexer": "java",
   "version": "11.0.9.1+1-Ubuntu-0ubuntu1.20.04"
  }
 },
 "nbformat": 4,
 "nbformat_minor": 5
}
