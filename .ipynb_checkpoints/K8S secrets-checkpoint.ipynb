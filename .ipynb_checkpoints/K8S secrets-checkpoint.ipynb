{
 "cells": [
  {
   "cell_type": "code",
   "execution_count": 1,
   "id": "vietnamese-walnut",
   "metadata": {},
   "outputs": [
    {
     "name": "stdout",
     "output_type": "stream",
     "text": [
      "Name:         eric-data-key-value-database-rd-operand-secret-default\n",
      "Namespace:    eyicwux-test1\n",
      "Labels:       app.kubernetes.io/instance=operand\n",
      "              app.kubernetes.io/managed-by=Helm\n",
      "              app.kubernetes.io/name=eric-data-key-value-database-rd-operand\n",
      "              app.kubernetes.io/version=2.0.0-11\n",
      "              chart=eric-data-key-value-database-rd-operand-2.0.0-11\n",
      "Annotations:  ericsson.com/product-name: Key Value Database RD Operand\n",
      "              ericsson.com/product-number: \n",
      "              ericsson.com/product-revision: 2.0.0\n",
      "              meta.helm.sh/release-name: operand\n",
      "              meta.helm.sh/release-namespace: eyicwux-test1\n",
      "\n",
      "Type:  kubernetes-io/basic-auth\n",
      "\n",
      "Data\n",
      "====\n",
      "password:  128 bytes\n",
      "username:  7 bytes\n"
     ]
    }
   ],
   "source": [
    "kubectl -n eyicwux-test1 describe secrets/eric-data-key-value-database-rd-operand-secret-default"
   ]
  },
  {
   "cell_type": "code",
   "execution_count": 3,
   "id": "alien-expert",
   "metadata": {},
   "outputs": [
    {
     "name": "stdout",
     "output_type": "stream",
     "text": [
      "\n",
      "password: uxwx5iNeiu6NJBSimccvdAknS7IgHcgL0wfGCBNdOUufFHhhiNYqcEPxA5ZiOnFNiK05MJWPd0nkvs7P4tUOZNYmFRK9TfRMNQaizzKxHdxko3T4s987QiWKMRjjrM2u\n",
      "username: default\n"
     ]
    }
   ],
   "source": [
    "kubectl -n eyicwux-test1 get secrets/eric-data-key-value-database-rd-operand-secret-default -o go-template='\n",
    "{{range $k,$v := .data}}{{printf \"%s: \" $k}}{{if not $v}}{{$v}}{{else}}{{$v | base64decode}}{{end}}{{\"\\n\"}}{{end}}'"
   ]
  },
  {
   "cell_type": "code",
   "execution_count": null,
   "id": "integral-edwards",
   "metadata": {},
   "outputs": [],
   "source": []
  }
 ],
 "metadata": {
  "kernelspec": {
   "display_name": "Bash",
   "language": "bash",
   "name": "bash"
  },
  "language_info": {
   "codemirror_mode": "shell",
   "file_extension": ".sh",
   "mimetype": "text/x-sh",
   "name": "bash"
  }
 },
 "nbformat": 4,
 "nbformat_minor": 5
}
