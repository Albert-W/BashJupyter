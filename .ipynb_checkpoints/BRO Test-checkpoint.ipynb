{
 "cells": [
  {
   "cell_type": "code",
   "execution_count": 1,
   "metadata": {},
   "outputs": [],
   "source": [
    "import requests"
   ]
  },
  {
   "cell_type": "code",
   "execution_count": 2,
   "metadata": {},
   "outputs": [],
   "source": [
    "baseurl = 'http://localhost:7001'"
   ]
  },
  {
   "cell_type": "code",
   "execution_count": 13,
   "metadata": {},
   "outputs": [],
   "source": [
    "baseurl = \"http://10.120.217.249:7001\""
   ]
  },
  {
   "cell_type": "code",
   "execution_count": 3,
   "metadata": {},
   "outputs": [
    {
     "data": {
      "text/plain": [
       "'{\"availability\":\"Available\",\"ongoingAction\":{},\"registeredAgents\":[\"perf1gb1\"],\"status\":\"Healthy\"}'"
      ]
     },
     "execution_count": 3,
     "metadata": {},
     "output_type": "execute_result"
    }
   ],
   "source": [
    "result = requests.get(baseurl+'/v1/health')\n",
    "result.text"
   ]
  },
  {
   "cell_type": "code",
   "execution_count": 4,
   "metadata": {},
   "outputs": [
    {
     "data": {
      "text/plain": [
       "'{\"_links\":{\"self\":{\"href\":\"http://localhost:7001/actuator\",\"templated\":false},\"health\":{\"href\":\"http://localhost:7001/actuator/health\",\"templated\":false},\"health-path\":{\"href\":\"http://localhost:7001/actuator/health/{*path}\",\"templated\":true}}}'"
      ]
     },
     "execution_count": 4,
     "metadata": {},
     "output_type": "execute_result"
    }
   ],
   "source": [
    "result = requests.get(baseurl+'/actuator')\n",
    "result.text"
   ]
  },
  {
   "cell_type": "code",
   "execution_count": 5,
   "metadata": {},
   "outputs": [
    {
     "data": {
      "text/plain": [
       "'{\"timestamp\":\"2021-10-27T10:06:23.367+00:00\",\"status\":404,\"error\":\"Not Found\",\"path\":\"/actuator/metrics\"}'"
      ]
     },
     "execution_count": 5,
     "metadata": {},
     "output_type": "execute_result"
    }
   ],
   "source": [
    "result = requests.get(baseurl+'/actuator/metrics')\n",
    "result.text"
   ]
  },
  {
   "cell_type": "markdown",
   "metadata": {},
   "source": [
    "### Creating the Backup"
   ]
  },
  {
   "cell_type": "code",
   "execution_count": 8,
   "metadata": {},
   "outputs": [
    {
     "data": {
      "text/plain": [
       "'{\"id\":\"39806\"}'"
      ]
     },
     "execution_count": 8,
     "metadata": {},
     "output_type": "execute_result"
    }
   ],
   "source": [
    "url = baseurl + '/v1/backup-manager/DEFAULT-perf1gb1/action'\n",
    "body = {\n",
    "      \"action\": \"CREATE_BACKUP\",\n",
    "      \"payload\": {\n",
    "        \"backupName\": \"myBackup177\"\n",
    "      }\n",
    "    }\n",
    "result = requests.post(url, json = body)\n",
    "result.text"
   ]
  },
  {
   "cell_type": "markdown",
   "metadata": {},
   "source": [
    "### Check backup by name"
   ]
  },
  {
   "cell_type": "code",
   "execution_count": 23,
   "metadata": {},
   "outputs": [],
   "source": [
    "url = baseurl + '/v1/backup-manager/DEFAULT/backup/' + 'myBackup'"
   ]
  },
  {
   "cell_type": "code",
   "execution_count": 24,
   "metadata": {},
   "outputs": [
    {
     "data": {
      "text/plain": [
       "'{\"statusCode\":404,\"message\":\"Backup <myBackup> not found\"}'"
      ]
     },
     "execution_count": 24,
     "metadata": {},
     "output_type": "execute_result"
    }
   ],
   "source": [
    "result = requests.get(url)\n",
    "result.text"
   ]
  },
  {
   "cell_type": "markdown",
   "metadata": {},
   "source": [
    "### Restore a backup"
   ]
  },
  {
   "cell_type": "code",
   "execution_count": 12,
   "metadata": {},
   "outputs": [
    {
     "data": {
      "text/plain": [
       "'{\"id\":\"7155\"}'"
      ]
     },
     "execution_count": 12,
     "metadata": {},
     "output_type": "execute_result"
    }
   ],
   "source": [
    "url = baseurl + '/v1/backup-manager/configuration-data/action'\n",
    "body = {\n",
    "      \"action\": \"RESTORE\",\n",
    "      \"payload\": {\n",
    "        \"backupName\": \"myBackup172\"\n",
    "      }\n",
    "    }\n",
    "result = requests.post(url, json = body)\n",
    "result.text"
   ]
  },
  {
   "cell_type": "markdown",
   "metadata": {},
   "source": [
    "### Delete a backup"
   ]
  },
  {
   "cell_type": "code",
   "execution_count": 15,
   "metadata": {},
   "outputs": [
    {
     "data": {
      "text/plain": [
       "'{\"id\":\"21541\"}'"
      ]
     },
     "execution_count": 15,
     "metadata": {},
     "output_type": "execute_result"
    }
   ],
   "source": [
    "url = baseurl + '/v1/backup-manager/DEFAULT/action'\n",
    "body = {\n",
    "      \"action\": \"DELETE_BACKUP\",\n",
    "      \"payload\": {\n",
    "        \"backupName\": \"myBackup171\"\n",
    "      }\n",
    "    }\n",
    "result = requests.post(url, json = body)\n",
    "result.text"
   ]
  },
  {
   "cell_type": "markdown",
   "metadata": {},
   "source": [
    "### Export a backup"
   ]
  },
  {
   "cell_type": "code",
   "execution_count": 27,
   "metadata": {},
   "outputs": [
    {
     "data": {
      "text/plain": [
       "'{\"id\":\"26790\"}'"
      ]
     },
     "execution_count": 27,
     "metadata": {},
     "output_type": "execute_result"
    }
   ],
   "source": [
    "# first create a backup \n",
    "url = baseurl + '/v1/backup-manager/DEFAULT/action'\n",
    "body = {\n",
    "      \"action\": \"CREATE_BACKUP\",\n",
    "      \"payload\": {\n",
    "        \"backupName\": \"myBackup181\"\n",
    "      }\n",
    "    }\n",
    "result = requests.post(url, json = body)\n",
    "result.text"
   ]
  },
  {
   "cell_type": "code",
   "execution_count": 29,
   "metadata": {},
   "outputs": [
    {
     "data": {
      "text/plain": [
       "'{\"id\":\"18659\"}'"
      ]
     },
     "execution_count": 29,
     "metadata": {},
     "output_type": "execute_result"
    }
   ],
   "source": [
    "url = baseurl + '/v1/backup-manager/DEFAULT/action'\n",
    "body = {\n",
    "      \"action\": \"EXPORT\",\n",
    "      \"payload\": {\n",
    "        \"backupName\": \"myBackup181\",\n",
    "        \"uri\": \"sftp://brsftp@10.120.217.249:22/bro_test\",\n",
    "        \"password\": \"planbsftp\"\n",
    "      }\n",
    "    }\n",
    "result = requests.post(url, json = body)\n",
    "result.text"
   ]
  },
  {
   "cell_type": "markdown",
   "metadata": {},
   "source": [
    "###  Import a backup"
   ]
  },
  {
   "cell_type": "code",
   "execution_count": 31,
   "metadata": {},
   "outputs": [
    {
     "data": {
      "text/plain": [
       "'{\"id\":\"17465\"}'"
      ]
     },
     "execution_count": 31,
     "metadata": {},
     "output_type": "execute_result"
    }
   ],
   "source": [
    "# first delete the backup \n",
    "url = baseurl + '/v1/backup-manager/DEFAULT/action'\n",
    "body = {\n",
    "      \"action\": \"DELETE_BACKUP\",\n",
    "      \"payload\": {\n",
    "        \"backupName\": \"myBackup181\"\n",
    "      }\n",
    "    }\n",
    "result = requests.post(url, json = body)\n",
    "result.text"
   ]
  },
  {
   "cell_type": "code",
   "execution_count": 33,
   "metadata": {},
   "outputs": [
    {
     "data": {
      "text/plain": [
       "'{\"id\":\"61625\"}'"
      ]
     },
     "execution_count": 33,
     "metadata": {},
     "output_type": "execute_result"
    }
   ],
   "source": [
    "url = baseurl + '/v1/backup-manager/DEFAULT-wsl/action'\n",
    "body = {\n",
    "      \"action\": \"IMPORT\",\n",
    "      \"payload\": {\n",
    "        \"uri\": \"sftp://brsftp@10.120.217.249:22/bro_test/DEFAULT/myBackup181\",\n",
    "        \"password\": \"planbsftp\"\n",
    "      }\n",
    "    }\n",
    "result = requests.post(url, json = body)\n",
    "result.text"
   ]
  },
  {
   "cell_type": "code",
   "execution_count": 74,
   "metadata": {},
   "outputs": [
    {
     "data": {
      "text/plain": [
       "'{\"id\":\"37431\"}'"
      ]
     },
     "execution_count": 74,
     "metadata": {},
     "output_type": "execute_result"
    }
   ],
   "source": [
    "body = {\n",
    "      \"action\": \"IMPORT\",\n",
    "      \"payload\": {\n",
    "        \"uri\": \"sftp://brsftp@10.120.217.249:22/bro_test/DEFAULT/myBackup11-2021-03-19T19:03:50.660412Z.tar.gz\",\n",
    "        \"password\": \"planbsftp\"\n",
    "      }\n",
    "    }\n",
    "result = requests.post(url, json = body)\n",
    "result.text"
   ]
  },
  {
   "cell_type": "markdown",
   "metadata": {},
   "source": [
    "### Housekeeping"
   ]
  },
  {
   "cell_type": "code",
   "execution_count": 21,
   "metadata": {},
   "outputs": [
    {
     "data": {
      "text/plain": [
       "'{\"id\":\"45059\"}'"
      ]
     },
     "execution_count": 21,
     "metadata": {},
     "output_type": "execute_result"
    }
   ],
   "source": [
    "url = baseurl + '/v3/backup-managers/DEFAULT/housekeeping'\n",
    "body = {\n",
    "      \"auto-delete\": \"enabled\",\n",
    "      \"max-stored-manual-backups\": 10\n",
    "    }\n",
    "result = requests.post(url, json = body)\n",
    "result.text"
   ]
  },
  {
   "cell_type": "markdown",
   "metadata": {},
   "source": [
    "### Get housekeeping Configuration"
   ]
  },
  {
   "cell_type": "code",
   "execution_count": 15,
   "metadata": {},
   "outputs": [
    {
     "data": {
      "text/plain": [
       "'{\"max-stored-manual-backups\":10,\"auto-delete\":\"enabled\"}'"
      ]
     },
     "execution_count": 15,
     "metadata": {},
     "output_type": "execute_result"
    }
   ],
   "source": [
    "url = baseurl + '/v3/backup-managers/DEFAULT/housekeeping'\n",
    "result = requests.get(url)\n",
    "result.text"
   ]
  },
  {
   "cell_type": "markdown",
   "metadata": {},
   "source": [
    "### Get scheduler configuration"
   ]
  },
  {
   "cell_type": "code",
   "execution_count": 16,
   "metadata": {},
   "outputs": [
    {
     "data": {
      "text/plain": [
       "'{\"adminState\":\"UNLOCKED\",\"mostRecentlyCreatedAutoBackup\":null,\"nextScheduledTime\":null,\"scheduledBackupName\":\"SCHEDULED_BACKUP\",\"autoExport\":\"DISABLED\",\"autoExportPassword\":\"\",\"autoExportUri\":null}'"
      ]
     },
     "execution_count": 16,
     "metadata": {},
     "output_type": "execute_result"
    }
   ],
   "source": [
    "url = baseurl + '/v3/backup-managers/DEFAULT/scheduler'\n",
    "result = requests.get(url)\n",
    "result.text"
   ]
  },
  {
   "cell_type": "markdown",
   "metadata": {},
   "source": [
    "### config scheduler"
   ]
  },
  {
   "cell_type": "code",
   "execution_count": 17,
   "metadata": {},
   "outputs": [
    {
     "data": {
      "text/plain": [
       "'{\"timestamp\":\"2021-02-26T16:07:01.163+00:00\",\"status\":405,\"error\":\"Method Not Allowed\",\"message\":\"\",\"path\":\"/v3/backup-managers/DEFAULT/scheduler/configuration\"}'"
      ]
     },
     "execution_count": 17,
     "metadata": {},
     "output_type": "execute_result"
    }
   ],
   "source": [
    "url = baseurl + '/v3/backup-managers/DEFAULT/scheduler/configuration'\n",
    "body = {\n",
    "          \"scheduledBackupName\":\"MY_SCHED_BACKUP\",\n",
    "          \"autoExport\":\"ENABLED\",\n",
    "          \"autoExportUri\":\"sftp://username@192.168.32.9/path/to/export/location\",\n",
    "          \"autoExportPassword\":\"somePassword\"\n",
    "        }\n",
    "result = requests.post(url, json = body)\n",
    "result.text"
   ]
  },
  {
   "cell_type": "markdown",
   "metadata": {},
   "source": [
    "### create periodic scheduling events"
   ]
  },
  {
   "cell_type": "code",
   "execution_count": 18,
   "metadata": {},
   "outputs": [
    {
     "data": {
      "text/plain": [
       "'{\"id\":\"41403\"}'"
      ]
     },
     "execution_count": 18,
     "metadata": {},
     "output_type": "execute_result"
    }
   ],
   "source": [
    "url = baseurl + '/v3/backup-managers/DEFAULT/scheduler/periodic-events'\n",
    "body = {\n",
    "          \"hours\": 6,\n",
    "          \"minutes\": 30,\n",
    "          \"startTime\": \"2020-10-22T19:45:41\",\n",
    "          \"stopTime\": \"2020-11-21T19:45:41\"\n",
    "        }\n",
    "result = requests.post(url, json = body)\n",
    "result.text"
   ]
  },
  {
   "cell_type": "markdown",
   "metadata": {},
   "source": [
    "### get the sheduling events"
   ]
  },
  {
   "cell_type": "code",
   "execution_count": 19,
   "metadata": {},
   "outputs": [
    {
     "data": {
      "text/plain": [
       "'{\"events\":[{\"startTime\":\"2020-10-22T19:45:41+01:00\",\"minutes\":30,\"hours\":6,\"days\":0,\"weeks\":0,\"stopTime\":\"2020-11-21T19:45:41Z\",\"id\":\"41403\"}]}'"
      ]
     },
     "execution_count": 19,
     "metadata": {},
     "output_type": "execute_result"
    }
   ],
   "source": [
    "url = baseurl + '/v3/backup-managers/DEFAULT/scheduler/periodic-events'\n",
    "result = requests.get(url)\n",
    "result.text"
   ]
  },
  {
   "cell_type": "markdown",
   "metadata": {},
   "source": [
    "### get a periodic event by id"
   ]
  },
  {
   "cell_type": "code",
   "execution_count": 20,
   "metadata": {},
   "outputs": [
    {
     "data": {
      "text/plain": [
       "'{\"startTime\":\"2020-10-22T19:45:41+01:00\",\"minutes\":30,\"hours\":6,\"days\":0,\"weeks\":0,\"stopTime\":\"2020-11-21T19:45:41Z\",\"id\":\"41403\"}'"
      ]
     },
     "execution_count": 20,
     "metadata": {},
     "output_type": "execute_result"
    }
   ],
   "source": [
    "import json\n",
    "eventId = json.loads(result.text)['events'][0]['id']\n",
    "eventId\n",
    "url = baseurl + '/v3/backup-managers/DEFAULT/scheduler/periodic-events/' + eventId\n",
    "result = requests.get(url)\n",
    "result.text"
   ]
  },
  {
   "cell_type": "markdown",
   "metadata": {},
   "source": [
    "### update a periodic scheduling event"
   ]
  },
  {
   "cell_type": "code",
   "execution_count": 21,
   "metadata": {},
   "outputs": [
    {
     "data": {
      "text/plain": [
       "'{\"startTime\":\"2020-10-22T19:45:41+01:00\",\"minutes\":30,\"hours\":1,\"days\":0,\"weeks\":0,\"stopTime\":\"2020-11-21T19:45:41Z\",\"id\":\"41403\"}'"
      ]
     },
     "execution_count": 21,
     "metadata": {},
     "output_type": "execute_result"
    }
   ],
   "source": [
    "url = baseurl + '/v3/backup-managers/DEFAULT/scheduler/periodic-events/' + eventId\n",
    "body = {\n",
    "          \"hours\": 1\n",
    "        }\n",
    "result = requests.put(url, json = body)\n",
    "result.text"
   ]
  },
  {
   "cell_type": "markdown",
   "metadata": {},
   "source": [
    "### Delete a periodic scheduling event"
   ]
  },
  {
   "cell_type": "code",
   "execution_count": 22,
   "metadata": {},
   "outputs": [
    {
     "data": {
      "text/plain": [
       "''"
      ]
     },
     "execution_count": 22,
     "metadata": {},
     "output_type": "execute_result"
    }
   ],
   "source": [
    "url = baseurl + '/v3/backup-managers/DEFAULT/scheduler/periodic-events/' + eventId\n",
    "result = requests.delete(url)\n",
    "result.text"
   ]
  },
  {
   "cell_type": "markdown",
   "metadata": {},
   "source": [
    "### Accessing the REST Interface with HTTPS"
   ]
  },
  {
   "cell_type": "code",
   "execution_count": 19,
   "metadata": {},
   "outputs": [
    {
     "data": {
      "text/plain": [
       "'{\"availability\":\"Available\",\"ongoingAction\":{},\"registeredAgents\":[],\"status\":\"Healthy\"}'"
      ]
     },
     "execution_count": 19,
     "metadata": {},
     "output_type": "execute_result"
    }
   ],
   "source": [
    "result = requests.get(baseurl+'/v1/health')\n",
    "result.text"
   ]
  },
  {
   "cell_type": "code",
   "execution_count": 23,
   "metadata": {},
   "outputs": [
    {
     "data": {
      "text/plain": [
       "'{\"_links\":{\"self\":{\"href\":\"http://localhost:7001/actuator\",\"templated\":false},\"beans\":{\"href\":\"http://localhost:7001/actuator/beans\",\"templated\":false},\"caches-cache\":{\"href\":\"http://localhost:7001/actuator/caches/{cache}\",\"templated\":true},\"caches\":{\"href\":\"http://localhost:7001/actuator/caches\",\"templated\":false},\"health-path\":{\"href\":\"http://localhost:7001/actuator/health/{*path}\",\"templated\":true},\"health\":{\"href\":\"http://localhost:7001/actuator/health\",\"templated\":false},\"info\":{\"href\":\"http://localhost:7001/actuator/info\",\"templated\":false},\"conditions\":{\"href\":\"http://localhost:7001/actuator/conditions\",\"templated\":false},\"configprops\":{\"href\":\"http://localhost:7001/actuator/configprops\",\"templated\":false},\"env\":{\"href\":\"http://localhost:7001/actuator/env\",\"templated\":false},\"env-toMatch\":{\"href\":\"http://localhost:7001/actuator/env/{toMatch}\",\"templated\":true},\"loggers\":{\"href\":\"http://localhost:7001/actuator/loggers\",\"templated\":false},\"loggers-name\":{\"href\":\"http://localhost:7001/actuator/loggers/{name}\",\"templated\":true},\"heapdump\":{\"href\":\"http://localhost:7001/actuator/heapdump\",\"templated\":false},\"threaddump\":{\"href\":\"http://localhost:7001/actuator/threaddump\",\"templated\":false},\"prometheus\":{\"href\":\"http://localhost:7001/actuator/prometheus\",\"templated\":false},\"metrics\":{\"href\":\"http://localhost:7001/actuator/metrics\",\"templated\":false},\"metrics-requiredMetricName\":{\"href\":\"http://localhost:7001/actuator/metrics/{requiredMetricName}\",\"templated\":true},\"scheduledtasks\":{\"href\":\"http://localhost:7001/actuator/scheduledtasks\",\"templated\":false},\"mappings\":{\"href\":\"http://localhost:7001/actuator/mappings\",\"templated\":false}}}'"
      ]
     },
     "execution_count": 23,
     "metadata": {},
     "output_type": "execute_result"
    }
   ],
   "source": [
    "result = requests.get(baseurl+'/actuator')\n",
    "result.text"
   ]
  },
  {
   "cell_type": "code",
   "execution_count": 26,
   "metadata": {},
   "outputs": [
    {
     "data": {
      "text/plain": [
       "'{\"names\":[\"bro.stored.backups\",\"jvm.buffer.count\",\"jvm.buffer.memory.used\",\"jvm.buffer.total.capacity\",\"jvm.classes.loaded\",\"jvm.classes.unloaded\",\"jvm.gc.live.data.size\",\"jvm.gc.max.data.size\",\"jvm.gc.memory.allocated\",\"jvm.gc.memory.promoted\",\"jvm.gc.pause\",\"jvm.memory.committed\",\"jvm.memory.max\",\"jvm.memory.used\",\"jvm.threads.daemon\",\"jvm.threads.live\",\"jvm.threads.peak\",\"jvm.threads.states\",\"log4j2.events\",\"process.cpu.usage\",\"process.start.time\",\"process.uptime\",\"system.cpu.count\",\"system.cpu.usage\",\"tomcat.sessions.active.current\",\"tomcat.sessions.active.max\",\"tomcat.sessions.alive.max\",\"tomcat.sessions.created\",\"tomcat.sessions.expired\",\"tomcat.sessions.rejected\"]}'"
      ]
     },
     "execution_count": 26,
     "metadata": {},
     "output_type": "execute_result"
    }
   ],
   "source": [
    "result = requests.get(baseurl+'/actuator/metrics')\n",
    "result.text"
   ]
  },
  {
   "cell_type": "code",
   "execution_count": 27,
   "metadata": {},
   "outputs": [
    {
     "data": {
      "text/plain": [
       "'# HELP process_uptime_seconds The uptime of the Java virtual machine\\n# TYPE process_uptime_seconds gauge\\nprocess_uptime_seconds 47.351\\n# HELP tomcat_sessions_expired_sessions_total  \\n# TYPE tomcat_sessions_expired_sessions_total counter\\ntomcat_sessions_expired_sessions_total 0.0\\n# HELP tomcat_sessions_rejected_sessions_total  \\n# TYPE tomcat_sessions_rejected_sessions_total counter\\ntomcat_sessions_rejected_sessions_total 0.0\\n# HELP process_cpu_usage The \"recent cpu usage\" for the Java Virtual Machine process\\n# TYPE process_cpu_usage gauge\\nprocess_cpu_usage 0.1302187508334\\n# HELP system_cpu_usage The \"recent cpu usage\" for the whole system\\n# TYPE system_cpu_usage gauge\\nsystem_cpu_usage 0.37848219805797\\n# HELP bro_stored_backups Number of backups stored in BRO\\n# TYPE bro_stored_backups gauge\\nbro_stored_backups{backup_type=\"DEFAULT\",} 0.0\\n# HELP jvm_gc_pause_seconds Time spent in GC pause\\n# TYPE jvm_gc_pause_seconds summary\\njvm_gc_pause_seconds_count{action=\"end of minor GC\",cause=\"Metadata GC Threshold\",} 1.0\\njvm_gc_pause_seconds_sum{action=\"end of minor GC\",cause=\"Metadata GC Threshold\",} 0.01\\njvm_gc_pause_seconds_count{action=\"end of minor GC\",cause=\"G1 Evacuation Pause\",} 10.0\\njvm_gc_pause_seconds_sum{action=\"end of minor GC\",cause=\"G1 Evacuation Pause\",} 0.058\\n# HELP jvm_gc_pause_seconds_max Time spent in GC pause\\n# TYPE jvm_gc_pause_seconds_max gauge\\njvm_gc_pause_seconds_max{action=\"end of minor GC\",cause=\"Metadata GC Threshold\",} 0.01\\njvm_gc_pause_seconds_max{action=\"end of minor GC\",cause=\"G1 Evacuation Pause\",} 0.013\\n# HELP log4j2_events_total Number of fatal level log events\\n# TYPE log4j2_events_total counter\\nlog4j2_events_total{level=\"warn\",} 0.0\\nlog4j2_events_total{level=\"debug\",} 0.0\\nlog4j2_events_total{level=\"error\",} 0.0\\nlog4j2_events_total{level=\"trace\",} 0.0\\nlog4j2_events_total{level=\"fatal\",} 0.0\\nlog4j2_events_total{level=\"info\",} 22.0\\n# HELP jvm_threads_live_threads The current number of live threads including both daemon and non-daemon threads\\n# TYPE jvm_threads_live_threads gauge\\njvm_threads_live_threads 27.0\\n# HELP jvm_classes_loaded_classes The number of classes that are currently loaded in the Java virtual machine\\n# TYPE jvm_classes_loaded_classes gauge\\njvm_classes_loaded_classes 11537.0\\n# HELP jvm_classes_unloaded_classes_total The total number of classes unloaded since the Java virtual machine has started execution\\n# TYPE jvm_classes_unloaded_classes_total counter\\njvm_classes_unloaded_classes_total 0.0\\n# HELP jvm_gc_max_data_size_bytes Max size of long-lived heap memory pool\\n# TYPE jvm_gc_max_data_size_bytes gauge\\njvm_gc_max_data_size_bytes 8.550088704E9\\n# HELP http_server_requests_seconds  \\n# TYPE http_server_requests_seconds summary\\nhttp_server_requests_seconds_count{exception=\"None\",method=\"GET\",outcome=\"SUCCESS\",status=\"200\",uri=\"/actuator/metrics\",} 1.0\\nhttp_server_requests_seconds_sum{exception=\"None\",method=\"GET\",outcome=\"SUCCESS\",status=\"200\",uri=\"/actuator/metrics\",} 0.0539241\\n# HELP http_server_requests_seconds_max  \\n# TYPE http_server_requests_seconds_max gauge\\nhttp_server_requests_seconds_max{exception=\"None\",method=\"GET\",outcome=\"SUCCESS\",status=\"200\",uri=\"/actuator/metrics\",} 0.0539241\\n# HELP jvm_memory_committed_bytes The amount of memory in bytes that is committed for the Java virtual machine to use\\n# TYPE jvm_memory_committed_bytes gauge\\njvm_memory_committed_bytes{area=\"nonheap\",id=\"CodeHeap \\'profiled nmethods\\'\",} 1.2845056E7\\njvm_memory_committed_bytes{area=\"heap\",id=\"G1 Survivor Space\",} 4194304.0\\njvm_memory_committed_bytes{area=\"heap\",id=\"G1 Old Gen\",} 5.0331648E7\\njvm_memory_committed_bytes{area=\"nonheap\",id=\"Metaspace\",} 5.8851328E7\\njvm_memory_committed_bytes{area=\"nonheap\",id=\"CodeHeap \\'non-nmethods\\'\",} 2555904.0\\njvm_memory_committed_bytes{area=\"heap\",id=\"G1 Eden Space\",} 7.9691776E7\\njvm_memory_committed_bytes{area=\"nonheap\",id=\"Compressed Class Space\",} 7995392.0\\njvm_memory_committed_bytes{area=\"nonheap\",id=\"CodeHeap \\'non-profiled nmethods\\'\",} 4390912.0\\n# HELP jvm_threads_states_threads The current number of threads having NEW state\\n# TYPE jvm_threads_states_threads gauge\\njvm_threads_states_threads{state=\"runnable\",} 11.0\\njvm_threads_states_threads{state=\"blocked\",} 0.0\\njvm_threads_states_threads{state=\"waiting\",} 11.0\\njvm_threads_states_threads{state=\"timed-waiting\",} 5.0\\njvm_threads_states_threads{state=\"new\",} 0.0\\njvm_threads_states_threads{state=\"terminated\",} 0.0\\n# HELP jvm_gc_memory_promoted_bytes_total Count of positive increases in the size of the old generation memory pool before GC to after GC\\n# TYPE jvm_gc_memory_promoted_bytes_total counter\\njvm_gc_memory_promoted_bytes_total 9869824.0\\n# HELP jvm_threads_peak_threads The peak live thread count since the Java virtual machine started or peak was reset\\n# TYPE jvm_threads_peak_threads gauge\\njvm_threads_peak_threads 27.0\\n# HELP jvm_buffer_total_capacity_bytes An estimate of the total capacity of the buffers in this pool\\n# TYPE jvm_buffer_total_capacity_bytes gauge\\njvm_buffer_total_capacity_bytes{id=\"mapped - \\'non-volatile memory\\'\",} 0.0\\njvm_buffer_total_capacity_bytes{id=\"mapped\",} 0.0\\njvm_buffer_total_capacity_bytes{id=\"direct\",} 24576.0\\n# HELP jvm_gc_memory_allocated_bytes_total Incremented for an increase in the size of the (young) heap memory pool after one GC to before the next\\n# TYPE jvm_gc_memory_allocated_bytes_total counter\\njvm_gc_memory_allocated_bytes_total 2.11812352E8\\n# HELP jvm_memory_used_bytes The amount of used memory\\n# TYPE jvm_memory_used_bytes gauge\\njvm_memory_used_bytes{area=\"nonheap\",id=\"CodeHeap \\'profiled nmethods\\'\",} 1.2802176E7\\njvm_memory_used_bytes{area=\"heap\",id=\"G1 Survivor Space\",} 2341760.0\\njvm_memory_used_bytes{area=\"heap\",id=\"G1 Old Gen\",} 3.3081856E7\\njvm_memory_used_bytes{area=\"nonheap\",id=\"Metaspace\",} 5.7088768E7\\njvm_memory_used_bytes{area=\"nonheap\",id=\"CodeHeap \\'non-nmethods\\'\",} 1365632.0\\njvm_memory_used_bytes{area=\"heap\",id=\"G1 Eden Space\",} 3.145728E7\\njvm_memory_used_bytes{area=\"nonheap\",id=\"Compressed Class Space\",} 7253136.0\\njvm_memory_used_bytes{area=\"nonheap\",id=\"CodeHeap \\'non-profiled nmethods\\'\",} 4389632.0\\n# HELP process_start_time_seconds Start time of the process since unix epoch.\\n# TYPE process_start_time_seconds gauge\\nprocess_start_time_seconds 1.623687603764E9\\n# HELP tomcat_sessions_active_current_sessions  \\n# TYPE tomcat_sessions_active_current_sessions gauge\\ntomcat_sessions_active_current_sessions 0.0\\n# HELP tomcat_sessions_created_sessions_total  \\n# TYPE tomcat_sessions_created_sessions_total counter\\ntomcat_sessions_created_sessions_total 0.0\\n# HELP jvm_gc_live_data_size_bytes Size of long-lived heap memory pool after reclamation\\n# TYPE jvm_gc_live_data_size_bytes gauge\\njvm_gc_live_data_size_bytes 2.6225664E7\\n# HELP system_cpu_count The number of processors available to the Java virtual machine\\n# TYPE system_cpu_count gauge\\nsystem_cpu_count 8.0\\n# HELP jvm_buffer_memory_used_bytes An estimate of the memory that the Java virtual machine is using for this buffer pool\\n# TYPE jvm_buffer_memory_used_bytes gauge\\njvm_buffer_memory_used_bytes{id=\"mapped - \\'non-volatile memory\\'\",} 0.0\\njvm_buffer_memory_used_bytes{id=\"mapped\",} 0.0\\njvm_buffer_memory_used_bytes{id=\"direct\",} 24577.0\\n# HELP tomcat_sessions_active_max_sessions  \\n# TYPE tomcat_sessions_active_max_sessions gauge\\ntomcat_sessions_active_max_sessions 0.0\\n# HELP tomcat_sessions_alive_max_seconds  \\n# TYPE tomcat_sessions_alive_max_seconds gauge\\ntomcat_sessions_alive_max_seconds 0.0\\n# HELP jvm_memory_max_bytes The maximum amount of memory in bytes that can be used for memory management\\n# TYPE jvm_memory_max_bytes gauge\\njvm_memory_max_bytes{area=\"nonheap\",id=\"CodeHeap \\'profiled nmethods\\'\",} 1.2288E8\\njvm_memory_max_bytes{area=\"heap\",id=\"G1 Survivor Space\",} -1.0\\njvm_memory_max_bytes{area=\"heap\",id=\"G1 Old Gen\",} 8.550088704E9\\njvm_memory_max_bytes{area=\"nonheap\",id=\"Metaspace\",} -1.0\\njvm_memory_max_bytes{area=\"nonheap\",id=\"CodeHeap \\'non-nmethods\\'\",} 5898240.0\\njvm_memory_max_bytes{area=\"heap\",id=\"G1 Eden Space\",} -1.0\\njvm_memory_max_bytes{area=\"nonheap\",id=\"Compressed Class Space\",} 1.073741824E9\\njvm_memory_max_bytes{area=\"nonheap\",id=\"CodeHeap \\'non-profiled nmethods\\'\",} 1.2288E8\\n# HELP jvm_threads_daemon_threads The current number of live daemon threads\\n# TYPE jvm_threads_daemon_threads gauge\\njvm_threads_daemon_threads 21.0\\n# HELP jvm_buffer_count_buffers An estimate of the number of buffers in the pool\\n# TYPE jvm_buffer_count_buffers gauge\\njvm_buffer_count_buffers{id=\"mapped - \\'non-volatile memory\\'\",} 0.0\\njvm_buffer_count_buffers{id=\"mapped\",} 0.0\\njvm_buffer_count_buffers{id=\"direct\",} 4.0\\n'"
      ]
     },
     "execution_count": 27,
     "metadata": {},
     "output_type": "execute_result"
    }
   ],
   "source": [
    "result = requests.get(baseurl+'/actuator/prometheus')\n",
    "result.text"
   ]
  },
  {
   "cell_type": "code",
   "execution_count": null,
   "metadata": {},
   "outputs": [],
   "source": []
  }
 ],
 "metadata": {
  "kernelspec": {
   "display_name": "Python 3",
   "language": "python",
   "name": "python3"
  },
  "language_info": {
   "codemirror_mode": {
    "name": "ipython",
    "version": 3
   },
   "file_extension": ".py",
   "mimetype": "text/x-python",
   "name": "python",
   "nbconvert_exporter": "python",
   "pygments_lexer": "ipython3",
   "version": "3.8.10"
  }
 },
 "nbformat": 4,
 "nbformat_minor": 4
}
