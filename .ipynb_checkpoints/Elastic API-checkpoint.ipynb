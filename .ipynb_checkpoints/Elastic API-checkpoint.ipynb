{
 "cells": [
  {
   "cell_type": "code",
   "execution_count": 1,
   "id": "endless-madagascar",
   "metadata": {},
   "outputs": [],
   "source": [
    "import requests\n",
    "baseurl = 'http://10.120.217.249:9200'"
   ]
  },
  {
   "cell_type": "code",
   "execution_count": 2,
   "id": "gothic-guard",
   "metadata": {},
   "outputs": [
    {
     "data": {
      "text/plain": [
       "{'name': 'eric-data-search-engine-ingest-895bbccf7-7ddnm',\n",
       " 'cluster_name': 'eric-data-search-engine',\n",
       " 'cluster_uuid': 'YbusCkk7SxGN2Fp_xdW4Kw',\n",
       " 'version': {'number': '7.8.1',\n",
       "  'build_flavor': 'oss',\n",
       "  'build_type': 'tar',\n",
       "  'build_hash': 'b5ca9c58fb664ca8bf9e4057fc229b3396bf3a89',\n",
       "  'build_date': '2020-07-21T16:40:44.668009Z',\n",
       "  'build_snapshot': False,\n",
       "  'lucene_version': '8.5.1',\n",
       "  'minimum_wire_compatibility_version': '6.8.0',\n",
       "  'minimum_index_compatibility_version': '6.0.0-beta1'},\n",
       " 'tagline': 'You Know, for Search'}"
      ]
     },
     "execution_count": 2,
     "metadata": {},
     "output_type": "execute_result"
    }
   ],
   "source": [
    "result = requests.get(baseurl)\n",
    "result.json()"
   ]
  },
  {
   "cell_type": "code",
   "execution_count": 5,
   "id": "employed-pastor",
   "metadata": {},
   "outputs": [
    {
     "data": {
      "text/plain": [
       "'id                     host           ip             node\\naAF9Ctd2QOqWO6nS0MxmwQ 192.168.140.60 192.168.140.60 eric-data-search-engine-master-2\\n'"
      ]
     },
     "execution_count": 5,
     "metadata": {},
     "output_type": "execute_result"
    }
   ],
   "source": [
    "result = requests.get(baseurl + '/_cat/master?v')\n",
    "result.text"
   ]
  },
  {
   "cell_type": "code",
   "execution_count": 6,
   "id": "strategic-imperial",
   "metadata": {},
   "outputs": [
    {
     "data": {
      "text/plain": [
       "'id   |   | node id    \\nhost | h | host name  \\nip   |   | ip address \\nnode | n | node name  \\n'"
      ]
     },
     "execution_count": 6,
     "metadata": {},
     "output_type": "execute_result"
    }
   ],
   "source": [
    "result = requests.get(baseurl + '/_cat/master?help')\n",
    "result.text"
   ]
  },
  {
   "cell_type": "code",
   "execution_count": 7,
   "id": "focal-cursor",
   "metadata": {},
   "outputs": [
    {
     "data": {
      "text/plain": [
       "'aAF9Ctd2QOqWO6nS0MxmwQ 192.168.140.60 192.168.140.60 eric-data-search-engine-master-2\\n'"
      ]
     },
     "execution_count": 7,
     "metadata": {},
     "output_type": "execute_result"
    }
   ],
   "source": [
    "result = requests.get(baseurl + '/_cat/master')\n",
    "result.text"
   ]
  },
  {
   "cell_type": "code",
   "execution_count": 8,
   "id": "german-creation",
   "metadata": {},
   "outputs": [
    {
     "data": {
      "text/plain": [
       "''"
      ]
     },
     "execution_count": 8,
     "metadata": {},
     "output_type": "execute_result"
    }
   ],
   "source": [
    "result = requests.get(baseurl + '/_cat/indices')\n",
    "result.text"
   ]
  },
  {
   "cell_type": "code",
   "execution_count": 12,
   "id": "assumed-transparency",
   "metadata": {},
   "outputs": [
    {
     "name": "stdout",
     "output_type": "stream",
     "text": [
      "=^.^=\n",
      "/_cat/allocation\n",
      "/_cat/shards\n",
      "/_cat/shards/{index}\n",
      "/_cat/master\n",
      "/_cat/nodes\n",
      "/_cat/tasks\n",
      "/_cat/indices\n",
      "/_cat/indices/{index}\n",
      "/_cat/segments\n",
      "/_cat/segments/{index}\n",
      "/_cat/count\n",
      "/_cat/count/{index}\n",
      "/_cat/recovery\n",
      "/_cat/recovery/{index}\n",
      "/_cat/health\n",
      "/_cat/pending_tasks\n",
      "/_cat/aliases\n",
      "/_cat/aliases/{alias}\n",
      "/_cat/thread_pool\n",
      "/_cat/thread_pool/{thread_pools}\n",
      "/_cat/plugins\n",
      "/_cat/fielddata\n",
      "/_cat/fielddata/{fields}\n",
      "/_cat/nodeattrs\n",
      "/_cat/repositories\n",
      "/_cat/snapshots/{repository}\n",
      "/_cat/templates\n",
      "\n"
     ]
    }
   ],
   "source": [
    "result = requests.get(baseurl + '/_cat/')\n",
    "print(result.text)"
   ]
  },
  {
   "cell_type": "code",
   "execution_count": 13,
   "id": "challenging-employer",
   "metadata": {},
   "outputs": [
    {
     "name": "stdout",
     "output_type": "stream",
     "text": [
      "{\"acknowledged\":true,\"shards_acknowledged\":true,\"index\":\"my-index-01\"}\n"
     ]
    }
   ],
   "source": [
    "result = requests.put(baseurl + '/my-index-01')\n",
    "print(result.text)"
   ]
  },
  {
   "cell_type": "code",
   "execution_count": 15,
   "id": "unknown-opposition",
   "metadata": {},
   "outputs": [
    {
     "data": {
      "text/plain": [
       "'green open adp-app-logs-2021.08.24 -jM_cvzlQXCHt2k8CA75kQ 5 1 43 0 614.2kb 307kb\\ngreen open my-index-01             2mnlnLP0RquSvwWrcq4VFw 5 1  0 0     2kb   1kb\\n'"
      ]
     },
     "execution_count": 15,
     "metadata": {},
     "output_type": "execute_result"
    }
   ],
   "source": [
    "result = requests.get(baseurl + '/_cat/indices')\n",
    "result.text"
   ]
  },
  {
   "cell_type": "code",
   "execution_count": 17,
   "id": "warming-passenger",
   "metadata": {},
   "outputs": [
    {
     "data": {
      "text/plain": [
       "{'took': 6,\n",
       " 'timed_out': False,\n",
       " '_shards': {'total': 5, 'successful': 5, 'skipped': 0, 'failed': 0},\n",
       " 'hits': {'total': {'value': 43, 'relation': 'eq'},\n",
       "  'max_score': 1.0,\n",
       "  'hits': [{'_index': 'adp-app-logs-2021.08.24',\n",
       "    '_type': '_doc',\n",
       "    '_id': 'C5wCeXsBJeAju-aveFZO',\n",
       "    '_score': 1.0,\n",
       "    '_source': {'port': 60966,\n",
       "     'tags': ['syslog5424'],\n",
       "     'facility': 'local0',\n",
       "     'service_id': 'eric-ctrl-bro',\n",
       "     'type': 'syslog',\n",
       "     'metadata': {'proc_id': '29028'},\n",
       "     'logplane': 'adp-app-logs',\n",
       "     'version': '1.0.0',\n",
       "     'timestamp': '2021-08-24T16:33:29.998Z',\n",
       "     'kubernetes': {'node': {'name': 'IE-00002941'}},\n",
       "     'severity': 'info',\n",
       "     'message': 'BackupManager:configuration-data',\n",
       "     '@timestamp': '2021-08-24T16:33:30.082Z',\n",
       "     '@version': '1'}},\n",
       "   {'_index': 'adp-app-logs-2021.08.24',\n",
       "    '_type': '_doc',\n",
       "    '_id': 'DJwCeXsBJeAju-aveFa2',\n",
       "    '_score': 1.0,\n",
       "    '_source': {'port': 17777,\n",
       "     'tags': ['syslog5424'],\n",
       "     'facility': 'local0',\n",
       "     'service_id': 'eric-ctrl-bro',\n",
       "     'type': 'syslog',\n",
       "     'metadata': {'proc_id': '29028'},\n",
       "     'logplane': 'adp-app-logs',\n",
       "     'version': '1.0.0',\n",
       "     'timestamp': '2021-08-24T16:33:29.999Z',\n",
       "     'kubernetes': {'node': {'name': 'IE-00002941'}},\n",
       "     'severity': 'info',\n",
       "     'message': 'BackupManager:DEFAULT',\n",
       "     '@timestamp': '2021-08-24T16:33:30.185Z',\n",
       "     '@version': '1'}},\n",
       "   {'_index': 'adp-app-logs-2021.08.24',\n",
       "    '_type': '_doc',\n",
       "    '_id': '-5wCeXsBJeAju-avLFVO',\n",
       "    '_score': 1.0,\n",
       "    '_source': {'version': '1.0.0',\n",
       "     'timestamp': '2021-08-24T16:33:10.477Z',\n",
       "     'type': 'syslog',\n",
       "     'tags': ['syslog5424'],\n",
       "     'message': 'Execute loop started',\n",
       "     '@timestamp': '2021-08-24T16:33:10.596Z',\n",
       "     'service_id': 'eric-ctrl-bro',\n",
       "     'kubernetes': {'node': {'name': 'IE-00002941'}},\n",
       "     '@version': '1',\n",
       "     'severity': 'info',\n",
       "     'facility': 'local0',\n",
       "     'port': 55790,\n",
       "     'logplane': 'adp-app-logs',\n",
       "     'metadata': {'proc_id': '13204'}}},\n",
       "   {'_index': 'adp-app-logs-2021.08.24',\n",
       "    '_type': '_doc',\n",
       "    '_id': 'AZwCeXsBJeAju-avUlZd',\n",
       "    '_score': 1.0,\n",
       "    '_source': {'port': 49712,\n",
       "     'tags': ['syslog5424'],\n",
       "     'facility': 'local0',\n",
       "     'service_id': 'eric-ctrl-bro',\n",
       "     'type': 'syslog',\n",
       "     'metadata': {'proc_id': '29028'},\n",
       "     'logplane': 'adp-app-logs',\n",
       "     'version': '1.0.0',\n",
       "     'timestamp': '2021-08-24T16:33:20.249Z',\n",
       "     'kubernetes': {'node': {'name': 'IE-00002941'}},\n",
       "     'severity': 'info',\n",
       "     'message': 'Starting BackupAndRestoreApplication using Java 14.0.2 on IE-00002941 with PID 29028 (C:\\\\Users\\\\eyicwux\\\\Documents\\\\Ericsson\\\\PlanB\\\\BRO\\\\rebase\\\\backupandrestore\\\\service\\\\target\\\\classes started by eyicwux in C:\\\\Users\\\\eyicwux\\\\Documents\\\\Ericsson\\\\PlanB\\\\BRO\\\\rebase\\\\backupandrestore\\\\service)',\n",
       "     '@timestamp': '2021-08-24T16:33:20.366Z',\n",
       "     '@version': '1'}},\n",
       "   {'_index': 'adp-app-logs-2021.08.24',\n",
       "    '_type': '_doc',\n",
       "    '_id': '6Zz9eHsBJeAju-avElXQ',\n",
       "    '_score': 1.0,\n",
       "    '_source': {'port': 23224,\n",
       "     'tags': ['_grokparsefailure', 'syslog3164'],\n",
       "     'type': 'syslog',\n",
       "     '@timestamp': '2021-08-24T16:27:36.420Z',\n",
       "     '@version': '1',\n",
       "     'logplane': 'adp-app-logs',\n",
       "     'version': '1.0.0'}},\n",
       "   {'_index': 'adp-app-logs-2021.08.24',\n",
       "    '_type': '_doc',\n",
       "    '_id': '6pz9eHsBJeAju-avFFVA',\n",
       "    '_score': 1.0,\n",
       "    '_source': {'port': 23224,\n",
       "     'tags': ['_grokparsefailure', 'syslog3164'],\n",
       "     'type': 'syslog',\n",
       "     '@timestamp': '2021-08-24T16:27:36.785Z',\n",
       "     '@version': '1',\n",
       "     'logplane': 'adp-app-logs',\n",
       "     'version': '1.0.0'}},\n",
       "   {'_index': 'adp-app-logs-2021.08.24',\n",
       "    '_type': '_doc',\n",
       "    '_id': '4pz8eHsBJeAju-av31WJ',\n",
       "    '_score': 1.0,\n",
       "    '_source': {'port': 23224,\n",
       "     'tags': ['_grokparsefailure', 'syslog3164'],\n",
       "     'type': 'syslog',\n",
       "     '@timestamp': '2021-08-24T16:27:21.532Z',\n",
       "     '@version': '1',\n",
       "     'logplane': 'adp-app-logs',\n",
       "     'version': '1.0.0'}},\n",
       "   {'_index': 'adp-app-logs-2021.08.24',\n",
       "    '_type': '_doc',\n",
       "    '_id': '5pz8eHsBJeAju-av71Vz',\n",
       "    '_score': 1.0,\n",
       "    '_source': {'port': 23224,\n",
       "     'tags': ['_grokparsefailure', 'syslog3164'],\n",
       "     'type': 'syslog',\n",
       "     '@timestamp': '2021-08-24T16:27:27.364Z',\n",
       "     '@version': '1',\n",
       "     'logplane': 'adp-app-logs',\n",
       "     'version': '1.0.0'}},\n",
       "   {'_index': 'adp-app-logs-2021.08.24',\n",
       "    '_type': '_doc',\n",
       "    '_id': '55z8eHsBJeAju-av9lUF',\n",
       "    '_score': 1.0,\n",
       "    '_source': {'port': 23224,\n",
       "     'tags': ['_grokparsefailure', 'syslog3164'],\n",
       "     'type': 'syslog',\n",
       "     '@timestamp': '2021-08-24T16:27:29.048Z',\n",
       "     '@version': '1',\n",
       "     'logplane': 'adp-app-logs',\n",
       "     'version': '1.0.0'}},\n",
       "   {'_index': 'adp-app-logs-2021.08.24',\n",
       "    '_type': '_doc',\n",
       "    '_id': '7pz9eHsBJeAju-avGVWh',\n",
       "    '_score': 1.0,\n",
       "    '_source': {'port': 23224,\n",
       "     'tags': ['_grokparsefailure', 'syslog3164'],\n",
       "     'type': 'syslog',\n",
       "     '@timestamp': '2021-08-24T16:27:38.165Z',\n",
       "     '@version': '1',\n",
       "     'logplane': 'adp-app-logs',\n",
       "     'version': '1.0.0'}}]}}"
      ]
     },
     "execution_count": 17,
     "metadata": {},
     "output_type": "execute_result"
    }
   ],
   "source": [
    "result = requests.get(baseurl + '/adp-app-logs-2021.08.24/_search')\n",
    "result.json()"
   ]
  },
  {
   "cell_type": "code",
   "execution_count": null,
   "id": "hidden-married",
   "metadata": {},
   "outputs": [],
   "source": []
  }
 ],
 "metadata": {
  "kernelspec": {
   "display_name": "Python 3",
   "language": "python",
   "name": "python3"
  },
  "language_info": {
   "codemirror_mode": {
    "name": "ipython",
    "version": 3
   },
   "file_extension": ".py",
   "mimetype": "text/x-python",
   "name": "python",
   "nbconvert_exporter": "python",
   "pygments_lexer": "ipython3",
   "version": "3.8.5"
  }
 },
 "nbformat": 4,
 "nbformat_minor": 5
}
