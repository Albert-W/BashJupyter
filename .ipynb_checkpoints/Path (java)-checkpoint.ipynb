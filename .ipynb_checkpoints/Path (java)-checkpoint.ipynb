{
 "cells": [
  {
   "cell_type": "code",
   "execution_count": 1,
   "metadata": {},
   "outputs": [],
   "source": [
    "import java.nio.file.*"
   ]
  },
  {
   "cell_type": "code",
   "execution_count": 2,
   "metadata": {},
   "outputs": [],
   "source": [
    "Path path = Paths.get(\"C:\\\\Users\\\\eyicwux\\\\Documents\\\\Ericsson\\\\PlanB\\\\BRO\\\\38570\\\\backupandrestore\\\\test-service-basic\\\\Docker\\\\test-agent\\\\restoredata\"\n",
    "                )"
   ]
  },
  {
   "cell_type": "code",
   "execution_count": 3,
   "metadata": {},
   "outputs": [
    {
     "data": {
      "text/plain": [
       "C:\\Users\\eyicwux\\Documents\\Ericsson\\PlanB\\BRO\\38570\\backupandrestore\\test-service-basic\\Docker\\test-agent\\restoredata"
      ]
     },
     "execution_count": 3,
     "metadata": {},
     "output_type": "execute_result"
    }
   ],
   "source": [
    "path"
   ]
  },
  {
   "cell_type": "code",
   "execution_count": 11,
   "metadata": {},
   "outputs": [
    {
     "data": {
      "text/plain": [
       "C:\\Users\\eyicwux\\AppData\\Local\\Temp\\"
      ]
     },
     "execution_count": 11,
     "metadata": {},
     "output_type": "execute_result"
    }
   ],
   "source": [
    "System.getProperty(\"java.io.tmpdir\")"
   ]
  },
  {
   "cell_type": "code",
   "execution_count": 12,
   "metadata": {},
   "outputs": [
    {
     "data": {
      "text/plain": [
       "{java.specification.version=14, sun.cpu.isalist=amd64, sun.jnu.encoding=Cp1252, java.class.path=C:\\Users\\eyicwux\\Anaconda3\\share\\jupyter\\kernels\\java/ijava-1.3.0.jar, java.vm.vendor=Oracle Corporation, sun.arch.data.model=64, user.variant=, java.vendor.url=https://java.oracle.com/, user.timezone=Europe/London, java.vm.specification.version=14, os.name=Windows 10, sun.java.launcher=SUN_STANDARD, user.country=US, sun.boot.library.path=C:\\Program Files\\Java\\jdk-14.0.2\\bin, sun.java.command=C:\\Users\\eyicwux\\Anaconda3\\share\\jupyter\\kernels\\java/ijava-1.3.0.jar C:\\Users\\eyicwux\\AppData\\Roaming\\jupyter\\runtime\\kernel-7f182194-4534-4baf-b170-8de5d56ca81c.json, jdk.debug=release, sun.cpu.endian=little, user.home=C:\\Users\\eyicwux, user.language=en, sun.stderr.encoding=cp437, java.specification.vendor=Oracle Corporation, java.version.date=2020-07-14, java.home=C:\\Program Files\\Java\\jdk-14.0.2, file.separator=\\, java.vm.compressedOopsMode=Zero based, line.separator=\r\n",
       ", sun.stdout.encoding=cp437, java.vm.specification.vendor=Oracle Corporation, java.specification.name=Java Platform API Specification, user.script=, sun.management.compiler=HotSpot 64-Bit Tiered Compilers, java.runtime.version=14.0.2+12-46, user.name=eyicwux, path.separator=;, os.version=10.0, java.runtime.name=Java(TM) SE Runtime Environment, file.encoding=Cp1252, java.vm.name=Java HotSpot(TM) 64-Bit Server VM, java.vendor.url.bug=https://bugreport.java.com/bugreport/, java.io.tmpdir=C:\\Users\\eyicwux\\AppData\\Local\\Temp\\, java.version=14.0.2, user.dir=C:\\Users\\eyicwux\\Documents\\Ericsson, os.arch=amd64, java.vm.specification.name=Java Virtual Machine Specification, sun.os.patch.level=, java.library.path=C:\\Program Files\\Java\\jdk-14.0.2\\bin;C:\\WINDOWS\\Sun\\Java\\bin;C:\\WINDOWS\\system32;C:\\WINDOWS;C:\\Users\\eyicwux\\Anaconda3;C:\\Users\\eyicwux\\Anaconda3\\Library\\mingw-w64\\bin;C:\\Users\\eyicwux\\Anaconda3\\Library\\usr\\bin;C:\\Users\\eyicwux\\Anaconda3\\Library\\bin;C:\\Users\\eyicwux\\Anaconda3\\Scripts;C:\\WINDOWS\\system32;C:\\WINDOWS;C:\\WINDOWS\\System32\\Wbem;C:\\WINDOWS\\System32\\WindowsPowerShell\\v1.0\\;C:\\WINDOWS\\System32\\OpenSSH\\;C:\\Program Files (x86)\\Adaptiva\\AdaptivaClient\\bin\\x32;C:\\Program Files (x86)\\Adaptiva\\AdaptivaClient\\bin\\x64;C:\\Program Files\\Intel\\WiFi\\bin\\;C:\\Program Files\\Common Files\\Intel\\WirelessCommon\\;C:\\Program Files\\nodejs\\;C:\\Program Files\\Docker\\Docker\\resources\\bin;C:\\ProgramData\\DockerDesktop\\version-bin;;%SystemRoot%\\system32;%SystemRoot%;%SystemRoot%\\System32\\Wbem;%SYSTEMROOT%\\System32\\WindowsPowerShell\\v1.0\\;C:\\Program Files\\Java\\jdk-14.0.2\\bin;C:\\Users\\eyicwux\\AppData\\Local\\Microsoft\\WindowsApps;C:\\Program Files\\JetBrains\\IntelliJ IDEA 2020.2.2\\bin;;C:\\Users\\eyicwux\\AppData\\Local\\Programs\\Microsoft VS Code\\bin;C:\\Users\\eyicwux\\AppData\\Roaming\\npm;C:\\Program Files\\JetBrains\\IntelliJ IDEA Community Edition 2020.2.3\\bin;;C:\\Users\\eyicwux\\AppData\\Local\\Programs\\Git\\cmd;C:\\Program Files\\JetBrains\\PyCharm Community Edition 2020.2.3\\bin;;C:\\Users\\eyicwux\\Downloads\\spring-boot-cli-2.2.6.RELEASE-bin\\spring-2.2.6.RELEASE\\bin;C:\\Users\\eyicwux\\AppData\\Local\\Programs\\Git\\usr\\bin;C:\\Program Files\\JetBrains\\IntelliJ IDEA Community Edition 2020.2.3\\plugins\\maven\\lib\\maven3\\bin;;., java.vm.info=mixed mode, sharing, java.vendor=Oracle Corporation, java.vm.version=14.0.2+12-46, sun.io.unicode.encoding=UnicodeLittle, java.class.version=58.0}"
      ]
     },
     "execution_count": 12,
     "metadata": {},
     "output_type": "execute_result"
    }
   ],
   "source": [
    "System.getProperties()"
   ]
  },
  {
   "cell_type": "code",
   "execution_count": 3,
   "metadata": {},
   "outputs": [
    {
     "ename": "CompilationException",
     "evalue": "",
     "output_type": "error",
     "traceback": [
      "\u001b[1m\u001b[30m|   \u001b[1m\u001b[30mPaths.get(\"\").resolve(\"\\\u001b[0m\u001b[1m\u001b[30m\u001b[41m\u001b[0m\u001b[1m\u001b[30mhello\")\u001b[0m",
      "\u001b[1m\u001b[31millegal escape character\u001b[0m",
      ""
     ]
    }
   ],
   "source": [
    "Paths.get(\"\").resolve(\"\\hello\")"
   ]
  },
  {
   "cell_type": "code",
   "execution_count": 6,
   "metadata": {},
   "outputs": [
    {
     "data": {
      "text/plain": [
       "backups/DEFAULT/myBackup61/bravo/bravo_1/customMetadata/CustomMetadata.txt"
      ]
     },
     "execution_count": 6,
     "metadata": {},
     "output_type": "execute_result"
    }
   ],
   "source": [
    "Path path1 = Paths.get(\"backups/DEFAULT/myBackup61/bravo/bravo_1/customMetadata/CustomMetadata.txt\");\n",
    "path1    "
   ]
  },
  {
   "cell_type": "code",
   "execution_count": null,
   "metadata": {},
   "outputs": [],
   "source": []
  }
 ],
 "metadata": {
  "kernelspec": {
   "display_name": "Java",
   "language": "java",
   "name": "java"
  },
  "language_info": {
   "codemirror_mode": "java",
   "file_extension": ".jshell",
   "mimetype": "text/x-java-source",
   "name": "Java",
   "pygments_lexer": "java",
   "version": "11.0.9.1+1-Ubuntu-0ubuntu1.20.04"
  }
 },
 "nbformat": 4,
 "nbformat_minor": 4
}
