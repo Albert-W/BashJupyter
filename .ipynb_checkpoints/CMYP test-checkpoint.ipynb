{
 "cells": [
  {
   "cell_type": "code",
   "execution_count": 1,
   "id": "collect-impression",
   "metadata": {},
   "outputs": [
    {
     "name": "stdout",
     "output_type": "stream",
     "text": [
      "\r",
      "Password: \r\n",
      "\r\n"
     ]
    }
   ],
   "source": [
    "ssh -p 2222 -t brocmyp@10.120.217.249"
   ]
  },
  {
   "cell_type": "code",
   "execution_count": 3,
   "id": "limiting-morocco",
   "metadata": {},
   "outputs": [
    {
     "name": "stdout",
     "output_type": "stream",
     "text": [
      "Reading package lists... Done\n",
      "Building dependency tree       \n",
      "Reading state information... Done\n",
      "sshpass is already the newest version (1.06-1).\n",
      "0 upgraded, 0 newly installed, 0 to remove and 157 not upgraded.\n"
     ]
    }
   ],
   "source": [
    "sudo apt-get install sshpass -y"
   ]
  },
  {
   "cell_type": "code",
   "execution_count": 4,
   "id": "aquatic-boutique",
   "metadata": {},
   "outputs": [
    {
     "name": "stdout",
     "output_type": "stream",
     "text": [
      "Usage: sshpass [-f|-d|-p|-e] [-hV] command parameters\n",
      "   -f filename   Take password to use from file\n",
      "   -d number     Use number as file descriptor for getting password\n",
      "   -p password   Provide password as argument (security unwise)\n",
      "   -e            Password is passed as env-var \"SSHPASS\"\n",
      "   With no parameters - password will be taken from stdin\n",
      "\n",
      "   -P prompt     Which string should sshpass search for to detect a password prompt\n",
      "   -v            Be verbose about what you're doing\n",
      "   -h            Show help (this screen)\n",
      "   -V            Print version information\n",
      "At most one of -f, -d, -p or -e should be used\n"
     ]
    }
   ],
   "source": [
    "sshpass -v"
   ]
  },
  {
   "cell_type": "code",
   "execution_count": null,
   "id": "forty-blank",
   "metadata": {},
   "outputs": [
    {
     "name": "stdout",
     "output_type": "stream",
     "text": [
      "\n",
      "brocmyp connected from 10.120.217.53 using ssh on eric-cm-yang-provider-67d746d86c-sb5jr\n"
     ]
    }
   ],
   "source": [
    "sshpass -p planbyang ssh brocmyp@10.120.217.249 -p 2222"
   ]
  },
  {
   "cell_type": "code",
   "execution_count": 1,
   "id": "marine-debate",
   "metadata": {},
   "outputs": [
    {
     "name": "stdout",
     "output_type": "stream",
     "text": [
      "unknown option -- -\n",
      "usage: ssh [-46AaCfGgKkMNnqsTtVvXxYy] [-B bind_interface]\n",
      "           [-b bind_address] [-c cipher_spec] [-D [bind_address:]port]\n",
      "           [-E log_file] [-e escape_char] [-F configfile] [-I pkcs11]\n",
      "           [-i identity_file] [-J [user@]host[:port]] [-L address]\n",
      "           [-l login_name] [-m mac_spec] [-O ctl_cmd] [-o option] [-p port]\n",
      "           [-Q query_option] [-R address] [-S ctl_path] [-W host:port]\n",
      "           [-w local_tun[:remote_tun]] destination [command]\n"
     ]
    },
    {
     "ename": "",
     "evalue": "255",
     "output_type": "error",
     "traceback": []
    }
   ],
   "source": [
    "ssh --help"
   ]
  },
  {
   "cell_type": "code",
   "execution_count": 2,
   "id": "exotic-diameter",
   "metadata": {},
   "outputs": [
    {
     "name": "stdout",
     "output_type": "stream",
     "text": [
      "usage: ssh [-46AaCfGgKkMNnqsTtVvXxYy] [-B bind_interface]\n",
      "           [-b bind_address] [-c cipher_spec] [-D [bind_address:]port]\n",
      "           [-E log_file] [-e escape_char] [-F configfile] [-I pkcs11]\n",
      "           [-i identity_file] [-J [user@]host[:port]] [-L address]\n",
      "           [-l login_name] [-m mac_spec] [-O ctl_cmd] [-o option] [-p port]\n",
      "           [-Q query_option] [-R address] [-S ctl_path] [-W host:port]\n",
      "           [-w local_tun[:remote_tun]] destination [command]\n"
     ]
    },
    {
     "ename": "",
     "evalue": "255",
     "output_type": "error",
     "traceback": []
    }
   ],
   "source": [
    "ssh"
   ]
  },
  {
   "cell_type": "code",
   "execution_count": 4,
   "id": "mexican-midnight",
   "metadata": {},
   "outputs": [
    {
     "name": "stdout",
     "output_type": "stream",
     "text": [
      "\n",
      "brocmyp connected from 10.120.217.53 using ssh on eric-cm-yang-provider-67d746d86c-sb5jr\n",
      "\u001b[?7hbrocmyp@eric-cm-yang-provider-67d746d86c-sb5jr#\n",
      "*** IDLE TIMEOUT ***\n",
      "Connection to 10.120.217.249 closed.\n"
     ]
    },
    {
     "ename": "",
     "evalue": "3",
     "output_type": "error",
     "traceback": []
    }
   ],
   "source": [
    "sshpass -p planbyang ssh brocmyp@10.120.217.249 -p 2222 "
   ]
  },
  {
   "cell_type": "code",
   "execution_count": null,
   "id": "biological-provincial",
   "metadata": {},
   "outputs": [],
   "source": [
    "show running-config brm"
   ]
  },
  {
   "cell_type": "code",
   "execution_count": null,
   "id": "planned-choir",
   "metadata": {},
   "outputs": [],
   "source": []
  }
 ],
 "metadata": {
  "kernelspec": {
   "display_name": "Bash",
   "language": "bash",
   "name": "bash"
  },
  "language_info": {
   "codemirror_mode": "shell",
   "file_extension": ".sh",
   "mimetype": "text/x-sh",
   "name": "bash"
  }
 },
 "nbformat": 4,
 "nbformat_minor": 5
}
