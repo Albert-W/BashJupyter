{
 "cells": [
  {
   "cell_type": "code",
   "execution_count": 115,
   "id": "861e93f1",
   "metadata": {},
   "outputs": [],
   "source": [
    "import requests"
   ]
  },
  {
   "cell_type": "code",
   "execution_count": 93,
   "id": "08b3d408",
   "metadata": {},
   "outputs": [],
   "source": [
    "baseurl = 'http://localhost:5000'"
   ]
  },
  {
   "cell_type": "code",
   "execution_count": 116,
   "id": "15db2069",
   "metadata": {},
   "outputs": [],
   "source": [
    "baseurl = 'http://relex.eu-west-1.elasticbeanstalk.com'"
   ]
  },
  {
   "cell_type": "code",
   "execution_count": 117,
   "id": "dcc909c3",
   "metadata": {},
   "outputs": [
    {
     "data": {
      "text/plain": [
       "<Response [200]>"
      ]
     },
     "execution_count": 117,
     "metadata": {},
     "output_type": "execute_result"
    }
   ],
   "source": [
    "url = baseurl + '/integration/parcels/status?parcelId=parcel_0001'\n",
    "\n",
    "result = requests.get(url)\n",
    "result"
   ]
  },
  {
   "cell_type": "code",
   "execution_count": 118,
   "id": "c9de3b53",
   "metadata": {},
   "outputs": [
    {
     "data": {
      "text/plain": [
       "{'code': None,\n",
       " 'message': 'Succeed',\n",
       " 'data': [{'update_time': '2021-04-20',\n",
       "   'status': 'DELIVERYING',\n",
       "   'update_by': 'YC',\n",
       "   'comments': None},\n",
       "  {'update_time': '2021-04-20',\n",
       "   'status': 'DELIVERY_FAILED',\n",
       "   'update_by': 'YC',\n",
       "   'comments': None},\n",
       "  {'update_time': '2021-04-21',\n",
       "   'status': 'DELIVERY_FAILED',\n",
       "   'update_by': 'YC',\n",
       "   'comments': None},\n",
       "  {'update_time': '2021-04-22',\n",
       "   'status': 'DELIVERYED',\n",
       "   'update_by': 'YC',\n",
       "   'comments': None}]}"
      ]
     },
     "execution_count": 118,
     "metadata": {},
     "output_type": "execute_result"
    }
   ],
   "source": [
    "result.json()"
   ]
  },
  {
   "cell_type": "code",
   "execution_count": 119,
   "id": "19cf1e18",
   "metadata": {},
   "outputs": [],
   "source": [
    "url = baseurl + '/integration/parcels/init'"
   ]
  },
  {
   "cell_type": "code",
   "execution_count": 120,
   "id": "f4e75c4e",
   "metadata": {},
   "outputs": [],
   "source": [
    "body = {\n",
    "    \"parcelId\": \"RL1eggf82\",\n",
    "    \"shipping_date\": \"2021-04-03T19:02:22.768Z\",\n",
    "    \"create_date\": \"2021-04-03T19:02:22.768Z\",\n",
    "    \"carrier\": \"Relex Logistic\",\n",
    "    \"order_number\": \"\",\n",
    "    \"comments\": \"\",\n",
    "    \"parcel_value\": 2,\n",
    "    \"parcel_value_currency\": \"EURO\",\n",
    "    \"parcel_width\": 1,\n",
    "    \"parcel_height\": 1,\n",
    "    \"parcel_weight\": 1,\n",
    "    \"parcel_length\": 1,\n",
    "    \"itemQuantity\": 2,\n",
    "    \"recipient\": {\n",
    "        \"name\": \"Cierra.Daniel\",\n",
    "        \"first_name\": \"Cierra\",\n",
    "        \"last_name\": \"Daniel\",\n",
    "        \"salutation\": \"Mr\",\n",
    "        \"company_name\": \"Hammes, Ward and Green\",\n",
    "        \"email_address\": \"Garret_Boyer@yahoo.com\",\n",
    "        \"contact_number1\": \"675-879-0566 x810\",\n",
    "        \"contact_number2\": \"825-425-2165 x05795\",\n",
    "        \"address\": {\n",
    "            \"address1\": \"Suite 494\",\n",
    "            \"address2\": \"866 Zula Camp\",\n",
    "            \"address3\": \"Cambridgeshire\",\n",
    "            \"city\": \"Dublin\",\n",
    "            \"state\": \"Co.Dublin\",\n",
    "            \"province\": \"Dublin\",\n",
    "            \"postcode\": \"D02EX03\",\n",
    "            \"country\": \"Ireland\",\n",
    "            \"county\": \"Dublin\"\n",
    "        }\n",
    "    },\n",
    "    \"sender\": {\n",
    "        \"name\":\"haha\",\n",
    "        \"first_name\": \"Cierra\",\n",
    "        \"last_name\": \"Daniel\",\n",
    "        \"salutation\": \"Mr\",\n",
    "        \"company_name\": \"Parisian and Sons\",\n",
    "        \"email_address\": \"Lazaro.Hahn1@gmail.com\",\n",
    "        \"contact_number1\": \"(346) 249-3358\",\n",
    "        \"contact_number2\": \"(701) 243-2304 x572\",\n",
    "        \"address\": {\n",
    "            \"address1\": \"Apt. 409\",\n",
    "            \"address2\": \"94147 Orin Bypass\",\n",
    "            \"address3\": \"Bedfordshire\",\n",
    "            \"city\": \"Beijing\",\n",
    "            \"province\": \"Beijing\",\n",
    "            \"state\": \"Beijing\",\n",
    "            \"postcode\": \"100001\",\n",
    "            \"country\": \"China\",\n",
    "            \"county\": \"\"\n",
    "        }\n",
    "    }\n",
    "}"
   ]
  },
  {
   "cell_type": "code",
   "execution_count": 121,
   "id": "855c2aab",
   "metadata": {},
   "outputs": [
    {
     "data": {
      "text/plain": [
       "{'code': 'success', 'message': 'Items put success'}"
      ]
     },
     "execution_count": 121,
     "metadata": {},
     "output_type": "execute_result"
    }
   ],
   "source": [
    "result = requests.post(url, json = body)\n",
    "result.json()"
   ]
  },
  {
   "cell_type": "code",
   "execution_count": null,
   "id": "7883eb84",
   "metadata": {},
   "outputs": [],
   "source": []
  }
 ],
 "metadata": {
  "kernelspec": {
   "display_name": "Python 3",
   "language": "python",
   "name": "python3"
  },
  "language_info": {
   "codemirror_mode": {
    "name": "ipython",
    "version": 3
   },
   "file_extension": ".py",
   "mimetype": "text/x-python",
   "name": "python",
   "nbconvert_exporter": "python",
   "pygments_lexer": "ipython3",
   "version": "3.6.9"
  }
 },
 "nbformat": 4,
 "nbformat_minor": 5
}
