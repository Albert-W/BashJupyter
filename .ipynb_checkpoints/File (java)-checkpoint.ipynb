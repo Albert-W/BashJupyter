{
 "cells": [
  {
   "cell_type": "code",
   "execution_count": 5,
   "id": "nuclear-archive",
   "metadata": {},
   "outputs": [],
   "source": [
    "import java.nio.file.Files;\n",
    "import java.nio.file.Path;\n",
    "import java.nio.file.Paths;"
   ]
  },
  {
   "cell_type": "code",
   "execution_count": 6,
   "id": "independent-economics",
   "metadata": {},
   "outputs": [],
   "source": [
    "Path path = Paths.get(\"a/b/c\")"
   ]
  },
  {
   "cell_type": "code",
   "execution_count": 7,
   "id": "architectural-radio",
   "metadata": {},
   "outputs": [
    {
     "data": {
      "text/plain": [
       "/c/Users/eyicwux/Documents/github/BashJupyter/a/b/c"
      ]
     },
     "execution_count": 7,
     "metadata": {},
     "output_type": "execute_result"
    }
   ],
   "source": [
    "Files.createDirectories(path);"
   ]
  },
  {
   "cell_type": "code",
   "execution_count": null,
   "id": "dietary-shanghai",
   "metadata": {},
   "outputs": [],
   "source": []
  }
 ],
 "metadata": {
  "kernelspec": {
   "display_name": "Java",
   "language": "java",
   "name": "java"
  },
  "language_info": {
   "codemirror_mode": "java",
   "file_extension": ".jshell",
   "mimetype": "text/x-java-source",
   "name": "Java",
   "pygments_lexer": "java",
   "version": "11.0.9.1+1-Ubuntu-0ubuntu1.20.04"
  }
 },
 "nbformat": 4,
 "nbformat_minor": 5
}
