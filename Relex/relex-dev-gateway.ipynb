{
 "cells": [
  {
   "cell_type": "code",
   "execution_count": 1,
   "id": "69b2c40e",
   "metadata": {},
   "outputs": [],
   "source": [
    "import requests as req"
   ]
  },
  {
   "cell_type": "code",
   "execution_count": 2,
   "id": "a2baa44f",
   "metadata": {},
   "outputs": [],
   "source": [
    "baseurl = 'https://owkndpc8jl.execute-api.eu-west-1.amazonaws.com/Relex_API_Dev'"
   ]
  },
  {
   "cell_type": "code",
   "execution_count": 3,
   "id": "09aaf687",
   "metadata": {},
   "outputs": [
    {
     "data": {
      "text/plain": [
       "{'message': 'Missing Authentication Token'}"
      ]
     },
     "execution_count": 3,
     "metadata": {},
     "output_type": "execute_result"
    }
   ],
   "source": [
    "url = baseurl + '/integration/parcels/status?parcelId=YT2032421266102769'\n",
    "\n",
    "result = req.get(url)\n",
    "result.json()"
   ]
  },
  {
   "cell_type": "code",
   "execution_count": 4,
   "id": "60790cff",
   "metadata": {},
   "outputs": [],
   "source": [
    "url = baseurl + '/integration/parcels/init'"
   ]
  },
  {
   "cell_type": "code",
   "execution_count": 9,
   "id": "2d3e91b1",
   "metadata": {},
   "outputs": [],
   "source": [
    "body = {\n",
    "    \"originalParcelId\": \"K6TestParcelId\",\n",
    "    \"shipping_date\": \"2021-04-03T19:02:22.768Z\",\n",
    "    \"create_date\": \"2021-04-03T19:02:22.768Z\",\n",
    "    \"carrier\": \"Relex Logistic\",\n",
    "    \"order_number\": \"\",\n",
    "    \"comments\": \"\",\n",
    "    \"parcel_value\": 2,\n",
    "    \"parcel_value_currency\": \"EURO\",\n",
    "    \"parcel_width\": 1,\n",
    "    \"parcel_height\": 1,\n",
    "    \"parcel_weight\": 1,\n",
    "    \"parcel_length\": 1,\n",
    "    \"itemQuantity\": 2,\n",
    "    \"recipient\": {\n",
    "        \"name\": \"小明\",\n",
    "        \"first_name\": \"Cierra\",\n",
    "        \"last_name\": \"Daniel\",\n",
    "        \"salutation\": \"Mr\",\n",
    "        \"company_name\": \"Hammes, Ward and Green\",\n",
    "        \"email_address\": \"Garret_Boyer@yahoo.com\",\n",
    "        \"contact_number1\": \"675-879-0566 x810\",\n",
    "        \"contact_number2\": \"825-425-2165 x05795\",\n",
    "        \"address\": {\n",
    "            \"address1\": \"Suite 494\",\n",
    "            \"address2\": \"866 Zula Camp\",\n",
    "            \"address3\": \"Cambridgeshire\",\n",
    "            \"city\": \"Dublin\",\n",
    "            \"state\": \"Co.Dublin\",\n",
    "            \"province\": \"Dublin\",\n",
    "            \"postcode\": \"D17EX03\",\n",
    "            \"country\": \"Ireland\",\n",
    "            \"county\": \"Dublin\"\n",
    "        }\n",
    "    },\n",
    "    \"sender\": {\n",
    "        \"name\":\"haha\",\n",
    "        \"first_name\": \"Cierra\",\n",
    "        \"last_name\": \"Daniel\",\n",
    "        \"salutation\": \"Mr\",\n",
    "        \"company_name\": \"Parisian and Sons\",\n",
    "        \"email_address\": \"Lazaro.Hahn1@gmail.com\",\n",
    "        \"contact_number1\": \"(346) 249-3358\",\n",
    "        \"contact_number2\": \"(701) 243-2304 x573\",\n",
    "        \"address\": {\n",
    "            \"address1\": \"Apt. 409\",\n",
    "            \"address2\": \"94147 Orin Bypass\",\n",
    "            \"address3\": \"Bedfordshire\",\n",
    "            \"city\": \"Beijing\",\n",
    "            \"province\": \"Beijing\",\n",
    "            \"state\": \"Beijing\",\n",
    "            \"postcode\": \"100001\",\n",
    "            \"country\": \"China\",\n",
    "            \"county\": \"\"\n",
    "        }\n",
    "    }\n",
    "}"
   ]
  },
  {
   "cell_type": "code",
   "execution_count": 10,
   "id": "4648996c",
   "metadata": {},
   "outputs": [
    {
     "data": {
      "text/plain": [
       "{'code': 1005,\n",
       " 'message': 'The postcode [D17EX03] of this parcel is out of the carrier [Relex Logistic] delivery range.'}"
      ]
     },
     "execution_count": 10,
     "metadata": {},
     "output_type": "execute_result"
    }
   ],
   "source": [
    "res = req.put(url, json = body)\n",
    "res.json()"
   ]
  },
  {
   "cell_type": "code",
   "execution_count": 75,
   "id": "271d8a8a",
   "metadata": {},
   "outputs": [
    {
     "data": {
      "text/plain": [
       "'RX40569444'"
      ]
     },
     "execution_count": 75,
     "metadata": {},
     "output_type": "execute_result"
    }
   ],
   "source": [
    "parcelId = res.json()['relex_parcel_id']\n",
    "parcelId"
   ]
  },
  {
   "cell_type": "markdown",
   "id": "bea76cbf",
   "metadata": {},
   "source": [
    "### Admin scan a parcel"
   ]
  },
  {
   "cell_type": "code",
   "execution_count": 6,
   "id": "6221cbac",
   "metadata": {},
   "outputs": [],
   "source": [
    "parcelId = \"RX68358430\""
   ]
  },
  {
   "cell_type": "code",
   "execution_count": 11,
   "id": "c23e2bd7",
   "metadata": {},
   "outputs": [
    {
     "data": {
      "text/plain": [
       "\"http://localhost:5000/admin/parcels/RX78895457?username='YC'\""
      ]
     },
     "execution_count": 11,
     "metadata": {},
     "output_type": "execute_result"
    }
   ],
   "source": [
    "url = baseurl + '/admin/parcels/' + parcelId + \"?username='YC'\"\n",
    "url"
   ]
  },
  {
   "cell_type": "code",
   "execution_count": 12,
   "id": "9f77057a",
   "metadata": {},
   "outputs": [
    {
     "data": {
      "text/plain": [
       "{'code': 2002,\n",
       " 'message': \"The current status is DD, which can't be set as arrived.\"}"
      ]
     },
     "execution_count": 12,
     "metadata": {},
     "output_type": "execute_result"
    }
   ],
   "source": [
    "res = req.put(url)\n",
    "res.json()"
   ]
  },
  {
   "cell_type": "markdown",
   "id": "df4efac9",
   "metadata": {},
   "source": [
    "### Driver scan a parcel"
   ]
  },
  {
   "cell_type": "code",
   "execution_count": 78,
   "id": "edcb2da2",
   "metadata": {},
   "outputs": [
    {
     "data": {
      "text/plain": [
       "'http://localhost:5000/driver/parcels/RX92282378?username=u1'"
      ]
     },
     "execution_count": 78,
     "metadata": {},
     "output_type": "execute_result"
    }
   ],
   "source": [
    "parcelId = 'RX92282378'\n",
    "url = baseurl + '/driver/parcels/' + parcelId + \"?username=u1\"\n",
    "url"
   ]
  },
  {
   "cell_type": "code",
   "execution_count": 79,
   "id": "624616de",
   "metadata": {},
   "outputs": [
    {
     "data": {
      "text/plain": [
       "'{\"code\":200,\"message\":\"THE PARCEL STATUS SET TO DELIVERING\"}'"
      ]
     },
     "execution_count": 79,
     "metadata": {},
     "output_type": "execute_result"
    }
   ],
   "source": [
    "res = req.put(url)\n",
    "res.text"
   ]
  },
  {
   "cell_type": "markdown",
   "id": "424f70a0",
   "metadata": {},
   "source": [
    "### Driver get their list"
   ]
  },
  {
   "cell_type": "code",
   "execution_count": 82,
   "id": "5223c4a3",
   "metadata": {},
   "outputs": [
    {
     "data": {
      "text/plain": [
       "'http://localhost:5000/parcels/YC'"
      ]
     },
     "execution_count": 82,
     "metadata": {},
     "output_type": "execute_result"
    }
   ],
   "source": [
    "url = baseurl + '/parcels/' + \"YC\"\n",
    "url"
   ]
  },
  {
   "cell_type": "code",
   "execution_count": 83,
   "id": "5143b44e",
   "metadata": {},
   "outputs": [
    {
     "data": {
      "text/plain": [
       "[{'id': 3423,\n",
       "  'parcelId': 'RX40569444',\n",
       "  'status': 'DI',\n",
       "  'updateBy': 'YC',\n",
       "  'updateTime': '2021-06-26T10:43:17.000+00:00'},\n",
       " {'id': 3420,\n",
       "  'parcelId': 'RX86637449',\n",
       "  'status': 'DI',\n",
       "  'updateBy': 'YC',\n",
       "  'updateTime': '2021-06-26T09:36:51.000+00:00'},\n",
       " {'id': 197,\n",
       "  'parcelId': 'RX42049983',\n",
       "  'status': 'DI',\n",
       "  'updateBy': 'YC',\n",
       "  'updateTime': '2021-05-18T19:42:31.000+00:00'},\n",
       " {'id': 138,\n",
       "  'parcelId': 'RX72859595',\n",
       "  'status': 'DI',\n",
       "  'updateBy': 'YC',\n",
       "  'updateTime': '2021-05-17T20:35:07.000+00:00'},\n",
       " {'id': 76,\n",
       "  'parcelId': 'RX36256467',\n",
       "  'status': 'DI',\n",
       "  'updateBy': 'YC',\n",
       "  'updateTime': '2021-05-05T21:10:12.000+00:00'},\n",
       " {'id': 61,\n",
       "  'parcelId': 'RX20806521',\n",
       "  'status': 'DI',\n",
       "  'updateBy': 'YC',\n",
       "  'updateTime': '2021-05-05T20:34:45.000+00:00'},\n",
       " {'id': 60,\n",
       "  'parcelId': 'RX44848452',\n",
       "  'status': 'DD',\n",
       "  'updateBy': 'YC',\n",
       "  'updateTime': '2021-05-03T19:25:00.000+00:00'},\n",
       " {'id': 59,\n",
       "  'parcelId': 'RX57110387',\n",
       "  'status': 'DF',\n",
       "  'updateBy': 'YC',\n",
       "  'updateTime': '2021-05-03T08:49:28.000+00:00',\n",
       "  'undeliveredReason': 'NH'},\n",
       " {'id': 50,\n",
       "  'parcelId': 'RX72695829',\n",
       "  'status': 'DD',\n",
       "  'updateBy': 'YC',\n",
       "  'updateTime': '2021-05-01T16:04:03.000+00:00'},\n",
       " {'id': 42,\n",
       "  'parcelId': 'RX21490659',\n",
       "  'status': 'DD',\n",
       "  'updateBy': 'YC',\n",
       "  'updateTime': '2021-05-01T15:35:04.000+00:00'},\n",
       " {'id': 33,\n",
       "  'parcelId': 'parcel_0001',\n",
       "  'status': 'RE',\n",
       "  'updateBy': 'YC',\n",
       "  'updateTime': '2021-05-01T09:56:21.000+00:00',\n",
       "  'undeliveredReason': 'OT'},\n",
       " {'id': 14,\n",
       "  'parcelId': 'parcel_0002',\n",
       "  'status': 'DF',\n",
       "  'updateBy': 'YC',\n",
       "  'comments': 'Wonderful',\n",
       "  'updateTime': '2021-04-28T18:50:49.000+00:00'}]"
      ]
     },
     "execution_count": 83,
     "metadata": {},
     "output_type": "execute_result"
    }
   ],
   "source": [
    "res = req.get(url)\n",
    "res.json()"
   ]
  },
  {
   "cell_type": "markdown",
   "id": "358c3f58",
   "metadata": {},
   "source": [
    "### Sync"
   ]
  },
  {
   "cell_type": "code",
   "execution_count": 40,
   "id": "81c2d9d2",
   "metadata": {},
   "outputs": [],
   "source": [
    "url = baseurl + '/sync/'"
   ]
  },
  {
   "cell_type": "code",
   "execution_count": 43,
   "id": "8767e07c",
   "metadata": {},
   "outputs": [],
   "source": [
    "body = {\n",
    "    \"parcelId\": \"RX00001111\",\n",
    "    \"status\": \"DF\",\n",
    "    \"updateBy\": \"u1\",\n",
    "    \"updateTime\": \"2021-04-28T18:50:49.000\",\n",
    "    \"undeliveredReason\": \"No one at home\",\n",
    "    \"comments\":\"no comments yet\"\n",
    "}"
   ]
  },
  {
   "cell_type": "code",
   "execution_count": 44,
   "id": "02c8a8f0",
   "metadata": {},
   "outputs": [
    {
     "data": {
      "text/plain": [
       "'{\"code\":200,\"message\":\"Status is updated to: DELIVERY FAILED\"}'"
      ]
     },
     "execution_count": 44,
     "metadata": {},
     "output_type": "execute_result"
    }
   ],
   "source": [
    "res = req.put(url, json = body)\n",
    "res.text"
   ]
  },
  {
   "cell_type": "markdown",
   "id": "7dfbe4ae",
   "metadata": {},
   "source": [
    "### Update Status\n",
    "/parcels/status/{parcelId}"
   ]
  },
  {
   "cell_type": "code",
   "execution_count": 31,
   "id": "7a2780e9",
   "metadata": {},
   "outputs": [],
   "source": [
    "parcelId = 'RX95245607'\n",
    "url = baseurl + '/parcels/status/' + parcelId"
   ]
  },
  {
   "cell_type": "code",
   "execution_count": 32,
   "id": "63da40aa",
   "metadata": {},
   "outputs": [],
   "source": [
    "body = {\n",
    "    \"status\": \"DF\",\n",
    "    \"updateBy\": \"ParcelUpdateDriverTest\",\n",
    "    \"updateTime\": \"2021-04-28T18:50:49.000\",\n",
    "    \"undeliveredReason\": \"OT\",\n",
    "    \"comments\":\"localhost\"\n",
    "}"
   ]
  },
  {
   "cell_type": "code",
   "execution_count": 33,
   "id": "99692d06",
   "metadata": {},
   "outputs": [
    {
     "data": {
      "text/plain": [
       "'{\"code\":200,\"message\":\"Status is updated to: DELIVERY FAILED\"}'"
      ]
     },
     "execution_count": 33,
     "metadata": {},
     "output_type": "execute_result"
    }
   ],
   "source": [
    "res = req.post(url, json = body)\n",
    "res.text"
   ]
  },
  {
   "cell_type": "markdown",
   "id": "7b92e217",
   "metadata": {},
   "source": [
    "### Check Status"
   ]
  },
  {
   "cell_type": "code",
   "execution_count": 70,
   "id": "c669d9e6",
   "metadata": {},
   "outputs": [],
   "source": [
    "parcelId = 'RX95245607'\n",
    "url = baseurl + '/parcels/status/' + parcelId"
   ]
  },
  {
   "cell_type": "code",
   "execution_count": 71,
   "id": "96931e56",
   "metadata": {},
   "outputs": [
    {
     "data": {
      "text/plain": [
       "'{\"code\":200,\"message\":\"The current Status is: DELIVERY FAILED\"}'"
      ]
     },
     "execution_count": 71,
     "metadata": {},
     "output_type": "execute_result"
    }
   ],
   "source": [
    "res = req.get(url)\n",
    "res.text"
   ]
  },
  {
   "cell_type": "markdown",
   "id": "ee28fbd3",
   "metadata": {},
   "source": [
    "### Web update status"
   ]
  },
  {
   "cell_type": "code",
   "execution_count": 11,
   "id": "04674d4d",
   "metadata": {},
   "outputs": [],
   "source": [
    "parcelId = 'RX95245607'\n",
    "url = baseurl + '/web/parcels/status/' + parcelId"
   ]
  },
  {
   "cell_type": "code",
   "execution_count": 12,
   "id": "d1eea3d8",
   "metadata": {},
   "outputs": [],
   "source": [
    "#     \"updateTime\": \"2021-04-28T18:50:49.000\",\n",
    "body = {\n",
    "    \"status\": \"DF\",\n",
    "    \"updateBy\": \"ParcelUpdateDriverTest\",\n",
    "    \"undeliveredReason\": \"OT\",\n",
    "    \"comments\":\"localhost\"\n",
    "}"
   ]
  },
  {
   "cell_type": "code",
   "execution_count": 13,
   "id": "f91b456a",
   "metadata": {},
   "outputs": [
    {
     "data": {
      "text/plain": [
       "'{\"message\":\"Unauthorized\"}'"
      ]
     },
     "execution_count": 13,
     "metadata": {},
     "output_type": "execute_result"
    }
   ],
   "source": [
    "res = req.post(url, json = body)\n",
    "res.text"
   ]
  },
  {
   "cell_type": "code",
   "execution_count": null,
   "id": "8fdbde95",
   "metadata": {},
   "outputs": [],
   "source": []
  },
  {
   "cell_type": "code",
   "execution_count": null,
   "id": "14b4dbbe",
   "metadata": {},
   "outputs": [],
   "source": []
  },
  {
   "cell_type": "code",
   "execution_count": null,
   "id": "f723b54d",
   "metadata": {},
   "outputs": [],
   "source": []
  },
  {
   "cell_type": "code",
   "execution_count": null,
   "id": "43fa5e91",
   "metadata": {},
   "outputs": [],
   "source": []
  },
  {
   "cell_type": "code",
   "execution_count": null,
   "id": "986a2227",
   "metadata": {},
   "outputs": [],
   "source": []
  }
 ],
 "metadata": {
  "kernelspec": {
   "display_name": "Python 3",
   "language": "python",
   "name": "python3"
  },
  "language_info": {
   "codemirror_mode": {
    "name": "ipython",
    "version": 3
   },
   "file_extension": ".py",
   "mimetype": "text/x-python",
   "name": "python",
   "nbconvert_exporter": "python",
   "pygments_lexer": "ipython3",
   "version": "3.6.9"
  }
 },
 "nbformat": 4,
 "nbformat_minor": 5
}
