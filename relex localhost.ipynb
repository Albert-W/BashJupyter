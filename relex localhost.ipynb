{
 "cells": [
  {
   "cell_type": "code",
   "execution_count": 1,
   "id": "69b2c40e",
   "metadata": {},
   "outputs": [],
   "source": [
    "import requests as req"
   ]
  },
  {
   "cell_type": "code",
   "execution_count": 2,
   "id": "a2baa44f",
   "metadata": {},
   "outputs": [],
   "source": [
    "baseurl = 'http://localhost:5000'"
   ]
  },
  {
   "cell_type": "code",
   "execution_count": 3,
   "id": "09aaf687",
   "metadata": {},
   "outputs": [
    {
     "data": {
      "text/plain": [
       "[{'original_parcel_id': 'YT2032421266102769',\n",
       "  'parcel_id': 'RX00001117',\n",
       "  'update_time': '2021-05-13 12:52:15',\n",
       "  'status': 'DELIVERING',\n",
       "  'update_by': 'Place Holder'},\n",
       " {'original_parcel_id': 'YT2032421266102769',\n",
       "  'parcel_id': 'RX00001117',\n",
       "  'update_time': '2021-05-16 18:49:18',\n",
       "  'status': 'DELIVERED',\n",
       "  'update_by': 'Place Holder'},\n",
       " {'original_parcel_id': 'YT2032421266102769',\n",
       "  'parcel_id': 'RX00001117',\n",
       "  'update_time': '2021-05-18 17:30:43',\n",
       "  'status': 'RETURNED',\n",
       "  'update_by': 'Place Holder'},\n",
       " {'original_parcel_id': 'YT2032421266102769',\n",
       "  'parcel_id': 'RX00001117',\n",
       "  'update_time': '2021-05-18 17:41:02',\n",
       "  'status': 'DELIVERING',\n",
       "  'update_by': 'Place Holder'},\n",
       " {'original_parcel_id': 'YT2032421266102769',\n",
       "  'parcel_id': 'RX00001117',\n",
       "  'update_time': '2021-05-18 17:42:08',\n",
       "  'status': 'RETURNED',\n",
       "  'update_by': 'Place Holder'},\n",
       " {'original_parcel_id': 'YT2032421266102769',\n",
       "  'parcel_id': 'RX00001117',\n",
       "  'update_time': '2021-05-18 17:45:05',\n",
       "  'status': 'DELIVERING',\n",
       "  'update_by': 'Place Holder'},\n",
       " {'original_parcel_id': 'YT2032421266102769',\n",
       "  'parcel_id': 'RX00001117',\n",
       "  'update_time': '2021-05-18 17:45:48',\n",
       "  'status': 'RETURNED',\n",
       "  'update_by': 'Place Holder'},\n",
       " {'original_parcel_id': 'YT2032421266102769',\n",
       "  'parcel_id': 'RX00001117',\n",
       "  'update_time': '2021-05-18 17:45:54',\n",
       "  'status': 'DELIVERING',\n",
       "  'update_by': 'Place Holder'},\n",
       " {'original_parcel_id': 'YT2032421266102769',\n",
       "  'parcel_id': 'RX00001117',\n",
       "  'update_time': '2021-05-18 17:46:03',\n",
       "  'status': 'RETURNED',\n",
       "  'update_by': 'Place Holder'},\n",
       " {'original_parcel_id': 'YT2032421266102769',\n",
       "  'parcel_id': 'RX00001117',\n",
       "  'update_time': '2021-05-18 17:46:09',\n",
       "  'status': 'DELIVERING',\n",
       "  'update_by': 'Place Holder'},\n",
       " {'original_parcel_id': 'YT2032421266102769',\n",
       "  'parcel_id': 'RX00001117',\n",
       "  'update_time': '2021-05-18 18:11:32',\n",
       "  'status': 'DELIVERED',\n",
       "  'update_by': 'Place Holder'},\n",
       " {'original_parcel_id': 'YT2032421266102769',\n",
       "  'parcel_id': 'RX00001117',\n",
       "  'update_time': '2021-05-18 18:15:25',\n",
       "  'status': 'DELIVERY FAILED',\n",
       "  'update_by': 'Place Holder'},\n",
       " {'original_parcel_id': 'YT2032421266102769',\n",
       "  'parcel_id': 'RX00001117',\n",
       "  'update_time': '2021-05-18 18:15:45',\n",
       "  'status': 'DELIVERED',\n",
       "  'update_by': 'Place Holder'},\n",
       " {'original_parcel_id': 'YT2032421266102769',\n",
       "  'parcel_id': 'RX00001117',\n",
       "  'update_time': '2021-05-18 18:16:11',\n",
       "  'status': 'RETURNED',\n",
       "  'update_by': 'Place Holder'},\n",
       " {'original_parcel_id': 'YT2032421266102769',\n",
       "  'parcel_id': 'RX00001117',\n",
       "  'update_time': '2021-05-18 18:17:05',\n",
       "  'status': 'DELIVERING',\n",
       "  'update_by': 'Place Holder'},\n",
       " {'original_parcel_id': 'YT2032421266102769',\n",
       "  'parcel_id': 'RX00001117',\n",
       "  'update_time': '2021-05-18 18:17:15',\n",
       "  'status': 'DELIVERY FAILED',\n",
       "  'update_by': 'Place Holder'},\n",
       " {'original_parcel_id': 'YT2032421266102769',\n",
       "  'parcel_id': 'RX00001117',\n",
       "  'update_time': '2021-05-18 18:18:25',\n",
       "  'status': 'RETURNED',\n",
       "  'update_by': 'Place Holder'},\n",
       " {'original_parcel_id': 'YT2032421266102769',\n",
       "  'parcel_id': 'RX00001117',\n",
       "  'update_time': '2021-05-18 18:20:37',\n",
       "  'status': 'DELIVERING',\n",
       "  'update_by': 'Place Holder'},\n",
       " {'original_parcel_id': 'YT2032421266102769',\n",
       "  'parcel_id': 'RX00001117',\n",
       "  'update_time': '2021-05-18 18:20:51',\n",
       "  'status': 'RETURNED',\n",
       "  'update_by': 'Place Holder'},\n",
       " {'original_parcel_id': 'YT2032421266102769',\n",
       "  'parcel_id': 'RX00001117',\n",
       "  'update_time': '2021-05-18 18:22:59',\n",
       "  'status': 'DELIVERING',\n",
       "  'update_by': 'Place Holder'},\n",
       " {'original_parcel_id': 'YT2032421266102769',\n",
       "  'parcel_id': 'RX00001117',\n",
       "  'update_time': '2021-05-18 18:23:10',\n",
       "  'status': 'DELIVERED',\n",
       "  'update_by': 'Place Holder'},\n",
       " {'original_parcel_id': 'YT2032421266102769',\n",
       "  'parcel_id': 'RX00001117',\n",
       "  'update_time': '2021-05-18 18:24:07',\n",
       "  'status': 'DELIVERY FAILED',\n",
       "  'update_by': 'Place Holder'},\n",
       " {'original_parcel_id': 'YT2032421266102769',\n",
       "  'parcel_id': 'RX00001117',\n",
       "  'update_time': '2021-05-18 18:24:26',\n",
       "  'status': 'DELIVERING',\n",
       "  'update_by': 'Place Holder'},\n",
       " {'original_parcel_id': 'YT2032421266102769',\n",
       "  'parcel_id': 'RX00001117',\n",
       "  'update_time': '2021-05-18 18:24:37',\n",
       "  'status': 'DELIVERED',\n",
       "  'update_by': 'Place Holder'},\n",
       " {'original_parcel_id': 'YT2032421266102769',\n",
       "  'parcel_id': 'RX00001117',\n",
       "  'update_time': '2021-05-18 18:26:14',\n",
       "  'status': 'DELIVERY FAILED',\n",
       "  'update_by': 'Place Holder'},\n",
       " {'original_parcel_id': 'YT2032421266102769',\n",
       "  'parcel_id': 'RX00001117',\n",
       "  'update_time': '2021-05-18 18:26:22',\n",
       "  'status': 'DELIVERING',\n",
       "  'update_by': 'Place Holder'},\n",
       " {'original_parcel_id': 'YT2032421266102769',\n",
       "  'parcel_id': 'RX00001117',\n",
       "  'update_time': '2021-05-18 18:27:12',\n",
       "  'status': 'DELIVERY FAILED',\n",
       "  'update_by': 'Place Holder'},\n",
       " {'original_parcel_id': 'YT2032421266102769',\n",
       "  'parcel_id': 'RX00001117',\n",
       "  'update_time': '2021-05-18 18:28:18',\n",
       "  'status': 'DELIVERING',\n",
       "  'update_by': 'Place Holder'},\n",
       " {'original_parcel_id': 'YT2032421266102769',\n",
       "  'parcel_id': 'RX00001117',\n",
       "  'update_time': '2021-05-18 18:32:17',\n",
       "  'status': 'DELIVERY FAILED',\n",
       "  'update_by': 'Place Holder'},\n",
       " {'original_parcel_id': 'YT2032421266102769',\n",
       "  'parcel_id': 'RX00001117',\n",
       "  'update_time': '2021-05-18 18:32:43',\n",
       "  'status': 'DELIVERED',\n",
       "  'update_by': 'Place Holder'},\n",
       " {'original_parcel_id': 'YT2032421266102769',\n",
       "  'parcel_id': 'RX00001117',\n",
       "  'update_time': '2021-05-18 18:32:54',\n",
       "  'status': 'DELIVERY FAILED',\n",
       "  'update_by': 'Place Holder'},\n",
       " {'original_parcel_id': 'YT2032421266102769',\n",
       "  'parcel_id': 'RX00001117',\n",
       "  'update_time': '2021-05-18 18:34:19',\n",
       "  'status': 'DELIVERING',\n",
       "  'update_by': 'Place Holder'},\n",
       " {'original_parcel_id': 'YT2032421266102769',\n",
       "  'parcel_id': 'RX00001117',\n",
       "  'update_time': '2021-05-18 18:36:12',\n",
       "  'status': 'DELIVERY FAILED',\n",
       "  'update_by': 'Place Holder'},\n",
       " {'original_parcel_id': 'YT2032421266102769',\n",
       "  'parcel_id': 'RX00001117',\n",
       "  'update_time': '2021-05-18 18:52:53',\n",
       "  'status': 'DELIVERING',\n",
       "  'update_by': 'Place Holder'},\n",
       " {'original_parcel_id': 'YT2032421266102769',\n",
       "  'parcel_id': 'RX00001117',\n",
       "  'update_time': '2021-05-18 19:28:10',\n",
       "  'status': 'DELIVERY FAILED',\n",
       "  'update_by': 'Place Holder'},\n",
       " {'original_parcel_id': 'YT2032421266102769',\n",
       "  'parcel_id': 'RX00001117',\n",
       "  'update_time': '2021-05-22 16:58:51',\n",
       "  'status': 'DELIVERED',\n",
       "  'update_by': 'u1'},\n",
       " {'original_parcel_id': 'YT2032421266102769',\n",
       "  'parcel_id': 'RX00001117',\n",
       "  'update_time': '2021-05-26 00:13:16',\n",
       "  'status': 'DELIVERY FAILED',\n",
       "  'update_by': 'u1',\n",
       "  'undelivered_reason': 'The item(s) in the parcel are broken'},\n",
       " {'original_parcel_id': 'YT2032421266102769',\n",
       "  'parcel_id': 'RX00001117',\n",
       "  'update_time': '2021-05-26 00:14:14',\n",
       "  'status': 'DELIVERED',\n",
       "  'update_by': 'u1'},\n",
       " {'original_parcel_id': 'YT2032421266102769',\n",
       "  'parcel_id': 'RX00001117',\n",
       "  'update_time': '2021-09-02 02:32:26',\n",
       "  'status': 'DELIVERING',\n",
       "  'update_by': 'u1'},\n",
       " {'original_parcel_id': 'YT2032421266102769',\n",
       "  'parcel_id': 'RX00001117',\n",
       "  'update_time': '2021-09-06 21:35:45',\n",
       "  'status': 'DELIVERY FAILED',\n",
       "  'update_by': 'u1',\n",
       "  'undelivered_reason': 'The item(s) in the parcel are broken'},\n",
       " {'original_parcel_id': 'YT2032421266102769',\n",
       "  'parcel_id': 'RX00001117',\n",
       "  'update_time': '2021-09-06 22:15:55',\n",
       "  'status': 'DELIVERING',\n",
       "  'update_by': 'u1'},\n",
       " {'original_parcel_id': 'YT2032421266102769',\n",
       "  'parcel_id': 'RX00001117',\n",
       "  'update_time': '2021-09-06 22:24:48',\n",
       "  'status': 'DELIVERED',\n",
       "  'update_by': 'u1'},\n",
       " {'original_parcel_id': 'YT2032421266102769',\n",
       "  'parcel_id': 'RX00001117',\n",
       "  'update_time': '2021-09-06 22:56:44',\n",
       "  'status': 'DELIVERING',\n",
       "  'update_by': 'u1'},\n",
       " {'original_parcel_id': 'YT2032421266102769',\n",
       "  'parcel_id': 'RX00001117',\n",
       "  'update_time': '2021-10-06 22:03:28',\n",
       "  'status': 'DELIVERED',\n",
       "  'update_by': 'u1'},\n",
       " {'original_parcel_id': 'YT2032421266102769',\n",
       "  'parcel_id': 'RX00001117',\n",
       "  'update_time': '2021-10-06 22:03:28',\n",
       "  'status': 'DELIVERING',\n",
       "  'update_by': 'u1'},\n",
       " {'original_parcel_id': 'YT2032421266102769',\n",
       "  'parcel_id': 'RX00001117',\n",
       "  'update_time': '2021-10-26 20:38:52',\n",
       "  'status': 'DELIVERED',\n",
       "  'update_by': 'u1'},\n",
       " {'original_parcel_id': 'YT2032421266102769',\n",
       "  'parcel_id': 'RX00001117',\n",
       "  'update_time': '2021-10-26 20:39:30',\n",
       "  'status': 'DELIVERY FAILED',\n",
       "  'update_by': 'u1',\n",
       "  'undelivered_reason': 'No one at home when delivery'},\n",
       " {'original_parcel_id': 'YT2032421266102769',\n",
       "  'parcel_id': 'RX00001117',\n",
       "  'update_time': '2021-10-26 20:38:52',\n",
       "  'status': 'DELIVERY FAILED',\n",
       "  'update_by': 'u1',\n",
       "  'undelivered_reason': 'No one at home when delivery'},\n",
       " {'original_parcel_id': 'YT2032421266102769',\n",
       "  'parcel_id': 'RX00001117',\n",
       "  'update_time': '2021-10-26 20:38:52',\n",
       "  'status': 'DELIVERY FAILED',\n",
       "  'update_by': 'u1',\n",
       "  'undelivered_reason': 'No one at home when delivery'},\n",
       " {'original_parcel_id': 'YT2032421266102769',\n",
       "  'parcel_id': 'RX00001117',\n",
       "  'update_time': '2021-10-26 20:52:27',\n",
       "  'status': 'DELIVERING',\n",
       "  'update_by': 'u1'},\n",
       " {'original_parcel_id': 'YT2032421266102769',\n",
       "  'parcel_id': 'RX00001117',\n",
       "  'update_time': '2021-10-26 21:53:12',\n",
       "  'status': 'DELIVERED',\n",
       "  'update_by': 'u1'},\n",
       " {'original_parcel_id': 'YT2032421266102769',\n",
       "  'parcel_id': 'RX00001117',\n",
       "  'update_time': '2021-10-26 21:53:23',\n",
       "  'status': 'DELIVERY FAILED',\n",
       "  'update_by': 'u1',\n",
       "  'undelivered_reason': 'The item(s) in the parcel are broken'},\n",
       " {'original_parcel_id': 'YT2032421266102769',\n",
       "  'parcel_id': 'RX00001117',\n",
       "  'update_time': '2021-10-26 21:53:20',\n",
       "  'status': 'DELIVERED',\n",
       "  'update_by': 'u1'},\n",
       " {'original_parcel_id': 'YT2032421266102769',\n",
       "  'parcel_id': 'RX00001117',\n",
       "  'update_time': '2021-10-26 21:53:17',\n",
       "  'status': 'DELIVERY FAILED',\n",
       "  'update_by': 'u1',\n",
       "  'undelivered_reason': 'The item(s) in the parcel are broken'},\n",
       " {'original_parcel_id': 'YT2032421266102769',\n",
       "  'parcel_id': 'RX00001117',\n",
       "  'update_time': '2021-10-26 21:53:17',\n",
       "  'status': 'DELIVERY FAILED',\n",
       "  'update_by': 'u1',\n",
       "  'undelivered_reason': 'The item(s) in the parcel are broken'},\n",
       " {'original_parcel_id': 'YT2032421266102769',\n",
       "  'parcel_id': 'RX00001117',\n",
       "  'update_time': '2021-10-26 21:53:12',\n",
       "  'status': 'DELIVERY FAILED',\n",
       "  'update_by': 'u1',\n",
       "  'undelivered_reason': 'The item(s) in the parcel are broken'},\n",
       " {'original_parcel_id': 'YT2032421266102769',\n",
       "  'parcel_id': 'RX00001117',\n",
       "  'update_time': '2021-10-26 21:53:20',\n",
       "  'status': 'DELIVERY FAILED',\n",
       "  'update_by': 'u1',\n",
       "  'undelivered_reason': 'The item(s) in the parcel are broken'},\n",
       " {'original_parcel_id': 'YT2032421266102769',\n",
       "  'parcel_id': 'RX00001117',\n",
       "  'update_time': '2021-10-26 21:53:17',\n",
       "  'status': 'DELIVERY FAILED',\n",
       "  'update_by': 'u1',\n",
       "  'undelivered_reason': 'The item(s) in the parcel are broken'},\n",
       " {'original_parcel_id': 'YT2032421266102769',\n",
       "  'parcel_id': 'RX00001117',\n",
       "  'update_time': '2021-10-26 21:53:12',\n",
       "  'status': 'DELIVERY FAILED',\n",
       "  'update_by': 'u1',\n",
       "  'undelivered_reason': 'The item(s) in the parcel are broken'},\n",
       " {'original_parcel_id': 'YT2032421266102769',\n",
       "  'parcel_id': 'RX00001117',\n",
       "  'update_time': '2021-10-26 21:53:12',\n",
       "  'status': 'DELIVERY FAILED',\n",
       "  'update_by': 'u1',\n",
       "  'undelivered_reason': 'The item(s) in the parcel are broken'},\n",
       " {'original_parcel_id': 'YT2032421266102769',\n",
       "  'parcel_id': 'RX00001117',\n",
       "  'update_time': '2021-10-26 21:53:17',\n",
       "  'status': 'DELIVERY FAILED',\n",
       "  'update_by': 'u1',\n",
       "  'undelivered_reason': 'The item(s) in the parcel are broken'},\n",
       " {'original_parcel_id': 'YT2032421266102769',\n",
       "  'parcel_id': 'RX00001117',\n",
       "  'update_time': '2021-10-26 21:53:12',\n",
       "  'status': 'DELIVERY FAILED',\n",
       "  'update_by': 'u1',\n",
       "  'undelivered_reason': 'The item(s) in the parcel are broken'},\n",
       " {'original_parcel_id': 'YT2032421266102769',\n",
       "  'parcel_id': 'RX00001117',\n",
       "  'update_time': '2021-10-26 21:53:12',\n",
       "  'status': 'DELIVERY FAILED',\n",
       "  'update_by': 'u1',\n",
       "  'undelivered_reason': 'The item(s) in the parcel are broken'}]"
      ]
     },
     "execution_count": 3,
     "metadata": {},
     "output_type": "execute_result"
    }
   ],
   "source": [
    "url = baseurl + '/integration/parcels/status?parcelId=YT2032421266102769'\n",
    "\n",
    "result = req.get(url)\n",
    "result.json()"
   ]
  },
  {
   "cell_type": "code",
   "execution_count": 4,
   "id": "60790cff",
   "metadata": {},
   "outputs": [],
   "source": [
    "url = baseurl + '/integration/parcels/init'"
   ]
  },
  {
   "cell_type": "code",
   "execution_count": 9,
   "id": "2d3e91b1",
   "metadata": {},
   "outputs": [],
   "source": [
    "body = {\n",
    "    \"originalParcelId\": \"K6TestParcelId\",\n",
    "    \"shipping_date\": \"2021-04-03T19:02:22.768Z\",\n",
    "    \"create_date\": \"2021-04-03T19:02:22.768Z\",\n",
    "    \"carrier\": \"Relex Logistic\",\n",
    "    \"order_number\": \"\",\n",
    "    \"comments\": \"\",\n",
    "    \"parcel_value\": 2,\n",
    "    \"parcel_value_currency\": \"EURO\",\n",
    "    \"parcel_width\": 1,\n",
    "    \"parcel_height\": 1,\n",
    "    \"parcel_weight\": 1,\n",
    "    \"parcel_length\": 1,\n",
    "    \"itemQuantity\": 2,\n",
    "    \"recipient\": {\n",
    "        \"name\": \"小明\",\n",
    "        \"first_name\": \"Cierra\",\n",
    "        \"last_name\": \"Daniel\",\n",
    "        \"salutation\": \"Mr\",\n",
    "        \"company_name\": \"Hammes, Ward and Green\",\n",
    "        \"email_address\": \"Garret_Boyer@yahoo.com\",\n",
    "        \"contact_number1\": \"675-879-0566 x810\",\n",
    "        \"contact_number2\": \"825-425-2165 x05795\",\n",
    "        \"address\": {\n",
    "            \"address1\": \"Suite 494\",\n",
    "            \"address2\": \"866 Zula Camp\",\n",
    "            \"address3\": \"Cambridgeshire\",\n",
    "            \"city\": \"Dublin\",\n",
    "            \"state\": \"Co.Dublin\",\n",
    "            \"province\": \"Dublin\",\n",
    "            \"postcode\": \"D17EX03\",\n",
    "            \"country\": \"Ireland\",\n",
    "            \"county\": \"Dublin\"\n",
    "        }\n",
    "    },\n",
    "    \"sender\": {\n",
    "        \"name\":\"haha\",\n",
    "        \"first_name\": \"Cierra\",\n",
    "        \"last_name\": \"Daniel\",\n",
    "        \"salutation\": \"Mr\",\n",
    "        \"company_name\": \"Parisian and Sons\",\n",
    "        \"email_address\": \"Lazaro.Hahn1@gmail.com\",\n",
    "        \"contact_number1\": \"(346) 249-3358\",\n",
    "        \"contact_number2\": \"(701) 243-2304 x573\",\n",
    "        \"address\": {\n",
    "            \"address1\": \"Apt. 409\",\n",
    "            \"address2\": \"94147 Orin Bypass\",\n",
    "            \"address3\": \"Bedfordshire\",\n",
    "            \"city\": \"Beijing\",\n",
    "            \"province\": \"Beijing\",\n",
    "            \"state\": \"Beijing\",\n",
    "            \"postcode\": \"100001\",\n",
    "            \"country\": \"China\",\n",
    "            \"county\": \"\"\n",
    "        }\n",
    "    }\n",
    "}"
   ]
  },
  {
   "cell_type": "code",
   "execution_count": 10,
   "id": "4648996c",
   "metadata": {},
   "outputs": [
    {
     "data": {
      "text/plain": [
       "{'code': 1005,\n",
       " 'message': 'The postcode [D17EX03] of this parcel is out of the carrier [Relex Logistic] delivery range.'}"
      ]
     },
     "execution_count": 10,
     "metadata": {},
     "output_type": "execute_result"
    }
   ],
   "source": [
    "res = req.put(url, json = body)\n",
    "res.json()"
   ]
  },
  {
   "cell_type": "code",
   "execution_count": 75,
   "id": "271d8a8a",
   "metadata": {},
   "outputs": [
    {
     "data": {
      "text/plain": [
       "'RX40569444'"
      ]
     },
     "execution_count": 75,
     "metadata": {},
     "output_type": "execute_result"
    }
   ],
   "source": [
    "parcelId = res.json()['relex_parcel_id']\n",
    "parcelId"
   ]
  },
  {
   "cell_type": "markdown",
   "id": "bea76cbf",
   "metadata": {},
   "source": [
    "### Admin scan a parcel"
   ]
  },
  {
   "cell_type": "code",
   "execution_count": 6,
   "id": "6221cbac",
   "metadata": {},
   "outputs": [],
   "source": [
    "parcelId = \"RX68358430\""
   ]
  },
  {
   "cell_type": "code",
   "execution_count": 11,
   "id": "c23e2bd7",
   "metadata": {},
   "outputs": [
    {
     "data": {
      "text/plain": [
       "\"http://localhost:5000/admin/parcels/RX78895457?username='YC'\""
      ]
     },
     "execution_count": 11,
     "metadata": {},
     "output_type": "execute_result"
    }
   ],
   "source": [
    "url = baseurl + '/admin/parcels/' + parcelId + \"?username='YC'\"\n",
    "url"
   ]
  },
  {
   "cell_type": "code",
   "execution_count": 12,
   "id": "9f77057a",
   "metadata": {},
   "outputs": [
    {
     "data": {
      "text/plain": [
       "{'code': 2002,\n",
       " 'message': \"The current status is DD, which can't be set as arrived.\"}"
      ]
     },
     "execution_count": 12,
     "metadata": {},
     "output_type": "execute_result"
    }
   ],
   "source": [
    "res = req.put(url)\n",
    "res.json()"
   ]
  },
  {
   "cell_type": "markdown",
   "id": "df4efac9",
   "metadata": {},
   "source": [
    "### Driver scan a parcel"
   ]
  },
  {
   "cell_type": "code",
   "execution_count": 78,
   "id": "edcb2da2",
   "metadata": {},
   "outputs": [
    {
     "data": {
      "text/plain": [
       "'http://localhost:5000/driver/parcels/RX92282378?username=u1'"
      ]
     },
     "execution_count": 78,
     "metadata": {},
     "output_type": "execute_result"
    }
   ],
   "source": [
    "parcelId = 'RX92282378'\n",
    "url = baseurl + '/driver/parcels/' + parcelId + \"?username=u1\"\n",
    "url"
   ]
  },
  {
   "cell_type": "code",
   "execution_count": 79,
   "id": "624616de",
   "metadata": {},
   "outputs": [
    {
     "data": {
      "text/plain": [
       "'{\"code\":200,\"message\":\"THE PARCEL STATUS SET TO DELIVERING\"}'"
      ]
     },
     "execution_count": 79,
     "metadata": {},
     "output_type": "execute_result"
    }
   ],
   "source": [
    "res = req.put(url)\n",
    "res.text"
   ]
  },
  {
   "cell_type": "markdown",
   "id": "424f70a0",
   "metadata": {},
   "source": [
    "### Driver get their list"
   ]
  },
  {
   "cell_type": "code",
   "execution_count": 82,
   "id": "5223c4a3",
   "metadata": {},
   "outputs": [
    {
     "data": {
      "text/plain": [
       "'http://localhost:5000/parcels/YC'"
      ]
     },
     "execution_count": 82,
     "metadata": {},
     "output_type": "execute_result"
    }
   ],
   "source": [
    "url = baseurl + '/parcels/' + \"YC\"\n",
    "url"
   ]
  },
  {
   "cell_type": "code",
   "execution_count": 83,
   "id": "5143b44e",
   "metadata": {},
   "outputs": [
    {
     "data": {
      "text/plain": [
       "[{'id': 3423,\n",
       "  'parcelId': 'RX40569444',\n",
       "  'status': 'DI',\n",
       "  'updateBy': 'YC',\n",
       "  'updateTime': '2021-06-26T10:43:17.000+00:00'},\n",
       " {'id': 3420,\n",
       "  'parcelId': 'RX86637449',\n",
       "  'status': 'DI',\n",
       "  'updateBy': 'YC',\n",
       "  'updateTime': '2021-06-26T09:36:51.000+00:00'},\n",
       " {'id': 197,\n",
       "  'parcelId': 'RX42049983',\n",
       "  'status': 'DI',\n",
       "  'updateBy': 'YC',\n",
       "  'updateTime': '2021-05-18T19:42:31.000+00:00'},\n",
       " {'id': 138,\n",
       "  'parcelId': 'RX72859595',\n",
       "  'status': 'DI',\n",
       "  'updateBy': 'YC',\n",
       "  'updateTime': '2021-05-17T20:35:07.000+00:00'},\n",
       " {'id': 76,\n",
       "  'parcelId': 'RX36256467',\n",
       "  'status': 'DI',\n",
       "  'updateBy': 'YC',\n",
       "  'updateTime': '2021-05-05T21:10:12.000+00:00'},\n",
       " {'id': 61,\n",
       "  'parcelId': 'RX20806521',\n",
       "  'status': 'DI',\n",
       "  'updateBy': 'YC',\n",
       "  'updateTime': '2021-05-05T20:34:45.000+00:00'},\n",
       " {'id': 60,\n",
       "  'parcelId': 'RX44848452',\n",
       "  'status': 'DD',\n",
       "  'updateBy': 'YC',\n",
       "  'updateTime': '2021-05-03T19:25:00.000+00:00'},\n",
       " {'id': 59,\n",
       "  'parcelId': 'RX57110387',\n",
       "  'status': 'DF',\n",
       "  'updateBy': 'YC',\n",
       "  'updateTime': '2021-05-03T08:49:28.000+00:00',\n",
       "  'undeliveredReason': 'NH'},\n",
       " {'id': 50,\n",
       "  'parcelId': 'RX72695829',\n",
       "  'status': 'DD',\n",
       "  'updateBy': 'YC',\n",
       "  'updateTime': '2021-05-01T16:04:03.000+00:00'},\n",
       " {'id': 42,\n",
       "  'parcelId': 'RX21490659',\n",
       "  'status': 'DD',\n",
       "  'updateBy': 'YC',\n",
       "  'updateTime': '2021-05-01T15:35:04.000+00:00'},\n",
       " {'id': 33,\n",
       "  'parcelId': 'parcel_0001',\n",
       "  'status': 'RE',\n",
       "  'updateBy': 'YC',\n",
       "  'updateTime': '2021-05-01T09:56:21.000+00:00',\n",
       "  'undeliveredReason': 'OT'},\n",
       " {'id': 14,\n",
       "  'parcelId': 'parcel_0002',\n",
       "  'status': 'DF',\n",
       "  'updateBy': 'YC',\n",
       "  'comments': 'Wonderful',\n",
       "  'updateTime': '2021-04-28T18:50:49.000+00:00'}]"
      ]
     },
     "execution_count": 83,
     "metadata": {},
     "output_type": "execute_result"
    }
   ],
   "source": [
    "res = req.get(url)\n",
    "res.json()"
   ]
  },
  {
   "cell_type": "markdown",
   "id": "358c3f58",
   "metadata": {},
   "source": [
    "### Sync"
   ]
  },
  {
   "cell_type": "code",
   "execution_count": 40,
   "id": "81c2d9d2",
   "metadata": {},
   "outputs": [],
   "source": [
    "url = baseurl + '/sync/'"
   ]
  },
  {
   "cell_type": "code",
   "execution_count": 43,
   "id": "8767e07c",
   "metadata": {},
   "outputs": [],
   "source": [
    "body = {\n",
    "    \"parcelId\": \"RX00001111\",\n",
    "    \"status\": \"DF\",\n",
    "    \"updateBy\": \"u1\",\n",
    "    \"updateTime\": \"2021-04-28T18:50:49.000\",\n",
    "    \"undeliveredReason\": \"No one at home\",\n",
    "    \"comments\":\"no comments yet\"\n",
    "}"
   ]
  },
  {
   "cell_type": "code",
   "execution_count": 44,
   "id": "02c8a8f0",
   "metadata": {},
   "outputs": [
    {
     "data": {
      "text/plain": [
       "'{\"code\":200,\"message\":\"Status is updated to: DELIVERY FAILED\"}'"
      ]
     },
     "execution_count": 44,
     "metadata": {},
     "output_type": "execute_result"
    }
   ],
   "source": [
    "res = req.put(url, json = body)\n",
    "res.text"
   ]
  },
  {
   "cell_type": "markdown",
   "id": "7dfbe4ae",
   "metadata": {},
   "source": [
    "### Update Status\n",
    "/parcels/status/{parcelId}"
   ]
  },
  {
   "cell_type": "code",
   "execution_count": 31,
   "id": "7a2780e9",
   "metadata": {},
   "outputs": [],
   "source": [
    "parcelId = 'RX95245607'\n",
    "url = baseurl + '/parcels/status/' + parcelId"
   ]
  },
  {
   "cell_type": "code",
   "execution_count": 32,
   "id": "63da40aa",
   "metadata": {},
   "outputs": [],
   "source": [
    "body = {\n",
    "    \"status\": \"DF\",\n",
    "    \"updateBy\": \"ParcelUpdateDriverTest\",\n",
    "    \"updateTime\": \"2021-04-28T18:50:49.000\",\n",
    "    \"undeliveredReason\": \"OT\",\n",
    "    \"comments\":\"localhost\"\n",
    "}"
   ]
  },
  {
   "cell_type": "code",
   "execution_count": 33,
   "id": "99692d06",
   "metadata": {},
   "outputs": [
    {
     "data": {
      "text/plain": [
       "'{\"code\":200,\"message\":\"Status is updated to: DELIVERY FAILED\"}'"
      ]
     },
     "execution_count": 33,
     "metadata": {},
     "output_type": "execute_result"
    }
   ],
   "source": [
    "res = req.post(url, json = body)\n",
    "res.text"
   ]
  },
  {
   "cell_type": "markdown",
   "id": "7b92e217",
   "metadata": {},
   "source": [
    "### Check Status"
   ]
  },
  {
   "cell_type": "code",
   "execution_count": 70,
   "id": "c669d9e6",
   "metadata": {},
   "outputs": [],
   "source": [
    "parcelId = 'RX95245607'\n",
    "url = baseurl + '/parcels/status/' + parcelId"
   ]
  },
  {
   "cell_type": "code",
   "execution_count": 71,
   "id": "96931e56",
   "metadata": {},
   "outputs": [
    {
     "data": {
      "text/plain": [
       "'{\"code\":200,\"message\":\"The current Status is: DELIVERY FAILED\"}'"
      ]
     },
     "execution_count": 71,
     "metadata": {},
     "output_type": "execute_result"
    }
   ],
   "source": [
    "res = req.get(url)\n",
    "res.text"
   ]
  },
  {
   "cell_type": "markdown",
   "id": "ee28fbd3",
   "metadata": {},
   "source": [
    "### Web update status"
   ]
  },
  {
   "cell_type": "code",
   "execution_count": 53,
   "id": "04674d4d",
   "metadata": {},
   "outputs": [],
   "source": [
    "parcelId = 'RX95245607'\n",
    "url = baseurl + '/web/parcels/status/' + parcelId"
   ]
  },
  {
   "cell_type": "code",
   "execution_count": 80,
   "id": "d1eea3d8",
   "metadata": {},
   "outputs": [],
   "source": [
    "#     \"updateTime\": \"2021-04-28T18:50:49.000\",\n",
    "body = {\n",
    "    \"status\": \"DF\",\n",
    "    \"updateBy\": \"ParcelUpdateDriverTest\",\n",
    "    \"undeliveredReason\": \"OT\",\n",
    "    \"updateTime\": \"2021-04-28T18:50:49\",\n",
    "    \"comments\":\"localhost\"\n",
    "}"
   ]
  },
  {
   "cell_type": "code",
   "execution_count": 22,
   "id": "f91b456a",
   "metadata": {},
   "outputs": [
    {
     "ename": "NameError",
     "evalue": "name 'body' is not defined",
     "output_type": "error",
     "traceback": [
      "\u001b[0;31m---------------------------------------------------------------------------\u001b[0m",
      "\u001b[0;31mNameError\u001b[0m                                 Traceback (most recent call last)",
      "\u001b[0;32m<ipython-input-22-0c5fcdb50002>\u001b[0m in \u001b[0;36m<module>\u001b[0;34m\u001b[0m\n\u001b[0;32m----> 1\u001b[0;31m \u001b[0mres\u001b[0m \u001b[0;34m=\u001b[0m \u001b[0mreq\u001b[0m\u001b[0;34m.\u001b[0m\u001b[0mpost\u001b[0m\u001b[0;34m(\u001b[0m\u001b[0murl\u001b[0m\u001b[0;34m,\u001b[0m \u001b[0mjson\u001b[0m \u001b[0;34m=\u001b[0m \u001b[0mbody\u001b[0m\u001b[0;34m)\u001b[0m\u001b[0;34m\u001b[0m\u001b[0;34m\u001b[0m\u001b[0m\n\u001b[0m\u001b[1;32m      2\u001b[0m \u001b[0mres\u001b[0m\u001b[0;34m.\u001b[0m\u001b[0mtext\u001b[0m\u001b[0;34m\u001b[0m\u001b[0;34m\u001b[0m\u001b[0m\n",
      "\u001b[0;31mNameError\u001b[0m: name 'body' is not defined"
     ]
    }
   ],
   "source": [
    "res = req.post(url, json = body)\n",
    "res.text"
   ]
  },
  {
   "cell_type": "markdown",
   "id": "34f26d9b",
   "metadata": {},
   "source": [
    "### Web search parcel"
   ]
  },
  {
   "cell_type": "code",
   "execution_count": 133,
   "id": "8fdbde95",
   "metadata": {},
   "outputs": [
    {
     "data": {
      "text/plain": [
       "<Response [200]>"
      ]
     },
     "execution_count": 133,
     "metadata": {},
     "output_type": "execute_result"
    }
   ],
   "source": [
    "url = baseurl + '/web/parcels/search?startDate=20210402&&endDate=2021-11-28T18:50'\n",
    "\n",
    "result = req.get(url)\n",
    "result"
   ]
  },
  {
   "cell_type": "code",
   "execution_count": 134,
   "id": "14b4dbbe",
   "metadata": {},
   "outputs": [
    {
     "name": "stdout",
     "output_type": "stream",
     "text": [
      "[{\"originalParcelId\":\"RL1eggf83050106\",\"parcelId\":\"RX59435911\",\"statusCode\":\"DELIVERING\",\"updateTime\":\"2021-05-09T17:36:11.000+00:00\",\"updateBy\":\"Place Holder\",\"statusComments\":null,\"undeliveredReason\":null},{\"originalParcelId\":\"RL1eggf83050107\",\"parcelId\":\"RX57110387\",\"statusCode\":\"RETURNED\",\"updateTime\":\"2021-05-12T04:58:29.000+00:00\",\"updateBy\":\"Place Holder\",\"statusComments\":\"haha\",\"undeliveredReason\":\"\"},{\"originalParcelId\":\"Parcel001\",\"parcelId\":\"RX22334455\",\"statusCode\":\"DELIVERED\",\"updateTime\":\"2021-05-12T16:03:27.000+00:00\",\"updateBy\":\"Place Holder\",\"statusComments\":\"\",\"undeliveredReason\":\"\"},{\"originalParcelId\":\"Parcel02\",\"parcelId\":\"RX01020304\",\"statusCode\":\"RETURNED\",\"updateTime\":\"2021-05-12T16:25:15.000+00:00\",\"updateBy\":\"Place Holder\",\"statusComments\":\"testings \",\"undeliveredReason\":\"\"},{\"originalParcelId\":\"YT2032421266102769\",\"parcelId\":\"RX00000101\",\"statusCode\":\"RETURNED\",\"updateTime\":\"2021-05-19T17:15:37.000+00:00\",\"updateBy\":\"Place Holder\",\"statusComments\":\"???\",\"undeliveredReason\":\"\"},{\"originalParcelId\":\"YT19121621348551\",\"parcelId\":\"RX44766346\",\"statusCode\":\"DELIVERING\",\"updateTime\":\"2021-05-20T08:29:11.000+00:00\",\"updateBy\":\"Place Holder\",\"statusComments\":\"\",\"undeliveredReason\":\"\"},{\"originalParcelId\":\"YT19121621501040\",\"parcelId\":\"RX18073759\",\"statusCode\":\"DELIVERY FAILED\",\"updateTime\":\"2021-05-20T08:44:15.000+00:00\",\"updateBy\":\"Place Holder\",\"statusComments\":\"\",\"undeliveredReason\":\"No one at home when delivery\"},{\"originalParcelId\":\"RL1eggf83050108\",\"parcelId\":\"RX20806521\",\"statusCode\":\"RETURNED\",\"updateTime\":\"2021-05-20T17:58:15.000+00:00\",\"updateBy\":\"Place Holder\",\"statusComments\":\"comments about returned \\n\",\"undeliveredReason\":\"\"},{\"originalParcelId\":\"YT19121621562402\",\"parcelId\":\"RX45768879\",\"statusCode\":\"DELIVERING\",\"updateTime\":\"2021-05-21T07:02:25.000+00:00\",\"updateBy\":\"Place Holder\",\"statusComments\":null,\"undeliveredReason\":null},{\"originalParcelId\":\"RL1eggf83050109\",\"parcelId\":\"RX36256467\",\"statusCode\":\"RETURNED\",\"updateTime\":\"2021-05-22T14:53:10.000+00:00\",\"updateBy\":\"u1\",\"statusComments\":\"questions \",\"undeliveredReason\":\"\"},{\"originalParcelId\":\"RL1eggf83050110\",\"parcelId\":\"RX72859595\",\"statusCode\":\"RETURNED\",\"updateTime\":\"2021-05-22T14:53:20.000+00:00\",\"updateBy\":\"u1\",\"statusComments\":\"\",\"undeliveredReason\":\"\"},{\"originalParcelId\":\"YT19121621330000\",\"parcelId\":\"RX 6243891\",\"statusCode\":\"DELIVERING\",\"updateTime\":\"2021-05-24T10:20:56.000+00:00\",\"updateBy\":\"u2\",\"statusComments\":null,\"undeliveredReason\":null},{\"originalParcelId\":\"YT19121621300002\",\"parcelId\":\"RX65398846\",\"statusCode\":\"DELIVERING\",\"updateTime\":\"2021-05-28T13:35:26.000+00:00\",\"updateBy\":\"U2\",\"statusComments\":null,\"undeliveredReason\":null},{\"originalParcelId\":\"YT19121621300004\",\"parcelId\":\"RX61199340\",\"statusCode\":\"DELIVERING\",\"updateTime\":\"2021-05-28T13:35:32.000+00:00\",\"updateBy\":\"u1\",\"statusComments\":null,\"undeliveredReason\":null},{\"originalParcelId\":\"YT19121621300005\",\"parcelId\":\"RX24147675\",\"statusCode\":\"DELIVERING\",\"updateTime\":\"2021-05-28T13:35:42.000+00:00\",\"updateBy\":\"u1\",\"statusComments\":null,\"undeliveredReason\":null},{\"originalParcelId\":\"YT19121621300007\",\"parcelId\":\"RX52069600\",\"statusCode\":\"DELIVERING\",\"updateTime\":\"2021-05-28T13:35:56.000+00:00\",\"updateBy\":\"u1\",\"statusComments\":null,\"undeliveredReason\":null},{\"originalParcelId\":\"YT19121621300009\",\"parcelId\":\"RX85098839\",\"statusCode\":\"DELIVERING\",\"updateTime\":\"2021-05-28T13:41:04.000+00:00\",\"updateBy\":\"u1\",\"statusComments\":null,\"undeliveredReason\":null},{\"originalParcelId\":\"YT19121621300006\",\"parcelId\":\"RX26551518\",\"statusCode\":\"DELIVERED\",\"updateTime\":\"2021-05-28T14:49:03.000+00:00\",\"updateBy\":\"U2\",\"statusComments\":\"\",\"undeliveredReason\":\"\"},{\"originalParcelId\":\"YT19121621300008\",\"parcelId\":\"RX38871437\",\"statusCode\":\"DELIVERED\",\"updateTime\":\"2021-05-28T14:52:09.000+00:00\",\"updateBy\":\"U2\",\"statusComments\":\"\",\"undeliveredReason\":\"\"},{\"originalParcelId\":\"Parcel03\",\"parcelId\":\"RX00001112\",\"statusCode\":\"RETURNED\",\"updateTime\":\"2021-06-05T07:22:33.000+00:00\",\"updateBy\":\"u1\",\"statusComments\":\"retuenee\",\"undeliveredReason\":\"\"},{\"originalParcelId\":\"RL1eggf827\",\"parcelId\":\"RX19444773\",\"statusCode\":\"ARRIVED\",\"updateTime\":\"2021-07-05T20:31:22.000+00:00\",\"updateBy\":\"admin1\",\"statusComments\":null,\"undeliveredReason\":null},{\"originalParcelId\":\"RL1eggf826\",\"parcelId\":\"RX69088983\",\"statusCode\":\"DELIVERING\",\"updateTime\":\"2021-07-05T20:32:10.000+00:00\",\"updateBy\":\"u2\",\"statusComments\":\"\",\"undeliveredReason\":\"\"},{\"originalParcelId\":\"RL1eggf824\",\"parcelId\":\"RX84618285\",\"statusCode\":\"DELIVERING\",\"updateTime\":\"2021-07-05T20:32:31.000+00:00\",\"updateBy\":\"u2\",\"statusComments\":\"\",\"undeliveredReason\":\"\"},{\"originalParcelId\":\"RL1eggf825\",\"parcelId\":\"RX96228014\",\"statusCode\":\"DELIVERED\",\"updateTime\":\"2021-07-05T20:34:52.000+00:00\",\"updateBy\":\"u2\",\"statusComments\":\"\",\"undeliveredReason\":\"\"},{\"originalParcelId\":\"RL1egg184\",\"parcelId\":\"RX51894635\",\"statusCode\":\"DELIVERING\",\"updateTime\":\"2021-07-06T08:26:08.000+00:00\",\"updateBy\":\"u1\",\"statusComments\":\"\",\"undeliveredReason\":\"\"},{\"originalParcelId\":\"RL1egg182\",\"parcelId\":\"RX30927137\",\"statusCode\":\"DELIVERED\",\"updateTime\":\"2021-07-06T08:26:40.000+00:00\",\"updateBy\":\"u1\",\"statusComments\":\"\",\"undeliveredReason\":\"\"},{\"originalParcelId\":\"RL1egg190\",\"parcelId\":\"RX87328899\",\"statusCode\":\"ARRIVED\",\"updateTime\":\"2021-07-06T08:28:30.000+00:00\",\"updateBy\":\"admin1\",\"statusComments\":null,\"undeliveredReason\":null},{\"originalParcelId\":\"RL1egg187\",\"parcelId\":\"RX39277926\",\"statusCode\":\"ARRIVED\",\"updateTime\":\"2021-07-06T08:28:34.000+00:00\",\"updateBy\":\"admin1\",\"statusComments\":null,\"undeliveredReason\":null},{\"originalParcelId\":\"RL1egg192\",\"parcelId\":\"RX51465646\",\"statusCode\":\"RETURNED\",\"updateTime\":\"2021-07-06T08:33:42.000+00:00\",\"updateBy\":\"admin1\",\"statusComments\":\"\",\"undeliveredReason\":\"\"},{\"originalParcelId\":\"RL1egg186\",\"parcelId\":\"RX90180004\",\"statusCode\":\"DELIVERING\",\"updateTime\":\"2021-07-06T08:34:26.000+00:00\",\"updateBy\":\"u1\",\"statusComments\":\"\",\"undeliveredReason\":\"\"},{\"originalParcelId\":\"RL1egg188\",\"parcelId\":\"RX18211963\",\"statusCode\":\"DELIVERING\",\"updateTime\":\"2021-07-06T08:49:05.000+00:00\",\"updateBy\":\"u1\",\"statusComments\":\"\",\"undeliveredReason\":\"\"},{\"originalParcelId\":\"RL1egg183\",\"parcelId\":\"RX23285982\",\"statusCode\":\"DELIVERED\",\"updateTime\":\"2021-07-24T08:27:11.000+00:00\",\"updateBy\":\"u1\",\"statusComments\":\"\",\"undeliveredReason\":\"\"},{\"originalParcelId\":\"RL1eggf842\",\"parcelId\":\"RX65216371\",\"statusCode\":\"ARRIVED\",\"updateTime\":\"2021-08-06T17:46:28.000+00:00\",\"updateBy\":\"admin1\",\"statusComments\":null,\"undeliveredReason\":null},{\"originalParcelId\":\"RL1eggf833\",\"parcelId\":\"RX10148058\",\"statusCode\":\"ARRIVED\",\"updateTime\":\"2021-08-06T17:47:25.000+00:00\",\"updateBy\":\"admin1\",\"statusComments\":null,\"undeliveredReason\":null},{\"originalParcelId\":\"RL1eggf834\",\"parcelId\":\"RX29403364\",\"statusCode\":\"ARRIVED\",\"updateTime\":\"2021-08-06T17:47:32.000+00:00\",\"updateBy\":\"admin1\",\"statusComments\":null,\"undeliveredReason\":null},{\"originalParcelId\":\"RL1eggf835\",\"parcelId\":\"RX81550680\",\"statusCode\":\"ARRIVED\",\"updateTime\":\"2021-08-06T17:49:39.000+00:00\",\"updateBy\":\"admin1\",\"statusComments\":null,\"undeliveredReason\":null},{\"originalParcelId\":\"RL1eggf836\",\"parcelId\":\"RX13922304\",\"statusCode\":\"ARRIVED\",\"updateTime\":\"2021-08-06T17:49:44.000+00:00\",\"updateBy\":\"admin1\",\"statusComments\":null,\"undeliveredReason\":null},{\"originalParcelId\":\"RL1eggf841\",\"parcelId\":\"RX62170687\",\"statusCode\":\"ARRIVED\",\"updateTime\":\"2021-08-06T17:52:39.000+00:00\",\"updateBy\":\"admin1\",\"statusComments\":null,\"undeliveredReason\":null},{\"originalParcelId\":\"RL1eggf839\",\"parcelId\":\"RX72560008\",\"statusCode\":\"DELIVERED\",\"updateTime\":\"2021-08-06T17:57:13.000+00:00\",\"updateBy\":\"u1\",\"statusComments\":\"\",\"undeliveredReason\":\"\"},{\"originalParcelId\":\"RL1eggf840\",\"parcelId\":\"RX68769211\",\"statusCode\":\"DELIVERY FAILED\",\"updateTime\":\"2021-08-06T17:57:33.000+00:00\",\"updateBy\":\"u1\",\"statusComments\":\"\",\"undeliveredReason\":\"IM\"},{\"originalParcelId\":\"Test531957\",\"parcelId\":\"RX03066569\",\"statusCode\":\"ARRIVED\",\"updateTime\":\"2021-09-07T12:38:58.000+00:00\",\"updateBy\":\"admin1\",\"statusComments\":null,\"undeliveredReason\":null},{\"originalParcelId\":\"Test452121\",\"parcelId\":\"RX43738371\",\"statusCode\":\"ARRIVED\",\"updateTime\":\"2021-09-07T12:40:00.000+00:00\",\"updateBy\":\"admin1\",\"statusComments\":null,\"undeliveredReason\":null},{\"originalParcelId\":\"Test342704\",\"parcelId\":\"RX18654414\",\"statusCode\":\"ARRIVED\",\"updateTime\":\"2021-09-07T12:40:03.000+00:00\",\"updateBy\":\"admin1\",\"statusComments\":null,\"undeliveredReason\":null},{\"originalParcelId\":\"Test849540\",\"parcelId\":\"RX43592055\",\"statusCode\":\"ARRIVED\",\"updateTime\":\"2021-09-07T12:40:07.000+00:00\",\"updateBy\":\"admin1\",\"statusComments\":null,\"undeliveredReason\":null},{\"originalParcelId\":\"Test940134\",\"parcelId\":\"RX88812218\",\"statusCode\":\"ARRIVED\",\"updateTime\":\"2021-09-07T12:40:11.000+00:00\",\"updateBy\":\"admin1\",\"statusComments\":null,\"undeliveredReason\":null},{\"originalParcelId\":\"Test760880\",\"parcelId\":\"RX71402472\",\"statusCode\":\"ARRIVED\",\"updateTime\":\"2021-09-07T12:40:15.000+00:00\",\"updateBy\":\"admin1\",\"statusComments\":null,\"undeliveredReason\":null},{\"originalParcelId\":\"Test449844\",\"parcelId\":\"RX23960681\",\"statusCode\":\"ARRIVED\",\"updateTime\":\"2021-09-07T12:40:52.000+00:00\",\"updateBy\":\"admin1\",\"statusComments\":null,\"undeliveredReason\":null},{\"originalParcelId\":\"Test720269\",\"parcelId\":\"RX30023520\",\"statusCode\":\"ARRIVED\",\"updateTime\":\"2021-09-07T12:40:56.000+00:00\",\"updateBy\":\"admin1\",\"statusComments\":null,\"undeliveredReason\":null},{\"originalParcelId\":\"Test896453\",\"parcelId\":\"RX03078922\",\"statusCode\":\"ARRIVED\",\"updateTime\":\"2021-09-07T12:41:01.000+00:00\",\"updateBy\":\"admin1\",\"statusComments\":null,\"undeliveredReason\":null},{\"originalParcelId\":\"Test981662\",\"parcelId\":\"RX04052214\",\"statusCode\":\"ARRIVED\",\"updateTime\":\"2021-09-07T12:41:05.000+00:00\",\"updateBy\":\"admin1\",\"statusComments\":null,\"undeliveredReason\":null},{\"originalParcelId\":\"Test813687\",\"parcelId\":\"RX58145916\",\"statusCode\":\"ARRIVED\",\"updateTime\":\"2021-09-07T12:41:14.000+00:00\",\"updateBy\":\"admin1\",\"statusComments\":null,\"undeliveredReason\":null},{\"originalParcelId\":\"Test996931\",\"parcelId\":\"RX50377517\",\"statusCode\":\"ARRIVED\",\"updateTime\":\"2021-09-07T12:41:20.000+00:00\",\"updateBy\":\"admin1\",\"statusComments\":null,\"undeliveredReason\":null},{\"originalParcelId\":\"Test368921\",\"parcelId\":\"RX01013034\",\"statusCode\":\"ARRIVED\",\"updateTime\":\"2021-09-07T12:41:23.000+00:00\",\"updateBy\":\"admin1\",\"statusComments\":null,\"undeliveredReason\":null},{\"originalParcelId\":\"Test863337\",\"parcelId\":\"RX30179646\",\"statusCode\":\"ARRIVED\",\"updateTime\":\"2021-09-07T12:41:26.000+00:00\",\"updateBy\":\"admin1\",\"statusComments\":null,\"undeliveredReason\":null},{\"originalParcelId\":\"Test491233\",\"parcelId\":\"RX50290435\",\"statusCode\":\"ARRIVED\",\"updateTime\":\"2021-09-07T12:41:29.000+00:00\",\"updateBy\":\"admin1\",\"statusComments\":null,\"undeliveredReason\":null},{\"originalParcelId\":\"Test510168\",\"parcelId\":\"RX23049275\",\"statusCode\":\"ARRIVED\",\"updateTime\":\"2021-09-07T12:41:44.000+00:00\",\"updateBy\":\"admin1\",\"statusComments\":null,\"undeliveredReason\":null},{\"originalParcelId\":\"Test416810\",\"parcelId\":\"RX64143125\",\"statusCode\":\"ARRIVED\",\"updateTime\":\"2021-09-07T12:41:52.000+00:00\",\"updateBy\":\"admin1\",\"statusComments\":null,\"undeliveredReason\":null},{\"originalParcelId\":\"Test376489\",\"parcelId\":\"RX69502949\",\"statusCode\":\"ARRIVED\",\"updateTime\":\"2021-09-07T12:41:56.000+00:00\",\"updateBy\":\"admin1\",\"statusComments\":null,\"undeliveredReason\":null},{\"originalParcelId\":\"Test533111\",\"parcelId\":\"RX83015181\",\"statusCode\":\"ARRIVED\",\"updateTime\":\"2021-09-07T12:42:02.000+00:00\",\"updateBy\":\"admin1\",\"statusComments\":null,\"undeliveredReason\":null},{\"originalParcelId\":\"Test180325\",\"parcelId\":\"RX70845376\",\"statusCode\":\"ARRIVED\",\"updateTime\":\"2021-09-07T12:42:07.000+00:00\",\"updateBy\":\"admin1\",\"statusComments\":null,\"undeliveredReason\":null},{\"originalParcelId\":\"Test180137\",\"parcelId\":\"RX82549878\",\"statusCode\":\"DELIVERING\",\"updateTime\":\"2021-09-08T17:29:14.000+00:00\",\"updateBy\":\"u1\",\"statusComments\":\"\",\"undeliveredReason\":\"\"},{\"originalParcelId\":\"Test223528\",\"parcelId\":\"RX42074845\",\"statusCode\":\"DELIVERING\",\"updateTime\":\"2021-09-08T17:29:55.000+00:00\",\"updateBy\":\"u1\",\"statusComments\":\"\",\"undeliveredReason\":\"\"},{\"originalParcelId\":\"Test920971\",\"parcelId\":\"RX07296416\",\"statusCode\":\"DELIVERING\",\"updateTime\":\"2021-09-08T17:32:51.000+00:00\",\"updateBy\":\"u1\",\"statusComments\":\"\",\"undeliveredReason\":\"\"},{\"originalParcelId\":\"Test618915\",\"parcelId\":\"RX59129863\",\"statusCode\":\"DELIVERING\",\"updateTime\":\"2021-09-08T17:32:57.000+00:00\",\"updateBy\":\"u1\",\"statusComments\":\"\",\"undeliveredReason\":\"\"},{\"originalParcelId\":\"Test152996\",\"parcelId\":\"RX07552603\",\"statusCode\":\"DELIVERING\",\"updateTime\":\"2021-09-08T17:33:02.000+00:00\",\"updateBy\":\"u1\",\"statusComments\":\"\",\"undeliveredReason\":\"\"},{\"originalParcelId\":\"Test203557\",\"parcelId\":\"RX44420920\",\"statusCode\":\"DELIVERING\",\"updateTime\":\"2021-09-08T17:33:06.000+00:00\",\"updateBy\":\"u1\",\"statusComments\":\"\",\"undeliveredReason\":\"\"},{\"originalParcelId\":\"Test149062\",\"parcelId\":\"RX78702999\",\"statusCode\":\"DELIVERING\",\"updateTime\":\"2021-09-08T17:33:11.000+00:00\",\"updateBy\":\"u1\",\"statusComments\":\"\",\"undeliveredReason\":\"\"},{\"originalParcelId\":\"Test500324\",\"parcelId\":\"RX94441503\",\"statusCode\":\"DELIVERING\",\"updateTime\":\"2021-09-08T17:33:15.000+00:00\",\"updateBy\":\"u1\",\"statusComments\":\"\",\"undeliveredReason\":\"\"},{\"originalParcelId\":\"Test933713\",\"parcelId\":\"RX43485954\",\"statusCode\":\"DELIVERING\",\"updateTime\":\"2021-09-08T17:33:18.000+00:00\",\"updateBy\":\"u1\",\"statusComments\":\"\",\"undeliveredReason\":\"\"},{\"originalParcelId\":\"Test430997\",\"parcelId\":\"RX57788550\",\"statusCode\":\"ARRIVED\",\"updateTime\":\"2021-09-10T08:16:02.000+00:00\",\"updateBy\":\"admin1\",\"statusComments\":null,\"undeliveredReason\":null},{\"originalParcelId\":\"RL1egg191\",\"parcelId\":\"RX78895457\",\"statusCode\":\"DELIVERING\",\"updateTime\":\"2021-09-10T15:48:32.000+00:00\",\"updateBy\":\"u1\",\"statusComments\":\"\",\"undeliveredReason\":\"\"},{\"originalParcelId\":\"YT19121621300003\",\"parcelId\":\"RX98480945\",\"statusCode\":\"DELIVERY FAILED\",\"updateTime\":\"2021-09-10T16:53:27.000+00:00\",\"updateBy\":\"ParcelUpdateDriverTest\",\"statusComments\":\"localhost\",\"undeliveredReason\":\"OT\"},{\"originalParcelId\":\"YT19121621300001\",\"parcelId\":\"RX92282378\",\"statusCode\":\"DELIVERING\",\"updateTime\":\"2021-09-10T18:22:34.000+00:00\",\"updateBy\":\"u1\",\"statusComments\":\"\",\"undeliveredReason\":\"\"},{\"originalParcelId\":\"RL1eggf82\",\"parcelId\":\"RX68358430\",\"statusCode\":\"DELIVERING\",\"updateTime\":\"2021-09-16T20:40:57.000+00:00\",\"updateBy\":\"K6-performance-tet\",\"statusComments\":\"k6 set it to DI\",\"undeliveredReason\":\"\"},{\"originalParcelId\":\"K6TestParcelId\",\"parcelId\":\"RX92176497\",\"statusCode\":\"DELIVERING\",\"updateTime\":\"2021-09-16T20:53:46.000+00:00\",\"updateBy\":\"K6-performance-tet\",\"statusComments\":\"k6 set it to DI\",\"undeliveredReason\":\"\"},{\"originalParcelId\":\"RL1eggf83\",\"parcelId\":\"RX00001116\",\"statusCode\":\"DELIVERING\",\"updateTime\":\"2021-10-06T21:02:00.000+00:00\",\"updateBy\":\"u1\",\"statusComments\":\"\",\"undeliveredReason\":\"\"},{\"originalParcelId\":\"CMS210817151955\",\"parcelId\":\"RX54478009\",\"statusCode\":\"DELIVERING\",\"updateTime\":\"2021-10-07T11:25:54.000+00:00\",\"updateBy\":\"u1\",\"statusComments\":\"\",\"undeliveredReason\":\"\"},{\"originalParcelId\":\"CMS210820111027\",\"parcelId\":\"RX76302886\",\"statusCode\":\"DELIVERING\",\"updateTime\":\"2021-10-07T20:39:59.000+00:00\",\"updateBy\":\"u1\",\"statusComments\":\"\",\"undeliveredReason\":\"\"},{\"originalParcelId\":\"CMS210824151206\",\"parcelId\":\"RX33456925\",\"statusCode\":\"DELIVERING\",\"updateTime\":\"2021-10-07T20:40:24.000+00:00\",\"updateBy\":\"u1\",\"statusComments\":\"\",\"undeliveredReason\":\"\"},{\"originalParcelId\":\"CMS210824152508\",\"parcelId\":\"RX73658007\",\"statusCode\":\"DELIVERING\",\"updateTime\":\"2021-10-07T20:41:06.000+00:00\",\"updateBy\":\"u1\",\"statusComments\":\"\",\"undeliveredReason\":\"\"},{\"originalParcelId\":\"CMS210826170345\",\"parcelId\":\"RX47974587\",\"statusCode\":\"DELIVERING\",\"updateTime\":\"2021-10-07T20:42:02.000+00:00\",\"updateBy\":\"u1\",\"statusComments\":\"\",\"undeliveredReason\":\"\"},{\"originalParcelId\":\"CT00000091480506\",\"parcelId\":\"RX97982498\",\"statusCode\":\"DELIVERING\",\"updateTime\":\"2021-10-07T20:42:19.000+00:00\",\"updateBy\":\"u1\",\"statusComments\":\"\",\"undeliveredReason\":\"\"},{\"originalParcelId\":\"CU00000061044291\",\"parcelId\":\"RX44548018\",\"statusCode\":\"DELIVERING\",\"updateTime\":\"2021-10-07T20:42:47.000+00:00\",\"updateBy\":\"u1\",\"statusComments\":\"\",\"undeliveredReason\":\"\"},{\"originalParcelId\":\"DJ00000011015690\",\"parcelId\":\"RX61640862\",\"statusCode\":\"DELIVERING\",\"updateTime\":\"2021-10-07T20:43:03.000+00:00\",\"updateBy\":\"u1\",\"statusComments\":\"\",\"undeliveredReason\":\"\"},{\"originalParcelId\":\"BM00000067408006\",\"parcelId\":\"RX89642501\",\"statusCode\":\"DELIVERING\",\"updateTime\":\"2021-10-11T12:10:18.000+00:00\",\"updateBy\":\"u2\",\"statusComments\":\"\",\"undeliveredReason\":\"\"},{\"originalParcelId\":\"BM00000087461211\",\"parcelId\":\"RX05101147\",\"statusCode\":\"DELIVERING\",\"updateTime\":\"2021-10-11T12:10:22.000+00:00\",\"updateBy\":\"u2\",\"statusComments\":\"\",\"undeliveredReason\":\"\"},{\"originalParcelId\":\"BQ00000031088533\",\"parcelId\":\"RX67756185\",\"statusCode\":\"DELIVERING\",\"updateTime\":\"2021-10-11T19:52:29.000+00:00\",\"updateBy\":\"u2\",\"statusComments\":\"\",\"undeliveredReason\":\"\"},{\"originalParcelId\":\"CA00000047711858\",\"parcelId\":\"RX94783799\",\"statusCode\":\"DELIVERED\",\"updateTime\":\"2021-10-11T19:52:29.000+00:00\",\"updateBy\":\"u2\",\"statusComments\":\"\",\"undeliveredReason\":\"\"},{\"originalParcelId\":\"BK00000042696853\",\"parcelId\":\"RX79422413\",\"statusCode\":\"DELIVERED\",\"updateTime\":\"2021-10-11T19:52:29.000+00:00\",\"updateBy\":\"u2\",\"statusComments\":\"\",\"undeliveredReason\":\"\"},{\"originalParcelId\":\"BC00000074548359\",\"parcelId\":\"RX73698725\",\"statusCode\":\"DELIVERED\",\"updateTime\":\"2021-10-11T19:52:29.000+00:00\",\"updateBy\":\"u2\",\"statusComments\":\"\",\"undeliveredReason\":\"\"},{\"originalParcelId\":\"CMS210812103845\",\"parcelId\":\"RX00895798\",\"statusCode\":\"DELIVERED\",\"updateTime\":\"2021-10-17T00:29:12.000+00:00\",\"updateBy\":\"u1\",\"statusComments\":\"\",\"undeliveredReason\":\"\"},{\"originalParcelId\":\"YT19121621588013\",\"parcelId\":\"RX96766976\",\"statusCode\":\"DELIVERING\",\"updateTime\":\"2021-10-17T16:15:50.000+00:00\",\"updateBy\":\"u1\",\"statusComments\":\"\",\"undeliveredReason\":\"\"},{\"originalParcelId\":\"YT19121621586851\",\"parcelId\":\"RX87466548\",\"statusCode\":\"DELIVERING\",\"updateTime\":\"2021-10-17T16:25:12.000+00:00\",\"updateBy\":\"u1\",\"statusComments\":\"\",\"undeliveredReason\":\"\"},{\"originalParcelId\":\"YT19121621586999\",\"parcelId\":\"RX97555002\",\"statusCode\":\"DELIVERED\",\"updateTime\":\"2021-10-17T16:25:12.000+00:00\",\"updateBy\":\"u1\",\"statusComments\":\"\",\"undeliveredReason\":\"\"},{\"originalParcelId\":\"YT19121621819848\",\"parcelId\":\"RX50445608\",\"statusCode\":\"DELIVERING\",\"updateTime\":\"2021-10-17T16:25:12.000+00:00\",\"updateBy\":\"u1\",\"statusComments\":\"\",\"undeliveredReason\":\"\"},{\"originalParcelId\":\"YT19121621330001\",\"parcelId\":\"RX30335150\",\"statusCode\":\"ARRIVED\",\"updateTime\":\"2021-10-17T18:08:09.000+00:00\",\"updateBy\":\"admin1\",\"statusComments\":\"Your parcel has arrived at the local courier\",\"undeliveredReason\":\"\"},{\"originalParcelId\":\"K6TestParcelId001\",\"parcelId\":\"RX62184306\",\"statusCode\":\"DELIVERING\",\"updateTime\":\"2021-10-20T17:35:34.000+00:00\",\"updateBy\":\"K6-performance-tet\",\"statusComments\":\"k6 set it to DI\",\"undeliveredReason\":\"\"},{\"originalParcelId\":\"RL1egg189\",\"parcelId\":\"RX95245607\",\"statusCode\":\"DELIVERY FAILED\",\"updateTime\":\"2021-10-26T18:04:28.000+00:00\",\"updateBy\":\"ParcelUpdateDriverTest\",\"statusComments\":\"localhost\",\"undeliveredReason\":\"OT\"},{\"originalParcelId\":\"YT2034121266079152\",\"parcelId\":\"RX00001118\",\"statusCode\":\"DELIVERY FAILED\",\"updateTime\":\"2021-10-26T20:50:28.000+00:00\",\"updateBy\":\"u1\",\"statusComments\":\"\",\"undeliveredReason\":\"IB\"},{\"originalParcelId\":\"YT2032421266102769\",\"parcelId\":\"RX00000101\",\"statusCode\":\"RETURNED\",\"updateTime\":\"2021-05-19T17:15:37.000+00:00\",\"updateBy\":\"Place Holder\",\"statusComments\":\"???\",\"undeliveredReason\":\"\"},{\"originalParcelId\":\"CMS210819150820\",\"parcelId\":\"RX54794434\",\"statusCode\":\"DELIVERING\",\"updateTime\":\"2021-11-01T20:44:33.000+00:00\",\"updateBy\":\"u1\",\"statusComments\":\"\",\"undeliveredReason\":\"\"},{\"originalParcelId\":\"RL12345\",\"parcelId\":\"RX00001115\",\"statusCode\":\"DELIVERED\",\"updateTime\":\"2021-11-01T20:45:14.000+00:00\",\"updateBy\":\"u1\",\"statusComments\":\"\",\"undeliveredReason\":\"\"},{\"originalParcelId\":\"RL024568910\",\"parcelId\":\"RX00001114\",\"statusCode\":\"DELIVERY FAILED\",\"updateTime\":\"2021-11-01T20:45:24.000+00:00\",\"updateBy\":\"u1\",\"statusComments\":\"\",\"undeliveredReason\":\"IB\"},{\"originalParcelId\":\"parcel_0001\",\"parcelId\":\"RX00001111\",\"statusCode\":\"DELIVERED\",\"updateTime\":\"2021-11-02T20:34:37.000+00:00\",\"updateBy\":\"u1\",\"statusComments\":\"\",\"undeliveredReason\":\"\"},{\"originalParcelId\":\"R34678901345\",\"parcelId\":\"RX00001113\",\"statusCode\":\"DELIVERED\",\"updateTime\":\"2021-11-03T20:42:31.000+00:00\",\"updateBy\":\"sql script\",\"statusComments\":null,\"undeliveredReason\":null},{\"originalParcelId\":\"ZTCS20210927165200\",\"parcelId\":\"RX99979295\",\"statusCode\":\"ARRIVED\",\"updateTime\":\"2021-11-03T21:16:19.000+00:00\",\"updateBy\":\"admin1\",\"statusComments\":\"Your parcel has arrived at the local courier\",\"undeliveredReason\":null},{\"originalParcelId\":\"YT2122821155000093\",\"parcelId\":\"RX98967474\",\"statusCode\":\"ARRIVED\",\"updateTime\":\"2021-11-03T21:16:20.000+00:00\",\"updateBy\":\"admin1\",\"statusComments\":\"Your parcel has arrived at the local courier\",\"undeliveredReason\":null},{\"originalParcelId\":\"YUN123456770\",\"parcelId\":\"RX99716473\",\"statusCode\":\"ARRIVED\",\"updateTime\":\"2021-11-03T21:16:55.000+00:00\",\"updateBy\":\"admin1\",\"statusComments\":\"Your parcel has arrived at the local courier\",\"undeliveredReason\":null},{\"originalParcelId\":\"YT19121622102510\",\"parcelId\":\"RX98602850\",\"statusCode\":\"ARRIVED\",\"updateTime\":\"2021-11-03T21:17:08.000+00:00\",\"updateBy\":\"admin1\",\"statusComments\":\"Your parcel has arrived at the local courier\",\"undeliveredReason\":null},{\"originalParcelId\":\"YT19121626749760\",\"parcelId\":\"RX99634484\",\"statusCode\":\"ARRIVED\",\"updateTime\":\"2021-11-03T21:17:09.000+00:00\",\"updateBy\":\"admin1\",\"statusComments\":\"Your parcel has arrived at the local courier\",\"undeliveredReason\":null},{\"originalParcelId\":\"YT19121622690636\",\"parcelId\":\"RX98582187\",\"statusCode\":\"ARRIVED\",\"updateTime\":\"2021-11-03T21:17:15.000+00:00\",\"updateBy\":\"admin1\",\"statusComments\":\"Your parcel has arrived at the local courier\",\"undeliveredReason\":null},{\"originalParcelId\":\"YT2121711155000102\",\"parcelId\":\"RX99484365\",\"statusCode\":\"ARRIVED\",\"updateTime\":\"2021-11-03T21:17:20.000+00:00\",\"updateBy\":\"admin1\",\"statusComments\":\"Your parcel has arrived at the local courier\",\"undeliveredReason\":null},{\"originalParcelId\":\"YT2021551122580200\",\"parcelId\":\"RX99225261\",\"statusCode\":\"ARRIVED\",\"updateTime\":\"2021-11-03T21:17:26.000+00:00\",\"updateBy\":\"admin1\",\"statusComments\":\"Your parcel has arrived at the local courier\",\"undeliveredReason\":null},{\"originalParcelId\":\"YT19121622690825\",\"parcelId\":\"RX98913127\",\"statusCode\":\"ARRIVED\",\"updateTime\":\"2021-11-03T21:17:49.000+00:00\",\"updateBy\":\"admin1\",\"statusComments\":\"Your parcel has arrived at the local courier\",\"undeliveredReason\":null},{\"originalParcelId\":\"YT20203101632721436\",\"parcelId\":\"RX98015539\",\"statusCode\":\"ARRIVED\",\"updateTime\":\"2021-11-03T21:24:50.000+00:00\",\"updateBy\":\"admin1\",\"statusComments\":\"Your parcel has arrived at the local courier\",\"undeliveredReason\":null},{\"originalParcelId\":\"DQ00000035607762\",\"parcelId\":\"RX97974155\",\"statusCode\":\"ARRIVED\",\"updateTime\":\"2021-11-03T21:25:31.000+00:00\",\"updateBy\":\"admin1\",\"statusComments\":\"Your parcel has arrived at the local courier\",\"undeliveredReason\":null},{\"originalParcelId\":\"YT2121711155000076\",\"parcelId\":\"RX99615474\",\"statusCode\":\"DELIVERING\",\"updateTime\":\"2021-11-03T21:41:06.000+00:00\",\"updateBy\":\"u1\",\"statusComments\":\"\",\"undeliveredReason\":\"\"},{\"originalParcelId\":\"YT2021591431560112\",\"parcelId\":\"RX98185844\",\"statusCode\":\"DELIVERING\",\"updateTime\":\"2021-11-03T22:23:12.000+00:00\",\"updateBy\":\"u1\",\"statusComments\":\"\",\"undeliveredReason\":\"\"},{\"originalParcelId\":\"YT19121621908630\",\"parcelId\":\"RX98394150\",\"statusCode\":\"DELIVERED\",\"updateTime\":\"2021-11-03T22:28:34.000+00:00\",\"updateBy\":\"u1\",\"statusComments\":\"\",\"undeliveredReason\":\"\"},{\"originalParcelId\":\"MJ00000011510711\",\"parcelId\":\"RX98070557\",\"statusCode\":\"DELIVERY FAILED\",\"updateTime\":\"2021-11-03T22:28:25.000+00:00\",\"updateBy\":\"u2\",\"statusComments\":\"\",\"undeliveredReason\":\"NH\"},{\"originalParcelId\":\"YT2238612346518181\",\"parcelId\":\"RX97951700\",\"statusCode\":\"DELIVERING\",\"updateTime\":\"2021-11-03T22:50:25.000+00:00\",\"updateBy\":\"u1\",\"statusComments\":\"\",\"undeliveredReason\":\"\"},{\"originalParcelId\":\"YT19121621430371\",\"parcelId\":\"RX98108064\",\"statusCode\":\"DELIVERY FAILED\",\"updateTime\":\"2021-11-03T22:20:57.000+00:00\",\"updateBy\":\"u1\",\"statusComments\":\"\",\"undeliveredReason\":\"WN\"},{\"originalParcelId\":\"YT2122821155000075\",\"parcelId\":\"RX98034768\",\"statusCode\":\"DELIVERY FAILED\",\"updateTime\":\"2021-11-03T22:52:14.000+00:00\",\"updateBy\":\"u1\",\"statusComments\":\"\",\"undeliveredReason\":\"IM\"},{\"originalParcelId\":\"YT19121621330010\",\"parcelId\":\"RX97865133\",\"statusCode\":\"DELIVERED\",\"updateTime\":\"2021-11-04T11:32:02.000+00:00\",\"updateBy\":\"u1\",\"statusComments\":\"\",\"undeliveredReason\":\"\"},{\"originalParcelId\":\"YT20203101632711940\",\"parcelId\":\"RX97258746\",\"statusCode\":\"DELIVERY FAILED\",\"updateTime\":\"2021-11-04T12:42:43.000+00:00\",\"updateBy\":\"u2\",\"statusComments\":\"\",\"undeliveredReason\":\"NH\"},{\"originalParcelId\":\"YT19121628751479\",\"parcelId\":\"RX97415455\",\"statusCode\":\"DELIVERED\",\"updateTime\":\"2021-11-04T12:48:36.000+00:00\",\"updateBy\":\"u2\",\"statusComments\":\"\",\"undeliveredReason\":\"\"},{\"originalParcelId\":\"YT19121622803403\",\"parcelId\":\"RX97494628\",\"statusCode\":\"DELIVERED\",\"updateTime\":\"2021-11-04T12:49:30.000+00:00\",\"updateBy\":\"u2\",\"statusComments\":\"\",\"undeliveredReason\":\"\"},{\"originalParcelId\":\"Test721464\",\"parcelId\":\"RX97862659\",\"statusCode\":\"DELIVERY FAILED\",\"updateTime\":\"2021-11-04T12:50:04.000+00:00\",\"updateBy\":\"u2\",\"statusComments\":\"\",\"undeliveredReason\":\"NH\"},{\"originalParcelId\":\"YT19121622717164\",\"parcelId\":\"RX96994534\",\"statusCode\":\"DELIVERY FAILED\",\"updateTime\":\"2021-11-04T12:54:35.000+00:00\",\"updateBy\":\"u2\",\"statusComments\":\"\",\"undeliveredReason\":\"IB\"},{\"originalParcelId\":\"YT2122521155000319\",\"parcelId\":\"RX96387782\",\"statusCode\":\"ARRIVED\",\"updateTime\":\"2021-11-04T13:41:13.000+00:00\",\"updateBy\":\"Admin2\",\"statusComments\":\"Your parcel has arrived at the local courier\",\"undeliveredReason\":null},{\"originalParcelId\":\"YT21071626751591\",\"parcelId\":\"RX96301171\",\"statusCode\":\"ARRIVED\",\"updateTime\":\"2021-11-04T13:42:55.000+00:00\",\"updateBy\":\"Admin2\",\"statusComments\":\"Your parcel has arrived at the local courier\",\"undeliveredReason\":null},{\"originalParcelId\":\"YT2122821155000099\",\"parcelId\":\"RX96277081\",\"statusCode\":\"DELIVERING\",\"updateTime\":\"2021-11-04T14:02:59.000+00:00\",\"updateBy\":\"u2\",\"statusComments\":\"\",\"undeliveredReason\":\"\"}]\n"
     ]
    },
    {
     "data": {
      "text/plain": [
       "<IPython.core.display.JSON object>"
      ]
     },
     "execution_count": 134,
     "metadata": {},
     "output_type": "execute_result"
    }
   ],
   "source": [
    "from IPython.display import JSON\n",
    "JSON(print(result.text))"
   ]
  },
  {
   "cell_type": "code",
   "execution_count": null,
   "id": "43fa5e91",
   "metadata": {},
   "outputs": [],
   "source": []
  },
  {
   "cell_type": "code",
   "execution_count": null,
   "id": "986a2227",
   "metadata": {},
   "outputs": [],
   "source": []
  }
 ],
 "metadata": {
  "kernelspec": {
   "display_name": "Python 3",
   "language": "python",
   "name": "python3"
  },
  "language_info": {
   "codemirror_mode": {
    "name": "ipython",
    "version": 3
   },
   "file_extension": ".py",
   "mimetype": "text/x-python",
   "name": "python",
   "nbconvert_exporter": "python",
   "pygments_lexer": "ipython3",
   "version": "3.6.9"
  }
 },
 "nbformat": 4,
 "nbformat_minor": 5
}
