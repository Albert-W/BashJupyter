{
 "cells": [
  {
   "cell_type": "code",
   "execution_count": 1,
   "id": "861e93f1",
   "metadata": {},
   "outputs": [],
   "source": [
    "import requests"
   ]
  },
  {
   "cell_type": "code",
   "execution_count": 2,
   "id": "08b3d408",
   "metadata": {},
   "outputs": [],
   "source": [
    "baseurl = 'http://localhost:5000'"
   ]
  },
  {
   "cell_type": "code",
   "execution_count": 3,
   "id": "15db2069",
   "metadata": {},
   "outputs": [],
   "source": [
    "baseurl = 'http://relex.eu-west-1.elasticbeanstalk.com'"
   ]
  },
  {
   "cell_type": "code",
   "execution_count": 4,
   "id": "dcc909c3",
   "metadata": {},
   "outputs": [
    {
     "data": {
      "text/plain": [
       "<Response [200]>"
      ]
     },
     "execution_count": 4,
     "metadata": {},
     "output_type": "execute_result"
    }
   ],
   "source": [
    "url = baseurl + '/integration/parcels/status?parcelId=parcel_0001'\n",
    "\n",
    "result = requests.get(url)\n",
    "result"
   ]
  },
  {
   "cell_type": "code",
   "execution_count": 5,
   "id": "c9de3b53",
   "metadata": {},
   "outputs": [
    {
     "data": {
      "text/plain": [
       "[{'update_time': '2021-04-20 08:03:26',\n",
       "  'status': 'DELIVERING',\n",
       "  'update_by': 'YC'},\n",
       " {'update_time': '2021-04-20 09:03:26',\n",
       "  'status': 'DELIVERY FAILED',\n",
       "  'update_by': 'YC',\n",
       "  'undelivered_reason': 'No one at home when delivery'},\n",
       " {'update_time': '2021-04-21 10:03:26',\n",
       "  'status': 'DELIVERY FAILED',\n",
       "  'update_by': 'YC',\n",
       "  'undelivered_reason': 'The recipient name appears wrongly on the label'},\n",
       " {'update_time': '2021-04-22 11:03:26',\n",
       "  'status': 'DELIVERED',\n",
       "  'update_by': 'YC'},\n",
       " {'update_time': '2021-04-30 20:59:27',\n",
       "  'status': 'DELIVERED',\n",
       "  'update_by': 'YC',\n",
       "  'comments': 'Wonderful'},\n",
       " {'update_time': '2021-04-30 20:59:55',\n",
       "  'status': 'DELIVERY FAILED',\n",
       "  'update_by': 'YC',\n",
       "  'comments': 'Wonderful'},\n",
       " {'update_time': '2021-04-30 21:00:12',\n",
       "  'status': 'DELIVERY FAILED',\n",
       "  'update_by': 'YC',\n",
       "  'comments': 'Wonderful'},\n",
       " {'update_time': '2021-04-30 21:00:28',\n",
       "  'status': 'RETURNED',\n",
       "  'update_by': 'YC',\n",
       "  'comments': 'Wonderful'},\n",
       " {'update_time': '2021-04-30 21:00:49',\n",
       "  'status': 'RETURNED',\n",
       "  'update_by': 'YC',\n",
       "  'comments': 'Wonderful'},\n",
       " {'update_time': '2021-04-30 21:01:27',\n",
       "  'status': 'RETURNED',\n",
       "  'update_by': 'YC',\n",
       "  'comments': 'Wonderful'},\n",
       " {'update_time': '2021-04-30 21:03:41',\n",
       "  'status': 'RETURNED',\n",
       "  'update_by': 'YC',\n",
       "  'comments': 'Wonderful'},\n",
       " {'update_time': '2021-04-30 21:06:49',\n",
       "  'status': 'DELIVERING',\n",
       "  'update_by': 'YC',\n",
       "  'comments': 'Wonderful'},\n",
       " {'update_time': '2021-05-01 10:07:51',\n",
       "  'status': 'DELIVERED',\n",
       "  'update_by': 'YC',\n",
       "  'comments': 'Wonderful'},\n",
       " {'update_time': '2021-05-01 10:25:41',\n",
       "  'status': 'DELIVERY FAILED',\n",
       "  'update_by': 'YC',\n",
       "  'undelivered_reason': 'No one at home when delivery',\n",
       "  'comments': 'Wonderful'},\n",
       " {'update_time': '2021-05-01 10:28:31',\n",
       "  'status': 'RETURNED',\n",
       "  'update_by': 'YC',\n",
       "  'undelivered_reason': 'Details may refer to the comments',\n",
       "  'comments': 'Wonderful'},\n",
       " {'update_time': '2021-05-01 10:55:53',\n",
       "  'status': 'DELIVERING',\n",
       "  'update_by': 'YC',\n",
       "  'undelivered_reason': 'Details may refer to the comments'},\n",
       " {'update_time': '2021-05-01 10:56:00',\n",
       "  'status': 'DELIVERED',\n",
       "  'update_by': 'YC',\n",
       "  'undelivered_reason': 'Details may refer to the comments'},\n",
       " {'update_time': '2021-05-01 10:56:14',\n",
       "  'status': 'DELIVERY FAILED',\n",
       "  'update_by': 'YC',\n",
       "  'undelivered_reason': 'No one at home when delivery'},\n",
       " {'update_time': '2021-05-01 10:56:21',\n",
       "  'status': 'RETURNED',\n",
       "  'update_by': 'YC',\n",
       "  'undelivered_reason': 'Details may refer to the comments'}]"
      ]
     },
     "execution_count": 5,
     "metadata": {},
     "output_type": "execute_result"
    }
   ],
   "source": [
    "result.json()"
   ]
  },
  {
   "cell_type": "code",
   "execution_count": 6,
   "id": "19cf1e18",
   "metadata": {},
   "outputs": [],
   "source": [
    "url = baseurl + '/integration/parcels/init'"
   ]
  },
  {
   "cell_type": "code",
   "execution_count": 25,
   "id": "f4e75c4e",
   "metadata": {},
   "outputs": [],
   "source": [
    "body = {\n",
    "    \"originalParcelId\": \"RL1egg192\",\n",
    "    \"shipping_date\": \"2021-04-03T19:02:22.768Z\",\n",
    "    \"create_date\": \"2021-04-03T19:02:22.768Z\",\n",
    "    \"carrier\": \"Relex Logistic\",\n",
    "    \"order_number\": \"\",\n",
    "    \"comments\": \"\",\n",
    "    \"parcel_value\": 2,\n",
    "    \"parcel_value_currency\": \"EURO\",\n",
    "    \"parcel_width\": 1,\n",
    "    \"parcel_height\": 1,\n",
    "    \"parcel_weight\": 1,\n",
    "    \"parcel_length\": 1,\n",
    "    \"itemQuantity\": 2,\n",
    "    \"recipient\": {\n",
    "        \"name\": \"Cierra.Daniel\",\n",
    "        \"first_name\": \"Cierra\",\n",
    "        \"last_name\": \"Daniel\",\n",
    "        \"salutation\": \"Mr\",\n",
    "        \"company_name\": \"Hammes, Ward and Green\",\n",
    "        \"email_address\": \"Garret_Boyer@yahoo.com\",\n",
    "        \"contact_number1\": \"675-879-0566 x810\",\n",
    "        \"contact_number2\": \"825-425-2165 x05795\",\n",
    "        \"address\": {\n",
    "            \"address1\": \"Suite 494\",\n",
    "            \"address2\": \"866 Zula Camp\",\n",
    "            \"address3\": \"Cambridgeshire\",\n",
    "            \"city\": \"Dublin\",\n",
    "            \"state\": \"Co.Dublin\",\n",
    "            \"province\": \"Dublin\",\n",
    "            \"postcode\": \"D02EX03\",\n",
    "            \"country\": \"Ireland\",\n",
    "            \"county\": \"Dublin\"\n",
    "        }\n",
    "    },\n",
    "    \"sender\": {\n",
    "        \"name\":\"haha\",\n",
    "        \"first_name\": \"Cierra\",\n",
    "        \"last_name\": \"Daniel\",\n",
    "        \"salutation\": \"Mr\",\n",
    "        \"company_name\": \"Parisian and Sons\",\n",
    "        \"email_address\": \"Lazaro.Hahn1@gmail.com\",\n",
    "        \"contact_number1\": \"(346) 249-3358\",\n",
    "        \"contact_number2\": \"(701) 243-2304 x572\",\n",
    "        \"address\": {\n",
    "            \"address1\": \"Apt. 409\",\n",
    "            \"address2\": \"94147 Orin Bypass\",\n",
    "            \"address3\": \"Bedfordshire\",\n",
    "            \"city\": \"Beijing\",\n",
    "            \"province\": \"Beijing\",\n",
    "            \"state\": \"Beijing\",\n",
    "            \"postcode\": \"100001\",\n",
    "            \"country\": \"China\",\n",
    "            \"county\": \"\"\n",
    "        }\n",
    "    }\n",
    "}"
   ]
  },
  {
   "cell_type": "code",
   "execution_count": 26,
   "id": "855c2aab",
   "metadata": {},
   "outputs": [
    {
     "data": {
      "text/plain": [
       "{'code': 200, 'message': 'Items put success', 'relex_parcel_id': 'RX51465646'}"
      ]
     },
     "execution_count": 26,
     "metadata": {},
     "output_type": "execute_result"
    }
   ],
   "source": [
    "result = requests.put(url, json = body)\n",
    "result.json()"
   ]
  },
  {
   "cell_type": "markdown",
   "id": "5f871a6d",
   "metadata": {},
   "source": [
    "### API gateway "
   ]
  },
  {
   "cell_type": "code",
   "execution_count": 50,
   "id": "585b0317",
   "metadata": {},
   "outputs": [],
   "source": [
    "baseurl = 'https://yi11hq3dx2.execute-api.eu-west-1.amazonaws.com/dev'"
   ]
  },
  {
   "cell_type": "code",
   "execution_count": 51,
   "id": "57d53774",
   "metadata": {},
   "outputs": [],
   "source": [
    "url = baseurl + '/integration/parcels/status?parcelId=parcel_0001'"
   ]
  },
  {
   "cell_type": "code",
   "execution_count": 52,
   "id": "b90ffa24",
   "metadata": {},
   "outputs": [],
   "source": [
    "headers = {'x-api-key':'QREwNXkNoq9RQ0qHK7DMQ68GAuKTKokK6KEfAOa1'}"
   ]
  },
  {
   "cell_type": "code",
   "execution_count": 53,
   "id": "fc7c853b",
   "metadata": {},
   "outputs": [],
   "source": [
    "r = requests.get(url, headers=headers)"
   ]
  },
  {
   "cell_type": "code",
   "execution_count": 54,
   "id": "dbd860d9",
   "metadata": {},
   "outputs": [
    {
     "data": {
      "text/plain": [
       "<Response [200]>"
      ]
     },
     "execution_count": 54,
     "metadata": {},
     "output_type": "execute_result"
    }
   ],
   "source": [
    "r"
   ]
  },
  {
   "cell_type": "code",
   "execution_count": 55,
   "id": "a4e85960",
   "metadata": {},
   "outputs": [
    {
     "data": {
      "text/plain": [
       "{'code': 'success',\n",
       " 'message': '',\n",
       " 'data': [{'update_time': '2021-04-20 08:03:26',\n",
       "   'status': 'DELIVERING',\n",
       "   'update_by': 'YC',\n",
       "   'undelivered_reason': None,\n",
       "   'comments': None},\n",
       "  {'update_time': '2021-04-20 09:03:26',\n",
       "   'status': 'DELIVERY FAILED',\n",
       "   'update_by': 'YC',\n",
       "   'undelivered_reason': 'No one at home when delivery',\n",
       "   'comments': None},\n",
       "  {'update_time': '2021-04-21 10:03:26',\n",
       "   'status': 'DELIVERY FAILED',\n",
       "   'update_by': 'YC',\n",
       "   'undelivered_reason': 'The recipient name appears wrongly on the label',\n",
       "   'comments': None},\n",
       "  {'update_time': '2021-04-22 11:03:26',\n",
       "   'status': 'DELIVERED',\n",
       "   'update_by': 'YC',\n",
       "   'undelivered_reason': None,\n",
       "   'comments': None}]}"
      ]
     },
     "execution_count": 55,
     "metadata": {},
     "output_type": "execute_result"
    }
   ],
   "source": [
    "r.json()"
   ]
  },
  {
   "cell_type": "code",
   "execution_count": 19,
   "id": "166272ae",
   "metadata": {},
   "outputs": [],
   "source": [
    "r = requests.get(url)"
   ]
  },
  {
   "cell_type": "code",
   "execution_count": 20,
   "id": "6217f7b7",
   "metadata": {},
   "outputs": [
    {
     "data": {
      "text/plain": [
       "<Response [403]>"
      ]
     },
     "execution_count": 20,
     "metadata": {},
     "output_type": "execute_result"
    }
   ],
   "source": [
    "r"
   ]
  },
  {
   "cell_type": "code",
   "execution_count": 21,
   "id": "f0f936fc",
   "metadata": {},
   "outputs": [
    {
     "data": {
      "text/plain": [
       "{'message': 'Forbidden'}"
      ]
     },
     "execution_count": 21,
     "metadata": {},
     "output_type": "execute_result"
    }
   ],
   "source": [
    "r.json()"
   ]
  },
  {
   "cell_type": "code",
   "execution_count": 22,
   "id": "897bec18",
   "metadata": {},
   "outputs": [],
   "source": [
    "url = baseurl + '/integration/parcels/init'"
   ]
  },
  {
   "cell_type": "code",
   "execution_count": 23,
   "id": "8102ea3e",
   "metadata": {},
   "outputs": [],
   "source": [
    "body = {\n",
    "    \"parcelId\": \"RL1eggf82\",\n",
    "    \"shipping_date\": \"2021-04-03T19:02:22.768Z\",\n",
    "    \"create_date\": \"2021-04-03T19:02:22.768Z\",\n",
    "    \"carrier\": \"Relex Logistic\",\n",
    "    \"order_number\": \"\",\n",
    "    \"comments\": \"\",\n",
    "    \"parcel_value\": 2,\n",
    "    \"parcel_value_currency\": \"EURO\",\n",
    "    \"parcel_width\": 1,\n",
    "    \"parcel_height\": 1,\n",
    "    \"parcel_weight\": 1,\n",
    "    \"parcel_length\": 1,\n",
    "    \"itemQuantity\": 2,\n",
    "    \"recipient\": {\n",
    "        \"name\": \"Cierra.Daniel\",\n",
    "        \"first_name\": \"Cierra\",\n",
    "        \"last_name\": \"Daniel\",\n",
    "        \"salutation\": \"Mr\",\n",
    "        \"company_name\": \"Hammes, Ward and Green\",\n",
    "        \"email_address\": \"Garret_Boyer@yahoo.com\",\n",
    "        \"contact_number1\": \"675-879-0566 x810\",\n",
    "        \"contact_number2\": \"825-425-2165 x05795\",\n",
    "        \"address\": {\n",
    "            \"address1\": \"Suite 494\",\n",
    "            \"address2\": \"866 Zula Camp\",\n",
    "            \"address3\": \"Cambridgeshire\",\n",
    "            \"city\": \"Dublin\",\n",
    "            \"state\": \"Co.Dublin\",\n",
    "            \"province\": \"Dublin\",\n",
    "            \"postcode\": \"D02EX03\",\n",
    "            \"country\": \"Ireland\",\n",
    "            \"county\": \"Dublin\"\n",
    "        }\n",
    "    },\n",
    "    \"sender\": {\n",
    "        \"name\":\"haha\",\n",
    "        \"first_name\": \"Cierra\",\n",
    "        \"last_name\": \"Daniel\",\n",
    "        \"salutation\": \"Mr\",\n",
    "        \"company_name\": \"Parisian and Sons\",\n",
    "        \"email_address\": \"Lazaro.Hahn1@gmail.com\",\n",
    "        \"contact_number1\": \"(346) 249-3358\",\n",
    "        \"contact_number2\": \"(701) 243-2304 x572\",\n",
    "        \"address\": {\n",
    "            \"address1\": \"Apt. 409\",\n",
    "            \"address2\": \"94147 Orin Bypass\",\n",
    "            \"address3\": \"Bedfordshire\",\n",
    "            \"city\": \"Beijing\",\n",
    "            \"province\": \"Beijing\",\n",
    "            \"state\": \"Beijing\",\n",
    "            \"postcode\": \"100001\",\n",
    "            \"country\": \"China\",\n",
    "            \"county\": \"\"\n",
    "        }\n",
    "    }\n",
    "}"
   ]
  },
  {
   "cell_type": "code",
   "execution_count": 24,
   "id": "7b0afdb5",
   "metadata": {},
   "outputs": [
    {
     "data": {
      "text/plain": [
       "{'code': 'success', 'message': 'Items put success'}"
      ]
     },
     "execution_count": 24,
     "metadata": {},
     "output_type": "execute_result"
    }
   ],
   "source": [
    "result = requests.put(url, json = body, headers = headers)\n",
    "result.json()"
   ]
  },
  {
   "cell_type": "code",
   "execution_count": null,
   "id": "a30d7162",
   "metadata": {},
   "outputs": [],
   "source": []
  }
 ],
 "metadata": {
  "kernelspec": {
   "display_name": "Python 3",
   "language": "python",
   "name": "python3"
  },
  "language_info": {
   "codemirror_mode": {
    "name": "ipython",
    "version": 3
   },
   "file_extension": ".py",
   "mimetype": "text/x-python",
   "name": "python",
   "nbconvert_exporter": "python",
   "pygments_lexer": "ipython3",
   "version": "3.6.9"
  }
 },
 "nbformat": 4,
 "nbformat_minor": 5
}
