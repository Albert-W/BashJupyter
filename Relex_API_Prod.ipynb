{
 "cells": [
  {
   "cell_type": "code",
   "execution_count": 1,
   "id": "884c4f0c",
   "metadata": {},
   "outputs": [],
   "source": [
    "import requests as req"
   ]
  },
  {
   "cell_type": "code",
   "execution_count": 2,
   "id": "e8f35af3",
   "metadata": {},
   "outputs": [],
   "source": [
    "baseurl= 'http://relexbackendprod-env.eba-iajhavjx.eu-west-1.elasticbeanstalk.com'"
   ]
  },
  {
   "cell_type": "code",
   "execution_count": 5,
   "id": "ead90835",
   "metadata": {},
   "outputs": [],
   "source": [
    "baseurl_yun_prod = \"https://m7c8kv9egk.execute-api.ap-east-1.amazonaws.com/prod\""
   ]
  },
  {
   "cell_type": "code",
   "execution_count": 5,
   "id": "eb9670b6",
   "metadata": {},
   "outputs": [],
   "source": [
    "url = baseurl_yun_prod + '/integration/parcels/init'"
   ]
  },
  {
   "cell_type": "code",
   "execution_count": 33,
   "id": "589e6541",
   "metadata": {},
   "outputs": [],
   "source": [
    "body = {\n",
    "                       \"originalParcelId\": \"Test000010\",\n",
    "                       \"shipping_date\": \"2021-04-03T19:02:22.768Z\",\n",
    "                       \"create_date\": \"2021-04-03T19:02:22.768Z\",\n",
    "                       \"carrier\": \"Relex Logistic\",\n",
    "                       \"order_number\": \"\",\n",
    "                       \"comments\": \"\",\n",
    "                       \"parcel_value\": 2,\n",
    "                       \"parcel_value_currency\": \"EURO\",\n",
    "                       \"parcel_width\": 1,\n",
    "                       \"parcel_height\": 1,\n",
    "                       \"parcel_weight\": 1,\n",
    "                       \"parcel_length\": 1,\n",
    "                       \"itemQuantity\": 2,\n",
    "                       \"recipient\": {\n",
    "                           \"name\": \"Cierra.Daniel\",\n",
    "                           \"first_name\": \"Cierra\",\n",
    "                           \"last_name\": \"Daniel\",\n",
    "                           \"salutation\": \"Mr\",\n",
    "                           \"company_name\": \"Hammes, Ward and Green\",\n",
    "                           \"email_address\": \"Garret_Boyer@yahoo.com\",\n",
    "                           \"contact_number1\": \"675-879-0566 x810\",\n",
    "                           \"contact_number2\": \"825-425-2165 x05795\",\n",
    "                           \"address\": {\n",
    "                               \"address1\": \"Suite 494\",\n",
    "                               \"address2\": \"866 Zula Camp\",\n",
    "                               \"address3\": \"Cambridgeshire\",\n",
    "                               \"city\": \"Dublin\",\n",
    "                               \"state\": \"Co.Dublin\",\n",
    "                               \"province\": \"Dublin\",\n",
    "                               \"postcode\": \"D02EX03\",\n",
    "                               \"country\": \"Ireland\",\n",
    "                               \"county\": \"Dublin\"\n",
    "                           }\n",
    "                       },\n",
    "                       \"sender\": {\n",
    "                           \"name\":\"haha\",\n",
    "                           \"first_name\": \"Cierra\",\n",
    "                           \"last_name\": \"Daniel\",\n",
    "                           \"salutation\": \"Mr\",\n",
    "                           \"company_name\": \"Parisian and Sons\",\n",
    "                           \"email_address\": \"Lazaro.Hahn1@gmail.com\",\n",
    "                           \"contact_number1\": \"(346) 249-3358\",\n",
    "                           \"contact_number2\": \"(701) 243-2304 x572\",\n",
    "                           \"address\": {\n",
    "                               \"address1\": \"Apt. 409\",\n",
    "                               \"address2\": \"94147 Orin Bypass\",\n",
    "                               \"address3\": \"Bedfordshire\",\n",
    "                               \"city\": \"Beijing\",\n",
    "                               \"province\": \"Beijing\",\n",
    "                               \"state\": \"Beijing\",\n",
    "                               \"postcode\": \"100001\",\n",
    "                               \"country\": \"China\",\n",
    "                               \"county\": \"\"\n",
    "                           }\n",
    "                       }\n",
    "                   }"
   ]
  },
  {
   "cell_type": "code",
   "execution_count": 8,
   "id": "a1bb9aab",
   "metadata": {},
   "outputs": [],
   "source": [
    "headers = {'x-api-key':'LT9dm8iQNZOFiwA666fQ6LPBNf9sfEcaOpk3Sgl7'}"
   ]
  },
  {
   "cell_type": "code",
   "execution_count": 35,
   "id": "4ea4e730",
   "metadata": {},
   "outputs": [
    {
     "data": {
      "text/plain": [
       "{'code': 200,\n",
       " 'message': 'Items put success',\n",
       " 'relex_parcel_id': 'RX65102029',\n",
       " 'env': 'prod'}"
      ]
     },
     "execution_count": 35,
     "metadata": {},
     "output_type": "execute_result"
    }
   ],
   "source": [
    "res = req.put(url, json = body, headers = headers)\n",
    "res.json()"
   ]
  },
  {
   "cell_type": "markdown",
   "id": "0066093d",
   "metadata": {},
   "source": [
    "### Admin scan the parcel"
   ]
  },
  {
   "cell_type": "code",
   "execution_count": 23,
   "id": "9b18768d",
   "metadata": {},
   "outputs": [],
   "source": [
    "BASE_URL_API_Bean_Prod = \"http://relexbackendprod-env.eba-iajhavjx.eu-west-1.elasticbeanstalk.com\""
   ]
  },
  {
   "cell_type": "code",
   "execution_count": 24,
   "id": "40f3c1f4",
   "metadata": {},
   "outputs": [],
   "source": [
    "url = localurl + \"/admin/parcels/RX96895429?username=YC\""
   ]
  },
  {
   "cell_type": "code",
   "execution_count": 28,
   "id": "43772774",
   "metadata": {},
   "outputs": [
    {
     "data": {
      "text/plain": [
       "{'code': 200, 'message': 'NEW PARCEL ADDED TO RELEX'}"
      ]
     },
     "execution_count": 28,
     "metadata": {},
     "output_type": "execute_result"
    }
   ],
   "source": [
    "res = req.put(url, headers = headers)\n",
    "res.json()"
   ]
  },
  {
   "cell_type": "markdown",
   "id": "dadcb68d",
   "metadata": {},
   "source": [
    "### Integration check status"
   ]
  },
  {
   "cell_type": "code",
   "execution_count": 11,
   "id": "717ba2b2",
   "metadata": {},
   "outputs": [],
   "source": [
    "url = baseurl_yun_prod + \"/integration/parcels/status?parcelId=RX87470445\""
   ]
  },
  {
   "cell_type": "code",
   "execution_count": 12,
   "id": "1c1d683c",
   "metadata": {},
   "outputs": [
    {
     "data": {
      "text/plain": [
       "[{'original_parcel_id': 'Test000008',\n",
       "  'parcel_id': 'RX87470445',\n",
       "  'update_time': '2021-09-03 10:11:07',\n",
       "  'status': 'ARRIVED',\n",
       "  'update_by': 'paulmostyn'},\n",
       " {'original_parcel_id': 'Test000008',\n",
       "  'parcel_id': 'RX87470445',\n",
       "  'update_time': '2021-09-03 10:13:24',\n",
       "  'status': 'DELIVERING',\n",
       "  'update_by': 'paulmostyn'},\n",
       " {'original_parcel_id': 'Test000008',\n",
       "  'parcel_id': 'RX87470445',\n",
       "  'update_time': '2021-09-03 10:13:30',\n",
       "  'status': 'DELIVERED',\n",
       "  'update_by': 'paulmostyn'},\n",
       " {'original_parcel_id': 'Test000008',\n",
       "  'parcel_id': 'RX87470445',\n",
       "  'update_time': '2021-09-03 10:13:36',\n",
       "  'status': 'DELIVERING',\n",
       "  'update_by': 'paulmostyn'},\n",
       " {'original_parcel_id': 'Test000008',\n",
       "  'parcel_id': 'RX87470445',\n",
       "  'update_time': '2021-09-03 10:14:12',\n",
       "  'status': 'DELIVERED',\n",
       "  'update_by': 'paulmostyn'},\n",
       " {'original_parcel_id': 'Test000008',\n",
       "  'parcel_id': 'RX87470445',\n",
       "  'update_time': '2021-09-03 10:14:17',\n",
       "  'status': 'DELIVERING',\n",
       "  'update_by': 'paulmostyn'},\n",
       " {'original_parcel_id': 'Test000008',\n",
       "  'parcel_id': 'RX87470445',\n",
       "  'update_time': '2021-09-03 10:15:27',\n",
       "  'status': 'DELIVERY FAILED',\n",
       "  'update_by': 'paulmostyn',\n",
       "  'undelivered_reason': 'The item(s) in the parcel are missing'},\n",
       " {'original_parcel_id': 'Test000008',\n",
       "  'parcel_id': 'RX87470445',\n",
       "  'update_time': '2021-09-03 10:16:40',\n",
       "  'status': 'DELIVERING',\n",
       "  'update_by': 'janisorlovs'},\n",
       " {'original_parcel_id': 'Test000008',\n",
       "  'parcel_id': 'RX87470445',\n",
       "  'update_time': '2021-09-03 10:16:54',\n",
       "  'status': 'DELIVERED',\n",
       "  'update_by': 'janisorlovs'}]"
      ]
     },
     "execution_count": 12,
     "metadata": {},
     "output_type": "execute_result"
    }
   ],
   "source": [
    "res = req.get(url, headers = headers)\n",
    "res.json()"
   ]
  },
  {
   "cell_type": "markdown",
   "id": "f94cfabd",
   "metadata": {},
   "source": [
    "### Check Status"
   ]
  },
  {
   "cell_type": "code",
   "execution_count": 11,
   "id": "adb1c698",
   "metadata": {},
   "outputs": [],
   "source": [
    "parcelId = 'RX21018092'\n",
    "url = baseurl + '/parcels/status/' + parcelId"
   ]
  },
  {
   "cell_type": "code",
   "execution_count": 12,
   "id": "a1d47847",
   "metadata": {},
   "outputs": [
    {
     "data": {
      "text/plain": [
       "'{\"code\":200,\"message\":\"The current Status is: DELIVERED\"}'"
      ]
     },
     "execution_count": 12,
     "metadata": {},
     "output_type": "execute_result"
    }
   ],
   "source": [
    "res = req.get(url)\n",
    "res.text"
   ]
  },
  {
   "cell_type": "markdown",
   "id": "05ee14af",
   "metadata": {},
   "source": [
    "### Update Status"
   ]
  },
  {
   "cell_type": "code",
   "execution_count": 9,
   "id": "6fca183a",
   "metadata": {},
   "outputs": [],
   "source": [
    "url = baseurl + '/parcels/status/' + parcelId\n",
    "body = {\n",
    "    \"status\": \"DD\",\n",
    "    \"updateBy\": \"paulmostyn\",\n",
    "    \"updateTime\": \"2021-09-08T13:20:49.000\",\n",
    "}"
   ]
  },
  {
   "cell_type": "code",
   "execution_count": 10,
   "id": "75242607",
   "metadata": {},
   "outputs": [
    {
     "data": {
      "text/plain": [
       "'{\"code\":200,\"message\":\"Status is updated to: DELIVERED\"}'"
      ]
     },
     "execution_count": 10,
     "metadata": {},
     "output_type": "execute_result"
    }
   ],
   "source": [
    "res = req.post(url, json = body)\n",
    "res.text"
   ]
  },
  {
   "cell_type": "code",
   "execution_count": null,
   "id": "e82eef26",
   "metadata": {},
   "outputs": [],
   "source": []
  }
 ],
 "metadata": {
  "kernelspec": {
   "display_name": "Python 3",
   "language": "python",
   "name": "python3"
  },
  "language_info": {
   "codemirror_mode": {
    "name": "ipython",
    "version": 3
   },
   "file_extension": ".py",
   "mimetype": "text/x-python",
   "name": "python",
   "nbconvert_exporter": "python",
   "pygments_lexer": "ipython3",
   "version": "3.6.9"
  }
 },
 "nbformat": 4,
 "nbformat_minor": 5
}
