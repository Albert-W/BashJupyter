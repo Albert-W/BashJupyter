{
 "cells": [
  {
   "cell_type": "code",
   "execution_count": 1,
   "id": "challenging-purchase",
   "metadata": {},
   "outputs": [],
   "source": [
    "import os"
   ]
  },
  {
   "cell_type": "code",
   "execution_count": 2,
   "id": "occupational-walter",
   "metadata": {},
   "outputs": [
    {
     "name": "stdout",
     "output_type": "stream",
     "text": [
      "\u001b[0m\u001b[01;32m'Actuator Test.ipynb'\u001b[0m*  \u001b[01;32m'Elastic API.ipynb'\u001b[0m*          \u001b[01;32m'TLS test.ipynb'\u001b[0m*\r\n",
      "\u001b[01;32m'BRO Test.ipynb'\u001b[0m*       \u001b[01;32m'File (java).ipynb'\u001b[0m*           \u001b[34;42ma\u001b[0m/\r\n",
      "\u001b[01;32m'Bash command.ipynb'\u001b[0m*   \u001b[01;32m'Helm Command.ipynb'\u001b[0m*          \u001b[34;42md\u001b[0m/\r\n",
      "\u001b[01;32m'Bro Test TLS.ipynb'\u001b[0m*   \u001b[01;32m'Path (java).ipynb'\u001b[0m*           \u001b[01;32mfile.txt\u001b[0m*\r\n",
      " \u001b[01;32mCICD-Test.ipynb\u001b[0m*        \u001b[01;32mPath_Py.ipynb\u001b[0m*                \u001b[34;42mh\u001b[0m/\r\n",
      "\u001b[01;32m'CMYP test.ipynb'\u001b[0m*      \u001b[01;32m'Python network test.ipynb'\u001b[0m*   \u001b[01;32mlog_testing.ipynb\u001b[0m*\r\n",
      "\u001b[01;32m'Class Java.ipynb'\u001b[0m*      \u001b[01;32mREADME.md\u001b[0m*                    \u001b[01;32mtest.file\u001b[0m*\r\n",
      "\u001b[01;32m'Date & Time.ipynb'\u001b[0m*    \u001b[01;32m'String (java).ipynb'\u001b[0m*\r\n"
     ]
    }
   ],
   "source": [
    "ls"
   ]
  },
  {
   "cell_type": "code",
   "execution_count": 3,
   "id": "unlikely-substitute",
   "metadata": {},
   "outputs": [
    {
     "data": {
      "text/plain": [
       "True"
      ]
     },
     "execution_count": 3,
     "metadata": {},
     "output_type": "execute_result"
    }
   ],
   "source": [
    "os.path.isfile(\"file.txt\")"
   ]
  },
  {
   "cell_type": "code",
   "execution_count": 4,
   "id": "international-floating",
   "metadata": {},
   "outputs": [
    {
     "data": {
      "text/plain": [
       "False"
      ]
     },
     "execution_count": 4,
     "metadata": {},
     "output_type": "execute_result"
    }
   ],
   "source": [
    "os.path.isfile(\"*.txt\")"
   ]
  },
  {
   "cell_type": "code",
   "execution_count": 5,
   "id": "electric-privilege",
   "metadata": {},
   "outputs": [
    {
     "name": "stdout",
     "output_type": "stream",
     "text": [
      "\u001b[0m\u001b[01;32mfile.txt\u001b[0m*\r\n"
     ]
    }
   ],
   "source": [
    "ls *.txt"
   ]
  },
  {
   "cell_type": "code",
   "execution_count": null,
   "id": "favorite-genius",
   "metadata": {},
   "outputs": [],
   "source": []
  }
 ],
 "metadata": {
  "kernelspec": {
   "display_name": "Python 3",
   "language": "python",
   "name": "python3"
  },
  "language_info": {
   "codemirror_mode": {
    "name": "ipython",
    "version": 3
   },
   "file_extension": ".py",
   "mimetype": "text/x-python",
   "name": "python",
   "nbconvert_exporter": "python",
   "pygments_lexer": "ipython3",
   "version": "3.8.10"
  }
 },
 "nbformat": 4,
 "nbformat_minor": 5
}
