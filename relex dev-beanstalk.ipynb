{
 "cells": [
  {
   "cell_type": "code",
   "execution_count": 1,
   "id": "69b2c40e",
   "metadata": {},
   "outputs": [],
   "source": [
    "import requests as req"
   ]
  },
  {
   "cell_type": "code",
   "execution_count": 2,
   "id": "a2baa44f",
   "metadata": {},
   "outputs": [],
   "source": [
    "baseurl = 'http://relex.eu-west-1.elasticbeanstalk.com'"
   ]
  },
  {
   "cell_type": "code",
   "execution_count": 4,
   "id": "09aaf687",
   "metadata": {},
   "outputs": [
    {
     "data": {
      "text/plain": [
       "[{'original_parcel_id': 'YT2032421266102769',\n",
       "  'parcel_id': 'RX00001117',\n",
       "  'update_time': '2021-05-13 12:52:15',\n",
       "  'status': 'DELIVERING',\n",
       "  'update_by': 'Place Holder'},\n",
       " {'original_parcel_id': 'YT2032421266102769',\n",
       "  'parcel_id': 'RX00001117',\n",
       "  'update_time': '2021-05-16 18:49:18',\n",
       "  'status': 'DELIVERED',\n",
       "  'update_by': 'Place Holder'},\n",
       " {'original_parcel_id': 'YT2032421266102769',\n",
       "  'parcel_id': 'RX00001117',\n",
       "  'update_time': '2021-05-18 17:30:43',\n",
       "  'status': 'RETURNED',\n",
       "  'update_by': 'Place Holder'},\n",
       " {'original_parcel_id': 'YT2032421266102769',\n",
       "  'parcel_id': 'RX00001117',\n",
       "  'update_time': '2021-05-18 17:41:02',\n",
       "  'status': 'DELIVERING',\n",
       "  'update_by': 'Place Holder'},\n",
       " {'original_parcel_id': 'YT2032421266102769',\n",
       "  'parcel_id': 'RX00001117',\n",
       "  'update_time': '2021-05-18 17:42:08',\n",
       "  'status': 'RETURNED',\n",
       "  'update_by': 'Place Holder'},\n",
       " {'original_parcel_id': 'YT2032421266102769',\n",
       "  'parcel_id': 'RX00001117',\n",
       "  'update_time': '2021-05-18 17:45:05',\n",
       "  'status': 'DELIVERING',\n",
       "  'update_by': 'Place Holder'},\n",
       " {'original_parcel_id': 'YT2032421266102769',\n",
       "  'parcel_id': 'RX00001117',\n",
       "  'update_time': '2021-05-18 17:45:48',\n",
       "  'status': 'RETURNED',\n",
       "  'update_by': 'Place Holder'},\n",
       " {'original_parcel_id': 'YT2032421266102769',\n",
       "  'parcel_id': 'RX00001117',\n",
       "  'update_time': '2021-05-18 17:45:54',\n",
       "  'status': 'DELIVERING',\n",
       "  'update_by': 'Place Holder'},\n",
       " {'original_parcel_id': 'YT2032421266102769',\n",
       "  'parcel_id': 'RX00001117',\n",
       "  'update_time': '2021-05-18 17:46:03',\n",
       "  'status': 'RETURNED',\n",
       "  'update_by': 'Place Holder'},\n",
       " {'original_parcel_id': 'YT2032421266102769',\n",
       "  'parcel_id': 'RX00001117',\n",
       "  'update_time': '2021-05-18 17:46:09',\n",
       "  'status': 'DELIVERING',\n",
       "  'update_by': 'Place Holder'},\n",
       " {'original_parcel_id': 'YT2032421266102769',\n",
       "  'parcel_id': 'RX00001117',\n",
       "  'update_time': '2021-05-18 18:11:32',\n",
       "  'status': 'DELIVERED',\n",
       "  'update_by': 'Place Holder'},\n",
       " {'original_parcel_id': 'YT2032421266102769',\n",
       "  'parcel_id': 'RX00001117',\n",
       "  'update_time': '2021-05-18 18:15:25',\n",
       "  'status': 'DELIVERY FAILED',\n",
       "  'update_by': 'Place Holder'},\n",
       " {'original_parcel_id': 'YT2032421266102769',\n",
       "  'parcel_id': 'RX00001117',\n",
       "  'update_time': '2021-05-18 18:15:45',\n",
       "  'status': 'DELIVERED',\n",
       "  'update_by': 'Place Holder'},\n",
       " {'original_parcel_id': 'YT2032421266102769',\n",
       "  'parcel_id': 'RX00001117',\n",
       "  'update_time': '2021-05-18 18:16:11',\n",
       "  'status': 'RETURNED',\n",
       "  'update_by': 'Place Holder'},\n",
       " {'original_parcel_id': 'YT2032421266102769',\n",
       "  'parcel_id': 'RX00001117',\n",
       "  'update_time': '2021-05-18 18:17:05',\n",
       "  'status': 'DELIVERING',\n",
       "  'update_by': 'Place Holder'},\n",
       " {'original_parcel_id': 'YT2032421266102769',\n",
       "  'parcel_id': 'RX00001117',\n",
       "  'update_time': '2021-05-18 18:17:15',\n",
       "  'status': 'DELIVERY FAILED',\n",
       "  'update_by': 'Place Holder'},\n",
       " {'original_parcel_id': 'YT2032421266102769',\n",
       "  'parcel_id': 'RX00001117',\n",
       "  'update_time': '2021-05-18 18:18:25',\n",
       "  'status': 'RETURNED',\n",
       "  'update_by': 'Place Holder'},\n",
       " {'original_parcel_id': 'YT2032421266102769',\n",
       "  'parcel_id': 'RX00001117',\n",
       "  'update_time': '2021-05-18 18:20:37',\n",
       "  'status': 'DELIVERING',\n",
       "  'update_by': 'Place Holder'},\n",
       " {'original_parcel_id': 'YT2032421266102769',\n",
       "  'parcel_id': 'RX00001117',\n",
       "  'update_time': '2021-05-18 18:20:51',\n",
       "  'status': 'RETURNED',\n",
       "  'update_by': 'Place Holder'},\n",
       " {'original_parcel_id': 'YT2032421266102769',\n",
       "  'parcel_id': 'RX00001117',\n",
       "  'update_time': '2021-05-18 18:22:59',\n",
       "  'status': 'DELIVERING',\n",
       "  'update_by': 'Place Holder'},\n",
       " {'original_parcel_id': 'YT2032421266102769',\n",
       "  'parcel_id': 'RX00001117',\n",
       "  'update_time': '2021-05-18 18:23:10',\n",
       "  'status': 'DELIVERED',\n",
       "  'update_by': 'Place Holder'},\n",
       " {'original_parcel_id': 'YT2032421266102769',\n",
       "  'parcel_id': 'RX00001117',\n",
       "  'update_time': '2021-05-18 18:24:07',\n",
       "  'status': 'DELIVERY FAILED',\n",
       "  'update_by': 'Place Holder'},\n",
       " {'original_parcel_id': 'YT2032421266102769',\n",
       "  'parcel_id': 'RX00001117',\n",
       "  'update_time': '2021-05-18 18:24:26',\n",
       "  'status': 'DELIVERING',\n",
       "  'update_by': 'Place Holder'},\n",
       " {'original_parcel_id': 'YT2032421266102769',\n",
       "  'parcel_id': 'RX00001117',\n",
       "  'update_time': '2021-05-18 18:24:37',\n",
       "  'status': 'DELIVERED',\n",
       "  'update_by': 'Place Holder'},\n",
       " {'original_parcel_id': 'YT2032421266102769',\n",
       "  'parcel_id': 'RX00001117',\n",
       "  'update_time': '2021-05-18 18:26:14',\n",
       "  'status': 'DELIVERY FAILED',\n",
       "  'update_by': 'Place Holder'},\n",
       " {'original_parcel_id': 'YT2032421266102769',\n",
       "  'parcel_id': 'RX00001117',\n",
       "  'update_time': '2021-05-18 18:26:22',\n",
       "  'status': 'DELIVERING',\n",
       "  'update_by': 'Place Holder'},\n",
       " {'original_parcel_id': 'YT2032421266102769',\n",
       "  'parcel_id': 'RX00001117',\n",
       "  'update_time': '2021-05-18 18:27:12',\n",
       "  'status': 'DELIVERY FAILED',\n",
       "  'update_by': 'Place Holder'},\n",
       " {'original_parcel_id': 'YT2032421266102769',\n",
       "  'parcel_id': 'RX00001117',\n",
       "  'update_time': '2021-05-18 18:28:18',\n",
       "  'status': 'DELIVERING',\n",
       "  'update_by': 'Place Holder'},\n",
       " {'original_parcel_id': 'YT2032421266102769',\n",
       "  'parcel_id': 'RX00001117',\n",
       "  'update_time': '2021-05-18 18:32:17',\n",
       "  'status': 'DELIVERY FAILED',\n",
       "  'update_by': 'Place Holder'},\n",
       " {'original_parcel_id': 'YT2032421266102769',\n",
       "  'parcel_id': 'RX00001117',\n",
       "  'update_time': '2021-05-18 18:32:43',\n",
       "  'status': 'DELIVERED',\n",
       "  'update_by': 'Place Holder'},\n",
       " {'original_parcel_id': 'YT2032421266102769',\n",
       "  'parcel_id': 'RX00001117',\n",
       "  'update_time': '2021-05-18 18:32:54',\n",
       "  'status': 'DELIVERY FAILED',\n",
       "  'update_by': 'Place Holder'},\n",
       " {'original_parcel_id': 'YT2032421266102769',\n",
       "  'parcel_id': 'RX00001117',\n",
       "  'update_time': '2021-05-18 18:34:19',\n",
       "  'status': 'DELIVERING',\n",
       "  'update_by': 'Place Holder'},\n",
       " {'original_parcel_id': 'YT2032421266102769',\n",
       "  'parcel_id': 'RX00001117',\n",
       "  'update_time': '2021-05-18 18:36:12',\n",
       "  'status': 'DELIVERY FAILED',\n",
       "  'update_by': 'Place Holder'},\n",
       " {'original_parcel_id': 'YT2032421266102769',\n",
       "  'parcel_id': 'RX00001117',\n",
       "  'update_time': '2021-05-18 18:52:53',\n",
       "  'status': 'DELIVERING',\n",
       "  'update_by': 'Place Holder'},\n",
       " {'original_parcel_id': 'YT2032421266102769',\n",
       "  'parcel_id': 'RX00001117',\n",
       "  'update_time': '2021-05-18 19:28:10',\n",
       "  'status': 'DELIVERY FAILED',\n",
       "  'update_by': 'Place Holder'},\n",
       " {'original_parcel_id': 'YT2032421266102769',\n",
       "  'parcel_id': 'RX00001117',\n",
       "  'update_time': '2021-05-22 16:58:51',\n",
       "  'status': 'DELIVERED',\n",
       "  'update_by': 'u1'},\n",
       " {'original_parcel_id': 'YT2032421266102769',\n",
       "  'parcel_id': 'RX00001117',\n",
       "  'update_time': '2021-05-26 00:13:16',\n",
       "  'status': 'DELIVERY FAILED',\n",
       "  'update_by': 'u1',\n",
       "  'undelivered_reason': 'The item(s) in the parcel are broken'},\n",
       " {'original_parcel_id': 'YT2032421266102769',\n",
       "  'parcel_id': 'RX00001117',\n",
       "  'update_time': '2021-05-26 00:14:14',\n",
       "  'status': 'DELIVERED',\n",
       "  'update_by': 'u1'},\n",
       " {'original_parcel_id': 'YT2032421266102769',\n",
       "  'parcel_id': 'RX00001117',\n",
       "  'update_time': '2021-09-02 02:32:26',\n",
       "  'status': 'DELIVERING',\n",
       "  'update_by': 'u1'},\n",
       " {'original_parcel_id': 'YT2032421266102769',\n",
       "  'parcel_id': 'RX00001117',\n",
       "  'update_time': '2021-09-06 21:35:45',\n",
       "  'status': 'DELIVERY FAILED',\n",
       "  'update_by': 'u1',\n",
       "  'undelivered_reason': 'The item(s) in the parcel are broken'},\n",
       " {'original_parcel_id': 'YT2032421266102769',\n",
       "  'parcel_id': 'RX00001117',\n",
       "  'update_time': '2021-09-06 22:15:55',\n",
       "  'status': 'DELIVERING',\n",
       "  'update_by': 'u1'},\n",
       " {'original_parcel_id': 'YT2032421266102769',\n",
       "  'parcel_id': 'RX00001117',\n",
       "  'update_time': '2021-09-06 22:24:48',\n",
       "  'status': 'DELIVERED',\n",
       "  'update_by': 'u1'},\n",
       " {'original_parcel_id': 'YT2032421266102769',\n",
       "  'parcel_id': 'RX00001117',\n",
       "  'update_time': '2021-09-06 22:56:44',\n",
       "  'status': 'DELIVERING',\n",
       "  'update_by': 'u1'},\n",
       " {'original_parcel_id': 'YT2032421266102769',\n",
       "  'parcel_id': 'RX00001117',\n",
       "  'update_time': '2021-10-06 22:03:28',\n",
       "  'status': 'DELIVERED',\n",
       "  'update_by': 'u1'},\n",
       " {'original_parcel_id': 'YT2032421266102769',\n",
       "  'parcel_id': 'RX00001117',\n",
       "  'update_time': '2021-10-06 22:03:28',\n",
       "  'status': 'DELIVERING',\n",
       "  'update_by': 'u1'},\n",
       " {'original_parcel_id': 'YT2032421266102769',\n",
       "  'parcel_id': 'RX00001117',\n",
       "  'update_time': '2021-10-26 20:38:52',\n",
       "  'status': 'DELIVERED',\n",
       "  'update_by': 'u1'},\n",
       " {'original_parcel_id': 'YT2032421266102769',\n",
       "  'parcel_id': 'RX00001117',\n",
       "  'update_time': '2021-10-26 20:39:30',\n",
       "  'status': 'DELIVERY FAILED',\n",
       "  'update_by': 'u1',\n",
       "  'undelivered_reason': 'No one at home when delivery'},\n",
       " {'original_parcel_id': 'YT2032421266102769',\n",
       "  'parcel_id': 'RX00001117',\n",
       "  'update_time': '2021-10-26 20:38:52',\n",
       "  'status': 'DELIVERY FAILED',\n",
       "  'update_by': 'u1',\n",
       "  'undelivered_reason': 'No one at home when delivery'},\n",
       " {'original_parcel_id': 'YT2032421266102769',\n",
       "  'parcel_id': 'RX00001117',\n",
       "  'update_time': '2021-10-26 20:38:52',\n",
       "  'status': 'DELIVERY FAILED',\n",
       "  'update_by': 'u1',\n",
       "  'undelivered_reason': 'No one at home when delivery'},\n",
       " {'original_parcel_id': 'YT2032421266102769',\n",
       "  'parcel_id': 'RX00001117',\n",
       "  'update_time': '2021-10-26 20:52:27',\n",
       "  'status': 'DELIVERING',\n",
       "  'update_by': 'u1'},\n",
       " {'original_parcel_id': 'YT2032421266102769',\n",
       "  'parcel_id': 'RX00001117',\n",
       "  'update_time': '2021-10-26 21:53:12',\n",
       "  'status': 'DELIVERED',\n",
       "  'update_by': 'u1'},\n",
       " {'original_parcel_id': 'YT2032421266102769',\n",
       "  'parcel_id': 'RX00001117',\n",
       "  'update_time': '2021-10-26 21:53:23',\n",
       "  'status': 'DELIVERY FAILED',\n",
       "  'update_by': 'u1',\n",
       "  'undelivered_reason': 'The item(s) in the parcel are broken'},\n",
       " {'original_parcel_id': 'YT2032421266102769',\n",
       "  'parcel_id': 'RX00001117',\n",
       "  'update_time': '2021-10-26 21:53:20',\n",
       "  'status': 'DELIVERED',\n",
       "  'update_by': 'u1'},\n",
       " {'original_parcel_id': 'YT2032421266102769',\n",
       "  'parcel_id': 'RX00001117',\n",
       "  'update_time': '2021-10-26 21:53:17',\n",
       "  'status': 'DELIVERY FAILED',\n",
       "  'update_by': 'u1',\n",
       "  'undelivered_reason': 'The item(s) in the parcel are broken'},\n",
       " {'original_parcel_id': 'YT2032421266102769',\n",
       "  'parcel_id': 'RX00001117',\n",
       "  'update_time': '2021-10-26 21:53:17',\n",
       "  'status': 'DELIVERY FAILED',\n",
       "  'update_by': 'u1',\n",
       "  'undelivered_reason': 'The item(s) in the parcel are broken'},\n",
       " {'original_parcel_id': 'YT2032421266102769',\n",
       "  'parcel_id': 'RX00001117',\n",
       "  'update_time': '2021-10-26 21:53:12',\n",
       "  'status': 'DELIVERY FAILED',\n",
       "  'update_by': 'u1',\n",
       "  'undelivered_reason': 'The item(s) in the parcel are broken'},\n",
       " {'original_parcel_id': 'YT2032421266102769',\n",
       "  'parcel_id': 'RX00001117',\n",
       "  'update_time': '2021-10-26 21:53:20',\n",
       "  'status': 'DELIVERY FAILED',\n",
       "  'update_by': 'u1',\n",
       "  'undelivered_reason': 'The item(s) in the parcel are broken'},\n",
       " {'original_parcel_id': 'YT2032421266102769',\n",
       "  'parcel_id': 'RX00001117',\n",
       "  'update_time': '2021-10-26 21:53:17',\n",
       "  'status': 'DELIVERY FAILED',\n",
       "  'update_by': 'u1',\n",
       "  'undelivered_reason': 'The item(s) in the parcel are broken'},\n",
       " {'original_parcel_id': 'YT2032421266102769',\n",
       "  'parcel_id': 'RX00001117',\n",
       "  'update_time': '2021-10-26 21:53:12',\n",
       "  'status': 'DELIVERY FAILED',\n",
       "  'update_by': 'u1',\n",
       "  'undelivered_reason': 'The item(s) in the parcel are broken'},\n",
       " {'original_parcel_id': 'YT2032421266102769',\n",
       "  'parcel_id': 'RX00001117',\n",
       "  'update_time': '2021-10-26 21:53:12',\n",
       "  'status': 'DELIVERY FAILED',\n",
       "  'update_by': 'u1',\n",
       "  'undelivered_reason': 'The item(s) in the parcel are broken'},\n",
       " {'original_parcel_id': 'YT2032421266102769',\n",
       "  'parcel_id': 'RX00001117',\n",
       "  'update_time': '2021-10-26 21:53:17',\n",
       "  'status': 'DELIVERY FAILED',\n",
       "  'update_by': 'u1',\n",
       "  'undelivered_reason': 'The item(s) in the parcel are broken'},\n",
       " {'original_parcel_id': 'YT2032421266102769',\n",
       "  'parcel_id': 'RX00001117',\n",
       "  'update_time': '2021-10-26 21:53:12',\n",
       "  'status': 'DELIVERY FAILED',\n",
       "  'update_by': 'u1',\n",
       "  'undelivered_reason': 'The item(s) in the parcel are broken'},\n",
       " {'original_parcel_id': 'YT2032421266102769',\n",
       "  'parcel_id': 'RX00001117',\n",
       "  'update_time': '2021-10-26 21:53:12',\n",
       "  'status': 'DELIVERY FAILED',\n",
       "  'update_by': 'u1',\n",
       "  'undelivered_reason': 'The item(s) in the parcel are broken'}]"
      ]
     },
     "execution_count": 4,
     "metadata": {},
     "output_type": "execute_result"
    }
   ],
   "source": [
    "url = baseurl + '/integration/parcels/status?parcelId=YT2032421266102769'\n",
    "\n",
    "result = req.get(url)\n",
    "result.json()"
   ]
  },
  {
   "cell_type": "code",
   "execution_count": 8,
   "id": "60790cff",
   "metadata": {},
   "outputs": [],
   "source": [
    "url = baseurl + '/integration/parcels/init'"
   ]
  },
  {
   "cell_type": "code",
   "execution_count": 27,
   "id": "2d3e91b1",
   "metadata": {},
   "outputs": [],
   "source": [
    "body = {\n",
    "    \"originalParcelId\": \"RL1eggf842\",\n",
    "    \"shipping_date\": \"2021-04-03T19:02:22.768Z\",\n",
    "    \"create_date\": \"2021-04-03T19:02:22.768Z\",\n",
    "    \"carrier\": \"Relex Logistic\",\n",
    "    \"order_number\": \"\",\n",
    "    \"comments\": \"\",\n",
    "    \"parcel_value\": 2,\n",
    "    \"parcel_value_currency\": \"EURO\",\n",
    "    \"parcel_width\": 1,\n",
    "    \"parcel_height\": 1,\n",
    "    \"parcel_weight\": 1,\n",
    "    \"parcel_length\": 1,\n",
    "    \"itemQuantity\": 2,\n",
    "    \"recipient\": {\n",
    "        \"name\": \"小明\",\n",
    "        \"first_name\": \"Cierra\",\n",
    "        \"last_name\": \"Daniel\",\n",
    "        \"salutation\": \"Mr\",\n",
    "        \"company_name\": \"Hammes, Ward and Green\",\n",
    "        \"email_address\": \"Garret_Boyer@yahoo.com\",\n",
    "        \"contact_number1\": \"675-879-0566 x810\",\n",
    "        \"contact_number2\": \"825-425-2165 x05795\",\n",
    "        \"address\": {\n",
    "            \"address1\": \"Suite 494\",\n",
    "            \"address2\": \"866 Zula Camp\",\n",
    "            \"address3\": \"Cambridgeshire\",\n",
    "            \"city\": \"Dublin\",\n",
    "            \"state\": \"Co.Dublin\",\n",
    "            \"province\": \"Dublin\",\n",
    "            \"postcode\": \"D02EX03\",\n",
    "            \"country\": \"Ireland\",\n",
    "            \"county\": \"Dublin\"\n",
    "        }\n",
    "    },\n",
    "    \"sender\": {\n",
    "        \"name\":\"haha\",\n",
    "        \"first_name\": \"Cierra\",\n",
    "        \"last_name\": \"Daniel\",\n",
    "        \"salutation\": \"Mr\",\n",
    "        \"company_name\": \"Parisian and Sons\",\n",
    "        \"email_address\": \"Lazaro.Hahn1@gmail.com\",\n",
    "        \"contact_number1\": \"(346) 249-3358\",\n",
    "        \"contact_number2\": \"(701) 243-2304 x573\",\n",
    "        \"address\": {\n",
    "            \"address1\": \"Apt. 409\",\n",
    "            \"address2\": \"94147 Orin Bypass\",\n",
    "            \"address3\": \"Bedfordshire\",\n",
    "            \"city\": \"Beijing\",\n",
    "            \"province\": \"Beijing\",\n",
    "            \"state\": \"Beijing\",\n",
    "            \"postcode\": \"100001\",\n",
    "            \"country\": \"China\",\n",
    "            \"county\": \"\"\n",
    "        }\n",
    "    }\n",
    "}"
   ]
  },
  {
   "cell_type": "code",
   "execution_count": 28,
   "id": "4648996c",
   "metadata": {},
   "outputs": [
    {
     "data": {
      "text/plain": [
       "'{\"code\":200,\"message\":\"Items put success\",\"relex_parcel_id\":\"RX65216371\"}'"
      ]
     },
     "execution_count": 28,
     "metadata": {},
     "output_type": "execute_result"
    }
   ],
   "source": [
    "res = req.put(url, json = body)\n",
    "res.text"
   ]
  },
  {
   "cell_type": "code",
   "execution_count": 7,
   "id": "271d8a8a",
   "metadata": {},
   "outputs": [
    {
     "data": {
      "text/plain": [
       "'RX40569444'"
      ]
     },
     "execution_count": 7,
     "metadata": {},
     "output_type": "execute_result"
    }
   ],
   "source": [
    "parcelId = res.json()['relex_parcel_id']\n",
    "parcelId"
   ]
  },
  {
   "cell_type": "markdown",
   "id": "bea76cbf",
   "metadata": {},
   "source": [
    "### Admin scan a parcel"
   ]
  },
  {
   "cell_type": "code",
   "execution_count": 8,
   "id": "c23e2bd7",
   "metadata": {},
   "outputs": [
    {
     "data": {
      "text/plain": [
       "\"http://relex.eu-west-1.elasticbeanstalk.com/admin/parcels/RX40569444?username='YC'\""
      ]
     },
     "execution_count": 8,
     "metadata": {},
     "output_type": "execute_result"
    }
   ],
   "source": [
    "url = baseurl + '/admin/parcels/' + parcelId + \"?username='YC'\"\n",
    "url"
   ]
  },
  {
   "cell_type": "code",
   "execution_count": 9,
   "id": "9f77057a",
   "metadata": {},
   "outputs": [
    {
     "data": {
      "text/plain": [
       "{'code': 2002,\n",
       " 'message': \"The current status is DI, which can't be set as arrived.\"}"
      ]
     },
     "execution_count": 9,
     "metadata": {},
     "output_type": "execute_result"
    }
   ],
   "source": [
    "res = req.put(url)\n",
    "res.json()"
   ]
  },
  {
   "cell_type": "markdown",
   "id": "df4efac9",
   "metadata": {},
   "source": [
    "### Driver scan a parcel"
   ]
  },
  {
   "cell_type": "code",
   "execution_count": 6,
   "id": "d0c7f555",
   "metadata": {},
   "outputs": [],
   "source": [
    "parcelId = 'RX98480945'"
   ]
  },
  {
   "cell_type": "code",
   "execution_count": 7,
   "id": "edcb2da2",
   "metadata": {},
   "outputs": [
    {
     "data": {
      "text/plain": [
       "'http://relex.eu-west-1.elasticbeanstalk.com/driver/parcels/RX98480945?username=ParcelUpdateDriverTest'"
      ]
     },
     "execution_count": 7,
     "metadata": {},
     "output_type": "execute_result"
    }
   ],
   "source": [
    "url = baseurl + '/driver/parcels/' + parcelId + \"?username=ParcelUpdateDriverTest\"\n",
    "url"
   ]
  },
  {
   "cell_type": "code",
   "execution_count": 8,
   "id": "624616de",
   "metadata": {},
   "outputs": [
    {
     "data": {
      "text/plain": [
       "'{\"code\":200,\"message\":\"THE PARCEL STATUS SET TO DELIVERING\"}'"
      ]
     },
     "execution_count": 8,
     "metadata": {},
     "output_type": "execute_result"
    }
   ],
   "source": [
    "res = req.put(url)\n",
    "res.text"
   ]
  },
  {
   "cell_type": "markdown",
   "id": "424f70a0",
   "metadata": {},
   "source": [
    "### Driver get their list"
   ]
  },
  {
   "cell_type": "code",
   "execution_count": 12,
   "id": "5223c4a3",
   "metadata": {},
   "outputs": [
    {
     "data": {
      "text/plain": [
       "'http://relex.eu-west-1.elasticbeanstalk.com/parcels/YC'"
      ]
     },
     "execution_count": 12,
     "metadata": {},
     "output_type": "execute_result"
    }
   ],
   "source": [
    "url = baseurl + '/parcels/' + \"YC\"\n",
    "url"
   ]
  },
  {
   "cell_type": "code",
   "execution_count": 13,
   "id": "5143b44e",
   "metadata": {},
   "outputs": [
    {
     "data": {
      "text/plain": [
       "[{'id': 3423,\n",
       "  'parcelId': 'RX40569444',\n",
       "  'status': 'DI',\n",
       "  'updateBy': 'YC',\n",
       "  'updateTime': '2021-06-26T11:43:17.000+00:00'},\n",
       " {'id': 3420,\n",
       "  'parcelId': 'RX86637449',\n",
       "  'status': 'DI',\n",
       "  'updateBy': 'YC',\n",
       "  'updateTime': '2021-06-26T10:36:51.000+00:00'},\n",
       " {'id': 197,\n",
       "  'parcelId': 'RX42049983',\n",
       "  'status': 'DI',\n",
       "  'updateBy': 'YC',\n",
       "  'updateTime': '2021-05-18T20:42:31.000+00:00'},\n",
       " {'id': 138,\n",
       "  'parcelId': 'RX72859595',\n",
       "  'status': 'DI',\n",
       "  'updateBy': 'YC',\n",
       "  'updateTime': '2021-05-17T21:35:07.000+00:00'},\n",
       " {'id': 76,\n",
       "  'parcelId': 'RX36256467',\n",
       "  'status': 'DI',\n",
       "  'updateBy': 'YC',\n",
       "  'updateTime': '2021-05-05T22:10:12.000+00:00'},\n",
       " {'id': 61,\n",
       "  'parcelId': 'RX20806521',\n",
       "  'status': 'DI',\n",
       "  'updateBy': 'YC',\n",
       "  'updateTime': '2021-05-05T21:34:45.000+00:00'},\n",
       " {'id': 60,\n",
       "  'parcelId': 'RX44848452',\n",
       "  'status': 'DD',\n",
       "  'updateBy': 'YC',\n",
       "  'updateTime': '2021-05-03T20:25:00.000+00:00'},\n",
       " {'id': 59,\n",
       "  'parcelId': 'RX57110387',\n",
       "  'status': 'DF',\n",
       "  'updateBy': 'YC',\n",
       "  'updateTime': '2021-05-03T09:49:28.000+00:00',\n",
       "  'undeliveredReason': 'NH'},\n",
       " {'id': 50,\n",
       "  'parcelId': 'RX72695829',\n",
       "  'status': 'DD',\n",
       "  'updateBy': 'YC',\n",
       "  'updateTime': '2021-05-01T17:04:03.000+00:00'},\n",
       " {'id': 42,\n",
       "  'parcelId': 'RX21490659',\n",
       "  'status': 'DD',\n",
       "  'updateBy': 'YC',\n",
       "  'updateTime': '2021-05-01T16:35:04.000+00:00'},\n",
       " {'id': 33,\n",
       "  'parcelId': 'parcel_0001',\n",
       "  'status': 'RE',\n",
       "  'updateBy': 'YC',\n",
       "  'updateTime': '2021-05-01T10:56:21.000+00:00',\n",
       "  'undeliveredReason': 'OT'},\n",
       " {'id': 14,\n",
       "  'parcelId': 'parcel_0002',\n",
       "  'status': 'DF',\n",
       "  'updateBy': 'YC',\n",
       "  'comments': 'Wonderful',\n",
       "  'updateTime': '2021-04-28T19:50:49.000+00:00'}]"
      ]
     },
     "execution_count": 13,
     "metadata": {},
     "output_type": "execute_result"
    }
   ],
   "source": [
    "res = req.get(url)\n",
    "res.json()"
   ]
  },
  {
   "cell_type": "markdown",
   "id": "358c3f58",
   "metadata": {},
   "source": [
    "### Sync"
   ]
  },
  {
   "cell_type": "code",
   "execution_count": 5,
   "id": "81c2d9d2",
   "metadata": {},
   "outputs": [],
   "source": [
    "url = baseurl + '/sync/'"
   ]
  },
  {
   "cell_type": "code",
   "execution_count": 6,
   "id": "8767e07c",
   "metadata": {},
   "outputs": [],
   "source": [
    "body = {\n",
    "    \"parcelId\": \"RX00001111\",\n",
    "    \"status\": \"DI\",\n",
    "    \"updateBy\": \"driverId\",\n",
    "    \"updateTime\": \"2021-08-27\",\n",
    "    \"undeliveredReason\": \"No one at home\",\n",
    "    \"comments\":\"no comments yet\"\n",
    "}"
   ]
  },
  {
   "cell_type": "code",
   "execution_count": 7,
   "id": "02c8a8f0",
   "metadata": {},
   "outputs": [
    {
     "data": {
      "text/plain": [
       "'{\"code\":200,\"message\":\"Status is updated to: DELIVERING\"}'"
      ]
     },
     "execution_count": 7,
     "metadata": {},
     "output_type": "execute_result"
    }
   ],
   "source": [
    "res = req.put(url, json = body)\n",
    "res.text"
   ]
  },
  {
   "cell_type": "code",
   "execution_count": null,
   "id": "7a2780e9",
   "metadata": {},
   "outputs": [],
   "source": []
  }
 ],
 "metadata": {
  "kernelspec": {
   "display_name": "Python 3",
   "language": "python",
   "name": "python3"
  },
  "language_info": {
   "codemirror_mode": {
    "name": "ipython",
    "version": 3
   },
   "file_extension": ".py",
   "mimetype": "text/x-python",
   "name": "python",
   "nbconvert_exporter": "python",
   "pygments_lexer": "ipython3",
   "version": "3.6.9"
  }
 },
 "nbformat": 4,
 "nbformat_minor": 5
}
