{
 "cells": [
  {
   "cell_type": "code",
   "execution_count": 1,
   "id": "8233a7a6",
   "metadata": {},
   "outputs": [],
   "source": [
    "InetAddress address = InetAddress.getLocalHost();"
   ]
  },
  {
   "cell_type": "code",
   "execution_count": 2,
   "id": "0a87c6e6",
   "metadata": {},
   "outputs": [
    {
     "data": {
      "text/plain": [
       "DESKTOP-G9HMI6L"
      ]
     },
     "execution_count": 2,
     "metadata": {},
     "output_type": "execute_result"
    }
   ],
   "source": [
    "address.getHostName()"
   ]
  },
  {
   "cell_type": "code",
   "execution_count": 3,
   "id": "052e723f",
   "metadata": {},
   "outputs": [
    {
     "data": {
      "text/plain": [
       "127.0.1.1"
      ]
     },
     "execution_count": 3,
     "metadata": {},
     "output_type": "execute_result"
    }
   ],
   "source": [
    "address.getHostAddress()"
   ]
  },
  {
   "cell_type": "code",
   "execution_count": 4,
   "id": "f49db502",
   "metadata": {},
   "outputs": [
    {
     "data": {
      "text/plain": [
       "[B@1fd7dc92"
      ]
     },
     "execution_count": 4,
     "metadata": {},
     "output_type": "execute_result"
    }
   ],
   "source": [
    "address.getAddress()"
   ]
  },
  {
   "cell_type": "code",
   "execution_count": 5,
   "id": "6e2178d4",
   "metadata": {},
   "outputs": [
    {
     "data": {
      "text/plain": [
       "[127, 0, 1, 1]"
      ]
     },
     "execution_count": 5,
     "metadata": {},
     "output_type": "execute_result"
    }
   ],
   "source": [
    "Arrays.toString(address.getAddress())"
   ]
  },
  {
   "cell_type": "code",
   "execution_count": 6,
   "id": "7ffe2458",
   "metadata": {},
   "outputs": [
    {
     "data": {
      "text/plain": [
       "DESKTOP-G9HMI6L/127.0.1.1"
      ]
     },
     "execution_count": 6,
     "metadata": {},
     "output_type": "execute_result"
    }
   ],
   "source": [
    "address"
   ]
  },
  {
   "cell_type": "code",
   "execution_count": 8,
   "id": "197285a9",
   "metadata": {},
   "outputs": [],
   "source": [
    "InetAddress address2 = InetAddress.getByName(\"DESKTOP-G9HMI6L\");"
   ]
  },
  {
   "cell_type": "code",
   "execution_count": 9,
   "id": "9d0e6219",
   "metadata": {},
   "outputs": [
    {
     "data": {
      "text/plain": [
       "DESKTOP-G9HMI6L/127.0.1.1"
      ]
     },
     "execution_count": 9,
     "metadata": {},
     "output_type": "execute_result"
    }
   ],
   "source": [
    "address2"
   ]
  },
  {
   "cell_type": "markdown",
   "id": "d811a031",
   "metadata": {},
   "source": [
    "### URL"
   ]
  },
  {
   "cell_type": "code",
   "execution_count": 10,
   "id": "a8950bb8",
   "metadata": {},
   "outputs": [],
   "source": [
    "URL imooc = new URL(\"http://www.imooc.com\")"
   ]
  },
  {
   "cell_type": "code",
   "execution_count": 11,
   "id": "d3ad2c93",
   "metadata": {},
   "outputs": [
    {
     "data": {
      "text/html": [
       "<a src=\"http%3A%2F%2Fwww.imooc.com\""
      ],
      "text/plain": [
       "http://www.imooc.com"
      ]
     },
     "execution_count": 11,
     "metadata": {},
     "output_type": "execute_result"
    }
   ],
   "source": [
    "imooc"
   ]
  },
  {
   "cell_type": "code",
   "execution_count": 12,
   "id": "8406b922",
   "metadata": {},
   "outputs": [
    {
     "data": {
      "text/plain": [
       "http://www.imooc.com"
      ]
     },
     "execution_count": 12,
     "metadata": {},
     "output_type": "execute_result"
    }
   ],
   "source": [
    "imooc.toString()"
   ]
  },
  {
   "cell_type": "code",
   "execution_count": 13,
   "id": "7359cd62",
   "metadata": {},
   "outputs": [],
   "source": [
    "URL imoocIndex = new URL(imooc, \"/index.html?x=y#z\")"
   ]
  },
  {
   "cell_type": "code",
   "execution_count": 14,
   "id": "b122ad22",
   "metadata": {},
   "outputs": [
    {
     "data": {
      "text/plain": [
       "http://www.imooc.com/index.html?x=y#z"
      ]
     },
     "execution_count": 14,
     "metadata": {},
     "output_type": "execute_result"
    }
   ],
   "source": [
    "imoocIndex.toString()"
   ]
  },
  {
   "cell_type": "code",
   "execution_count": 15,
   "id": "64798227",
   "metadata": {},
   "outputs": [
    {
     "data": {
      "text/plain": [
       "http"
      ]
     },
     "execution_count": 15,
     "metadata": {},
     "output_type": "execute_result"
    }
   ],
   "source": [
    "imoocIndex.getProtocol()"
   ]
  },
  {
   "cell_type": "code",
   "execution_count": 16,
   "id": "e70a2ab5",
   "metadata": {},
   "outputs": [
    {
     "data": {
      "text/plain": [
       "www.imooc.com"
      ]
     },
     "execution_count": 16,
     "metadata": {},
     "output_type": "execute_result"
    }
   ],
   "source": [
    "imoocIndex.getHost()"
   ]
  },
  {
   "cell_type": "code",
   "execution_count": 17,
   "id": "c22a47cd",
   "metadata": {},
   "outputs": [
    {
     "data": {
      "text/plain": [
       "-1"
      ]
     },
     "execution_count": 17,
     "metadata": {},
     "output_type": "execute_result"
    }
   ],
   "source": [
    "imoocIndex.getPort() //"
   ]
  },
  {
   "cell_type": "code",
   "execution_count": null,
   "id": "d39b81b3",
   "metadata": {},
   "outputs": [],
   "source": []
  }
 ],
 "metadata": {
  "kernelspec": {
   "display_name": "Java",
   "language": "java",
   "name": "java"
  },
  "language_info": {
   "codemirror_mode": "java",
   "file_extension": ".jshell",
   "mimetype": "text/x-java-source",
   "name": "Java",
   "pygments_lexer": "java",
   "version": "11.0.11+9-Ubuntu-0ubuntu2.18.04"
  }
 },
 "nbformat": 4,
 "nbformat_minor": 5
}
